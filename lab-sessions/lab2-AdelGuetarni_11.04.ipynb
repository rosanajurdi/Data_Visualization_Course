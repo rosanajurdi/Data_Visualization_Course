{
 "cells": [
  {
   "cell_type": "markdown",
   "id": "5d5be086",
   "metadata": {},
   "source": []
  },
  {
   "cell_type": "markdown",
   "id": "d8a1805e-eff9-40b1-8622-80f3a62ae4f8",
   "metadata": {},
   "source": [
    "<table>\n",
    "  <tr>\n",
    "    <td style=\"text-align: center;\">\n",
    "      <img src=\"./images/pandas.png\" alt=\"Pandas Logo\"  style=\"margin-bottom: 80px;\"/><br>\n",
    "      <a href=\"https://pandas.pydata.org/docs/\" target=\"_blank\" style=\"text-decoration: none; color: black; font-weight: bold;\">Pandas</a>\n",
    "    </td>\n",
    "    <td style=\"text-align: center;\">\n",
    "      <img src=\"./images/seaborn.svg\" alt=\"Seaborn Logo\"  style=\"margin-bottom: 80px;\" /><br>\n",
    "      <a href=\"https://seaborn.pydata.org/api.html\" target=\"_blank\" style=\"text-decoration: none; color: black; font-weight: bold;\">Seaborn</a>\n",
    "    </td>\n",
    "    <td style=\"text-align: center;\">\n",
    "      <img src=\"./images/Plotly-logo.png\" alt=\"Plotly Logo\"  style=\"margin-bottom: 80px;\" /><br>\n",
    "      <a href=\"https://plotly.com/python-api-reference/\" target=\"_blank\" style=\"text-decoration: none; color: black; font-weight: bold;\">Plotly</a>\n",
    "    </td>\n",
    "    <td style=\"text-align: center;\">\n",
    "      <img src=\"./images/altair-logo-light.png\" alt=\"Altair Logo\" style=\"margin-bottom: 50px;\"/><br>\n",
    "      <a href=\"https://altair-viz.github.io/documentation/\" target=\"_blank\" style=\"text-decoration: none; color: black; font-weight: bold;\">Altair</a>\n",
    "    </td>\n",
    "  </tr>\n",
    "</table>"
   ]
  },
  {
   "cell_type": "markdown",
   "id": "540eb825-cbc4-4296-9769-95a7d7def77c",
   "metadata": {},
   "source": [
    "##   Introduction aux Diagrammes à Barres\n",
    "\n",
    "Les diagrammes à barres sont un outil de visualisation fondamental utilisé pour afficher des données catégorielles avec des barres rectangulaires. La longueur de chaque barre est proportionnelle à la valeur qu'elle représente. Les diagrammes à barres sont excellents pour comparer des quantités entre différentes catégories.\n",
    "\n",
    "**Quand utiliser les diagrammes à barres :**\n",
    "\n",
    "* Comparaison de données catégorielles.\n",
    "* Affichage de la fréquence ou du nombre de différentes catégories.\n",
    "* Visualisation des tendances entre les catégories.\n",
    "\n",
    "**Terminologie de base :**\n",
    "\n",
    "* Barres : Les colonnes rectangulaires représentant les valeurs des données.\n",
    "* Axes : Les lignes horizontales (axe des x) et verticales (axe des y) qui définissent le graphique.\n",
    "* Étiquettes : Le texte qui décrit les catégories et les valeurs.\n",
    "* Titre : La description générale du graphique."
   ]
  },
  {
   "cell_type": "markdown",
   "id": "db48efd2",
   "metadata": {},
   "source": [
    "<hr style=\"border: 2px solid black;\">"
   ]
  },
  {
   "cell_type": "markdown",
   "id": "b1299bca-2b0f-4b01-9524-7b4a666155ae",
   "metadata": {},
   "source": [
    "## Exercice : Analyse de Diamants avec les Bibliothèques de Visualisation\n",
    "\n",
    "Avant de commencer cet exercice, veuillez lire la documentation des bibliothèques suivantes pour vous familiariser avec leurs fonctionnalités de base :\n",
    "\n",
    "* Matplotlib : [https://matplotlib.org/](https://matplotlib.org/)\n",
    "* Seaborn : [https://seaborn.pydata.org/](https://seaborn.pydata.org/)\n",
    "* Plotly : [https://plotly.com/python/](https://plotly.com/python/)\n",
    "* Altair : [https://altair-viz.github.io/](https://altair-viz.github.io/)\n",
    "\n",
    "Vous disposez d'un ensemble de données contenant des informations sur divers diamants. Votre tâche est de réaliser l'analyse et les visualisations suivantes en utilisant Matplotlib, Seaborn, Plotly et Altair. Pour chaque visualisation, fournissez un bref commentaire sur ce que vous observez concernant les forces et les faiblesses de chaque bibliothèque pour cette tâche particulière.\n",
    "\n",
    "1.  **Chargement et Inspection des Données :**\n",
    "\n",
    "    * Chargez l'ensemble de données à partir de l'URL fourni : `\"https://raw.githubusercontent.com/TrainingByPackt/Interactive-Data-Visualization-with-Python/master/datasets/diamonds.csv\"`\n",
    "    * Affichez les 5 premières lignes de l'ensemble de données pour comprendre sa structure.\n",
    "    * Imprimez les noms des colonnes et leurs types de données.\n",
    "    * Affichez les 10 premières lignes de l'ensemble de données.\n",
    "\n",
    "2.  **Visualisation par Diagramme à Barres :**\n",
    "\n",
    "    * **Matplotlib :**\n",
    "        * Créez un diagramme à barres pour visualiser le nombre de diamants pour chaque catégorie de 'cut' en utilisant Matplotlib.\n",
    "        * Personnalisez ce diagramme à barres en ajoutant des étiquettes appropriées pour l'axe des x et l'axe des y, et définissez un titre pour le graphique.\n",
    "        * Commentez la syntaxe de Matplotlib, ses capacités de personnalisation et sa facilité d'utilisation pour cette tâche.\n",
    "    * **Seaborn :**\n",
    "        * Créez le même diagramme à barres (nombre de diamants par 'cut') en utilisant Seaborn.\n",
    "        * Personnalisez le graphique comme vous l'avez fait avec Matplotlib (étiquettes, titre).\n",
    "        * Comparez le code de Seaborn à celui de Matplotlib. Qu'est-ce que Seaborn fait différemment ou plus facilement ? Comment le style par défaut se compare-t-il ?\n",
    "    * **Plotly :**\n",
    "        * Créez un diagramme à barres interactif (nombre de diamants par 'cut') en utilisant Plotly.\n",
    "        * Personnalisez le graphique avec des étiquettes et un titre. Explorez les fonctionnalités d'interactivité de Plotly (info-bulles, zoom).\n",
    "        * Commentez l'interactivité de Plotly, sa syntaxe et en quoi elle diffère de Matplotlib et Seaborn.\n",
    "    * **Altair :**\n",
    "        * Créez un diagramme à barres (nombre de diamants par 'cut') en utilisant Altair.\n",
    "        * Personnalisez le graphique avec des étiquettes et un titre.\n",
    "        * Commentez la syntaxe déclarative d'Altair et comment elle se compare aux autres bibliothèques.\n",
    "\n",
    "3.  **Analyse Supplémentaire (Facultatif) :**\n",
    "\n",
    "    * Explorez davantage les données en créant des diagrammes à barres pour d'autres variables catégorielles telles que 'color' ou 'clarity' dans n'importe laquelle des bibliothèques.\n",
    "    * Essayez de visualiser le prix moyen pour chaque 'cut' ou 'color' en utilisant les différentes bibliothèques et commentez la façon dont chaque bibliothèque gère ce type d'agrégation.\n",
    "\n",
    "**Conseils :**\n",
    "\n",
    "* Utilisez la bibliothèque pandas pour charger et manipuler les données.\n",
    "* Utilisez les bibliothèques Matplotlib, Seaborn, Plotly et Altair pour créer les diagrammes à barres.\n",
    "* Référez-vous au notebook pour des exemples de code et des explications sur les fonctions dont vous pourriez avoir besoin."
   ]
  },
  {
   "cell_type": "code",
   "execution_count": 2,
   "id": "8645bf11",
   "metadata": {},
   "outputs": [
    {
     "name": "stdout",
     "output_type": "stream",
     "text": [
      "🔹 Les 5 premières lignes :\n",
      "   carat      cut color clarity  depth  table  price     x     y     z\n",
      "0   0.23    Ideal     E     SI2   61.5   55.0    326  3.95  3.98  2.43\n",
      "1   0.21  Premium     E     SI1   59.8   61.0    326  3.89  3.84  2.31\n",
      "2   0.23     Good     E     VS1   56.9   65.0    327  4.05  4.07  2.31\n",
      "3   0.29  Premium     I     VS2   62.4   58.0    334  4.20  4.23  2.63\n",
      "4   0.31     Good     J     SI2   63.3   58.0    335  4.34  4.35  2.75\n",
      "\n",
      "🔹 Noms des colonnes et types de données :\n",
      "carat      float64\n",
      "cut         object\n",
      "color       object\n",
      "clarity     object\n",
      "depth      float64\n",
      "table      float64\n",
      "price        int64\n",
      "x          float64\n",
      "y          float64\n",
      "z          float64\n",
      "dtype: object\n",
      "\n",
      "🔹 Les 10 premières lignes :\n",
      "   carat        cut color clarity  depth  table  price     x     y     z\n",
      "0   0.23      Ideal     E     SI2   61.5   55.0    326  3.95  3.98  2.43\n",
      "1   0.21    Premium     E     SI1   59.8   61.0    326  3.89  3.84  2.31\n",
      "2   0.23       Good     E     VS1   56.9   65.0    327  4.05  4.07  2.31\n",
      "3   0.29    Premium     I     VS2   62.4   58.0    334  4.20  4.23  2.63\n",
      "4   0.31       Good     J     SI2   63.3   58.0    335  4.34  4.35  2.75\n",
      "5   0.24  Very Good     J    VVS2   62.8   57.0    336  3.94  3.96  2.48\n",
      "6   0.24  Very Good     I    VVS1   62.3   57.0    336  3.95  3.98  2.47\n",
      "7   0.26  Very Good     H     SI1   61.9   55.0    337  4.07  4.11  2.53\n",
      "8   0.22       Fair     E     VS2   65.1   61.0    337  3.87  3.78  2.49\n",
      "9   0.23  Very Good     H     VS1   59.4   61.0    338  4.00  4.05  2.39\n"
     ]
    }
   ],
   "source": [
    "import pandas as pd\n",
    "\n",
    "# 1. Chargez l'ensemble de données à partir de l'URL fourni\n",
    "diamonds_df = pd.read_csv(\"diamonds.csv\")\n",
    "\n",
    "# 2. Affichez les 5 premières lignes de l'ensemble de données pour comprendre sa structure.\n",
    "print(\"🔹 Les 5 premières lignes :\")\n",
    "print(diamonds_df.head())\n",
    "\n",
    "# 3. Imprimez les noms des colonnes et leurs types de données.\n",
    "print(\"\\n🔹 Noms des colonnes et types de données :\")\n",
    "print(diamonds_df.dtypes)\n",
    "\n",
    "# 4. Affichez les 10 premières lignes de l'ensemble de données.\n",
    "print(\"\\n🔹 Les 10 premières lignes :\")\n",
    "print(diamonds_df.head(10))\n"
   ]
  },
  {
   "cell_type": "code",
   "execution_count": null,
   "id": "f9e7dc74",
   "metadata": {},
   "outputs": [
    {
     "data": {
      "image/png": "[encoded data removed]",
      "text/plain": [
       "<Figure size 800x500 with 1 Axes>"
      ]
     },
     "metadata": {},
     "output_type": "display_data"
    }
   ],
   "source": [
    "#Création du diagramme avce matplotlib\n",
    "\n",
    "import pandas as pd\n",
    "import matplotlib.pyplot as plt\n",
    "\n",
    "diamonds_df = pd.read_csv(\"diamonds.csv\")\n",
    "\n",
    "cut_counts = diamonds_df['cut'].value_counts()\n",
    "\n",
    "plt.figure(figsize=(8, 5))\n",
    "plt.bar(cut_counts.index, cut_counts.values, color='skyblue')\n",
    "\n",
    "plt.xlabel(\"Qualité de coupe (cut)\")\n",
    "plt.ylabel(\"Nombre de diamants\")\n",
    "plt.title(\"Nombre de diamants par qualité de coupe\")\n",
    "plt.xticks(rotation=45)  \n",
    "\n",
    "plt.tight_layout()\n",
    "\n",
    "plt.show()"
   ]
  },
  {
   "cell_type": "code",
   "execution_count": 3,
   "id": "0704c005",
   "metadata": {},
   "outputs": [
    {
     "name": "stderr",
     "output_type": "stream",
     "text": [
      "C:\\Users\\gmtech\\AppData\\Local\\Temp\\ipykernel_4420\\3847784679.py:14: UserWarning: set_ticklabels() should only be used with a fixed number of ticks, i.e. after set_ticks() or using a FixedLocator.\n",
      "  barplot.set_xticklabels(barplot.get_xticklabels(), rotation=45)\n",
      "C:\\Users\\gmtech\\AppData\\Local\\Temp\\ipykernel_4420\\3847784679.py:17: UserWarning: FigureCanvasAgg is non-interactive, and thus cannot be shown\n",
      "  barplot.figure.show()\n"
     ]
    },
    {
     "data": {
      "image/png": "[encoded data removed]",
      "text/plain": [
       "<Figure size 640x480 with 1 Axes>"
      ]
     },
     "metadata": {},
     "output_type": "display_data"
    }
   ],
   "source": [
    "#Création du diagramme avec Seaborn\n",
    "\n",
    "import pandas as pd\n",
    "import seaborn as sns\n",
    "\n",
    "diamonds_df = pd.read_csv(\"diamonds.csv\")\n",
    "\n",
    "sns.set_theme(style=\"whitegrid\") \n",
    "barplot = sns.countplot(data=diamonds_df, x='cut', color='skyblue')\n",
    "\n",
    "barplot.set_title(\"Nombre de diamants par qualité de coupe\")\n",
    "barplot.set_xlabel(\"Qualité de coupe (cut)\")\n",
    "barplot.set_ylabel(\"Nombre de diamants\")\n",
    "barplot.set_xticklabels(barplot.get_xticklabels(), rotation=45)\n",
    "\n",
    "barplot.figure.tight_layout()\n",
    "barplot.figure.show()"
   ]
  },
  {
   "cell_type": "code",
   "execution_count": 1,
   "id": "886e1225",
   "metadata": {},
   "outputs": [
    {
     "data": {
      "application/vnd.plotly.v1+json": {
       "config": {
        "plotlyServerURL": "https://plot.ly"
       },
       "data": [
        {
         "hovertemplate": "Qualité de coupe=%{x}<br>Nombre de diamants=%{y}<extra></extra>",
         "legendgroup": "",
         "marker": {
          "color": "skyblue",
          "pattern": {
           "shape": ""
          }
         },
         "name": "",
         "orientation": "v",
         "showlegend": false,
         "textposition": "auto",
         "type": "bar",
         "x": [
          "Ideal",
          "Premium",
          "Very Good",
          "Good",
          "Fair"
         ],
         "xaxis": "x",
         "y": {
          "bdata": "L1TfNTIvKhNKBg==",
          "dtype": "i2"
         },
         "yaxis": "y"
        }
       ],
       "layout": {
        "barmode": "relative",
        "legend": {
         "tracegroupgap": 0
        },
        "template": {
         "data": {
          "bar": [
           {
            "error_x": {
             "color": "#2a3f5f"
            },
            "error_y": {
             "color": "#2a3f5f"
            },
            "marker": {
             "line": {
              "color": "#E5ECF6",
              "width": 0.5
             },
             "pattern": {
              "fillmode": "overlay",
              "size": 10,
              "solidity": 0.2
             }
            },
            "type": "bar"
           }
          ],
          "barpolar": [
           {
            "marker": {
             "line": {
              "color": "#E5ECF6",
              "width": 0.5
             },
             "pattern": {
              "fillmode": "overlay",
              "size": 10,
              "solidity": 0.2
             }
            },
            "type": "barpolar"
           }
          ],
          "carpet": [
           {
            "aaxis": {
             "endlinecolor": "#2a3f5f",
             "gridcolor": "white",
             "linecolor": "white",
             "minorgridcolor": "white",
             "startlinecolor": "#2a3f5f"
            },
            "baxis": {
             "endlinecolor": "#2a3f5f",
             "gridcolor": "white",
             "linecolor": "white",
             "minorgridcolor": "white",
             "startlinecolor": "#2a3f5f"
            },
            "type": "carpet"
           }
          ],
          "choropleth": [
           {
            "colorbar": {
             "outlinewidth": 0,
             "ticks": ""
            },
            "type": "choropleth"
           }
          ],
          "contour": [
           {
            "colorbar": {
             "outlinewidth": 0,
             "ticks": ""
            },
            "colorscale": [
             [
              0,
              "#0d0887"
             ],
             [
              0.1111111111111111,
              "#46039f"
             ],
             [
              0.2222222222222222,
              "#7201a8"
             ],
             [
              0.3333333333333333,
              "#9c179e"
             ],
             [
              0.4444444444444444,
              "#bd3786"
             ],
             [
              0.5555555555555556,
              "#d8576b"
             ],
             [
              0.6666666666666666,
              "#ed7953"
             ],
             [
              0.7777777777777778,
              "#fb9f3a"
             ],
             [
              0.8888888888888888,
              "#fdca26"
             ],
             [
              1,
              "#f0f921"
             ]
            ],
            "type": "contour"
           }
          ],
          "contourcarpet": [
           {
            "colorbar": {
             "outlinewidth": 0,
             "ticks": ""
            },
            "type": "contourcarpet"
           }
          ],
          "heatmap": [
           {
            "colorbar": {
             "outlinewidth": 0,
             "ticks": ""
            },
            "colorscale": [
             [
              0,
              "#0d0887"
             ],
             [
              0.1111111111111111,
              "#46039f"
             ],
             [
              0.2222222222222222,
              "#7201a8"
             ],
             [
              0.3333333333333333,
              "#9c179e"
             ],
             [
              0.4444444444444444,
              "#bd3786"
             ],
             [
              0.5555555555555556,
              "#d8576b"
             ],
             [
              0.6666666666666666,
              "#ed7953"
             ],
             [
              0.7777777777777778,
              "#fb9f3a"
             ],
             [
              0.8888888888888888,
              "#fdca26"
             ],
             [
              1,
              "#f0f921"
             ]
            ],
            "type": "heatmap"
           }
          ],
          "histogram": [
           {
            "marker": {
             "pattern": {
              "fillmode": "overlay",
              "size": 10,
              "solidity": 0.2
             }
            },
            "type": "histogram"
           }
          ],
          "histogram2d": [
           {
            "colorbar": {
             "outlinewidth": 0,
             "ticks": ""
            },
            "colorscale": [
             [
              0,
              "#0d0887"
             ],
             [
              0.1111111111111111,
              "#46039f"
             ],
             [
              0.2222222222222222,
              "#7201a8"
             ],
             [
              0.3333333333333333,
              "#9c179e"
             ],
             [
              0.4444444444444444,
              "#bd3786"
             ],
             [
              0.5555555555555556,
              "#d8576b"
             ],
             [
              0.6666666666666666,
              "#ed7953"
             ],
             [
              0.7777777777777778,
              "#fb9f3a"
             ],
             [
              0.8888888888888888,
              "#fdca26"
             ],
             [
              1,
              "#f0f921"
             ]
            ],
            "type": "histogram2d"
           }
          ],
          "histogram2dcontour": [
           {
            "colorbar": {
             "outlinewidth": 0,
             "ticks": ""
            },
            "colorscale": [
             [
              0,
              "#0d0887"
             ],
             [
              0.1111111111111111,
              "#46039f"
             ],
             [
              0.2222222222222222,
              "#7201a8"
             ],
             [
              0.3333333333333333,
              "#9c179e"
             ],
             [
              0.4444444444444444,
              "#bd3786"
             ],
             [
              0.5555555555555556,
              "#d8576b"
             ],
             [
              0.6666666666666666,
              "#ed7953"
             ],
             [
              0.7777777777777778,
              "#fb9f3a"
             ],
             [
              0.8888888888888888,
              "#fdca26"
             ],
             [
              1,
              "#f0f921"
             ]
            ],
            "type": "histogram2dcontour"
           }
          ],
          "mesh3d": [
           {
            "colorbar": {
             "outlinewidth": 0,
             "ticks": ""
            },
            "type": "mesh3d"
           }
          ],
          "parcoords": [
           {
            "line": {
             "colorbar": {
              "outlinewidth": 0,
              "ticks": ""
             }
            },
            "type": "parcoords"
           }
          ],
          "pie": [
           {
            "automargin": true,
            "type": "pie"
           }
          ],
          "scatter": [
           {
            "fillpattern": {
             "fillmode": "overlay",
             "size": 10,
             "solidity": 0.2
            },
            "type": "scatter"
           }
          ],
          "scatter3d": [
           {
            "line": {
             "colorbar": {
              "outlinewidth": 0,
              "ticks": ""
             }
            },
            "marker": {
             "colorbar": {
              "outlinewidth": 0,
              "ticks": ""
             }
            },
            "type": "scatter3d"
           }
          ],
          "scattercarpet": [
           {
            "marker": {
             "colorbar": {
              "outlinewidth": 0,
              "ticks": ""
             }
            },
            "type": "scattercarpet"
           }
          ],
          "scattergeo": [
           {
            "marker": {
             "colorbar": {
              "outlinewidth": 0,
              "ticks": ""
             }
            },
            "type": "scattergeo"
           }
          ],
          "scattergl": [
           {
            "marker": {
             "colorbar": {
              "outlinewidth": 0,
              "ticks": ""
             }
            },
            "type": "scattergl"
           }
          ],
          "scattermap": [
           {
            "marker": {
             "colorbar": {
              "outlinewidth": 0,
              "ticks": ""
             }
            },
            "type": "scattermap"
           }
          ],
          "scattermapbox": [
           {
            "marker": {
             "colorbar": {
              "outlinewidth": 0,
              "ticks": ""
             }
            },
            "type": "scattermapbox"
           }
          ],
          "scatterpolar": [
           {
            "marker": {
             "colorbar": {
              "outlinewidth": 0,
              "ticks": ""
             }
            },
            "type": "scatterpolar"
           }
          ],
          "scatterpolargl": [
           {
            "marker": {
             "colorbar": {
              "outlinewidth": 0,
              "ticks": ""
             }
            },
            "type": "scatterpolargl"
           }
          ],
          "scatterternary": [
           {
            "marker": {
             "colorbar": {
              "outlinewidth": 0,
              "ticks": ""
             }
            },
            "type": "scatterternary"
           }
          ],
          "surface": [
           {
            "colorbar": {
             "outlinewidth": 0,
             "ticks": ""
            },
            "colorscale": [
             [
              0,
              "#0d0887"
             ],
             [
              0.1111111111111111,
              "#46039f"
             ],
             [
              0.2222222222222222,
              "#7201a8"
             ],
             [
              0.3333333333333333,
              "#9c179e"
             ],
             [
              0.4444444444444444,
              "#bd3786"
             ],
             [
              0.5555555555555556,
              "#d8576b"
             ],
             [
              0.6666666666666666,
              "#ed7953"
             ],
             [
              0.7777777777777778,
              "#fb9f3a"
             ],
             [
              0.8888888888888888,
              "#fdca26"
             ],
             [
              1,
              "#f0f921"
             ]
            ],
            "type": "surface"
           }
          ],
          "table": [
           {
            "cells": {
             "fill": {
              "color": "#EBF0F8"
             },
             "line": {
              "color": "white"
             }
            },
            "header": {
             "fill": {
              "color": "#C8D4E3"
             },
             "line": {
              "color": "white"
             }
            },
            "type": "table"
           }
          ]
         },
         "layout": {
          "annotationdefaults": {
           "arrowcolor": "#2a3f5f",
           "arrowhead": 0,
           "arrowwidth": 1
          },
          "autotypenumbers": "strict",
          "coloraxis": {
           "colorbar": {
            "outlinewidth": 0,
            "ticks": ""
           }
          },
          "colorscale": {
           "diverging": [
            [
             0,
             "#8e0152"
            ],
            [
             0.1,
             "#c51b7d"
            ],
            [
             0.2,
             "#de77ae"
            ],
            [
             0.3,
             "#f1b6da"
            ],
            [
             0.4,
             "#fde0ef"
            ],
            [
             0.5,
             "#f7f7f7"
            ],
            [
             0.6,
             "#e6f5d0"
            ],
            [
             0.7,
             "#b8e186"
            ],
            [
             0.8,
             "#7fbc41"
            ],
            [
             0.9,
             "#4d9221"
            ],
            [
             1,
             "#276419"
            ]
           ],
           "sequential": [
            [
             0,
             "#0d0887"
            ],
            [
             0.1111111111111111,
             "#46039f"
            ],
            [
             0.2222222222222222,
             "#7201a8"
            ],
            [
             0.3333333333333333,
             "#9c179e"
            ],
            [
             0.4444444444444444,
             "#bd3786"
            ],
            [
             0.5555555555555556,
             "#d8576b"
            ],
            [
             0.6666666666666666,
             "#ed7953"
            ],
            [
             0.7777777777777778,
             "#fb9f3a"
            ],
            [
             0.8888888888888888,
             "#fdca26"
            ],
            [
             1,
             "#f0f921"
            ]
           ],
           "sequentialminus": [
            [
             0,
             "#0d0887"
            ],
            [
             0.1111111111111111,
             "#46039f"
            ],
            [
             0.2222222222222222,
             "#7201a8"
            ],
            [
             0.3333333333333333,
             "#9c179e"
            ],
            [
             0.4444444444444444,
             "#bd3786"
            ],
            [
             0.5555555555555556,
             "#d8576b"
            ],
            [
             0.6666666666666666,
             "#ed7953"
            ],
            [
             0.7777777777777778,
             "#fb9f3a"
            ],
            [
             0.8888888888888888,
             "#fdca26"
            ],
            [
             1,
             "#f0f921"
            ]
           ]
          },
          "colorway": [
           "#636efa",
           "#EF553B",
           "#00cc96",
           "#ab63fa",
           "#FFA15A",
           "#19d3f3",
           "#FF6692",
           "#B6E880",
           "#FF97FF",
           "#FECB52"
          ],
          "font": {
           "color": "#2a3f5f"
          },
          "geo": {
           "bgcolor": "white",
           "lakecolor": "white",
           "landcolor": "#E5ECF6",
           "showlakes": true,
           "showland": true,
           "subunitcolor": "white"
          },
          "hoverlabel": {
           "align": "left"
          },
          "hovermode": "closest",
          "mapbox": {
           "style": "light"
          },
          "paper_bgcolor": "white",
          "plot_bgcolor": "#E5ECF6",
          "polar": {
           "angularaxis": {
            "gridcolor": "white",
            "linecolor": "white",
            "ticks": ""
           },
           "bgcolor": "#E5ECF6",
           "radialaxis": {
            "gridcolor": "white",
            "linecolor": "white",
            "ticks": ""
           }
          },
          "scene": {
           "xaxis": {
            "backgroundcolor": "#E5ECF6",
            "gridcolor": "white",
            "gridwidth": 2,
            "linecolor": "white",
            "showbackground": true,
            "ticks": "",
            "zerolinecolor": "white"
           },
           "yaxis": {
            "backgroundcolor": "#E5ECF6",
            "gridcolor": "white",
            "gridwidth": 2,
            "linecolor": "white",
            "showbackground": true,
            "ticks": "",
            "zerolinecolor": "white"
           },
           "zaxis": {
            "backgroundcolor": "#E5ECF6",
            "gridcolor": "white",
            "gridwidth": 2,
            "linecolor": "white",
            "showbackground": true,
            "ticks": "",
            "zerolinecolor": "white"
           }
          },
          "shapedefaults": {
           "line": {
            "color": "#2a3f5f"
           }
          },
          "ternary": {
           "aaxis": {
            "gridcolor": "white",
            "linecolor": "white",
            "ticks": ""
           },
           "baxis": {
            "gridcolor": "white",
            "linecolor": "white",
            "ticks": ""
           },
           "bgcolor": "#E5ECF6",
           "caxis": {
            "gridcolor": "white",
            "linecolor": "white",
            "ticks": ""
           }
          },
          "title": {
           "x": 0.05
          },
          "xaxis": {
           "automargin": true,
           "gridcolor": "white",
           "linecolor": "white",
           "ticks": "",
           "title": {
            "standoff": 15
           },
           "zerolinecolor": "white",
           "zerolinewidth": 2
          },
          "yaxis": {
           "automargin": true,
           "gridcolor": "white",
           "linecolor": "white",
           "ticks": "",
           "title": {
            "standoff": 15
           },
           "zerolinecolor": "white",
           "zerolinewidth": 2
          }
         }
        },
        "title": {
         "text": "Nombre de diamants par qualité de coupe"
        },
        "xaxis": {
         "anchor": "y",
         "domain": [
          0,
          1
         ],
         "title": {
          "text": "Qualité de coupe"
         }
        },
        "yaxis": {
         "anchor": "x",
         "domain": [
          0,
          1
         ],
         "title": {
          "text": "Nombre de diamants"
         }
        }
       }
      }
     },
     "metadata": {},
     "output_type": "display_data"
    }
   ],
   "source": [
    "#Création du diagramme avec Plotly\n",
    "\n",
    "\n",
    "import pandas as pd\n",
    "import plotly.express as px\n",
    "\n",
    "diamonds_df = pd.read_csv(\"diamonds.csv\")\n",
    "\n",
    "cut_counts_df = diamonds_df['cut'].value_counts().reset_index()\n",
    "cut_counts_df.columns = ['cut', 'count']\n",
    "\n",
    "fig = px.bar(\n",
    "    cut_counts_df,\n",
    "    x='cut',\n",
    "    y='count',\n",
    "    title=\"Nombre de diamants par qualité de coupe\",\n",
    "    labels={'cut': 'Qualité de coupe', 'count': 'Nombre de diamants'},\n",
    "    color_discrete_sequence=['skyblue']\n",
    ")\n",
    "\n",
    "fig.show()"
   ]
  },
  {
   "cell_type": "code",
   "execution_count": 6,
   "id": "4248b6d0-bdb2-478b-95c7-ef8affd9d457",
   "metadata": {},
   "outputs": [
    {
     "data": {
      "text/html": [
       "\n",
       "<style>\n",
       "  #altair-viz-e3982273b9eb4f5c94316fc028739a6a.vega-embed {\n",
       "    width: 100%;\n",
       "    display: flex;\n",
       "  }\n",
       "\n",
       "  #altair-viz-e3982273b9eb4f5c94316fc028739a6a.vega-embed details,\n",
       "  #altair-viz-e3982273b9eb4f5c94316fc028739a6a.vega-embed details summary {\n",
       "    position: relative;\n",
       "  }\n",
       "</style>\n",
       "<div id=\"altair-viz-e3982273b9eb4f5c94316fc028739a6a\"></div>\n",
       "<script type=\"text/javascript\">\n",
       "  var VEGA_DEBUG = (typeof VEGA_DEBUG == \"undefined\") ? {} : VEGA_DEBUG;\n",
       "  (function(spec, embedOpt){\n",
       "    let outputDiv = document.currentScript.previousElementSibling;\n",
       "    if (outputDiv.id !== \"altair-viz-e3982273b9eb4f5c94316fc028739a6a\") {\n",
       "      outputDiv = document.getElementById(\"altair-viz-e3982273b9eb4f5c94316fc028739a6a\");\n",
       "    }\n",
       "\n",
       "    const paths = {\n",
       "      \"vega\": \"https://cdn.jsdelivr.net/npm/vega@5?noext\",\n",
       "      \"vega-lib\": \"https://cdn.jsdelivr.net/npm/vega-lib?noext\",\n",
       "      \"vega-lite\": \"https://cdn.jsdelivr.net/npm/vega-lite@5.20.1?noext\",\n",
       "      \"vega-embed\": \"https://cdn.jsdelivr.net/npm/vega-embed@6?noext\",\n",
       "    };\n",
       "\n",
       "    function maybeLoadScript(lib, version) {\n",
       "      var key = `${lib.replace(\"-\", \"\")}_version`;\n",
       "      return (VEGA_DEBUG[key] == version) ?\n",
       "        Promise.resolve(paths[lib]) :\n",
       "        new Promise(function(resolve, reject) {\n",
       "          var s = document.createElement('script');\n",
       "          document.getElementsByTagName(\"head\")[0].appendChild(s);\n",
       "          s.async = true;\n",
       "          s.onload = () => {\n",
       "            VEGA_DEBUG[key] = version;\n",
       "            return resolve(paths[lib]);\n",
       "          };\n",
       "          s.onerror = () => reject(`Error loading script: ${paths[lib]}`);\n",
       "          s.src = paths[lib];\n",
       "        });\n",
       "    }\n",
       "\n",
       "    function showError(err) {\n",
       "      outputDiv.innerHTML = `<div class=\"error\" style=\"color:red;\">${err}</div>`;\n",
       "      throw err;\n",
       "    }\n",
       "\n",
       "    function displayChart(vegaEmbed) {\n",
       "      vegaEmbed(outputDiv, spec, embedOpt)\n",
       "        .catch(err => showError(`Javascript Error: ${err.message}<br>This usually means there's a typo in your chart specification. See the javascript console for the full traceback.`));\n",
       "    }\n",
       "\n",
       "    if(typeof define === \"function\" && define.amd) {\n",
       "      requirejs.config({paths});\n",
       "      let deps = [\"vega-embed\"];\n",
       "      require(deps, displayChart, err => showError(`Error loading script: ${err.message}`));\n",
       "    } else {\n",
       "      maybeLoadScript(\"vega\", \"5\")\n",
       "        .then(() => maybeLoadScript(\"vega-lite\", \"5.20.1\"))\n",
       "        .then(() => maybeLoadScript(\"vega-embed\", \"6\"))\n",
       "        .catch(showError)\n",
       "        .then(() => displayChart(vegaEmbed));\n",
       "    }\n",
       "  })({\"config\": {\"view\": {\"continuousWidth\": 300, \"continuousHeight\": 300}}, \"data\": {\"name\": \"data-805ff72a8781605bae6e51f2726fd175\"}, \"mark\": {\"type\": \"bar\", \"color\": \"skyblue\"}, \"encoding\": {\"x\": {\"field\": \"cut\", \"title\": \"Qualit\\u00e9 de coupe\", \"type\": \"nominal\"}, \"y\": {\"field\": \"count\", \"title\": \"Nombre de diamants\", \"type\": \"quantitative\"}}, \"height\": 300, \"title\": \"Nombre de diamants par qualit\\u00e9 de coupe\", \"width\": 500, \"$schema\": \"https://vega.github.io/schema/vega-lite/v5.20.1.json\", \"datasets\": {\"data-805ff72a8781605bae6e51f2726fd175\": [{\"cut\": \"Ideal\", \"count\": 21551}, {\"cut\": \"Premium\", \"count\": 13791}, {\"cut\": \"Very Good\", \"count\": 12082}, {\"cut\": \"Good\", \"count\": 4906}, {\"cut\": \"Fair\", \"count\": 1610}]}}, {\"mode\": \"vega-lite\"});\n",
       "</script>"
      ],
      "text/plain": [
       "alt.Chart(...)"
      ]
     },
     "execution_count": 6,
     "metadata": {},
     "output_type": "execute_result"
    }
   ],
   "source": [
    " #Création du diagramme avec Altair\n",
    " \n",
    "import pandas as pd\n",
    "import altair as alt\n",
    "\n",
    "diamonds_df = pd.read_csv(\"diamonds.csv\")\n",
    "\n",
    "cut_counts_df = diamonds_df['cut'].value_counts().reset_index()\n",
    "cut_counts_df.columns = ['cut', 'count']\n",
    "\n",
    "bar_chart = alt.Chart(cut_counts_df).mark_bar(color='skyblue').encode(\n",
    "    x=alt.X('cut:N', title='Qualité de coupe'),\n",
    "    y=alt.Y('count:Q', title='Nombre de diamants')\n",
    ").properties(\n",
    "    title='Nombre de diamants par qualité de coupe',\n",
    "    width=500,\n",
    "    height=300\n",
    ")\n",
    "\n",
    "bar_chart"
   ]
  },
  {
   "cell_type": "code",
   "execution_count": null,
   "id": "9b6d47e0",
   "metadata": {},
   "outputs": [],
   "source": [
    "1. Syntaxe\n",
    "Matplotlib est une bibliothèque bas niveau : elle offre un contrôle total sur le graphique, mais nécessite beaucoup de code, notamment pour les styles, les couleurs et les étiquettes.\n",
    "\n",
    "Seaborn est une surcouche de Matplotlib pensée pour les statistiques : elle permet de créer des visualisations propres et claires en quelques lignes de code, avec une syntaxe simple et orientée DataFrame.\n",
    "\n",
    "Plotly permet de créer des graphiques interactifs (zoom, survol, export HTML) avec une syntaxe proche de Seaborn, mais nécessitant une gestion via des objets fig.\n",
    "\n",
    "Altair adopte une approche déclarative : on décrit ce qu’on veut voir plutôt que comment le construire. C’est intuitif et particulièrement propre pour des visualisations structurées.\n",
    "\n",
    "2. Style et rendu\n",
    "Matplotlib propose un rendu sobre, sans style par défaut.\n",
    "\n",
    "Seaborn applique automatiquement des palettes et styles propres adaptés aux analyses statistiques.\n",
    "\n",
    "Plotly génère des graphiques élégants, interactifs et très lisibles.\n",
    "\n",
    "Altair produit des visualisations épurées et harmonieuses, adaptées à la narration de données.\n",
    "\n",
    "\n"
   ]
  }
 ],
 "metadata": {
  "kernelspec": {
   "display_name": "Python 3",
   "language": "python",
   "name": "python3"
  },
  "language_info": {
   "codemirror_mode": {
    "name": "ipython",
    "version": 3
   },
   "file_extension": ".py",
   "mimetype": "text/x-python",
   "name": "python",
   "nbconvert_exporter": "python",
   "pygments_lexer": "ipython3",
   "version": "3.12.10"
  }
 },
 "nbformat": 4,
 "nbformat_minor": 5
}
