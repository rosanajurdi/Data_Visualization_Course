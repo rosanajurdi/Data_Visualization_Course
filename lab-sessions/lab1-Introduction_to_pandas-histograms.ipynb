{
 "cells": [
  {
   "cell_type": "markdown",
   "id": "5d5be086",
   "metadata": {},
   "source": [
    "Ce notebook offre une introduction pratique à la bibliothèque pandas en Python. Il couvre les concepts fondamentaux de la manipulation et de l'analyse de données à l'aide de pandas, incluant le chargement de données, l'exploration et les statistiques descriptives. Nous utiliserons un jeu de données sur les diamants pour illustrer ces fonctionnalités essentielles."
   ]
  },
  {
   "cell_type": "markdown",
   "id": "db48efd2",
   "metadata": {},
   "source": [
    "<hr style=\"border: 2px solid black;\">"
   ]
  },
  {
   "cell_type": "markdown",
   "id": "075d0c4b",
   "metadata": {},
   "source": [
    "## step 1: Download the data : \n",
    "The datasets used here can be found in https://github.com/TrainingByPackt/Interactive-Data-Visualization-with-Python/tree/master/datasets.\n",
    "\n",
    "documentation on pandas can be found here: https://pandas.pydata.org/docs/\n",
    "seaborn documentation can be found here: https://seaborn.pydata.org/"
   ]
  },
  {
   "cell_type": "markdown",
   "id": "9f024f61",
   "metadata": {},
   "source": [
    "<hr style=\"border: 2px solid black;\">"
   ]
  },
  {
   "cell_type": "markdown",
   "id": "e97c72c1",
   "metadata": {},
   "source": [
    "## Step 2: Import needed libraries\n",
    "\n"
   ]
  },
  {
   "cell_type": "code",
   "id": "34a4962a",
   "metadata": {},
   "source": [
    "# import pandas libraries and visualization library seeborn\n",
    "import pandas as pd\n",
    "import seaborn as sns"
   ],
   "outputs": [],
   "execution_count": null
  },
  {
   "cell_type": "markdown",
   "id": "25d61227",
   "metadata": {},
   "source": [
    "<hr style=\"border: 2px solid black;\">"
   ]
  },
  {
   "cell_type": "markdown",
   "id": "75586cbe-3714-4eb8-bc78-185bff1011d2",
   "metadata": {},
   "source": [
    "## Step 3  Describing data with pandas : "
   ]
  },
  {
   "cell_type": "markdown",
   "id": "b0260e80",
   "metadata": {},
   "source": [
    "<hr style=\"border: 2px solid black;\">"
   ]
  },
  {
   "cell_type": "markdown",
   "id": "b71afdbc-9ade-4485-9044-7c30677602b6",
   "metadata": {},
   "source": [
    "La bibliothèque pandas est un outil open source extrêmement puissant pour gérer, manipuler et analyser des données structurées. Les tableaux de données peuvent être stockés dans l'objet DataFrame disponible dans pandas, et des données dans divers formats (par exemple, .csv, .tsv, .xlsx, et .json) peuvent être lues directement dans un DataFrame. En utilisant des fonctions intégrées, les DataFrames peuvent être manipulés efficacement (par exemple, convertir des tableaux entre différentes vues, comme longues/larges ; regrouper par une colonne/caractéristique spécifique ; résumer les données ; et plus encore)."
   ]
  },
  {
   "cell_type": "code",
   "id": "060f41da",
   "metadata": {},
   "source": [
    "# you can either read the data directly from github or you can download it and \n",
    "# include its path, the dataset is also available in seaborn which means \n",
    "# you can read it via: diamonds_df = sns.load_dataset('diamonds')\n",
    "\n",
    "#URL of the dataset: Download the dataset \n",
    "#diamonds_url = \"./diamonds.csv\"\n",
    "#diamonds_df = pd.read_csv(diamonds_url)\n",
    "#diamonds_df\n",
    "\n",
    "diamonds_url = \"https://raw.githubusercontent.com/TrainingByPackt/Interactive-Data-Visualization-with-Python/master/datasets/diamonds.csv\"\n",
    "diamonds_df = pd.read_csv(diamonds_url)\n",
    "diamonds_df"
   ],
   "outputs": [],
   "execution_count": null
  },
  {
   "cell_type": "markdown",
   "id": "d22551ef",
   "metadata": {},
   "source": [
    "### 3.1 Observing and Describing Data"
   ]
  },
  {
   "cell_type": "markdown",
   "id": "5786ea7f-c230-44e1-9697-b5b69b890414",
   "metadata": {},
   "source": [
    "Pour observer et décrire les données d'un dataset en utilisant pandas , une méthode très utile est la fonction head(). Cette fonction permet d'afficher les premières lignes du DataFrame, ce qui est pratique pour avoir un aperçu rapide des données. Par défaut, elle affiche 5 lignes. Pour ajuster cela, nous pouvons utiliser l'argument n ; par exemple, head(n=5). Voici quelques points clés à retenir :"
   ]
  },
  {
   "cell_type": "code",
   "id": "d967b18e-1187-45bf-b4a8-853a4f12c45e",
   "metadata": {},
   "source": [
    "diamonds_df.head()"
   ],
   "outputs": [],
   "execution_count": null
  },
  {
   "cell_type": "code",
   "id": "47f7c5ca-0208-426d-a57f-2426aae8cd79",
   "metadata": {},
   "source": [
    "diamonds_df.head(10)"
   ],
   "outputs": [],
   "execution_count": null
  },
  {
   "cell_type": "markdown",
   "id": "9958b2fa-6266-4c2b-a501-362ab811a39d",
   "metadata": {},
   "source": [
    "<font color=\"#008000\">  **Pourriez-vous spécifier les différents types de données dans toutes les colonnes ?** <\\font> \n",
    "\n",
    "Les données contiennent différentes caractéristiques des diamants, telles que **carat** , **cut quality** , **color**, et **price** , sous forme de colonnes. Maintenant, **cut** , **clarity** , et **color** sont des variables catégorielles, tandis que x , y , z , depth , table , et price sont des variables continues. Alors que les variables catégorielles prennent des catégories/noms uniques comme valeurs, les variables continues prennent des nombres réels comme valeurs.\n",
    "\n",
    "cut , color , et clarity sont des variables ordinales avec respectivement 5, 7 et 8 valeurs uniques (cela peut être obtenu en utilisant diamonds_df.cut.nunique() , diamonds_df.color.nunique() , diamonds_df.clarity.nunique() – essayez !). cut représente la qualité de la taille, décrite comme Fair (Passable), Good (Bon), Very Good (Très bon), Premium (Premium), ou Ideal (Idéal) ; color décrit la couleur du diamant de J (pire) à D (meilleur). Il y a aussi clarity , qui mesure la clarté du diamant – les degrés vont de I1 (pire), SI1, SI2, VS1, VS2, VVS1, VVS2, à IF (meilleur)."
   ]
  },
  {
   "cell_type": "markdown",
   "id": "bc2220b4-ac82-4b70-83a6-77192716b40d",
   "metadata": {},
   "source": [
    "<font color=\"#008000\">  **Comptez le nombre de lignes et de colonnes dans le DataFrame en utilisant la fonction**"
   ]
  },
  {
   "cell_type": "code",
   "id": "4b26e282-a023-43a3-8101-7a9aa1a9f4c2",
   "metadata": {},
   "source": [
    "diamonds_df.shape"
   ],
   "outputs": [],
   "execution_count": null
  },
  {
   "cell_type": "markdown",
   "id": "f86da4ee-40f0-49a2-939f-dde81764f5b8",
   "metadata": {},
   "source": [
    "Résumez les colonnes en utilisant describe() pour obtenir la distribution des variables, incluant la moyenne, la médiane, le minimum, le maximum et les différents quartiles :"
   ]
  },
  {
   "cell_type": "code",
   "id": "56ee8180",
   "metadata": {},
   "source": [
    "# the describe function as is will only describe numeric values \n",
    "# to include categorical use diamonds_df.describe(include=object)\n",
    "diamonds_df.describe()"
   ],
   "outputs": [],
   "execution_count": null
  },
  {
   "cell_type": "code",
   "id": "97d9746d-6607-4158-b107-3989bc3c8aef",
   "metadata": {},
   "source": [
    "diamonds_df.describe(include=object)"
   ],
   "outputs": [],
   "execution_count": null
  },
  {
   "cell_type": "markdown",
   "id": "05a79da7",
   "metadata": {},
   "source": [
    "<font color=\"#008000\"> **Sélectionner des colonnes d'un DataFrame. **</font>\n"
   ]
  },
  {
   "cell_type": "markdown",
   "id": "b92ade09",
   "metadata": {},
   "source": [
    "Pour sélectionner des colonnes spécifiques d'un jeu de données (DataFrame) Pandas, deux méthodes principales sont disponibles : l'opérateur point (`.`) et l'opérateur crochets (`[]`).\n",
    "\n",
    "**Accès simple :**\n",
    "\n",
    "Par exemple, pour accéder à la colonne nommée `cut` du DataFrame `diamonds_df`, vous pouvez utiliser :\n",
    "\n",
    "```python\n",
    "diamonds_df.cut\n",
    "\n",
    "# ou \n",
    "diamonds_df['cut']\n",
    "```\n",
    "\n",
    "Cas où l'opérateur point (.) ne peut pas être utilisé :\n",
    "\n",
    "L'opérateur point est pratique, mais il présente des limitations dans certains cas :\n",
    "\n",
    "Noms de colonnes contenant des espaces : Si un nom de colonne inclut des espaces (par exemple, 'prix au carat'), vous devez impérativement utiliser la notation avec les crochets :\n",
    "\n",
    "```python\n",
    "diamonds_df['prix au carat']\n",
    "```\n",
    "\n",
    "Noms de colonnes entiers : Lorsque le nom d'une colonne est un nombre entier (par exemple, 2023), l'accès via l'opérateur point n'est pas valide. Utilisez les crochets :\n",
    "\n",
    "```python\n",
    "diamonds_df[2023]\n",
    "```\n",
    "\n",
    "Création de nouvelles colonnes : Pour ajouter une nouvelle colonne au DataFrame, la notation avec les crochets est la méthode standard :\n",
    "\n",
    "```python\n",
    "diamonds_df['nouvelle_colonne'] = ...\n",
    "diamonds_df['une autre colonne'] = ...\n",
    "```\n",
    "\n"
   ]
  },
  {
   "cell_type": "markdown",
   "id": "fed9a74e",
   "metadata": {},
   "source": [
    "Maintenant, nous allons examiner l'ajout conditionnel de colonnes. Essayons d'ajouter une colonne basée sur la valeur de `price_per_carat`. Disons que toute valeur supérieure à 3500 sera considérée comme \"élevée\" (codée par 1) et toute valeur inférieure à 3500 sera considérée comme \"faible\" (codée par 0)."
   ]
  },
  {
   "cell_type": "code",
   "id": "fe49367c",
   "metadata": {},
   "source": [
    "#Operations on Dataframes: \n",
    "\n",
    "import numpy as np\n",
    "diamonds_df['price_per_carat'] = diamonds_df['price']/diamonds_df['carat']\n",
    "\n",
    "np.where(diamonds_df['price_per_carat']>3500,1,0)\n",
    "diamonds_df.head()"
   ],
   "outputs": [],
   "execution_count": null
  },
  {
   "cell_type": "markdown",
   "id": "c8756410",
   "metadata": {},
   "source": [
    "<hr style=\"border: 2px solid black;\">"
   ]
  },
  {
   "cell_type": "markdown",
   "id": "68f93846",
   "metadata": {},
   "source": [
    "\n",
    " ##                         Exercice de laboratoire : Tracer et analyser un histogramme\n"
   ]
  },
  {
   "cell_type": "markdown",
   "id": "59d99552",
   "metadata": {},
   "source": [
    "**Objectif** : Dans cet exercice, vous allez créer et analyser des histogrammes pour comprendre la distribution du poids en carats dans le jeu de données des diamants."
   ]
  },
  {
   "cell_type": "markdown",
   "id": "d8d30300",
   "metadata": {},
   "source": [
    "**Matplotlib**\n",
    "- est une bibliothèque de traçage (plotting) disponible dans la plupart des distributions Python et constitue la base de plusieurs packages de traçage.\n",
    "- matplotlib compris la fonctionnalité de traçage intégrée de pandas et seaborn. \n",
    "- Matplotlib permet de contrôler chaque aspect d'une figure et est connu pour être verbeux. Les fonctions de visualisation de seaborn et pandas sont toutes deux construites sur matplotlib. \n",
    "\n",
    "\n",
    "**Pandas**\n",
    "pandas est une bibliothèque puissante d'analyse et de manipulation de données. Elle fournit des structures de données comme le DataFrame, qui est essentiel pour travailler avec des données structurées. L'outil de traçage intégré de pandas est un outil exploratoire utile pour générer des figures qui ne sont pas prêtes pour une présentation finale mais utiles pour comprendre l'ensemble de données sur lequel vous travaillez. \n",
    "\n",
    "\n",
    "**Seaborn**\n",
    "- Seaborn, possède des API pour dessiner une grande variété de tracés esthétiquement agréables.seaborn est une bibliothèque de visualisation de données Python basée sur Matplotlib. Elle fournit une interface de haut niveau pour1 créer des graphiques statistiques attrayants et informatifs\n",
    "\n"
   ]
  },
  {
   "cell_type": "markdown",
   "id": "63bbda44",
   "metadata": {},
   "source": [
    "**Pour illustrer certains concepts clés et explorer l'ensemble de données diamonds, nous commencerons par deux visualisations simples dans ce chapitre : les histogrammes et les diagrammes à barres.**\n",
    "\n",
    "1. Pour cet exercice, créez un histogramme de la fréquence des diamants dans le jeu de données, en utilisant leurs spécifications de carat respectives sur l'axe des x\n",
    "2.  Modifier le nombre de bins :\n",
    "3. Comment l'augmentation du nombre de classes affecte-t-elle l'apparence de l'histogramme ?\n",
    "4. Tracer un histogramme à l'aide de Seaborn :\n",
    "5. Quelles sont les deux différences clés entre les histogrammes générés par la fonction .hist() de pandas et la fonction sns.distplot() de Seaborn ?\n",
    "6. Qu'est-ce qu'une estimation de la densité du noyau (KDE) ? Que montre-t-elle ?\n",
    "7. Appliquer une transformation logarithmique :\n",
    "\n"
   ]
  },
  {
   "cell_type": "code",
   "id": "6a018d68-608e-4874-8e65-18e827e9df67",
   "metadata": {},
   "source": [
    "import pandas as pd\n",
    "import matplotlib.pyplot as plt\n",
    "\n",
    "plt.hist(diamonds_df['carat'], bins=30)\n",
    "plt.title('Histogramme des spécifications de carat des diamants')\n",
    "plt.xlabel('Carat')\n",
    "plt.ylabel('Fréquence')\n",
    "plt.show()"
   ],
   "outputs": [],
   "execution_count": null
  },
  {
   "cell_type": "code",
   "id": "4b17152a-6b46-427a-9b87-ba6926d757fc",
   "metadata": {},
   "source": [
    "import pandas as pd\n",
    "import matplotlib.pyplot as plt\n",
    "\n",
    "plt.hist(diamonds_df['carat'], bins=300)\n",
    "plt.title('Histogramme des spécifications de carat des diamants')\n",
    "plt.xlabel('Carat')\n",
    "plt.ylabel('Fréquence')\n",
    "plt.show()"
   ],
   "outputs": [],
   "execution_count": null
  },
  {
   "cell_type": "markdown",
   "id": "9c2d926b-1c0a-4228-92f6-5e478f5f82dd",
   "metadata": {},
   "source": [
    "l'augmentation du nombre de classes rend le diagramme plus precis."
   ]
  },
  {
   "cell_type": "code",
   "id": "1d985486-4489-4f27-99cd-ada8bba206f9",
   "metadata": {},
   "source": [
    "import seaborn as sns\n",
    "\n",
    "plt.figure(figsize=(10, 6))\n",
    "sns.histplot(diamonds_df['carat'], bins=30)\n",
    "plt.title('Histogramme des spécifications de carat avec Seaborn')\n",
    "plt.xlabel('Carat')\n",
    "plt.ylabel('Fréquence')\n",
    "plt.show()"
   ],
   "outputs": [],
   "execution_count": null
  },
  {
   "cell_type": "markdown",
   "id": "d4a79763",
   "metadata": {},
   "source": [
    "<hr style=\"border: 2px solid black;\">\n"
   ]
  },
  {
   "cell_type": "code",
   "id": "b9ebb5fc",
   "metadata": {},
   "source": [
    "import seaborn as sns\n",
    "import pandas as pd\n",
    "diamonds_df = sns.load_dataset('diamonds')\n",
    "diamonds_df.hist(column='carat')"
   ],
   "outputs": [],
   "execution_count": null
  },
  {
   "cell_type": "code",
   "id": "b0eb976c",
   "metadata": {},
   "source": [
    "diamonds_df.hist(column='carat', bins=50)"
   ],
   "outputs": [],
   "execution_count": null
  },
  {
   "cell_type": "markdown",
   "id": "5233d5c7",
   "metadata": {},
   "source": [
    "L'augmentation du nombre de classes rend l'histogramme plus détaillé ou granulaire. Il montre davantage de fluctuations et de motifs plus fins dans la distribution des données."
   ]
  },
  {
   "cell_type": "code",
   "id": "5ca937b2",
   "metadata": {},
   "source": [
    "sns.distplot(diamonds_df.carat)\n"
   ],
   "outputs": [],
   "execution_count": null
  },
  {
   "cell_type": "code",
   "id": "66d535b2",
   "metadata": {},
   "source": [
    "sns.distplot(diamonds_df.carat, kde=False)\n"
   ],
   "outputs": [],
   "execution_count": null
  },
  {
   "cell_type": "code",
   "id": "05ec18b1",
   "metadata": {},
   "source": [
    "sns.distplot(diamonds_df.carat, kde=False, bins=100)\n"
   ],
   "outputs": [],
   "execution_count": null
  },
  {
   "cell_type": "code",
   "id": "63d1662c",
   "metadata": {},
   "source": [
    "import numpy as np\n",
    "sns.distplot(np.log(diamonds_df.price), kde=True)"
   ],
   "outputs": [],
   "execution_count": null
  },
  {
   "cell_type": "markdown",
   "id": "0c2f52a1",
   "metadata": {},
   "source": [
    "<hr style=\"border: 2px solid black;\">\n"
   ]
  },
  {
   "cell_type": "markdown",
   "id": "1e986356",
   "metadata": {},
   "source": [
    "- **Pourquoi une transformation logarithmique est-elle appliquée à la variable 'price' ?**\n",
    "Une transformation logarithmique est souvent appliquée aux données asymétriques comme 'price' pour rendre la distribution plus symétrique et plus facile à analyser. Elle peut également aider à révéler des motifs qui ne sont pas apparents à l'échelle d'origine.\n",
    "- **Quelles nouvelles informations l'histogramme transformé par logarithme révèle-t-il sur la distribution des prix des diamants ?**\n",
    "L'histogramme transformé par logarithme révèle des pics distincts, suggérant des regroupements ou des catégories de prix potentiels pour les diamants. Cela pourrait indiquer différents segments de marché ou niveaux de qualité.\n",
    "- **Identifiez les pics approximatifs dans la distribution des prix transformée par logarithme. Que pourraient suggérer ces pics sur le marché des diamants ?**\n",
    "Le texte mentionne des concentration/groupment autour de 6,8 et entre 8,5 et 9 (sur l'échelle logarithmique). Ces groupment pourraient suggérer : Un group représente des diamants plus courants et moins chers. Un autre group représente un groupe de diamants plus chers, peut-être de meilleure qualité."
   ]
  },
  {
   "cell_type": "markdown",
   "id": "7b447c0c",
   "metadata": {},
   "source": [
    "**Analyse et discussion :**\n",
    "\n",
    "Sur la base de vos observations des histogrammes, répondez aux questions suivantes :\n",
    "\n",
    "**Quelles sont les trois principales caractéristiques d'une distribution qui peuvent être identifiées à partir d'un histogramme ?**\n",
    "- Forme : Asymétrie (symétrie), modalité (nombre de group) et forme générale.\n",
    "- Centre : Où les données sont concentrées (par exemple, moyenne, médiane).\n",
    "- Dispersion : Dans quelle mesure les données varient (par exemple, étendue, écart type).\n",
    "\n",
    "**Expliquez comment le choix de la taille des bins peut influencer l'interprétation d'un histogramme.**\n",
    "- Trop peu de bins peuvent simplifier excessivement les données, masquant des motifs importants. \n",
    "- Trop de classes peuvent rendre l'histogramme bruité et difficile à interpréter. La bonne taille de classe révèle la distribution sous-jacente.\n"
   ]
  },
  {
   "cell_type": "markdown",
   "id": "297dd7b1",
   "metadata": {},
   "source": [
    "<hr style=\"border: 2px solid black;\">\n"
   ]
  },
  {
   "cell_type": "markdown",
   "id": "1baf5658",
   "metadata": {},
   "source": [
    "<center> <h1> **Repeat the visualizations but with plotly**\n",
    "\n",
    "<table>\n",
    "<tr>\n",
    "    <td><img src=\"./images/pandas.png\" alt=\"Pandas Logo\" width=\"400\"/></td>\n",
    "    <td><img src=\"./images/Plotly-logo.png\" alt=\"plotly Logo\" width=\"400\"/></td>\n",
    "</tr>\n",
    "</table>"
   ]
  },
  {
   "cell_type": "code",
   "id": "519f4b13",
   "metadata": {},
   "source": [
    "import pandas as pd\n",
    "import plotly.express as px\n",
    "import plotly.graph_objects as go"
   ],
   "outputs": [],
   "execution_count": null
  },
  {
   "metadata": {},
   "cell_type": "code",
   "source": [
    "diamonds_url = \"https://raw.githubusercontent.com/TrainingByPackt/Interactive-Data-Visualization-with-Python/master/datasets/diamonds.csv\"\n",
    "diamonds_df = pd.read_csv(diamonds_url)\n",
    "\n",
    "diamonds_df.head()"
   ],
   "id": "f8930a8ccaa54ebb",
   "outputs": [],
   "execution_count": null
  },
  {
   "metadata": {},
   "cell_type": "code",
   "source": [
    "fig = px.histogram(diamonds_df, x=\"carat\", title=\"Histogramme des spécifications de carat des diamants\")\n",
    "fig.update_layout( xaxis_title=\"Carat\", yaxis_title=\"Fréquence\")\n",
    "fig.show()"
   ],
   "id": "807720d424bdfc1a",
   "outputs": [],
   "execution_count": null
  },
  {
   "metadata": {},
   "cell_type": "code",
   "source": [
    "fig = px.histogram(diamonds_df, x=\"carat\", nbins=30, title=\"Histogramme avec 30 bins\")\n",
    "fig.show()\n",
    "\n",
    "fig = px.histogram(diamonds_df, x=\"carat\", nbins=300, title=\"Histogramme avec 300 bins\")\n",
    "fig.show()"
   ],
   "id": "37073b652e44ee7c",
   "outputs": [],
   "execution_count": null
  },
  {
   "metadata": {},
   "cell_type": "code",
   "source": [
    "fig = px.histogram(diamonds_df, x=\"carat\", marginal=\"box\", title=\"Histogramme avec boîte à moustaches en marge\")\n",
    "fig.show()\n",
    "\n",
    "fig = px.histogram(diamonds_df, x=\"carat\", marginal=\"violin\", title=\"Histogramme avec diagramme en violon en marge\")\n",
    "fig.show()"
   ],
   "id": "4d05051c1ace924a",
   "outputs": [],
   "execution_count": null
  },
  {
   "metadata": {},
   "cell_type": "code",
   "source": [
    "fig = px.histogram(diamonds_df, x=\"carat\", histnorm=\"probability density\", title=\"Densité de probabilité des carats\")\n",
    "fig.show()"
   ],
   "id": "ab498283b6da1074",
   "outputs": [],
   "execution_count": null
  },
  {
   "metadata": {},
   "cell_type": "code",
   "source": [
    "fig = px.histogram(diamonds_df, x=\"price\", log_x=True, title=\"Histogramme des prix avec axe X logarithmique\")\n",
    "fig.show()"
   ],
   "id": "ad34bb386a1f2d3f",
   "outputs": [],
   "execution_count": null
  },
  {
   "metadata": {},
   "cell_type": "code",
   "source": [
    "fig = px.histogram(diamonds_df, x=\"carat\", color=\"cut\", barmode=\"overlay\", opacity=0.7, title=\"Distribution des carats selon la qualité de la taille\")\n",
    "fig.show()\n"
   ],
   "id": "df2f82c7b7f99261",
   "outputs": [],
   "execution_count": null
  },
  {
   "metadata": {},
   "cell_type": "code",
   "source": [
    "import numpy as np\n",
    "from scipy import stats\n",
    "\n",
    "x_range = np.linspace(min(diamonds_df.carat), max(diamonds_df.carat), 1000)\n",
    "kde = stats.gaussian_kde(diamonds_df.carat)\n",
    "y_kde = kde(x_range)\n",
    "\n",
    "fig = go.Figure()\n",
    "fig.add_trace(go.Histogram(x=diamonds_df.carat, name=\"Histogramme\", opacity=0.7, histnorm=\"probability density\"))\n",
    "\n",
    "fig.add_trace(go.Scatter( x=x_range, y=y_kde, mode=\"lines\", name=\"KDE\", line=dict(color=\"red\", width=2)))\n",
    "\n",
    "fig.update_layout(title=\"Histogramme avec courbe KDE\", xaxis_title=\"Carat\", yaxis_title=\"Densité de probabilité\")\n",
    "fig.show()"
   ],
   "id": "1f743f85788ee3f7",
   "outputs": [],
   "execution_count": null
  }
 ],
 "metadata": {
  "kernelspec": {
   "display_name": "Python 3 (ipykernel)",
   "language": "python",
   "name": "python3"
  },
  "language_info": {
   "codemirror_mode": {
    "name": "ipython",
    "version": 3
   },
   "file_extension": ".py",
   "mimetype": "text/x-python",
   "name": "python",
   "nbconvert_exporter": "python",
   "pygments_lexer": "ipython3",
   "version": "3.12.7"
  }
 },
 "nbformat": 4,
 "nbformat_minor": 5
}
