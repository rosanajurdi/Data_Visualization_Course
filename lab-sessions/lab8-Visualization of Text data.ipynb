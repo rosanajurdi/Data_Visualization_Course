{
 "cells": [
  {
   "cell_type": "code",
   "execution_count": 1,
   "id": "451c6b33",
   "metadata": {},
   "outputs": [
    {
     "ename": "ModuleNotFoundError",
     "evalue": "No module named 'wordcloud'",
     "output_type": "error",
     "traceback": [
      "\u001b[31m---------------------------------------------------------------------------\u001b[39m",
      "\u001b[31mModuleNotFoundError\u001b[39m                       Traceback (most recent call last)",
      "\u001b[36mCell\u001b[39m\u001b[36m \u001b[39m\u001b[32mIn[1]\u001b[39m\u001b[32m, line 1\u001b[39m\n\u001b[32m----> \u001b[39m\u001b[32m1\u001b[39m \u001b[38;5;28;01mfrom\u001b[39;00m\u001b[38;5;250m \u001b[39m\u001b[34;01mwordcloud\u001b[39;00m\u001b[38;5;250m \u001b[39m\u001b[38;5;28;01mimport\u001b[39;00m WordCloud, STOPWORDS\n\u001b[32m      2\u001b[39m \u001b[38;5;28;01mimport\u001b[39;00m\u001b[38;5;250m \u001b[39m\u001b[34;01mmatplotlib\u001b[39;00m\u001b[34;01m.\u001b[39;00m\u001b[34;01mpyplot\u001b[39;00m\u001b[38;5;250m \u001b[39m\u001b[38;5;28;01mas\u001b[39;00m\u001b[38;5;250m \u001b[39m\u001b[34;01mplt\u001b[39;00m\n\u001b[32m      3\u001b[39m \u001b[38;5;28;01mimport\u001b[39;00m\u001b[38;5;250m \u001b[39m\u001b[34;01mnumpy\u001b[39;00m\u001b[38;5;250m \u001b[39m\u001b[38;5;28;01mas\u001b[39;00m\u001b[38;5;250m \u001b[39m\u001b[34;01mnp\u001b[39;00m\n",
      "\u001b[31mModuleNotFoundError\u001b[39m: No module named 'wordcloud'"
     ]
    }
   ],
   "source": [
    "from wordcloud import WordCloud, STOPWORDS\n",
    "import matplotlib.pyplot as plt\n",
    "import numpy as np\n",
    "from PIL import Image\n",
    "from textblob import TextBlob\n",
    "\n",
    "# Sample reviews with associated sentiment (you'd typically get this from a sentiment analysis tool)\n",
    "reviews_with_sentiment = [\n",
    "    (\"This product is absolutely amazing! I love it so much.\", \"positive\"),\n",
    "    (\"The features are fantastic and it works perfectly.\", \"positive\"),\n",
    "    (\"I am extremely happy with this purchase. Highly recommended!\", \"positive\"),\n",
    "    (\"What a terrible experience. The product broke after just one use.\", \"negative\"),\n",
    "    (\"This is the worst item I have ever bought. Complete waste of money.\", \"negative\"),\n",
    "    (\"I was so disappointed. It didn't meet my expectations at all.\", \"negative\"),\n",
    "    (\"It's okay, but nothing special. Could be better.\", \"neutral\"),\n",
    "    (\"Good value for the price. I'm satisfied.\", \"positive\"),\n",
    "    (\"The customer service was awful and unhelpful.\", \"negative\"),\n",
    "    (\"Really impressed with the quality and performance!\", \"positive\"),\n",
    "    (\"Meh, it's alright. Not great, not bad.\", \"neutral\"),\n",
    "    (\"Avoid this product at all costs! Seriously flawed.\", \"negative\"),\n",
    "    (\"So glad I bought this! It has made my life easier.\", \"positive\"),\n",
    "    (\"The setup was confusing and the instructions were unclear.\", \"negative\"),\n",
    "    (\"A solid product that does exactly what it says.\", \"positive\"),\n",
    "]\n",
    "\n",
    "# Separate positive and negative reviews\n",
    "positive_reviews = [review for review, sentiment in reviews_with_sentiment if sentiment == \"positive\"]\n",
    "negative_reviews = [review for review, sentiment in reviews_with_sentiment if sentiment == \"negative\"]\n",
    "\n",
    "# Combine all reviews into separate text strings\n",
    "positive_text = \" \".join(positive_reviews)\n",
    "negative_text = \" \".join(negative_reviews)\n",
    "\n",
    "# --- Generate Word Cloud for Positive Reviews ---\n",
    "stopwords = set(STOPWORDS)\n",
    "positive_wordcloud = WordCloud(width=800, height=400,\n",
    "                              background_color='white',\n",
    "                              stopwords=stopwords,\n",
    "                              min_font_size=10).generate(positive_text)\n",
    "\n",
    "plt.figure(figsize=(10, 5))\n",
    "plt.imshow(positive_wordcloud, interpolation='bilinear')\n",
    "plt.axis(\"off\")\n",
    "plt.title(\"Word Cloud of Positive Reviews\")\n",
    "plt.show()\n",
    "\n",
    "# --- Generate Word Cloud for Negative Reviews ---\n",
    "negative_wordcloud = WordCloud(width=800, height=400,\n",
    "                              background_color='white',\n",
    "                              stopwords=stopwords,\n",
    "                              colormap='autumn', # Using a different colormap for contrast\n",
    "                              min_font_size=10).generate(negative_text)\n",
    "\n",
    "plt.figure(figsize=(10, 5))\n",
    "plt.imshow(negative_wordcloud, interpolation='bilinear')\n",
    "plt.axis(\"off\")\n",
    "plt.title(\"Word Cloud of Negative Reviews\")\n",
    "plt.show()\n",
    "\n",
    "# --- Optional: Combined Word Cloud with Sentiment Coloring (More Advanced) ---\n",
    "# This approach requires assigning colors based on sentiment of individual words,\n",
    "# which is more complex and often involves deeper NLP analysis at the word level.\n",
    "# Here's a conceptual outline, but a full implementation is more involved.\n",
    "\n",
    "# def color_func(word, font_size, position, orientation, random_state=None, **kwargs):\n",
    "#     analysis = TextBlob(word)\n",
    "#     if analysis.sentiment.polarity > 0.1:\n",
    "#         return \"green\"\n",
    "#     elif analysis.sentiment.polarity < -0.1:\n",
    "#         return \"red\"\n",
    "#     else:\n",
    "#         return \"grey\"\n",
    "#\n",
    "# all_reviews_text = \" \".join([review for review, _ in reviews_with_sentiment])\n",
    "# combined_wordcloud = WordCloud(width=800, height=400,\n",
    "#                               background_color='white',\n",
    "#                               stopwords=stopwords,\n",
    "#                               min_font_size=10,\n",
    "#                               color_func=color_func).generate(all_reviews_text)\n",
    "#\n",
    "# plt.figure(figsize=(10, 5))\n",
    "# plt.imshow(combined_wordcloud, interpolation='bilinear')\n",
    "# plt.axis(\"off\")\n",
    "# plt.title(\"Combined Word Cloud Colored by Sentiment (Conceptual)\")\n",
    "# plt.show()"
   ]
  },
  {
   "cell_type": "code",
   "execution_count": 9,
   "id": "1da9b8c5",
   "metadata": {},
   "outputs": [
    {
     "ename": "NameError",
     "evalue": "name 'spacy' is not defined",
     "output_type": "error",
     "traceback": [
      "\u001b[0;31m---------------------------------------------------------------------------\u001b[0m",
      "\u001b[0;31mNameError\u001b[0m                                 Traceback (most recent call last)",
      "Cell \u001b[0;32mIn[9], line 1\u001b[0m\n\u001b[0;32m----> 1\u001b[0m nlp \u001b[38;5;241m=\u001b[39m spacy\u001b[38;5;241m.\u001b[39mload(\u001b[38;5;124m\"\u001b[39m\u001b[38;5;124men_core_web_sm\u001b[39m\u001b[38;5;124m\"\u001b[39m)\n\u001b[1;32m      2\u001b[0m text \u001b[38;5;241m=\u001b[39m \u001b[38;5;124m\"\u001b[39m\u001b[38;5;124mApple is looking at buying U.K. startup for $1 billion.\u001b[39m\u001b[38;5;124m\"\u001b[39m\n\u001b[1;32m      3\u001b[0m doc \u001b[38;5;241m=\u001b[39m nlp(text)\n",
      "\u001b[0;31mNameError\u001b[0m: name 'spacy' is not defined"
     ]
    }
   ],
   "source": [
    "nlp = spacy.load(\"en_core_web_sm\")\n",
    "text = \"Apple is looking at buying U.K. startup for $1 billion.\"\n",
    "doc = nlp(text)\n",
    "displacy.render(doc, style=\"ent\", jupyter=True) # For Jupyter notebooks\n",
    "\n",
    "\n"
   ]
  },
  {
   "cell_type": "code",
   "execution_count": null,
   "id": "a902728f",
   "metadata": {},
   "outputs": [],
   "source": []
  }
 ],
 "metadata": {
  "kernelspec": {
   "display_name": "Python 3 (ipykernel)",
   "language": "python",
   "name": "python3"
  },
  "language_info": {
   "codemirror_mode": {
    "name": "ipython",
    "version": 3
   },
   "file_extension": ".py",
   "mimetype": "text/x-python",
   "name": "python",
   "nbconvert_exporter": "python",
   "pygments_lexer": "ipython3",
   "version": "3.11.9"
  }
 },
 "nbformat": 4,
 "nbformat_minor": 5
}
