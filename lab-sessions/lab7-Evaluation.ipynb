{
 "cells": [
  {
   "cell_type": "markdown",
   "id": "168d89c1-16e1-4c2d-8428-db151ddb1fae",
   "metadata": {},
   "source": [
    "# Exam: Time Series Visualization with Bokeh\n",
    "\n",
    "This exam tests your ability to visualize time series data using the Bokeh library.\n",
    "You will be working with the \"Daily Minimum Temperatures in Melbourne\" dataset.\n",
    "For each question, provide the Python code using Bokeh to generate the requested visualization.\n",
    "\n",
    "**Dataset:** \"daily-minimum-temperatures-in-melbourne.csv\""
   ]
  },
  {
   "cell_type": "code",
   "execution_count": 1,
   "id": "e6ac081c",
   "metadata": {},
   "outputs": [
    {
     "data": {
      "text/html": [
       "    <style>\n",
       "        .bk-notebook-logo {\n",
       "            display: block;\n",
       "            width: 20px;\n",
       "            height: 20px;\n",
       "            background-image: url(data:image/png;base64,iVBORw0KGgoAAAANSUhEUgAAABQAAAAUCAYAAACNiR0NAAAABHNCSVQICAgIfAhkiAAAAAlwSFlzAAALEgAACxIB0t1+/AAAABx0RVh0U29mdHdhcmUAQWRvYmUgRmlyZXdvcmtzIENTNui8sowAAAOkSURBVDiNjZRtaJVlGMd/1/08zzln5zjP1LWcU9N0NkN8m2CYjpgQYQXqSs0I84OLIC0hkEKoPtiH3gmKoiJDU7QpLgoLjLIQCpEsNJ1vqUOdO7ppbuec5+V+rj4ctwzd8IIbbi6u+8f1539dt3A78eXC7QizUF7gyV1fD1Yqg4JWz84yffhm0qkFqBogB9rM8tZdtwVsPUhWhGcFJngGeWrPzHm5oaMmkfEg1usvLFyc8jLRqDOMru7AyC8saQr7GG7f5fvDeH7Ej8CM66nIF+8yngt6HWaKh7k49Soy9nXurCi1o3qUbS3zWfrYeQDTB/Qj6kX6Ybhw4B+bOYoLKCC9H3Nu/leUTZ1JdRWkkn2ldcCamzrcf47KKXdAJllSlxAOkRgyHsGC/zRday5Qld9DyoM4/q/rUoy/CXh3jzOu3bHUVZeU+DEn8FInkPBFlu3+nW3Nw0mk6vCDiWg8CeJaxEwuHS3+z5RgY+YBR6V1Z1nxSOfoaPa4LASWxxdNp+VWTk7+4vzaou8v8PN+xo+KY2xsw6une2frhw05CTYOmQvsEhjhWjn0bmXPjpE1+kplmmkP3suftwTubK9Vq22qKmrBhpY4jvd5afdRA3wGjFAgcnTK2s4hY0/GPNIb0nErGMCRxWOOX64Z8RAC4oCXdklmEvcL8o0BfkNK4lUg9HTl+oPlQxdNo3Mg4Nv175e/1LDGzZen30MEjRUtmXSfiTVu1kK8W4txyV6BMKlbgk3lMwYCiusNy9fVfvvwMxv8Ynl6vxoByANLTWplvuj/nF9m2+PDtt1eiHPBr1oIfhCChQMBw6Aw0UulqTKZdfVvfG7VcfIqLG9bcldL/+pdWTLxLUy8Qq38heUIjh4XlzZxzQm19lLFlr8vdQ97rjZVOLf8nclzckbcD4wxXMidpX30sFd37Fv/GtwwhzhxGVAprjbg0gCAEeIgwCZyTV2Z1REEW8O4py0wsjeloKoMr6iCY6dP92H6Vw/oTyICIthibxjm/DfN9lVz8IqtqKYLUXfoKVMVQVVJOElGjrnnUt9T9wbgp8AyYKaGlqingHZU/uG2NTZSVqwHQTWkx9hxjkpWDaCg6Ckj5qebgBVbT3V3NNXMSiWSDdGV3hrtzla7J+duwPOToIg42ChPQOQjspnSlp1V+Gjdged7+8UN5CRAV7a5EdFNwCjEaBR27b3W890TE7g24NAP/mMDXRWrGoFPQI9ls/MWO2dWFAar/xcOIImbbpA3zgAAAABJRU5ErkJggg==);\n",
       "        }\n",
       "    </style>\n",
       "    <div>\n",
       "        <a href=\"https://bokeh.org\" target=\"_blank\" class=\"bk-notebook-logo\"></a>\n",
       "        <span id=\"ebc74a03-d2c5-4c14-a956-ecb6982415c3\">Loading BokehJS ...</span>\n",
       "    </div>\n"
      ]
     },
     "metadata": {},
     "output_type": "display_data"
    },
    {
     "data": {
      "application/javascript": "'use strict';\n(function(root) {\n  function now() {\n    return new Date();\n  }\n\n  const force = true;\n\n  if (typeof root._bokeh_onload_callbacks === \"undefined\" || force === true) {\n    root._bokeh_onload_callbacks = [];\n    root._bokeh_is_loading = undefined;\n  }\n\nconst JS_MIME_TYPE = 'application/javascript';\n  const HTML_MIME_TYPE = 'text/html';\n  const EXEC_MIME_TYPE = 'application/vnd.bokehjs_exec.v0+json';\n  const CLASS_NAME = 'output_bokeh rendered_html';\n\n  /**\n   * Render data to the DOM node\n   */\n  function render(props, node) {\n    const script = document.createElement(\"script\");\n    node.appendChild(script);\n  }\n\n  /**\n   * Handle when an output is cleared or removed\n   */\n  function handleClearOutput(event, handle) {\n    function drop(id) {\n      const view = Bokeh.index.get_by_id(id)\n      if (view != null) {\n        view.model.document.clear()\n        Bokeh.index.delete(view)\n      }\n    }\n\n    const cell = handle.cell;\n\n    const id = cell.output_area._bokeh_element_id;\n    const server_id = cell.output_area._bokeh_server_id;\n\n    // Clean up Bokeh references\n    if (id != null) {\n      drop(id)\n    }\n\n    if (server_id !== undefined) {\n      // Clean up Bokeh references\n      const cmd_clean = \"from bokeh.io.state import curstate; print(curstate().uuid_to_server['\" + server_id + \"'].get_sessions()[0].document.roots[0]._id)\";\n      cell.notebook.kernel.execute(cmd_clean, {\n        iopub: {\n          output: function(msg) {\n            const id = msg.content.text.trim()\n            drop(id)\n          }\n        }\n      });\n      // Destroy server and session\n      const cmd_destroy = \"import bokeh.io.notebook as ion; ion.destroy_server('\" + server_id + \"')\";\n      cell.notebook.kernel.execute(cmd_destroy);\n    }\n  }\n\n  /**\n   * Handle when a new output is added\n   */\n  function handleAddOutput(event, handle) {\n    const output_area = handle.output_area;\n    const output = handle.output;\n\n    // limit handleAddOutput to display_data with EXEC_MIME_TYPE content only\n    if ((output.output_type != \"display_data\") || (!Object.prototype.hasOwnProperty.call(output.data, EXEC_MIME_TYPE))) {\n      return\n    }\n\n    const toinsert = output_area.element.find(\".\" + CLASS_NAME.split(' ')[0]);\n\n    if (output.metadata[EXEC_MIME_TYPE][\"id\"] !== undefined) {\n      toinsert[toinsert.length - 1].firstChild.textContent = output.data[JS_MIME_TYPE];\n      // store reference to embed id on output_area\n      output_area._bokeh_element_id = output.metadata[EXEC_MIME_TYPE][\"id\"];\n    }\n    if (output.metadata[EXEC_MIME_TYPE][\"server_id\"] !== undefined) {\n      const bk_div = document.createElement(\"div\");\n      bk_div.innerHTML = output.data[HTML_MIME_TYPE];\n      const script_attrs = bk_div.children[0].attributes;\n      for (let i = 0; i < script_attrs.length; i++) {\n        toinsert[toinsert.length - 1].firstChild.setAttribute(script_attrs[i].name, script_attrs[i].value);\n        toinsert[toinsert.length - 1].firstChild.textContent = bk_div.children[0].textContent\n      }\n      // store reference to server id on output_area\n      output_area._bokeh_server_id = output.metadata[EXEC_MIME_TYPE][\"server_id\"];\n    }\n  }\n\n  function register_renderer(events, OutputArea) {\n\n    function append_mime(data, metadata, element) {\n      // create a DOM node to render to\n      const toinsert = this.create_output_subarea(\n        metadata,\n        CLASS_NAME,\n        EXEC_MIME_TYPE\n      );\n      this.keyboard_manager.register_events(toinsert);\n      // Render to node\n      const props = {data: data, metadata: metadata[EXEC_MIME_TYPE]};\n      render(props, toinsert[toinsert.length - 1]);\n      element.append(toinsert);\n      return toinsert\n    }\n\n    /* Handle when an output is cleared or removed */\n    events.on('clear_output.CodeCell', handleClearOutput);\n    events.on('delete.Cell', handleClearOutput);\n\n    /* Handle when a new output is added */\n    events.on('output_added.OutputArea', handleAddOutput);\n\n    /**\n     * Register the mime type and append_mime function with output_area\n     */\n    OutputArea.prototype.register_mime_type(EXEC_MIME_TYPE, append_mime, {\n      /* Is output safe? */\n      safe: true,\n      /* Index of renderer in `output_area.display_order` */\n      index: 0\n    });\n  }\n\n  // register the mime type if in Jupyter Notebook environment and previously unregistered\n  if (root.Jupyter !== undefined) {\n    const events = require('base/js/events');\n    const OutputArea = require('notebook/js/outputarea').OutputArea;\n\n    if (OutputArea.prototype.mime_types().indexOf(EXEC_MIME_TYPE) == -1) {\n      register_renderer(events, OutputArea);\n    }\n  }\n  if (typeof (root._bokeh_timeout) === \"undefined\" || force === true) {\n    root._bokeh_timeout = Date.now() + 5000;\n    root._bokeh_failed_load = false;\n  }\n\n  const NB_LOAD_WARNING = {'data': {'text/html':\n     \"<div style='background-color: #fdd'>\\n\"+\n     \"<p>\\n\"+\n     \"BokehJS does not appear to have successfully loaded. If loading BokehJS from CDN, this \\n\"+\n     \"may be due to a slow or bad network connection. Possible fixes:\\n\"+\n     \"</p>\\n\"+\n     \"<ul>\\n\"+\n     \"<li>re-rerun `output_notebook()` to attempt to load from CDN again, or</li>\\n\"+\n     \"<li>use INLINE resources instead, as so:</li>\\n\"+\n     \"</ul>\\n\"+\n     \"<code>\\n\"+\n     \"from bokeh.resources import INLINE\\n\"+\n     \"output_notebook(resources=INLINE)\\n\"+\n     \"</code>\\n\"+\n     \"</div>\"}};\n\n  function display_loaded(error = null) {\n    const el = document.getElementById(\"ebc74a03-d2c5-4c14-a956-ecb6982415c3\");\n    if (el != null) {\n      const html = (() => {\n        if (typeof root.Bokeh === \"undefined\") {\n          if (error == null) {\n            return \"BokehJS is loading ...\";\n          } else {\n            return \"BokehJS failed to load.\";\n          }\n        } else {\n          const prefix = `BokehJS ${root.Bokeh.version}`;\n          if (error == null) {\n            return `${prefix} successfully loaded.`;\n          } else {\n            return `${prefix} <b>encountered errors</b> while loading and may not function as expected.`;\n          }\n        }\n      })();\n      el.innerHTML = html;\n\n      if (error != null) {\n        const wrapper = document.createElement(\"div\");\n        wrapper.style.overflow = \"auto\";\n        wrapper.style.height = \"5em\";\n        wrapper.style.resize = \"vertical\";\n        const content = document.createElement(\"div\");\n        content.style.fontFamily = \"monospace\";\n        content.style.whiteSpace = \"pre-wrap\";\n        content.style.backgroundColor = \"rgb(255, 221, 221)\";\n        content.textContent = error.stack ?? error.toString();\n        wrapper.append(content);\n        el.append(wrapper);\n      }\n    } else if (Date.now() < root._bokeh_timeout) {\n      setTimeout(() => display_loaded(error), 100);\n    }\n  }\n\n  function run_callbacks() {\n    try {\n      root._bokeh_onload_callbacks.forEach(function(callback) {\n        if (callback != null)\n          callback();\n      });\n    } finally {\n      delete root._bokeh_onload_callbacks\n    }\n    console.debug(\"Bokeh: all callbacks have finished\");\n  }\n\n  function load_libs(css_urls, js_urls, callback) {\n    if (css_urls == null) css_urls = [];\n    if (js_urls == null) js_urls = [];\n\n    root._bokeh_onload_callbacks.push(callback);\n    if (root._bokeh_is_loading > 0) {\n      console.debug(\"Bokeh: BokehJS is being loaded, scheduling callback at\", now());\n      return null;\n    }\n    if (js_urls == null || js_urls.length === 0) {\n      run_callbacks();\n      return null;\n    }\n    console.debug(\"Bokeh: BokehJS not loaded, scheduling load and callback at\", now());\n    root._bokeh_is_loading = css_urls.length + js_urls.length;\n\n    function on_load() {\n      root._bokeh_is_loading--;\n      if (root._bokeh_is_loading === 0) {\n        console.debug(\"Bokeh: all BokehJS libraries/stylesheets loaded\");\n        run_callbacks()\n      }\n    }\n\n    function on_error(url) {\n      console.error(\"failed to load \" + url);\n    }\n\n    for (let i = 0; i < css_urls.length; i++) {\n      const url = css_urls[i];\n      const element = document.createElement(\"link\");\n      element.onload = on_load;\n      element.onerror = on_error.bind(null, url);\n      element.rel = \"stylesheet\";\n      element.type = \"text/css\";\n      element.href = url;\n      console.debug(\"Bokeh: injecting link tag for BokehJS stylesheet: \", url);\n      document.body.appendChild(element);\n    }\n\n    for (let i = 0; i < js_urls.length; i++) {\n      const url = js_urls[i];\n      const element = document.createElement('script');\n      element.onload = on_load;\n      element.onerror = on_error.bind(null, url);\n      element.async = false;\n      element.src = url;\n      console.debug(\"Bokeh: injecting script tag for BokehJS library: \", url);\n      document.head.appendChild(element);\n    }\n  };\n\n  function inject_raw_css(css) {\n    const element = document.createElement(\"style\");\n    element.appendChild(document.createTextNode(css));\n    document.body.appendChild(element);\n  }\n\n  const js_urls = [\"https://cdn.bokeh.org/bokeh/release/bokeh-3.7.3.min.js\", \"https://cdn.bokeh.org/bokeh/release/bokeh-gl-3.7.3.min.js\", \"https://cdn.bokeh.org/bokeh/release/bokeh-widgets-3.7.3.min.js\", \"https://cdn.bokeh.org/bokeh/release/bokeh-tables-3.7.3.min.js\", \"https://cdn.bokeh.org/bokeh/release/bokeh-mathjax-3.7.3.min.js\"];\n  const css_urls = [];\n\n  const inline_js = [    function(Bokeh) {\n      Bokeh.set_log_level(\"info\");\n    },\nfunction(Bokeh) {\n    }\n  ];\n\n  function run_inline_js() {\n    if (root.Bokeh !== undefined || force === true) {\n      try {\n            for (let i = 0; i < inline_js.length; i++) {\n      inline_js[i].call(root, root.Bokeh);\n    }\n\n      } catch (error) {display_loaded(error);throw error;\n      }if (force === true) {\n        display_loaded();\n      }} else if (Date.now() < root._bokeh_timeout) {\n      setTimeout(run_inline_js, 100);\n    } else if (!root._bokeh_failed_load) {\n      console.log(\"Bokeh: BokehJS failed to load within specified timeout.\");\n      root._bokeh_failed_load = true;\n    } else if (force !== true) {\n      const cell = $(document.getElementById(\"ebc74a03-d2c5-4c14-a956-ecb6982415c3\")).parents('.cell').data().cell;\n      cell.output_area.append_execute_result(NB_LOAD_WARNING)\n    }\n  }\n\n  if (root._bokeh_is_loading === 0) {\n    console.debug(\"Bokeh: BokehJS loaded, going straight to plotting\");\n    run_inline_js();\n  } else {\n    load_libs(css_urls, js_urls, function() {\n      console.debug(\"Bokeh: BokehJS plotting callback run at\", now());\n      run_inline_js();\n    });\n  }\n}(window));",
      "application/vnd.bokehjs_load.v0+json": ""
     },
     "metadata": {},
     "output_type": "display_data"
    }
   ],
   "source": [
    "import pandas as pd\n",
    "from bokeh.plotting import figure, show\n",
    "from bokeh.io import output_notebook\n",
    "from bokeh.models import (\n",
    "    ColumnDataSource,\n",
    "    HoverTool,\n",
    "    DatetimeTickFormatter,\n",
    "    NumeralTickFormatter,\n",
    "    CustomJS,\n",
    "    DateRangeSlider,\n",
    "\n",
    ")\n",
    "from bokeh.layouts import row, column\n",
    "from bokeh.transform import factor_cmap\n",
    "from bokeh.palettes import Category20_20\n",
    "from pathlib import Path\n",
    "import calendar\n",
    "import numpy as np\n",
    "\n",
    "DATA_PATH = Path(\".\")\n",
    "\n",
    "df = pd.read_csv(\"./datasets/AirPassengersDates.csv\")\n",
    "\n",
    "# Rename columns for clarity\n",
    "df.columns = ['Date', 'Temperature']\n",
    "\n",
    "# Convert the 'Date' column to datetime format\n",
    "df['Date'] = pd.to_datetime(df['Date'])\n",
    "\n",
    "# Remove '?' from the 'Temperature' column and convert to numeric\n",
    "df['Temperature'] = df['Temperature'].astype(str).str.replace('?', '', regex=False)\n",
    "df['Temperature'] = pd.to_numeric(df['Temperature'])\n",
    "\n",
    "output_notebook()\n",
    "\n",
    "source = ColumnDataSource(df)"
   ]
  },
  {
   "cell_type": "code",
   "execution_count": 2,
   "id": "2d556200",
   "metadata": {},
   "outputs": [
    {
     "name": "stdout",
     "output_type": "stream",
     "text": [
      "        Date  Temperature\n",
      "0 1949-01-12          112\n",
      "1 1949-02-24          118\n",
      "2 1949-03-22          132\n",
      "3 1949-04-05          129\n",
      "4 1949-05-24          121\n",
      "Date           datetime64[ns]\n",
      "Temperature             int64\n",
      "dtype: object\n"
     ]
    }
   ],
   "source": [
    "print(df.head())\n",
    "print(df.dtypes)"
   ]
  },
  {
   "cell_type": "markdown",
   "id": "ee683bcd-935c-43d9-85b5-22faa6e4bef8",
   "metadata": {},
   "source": [
    "Question 1: Basic Time Series Line Plot\n",
    "1.  Create a basic line plot showing the daily minimum temperature over time.\n",
    "\n",
    "    * Use the 'Date' column on the x-axis and the 'Temperature' column on the y-axis.\n",
    "    * Set the plot title to \"Daily Minimum Temperatures\".\n",
    "    * Label the x-axis as \"Date\" and the y-axis as \"Temperature (°C)\".\n",
    "    * Add tooltips to display the date and temperature when hovering over the line.\n",
    "    * Enable pan, wheel zoom, and reset tools.\n"
   ]
  },
  {
   "cell_type": "code",
   "execution_count": 3,
   "id": "c52496fc-e7a0-488f-9a97-e78afde12c2e",
   "metadata": {},
   "outputs": [
    {
     "data": {
      "text/html": [
       "\n",
       "  <div id=\"cff8694d-3cee-4151-8c49-2c17b6ca8b73\" data-root-id=\"p1006\" style=\"display: contents;\"></div>\n"
      ]
     },
     "metadata": {},
     "output_type": "display_data"
    },
    {
     "data": {
      "application/javascript": "(function(root) {\n  function embed_document(root) {\n  const docs_json = {\"a71594ab-18c3-43eb-8331-21f3ca877356\":{\"version\":\"3.7.3\",\"title\":\"Bokeh Application\",\"roots\":[{\"type\":\"object\",\"name\":\"Figure\",\"id\":\"p1006\",\"attributes\":{\"x_range\":{\"type\":\"object\",\"name\":\"DataRange1d\",\"id\":\"p1007\"},\"y_range\":{\"type\":\"object\",\"name\":\"DataRange1d\",\"id\":\"p1008\"},\"x_scale\":{\"type\":\"object\",\"name\":\"LinearScale\",\"id\":\"p1016\"},\"y_scale\":{\"type\":\"object\",\"name\":\"LinearScale\",\"id\":\"p1017\"},\"title\":{\"type\":\"object\",\"name\":\"Title\",\"id\":\"p1009\",\"attributes\":{\"text\":\"Daily Minimum Temperatures\"}},\"renderers\":[{\"type\":\"object\",\"name\":\"GlyphRenderer\",\"id\":\"p1051\",\"attributes\":{\"data_source\":{\"type\":\"object\",\"name\":\"ColumnDataSource\",\"id\":\"p1003\",\"attributes\":{\"selected\":{\"type\":\"object\",\"name\":\"Selection\",\"id\":\"p1004\",\"attributes\":{\"indices\":[],\"line_indices\":[]}},\"selection_policy\":{\"type\":\"object\",\"name\":\"UnionRenderers\",\"id\":\"p1005\"},\"data\":{\"type\":\"map\",\"entries\":[[\"index\",{\"type\":\"ndarray\",\"array\":{\"type\":\"bytes\",\"data\":\"AAAAAAEAAAACAAAAAwAAAAQAAAAFAAAABgAAAAcAAAAIAAAACQAAAAoAAAALAAAADAAAAA0AAAAOAAAADwAAABAAAAARAAAAEgAAABMAAAAUAAAAFQAAABYAAAAXAAAAGAAAABkAAAAaAAAAGwAAABwAAAAdAAAAHgAAAB8AAAAgAAAAIQAAACIAAAAjAAAAJAAAACUAAAAmAAAAJwAAACgAAAApAAAAKgAAACsAAAAsAAAALQAAAC4AAAAvAAAAMAAAADEAAAAyAAAAMwAAADQAAAA1AAAANgAAADcAAAA4AAAAOQAAADoAAAA7AAAAPAAAAD0AAAA+AAAAPwAAAEAAAABBAAAAQgAAAEMAAABEAAAARQAAAEYAAABHAAAASAAAAEkAAABKAAAASwAAAEwAAABNAAAATgAAAE8AAABQAAAAUQAAAFIAAABTAAAAVAAAAFUAAABWAAAAVwAAAFgAAABZAAAAWgAAAFsAAABcAAAAXQAAAF4AAABfAAAAYAAAAGEAAABiAAAAYwAAAGQAAABlAAAAZgAAAGcAAABoAAAAaQAAAGoAAABrAAAAbAAAAG0AAABuAAAAbwAAAHAAAABxAAAAcgAAAHMAAAB0AAAAdQAAAHYAAAB3AAAAeAAAAHkAAAB6AAAAewAAAHwAAAB9AAAAfgAAAH8AAACAAAAAgQAAAIIAAACDAAAAhAAAAIUAAACGAAAAhwAAAIgAAACJAAAAigAAAIsAAACMAAAAjQAAAI4AAACPAAAA\"},\"shape\":[144],\"dtype\":\"int32\",\"order\":\"little\"}],[\"Date\",{\"type\":\"ndarray\",\"array\":{\"type\":\"bytes\",\"data\":\"AACATlRCY8IAAAAgpiZjwgAAAHXpFWPCAAAAVOYMY8IAAIBgW+1iwgAAAOr522LCAACAZgjRYsIAAIDVa7NiwgAAABdXrGLCAACA6KiQYsIAAIB4D3xiwgAAgDYJamLCAACAxm9VYsIAAIBW1kBiwgAAgH2GLWLCAAAAT9gRYsIAAIDL5gZiwgAAgJZw7mHCAACA+EPXYcIAAAD/C9RhwgAAAGHfvGHCAACABJ6eYcIAAIDwKo9hwgAAgEVufmHCAACASxtiYcIAAABS415hwgAAAEsASWHCAAAAjNAoYcIAAABePSZhwgAAAKyd/2DCAAAAuS35YMIAAAA8BOtgwgAAAHBE0WDCAACAJ3bCYMIAAIDR/KBgwgAAgOsclGDCAACA16mEYMIAAAAFIm5gwgAAgI7AXGDCAACATLpKYMIAAABMnzFgwgAAgOLNGWDCAACAZaQLYMIAAADXot5fwgAAAIEpvV/CAAAA3BmQX8IAAABLfXJfwgAAAA8kRF/CAAAAfocmX8IAAAC/VwZfwgAAAL4h1F7CAAAAIPW8XsIAAAD+u4FewgAAAPfYa17CAAAAAzMzXsIAAABeIwZewgAAAGTQ6V3CAAAAuRPZXcIAAAC43aZdwgAAAGJkhV3CAAAAnFFPXcIAAAC8HiZdwgAAAM9bA13CAAAAbFLoXMIAAABrHLZcwgAAAF1WilzCAAAAspl5XMIAAABizTtcwgAAACDHKVzCAAAALCHxW8IAAAA/Xs5bwgAAAPZ0plvCAAAA9T50W8IAAAAinERbwgAAAMZ1P1vCAAAAAGMJW8IAAACWdthawgAAAED9tlrCAAAARqqaWsIAAAChmm1awgAAAEQ+NlrCAAAAphEfWsIAAABQmP1ZwgAAAELS0VnCAAAAiU+VWcIAAAD/lY1ZwgAAAOQ/aFnCAAAAEZ04WcIAAACnsAdZwgAAAHjn0ljCAAAAXZGtWMIAAADM9I9YwgAAAAbiWVjCAAAATpVPWMIAAACVEhNYwgAAAPAC5lfCAAAAyBzHV8IAAACtxqFXwgAAAGvAj1fCAAAAi41mV8IAAAC46jZXwgAAADTeElfCAAAAOov2VsIAAACOmLNWwgAAAOPbolbCAAAAN+lfVsIAAACmTEJWwgAAAHeDDVbCAAAA2Vb2VcIAAACxcNdVwgAAAP/QsFXCAAAAnMeVVcIAAAB6jlpVwgAAAI3LN1XCAAAAcnUSVcIAAAA2HORUwgAAAHAJrlTCAAAAaSaYVMIAAAAtzWlUwgAAAIi9PFTCAAAAm/oZVMIAAAD26uxTwgAAABAL4FPCAAAA9bS6U8IAAACLyIlTwgAAAFz/VFPCAAAAt+8nU8IAAADyEiRTwgAAALa59VLCAAAAwhO9UsIAAACTSohSwgAAAAKualLCAAAAfqFGUsIAAABJKy5SwgAAAJCo8VHCAAAAxOjXUcIAAAD+1aFRwgAAAHQcmlHCAAAAwnxzUcIAAAA3jTlRwgAAABw3FFHCAAAA4N3lUMIAAAANO7ZQwgAAAFXuq1DC\"},\"shape\":[144],\"dtype\":\"float64\",\"order\":\"little\"}],[\"Temperature\",{\"type\":\"ndarray\",\"array\":{\"type\":\"bytes\",\"data\":\"cAAAAHYAAACEAAAAgQAAAHkAAACHAAAAlAAAAJQAAACIAAAAdwAAAGgAAAB2AAAAcwAAAH4AAACNAAAAhwAAAH0AAACVAAAAqgAAAKoAAACeAAAAhQAAAHIAAACMAAAAkQAAAJYAAACyAAAAowAAAKwAAACyAAAAxwAAAMcAAAC4AAAAogAAAJIAAACmAAAAqwAAALQAAADBAAAAtQAAALcAAADaAAAA5gAAAPIAAADRAAAAvwAAAKwAAADCAAAAxAAAAMQAAADsAAAA6wAAAOUAAADzAAAACAEAABABAADtAAAA0wAAALQAAADJAAAAzAAAALwAAADrAAAA4wAAAOoAAAAIAQAALgEAACUBAAADAQAA5QAAAMsAAADlAAAA8gAAAOkAAAALAQAADQEAAA4BAAA7AQAAbAEAAFsBAAA4AQAAEgEAAO0AAAAWAQAAHAEAABUBAAA9AQAAOQEAAD4BAAB2AQAAnQEAAJUBAABjAQAAMgEAAA8BAAAyAQAAOwEAAC0BAABkAQAAXAEAAGMBAACmAQAA0QEAANMBAACUAQAAWwEAADEBAABQAQAAVAEAAD4BAABqAQAAXAEAAGsBAACzAQAA6wEAAPkBAACUAQAAZwEAADYBAABRAQAAaAEAAFYBAACWAQAAjAEAAKQBAADYAQAAJAIAAC8CAADPAQAAlwEAAGoBAACVAQAAoQEAAIcBAACjAQAAzQEAANgBAAAXAgAAbgIAAF4CAAD8AQAAzQEAAIYBAACwAQAA\"},\"shape\":[144],\"dtype\":\"int32\",\"order\":\"little\"}]]}}},\"view\":{\"type\":\"object\",\"name\":\"CDSView\",\"id\":\"p1052\",\"attributes\":{\"filter\":{\"type\":\"object\",\"name\":\"AllIndices\",\"id\":\"p1053\"}}},\"glyph\":{\"type\":\"object\",\"name\":\"Line\",\"id\":\"p1048\",\"attributes\":{\"x\":{\"type\":\"field\",\"field\":\"Date\"},\"y\":{\"type\":\"field\",\"field\":\"Temperature\"},\"line_color\":\"#1f77b4\",\"line_width\":2}},\"nonselection_glyph\":{\"type\":\"object\",\"name\":\"Line\",\"id\":\"p1049\",\"attributes\":{\"x\":{\"type\":\"field\",\"field\":\"Date\"},\"y\":{\"type\":\"field\",\"field\":\"Temperature\"},\"line_color\":\"#1f77b4\",\"line_alpha\":0.1,\"line_width\":2}},\"muted_glyph\":{\"type\":\"object\",\"name\":\"Line\",\"id\":\"p1050\",\"attributes\":{\"x\":{\"type\":\"field\",\"field\":\"Date\"},\"y\":{\"type\":\"field\",\"field\":\"Temperature\"},\"line_color\":\"#1f77b4\",\"line_alpha\":0.2,\"line_width\":2}}}}],\"toolbar\":{\"type\":\"object\",\"name\":\"Toolbar\",\"id\":\"p1015\",\"attributes\":{\"tools\":[{\"type\":\"object\",\"name\":\"PanTool\",\"id\":\"p1042\"},{\"type\":\"object\",\"name\":\"WheelZoomTool\",\"id\":\"p1043\",\"attributes\":{\"renderers\":\"auto\"}},{\"type\":\"object\",\"name\":\"ResetTool\",\"id\":\"p1044\"},{\"type\":\"object\",\"name\":\"HoverTool\",\"id\":\"p1056\",\"attributes\":{\"renderers\":\"auto\",\"tooltips\":[[\"Date\",\"@Date{%Y-%m-%d}\"],[\"Temp\\u00e9rature\",\"@Temperature{0.0} \\u00b0C\"]],\"formatters\":{\"type\":\"map\",\"entries\":[[\"@Date\",\"datetime\"],[\"@Temperature\",\"numeral\"]]},\"mode\":\"vline\"}}]}},\"left\":[{\"type\":\"object\",\"name\":\"LinearAxis\",\"id\":\"p1037\",\"attributes\":{\"ticker\":{\"type\":\"object\",\"name\":\"BasicTicker\",\"id\":\"p1038\",\"attributes\":{\"mantissas\":[1,2,5]}},\"formatter\":{\"type\":\"object\",\"name\":\"BasicTickFormatter\",\"id\":\"p1039\"},\"axis_label\":\"Temperature (\\u00b0C)\",\"major_label_policy\":{\"type\":\"object\",\"name\":\"AllLabels\",\"id\":\"p1040\"}}}],\"below\":[{\"type\":\"object\",\"name\":\"DatetimeAxis\",\"id\":\"p1018\",\"attributes\":{\"ticker\":{\"type\":\"object\",\"name\":\"DatetimeTicker\",\"id\":\"p1019\",\"attributes\":{\"num_minor_ticks\":5,\"tickers\":[{\"type\":\"object\",\"name\":\"AdaptiveTicker\",\"id\":\"p1020\",\"attributes\":{\"num_minor_ticks\":0,\"mantissas\":[1,2,5],\"max_interval\":500.0}},{\"type\":\"object\",\"name\":\"AdaptiveTicker\",\"id\":\"p1021\",\"attributes\":{\"num_minor_ticks\":0,\"base\":60,\"mantissas\":[1,2,5,10,15,20,30],\"min_interval\":1000.0,\"max_interval\":1800000.0}},{\"type\":\"object\",\"name\":\"AdaptiveTicker\",\"id\":\"p1022\",\"attributes\":{\"num_minor_ticks\":0,\"base\":24,\"mantissas\":[1,2,4,6,8,12],\"min_interval\":3600000.0,\"max_interval\":43200000.0}},{\"type\":\"object\",\"name\":\"DaysTicker\",\"id\":\"p1023\",\"attributes\":{\"days\":[1,2,3,4,5,6,7,8,9,10,11,12,13,14,15,16,17,18,19,20,21,22,23,24,25,26,27,28,29,30,31]}},{\"type\":\"object\",\"name\":\"DaysTicker\",\"id\":\"p1024\",\"attributes\":{\"days\":[1,4,7,10,13,16,19,22,25,28]}},{\"type\":\"object\",\"name\":\"DaysTicker\",\"id\":\"p1025\",\"attributes\":{\"days\":[1,8,15,22]}},{\"type\":\"object\",\"name\":\"DaysTicker\",\"id\":\"p1026\",\"attributes\":{\"days\":[1,15]}},{\"type\":\"object\",\"name\":\"MonthsTicker\",\"id\":\"p1027\",\"attributes\":{\"months\":[0,1,2,3,4,5,6,7,8,9,10,11]}},{\"type\":\"object\",\"name\":\"MonthsTicker\",\"id\":\"p1028\",\"attributes\":{\"months\":[0,2,4,6,8,10]}},{\"type\":\"object\",\"name\":\"MonthsTicker\",\"id\":\"p1029\",\"attributes\":{\"months\":[0,4,8]}},{\"type\":\"object\",\"name\":\"MonthsTicker\",\"id\":\"p1030\",\"attributes\":{\"months\":[0,6]}},{\"type\":\"object\",\"name\":\"YearsTicker\",\"id\":\"p1031\"}]}},\"formatter\":{\"type\":\"object\",\"name\":\"DatetimeTickFormatter\",\"id\":\"p1034\",\"attributes\":{\"seconds\":\"%T\",\"minsec\":\"%T\",\"minutes\":\"%H:%M\",\"hours\":\"%H:%M\",\"days\":\"%b %d\",\"months\":\"%b %Y\",\"strip_leading_zeros\":[\"microseconds\",\"milliseconds\",\"seconds\"],\"boundary_scaling\":false,\"context\":{\"type\":\"object\",\"name\":\"DatetimeTickFormatter\",\"id\":\"p1033\",\"attributes\":{\"microseconds\":\"%T\",\"milliseconds\":\"%T\",\"seconds\":\"%b %d, %Y\",\"minsec\":\"%b %d, %Y\",\"minutes\":\"%b %d, %Y\",\"hourmin\":\"%b %d, %Y\",\"hours\":\"%b %d, %Y\",\"days\":\"%Y\",\"months\":\"\",\"years\":\"\",\"boundary_scaling\":false,\"hide_repeats\":true,\"context\":{\"type\":\"object\",\"name\":\"DatetimeTickFormatter\",\"id\":\"p1032\",\"attributes\":{\"microseconds\":\"%b %d, %Y\",\"milliseconds\":\"%b %d, %Y\",\"seconds\":\"\",\"minsec\":\"\",\"minutes\":\"\",\"hourmin\":\"\",\"hours\":\"\",\"days\":\"\",\"months\":\"\",\"years\":\"\",\"boundary_scaling\":false,\"hide_repeats\":true}},\"context_which\":\"all\"}},\"context_which\":\"all\"}},\"axis_label\":\"Date\",\"major_label_policy\":{\"type\":\"object\",\"name\":\"AllLabels\",\"id\":\"p1035\"}}}],\"center\":[{\"type\":\"object\",\"name\":\"Grid\",\"id\":\"p1036\",\"attributes\":{\"axis\":{\"id\":\"p1018\"}}},{\"type\":\"object\",\"name\":\"Grid\",\"id\":\"p1041\",\"attributes\":{\"dimension\":1,\"axis\":{\"id\":\"p1037\"}}},{\"type\":\"object\",\"name\":\"Legend\",\"id\":\"p1054\",\"attributes\":{\"items\":[{\"type\":\"object\",\"name\":\"LegendItem\",\"id\":\"p1055\",\"attributes\":{\"label\":{\"type\":\"value\",\"value\":\"Temp\\u00e9rature journali\\u00e8re\"},\"renderers\":[{\"id\":\"p1051\"}]}}]}}]}}]}};\n  const render_items = [{\"docid\":\"a71594ab-18c3-43eb-8331-21f3ca877356\",\"roots\":{\"p1006\":\"cff8694d-3cee-4151-8c49-2c17b6ca8b73\"},\"root_ids\":[\"p1006\"]}];\n  void root.Bokeh.embed.embed_items_notebook(docs_json, render_items);\n  }\n  if (root.Bokeh !== undefined) {\n    embed_document(root);\n  } else {\n    let attempts = 0;\n    const timer = setInterval(function(root) {\n      if (root.Bokeh !== undefined) {\n        clearInterval(timer);\n        embed_document(root);\n      } else {\n        attempts++;\n        if (attempts > 100) {\n          clearInterval(timer);\n          console.log(\"Bokeh: ERROR: Unable to run BokehJS code because BokehJS library is missing\");\n        }\n      }\n    }, 10, root)\n  }\n})(window);",
      "application/vnd.bokehjs_exec.v0+json": ""
     },
     "metadata": {
      "application/vnd.bokehjs_exec.v0+json": {
       "id": "p1006"
      }
     },
     "output_type": "display_data"
    }
   ],
   "source": [
    "p = figure(\n",
    "    title=\"Daily Minimum Temperatures\",\n",
    "    x_axis_type=\"datetime\",\n",
    "    x_axis_label=\"Date\",\n",
    "    y_axis_label=\"Temperature (°C)\",\n",
    "    tools=\"pan,wheel_zoom,reset\"\n",
    ")\n",
    "p.line(\n",
    "    x='Date',\n",
    "    y='Temperature',\n",
    "    source=source,\n",
    "    line_width=2,\n",
    "    legend_label=\"Température journalière\"\n",
    ")\n",
    "hover = HoverTool(\n",
    "    tooltips=[\n",
    "        (\"Date\", \"@Date{%Y-%m-%d}\"),\n",
    "        (\"Température\", \"@Temperature{0.0} °C\")\n",
    "    ],\n",
    "    formatters={\n",
    "        '@Date': 'datetime',     # formate la date\n",
    "        '@Temperature': 'numeral'  # formate la valeur numérique\n",
    "    },\n",
    "    mode='vline'\n",
    ")\n",
    "p.add_tools(hover)\n",
    "\n",
    "show(p)"
   ]
  },
  {
   "cell_type": "markdown",
   "id": "45fa6be8-4bc4-461c-9313-ab9d01393009",
   "metadata": {},
   "source": [
    "Question 2: Rolling Average\n",
    "2.  Calculate the 30-day rolling average of the daily minimum temperature and plot it\n",
    "    alongside the original temperature data.\n",
    "\n",
    "    * Create a new column 'Rolling_Avg' in the DataFrame containing the 30-day rolling average.\n",
    "    * Plot both the original 'Temperature' and the 'Rolling_Avg' on the same plot.\n",
    "    * Use different colors and line styles to distinguish between the two.\n",
    "    * Add a legend to the plot to label the lines.\n",
    "    * Add tooltips to display the date, original temperature, and rolling average."
   ]
  },
  {
   "cell_type": "code",
   "execution_count": 4,
   "id": "d5c654d8-9d10-44e7-8344-80e72de1a5a7",
   "metadata": {},
   "outputs": [
    {
     "data": {
      "text/html": [
       "\n",
       "  <div id=\"dd007501-8449-45e1-918d-475ad8882b96\" data-root-id=\"p1063\" style=\"display: contents;\"></div>\n"
      ]
     },
     "metadata": {},
     "output_type": "display_data"
    },
    {
     "data": {
      "application/javascript": "(function(root) {\n  function embed_document(root) {\n  const docs_json = {\"4f8d91ec-f03d-452d-a1dc-3361f2caff00\":{\"version\":\"3.7.3\",\"title\":\"Bokeh Application\",\"roots\":[{\"type\":\"object\",\"name\":\"Figure\",\"id\":\"p1063\",\"attributes\":{\"x_range\":{\"type\":\"object\",\"name\":\"DataRange1d\",\"id\":\"p1064\"},\"y_range\":{\"type\":\"object\",\"name\":\"DataRange1d\",\"id\":\"p1065\"},\"x_scale\":{\"type\":\"object\",\"name\":\"LinearScale\",\"id\":\"p1073\"},\"y_scale\":{\"type\":\"object\",\"name\":\"LinearScale\",\"id\":\"p1074\"},\"title\":{\"type\":\"object\",\"name\":\"Title\",\"id\":\"p1066\",\"attributes\":{\"text\":\"Daily Minimum Temperatures with 30-Day Rolling Average\"}},\"renderers\":[{\"type\":\"object\",\"name\":\"GlyphRenderer\",\"id\":\"p1108\",\"attributes\":{\"data_source\":{\"type\":\"object\",\"name\":\"ColumnDataSource\",\"id\":\"p1060\",\"attributes\":{\"selected\":{\"type\":\"object\",\"name\":\"Selection\",\"id\":\"p1061\",\"attributes\":{\"indices\":[],\"line_indices\":[]}},\"selection_policy\":{\"type\":\"object\",\"name\":\"UnionRenderers\",\"id\":\"p1062\"},\"data\":{\"type\":\"map\",\"entries\":[[\"index\",{\"type\":\"ndarray\",\"array\":{\"type\":\"bytes\",\"data\":\"AAAAAAEAAAACAAAAAwAAAAQAAAAFAAAABgAAAAcAAAAIAAAACQAAAAoAAAALAAAADAAAAA0AAAAOAAAADwAAABAAAAARAAAAEgAAABMAAAAUAAAAFQAAABYAAAAXAAAAGAAAABkAAAAaAAAAGwAAABwAAAAdAAAAHgAAAB8AAAAgAAAAIQAAACIAAAAjAAAAJAAAACUAAAAmAAAAJwAAACgAAAApAAAAKgAAACsAAAAsAAAALQAAAC4AAAAvAAAAMAAAADEAAAAyAAAAMwAAADQAAAA1AAAANgAAADcAAAA4AAAAOQAAADoAAAA7AAAAPAAAAD0AAAA+AAAAPwAAAEAAAABBAAAAQgAAAEMAAABEAAAARQAAAEYAAABHAAAASAAAAEkAAABKAAAASwAAAEwAAABNAAAATgAAAE8AAABQAAAAUQAAAFIAAABTAAAAVAAAAFUAAABWAAAAVwAAAFgAAABZAAAAWgAAAFsAAABcAAAAXQAAAF4AAABfAAAAYAAAAGEAAABiAAAAYwAAAGQAAABlAAAAZgAAAGcAAABoAAAAaQAAAGoAAABrAAAAbAAAAG0AAABuAAAAbwAAAHAAAABxAAAAcgAAAHMAAAB0AAAAdQAAAHYAAAB3AAAAeAAAAHkAAAB6AAAAewAAAHwAAAB9AAAAfgAAAH8AAACAAAAAgQAAAIIAAACDAAAAhAAAAIUAAACGAAAAhwAAAIgAAACJAAAAigAAAIsAAACMAAAAjQAAAI4AAACPAAAA\"},\"shape\":[144],\"dtype\":\"int32\",\"order\":\"little\"}],[\"Date\",{\"type\":\"ndarray\",\"array\":{\"type\":\"bytes\",\"data\":\"AACATlRCY8IAAAAgpiZjwgAAAHXpFWPCAAAAVOYMY8IAAIBgW+1iwgAAAOr522LCAACAZgjRYsIAAIDVa7NiwgAAABdXrGLCAACA6KiQYsIAAIB4D3xiwgAAgDYJamLCAACAxm9VYsIAAIBW1kBiwgAAgH2GLWLCAAAAT9gRYsIAAIDL5gZiwgAAgJZw7mHCAACA+EPXYcIAAAD/C9RhwgAAAGHfvGHCAACABJ6eYcIAAIDwKo9hwgAAgEVufmHCAACASxtiYcIAAABS415hwgAAAEsASWHCAAAAjNAoYcIAAABePSZhwgAAAKyd/2DCAAAAuS35YMIAAAA8BOtgwgAAAHBE0WDCAACAJ3bCYMIAAIDR/KBgwgAAgOsclGDCAACA16mEYMIAAAAFIm5gwgAAgI7AXGDCAACATLpKYMIAAABMnzFgwgAAgOLNGWDCAACAZaQLYMIAAADXot5fwgAAAIEpvV/CAAAA3BmQX8IAAABLfXJfwgAAAA8kRF/CAAAAfocmX8IAAAC/VwZfwgAAAL4h1F7CAAAAIPW8XsIAAAD+u4FewgAAAPfYa17CAAAAAzMzXsIAAABeIwZewgAAAGTQ6V3CAAAAuRPZXcIAAAC43aZdwgAAAGJkhV3CAAAAnFFPXcIAAAC8HiZdwgAAAM9bA13CAAAAbFLoXMIAAABrHLZcwgAAAF1WilzCAAAAspl5XMIAAABizTtcwgAAACDHKVzCAAAALCHxW8IAAAA/Xs5bwgAAAPZ0plvCAAAA9T50W8IAAAAinERbwgAAAMZ1P1vCAAAAAGMJW8IAAACWdthawgAAAED9tlrCAAAARqqaWsIAAAChmm1awgAAAEQ+NlrCAAAAphEfWsIAAABQmP1ZwgAAAELS0VnCAAAAiU+VWcIAAAD/lY1ZwgAAAOQ/aFnCAAAAEZ04WcIAAACnsAdZwgAAAHjn0ljCAAAAXZGtWMIAAADM9I9YwgAAAAbiWVjCAAAATpVPWMIAAACVEhNYwgAAAPAC5lfCAAAAyBzHV8IAAACtxqFXwgAAAGvAj1fCAAAAi41mV8IAAAC46jZXwgAAADTeElfCAAAAOov2VsIAAACOmLNWwgAAAOPbolbCAAAAN+lfVsIAAACmTEJWwgAAAHeDDVbCAAAA2Vb2VcIAAACxcNdVwgAAAP/QsFXCAAAAnMeVVcIAAAB6jlpVwgAAAI3LN1XCAAAAcnUSVcIAAAA2HORUwgAAAHAJrlTCAAAAaSaYVMIAAAAtzWlUwgAAAIi9PFTCAAAAm/oZVMIAAAD26uxTwgAAABAL4FPCAAAA9bS6U8IAAACLyIlTwgAAAFz/VFPCAAAAt+8nU8IAAADyEiRTwgAAALa59VLCAAAAwhO9UsIAAACTSohSwgAAAAKualLCAAAAfqFGUsIAAABJKy5SwgAAAJCo8VHCAAAAxOjXUcIAAAD+1aFRwgAAAHQcmlHCAAAAwnxzUcIAAAA3jTlRwgAAABw3FFHCAAAA4N3lUMIAAAANO7ZQwgAAAFXuq1DC\"},\"shape\":[144],\"dtype\":\"float64\",\"order\":\"little\"}],[\"Temperature\",{\"type\":\"ndarray\",\"array\":{\"type\":\"bytes\",\"data\":\"cAAAAHYAAACEAAAAgQAAAHkAAACHAAAAlAAAAJQAAACIAAAAdwAAAGgAAAB2AAAAcwAAAH4AAACNAAAAhwAAAH0AAACVAAAAqgAAAKoAAACeAAAAhQAAAHIAAACMAAAAkQAAAJYAAACyAAAAowAAAKwAAACyAAAAxwAAAMcAAAC4AAAAogAAAJIAAACmAAAAqwAAALQAAADBAAAAtQAAALcAAADaAAAA5gAAAPIAAADRAAAAvwAAAKwAAADCAAAAxAAAAMQAAADsAAAA6wAAAOUAAADzAAAACAEAABABAADtAAAA0wAAALQAAADJAAAAzAAAALwAAADrAAAA4wAAAOoAAAAIAQAALgEAACUBAAADAQAA5QAAAMsAAADlAAAA8gAAAOkAAAALAQAADQEAAA4BAAA7AQAAbAEAAFsBAAA4AQAAEgEAAO0AAAAWAQAAHAEAABUBAAA9AQAAOQEAAD4BAAB2AQAAnQEAAJUBAABjAQAAMgEAAA8BAAAyAQAAOwEAAC0BAABkAQAAXAEAAGMBAACmAQAA0QEAANMBAACUAQAAWwEAADEBAABQAQAAVAEAAD4BAABqAQAAXAEAAGsBAACzAQAA6wEAAPkBAACUAQAAZwEAADYBAABRAQAAaAEAAFYBAACWAQAAjAEAAKQBAADYAQAAJAIAAC8CAADPAQAAlwEAAGoBAACVAQAAoQEAAIcBAACjAQAAzQEAANgBAAAXAgAAbgIAAF4CAAD8AQAAzQEAAIYBAACwAQAA\"},\"shape\":[144],\"dtype\":\"int32\",\"order\":\"little\"}],[\"Rolling_Avg\",{\"type\":\"ndarray\",\"array\":{\"type\":\"bytes\",\"data\":\"AAAAAAAAXEAAAAAAAMBcQKuqqqqqKl5AAAAAAACwXkCamZmZmZleQAAAAAAAIF9Abtu2bdv2X0AAAAAAAExgQAAAAAAAYGBAmpmZmZk5YEBddNFFF91fQKuqqqqqql9AFDuxEztxX0AlSZIkSXJfQDMzMzMzs19AAAAAAADUX0BLS0tLS8tfQMdxHMdxDGBAKK+hvIZSYECamZmZmZFgQIZhGIZhuGBAF1100UW3YEDqTW9605tgQFVVVVVVpWBAFK5H4Xq0YECKndiJnchgQMdxHMdx/GBAt23btm0bYUBPIyz3NEJhQM3MzMzMbGFAmpmZmZnJYUAAAAAAACBiQHd3d3d3V2JAq6qqqqp6YkBVVVVVVZViQGZmZmZmtmJA7+7u7u7OYkAREREREfFiQN7d3d3dLWNAAAAAAABwY0BERERERMRjQO/u7u7uLmRAmpmZmZmpZEBVVVVVVSVlQN7d3d3dbWVAmpmZmZmpZUC8u7u7u9tlQLy7u7u7C2ZAd3d3d3cnZkAzMzMzM0NmQGZmZmZmlmZAMzMzMzMDZ0De3d3d3X1nQLy7u7u762dAq6qqqqpqaEDNzMzMzOxoQLy7u7u7K2lA7+7u7u5eaUB3d3d3d2dpQAAAAAAAgGlAVVVVVVWFaUCamZmZmXlpQAAAAAAAsGlAVVVVVVX1aUAzMzMzM1NqQLy7u7u7u2pAd3d3d3dHa0AAAAAAAMBrQGZmZmZmBmxAmpmZmZk5bEDv7u7u7k5sQKuqqqqqWmxAd3d3d3dnbEDe3d3d3V1sQLy7u7u7m2xA7+7u7u7ubEB3d3d3d1dtQImIiIiI2G1AvLu7u7uLbkDNzMzMzCxvQN7d3d3dfW9Ad3d3d3enb0AAAAAAALBvQFVVVVVV1W9Aq6qqqqrqb0AAAAAAAPBvQKuqqqqqInBAERERERFZcECrqqqqqqJwQO/u7u7u/nBAZmZmZmZucUAiIiIiIuJxQCIiIiIiInJARERERERMckAAAAAAAGByQGZmZmZmdnJAVVVVVVV9ckCamZmZmYFyQFVVVVVVtXJAzczMzMz0ckDe3d3d3UVzQM3MzMzMrHNAvLu7u7sjdECJiIiIiKB0QJqZmZmZ6XRAMzMzMzMTdUDe3d3d3SV1QBERERERMXVAREREREQkdUDNzMzMzBR1QHd3d3d3L3VA7+7u7u5WdUAiIiIiIpp1QN7d3d3d7XVARERERERcdkDe3d3d3dV2QEREREREBHdAzczMzMwcd0CJiIiIiBh3QM3MzMzMBHdAiYiIiIjodkDv7u7u7sZ2QCIiIiIi4nZAIiIiIiISd0CamZmZmWF3QCIiIiIiundAZmZmZmY2eEAAAAAAAMB4QBERERER+XhAiYiIiIgYeUBERERERBx5QDMzMzMzE3lAmpmZmZn5eEAREREREdF4QBERERER2XhA3t3d3d0VeUDv7u7u7m55QBERERER2XlAd3d3d3dvekAREREREQl7QO/u7u7uVntAMzMzMzOTe0CamZmZmaF7QAAAAAAAoHtA\"},\"shape\":[144],\"dtype\":\"float64\",\"order\":\"little\"}]]}}},\"view\":{\"type\":\"object\",\"name\":\"CDSView\",\"id\":\"p1109\",\"attributes\":{\"filter\":{\"type\":\"object\",\"name\":\"AllIndices\",\"id\":\"p1110\"}}},\"glyph\":{\"type\":\"object\",\"name\":\"Line\",\"id\":\"p1105\",\"attributes\":{\"x\":{\"type\":\"field\",\"field\":\"Date\"},\"y\":{\"type\":\"field\",\"field\":\"Temperature\"},\"line_color\":\"navy\",\"line_width\":2}},\"nonselection_glyph\":{\"type\":\"object\",\"name\":\"Line\",\"id\":\"p1106\",\"attributes\":{\"x\":{\"type\":\"field\",\"field\":\"Date\"},\"y\":{\"type\":\"field\",\"field\":\"Temperature\"},\"line_color\":\"navy\",\"line_alpha\":0.1,\"line_width\":2}},\"muted_glyph\":{\"type\":\"object\",\"name\":\"Line\",\"id\":\"p1107\",\"attributes\":{\"x\":{\"type\":\"field\",\"field\":\"Date\"},\"y\":{\"type\":\"field\",\"field\":\"Temperature\"},\"line_color\":\"navy\",\"line_alpha\":0.2,\"line_width\":2}}}},{\"type\":\"object\",\"name\":\"GlyphRenderer\",\"id\":\"p1119\",\"attributes\":{\"data_source\":{\"id\":\"p1060\"},\"view\":{\"type\":\"object\",\"name\":\"CDSView\",\"id\":\"p1120\",\"attributes\":{\"filter\":{\"type\":\"object\",\"name\":\"AllIndices\",\"id\":\"p1121\"}}},\"glyph\":{\"type\":\"object\",\"name\":\"Line\",\"id\":\"p1116\",\"attributes\":{\"x\":{\"type\":\"field\",\"field\":\"Date\"},\"y\":{\"type\":\"field\",\"field\":\"Rolling_Avg\"},\"line_color\":\"orange\",\"line_width\":2,\"line_dash\":[6]}},\"nonselection_glyph\":{\"type\":\"object\",\"name\":\"Line\",\"id\":\"p1117\",\"attributes\":{\"x\":{\"type\":\"field\",\"field\":\"Date\"},\"y\":{\"type\":\"field\",\"field\":\"Rolling_Avg\"},\"line_color\":\"orange\",\"line_alpha\":0.1,\"line_width\":2,\"line_dash\":[6]}},\"muted_glyph\":{\"type\":\"object\",\"name\":\"Line\",\"id\":\"p1118\",\"attributes\":{\"x\":{\"type\":\"field\",\"field\":\"Date\"},\"y\":{\"type\":\"field\",\"field\":\"Rolling_Avg\"},\"line_color\":\"orange\",\"line_alpha\":0.2,\"line_width\":2,\"line_dash\":[6]}}}}],\"toolbar\":{\"type\":\"object\",\"name\":\"Toolbar\",\"id\":\"p1072\",\"attributes\":{\"tools\":[{\"type\":\"object\",\"name\":\"PanTool\",\"id\":\"p1099\"},{\"type\":\"object\",\"name\":\"WheelZoomTool\",\"id\":\"p1100\",\"attributes\":{\"renderers\":\"auto\"}},{\"type\":\"object\",\"name\":\"ResetTool\",\"id\":\"p1101\"},{\"type\":\"object\",\"name\":\"HoverTool\",\"id\":\"p1123\",\"attributes\":{\"renderers\":\"auto\",\"tooltips\":[[\"Date\",\"@Date{%Y-%m-%d}\"],[\"Temp\",\"@Temperature{0.0} \\u00b0C\"],[\"Rolling Avg\",\"@Rolling_Avg{0.0} \\u00b0C\"]],\"formatters\":{\"type\":\"map\",\"entries\":[[\"@Date\",\"datetime\"],[\"@Temperature\",\"numeral\"],[\"@Rolling_Avg\",\"numeral\"]]},\"mode\":\"vline\"}}]}},\"left\":[{\"type\":\"object\",\"name\":\"LinearAxis\",\"id\":\"p1094\",\"attributes\":{\"ticker\":{\"type\":\"object\",\"name\":\"BasicTicker\",\"id\":\"p1095\",\"attributes\":{\"mantissas\":[1,2,5]}},\"formatter\":{\"type\":\"object\",\"name\":\"BasicTickFormatter\",\"id\":\"p1096\"},\"axis_label\":\"Temperature (\\u00b0C)\",\"major_label_policy\":{\"type\":\"object\",\"name\":\"AllLabels\",\"id\":\"p1097\"}}}],\"below\":[{\"type\":\"object\",\"name\":\"DatetimeAxis\",\"id\":\"p1075\",\"attributes\":{\"ticker\":{\"type\":\"object\",\"name\":\"DatetimeTicker\",\"id\":\"p1076\",\"attributes\":{\"num_minor_ticks\":5,\"tickers\":[{\"type\":\"object\",\"name\":\"AdaptiveTicker\",\"id\":\"p1077\",\"attributes\":{\"num_minor_ticks\":0,\"mantissas\":[1,2,5],\"max_interval\":500.0}},{\"type\":\"object\",\"name\":\"AdaptiveTicker\",\"id\":\"p1078\",\"attributes\":{\"num_minor_ticks\":0,\"base\":60,\"mantissas\":[1,2,5,10,15,20,30],\"min_interval\":1000.0,\"max_interval\":1800000.0}},{\"type\":\"object\",\"name\":\"AdaptiveTicker\",\"id\":\"p1079\",\"attributes\":{\"num_minor_ticks\":0,\"base\":24,\"mantissas\":[1,2,4,6,8,12],\"min_interval\":3600000.0,\"max_interval\":43200000.0}},{\"type\":\"object\",\"name\":\"DaysTicker\",\"id\":\"p1080\",\"attributes\":{\"days\":[1,2,3,4,5,6,7,8,9,10,11,12,13,14,15,16,17,18,19,20,21,22,23,24,25,26,27,28,29,30,31]}},{\"type\":\"object\",\"name\":\"DaysTicker\",\"id\":\"p1081\",\"attributes\":{\"days\":[1,4,7,10,13,16,19,22,25,28]}},{\"type\":\"object\",\"name\":\"DaysTicker\",\"id\":\"p1082\",\"attributes\":{\"days\":[1,8,15,22]}},{\"type\":\"object\",\"name\":\"DaysTicker\",\"id\":\"p1083\",\"attributes\":{\"days\":[1,15]}},{\"type\":\"object\",\"name\":\"MonthsTicker\",\"id\":\"p1084\",\"attributes\":{\"months\":[0,1,2,3,4,5,6,7,8,9,10,11]}},{\"type\":\"object\",\"name\":\"MonthsTicker\",\"id\":\"p1085\",\"attributes\":{\"months\":[0,2,4,6,8,10]}},{\"type\":\"object\",\"name\":\"MonthsTicker\",\"id\":\"p1086\",\"attributes\":{\"months\":[0,4,8]}},{\"type\":\"object\",\"name\":\"MonthsTicker\",\"id\":\"p1087\",\"attributes\":{\"months\":[0,6]}},{\"type\":\"object\",\"name\":\"YearsTicker\",\"id\":\"p1088\"}]}},\"formatter\":{\"type\":\"object\",\"name\":\"DatetimeTickFormatter\",\"id\":\"p1091\",\"attributes\":{\"seconds\":\"%T\",\"minsec\":\"%T\",\"minutes\":\"%H:%M\",\"hours\":\"%H:%M\",\"days\":\"%b %d\",\"months\":\"%b %Y\",\"strip_leading_zeros\":[\"microseconds\",\"milliseconds\",\"seconds\"],\"boundary_scaling\":false,\"context\":{\"type\":\"object\",\"name\":\"DatetimeTickFormatter\",\"id\":\"p1090\",\"attributes\":{\"microseconds\":\"%T\",\"milliseconds\":\"%T\",\"seconds\":\"%b %d, %Y\",\"minsec\":\"%b %d, %Y\",\"minutes\":\"%b %d, %Y\",\"hourmin\":\"%b %d, %Y\",\"hours\":\"%b %d, %Y\",\"days\":\"%Y\",\"months\":\"\",\"years\":\"\",\"boundary_scaling\":false,\"hide_repeats\":true,\"context\":{\"type\":\"object\",\"name\":\"DatetimeTickFormatter\",\"id\":\"p1089\",\"attributes\":{\"microseconds\":\"%b %d, %Y\",\"milliseconds\":\"%b %d, %Y\",\"seconds\":\"\",\"minsec\":\"\",\"minutes\":\"\",\"hourmin\":\"\",\"hours\":\"\",\"days\":\"\",\"months\":\"\",\"years\":\"\",\"boundary_scaling\":false,\"hide_repeats\":true}},\"context_which\":\"all\"}},\"context_which\":\"all\"}},\"axis_label\":\"Date\",\"major_label_policy\":{\"type\":\"object\",\"name\":\"AllLabels\",\"id\":\"p1092\"}}}],\"center\":[{\"type\":\"object\",\"name\":\"Grid\",\"id\":\"p1093\",\"attributes\":{\"axis\":{\"id\":\"p1075\"}}},{\"type\":\"object\",\"name\":\"Grid\",\"id\":\"p1098\",\"attributes\":{\"dimension\":1,\"axis\":{\"id\":\"p1094\"}}},{\"type\":\"object\",\"name\":\"Legend\",\"id\":\"p1111\",\"attributes\":{\"items\":[{\"type\":\"object\",\"name\":\"LegendItem\",\"id\":\"p1112\",\"attributes\":{\"label\":{\"type\":\"value\",\"value\":\"Original Temperature\"},\"renderers\":[{\"id\":\"p1108\"}]}},{\"type\":\"object\",\"name\":\"LegendItem\",\"id\":\"p1122\",\"attributes\":{\"label\":{\"type\":\"value\",\"value\":\"30-Day Rolling Avg\"},\"renderers\":[{\"id\":\"p1119\"}]}}]}}]}}]}};\n  const render_items = [{\"docid\":\"4f8d91ec-f03d-452d-a1dc-3361f2caff00\",\"roots\":{\"p1063\":\"dd007501-8449-45e1-918d-475ad8882b96\"},\"root_ids\":[\"p1063\"]}];\n  void root.Bokeh.embed.embed_items_notebook(docs_json, render_items);\n  }\n  if (root.Bokeh !== undefined) {\n    embed_document(root);\n  } else {\n    let attempts = 0;\n    const timer = setInterval(function(root) {\n      if (root.Bokeh !== undefined) {\n        clearInterval(timer);\n        embed_document(root);\n      } else {\n        attempts++;\n        if (attempts > 100) {\n          clearInterval(timer);\n          console.log(\"Bokeh: ERROR: Unable to run BokehJS code because BokehJS library is missing\");\n        }\n      }\n    }, 10, root)\n  }\n})(window);",
      "application/vnd.bokehjs_exec.v0+json": ""
     },
     "metadata": {
      "application/vnd.bokehjs_exec.v0+json": {
       "id": "p1063"
      }
     },
     "output_type": "display_data"
    }
   ],
   "source": [
    "df['Rolling_Avg'] = df['Temperature'].rolling(window=30, min_periods=1).mean()\n",
    "\n",
    "source = ColumnDataSource(df)\n",
    "\n",
    "p = figure(\n",
    "    title=\"Daily Minimum Temperatures with 30-Day Rolling Average\",\n",
    "    x_axis_type=\"datetime\",\n",
    "    x_axis_label=\"Date\",\n",
    "    y_axis_label=\"Temperature (°C)\",\n",
    "    tools=\"pan,wheel_zoom,reset\"\n",
    ")\n",
    "p.line(\n",
    "    x='Date',\n",
    "    y='Temperature',\n",
    "    source=source,\n",
    "    line_width=2,\n",
    "    color='navy',\n",
    "    legend_label=\"Original Temperature\"\n",
    ")\n",
    "p.line(\n",
    "    x='Date',\n",
    "    y='Rolling_Avg',\n",
    "    source=source,\n",
    "    line_width=2,\n",
    "    line_dash='dashed',\n",
    "    color='orange',\n",
    "    legend_label=\"30-Day Rolling Avg\"\n",
    ")\n",
    "hover = HoverTool(\n",
    "    tooltips=[\n",
    "        (\"Date\", \"@Date{%Y-%m-%d}\"),\n",
    "        (\"Temp\", \"@Temperature{0.0} °C\"),\n",
    "        (\"Rolling Avg\", \"@Rolling_Avg{0.0} °C\")\n",
    "    ],\n",
    "    formatters={\n",
    "        '@Date': 'datetime',\n",
    "        '@Temperature': 'numeral',\n",
    "        '@Rolling_Avg': 'numeral'\n",
    "    },\n",
    "    mode='vline'\n",
    ")\n",
    "p.add_tools(hover)\n",
    "\n",
    "show(p)"
   ]
  },
  {
   "cell_type": "markdown",
   "id": "b81fe35f-ec9b-46d2-ab78-a71c6979737d",
   "metadata": {},
   "source": [
    "Question 3: Monthly Box Plots\n",
    "3.  Create box plots to visualize the distribution of temperatures for each month.\n",
    "\n",
    "    * Extract the month from the 'Date' column and create a new 'Month' column.\n",
    "    * Group the data by 'Month' and prepare it for plotting.\n",
    "    * Use Bokeh's box plot elements to visualize the distribution.\n",
    "    * Label the x-axis with month names and the y-axis with \"Temperature (°C)\".\n",
    "    * Add tooltips to display the month and relevant statistical values (min, max, media"
   ]
  },
  {
   "cell_type": "code",
   "execution_count": 5,
   "id": "7e367c6e-0e5f-479b-9169-564fe17855ab",
   "metadata": {},
   "outputs": [
    {
     "data": {
      "text/html": [
       "\n",
       "  <div id=\"bebcb4da-f865-4869-875b-00a900eb3134\" data-root-id=\"p1131\" style=\"display: contents;\"></div>\n"
      ]
     },
     "metadata": {},
     "output_type": "display_data"
    },
    {
     "data": {
      "application/javascript": "(function(root) {\n  function embed_document(root) {\n  const docs_json = {\"bed16efa-8b05-43d3-b8ab-acb3ffe694b1\":{\"version\":\"3.7.3\",\"title\":\"Bokeh Application\",\"roots\":[{\"type\":\"object\",\"name\":\"Figure\",\"id\":\"p1131\",\"attributes\":{\"x_range\":{\"type\":\"object\",\"name\":\"FactorRange\",\"id\":\"p1141\",\"attributes\":{\"factors\":[\"Jan\",\"Feb\",\"Mar\",\"Apr\",\"May\",\"Jun\",\"Jul\",\"Aug\",\"Sep\",\"Oct\",\"Nov\",\"Dec\"]}},\"y_range\":{\"type\":\"object\",\"name\":\"DataRange1d\",\"id\":\"p1133\"},\"x_scale\":{\"type\":\"object\",\"name\":\"CategoricalScale\",\"id\":\"p1142\"},\"y_scale\":{\"type\":\"object\",\"name\":\"LinearScale\",\"id\":\"p1143\"},\"title\":{\"type\":\"object\",\"name\":\"Title\",\"id\":\"p1134\",\"attributes\":{\"text\":\"Distribution mensuelle des temp\\u00e9ratures\"}},\"renderers\":[{\"type\":\"object\",\"name\":\"GlyphRenderer\",\"id\":\"p1163\",\"attributes\":{\"data_source\":{\"type\":\"object\",\"name\":\"ColumnDataSource\",\"id\":\"p1128\",\"attributes\":{\"selected\":{\"type\":\"object\",\"name\":\"Selection\",\"id\":\"p1129\",\"attributes\":{\"indices\":[],\"line_indices\":[]}},\"selection_policy\":{\"type\":\"object\",\"name\":\"UnionRenderers\",\"id\":\"p1130\"},\"data\":{\"type\":\"map\",\"entries\":[[\"month\",[\"Jan\",\"Feb\",\"Mar\",\"Apr\",\"May\",\"Jun\",\"Jul\",\"Aug\",\"Sep\",\"Oct\",\"Nov\",\"Dec\"]],[\"q1\",{\"type\":\"ndarray\",\"array\":{\"type\":\"bytes\",\"data\":\"AAAAAACQZEAAAAAAAJBlQAAAAAAAqGdAAAAAAAAQZkAAAAAAAIhmQAAAAAAAAGpAAAAAAADIa0AAAAAAAOhsQAAAAAAAWGlAAAAAAAD4ZkAAAAAAALBkQAAAAAAAYGdA\"},\"shape\":[12],\"dtype\":\"float64\",\"order\":\"little\"}],[\"q2\",{\"type\":\"ndarray\",\"array\":{\"type\":\"bytes\",\"data\":\"AAAAAADga0AAAAAAANBqQAAAAAAAcG9AAAAAAACAb0AAAAAAAIBvQAAAAAAAGHJAAAAAAADQdEAAAAAAAAB0QAAAAAAA2HFAAAAAAABwb0AAAAAAAIBrQAAAAAAAsG9A\"},\"shape\":[12],\"dtype\":\"float64\",\"order\":\"little\"}],[\"q3\",{\"type\":\"ndarray\",\"array\":{\"type\":\"bytes\",\"data\":\"AAAAAAAUdEAAAAAAABRzQAAAAAAAWHZAAAAAAADAdUAAAAAAAFB2QAAAAAAAlHpAAAAAAAB4fUAAAAAAAMh9QAAAAAAAQHlAAAAAAADgdUAAAAAAACRzQAAAAAAABHVA\"},\"shape\":[12],\"dtype\":\"float64\",\"order\":\"little\"}],[\"upper\",{\"type\":\"ndarray\",\"array\":{\"type\":\"bytes\",\"data\":\"AAAAAAAQekAAAAAAAHB4QAAAAAAAMHpAAAAAAADQfEAAAAAAAIB9QAAAAAAAuIBAAAAAAABwg0AAAAAAAPCCQAAAAAAAwH9AAAAAAADQfEAAAAAAAGB4QAAAAAAAAHtA\"},\"shape\":[12],\"dtype\":\"float64\",\"order\":\"little\"}],[\"lower\",{\"type\":\"ndarray\",\"array\":{\"type\":\"bytes\",\"data\":\"AAAAAAAAXEAAAAAAAIBdQAAAAAAAgGBAAAAAAAAgYEAAAAAAAEBeQAAAAAAA4GBAAAAAAACAYkAAAAAAAIBiQAAAAAAAAGFAAAAAAADAXUAAAAAAAABaQAAAAAAAgF1A\"},\"shape\":[12],\"dtype\":\"float64\",\"order\":\"little\"}]]}}},\"view\":{\"type\":\"object\",\"name\":\"CDSView\",\"id\":\"p1164\",\"attributes\":{\"filter\":{\"type\":\"object\",\"name\":\"AllIndices\",\"id\":\"p1165\"}}},\"glyph\":{\"type\":\"object\",\"name\":\"Segment\",\"id\":\"p1160\",\"attributes\":{\"x0\":{\"type\":\"field\",\"field\":\"month\"},\"y0\":{\"type\":\"field\",\"field\":\"upper\"},\"x1\":{\"type\":\"field\",\"field\":\"month\"},\"y1\":{\"type\":\"field\",\"field\":\"q3\"}}},\"nonselection_glyph\":{\"type\":\"object\",\"name\":\"Segment\",\"id\":\"p1161\",\"attributes\":{\"x0\":{\"type\":\"field\",\"field\":\"month\"},\"y0\":{\"type\":\"field\",\"field\":\"upper\"},\"x1\":{\"type\":\"field\",\"field\":\"month\"},\"y1\":{\"type\":\"field\",\"field\":\"q3\"},\"line_alpha\":{\"type\":\"value\",\"value\":0.1}}},\"muted_glyph\":{\"type\":\"object\",\"name\":\"Segment\",\"id\":\"p1162\",\"attributes\":{\"x0\":{\"type\":\"field\",\"field\":\"month\"},\"y0\":{\"type\":\"field\",\"field\":\"upper\"},\"x1\":{\"type\":\"field\",\"field\":\"month\"},\"y1\":{\"type\":\"field\",\"field\":\"q3\"},\"line_alpha\":{\"type\":\"value\",\"value\":0.2}}}}},{\"type\":\"object\",\"name\":\"GlyphRenderer\",\"id\":\"p1172\",\"attributes\":{\"data_source\":{\"id\":\"p1128\"},\"view\":{\"type\":\"object\",\"name\":\"CDSView\",\"id\":\"p1173\",\"attributes\":{\"filter\":{\"type\":\"object\",\"name\":\"AllIndices\",\"id\":\"p1174\"}}},\"glyph\":{\"type\":\"object\",\"name\":\"Segment\",\"id\":\"p1169\",\"attributes\":{\"x0\":{\"type\":\"field\",\"field\":\"month\"},\"y0\":{\"type\":\"field\",\"field\":\"lower\"},\"x1\":{\"type\":\"field\",\"field\":\"month\"},\"y1\":{\"type\":\"field\",\"field\":\"q1\"}}},\"nonselection_glyph\":{\"type\":\"object\",\"name\":\"Segment\",\"id\":\"p1170\",\"attributes\":{\"x0\":{\"type\":\"field\",\"field\":\"month\"},\"y0\":{\"type\":\"field\",\"field\":\"lower\"},\"x1\":{\"type\":\"field\",\"field\":\"month\"},\"y1\":{\"type\":\"field\",\"field\":\"q1\"},\"line_alpha\":{\"type\":\"value\",\"value\":0.1}}},\"muted_glyph\":{\"type\":\"object\",\"name\":\"Segment\",\"id\":\"p1171\",\"attributes\":{\"x0\":{\"type\":\"field\",\"field\":\"month\"},\"y0\":{\"type\":\"field\",\"field\":\"lower\"},\"x1\":{\"type\":\"field\",\"field\":\"month\"},\"y1\":{\"type\":\"field\",\"field\":\"q1\"},\"line_alpha\":{\"type\":\"value\",\"value\":0.2}}}}},{\"type\":\"object\",\"name\":\"GlyphRenderer\",\"id\":\"p1181\",\"attributes\":{\"data_source\":{\"id\":\"p1128\"},\"view\":{\"type\":\"object\",\"name\":\"CDSView\",\"id\":\"p1182\",\"attributes\":{\"filter\":{\"type\":\"object\",\"name\":\"AllIndices\",\"id\":\"p1183\"}}},\"glyph\":{\"type\":\"object\",\"name\":\"VBar\",\"id\":\"p1178\",\"attributes\":{\"x\":{\"type\":\"field\",\"field\":\"month\"},\"width\":{\"type\":\"value\",\"value\":0.7},\"bottom\":{\"type\":\"field\",\"field\":\"q3\"},\"top\":{\"type\":\"field\",\"field\":\"q2\"},\"fill_color\":{\"type\":\"value\",\"value\":\"#E08E79\"}}},\"nonselection_glyph\":{\"type\":\"object\",\"name\":\"VBar\",\"id\":\"p1179\",\"attributes\":{\"x\":{\"type\":\"field\",\"field\":\"month\"},\"width\":{\"type\":\"value\",\"value\":0.7},\"bottom\":{\"type\":\"field\",\"field\":\"q3\"},\"top\":{\"type\":\"field\",\"field\":\"q2\"},\"line_alpha\":{\"type\":\"value\",\"value\":0.1},\"fill_color\":{\"type\":\"value\",\"value\":\"#E08E79\"},\"fill_alpha\":{\"type\":\"value\",\"value\":0.1},\"hatch_alpha\":{\"type\":\"value\",\"value\":0.1}}},\"muted_glyph\":{\"type\":\"object\",\"name\":\"VBar\",\"id\":\"p1180\",\"attributes\":{\"x\":{\"type\":\"field\",\"field\":\"month\"},\"width\":{\"type\":\"value\",\"value\":0.7},\"bottom\":{\"type\":\"field\",\"field\":\"q3\"},\"top\":{\"type\":\"field\",\"field\":\"q2\"},\"line_alpha\":{\"type\":\"value\",\"value\":0.2},\"fill_color\":{\"type\":\"value\",\"value\":\"#E08E79\"},\"fill_alpha\":{\"type\":\"value\",\"value\":0.2},\"hatch_alpha\":{\"type\":\"value\",\"value\":0.2}}}}},{\"type\":\"object\",\"name\":\"GlyphRenderer\",\"id\":\"p1190\",\"attributes\":{\"data_source\":{\"id\":\"p1128\"},\"view\":{\"type\":\"object\",\"name\":\"CDSView\",\"id\":\"p1191\",\"attributes\":{\"filter\":{\"type\":\"object\",\"name\":\"AllIndices\",\"id\":\"p1192\"}}},\"glyph\":{\"type\":\"object\",\"name\":\"VBar\",\"id\":\"p1187\",\"attributes\":{\"x\":{\"type\":\"field\",\"field\":\"month\"},\"width\":{\"type\":\"value\",\"value\":0.7},\"bottom\":{\"type\":\"field\",\"field\":\"q2\"},\"top\":{\"type\":\"field\",\"field\":\"q1\"},\"fill_color\":{\"type\":\"value\",\"value\":\"#3B8686\"}}},\"nonselection_glyph\":{\"type\":\"object\",\"name\":\"VBar\",\"id\":\"p1188\",\"attributes\":{\"x\":{\"type\":\"field\",\"field\":\"month\"},\"width\":{\"type\":\"value\",\"value\":0.7},\"bottom\":{\"type\":\"field\",\"field\":\"q2\"},\"top\":{\"type\":\"field\",\"field\":\"q1\"},\"line_alpha\":{\"type\":\"value\",\"value\":0.1},\"fill_color\":{\"type\":\"value\",\"value\":\"#3B8686\"},\"fill_alpha\":{\"type\":\"value\",\"value\":0.1},\"hatch_alpha\":{\"type\":\"value\",\"value\":0.1}}},\"muted_glyph\":{\"type\":\"object\",\"name\":\"VBar\",\"id\":\"p1189\",\"attributes\":{\"x\":{\"type\":\"field\",\"field\":\"month\"},\"width\":{\"type\":\"value\",\"value\":0.7},\"bottom\":{\"type\":\"field\",\"field\":\"q2\"},\"top\":{\"type\":\"field\",\"field\":\"q1\"},\"line_alpha\":{\"type\":\"value\",\"value\":0.2},\"fill_color\":{\"type\":\"value\",\"value\":\"#3B8686\"},\"fill_alpha\":{\"type\":\"value\",\"value\":0.2},\"hatch_alpha\":{\"type\":\"value\",\"value\":0.2}}}}},{\"type\":\"object\",\"name\":\"GlyphRenderer\",\"id\":\"p1199\",\"attributes\":{\"data_source\":{\"id\":\"p1128\"},\"view\":{\"type\":\"object\",\"name\":\"CDSView\",\"id\":\"p1200\",\"attributes\":{\"filter\":{\"type\":\"object\",\"name\":\"AllIndices\",\"id\":\"p1201\"}}},\"glyph\":{\"type\":\"object\",\"name\":\"Rect\",\"id\":\"p1196\",\"attributes\":{\"x\":{\"type\":\"field\",\"field\":\"month\"},\"y\":{\"type\":\"field\",\"field\":\"q2\"},\"width\":{\"type\":\"value\",\"value\":0.2},\"height\":{\"type\":\"value\",\"value\":0.01},\"fill_color\":{\"type\":\"value\",\"value\":\"#1f77b4\"}}},\"nonselection_glyph\":{\"type\":\"object\",\"name\":\"Rect\",\"id\":\"p1197\",\"attributes\":{\"x\":{\"type\":\"field\",\"field\":\"month\"},\"y\":{\"type\":\"field\",\"field\":\"q2\"},\"width\":{\"type\":\"value\",\"value\":0.2},\"height\":{\"type\":\"value\",\"value\":0.01},\"line_alpha\":{\"type\":\"value\",\"value\":0.1},\"fill_color\":{\"type\":\"value\",\"value\":\"#1f77b4\"},\"fill_alpha\":{\"type\":\"value\",\"value\":0.1},\"hatch_alpha\":{\"type\":\"value\",\"value\":0.1}}},\"muted_glyph\":{\"type\":\"object\",\"name\":\"Rect\",\"id\":\"p1198\",\"attributes\":{\"x\":{\"type\":\"field\",\"field\":\"month\"},\"y\":{\"type\":\"field\",\"field\":\"q2\"},\"width\":{\"type\":\"value\",\"value\":0.2},\"height\":{\"type\":\"value\",\"value\":0.01},\"line_alpha\":{\"type\":\"value\",\"value\":0.2},\"fill_color\":{\"type\":\"value\",\"value\":\"#1f77b4\"},\"fill_alpha\":{\"type\":\"value\",\"value\":0.2},\"hatch_alpha\":{\"type\":\"value\",\"value\":0.2}}}}}],\"toolbar\":{\"type\":\"object\",\"name\":\"Toolbar\",\"id\":\"p1140\",\"attributes\":{\"tools\":[{\"type\":\"object\",\"name\":\"PanTool\",\"id\":\"p1154\"},{\"type\":\"object\",\"name\":\"WheelZoomTool\",\"id\":\"p1155\",\"attributes\":{\"renderers\":\"auto\"}},{\"type\":\"object\",\"name\":\"ResetTool\",\"id\":\"p1156\"},{\"type\":\"object\",\"name\":\"HoverTool\",\"id\":\"p1202\",\"attributes\":{\"renderers\":\"auto\",\"tooltips\":[[\"Mois\",\"@month\"],[\"Min Whisker\",\"@lower{0.0} \\u00b0C\"],[\"Q1\",\"@q1{0.0} \\u00b0C\"],[\"M\\u00e9diane\",\"@q2{0.0} \\u00b0C\"],[\"Q3\",\"@q3{0.0} \\u00b0C\"],[\"Max Whisker\",\"@upper{0.0} \\u00b0C\"]],\"formatters\":{\"type\":\"map\",\"entries\":[[\"@lower\",\"numeral\"],[\"@q1\",\"numeral\"],[\"@q2\",\"numeral\"],[\"@q3\",\"numeral\"],[\"@upper\",\"numeral\"]]},\"mode\":\"vline\"}}]}},\"left\":[{\"type\":\"object\",\"name\":\"LinearAxis\",\"id\":\"p1149\",\"attributes\":{\"ticker\":{\"type\":\"object\",\"name\":\"BasicTicker\",\"id\":\"p1150\",\"attributes\":{\"mantissas\":[1,2,5]}},\"formatter\":{\"type\":\"object\",\"name\":\"BasicTickFormatter\",\"id\":\"p1151\"},\"axis_label\":\"Temperature (\\u00b0C)\",\"major_label_policy\":{\"type\":\"object\",\"name\":\"AllLabels\",\"id\":\"p1152\"}}}],\"below\":[{\"type\":\"object\",\"name\":\"CategoricalAxis\",\"id\":\"p1144\",\"attributes\":{\"ticker\":{\"type\":\"object\",\"name\":\"CategoricalTicker\",\"id\":\"p1145\"},\"formatter\":{\"type\":\"object\",\"name\":\"CategoricalTickFormatter\",\"id\":\"p1146\"},\"axis_label\":\"Mois\",\"major_label_policy\":{\"type\":\"object\",\"name\":\"AllLabels\",\"id\":\"p1147\"}}}],\"center\":[{\"type\":\"object\",\"name\":\"Grid\",\"id\":\"p1148\",\"attributes\":{\"axis\":{\"id\":\"p1144\"}}},{\"type\":\"object\",\"name\":\"Grid\",\"id\":\"p1153\",\"attributes\":{\"dimension\":1,\"axis\":{\"id\":\"p1149\"}}}]}}]}};\n  const render_items = [{\"docid\":\"bed16efa-8b05-43d3-b8ab-acb3ffe694b1\",\"roots\":{\"p1131\":\"bebcb4da-f865-4869-875b-00a900eb3134\"},\"root_ids\":[\"p1131\"]}];\n  void root.Bokeh.embed.embed_items_notebook(docs_json, render_items);\n  }\n  if (root.Bokeh !== undefined) {\n    embed_document(root);\n  } else {\n    let attempts = 0;\n    const timer = setInterval(function(root) {\n      if (root.Bokeh !== undefined) {\n        clearInterval(timer);\n        embed_document(root);\n      } else {\n        attempts++;\n        if (attempts > 100) {\n          clearInterval(timer);\n          console.log(\"Bokeh: ERROR: Unable to run BokehJS code because BokehJS library is missing\");\n        }\n      }\n    }, 10, root)\n  }\n})(window);",
      "application/vnd.bokehjs_exec.v0+json": ""
     },
     "metadata": {
      "application/vnd.bokehjs_exec.v0+json": {
       "id": "p1131"
      }
     },
     "output_type": "display_data"
    }
   ],
   "source": [
    "df['Month'] = df['Date'].dt.month\n",
    "\n",
    "group = df.groupby('Month')['Temperature']\n",
    "q1 = group.quantile(0.25)\n",
    "q2 = group.quantile(0.50)\n",
    "q3 = group.quantile(0.75)\n",
    "iqr = q3 - q1\n",
    "upper_whisker = np.minimum(q3 + 1.5 * iqr, group.max())\n",
    "lower_whisker = np.maximum(q1 - 1.5 * iqr, group.min())\n",
    "\n",
    "months = q1.index.tolist()\n",
    "month_names = [calendar.month_abbr[m] for m in months]\n",
    "source_box = ColumnDataSource(data=dict(\n",
    "    month=month_names,\n",
    "    q1=q1.values,\n",
    "    q2=q2.values,\n",
    "    q3=q3.values,\n",
    "    upper=upper_whisker.values,\n",
    "    lower=lower_whisker.values\n",
    "))\n",
    "\n",
    "p = figure(\n",
    "    title=\"Distribution mensuelle des températures\",\n",
    "    x_range=month_names,\n",
    "    x_axis_label=\"Mois\",\n",
    "    y_axis_label=\"Temperature (°C)\",\n",
    "    tools=\"pan,wheel_zoom,reset\"\n",
    ")\n",
    "\n",
    "p.segment('month', 'upper', 'month', 'q3', source=source_box, line_color=\"black\")\n",
    "p.segment('month', 'lower', 'month', 'q1', source=source_box, line_color=\"black\")\n",
    "\n",
    "p.vbar('month', 0.7, 'q2', 'q3', source=source_box, fill_color=\"#E08E79\", line_color=\"black\")\n",
    "p.vbar('month', 0.7, 'q1', 'q2', source=source_box, fill_color=\"#3B8686\", line_color=\"black\")\n",
    "\n",
    "p.rect('month', 'q2', width=0.2, height=0.01, source=source_box, line_color=\"black\")\n",
    "\n",
    "hover = HoverTool(\n",
    "    tooltips=[\n",
    "        (\"Mois\", \"@month\"),\n",
    "        (\"Min Whisker\", \"@lower{0.0} °C\"),\n",
    "        (\"Q1\", \"@q1{0.0} °C\"),\n",
    "        (\"Médiane\", \"@q2{0.0} °C\"),\n",
    "        (\"Q3\", \"@q3{0.0} °C\"),\n",
    "        (\"Max Whisker\", \"@upper{0.0} °C\")\n",
    "    ],\n",
    "    formatters={\n",
    "        '@lower': 'numeral',\n",
    "        '@q1': 'numeral',\n",
    "        '@q2': 'numeral',\n",
    "        '@q3': 'numeral',\n",
    "        '@upper': 'numeral'\n",
    "    },\n",
    "    mode='vline'\n",
    ")\n",
    "p.add_tools(hover)\n",
    "\n",
    "show(p)"
   ]
  },
  {
   "cell_type": "markdown",
   "id": "6253fa23-1e9d-455d-8dbe-9df40547836b",
   "metadata": {},
   "source": [
    "4.  Create box plots to visualize the distribution of temperatures for each year,\n",
    "    and use color mapping to highlight temperature variations.\n",
    "\n",
    "    * Extract the year from the 'Date' column and create a new 'Year' column.\n",
    "    * Group the data by 'Year' and prepare it for plotting.\n",
    "    * Use Bokeh's box plot elements to visualize the distribution for each year.\n",
    "    * Label the x-axis with the 'Year' and the y-axis with \"Temperature (°C)\".\n",
    "    * Use `factor_cmap` to color the boxes based on the median temperature of each year.\n",
    "    * Add tooltips to display the year and relevant statistical values (min, max, median, etc.).\n",
    "    * Enable pan, wheel zoom, and reset tools."
   ]
  },
  {
   "cell_type": "code",
   "execution_count": 6,
   "id": "dcbdeadf-8224-479d-853a-23114b5b4d78",
   "metadata": {},
   "outputs": [
    {
     "data": {
      "text/html": [
       "\n",
       "  <div id=\"bc1e1101-826c-4646-92dd-b2fa4f23211c\" data-root-id=\"p1211\" style=\"display: contents;\"></div>\n"
      ]
     },
     "metadata": {},
     "output_type": "display_data"
    },
    {
     "data": {
      "application/javascript": "(function(root) {\n  function embed_document(root) {\n  const docs_json = {\"a69b86fb-d6e0-412d-aa34-175c2003e354\":{\"version\":\"3.7.3\",\"title\":\"Bokeh Application\",\"roots\":[{\"type\":\"object\",\"name\":\"Figure\",\"id\":\"p1211\",\"attributes\":{\"x_range\":{\"type\":\"object\",\"name\":\"FactorRange\",\"id\":\"p1221\",\"attributes\":{\"factors\":[\"1949\",\"1950\",\"1951\",\"1952\",\"1954\",\"1953\",\"1955\",\"1956\",\"1957\",\"1958\",\"1959\",\"1960\"]}},\"y_range\":{\"type\":\"object\",\"name\":\"DataRange1d\",\"id\":\"p1213\"},\"x_scale\":{\"type\":\"object\",\"name\":\"CategoricalScale\",\"id\":\"p1222\"},\"y_scale\":{\"type\":\"object\",\"name\":\"LinearScale\",\"id\":\"p1223\"},\"title\":{\"type\":\"object\",\"name\":\"Title\",\"id\":\"p1214\",\"attributes\":{\"text\":\"Distribution annuelle des temp\\u00e9ratures\"}},\"renderers\":[{\"type\":\"object\",\"name\":\"GlyphRenderer\",\"id\":\"p1243\",\"attributes\":{\"data_source\":{\"type\":\"object\",\"name\":\"ColumnDataSource\",\"id\":\"p1208\",\"attributes\":{\"selected\":{\"type\":\"object\",\"name\":\"Selection\",\"id\":\"p1209\",\"attributes\":{\"indices\":[],\"line_indices\":[]}},\"selection_policy\":{\"type\":\"object\",\"name\":\"UnionRenderers\",\"id\":\"p1210\"},\"data\":{\"type\":\"map\",\"entries\":[[\"Year\",[\"1949\",\"1950\",\"1951\",\"1952\",\"1954\",\"1953\",\"1955\",\"1956\",\"1957\",\"1958\",\"1959\",\"1960\"]],[\"q1\",{\"type\":\"ndarray\",\"array\":{\"type\":\"bytes\",\"data\":\"AAAAAACAXUAAAAAAAHBfQAAAAAAA4GNAAAAAAACYZkAAAAAAAKhrQAAAAAAA+GhAAAAAAABMcEAAAAAAAMhyQAAAAAAArHRAAAAAAAA0dUAAAAAAADh4QAAAAAAAKHpA\"},\"shape\":[12],\"dtype\":\"float64\",\"order\":\"little\"}],[\"q2\",{\"type\":\"ndarray\",\"array\":{\"type\":\"bytes\",\"data\":\"AAAAAABAX0AAAAAAADBhQAAAAAAAIGVAAAAAAAAAaEAAAAAAAPBsQAAAAAAAAG1AAAAAAAAAcUAAAAAAALBzQAAAAAAA+HVAAAAAAACIdkAAAAAAAGh5QAAAAAAA0HxA\"},\"shape\":[12],\"dtype\":\"float64\",\"order\":\"little\"}],[\"q3\",{\"type\":\"ndarray\",\"array\":{\"type\":\"bytes\",\"data\":\"AAAAAADoYEAAAAAAAOhiQAAAAAAAcGZAAAAAAABoakAAAAAAAERwQAAAAAAA0G1AAAAAAACMc0AAAAAAAHx2QAAAAAAAiHlAAAAAAAC8eUAAAAAAABR9QAAAAAAAFoBA\"},\"shape\":[12],\"dtype\":\"float64\",\"order\":\"little\"}],[\"upper\",{\"type\":\"ndarray\",\"array\":{\"type\":\"bytes\",\"data\":\"AAAAAACAYkAAAAAAAEBlQAAAAAAA4GhAAAAAAABAbkAAAAAAAOByQAAAAAAAAHFAAAAAAADAdkAAAAAAANB5QAAAAAAAMH1AAAAAAACQf0AAAAAAAHiBQAAAAAAAcINA\"},\"shape\":[12],\"dtype\":\"float64\",\"order\":\"little\"}],[\"lower\",{\"type\":\"ndarray\",\"array\":{\"type\":\"bytes\",\"data\":\"AAAAAAAAWkAAAAAAAIBcQAAAAAAAIGJAAAAAAABgZUAAAAAAAIBnQAAAAAAAgGZAAAAAAAAgbUAAAAAAAPBwQAAAAAAA0HJAAAAAAABgc0AAAAAAAGB1QAAAAAAAYHhA\"},\"shape\":[12],\"dtype\":\"float64\",\"order\":\"little\"}]]}}},\"view\":{\"type\":\"object\",\"name\":\"CDSView\",\"id\":\"p1244\",\"attributes\":{\"filter\":{\"type\":\"object\",\"name\":\"AllIndices\",\"id\":\"p1245\"}}},\"glyph\":{\"type\":\"object\",\"name\":\"Segment\",\"id\":\"p1240\",\"attributes\":{\"x0\":{\"type\":\"field\",\"field\":\"Year\"},\"y0\":{\"type\":\"field\",\"field\":\"upper\"},\"x1\":{\"type\":\"field\",\"field\":\"Year\"},\"y1\":{\"type\":\"field\",\"field\":\"q3\"}}},\"nonselection_glyph\":{\"type\":\"object\",\"name\":\"Segment\",\"id\":\"p1241\",\"attributes\":{\"x0\":{\"type\":\"field\",\"field\":\"Year\"},\"y0\":{\"type\":\"field\",\"field\":\"upper\"},\"x1\":{\"type\":\"field\",\"field\":\"Year\"},\"y1\":{\"type\":\"field\",\"field\":\"q3\"},\"line_alpha\":{\"type\":\"value\",\"value\":0.1}}},\"muted_glyph\":{\"type\":\"object\",\"name\":\"Segment\",\"id\":\"p1242\",\"attributes\":{\"x0\":{\"type\":\"field\",\"field\":\"Year\"},\"y0\":{\"type\":\"field\",\"field\":\"upper\"},\"x1\":{\"type\":\"field\",\"field\":\"Year\"},\"y1\":{\"type\":\"field\",\"field\":\"q3\"},\"line_alpha\":{\"type\":\"value\",\"value\":0.2}}}}},{\"type\":\"object\",\"name\":\"GlyphRenderer\",\"id\":\"p1252\",\"attributes\":{\"data_source\":{\"id\":\"p1208\"},\"view\":{\"type\":\"object\",\"name\":\"CDSView\",\"id\":\"p1253\",\"attributes\":{\"filter\":{\"type\":\"object\",\"name\":\"AllIndices\",\"id\":\"p1254\"}}},\"glyph\":{\"type\":\"object\",\"name\":\"Segment\",\"id\":\"p1249\",\"attributes\":{\"x0\":{\"type\":\"field\",\"field\":\"Year\"},\"y0\":{\"type\":\"field\",\"field\":\"lower\"},\"x1\":{\"type\":\"field\",\"field\":\"Year\"},\"y1\":{\"type\":\"field\",\"field\":\"q1\"}}},\"nonselection_glyph\":{\"type\":\"object\",\"name\":\"Segment\",\"id\":\"p1250\",\"attributes\":{\"x0\":{\"type\":\"field\",\"field\":\"Year\"},\"y0\":{\"type\":\"field\",\"field\":\"lower\"},\"x1\":{\"type\":\"field\",\"field\":\"Year\"},\"y1\":{\"type\":\"field\",\"field\":\"q1\"},\"line_alpha\":{\"type\":\"value\",\"value\":0.1}}},\"muted_glyph\":{\"type\":\"object\",\"name\":\"Segment\",\"id\":\"p1251\",\"attributes\":{\"x0\":{\"type\":\"field\",\"field\":\"Year\"},\"y0\":{\"type\":\"field\",\"field\":\"lower\"},\"x1\":{\"type\":\"field\",\"field\":\"Year\"},\"y1\":{\"type\":\"field\",\"field\":\"q1\"},\"line_alpha\":{\"type\":\"value\",\"value\":0.2}}}}},{\"type\":\"object\",\"name\":\"GlyphRenderer\",\"id\":\"p1262\",\"attributes\":{\"data_source\":{\"id\":\"p1208\"},\"view\":{\"type\":\"object\",\"name\":\"CDSView\",\"id\":\"p1263\",\"attributes\":{\"filter\":{\"type\":\"object\",\"name\":\"AllIndices\",\"id\":\"p1264\"}}},\"glyph\":{\"type\":\"object\",\"name\":\"VBar\",\"id\":\"p1259\",\"attributes\":{\"x\":{\"type\":\"field\",\"field\":\"Year\"},\"width\":{\"type\":\"value\",\"value\":0.7},\"bottom\":{\"type\":\"field\",\"field\":\"q3\"},\"top\":{\"type\":\"field\",\"field\":\"q2\"},\"fill_color\":{\"type\":\"field\",\"field\":\"Year\",\"transform\":{\"type\":\"object\",\"name\":\"CategoricalColorMapper\",\"id\":\"p1255\",\"attributes\":{\"palette\":[\"#1f77b4\",\"#aec7e8\",\"#ff7f0e\",\"#ffbb78\",\"#2ca02c\",\"#98df8a\",\"#d62728\",\"#ff9896\",\"#9467bd\",\"#c5b0d5\",\"#8c564b\",\"#c49c94\"],\"factors\":[\"1949\",\"1950\",\"1951\",\"1952\",\"1954\",\"1953\",\"1955\",\"1956\",\"1957\",\"1958\",\"1959\",\"1960\"]}}}}},\"nonselection_glyph\":{\"type\":\"object\",\"name\":\"VBar\",\"id\":\"p1260\",\"attributes\":{\"x\":{\"type\":\"field\",\"field\":\"Year\"},\"width\":{\"type\":\"value\",\"value\":0.7},\"bottom\":{\"type\":\"field\",\"field\":\"q3\"},\"top\":{\"type\":\"field\",\"field\":\"q2\"},\"line_alpha\":{\"type\":\"value\",\"value\":0.1},\"fill_color\":{\"type\":\"field\",\"field\":\"Year\",\"transform\":{\"id\":\"p1255\"}},\"fill_alpha\":{\"type\":\"value\",\"value\":0.1},\"hatch_alpha\":{\"type\":\"value\",\"value\":0.1}}},\"muted_glyph\":{\"type\":\"object\",\"name\":\"VBar\",\"id\":\"p1261\",\"attributes\":{\"x\":{\"type\":\"field\",\"field\":\"Year\"},\"width\":{\"type\":\"value\",\"value\":0.7},\"bottom\":{\"type\":\"field\",\"field\":\"q3\"},\"top\":{\"type\":\"field\",\"field\":\"q2\"},\"line_alpha\":{\"type\":\"value\",\"value\":0.2},\"fill_color\":{\"type\":\"field\",\"field\":\"Year\",\"transform\":{\"id\":\"p1255\"}},\"fill_alpha\":{\"type\":\"value\",\"value\":0.2},\"hatch_alpha\":{\"type\":\"value\",\"value\":0.2}}}}},{\"type\":\"object\",\"name\":\"GlyphRenderer\",\"id\":\"p1272\",\"attributes\":{\"data_source\":{\"id\":\"p1208\"},\"view\":{\"type\":\"object\",\"name\":\"CDSView\",\"id\":\"p1273\",\"attributes\":{\"filter\":{\"type\":\"object\",\"name\":\"AllIndices\",\"id\":\"p1274\"}}},\"glyph\":{\"type\":\"object\",\"name\":\"VBar\",\"id\":\"p1269\",\"attributes\":{\"x\":{\"type\":\"field\",\"field\":\"Year\"},\"width\":{\"type\":\"value\",\"value\":0.7},\"bottom\":{\"type\":\"field\",\"field\":\"q2\"},\"top\":{\"type\":\"field\",\"field\":\"q1\"},\"fill_color\":{\"type\":\"field\",\"field\":\"Year\",\"transform\":{\"type\":\"object\",\"name\":\"CategoricalColorMapper\",\"id\":\"p1265\",\"attributes\":{\"palette\":[\"#1f77b4\",\"#aec7e8\",\"#ff7f0e\",\"#ffbb78\",\"#2ca02c\",\"#98df8a\",\"#d62728\",\"#ff9896\",\"#9467bd\",\"#c5b0d5\",\"#8c564b\",\"#c49c94\"],\"factors\":[\"1949\",\"1950\",\"1951\",\"1952\",\"1954\",\"1953\",\"1955\",\"1956\",\"1957\",\"1958\",\"1959\",\"1960\"]}}}}},\"nonselection_glyph\":{\"type\":\"object\",\"name\":\"VBar\",\"id\":\"p1270\",\"attributes\":{\"x\":{\"type\":\"field\",\"field\":\"Year\"},\"width\":{\"type\":\"value\",\"value\":0.7},\"bottom\":{\"type\":\"field\",\"field\":\"q2\"},\"top\":{\"type\":\"field\",\"field\":\"q1\"},\"line_alpha\":{\"type\":\"value\",\"value\":0.1},\"fill_color\":{\"type\":\"field\",\"field\":\"Year\",\"transform\":{\"id\":\"p1265\"}},\"fill_alpha\":{\"type\":\"value\",\"value\":0.1},\"hatch_alpha\":{\"type\":\"value\",\"value\":0.1}}},\"muted_glyph\":{\"type\":\"object\",\"name\":\"VBar\",\"id\":\"p1271\",\"attributes\":{\"x\":{\"type\":\"field\",\"field\":\"Year\"},\"width\":{\"type\":\"value\",\"value\":0.7},\"bottom\":{\"type\":\"field\",\"field\":\"q2\"},\"top\":{\"type\":\"field\",\"field\":\"q1\"},\"line_alpha\":{\"type\":\"value\",\"value\":0.2},\"fill_color\":{\"type\":\"field\",\"field\":\"Year\",\"transform\":{\"id\":\"p1265\"}},\"fill_alpha\":{\"type\":\"value\",\"value\":0.2},\"hatch_alpha\":{\"type\":\"value\",\"value\":0.2}}}}},{\"type\":\"object\",\"name\":\"GlyphRenderer\",\"id\":\"p1281\",\"attributes\":{\"data_source\":{\"id\":\"p1208\"},\"view\":{\"type\":\"object\",\"name\":\"CDSView\",\"id\":\"p1282\",\"attributes\":{\"filter\":{\"type\":\"object\",\"name\":\"AllIndices\",\"id\":\"p1283\"}}},\"glyph\":{\"type\":\"object\",\"name\":\"Rect\",\"id\":\"p1278\",\"attributes\":{\"x\":{\"type\":\"field\",\"field\":\"Year\"},\"y\":{\"type\":\"field\",\"field\":\"q2\"},\"width\":{\"type\":\"value\",\"value\":0.2},\"height\":{\"type\":\"value\",\"value\":0.01},\"fill_color\":{\"type\":\"value\",\"value\":\"#1f77b4\"}}},\"nonselection_glyph\":{\"type\":\"object\",\"name\":\"Rect\",\"id\":\"p1279\",\"attributes\":{\"x\":{\"type\":\"field\",\"field\":\"Year\"},\"y\":{\"type\":\"field\",\"field\":\"q2\"},\"width\":{\"type\":\"value\",\"value\":0.2},\"height\":{\"type\":\"value\",\"value\":0.01},\"line_alpha\":{\"type\":\"value\",\"value\":0.1},\"fill_color\":{\"type\":\"value\",\"value\":\"#1f77b4\"},\"fill_alpha\":{\"type\":\"value\",\"value\":0.1},\"hatch_alpha\":{\"type\":\"value\",\"value\":0.1}}},\"muted_glyph\":{\"type\":\"object\",\"name\":\"Rect\",\"id\":\"p1280\",\"attributes\":{\"x\":{\"type\":\"field\",\"field\":\"Year\"},\"y\":{\"type\":\"field\",\"field\":\"q2\"},\"width\":{\"type\":\"value\",\"value\":0.2},\"height\":{\"type\":\"value\",\"value\":0.01},\"line_alpha\":{\"type\":\"value\",\"value\":0.2},\"fill_color\":{\"type\":\"value\",\"value\":\"#1f77b4\"},\"fill_alpha\":{\"type\":\"value\",\"value\":0.2},\"hatch_alpha\":{\"type\":\"value\",\"value\":0.2}}}}}],\"toolbar\":{\"type\":\"object\",\"name\":\"Toolbar\",\"id\":\"p1220\",\"attributes\":{\"tools\":[{\"type\":\"object\",\"name\":\"PanTool\",\"id\":\"p1234\"},{\"type\":\"object\",\"name\":\"WheelZoomTool\",\"id\":\"p1235\",\"attributes\":{\"renderers\":\"auto\"}},{\"type\":\"object\",\"name\":\"ResetTool\",\"id\":\"p1236\"},{\"type\":\"object\",\"name\":\"HoverTool\",\"id\":\"p1284\",\"attributes\":{\"renderers\":\"auto\",\"tooltips\":[[\"Ann\\u00e9e\",\"@Year\"],[\"Min Whisker\",\"@lower{0.0} \\u00b0C\"],[\"Q1\",\"@q1{0.0} \\u00b0C\"],[\"M\\u00e9diane\",\"@q2{0.0} \\u00b0C\"],[\"Q3\",\"@q3{0.0} \\u00b0C\"],[\"Max Whisker\",\"@upper{0.0} \\u00b0C\"]],\"formatters\":{\"type\":\"map\",\"entries\":[[\"@lower\",\"numeral\"],[\"@q1\",\"numeral\"],[\"@q2\",\"numeral\"],[\"@q3\",\"numeral\"],[\"@upper\",\"numeral\"]]},\"mode\":\"vline\"}}]}},\"left\":[{\"type\":\"object\",\"name\":\"LinearAxis\",\"id\":\"p1229\",\"attributes\":{\"ticker\":{\"type\":\"object\",\"name\":\"BasicTicker\",\"id\":\"p1230\",\"attributes\":{\"mantissas\":[1,2,5]}},\"formatter\":{\"type\":\"object\",\"name\":\"BasicTickFormatter\",\"id\":\"p1231\"},\"axis_label\":\"Temperature (\\u00b0C)\",\"major_label_policy\":{\"type\":\"object\",\"name\":\"AllLabels\",\"id\":\"p1232\"}}}],\"below\":[{\"type\":\"object\",\"name\":\"CategoricalAxis\",\"id\":\"p1224\",\"attributes\":{\"ticker\":{\"type\":\"object\",\"name\":\"CategoricalTicker\",\"id\":\"p1225\"},\"formatter\":{\"type\":\"object\",\"name\":\"CategoricalTickFormatter\",\"id\":\"p1226\"},\"axis_label\":\"Ann\\u00e9e\",\"major_label_policy\":{\"type\":\"object\",\"name\":\"AllLabels\",\"id\":\"p1227\"}}}],\"center\":[{\"type\":\"object\",\"name\":\"Grid\",\"id\":\"p1228\",\"attributes\":{\"axis\":{\"id\":\"p1224\"}}},{\"type\":\"object\",\"name\":\"Grid\",\"id\":\"p1233\",\"attributes\":{\"dimension\":1,\"axis\":{\"id\":\"p1229\"}}}]}}]}};\n  const render_items = [{\"docid\":\"a69b86fb-d6e0-412d-aa34-175c2003e354\",\"roots\":{\"p1211\":\"bc1e1101-826c-4646-92dd-b2fa4f23211c\"},\"root_ids\":[\"p1211\"]}];\n  void root.Bokeh.embed.embed_items_notebook(docs_json, render_items);\n  }\n  if (root.Bokeh !== undefined) {\n    embed_document(root);\n  } else {\n    let attempts = 0;\n    const timer = setInterval(function(root) {\n      if (root.Bokeh !== undefined) {\n        clearInterval(timer);\n        embed_document(root);\n      } else {\n        attempts++;\n        if (attempts > 100) {\n          clearInterval(timer);\n          console.log(\"Bokeh: ERROR: Unable to run BokehJS code because BokehJS library is missing\");\n        }\n      }\n    }, 10, root)\n  }\n})(window);",
      "application/vnd.bokehjs_exec.v0+json": ""
     },
     "metadata": {
      "application/vnd.bokehjs_exec.v0+json": {
       "id": "p1211"
      }
     },
     "output_type": "display_data"
    }
   ],
   "source": [
    "df['Year'] = df['Date'].dt.year\n",
    "\n",
    "group_year = df.groupby('Year')['Temperature']\n",
    "q1 = group_year.quantile(0.25)\n",
    "q2 = group_year.quantile(0.50)\n",
    "q3 = group_year.quantile(0.75)\n",
    "iqr = q3 - q1\n",
    "upper_whisker = np.minimum(q3 + 1.5 * iqr, group_year.max())\n",
    "lower_whisker = np.maximum(q1 - 1.5 * iqr, group_year.min())\n",
    "\n",
    "medians = q2.sort_values()\n",
    "years_sorted = medians.index.tolist()\n",
    "palette = Category20_20[: len(years_sorted)]\n",
    "\n",
    "source_year = ColumnDataSource(data=dict(\n",
    "    Year=[str(y) for y in years_sorted],\n",
    "    q1=q1[years_sorted].values,\n",
    "    q2=q2[years_sorted].values,\n",
    "    q3=q3[years_sorted].values,\n",
    "    upper=upper_whisker[years_sorted].values,\n",
    "    lower=lower_whisker[years_sorted].values\n",
    "))\n",
    "\n",
    "p = figure(\n",
    "    title=\"Distribution annuelle des températures\",\n",
    "    x_range=[str(y) for y in years_sorted],\n",
    "    x_axis_label=\"Année\",\n",
    "    y_axis_label=\"Temperature (°C)\",\n",
    "    tools=\"pan,wheel_zoom,reset\"\n",
    ")\n",
    "\n",
    "p.segment('Year', 'upper', 'Year', 'q3', source=source_year, line_color=\"black\")\n",
    "p.segment('Year', 'lower', 'Year', 'q1', source=source_year, line_color=\"black\")\n",
    "\n",
    "p.vbar('Year', 0.7, 'q2', 'q3', source=source_year,\n",
    "       fill_color=factor_cmap('Year', palette=palette, factors=[str(y) for y in years_sorted]),\n",
    "       line_color=\"black\")\n",
    "p.vbar('Year', 0.7, 'q1', 'q2', source=source_year,\n",
    "       fill_color=factor_cmap('Year', palette=palette, factors=[str(y) for y in years_sorted]),\n",
    "       line_color=\"black\")\n",
    "\n",
    "p.rect('Year', 'q2', width=0.2, height=0.01, source=source_year, line_color=\"black\")\n",
    "\n",
    "hover = HoverTool(\n",
    "    tooltips=[\n",
    "        (\"Année\", \"@Year\"),\n",
    "        (\"Min Whisker\", \"@lower{0.0} °C\"),\n",
    "        (\"Q1\", \"@q1{0.0} °C\"),\n",
    "        (\"Médiane\", \"@q2{0.0} °C\"),\n",
    "        (\"Q3\", \"@q3{0.0} °C\"),\n",
    "        (\"Max Whisker\", \"@upper{0.0} °C\")\n",
    "    ],\n",
    "    formatters={\n",
    "        '@lower': 'numeral',\n",
    "        '@q1': 'numeral',\n",
    "        '@q2': 'numeral',\n",
    "        '@q3': 'numeral',\n",
    "        '@upper': 'numeral'\n",
    "    },\n",
    "    mode='vline'\n",
    ")\n",
    "p.add_tools(hover)\n",
    "\n",
    "show(p)\n"
   ]
  },
  {
   "cell_type": "markdown",
   "id": "f6c15d1a-ac4f-4a20-86b9-3d7d820f0107",
   "metadata": {},
   "source": [
    "Question 5: Interactive Time Range Selection\n",
    "\n",
    "5.  Create an interactive line plot where the user can select a specific time range\n",
    "    to view using a date range slider.\n",
    "\n",
    "    * Create a basic line plot of 'Temperature' over 'Date'.\n",
    "    * Implement a date range slider using Bokeh widgets to allow users to select a start and end date.\n",
    "    * Update the plot dynamically based on the selected date range.\n",
    "    * Add tooltips to display the date and temperature.\n",
    "    * Enable pan, wheel zoom, and reset tools."
   ]
  },
  {
   "cell_type": "code",
   "execution_count": 7,
   "id": "386598b2-0c8f-4099-a1d9-4ece50110216",
   "metadata": {},
   "outputs": [
    {
     "data": {
      "text/html": [
       "\n",
       "  <div id=\"d0de6682-1651-4eb3-bb6d-60d4ff61ff51\" data-root-id=\"p1349\" style=\"display: contents;\"></div>\n"
      ]
     },
     "metadata": {},
     "output_type": "display_data"
    },
    {
     "data": {
      "application/javascript": "(function(root) {\n  function embed_document(root) {\n  const docs_json = {\"54ef3343-394c-4963-a70e-6b7b9d13df62\":{\"version\":\"3.7.3\",\"title\":\"Bokeh Application\",\"roots\":[{\"type\":\"object\",\"name\":\"Column\",\"id\":\"p1349\",\"attributes\":{\"children\":[{\"type\":\"object\",\"name\":\"DateRangeSlider\",\"id\":\"p1347\",\"attributes\":{\"js_property_callbacks\":{\"type\":\"map\",\"entries\":[[\"change:value\",[{\"type\":\"object\",\"name\":\"CustomJS\",\"id\":\"p1348\",\"attributes\":{\"args\":{\"type\":\"map\",\"entries\":[[\"source_complet\",{\"type\":\"object\",\"name\":\"ColumnDataSource\",\"id\":\"p1290\",\"attributes\":{\"selected\":{\"type\":\"object\",\"name\":\"Selection\",\"id\":\"p1291\",\"attributes\":{\"indices\":[],\"line_indices\":[]}},\"selection_policy\":{\"type\":\"object\",\"name\":\"UnionRenderers\",\"id\":\"p1292\"},\"data\":{\"type\":\"map\",\"entries\":[[\"index\",{\"type\":\"ndarray\",\"array\":{\"type\":\"bytes\",\"data\":\"AAAAAAEAAAACAAAAAwAAAAQAAAAFAAAABgAAAAcAAAAIAAAACQAAAAoAAAALAAAADAAAAA0AAAAOAAAADwAAABAAAAARAAAAEgAAABMAAAAUAAAAFQAAABYAAAAXAAAAGAAAABkAAAAaAAAAGwAAABwAAAAdAAAAHgAAAB8AAAAgAAAAIQAAACIAAAAjAAAAJAAAACUAAAAmAAAAJwAAACgAAAApAAAAKgAAACsAAAAsAAAALQAAAC4AAAAvAAAAMAAAADEAAAAyAAAAMwAAADQAAAA1AAAANgAAADcAAAA4AAAAOQAAADoAAAA7AAAAPAAAAD0AAAA+AAAAPwAAAEAAAABBAAAAQgAAAEMAAABEAAAARQAAAEYAAABHAAAASAAAAEkAAABKAAAASwAAAEwAAABNAAAATgAAAE8AAABQAAAAUQAAAFIAAABTAAAAVAAAAFUAAABWAAAAVwAAAFgAAABZAAAAWgAAAFsAAABcAAAAXQAAAF4AAABfAAAAYAAAAGEAAABiAAAAYwAAAGQAAABlAAAAZgAAAGcAAABoAAAAaQAAAGoAAABrAAAAbAAAAG0AAABuAAAAbwAAAHAAAABxAAAAcgAAAHMAAAB0AAAAdQAAAHYAAAB3AAAAeAAAAHkAAAB6AAAAewAAAHwAAAB9AAAAfgAAAH8AAACAAAAAgQAAAIIAAACDAAAAhAAAAIUAAACGAAAAhwAAAIgAAACJAAAAigAAAIsAAACMAAAAjQAAAI4AAACPAAAA\"},\"shape\":[144],\"dtype\":\"int32\",\"order\":\"little\"}],[\"Date\",{\"type\":\"ndarray\",\"array\":{\"type\":\"bytes\",\"data\":\"AACATlRCY8IAAAAgpiZjwgAAAHXpFWPCAAAAVOYMY8IAAIBgW+1iwgAAAOr522LCAACAZgjRYsIAAIDVa7NiwgAAABdXrGLCAACA6KiQYsIAAIB4D3xiwgAAgDYJamLCAACAxm9VYsIAAIBW1kBiwgAAgH2GLWLCAAAAT9gRYsIAAIDL5gZiwgAAgJZw7mHCAACA+EPXYcIAAAD/C9RhwgAAAGHfvGHCAACABJ6eYcIAAIDwKo9hwgAAgEVufmHCAACASxtiYcIAAABS415hwgAAAEsASWHCAAAAjNAoYcIAAABePSZhwgAAAKyd/2DCAAAAuS35YMIAAAA8BOtgwgAAAHBE0WDCAACAJ3bCYMIAAIDR/KBgwgAAgOsclGDCAACA16mEYMIAAAAFIm5gwgAAgI7AXGDCAACATLpKYMIAAABMnzFgwgAAgOLNGWDCAACAZaQLYMIAAADXot5fwgAAAIEpvV/CAAAA3BmQX8IAAABLfXJfwgAAAA8kRF/CAAAAfocmX8IAAAC/VwZfwgAAAL4h1F7CAAAAIPW8XsIAAAD+u4FewgAAAPfYa17CAAAAAzMzXsIAAABeIwZewgAAAGTQ6V3CAAAAuRPZXcIAAAC43aZdwgAAAGJkhV3CAAAAnFFPXcIAAAC8HiZdwgAAAM9bA13CAAAAbFLoXMIAAABrHLZcwgAAAF1WilzCAAAAspl5XMIAAABizTtcwgAAACDHKVzCAAAALCHxW8IAAAA/Xs5bwgAAAPZ0plvCAAAA9T50W8IAAAAinERbwgAAAMZ1P1vCAAAAAGMJW8IAAACWdthawgAAAED9tlrCAAAARqqaWsIAAAChmm1awgAAAEQ+NlrCAAAAphEfWsIAAABQmP1ZwgAAAELS0VnCAAAAiU+VWcIAAAD/lY1ZwgAAAOQ/aFnCAAAAEZ04WcIAAACnsAdZwgAAAHjn0ljCAAAAXZGtWMIAAADM9I9YwgAAAAbiWVjCAAAATpVPWMIAAACVEhNYwgAAAPAC5lfCAAAAyBzHV8IAAACtxqFXwgAAAGvAj1fCAAAAi41mV8IAAAC46jZXwgAAADTeElfCAAAAOov2VsIAAACOmLNWwgAAAOPbolbCAAAAN+lfVsIAAACmTEJWwgAAAHeDDVbCAAAA2Vb2VcIAAACxcNdVwgAAAP/QsFXCAAAAnMeVVcIAAAB6jlpVwgAAAI3LN1XCAAAAcnUSVcIAAAA2HORUwgAAAHAJrlTCAAAAaSaYVMIAAAAtzWlUwgAAAIi9PFTCAAAAm/oZVMIAAAD26uxTwgAAABAL4FPCAAAA9bS6U8IAAACLyIlTwgAAAFz/VFPCAAAAt+8nU8IAAADyEiRTwgAAALa59VLCAAAAwhO9UsIAAACTSohSwgAAAAKualLCAAAAfqFGUsIAAABJKy5SwgAAAJCo8VHCAAAAxOjXUcIAAAD+1aFRwgAAAHQcmlHCAAAAwnxzUcIAAAA3jTlRwgAAABw3FFHCAAAA4N3lUMIAAAANO7ZQwgAAAFXuq1DC\"},\"shape\":[144],\"dtype\":\"float64\",\"order\":\"little\"}],[\"Temperature\",{\"type\":\"ndarray\",\"array\":{\"type\":\"bytes\",\"data\":\"cAAAAHYAAACEAAAAgQAAAHkAAACHAAAAlAAAAJQAAACIAAAAdwAAAGgAAAB2AAAAcwAAAH4AAACNAAAAhwAAAH0AAACVAAAAqgAAAKoAAACeAAAAhQAAAHIAAACMAAAAkQAAAJYAAACyAAAAowAAAKwAAACyAAAAxwAAAMcAAAC4AAAAogAAAJIAAACmAAAAqwAAALQAAADBAAAAtQAAALcAAADaAAAA5gAAAPIAAADRAAAAvwAAAKwAAADCAAAAxAAAAMQAAADsAAAA6wAAAOUAAADzAAAACAEAABABAADtAAAA0wAAALQAAADJAAAAzAAAALwAAADrAAAA4wAAAOoAAAAIAQAALgEAACUBAAADAQAA5QAAAMsAAADlAAAA8gAAAOkAAAALAQAADQEAAA4BAAA7AQAAbAEAAFsBAAA4AQAAEgEAAO0AAAAWAQAAHAEAABUBAAA9AQAAOQEAAD4BAAB2AQAAnQEAAJUBAABjAQAAMgEAAA8BAAAyAQAAOwEAAC0BAABkAQAAXAEAAGMBAACmAQAA0QEAANMBAACUAQAAWwEAADEBAABQAQAAVAEAAD4BAABqAQAAXAEAAGsBAACzAQAA6wEAAPkBAACUAQAAZwEAADYBAABRAQAAaAEAAFYBAACWAQAAjAEAAKQBAADYAQAAJAIAAC8CAADPAQAAlwEAAGoBAACVAQAAoQEAAIcBAACjAQAAzQEAANgBAAAXAgAAbgIAAF4CAAD8AQAAzQEAAIYBAACwAQAA\"},\"shape\":[144],\"dtype\":\"int32\",\"order\":\"little\"}],[\"Rolling_Avg\",{\"type\":\"ndarray\",\"array\":{\"type\":\"bytes\",\"data\":\"AAAAAAAAXEAAAAAAAMBcQKuqqqqqKl5AAAAAAACwXkCamZmZmZleQAAAAAAAIF9Abtu2bdv2X0AAAAAAAExgQAAAAAAAYGBAmpmZmZk5YEBddNFFF91fQKuqqqqqql9AFDuxEztxX0AlSZIkSXJfQDMzMzMzs19AAAAAAADUX0BLS0tLS8tfQMdxHMdxDGBAKK+hvIZSYECamZmZmZFgQIZhGIZhuGBAF1100UW3YEDqTW9605tgQFVVVVVVpWBAFK5H4Xq0YECKndiJnchgQMdxHMdx/GBAt23btm0bYUBPIyz3NEJhQM3MzMzMbGFAmpmZmZnJYUAAAAAAACBiQHd3d3d3V2JAq6qqqqp6YkBVVVVVVZViQGZmZmZmtmJA7+7u7u7OYkAREREREfFiQN7d3d3dLWNAAAAAAABwY0BERERERMRjQO/u7u7uLmRAmpmZmZmpZEBVVVVVVSVlQN7d3d3dbWVAmpmZmZmpZUC8u7u7u9tlQLy7u7u7C2ZAd3d3d3cnZkAzMzMzM0NmQGZmZmZmlmZAMzMzMzMDZ0De3d3d3X1nQLy7u7u762dAq6qqqqpqaEDNzMzMzOxoQLy7u7u7K2lA7+7u7u5eaUB3d3d3d2dpQAAAAAAAgGlAVVVVVVWFaUCamZmZmXlpQAAAAAAAsGlAVVVVVVX1aUAzMzMzM1NqQLy7u7u7u2pAd3d3d3dHa0AAAAAAAMBrQGZmZmZmBmxAmpmZmZk5bEDv7u7u7k5sQKuqqqqqWmxAd3d3d3dnbEDe3d3d3V1sQLy7u7u7m2xA7+7u7u7ubEB3d3d3d1dtQImIiIiI2G1AvLu7u7uLbkDNzMzMzCxvQN7d3d3dfW9Ad3d3d3enb0AAAAAAALBvQFVVVVVV1W9Aq6qqqqrqb0AAAAAAAPBvQKuqqqqqInBAERERERFZcECrqqqqqqJwQO/u7u7u/nBAZmZmZmZucUAiIiIiIuJxQCIiIiIiInJARERERERMckAAAAAAAGByQGZmZmZmdnJAVVVVVVV9ckCamZmZmYFyQFVVVVVVtXJAzczMzMz0ckDe3d3d3UVzQM3MzMzMrHNAvLu7u7sjdECJiIiIiKB0QJqZmZmZ6XRAMzMzMzMTdUDe3d3d3SV1QBERERERMXVAREREREQkdUDNzMzMzBR1QHd3d3d3L3VA7+7u7u5WdUAiIiIiIpp1QN7d3d3d7XVARERERERcdkDe3d3d3dV2QEREREREBHdAzczMzMwcd0CJiIiIiBh3QM3MzMzMBHdAiYiIiIjodkDv7u7u7sZ2QCIiIiIi4nZAIiIiIiISd0CamZmZmWF3QCIiIiIiundAZmZmZmY2eEAAAAAAAMB4QBERERER+XhAiYiIiIgYeUBERERERBx5QDMzMzMzE3lAmpmZmZn5eEAREREREdF4QBERERER2XhA3t3d3d0VeUDv7u7u7m55QBERERER2XlAd3d3d3dvekAREREREQl7QO/u7u7uVntAMzMzMzOTe0CamZmZmaF7QAAAAAAAoHtA\"},\"shape\":[144],\"dtype\":\"float64\",\"order\":\"little\"}],[\"Month\",{\"type\":\"ndarray\",\"array\":{\"type\":\"bytes\",\"data\":\"AQAAAAIAAAADAAAABAAAAAUAAAAGAAAABwAAAAgAAAAJAAAACgAAAAsAAAAMAAAAAQAAAAIAAAADAAAABAAAAAUAAAAGAAAABwAAAAgAAAAJAAAACgAAAAsAAAAMAAAAAQAAAAIAAAADAAAABAAAAAUAAAAGAAAABwAAAAgAAAAJAAAACgAAAAsAAAAMAAAAAQAAAAIAAAADAAAABAAAAAUAAAAGAAAABwAAAAgAAAAJAAAACgAAAAsAAAAMAAAAAQAAAAIAAAADAAAABAAAAAUAAAAGAAAABwAAAAgAAAAJAAAACgAAAAsAAAAMAAAAAQAAAAIAAAADAAAABAAAAAUAAAAGAAAABwAAAAgAAAAJAAAACgAAAAsAAAAMAAAAAQAAAAIAAAADAAAABAAAAAUAAAAGAAAABwAAAAgAAAAJAAAACgAAAAsAAAAMAAAAAQAAAAIAAAADAAAABAAAAAUAAAAGAAAABwAAAAgAAAAJAAAACgAAAAsAAAAMAAAAAQAAAAIAAAADAAAABAAAAAUAAAAGAAAABwAAAAgAAAAJAAAACgAAAAsAAAAMAAAAAQAAAAIAAAADAAAABAAAAAUAAAAGAAAABwAAAAgAAAAJAAAACgAAAAsAAAAMAAAAAQAAAAIAAAADAAAABAAAAAUAAAAGAAAABwAAAAgAAAAJAAAACgAAAAsAAAAMAAAAAQAAAAIAAAADAAAABAAAAAUAAAAGAAAABwAAAAgAAAAJAAAACgAAAAsAAAAMAAAA\"},\"shape\":[144],\"dtype\":\"int32\",\"order\":\"little\"}],[\"Year\",{\"type\":\"ndarray\",\"array\":{\"type\":\"bytes\",\"data\":\"nQcAAJ0HAACdBwAAnQcAAJ0HAACdBwAAnQcAAJ0HAACdBwAAnQcAAJ0HAACdBwAAngcAAJ4HAACeBwAAngcAAJ4HAACeBwAAngcAAJ4HAACeBwAAngcAAJ4HAACeBwAAnwcAAJ8HAACfBwAAnwcAAJ8HAACfBwAAnwcAAJ8HAACfBwAAnwcAAJ8HAACfBwAAoAcAAKAHAACgBwAAoAcAAKAHAACgBwAAoAcAAKAHAACgBwAAoAcAAKAHAACgBwAAoQcAAKEHAAChBwAAoQcAAKEHAAChBwAAoQcAAKEHAAChBwAAoQcAAKEHAAChBwAAogcAAKIHAACiBwAAogcAAKIHAACiBwAAogcAAKIHAACiBwAAogcAAKIHAACiBwAAowcAAKMHAACjBwAAowcAAKMHAACjBwAAowcAAKMHAACjBwAAowcAAKMHAACjBwAApAcAAKQHAACkBwAApAcAAKQHAACkBwAApAcAAKQHAACkBwAApAcAAKQHAACkBwAApQcAAKUHAAClBwAApQcAAKUHAAClBwAApQcAAKUHAAClBwAApQcAAKUHAAClBwAApgcAAKYHAACmBwAApgcAAKYHAACmBwAApgcAAKYHAACmBwAApgcAAKYHAACmBwAApwcAAKcHAACnBwAApwcAAKcHAACnBwAApwcAAKcHAACnBwAApwcAAKcHAACnBwAAqAcAAKgHAACoBwAAqAcAAKgHAACoBwAAqAcAAKgHAACoBwAAqAcAAKgHAACoBwAA\"},\"shape\":[144],\"dtype\":\"int32\",\"order\":\"little\"}]]}}}],[\"source_filtr\\u00e9e\",{\"type\":\"object\",\"name\":\"ColumnDataSource\",\"id\":\"p1293\",\"attributes\":{\"selected\":{\"type\":\"object\",\"name\":\"Selection\",\"id\":\"p1294\",\"attributes\":{\"indices\":[],\"line_indices\":[]}},\"selection_policy\":{\"type\":\"object\",\"name\":\"UnionRenderers\",\"id\":\"p1295\"},\"data\":{\"type\":\"map\",\"entries\":[[\"index\",{\"type\":\"ndarray\",\"array\":{\"type\":\"bytes\",\"data\":\"AAAAAAEAAAACAAAAAwAAAAQAAAAFAAAABgAAAAcAAAAIAAAACQAAAAoAAAALAAAADAAAAA0AAAAOAAAADwAAABAAAAARAAAAEgAAABMAAAAUAAAAFQAAABYAAAAXAAAAGAAAABkAAAAaAAAAGwAAABwAAAAdAAAAHgAAAB8AAAAgAAAAIQAAACIAAAAjAAAAJAAAACUAAAAmAAAAJwAAACgAAAApAAAAKgAAACsAAAAsAAAALQAAAC4AAAAvAAAAMAAAADEAAAAyAAAAMwAAADQAAAA1AAAANgAAADcAAAA4AAAAOQAAADoAAAA7AAAAPAAAAD0AAAA+AAAAPwAAAEAAAABBAAAAQgAAAEMAAABEAAAARQAAAEYAAABHAAAASAAAAEkAAABKAAAASwAAAEwAAABNAAAATgAAAE8AAABQAAAAUQAAAFIAAABTAAAAVAAAAFUAAABWAAAAVwAAAFgAAABZAAAAWgAAAFsAAABcAAAAXQAAAF4AAABfAAAAYAAAAGEAAABiAAAAYwAAAGQAAABlAAAAZgAAAGcAAABoAAAAaQAAAGoAAABrAAAAbAAAAG0AAABuAAAAbwAAAHAAAABxAAAAcgAAAHMAAAB0AAAAdQAAAHYAAAB3AAAAeAAAAHkAAAB6AAAAewAAAHwAAAB9AAAAfgAAAH8AAACAAAAAgQAAAIIAAACDAAAAhAAAAIUAAACGAAAAhwAAAIgAAACJAAAAigAAAIsAAACMAAAAjQAAAI4AAACPAAAA\"},\"shape\":[144],\"dtype\":\"int32\",\"order\":\"little\"}],[\"Date\",{\"type\":\"ndarray\",\"array\":{\"type\":\"bytes\",\"data\":\"AACATlRCY8IAAAAgpiZjwgAAAHXpFWPCAAAAVOYMY8IAAIBgW+1iwgAAAOr522LCAACAZgjRYsIAAIDVa7NiwgAAABdXrGLCAACA6KiQYsIAAIB4D3xiwgAAgDYJamLCAACAxm9VYsIAAIBW1kBiwgAAgH2GLWLCAAAAT9gRYsIAAIDL5gZiwgAAgJZw7mHCAACA+EPXYcIAAAD/C9RhwgAAAGHfvGHCAACABJ6eYcIAAIDwKo9hwgAAgEVufmHCAACASxtiYcIAAABS415hwgAAAEsASWHCAAAAjNAoYcIAAABePSZhwgAAAKyd/2DCAAAAuS35YMIAAAA8BOtgwgAAAHBE0WDCAACAJ3bCYMIAAIDR/KBgwgAAgOsclGDCAACA16mEYMIAAAAFIm5gwgAAgI7AXGDCAACATLpKYMIAAABMnzFgwgAAgOLNGWDCAACAZaQLYMIAAADXot5fwgAAAIEpvV/CAAAA3BmQX8IAAABLfXJfwgAAAA8kRF/CAAAAfocmX8IAAAC/VwZfwgAAAL4h1F7CAAAAIPW8XsIAAAD+u4FewgAAAPfYa17CAAAAAzMzXsIAAABeIwZewgAAAGTQ6V3CAAAAuRPZXcIAAAC43aZdwgAAAGJkhV3CAAAAnFFPXcIAAAC8HiZdwgAAAM9bA13CAAAAbFLoXMIAAABrHLZcwgAAAF1WilzCAAAAspl5XMIAAABizTtcwgAAACDHKVzCAAAALCHxW8IAAAA/Xs5bwgAAAPZ0plvCAAAA9T50W8IAAAAinERbwgAAAMZ1P1vCAAAAAGMJW8IAAACWdthawgAAAED9tlrCAAAARqqaWsIAAAChmm1awgAAAEQ+NlrCAAAAphEfWsIAAABQmP1ZwgAAAELS0VnCAAAAiU+VWcIAAAD/lY1ZwgAAAOQ/aFnCAAAAEZ04WcIAAACnsAdZwgAAAHjn0ljCAAAAXZGtWMIAAADM9I9YwgAAAAbiWVjCAAAATpVPWMIAAACVEhNYwgAAAPAC5lfCAAAAyBzHV8IAAACtxqFXwgAAAGvAj1fCAAAAi41mV8IAAAC46jZXwgAAADTeElfCAAAAOov2VsIAAACOmLNWwgAAAOPbolbCAAAAN+lfVsIAAACmTEJWwgAAAHeDDVbCAAAA2Vb2VcIAAACxcNdVwgAAAP/QsFXCAAAAnMeVVcIAAAB6jlpVwgAAAI3LN1XCAAAAcnUSVcIAAAA2HORUwgAAAHAJrlTCAAAAaSaYVMIAAAAtzWlUwgAAAIi9PFTCAAAAm/oZVMIAAAD26uxTwgAAABAL4FPCAAAA9bS6U8IAAACLyIlTwgAAAFz/VFPCAAAAt+8nU8IAAADyEiRTwgAAALa59VLCAAAAwhO9UsIAAACTSohSwgAAAAKualLCAAAAfqFGUsIAAABJKy5SwgAAAJCo8VHCAAAAxOjXUcIAAAD+1aFRwgAAAHQcmlHCAAAAwnxzUcIAAAA3jTlRwgAAABw3FFHCAAAA4N3lUMIAAAANO7ZQwgAAAFXuq1DC\"},\"shape\":[144],\"dtype\":\"float64\",\"order\":\"little\"}],[\"Temperature\",{\"type\":\"ndarray\",\"array\":{\"type\":\"bytes\",\"data\":\"cAAAAHYAAACEAAAAgQAAAHkAAACHAAAAlAAAAJQAAACIAAAAdwAAAGgAAAB2AAAAcwAAAH4AAACNAAAAhwAAAH0AAACVAAAAqgAAAKoAAACeAAAAhQAAAHIAAACMAAAAkQAAAJYAAACyAAAAowAAAKwAAACyAAAAxwAAAMcAAAC4AAAAogAAAJIAAACmAAAAqwAAALQAAADBAAAAtQAAALcAAADaAAAA5gAAAPIAAADRAAAAvwAAAKwAAADCAAAAxAAAAMQAAADsAAAA6wAAAOUAAADzAAAACAEAABABAADtAAAA0wAAALQAAADJAAAAzAAAALwAAADrAAAA4wAAAOoAAAAIAQAALgEAACUBAAADAQAA5QAAAMsAAADlAAAA8gAAAOkAAAALAQAADQEAAA4BAAA7AQAAbAEAAFsBAAA4AQAAEgEAAO0AAAAWAQAAHAEAABUBAAA9AQAAOQEAAD4BAAB2AQAAnQEAAJUBAABjAQAAMgEAAA8BAAAyAQAAOwEAAC0BAABkAQAAXAEAAGMBAACmAQAA0QEAANMBAACUAQAAWwEAADEBAABQAQAAVAEAAD4BAABqAQAAXAEAAGsBAACzAQAA6wEAAPkBAACUAQAAZwEAADYBAABRAQAAaAEAAFYBAACWAQAAjAEAAKQBAADYAQAAJAIAAC8CAADPAQAAlwEAAGoBAACVAQAAoQEAAIcBAACjAQAAzQEAANgBAAAXAgAAbgIAAF4CAAD8AQAAzQEAAIYBAACwAQAA\"},\"shape\":[144],\"dtype\":\"int32\",\"order\":\"little\"}],[\"Rolling_Avg\",{\"type\":\"ndarray\",\"array\":{\"type\":\"bytes\",\"data\":\"AAAAAAAAXEAAAAAAAMBcQKuqqqqqKl5AAAAAAACwXkCamZmZmZleQAAAAAAAIF9Abtu2bdv2X0AAAAAAAExgQAAAAAAAYGBAmpmZmZk5YEBddNFFF91fQKuqqqqqql9AFDuxEztxX0AlSZIkSXJfQDMzMzMzs19AAAAAAADUX0BLS0tLS8tfQMdxHMdxDGBAKK+hvIZSYECamZmZmZFgQIZhGIZhuGBAF1100UW3YEDqTW9605tgQFVVVVVVpWBAFK5H4Xq0YECKndiJnchgQMdxHMdx/GBAt23btm0bYUBPIyz3NEJhQM3MzMzMbGFAmpmZmZnJYUAAAAAAACBiQHd3d3d3V2JAq6qqqqp6YkBVVVVVVZViQGZmZmZmtmJA7+7u7u7OYkAREREREfFiQN7d3d3dLWNAAAAAAABwY0BERERERMRjQO/u7u7uLmRAmpmZmZmpZEBVVVVVVSVlQN7d3d3dbWVAmpmZmZmpZUC8u7u7u9tlQLy7u7u7C2ZAd3d3d3cnZkAzMzMzM0NmQGZmZmZmlmZAMzMzMzMDZ0De3d3d3X1nQLy7u7u762dAq6qqqqpqaEDNzMzMzOxoQLy7u7u7K2lA7+7u7u5eaUB3d3d3d2dpQAAAAAAAgGlAVVVVVVWFaUCamZmZmXlpQAAAAAAAsGlAVVVVVVX1aUAzMzMzM1NqQLy7u7u7u2pAd3d3d3dHa0AAAAAAAMBrQGZmZmZmBmxAmpmZmZk5bEDv7u7u7k5sQKuqqqqqWmxAd3d3d3dnbEDe3d3d3V1sQLy7u7u7m2xA7+7u7u7ubEB3d3d3d1dtQImIiIiI2G1AvLu7u7uLbkDNzMzMzCxvQN7d3d3dfW9Ad3d3d3enb0AAAAAAALBvQFVVVVVV1W9Aq6qqqqrqb0AAAAAAAPBvQKuqqqqqInBAERERERFZcECrqqqqqqJwQO/u7u7u/nBAZmZmZmZucUAiIiIiIuJxQCIiIiIiInJARERERERMckAAAAAAAGByQGZmZmZmdnJAVVVVVVV9ckCamZmZmYFyQFVVVVVVtXJAzczMzMz0ckDe3d3d3UVzQM3MzMzMrHNAvLu7u7sjdECJiIiIiKB0QJqZmZmZ6XRAMzMzMzMTdUDe3d3d3SV1QBERERERMXVAREREREQkdUDNzMzMzBR1QHd3d3d3L3VA7+7u7u5WdUAiIiIiIpp1QN7d3d3d7XVARERERERcdkDe3d3d3dV2QEREREREBHdAzczMzMwcd0CJiIiIiBh3QM3MzMzMBHdAiYiIiIjodkDv7u7u7sZ2QCIiIiIi4nZAIiIiIiISd0CamZmZmWF3QCIiIiIiundAZmZmZmY2eEAAAAAAAMB4QBERERER+XhAiYiIiIgYeUBERERERBx5QDMzMzMzE3lAmpmZmZn5eEAREREREdF4QBERERER2XhA3t3d3d0VeUDv7u7u7m55QBERERER2XlAd3d3d3dvekAREREREQl7QO/u7u7uVntAMzMzMzOTe0CamZmZmaF7QAAAAAAAoHtA\"},\"shape\":[144],\"dtype\":\"float64\",\"order\":\"little\"}],[\"Month\",{\"type\":\"ndarray\",\"array\":{\"type\":\"bytes\",\"data\":\"AQAAAAIAAAADAAAABAAAAAUAAAAGAAAABwAAAAgAAAAJAAAACgAAAAsAAAAMAAAAAQAAAAIAAAADAAAABAAAAAUAAAAGAAAABwAAAAgAAAAJAAAACgAAAAsAAAAMAAAAAQAAAAIAAAADAAAABAAAAAUAAAAGAAAABwAAAAgAAAAJAAAACgAAAAsAAAAMAAAAAQAAAAIAAAADAAAABAAAAAUAAAAGAAAABwAAAAgAAAAJAAAACgAAAAsAAAAMAAAAAQAAAAIAAAADAAAABAAAAAUAAAAGAAAABwAAAAgAAAAJAAAACgAAAAsAAAAMAAAAAQAAAAIAAAADAAAABAAAAAUAAAAGAAAABwAAAAgAAAAJAAAACgAAAAsAAAAMAAAAAQAAAAIAAAADAAAABAAAAAUAAAAGAAAABwAAAAgAAAAJAAAACgAAAAsAAAAMAAAAAQAAAAIAAAADAAAABAAAAAUAAAAGAAAABwAAAAgAAAAJAAAACgAAAAsAAAAMAAAAAQAAAAIAAAADAAAABAAAAAUAAAAGAAAABwAAAAgAAAAJAAAACgAAAAsAAAAMAAAAAQAAAAIAAAADAAAABAAAAAUAAAAGAAAABwAAAAgAAAAJAAAACgAAAAsAAAAMAAAAAQAAAAIAAAADAAAABAAAAAUAAAAGAAAABwAAAAgAAAAJAAAACgAAAAsAAAAMAAAAAQAAAAIAAAADAAAABAAAAAUAAAAGAAAABwAAAAgAAAAJAAAACgAAAAsAAAAMAAAA\"},\"shape\":[144],\"dtype\":\"int32\",\"order\":\"little\"}],[\"Year\",{\"type\":\"ndarray\",\"array\":{\"type\":\"bytes\",\"data\":\"nQcAAJ0HAACdBwAAnQcAAJ0HAACdBwAAnQcAAJ0HAACdBwAAnQcAAJ0HAACdBwAAngcAAJ4HAACeBwAAngcAAJ4HAACeBwAAngcAAJ4HAACeBwAAngcAAJ4HAACeBwAAnwcAAJ8HAACfBwAAnwcAAJ8HAACfBwAAnwcAAJ8HAACfBwAAnwcAAJ8HAACfBwAAoAcAAKAHAACgBwAAoAcAAKAHAACgBwAAoAcAAKAHAACgBwAAoAcAAKAHAACgBwAAoQcAAKEHAAChBwAAoQcAAKEHAAChBwAAoQcAAKEHAAChBwAAoQcAAKEHAAChBwAAogcAAKIHAACiBwAAogcAAKIHAACiBwAAogcAAKIHAACiBwAAogcAAKIHAACiBwAAowcAAKMHAACjBwAAowcAAKMHAACjBwAAowcAAKMHAACjBwAAowcAAKMHAACjBwAApAcAAKQHAACkBwAApAcAAKQHAACkBwAApAcAAKQHAACkBwAApAcAAKQHAACkBwAApQcAAKUHAAClBwAApQcAAKUHAAClBwAApQcAAKUHAAClBwAApQcAAKUHAAClBwAApgcAAKYHAACmBwAApgcAAKYHAACmBwAApgcAAKYHAACmBwAApgcAAKYHAACmBwAApwcAAKcHAACnBwAApwcAAKcHAACnBwAApwcAAKcHAACnBwAApwcAAKcHAACnBwAAqAcAAKgHAACoBwAAqAcAAKgHAACoBwAAqAcAAKgHAACoBwAAqAcAAKgHAACoBwAA\"},\"shape\":[144],\"dtype\":\"int32\",\"order\":\"little\"}]]}}}]]},\"code\":\"\\n    const data_complet = source_complet.data;\\n    const new_data = { Date: [], Temperature: [] };\\n    const [start, end] = cb_obj.value;\\n    for (let i = 0; i < data_complet['Date'].length; i++) {\\n        const d = data_complet['Date'][i];\\n        if (d >= start && d <= end) {\\n            new_data['Date'].push(d);\\n            new_data['Temperature'].push(data_complet['Temperature'][i]);\\n        }\\n    }\\n    source_filtr\\u00e9e.data = new_data;\\n    source_filtr\\u00e9e.change.emit();\\n\"}}]]]},\"title\":\"S\\u00e9lection de la plage de dates\",\"value\":[-661737600000.0,-286416000000.0],\"start\":-661737600000.0,\"end\":-286416000000.0,\"step\":86400000}},{\"type\":\"object\",\"name\":\"Figure\",\"id\":\"p1296\",\"attributes\":{\"x_range\":{\"type\":\"object\",\"name\":\"DataRange1d\",\"id\":\"p1297\"},\"y_range\":{\"type\":\"object\",\"name\":\"DataRange1d\",\"id\":\"p1298\"},\"x_scale\":{\"type\":\"object\",\"name\":\"LinearScale\",\"id\":\"p1306\"},\"y_scale\":{\"type\":\"object\",\"name\":\"LinearScale\",\"id\":\"p1307\"},\"title\":{\"type\":\"object\",\"name\":\"Title\",\"id\":\"p1299\",\"attributes\":{\"text\":\"Temp\\u00e9ratures minimales journali\\u00e8res - plage dynamique\"}},\"renderers\":[{\"type\":\"object\",\"name\":\"GlyphRenderer\",\"id\":\"p1341\",\"attributes\":{\"data_source\":{\"id\":\"p1293\"},\"view\":{\"type\":\"object\",\"name\":\"CDSView\",\"id\":\"p1342\",\"attributes\":{\"filter\":{\"type\":\"object\",\"name\":\"AllIndices\",\"id\":\"p1343\"}}},\"glyph\":{\"type\":\"object\",\"name\":\"Line\",\"id\":\"p1338\",\"attributes\":{\"x\":{\"type\":\"field\",\"field\":\"Date\"},\"y\":{\"type\":\"field\",\"field\":\"Temperature\"},\"line_color\":\"#1f77b4\",\"line_width\":2}},\"nonselection_glyph\":{\"type\":\"object\",\"name\":\"Line\",\"id\":\"p1339\",\"attributes\":{\"x\":{\"type\":\"field\",\"field\":\"Date\"},\"y\":{\"type\":\"field\",\"field\":\"Temperature\"},\"line_color\":\"#1f77b4\",\"line_alpha\":0.1,\"line_width\":2}},\"muted_glyph\":{\"type\":\"object\",\"name\":\"Line\",\"id\":\"p1340\",\"attributes\":{\"x\":{\"type\":\"field\",\"field\":\"Date\"},\"y\":{\"type\":\"field\",\"field\":\"Temperature\"},\"line_color\":\"#1f77b4\",\"line_alpha\":0.2,\"line_width\":2}}}}],\"toolbar\":{\"type\":\"object\",\"name\":\"Toolbar\",\"id\":\"p1305\",\"attributes\":{\"tools\":[{\"type\":\"object\",\"name\":\"PanTool\",\"id\":\"p1332\"},{\"type\":\"object\",\"name\":\"WheelZoomTool\",\"id\":\"p1333\",\"attributes\":{\"renderers\":\"auto\"}},{\"type\":\"object\",\"name\":\"ResetTool\",\"id\":\"p1334\"},{\"type\":\"object\",\"name\":\"HoverTool\",\"id\":\"p1346\",\"attributes\":{\"renderers\":\"auto\",\"tooltips\":[[\"Date\",\"@Date{%Y-%m-%d}\"],[\"Temp\\u00e9rature\",\"@Temperature{0.0} \\u00b0C\"]],\"formatters\":{\"type\":\"map\",\"entries\":[[\"@Date\",\"datetime\"],[\"@Temperature\",\"numeral\"]]},\"mode\":\"vline\"}}]}},\"left\":[{\"type\":\"object\",\"name\":\"LinearAxis\",\"id\":\"p1327\",\"attributes\":{\"ticker\":{\"type\":\"object\",\"name\":\"BasicTicker\",\"id\":\"p1328\",\"attributes\":{\"mantissas\":[1,2,5]}},\"formatter\":{\"type\":\"object\",\"name\":\"BasicTickFormatter\",\"id\":\"p1329\"},\"axis_label\":\"Temp\\u00e9rature (\\u00b0C)\",\"major_label_policy\":{\"type\":\"object\",\"name\":\"AllLabels\",\"id\":\"p1330\"}}}],\"below\":[{\"type\":\"object\",\"name\":\"DatetimeAxis\",\"id\":\"p1308\",\"attributes\":{\"ticker\":{\"type\":\"object\",\"name\":\"DatetimeTicker\",\"id\":\"p1309\",\"attributes\":{\"num_minor_ticks\":5,\"tickers\":[{\"type\":\"object\",\"name\":\"AdaptiveTicker\",\"id\":\"p1310\",\"attributes\":{\"num_minor_ticks\":0,\"mantissas\":[1,2,5],\"max_interval\":500.0}},{\"type\":\"object\",\"name\":\"AdaptiveTicker\",\"id\":\"p1311\",\"attributes\":{\"num_minor_ticks\":0,\"base\":60,\"mantissas\":[1,2,5,10,15,20,30],\"min_interval\":1000.0,\"max_interval\":1800000.0}},{\"type\":\"object\",\"name\":\"AdaptiveTicker\",\"id\":\"p1312\",\"attributes\":{\"num_minor_ticks\":0,\"base\":24,\"mantissas\":[1,2,4,6,8,12],\"min_interval\":3600000.0,\"max_interval\":43200000.0}},{\"type\":\"object\",\"name\":\"DaysTicker\",\"id\":\"p1313\",\"attributes\":{\"days\":[1,2,3,4,5,6,7,8,9,10,11,12,13,14,15,16,17,18,19,20,21,22,23,24,25,26,27,28,29,30,31]}},{\"type\":\"object\",\"name\":\"DaysTicker\",\"id\":\"p1314\",\"attributes\":{\"days\":[1,4,7,10,13,16,19,22,25,28]}},{\"type\":\"object\",\"name\":\"DaysTicker\",\"id\":\"p1315\",\"attributes\":{\"days\":[1,8,15,22]}},{\"type\":\"object\",\"name\":\"DaysTicker\",\"id\":\"p1316\",\"attributes\":{\"days\":[1,15]}},{\"type\":\"object\",\"name\":\"MonthsTicker\",\"id\":\"p1317\",\"attributes\":{\"months\":[0,1,2,3,4,5,6,7,8,9,10,11]}},{\"type\":\"object\",\"name\":\"MonthsTicker\",\"id\":\"p1318\",\"attributes\":{\"months\":[0,2,4,6,8,10]}},{\"type\":\"object\",\"name\":\"MonthsTicker\",\"id\":\"p1319\",\"attributes\":{\"months\":[0,4,8]}},{\"type\":\"object\",\"name\":\"MonthsTicker\",\"id\":\"p1320\",\"attributes\":{\"months\":[0,6]}},{\"type\":\"object\",\"name\":\"YearsTicker\",\"id\":\"p1321\"}]}},\"formatter\":{\"type\":\"object\",\"name\":\"DatetimeTickFormatter\",\"id\":\"p1324\",\"attributes\":{\"seconds\":\"%T\",\"minsec\":\"%T\",\"minutes\":\"%H:%M\",\"hours\":\"%H:%M\",\"days\":\"%b %d\",\"months\":\"%b %Y\",\"strip_leading_zeros\":[\"microseconds\",\"milliseconds\",\"seconds\"],\"boundary_scaling\":false,\"context\":{\"type\":\"object\",\"name\":\"DatetimeTickFormatter\",\"id\":\"p1323\",\"attributes\":{\"microseconds\":\"%T\",\"milliseconds\":\"%T\",\"seconds\":\"%b %d, %Y\",\"minsec\":\"%b %d, %Y\",\"minutes\":\"%b %d, %Y\",\"hourmin\":\"%b %d, %Y\",\"hours\":\"%b %d, %Y\",\"days\":\"%Y\",\"months\":\"\",\"years\":\"\",\"boundary_scaling\":false,\"hide_repeats\":true,\"context\":{\"type\":\"object\",\"name\":\"DatetimeTickFormatter\",\"id\":\"p1322\",\"attributes\":{\"microseconds\":\"%b %d, %Y\",\"milliseconds\":\"%b %d, %Y\",\"seconds\":\"\",\"minsec\":\"\",\"minutes\":\"\",\"hourmin\":\"\",\"hours\":\"\",\"days\":\"\",\"months\":\"\",\"years\":\"\",\"boundary_scaling\":false,\"hide_repeats\":true}},\"context_which\":\"all\"}},\"context_which\":\"all\"}},\"axis_label\":\"Date\",\"major_label_policy\":{\"type\":\"object\",\"name\":\"AllLabels\",\"id\":\"p1325\"}}}],\"center\":[{\"type\":\"object\",\"name\":\"Grid\",\"id\":\"p1326\",\"attributes\":{\"axis\":{\"id\":\"p1308\"}}},{\"type\":\"object\",\"name\":\"Grid\",\"id\":\"p1331\",\"attributes\":{\"dimension\":1,\"axis\":{\"id\":\"p1327\"}}},{\"type\":\"object\",\"name\":\"Legend\",\"id\":\"p1344\",\"attributes\":{\"items\":[{\"type\":\"object\",\"name\":\"LegendItem\",\"id\":\"p1345\",\"attributes\":{\"label\":{\"type\":\"value\",\"value\":\"Temp\\u00e9rature\"},\"renderers\":[{\"id\":\"p1341\"}]}}]}}]}}]}}]}};\n  const render_items = [{\"docid\":\"54ef3343-394c-4963-a70e-6b7b9d13df62\",\"roots\":{\"p1349\":\"d0de6682-1651-4eb3-bb6d-60d4ff61ff51\"},\"root_ids\":[\"p1349\"]}];\n  void root.Bokeh.embed.embed_items_notebook(docs_json, render_items);\n  }\n  if (root.Bokeh !== undefined) {\n    embed_document(root);\n  } else {\n    let attempts = 0;\n    const timer = setInterval(function(root) {\n      if (root.Bokeh !== undefined) {\n        clearInterval(timer);\n        embed_document(root);\n      } else {\n        attempts++;\n        if (attempts > 100) {\n          clearInterval(timer);\n          console.log(\"Bokeh: ERROR: Unable to run BokehJS code because BokehJS library is missing\");\n        }\n      }\n    }, 10, root)\n  }\n})(window);",
      "application/vnd.bokehjs_exec.v0+json": ""
     },
     "metadata": {
      "application/vnd.bokehjs_exec.v0+json": {
       "id": "p1349"
      }
     },
     "output_type": "display_data"
    }
   ],
   "source": [
    "source_complet = ColumnDataSource(df)\n",
    "source_filtrée = ColumnDataSource(df)\n",
    "\n",
    "p = figure(\n",
    "    title=\"Températures minimales journalières - plage dynamique\",\n",
    "    x_axis_type=\"datetime\",\n",
    "    x_axis_label=\"Date\",\n",
    "    y_axis_label=\"Température (°C)\",\n",
    "    tools=\"pan,wheel_zoom,reset\"\n",
    ")\n",
    "\n",
    "p.line('Date', 'Temperature', source=source_filtrée, line_width=2, legend_label=\"Température\")\n",
    "\n",
    "hover = HoverTool(\n",
    "    tooltips=[(\"Date\", \"@Date{%Y-%m-%d}\"), (\"Température\", \"@Temperature{0.0} °C\")],\n",
    "    formatters={'@Date': 'datetime', '@Temperature': 'numeral'},\n",
    "    mode='vline'\n",
    ")\n",
    "p.add_tools(hover)\n",
    "\n",
    "date_min = df['Date'].min()\n",
    "date_max = df['Date'].max()\n",
    "curseur_plage = DateRangeSlider(\n",
    "    title=\"Sélection de la plage de dates\",\n",
    "    start=date_min,\n",
    "    end=date_max,\n",
    "    value=(date_min, date_max),\n",
    "    step=24*60*60*1000\n",
    ")\n",
    "\n",
    "callback = CustomJS(args=dict(source_complet=source_complet, source_filtrée=source_filtrée), code=\"\"\"\n",
    "    const data_complet = source_complet.data;\n",
    "    const new_data = { Date: [], Temperature: [] };\n",
    "    const [start, end] = cb_obj.value;\n",
    "    for (let i = 0; i < data_complet['Date'].length; i++) {\n",
    "        const d = data_complet['Date'][i];\n",
    "        if (d >= start && d <= end) {\n",
    "            new_data['Date'].push(d);\n",
    "            new_data['Temperature'].push(data_complet['Temperature'][i]);\n",
    "        }\n",
    "    }\n",
    "    source_filtrée.data = new_data;\n",
    "    source_filtrée.change.emit();\n",
    "\"\"\")\n",
    "curseur_plage.js_on_change('value', callback)\n",
    "\n",
    "layout = column(curseur_plage, p)\n",
    "show(layout)"
   ]
  },
  {
   "cell_type": "markdown",
   "id": "037acb0d-e4e4-47dd-b7e7-dc4a7ea4116c",
   "metadata": {},
   "source": [
    "Question 6: Time Series Decomposition Visualization\n",
    "\n",
    "6.  Perform a simple time series decomposition to visualize the trend and seasonality\n",
    "    components of the temperature data.\n",
    "\n",
    "    * Resample the data to monthly frequency and calculate the monthly average temperature.\n",
    "    * Use a simple moving average to estimate the trend component.\n",
    "    * Calculate the seasonal component by subtracting the trend from the original monthly data.\n",
    "    * Create three separate Bokeh plots: one for the original monthly data, one for the trend,\n",
    "        and one for the seasonal component.\n",
    "    * Ensure the plots are aligned and share the same x-axis (Date).\n",
    "    * Add tooltips to each plot to display the date and corresponding value.\n",
    "    * Enable pan, wheel zoom, and reset tools for each plot."
   ]
  },
  {
   "cell_type": "code",
   "execution_count": 8,
   "id": "200c634a-75f0-4a7e-9674-0797c50fb8fd",
   "metadata": {
    "scrolled": true
   },
   "outputs": [
    {
     "name": "stderr",
     "output_type": "stream",
     "text": [
      "/var/folders/jn/6fpw0mbj6d563z42jglx_5sc0000gn/T/ipykernel_93416/1805167564.py:1: FutureWarning: 'M' is deprecated and will be removed in a future version, please use 'ME' instead.\n",
      "  df_mensuel = df.set_index('Date').resample('M').mean().reset_index()\n"
     ]
    },
    {
     "data": {
      "text/html": [
       "\n",
       "  <div id=\"ee0e4616-a131-4b36-ba0a-8cbfda693125\" data-root-id=\"p1524\" style=\"display: contents;\"></div>\n"
      ]
     },
     "metadata": {},
     "output_type": "display_data"
    },
    {
     "data": {
      "application/javascript": "(function(root) {\n  function embed_document(root) {\n  const docs_json = {\"0b53159a-6f74-49d5-a066-54cc48442f6b\":{\"version\":\"3.7.3\",\"title\":\"Bokeh Application\",\"roots\":[{\"type\":\"object\",\"name\":\"Column\",\"id\":\"p1524\",\"attributes\":{\"children\":[{\"type\":\"object\",\"name\":\"Figure\",\"id\":\"p1371\",\"attributes\":{\"x_range\":{\"type\":\"object\",\"name\":\"DataRange1d\",\"id\":\"p1372\"},\"y_range\":{\"type\":\"object\",\"name\":\"DataRange1d\",\"id\":\"p1373\"},\"x_scale\":{\"type\":\"object\",\"name\":\"LinearScale\",\"id\":\"p1381\"},\"y_scale\":{\"type\":\"object\",\"name\":\"LinearScale\",\"id\":\"p1382\"},\"title\":{\"type\":\"object\",\"name\":\"Title\",\"id\":\"p1374\",\"attributes\":{\"text\":\"Donn\\u00e9es mensuelles originales\"}},\"renderers\":[{\"type\":\"object\",\"name\":\"GlyphRenderer\",\"id\":\"p1494\",\"attributes\":{\"data_source\":{\"type\":\"object\",\"name\":\"ColumnDataSource\",\"id\":\"p1362\",\"attributes\":{\"selected\":{\"type\":\"object\",\"name\":\"Selection\",\"id\":\"p1363\",\"attributes\":{\"indices\":[],\"line_indices\":[]}},\"selection_policy\":{\"type\":\"object\",\"name\":\"UnionRenderers\",\"id\":\"p1364\"},\"data\":{\"type\":\"map\",\"entries\":[[\"index\",{\"type\":\"ndarray\",\"array\":{\"type\":\"bytes\",\"data\":\"AAAAAAEAAAACAAAAAwAAAAQAAAAFAAAABgAAAAcAAAAIAAAACQAAAAoAAAALAAAADAAAAA0AAAAOAAAADwAAABAAAAARAAAAEgAAABMAAAAUAAAAFQAAABYAAAAXAAAAGAAAABkAAAAaAAAAGwAAABwAAAAdAAAAHgAAAB8AAAAgAAAAIQAAACIAAAAjAAAAJAAAACUAAAAmAAAAJwAAACgAAAApAAAAKgAAACsAAAAsAAAALQAAAC4AAAAvAAAAMAAAADEAAAAyAAAAMwAAADQAAAA1AAAANgAAADcAAAA4AAAAOQAAADoAAAA7AAAAPAAAAD0AAAA+AAAAPwAAAEAAAABBAAAAQgAAAEMAAABEAAAARQAAAEYAAABHAAAASAAAAEkAAABKAAAASwAAAEwAAABNAAAATgAAAE8AAABQAAAAUQAAAFIAAABTAAAAVAAAAFUAAABWAAAAVwAAAFgAAABZAAAAWgAAAFsAAABcAAAAXQAAAF4AAABfAAAAYAAAAGEAAABiAAAAYwAAAGQAAABlAAAAZgAAAGcAAABoAAAAaQAAAGoAAABrAAAAbAAAAG0AAABuAAAAbwAAAHAAAABxAAAAcgAAAHMAAAB0AAAAdQAAAHYAAAB3AAAAeAAAAHkAAAB6AAAAewAAAHwAAAB9AAAAfgAAAH8AAACAAAAAgQAAAIIAAACDAAAAhAAAAIUAAACGAAAAhwAAAIgAAACJAAAAigAAAIsAAACMAAAAjQAAAI4AAACPAAAA\"},\"shape\":[144],\"dtype\":\"int32\",\"order\":\"little\"}],[\"Date\",{\"type\":\"ndarray\",\"array\":{\"type\":\"bytes\",\"data\":\"AAAANBk2Y8IAAADyEiRjwgAAgE0eEGPCAACAdM78YsIAAADQ2ehiwgAAAPeJ1WLCAACAUpXBYsIAAACuoK1iwgAAANVQmmLCAACAMFyGYsIAAIBXDHNiwgAAALMXX2LCAACADiNLYsIAAIDMHDliwgAAACgoJWLCAAAAT9gRYsIAAICq4/1hwgAAgNGT6mHCAAAALZ/WYcIAAICIqsJhwgAAgK9ar2HCAAAAC2abYcIAAAAyFohhwgAAgI0hdGHCAAAA6SxgYcIAAACnJk5hwgAAgAIyOmHCAACAKeImYcIAAACF7RJhwgAAAKyd/2DCAACAB6nrYMIAAABjtNdgwgAAAIpkxGDCAACA5W+wYMIAAIAMIJ1gwgAAAGgriWDCAACAwzZ1YMIAAAC2i2JgwgAAgBGXTmDCAACAOEc7YMIAAACUUidgwgAAALsCFGDCAACAFg4AYMIAAADkMthfwgAAADKTsV/CAAAA6amJX8IAAAA3CmNfwgAAAO4gO1/CAAAApTcTX8IAAAAhK+9ewgAAANhBx17CAAAAJqKgXsIAAADduHhewgAAACsZUl7CAAAA4i8qXsIAAACZRgJewgAAAOem213CAAAAnr2zXcIAAADsHY1dwgAAAKM0ZV3CAAAAWks9XcIAAADWPhldwgAAAI1V8VzCAAAA27XKXMIAAACSzKJcwgAAAOAsfFzCAAAAl0NUXMIAAABOWixcwgAAAJy6BVzCAAAAU9HdW8IAAAChMbdbwgAAAFhIj1vCAAAAD19nW8IAAACLUkNbwgAAAEJpG1vCAAAAkMn0WsIAAABH4MxawgAAAJVAplrCAAAATFd+WsIAAAADblZawgAAAFHOL1rCAAAACOUHWsIAAABWReFZwgAAAA1cuVnCAAAAxHKRWcIAAACpHGxZwgAAAGAzRFnCAAAArpMdWcIAAABlqvVYwgAAALMKz1jCAAAAaiGnWMIAAAAhOH9YwgAAAG+YWFjCAAAAJq8wWMIAAAB0DwpYwgAAACsm4lfCAAAA4jy6V8IAAABeMJZXwgAAABVHblfCAAAAY6dHV8IAAAAavh9XwgAAAGge+VbCAAAAHzXRVsIAAADWS6lWwgAAACSsglbCAAAA28JaVsIAAAApIzRWwgAAAOA5DFbCAAAAl1DkVcIAAAATRMBVwgAAAMpamFXCAAAAGLtxVcIAAADP0UlVwgAAAB0yI1XCAAAA1Ej7VMIAAACLX9NUwgAAANm/rFTCAAAAkNaEVMIAAADeNl5UwgAAAJVNNlTCAAAATGQOVMIAAADIV+pTwgAAAH9uwlPCAAAAzc6bU8IAAACE5XNTwgAAANJFTVPCAAAAiVwlU8IAAABAc/1SwgAAAI7T1lLCAAAARequUsIAAACTSohSwgAAAEphYFLCAAAAAXg4UsIAAADmIRNSwgAAAJ0461HCAAAA65jEUcIAAACir5xRwgAAAPAPdlHCAAAApyZOUcIAAABePSZRwgAAAKyd/1DCAAAAY7TXUMIAAACxFLFQwgAAAGgriVDC\"},\"shape\":[144],\"dtype\":\"float64\",\"order\":\"little\"}],[\"Temperature\",{\"type\":\"ndarray\",\"array\":{\"type\":\"bytes\",\"data\":\"AAAAAAAAXEAAAAAAAIBdQAAAAAAAgGBAAAAAAAAgYEAAAAAAAEBeQAAAAAAA4GBAAAAAAACAYkAAAAAAAIBiQAAAAAAAAGFAAAAAAADAXUAAAAAAAABaQAAAAAAAgF1AAAAAAADAXEAAAAAAAIBfQAAAAAAAoGFAAAAAAADgYEAAAAAAAEBfQAAAAAAAoGJAAAAAAABAZUAAAAAAAEBlQAAAAAAAwGNAAAAAAACgYEAAAAAAAIBcQAAAAAAAgGFAAAAAAAAgYkAAAAAAAMBiQAAAAAAAQGZAAAAAAABgZEAAAAAAAIBlQAAAAAAAQGZAAAAAAADgaEAAAAAAAOBoQAAAAAAAAGdAAAAAAABAZEAAAAAAAEBiQAAAAAAAwGRAAAAAAABgZUAAAAAAAIBmQAAAAAAAIGhAAAAAAACgZkAAAAAAAOBmQAAAAAAAQGtAAAAAAADAbEAAAAAAAEBuQAAAAAAAIGpAAAAAAADgZ0AAAAAAAIBlQAAAAAAAQGhAAAAAAACAaEAAAAAAAIBoQAAAAAAAgG1AAAAAAABgbUAAAAAAAKBsQAAAAAAAYG5AAAAAAACAcEAAAAAAAABxQAAAAAAAoG1AAAAAAABgakAAAAAAAIBmQAAAAAAAIGlAAAAAAACAaUAAAAAAAIBnQAAAAAAAYG1AAAAAAABgbEAAAAAAAEBtQAAAAAAAgHBAAAAAAADgckAAAAAAAFByQAAAAAAAMHBAAAAAAACgbEAAAAAAAGBpQAAAAAAAoGxAAAAAAABAbkAAAAAAACBtQAAAAAAAsHBAAAAAAADQcEAAAAAAAOBwQAAAAAAAsHNAAAAAAADAdkAAAAAAALB1QAAAAAAAgHNAAAAAAAAgcUAAAAAAAKBtQAAAAAAAYHFAAAAAAADAcUAAAAAAAFBxQAAAAAAA0HNAAAAAAACQc0AAAAAAAOBzQAAAAAAAYHdAAAAAAADQeUAAAAAAAFB5QAAAAAAAMHZAAAAAAAAgc0AAAAAAAPBwQAAAAAAAIHNAAAAAAACwc0AAAAAAANByQAAAAAAAQHZAAAAAAADAdUAAAAAAADB2QAAAAAAAYHpAAAAAAAAQfUAAAAAAADB9QAAAAAAAQHlAAAAAAACwdUAAAAAAABBzQAAAAAAAAHVAAAAAAABAdUAAAAAAAOBzQAAAAAAAoHZAAAAAAADAdUAAAAAAALB2QAAAAAAAMHtAAAAAAACwfkAAAAAAAJB/QAAAAAAAQHlAAAAAAABwdkAAAAAAAGBzQAAAAAAAEHVAAAAAAACAdkAAAAAAAGB1QAAAAAAAYHlAAAAAAADAeEAAAAAAAEB6QAAAAAAAgH1AAAAAAAAggUAAAAAAAHiBQAAAAAAA8HxAAAAAAABweUAAAAAAAKB2QAAAAAAAUHlAAAAAAAAQekAAAAAAAHB4QAAAAAAAMHpAAAAAAADQfEAAAAAAAIB9QAAAAAAAuIBAAAAAAABwg0AAAAAAAPCCQAAAAAAAwH9AAAAAAADQfEAAAAAAAGB4QAAAAAAAAHtA\"},\"shape\":[144],\"dtype\":\"float64\",\"order\":\"little\"}]]}}},\"view\":{\"type\":\"object\",\"name\":\"CDSView\",\"id\":\"p1495\",\"attributes\":{\"filter\":{\"type\":\"object\",\"name\":\"AllIndices\",\"id\":\"p1496\"}}},\"glyph\":{\"type\":\"object\",\"name\":\"Line\",\"id\":\"p1491\",\"attributes\":{\"x\":{\"type\":\"field\",\"field\":\"Date\"},\"y\":{\"type\":\"field\",\"field\":\"Temperature\"},\"line_color\":\"#1f77b4\",\"line_width\":2}},\"nonselection_glyph\":{\"type\":\"object\",\"name\":\"Line\",\"id\":\"p1492\",\"attributes\":{\"x\":{\"type\":\"field\",\"field\":\"Date\"},\"y\":{\"type\":\"field\",\"field\":\"Temperature\"},\"line_color\":\"#1f77b4\",\"line_alpha\":0.1,\"line_width\":2}},\"muted_glyph\":{\"type\":\"object\",\"name\":\"Line\",\"id\":\"p1493\",\"attributes\":{\"x\":{\"type\":\"field\",\"field\":\"Date\"},\"y\":{\"type\":\"field\",\"field\":\"Temperature\"},\"line_color\":\"#1f77b4\",\"line_alpha\":0.2,\"line_width\":2}}}}],\"toolbar\":{\"type\":\"object\",\"name\":\"Toolbar\",\"id\":\"p1380\",\"attributes\":{\"tools\":[{\"type\":\"object\",\"name\":\"PanTool\",\"id\":\"p1407\"},{\"type\":\"object\",\"name\":\"WheelZoomTool\",\"id\":\"p1408\",\"attributes\":{\"renderers\":\"auto\"}},{\"type\":\"object\",\"name\":\"ResetTool\",\"id\":\"p1409\"},{\"type\":\"object\",\"name\":\"HoverTool\",\"id\":\"p1521\",\"attributes\":{\"renderers\":\"auto\",\"tooltips\":[[\"Date\",\"@Date{%Y-%m}\"],[\"Temp\\u00e9rature\",\"@Temperature{0.0} \\u00b0C\"]],\"formatters\":{\"type\":\"map\",\"entries\":[[\"@Date\",\"datetime\"],[\"@Temperature\",\"numeral\"]]},\"mode\":\"vline\"}}]}},\"left\":[{\"type\":\"object\",\"name\":\"LinearAxis\",\"id\":\"p1402\",\"attributes\":{\"ticker\":{\"type\":\"object\",\"name\":\"BasicTicker\",\"id\":\"p1403\",\"attributes\":{\"mantissas\":[1,2,5]}},\"formatter\":{\"type\":\"object\",\"name\":\"BasicTickFormatter\",\"id\":\"p1404\"},\"axis_label\":\"Temp\\u00e9rature (\\u00b0C)\",\"major_label_policy\":{\"type\":\"object\",\"name\":\"AllLabels\",\"id\":\"p1405\"}}}],\"below\":[{\"type\":\"object\",\"name\":\"DatetimeAxis\",\"id\":\"p1383\",\"attributes\":{\"ticker\":{\"type\":\"object\",\"name\":\"DatetimeTicker\",\"id\":\"p1384\",\"attributes\":{\"num_minor_ticks\":5,\"tickers\":[{\"type\":\"object\",\"name\":\"AdaptiveTicker\",\"id\":\"p1385\",\"attributes\":{\"num_minor_ticks\":0,\"mantissas\":[1,2,5],\"max_interval\":500.0}},{\"type\":\"object\",\"name\":\"AdaptiveTicker\",\"id\":\"p1386\",\"attributes\":{\"num_minor_ticks\":0,\"base\":60,\"mantissas\":[1,2,5,10,15,20,30],\"min_interval\":1000.0,\"max_interval\":1800000.0}},{\"type\":\"object\",\"name\":\"AdaptiveTicker\",\"id\":\"p1387\",\"attributes\":{\"num_minor_ticks\":0,\"base\":24,\"mantissas\":[1,2,4,6,8,12],\"min_interval\":3600000.0,\"max_interval\":43200000.0}},{\"type\":\"object\",\"name\":\"DaysTicker\",\"id\":\"p1388\",\"attributes\":{\"days\":[1,2,3,4,5,6,7,8,9,10,11,12,13,14,15,16,17,18,19,20,21,22,23,24,25,26,27,28,29,30,31]}},{\"type\":\"object\",\"name\":\"DaysTicker\",\"id\":\"p1389\",\"attributes\":{\"days\":[1,4,7,10,13,16,19,22,25,28]}},{\"type\":\"object\",\"name\":\"DaysTicker\",\"id\":\"p1390\",\"attributes\":{\"days\":[1,8,15,22]}},{\"type\":\"object\",\"name\":\"DaysTicker\",\"id\":\"p1391\",\"attributes\":{\"days\":[1,15]}},{\"type\":\"object\",\"name\":\"MonthsTicker\",\"id\":\"p1392\",\"attributes\":{\"months\":[0,1,2,3,4,5,6,7,8,9,10,11]}},{\"type\":\"object\",\"name\":\"MonthsTicker\",\"id\":\"p1393\",\"attributes\":{\"months\":[0,2,4,6,8,10]}},{\"type\":\"object\",\"name\":\"MonthsTicker\",\"id\":\"p1394\",\"attributes\":{\"months\":[0,4,8]}},{\"type\":\"object\",\"name\":\"MonthsTicker\",\"id\":\"p1395\",\"attributes\":{\"months\":[0,6]}},{\"type\":\"object\",\"name\":\"YearsTicker\",\"id\":\"p1396\"}]}},\"formatter\":{\"type\":\"object\",\"name\":\"DatetimeTickFormatter\",\"id\":\"p1399\",\"attributes\":{\"seconds\":\"%T\",\"minsec\":\"%T\",\"minutes\":\"%H:%M\",\"hours\":\"%H:%M\",\"days\":\"%b %d\",\"months\":\"%b %Y\",\"strip_leading_zeros\":[\"microseconds\",\"milliseconds\",\"seconds\"],\"boundary_scaling\":false,\"context\":{\"type\":\"object\",\"name\":\"DatetimeTickFormatter\",\"id\":\"p1398\",\"attributes\":{\"microseconds\":\"%T\",\"milliseconds\":\"%T\",\"seconds\":\"%b %d, %Y\",\"minsec\":\"%b %d, %Y\",\"minutes\":\"%b %d, %Y\",\"hourmin\":\"%b %d, %Y\",\"hours\":\"%b %d, %Y\",\"days\":\"%Y\",\"months\":\"\",\"years\":\"\",\"boundary_scaling\":false,\"hide_repeats\":true,\"context\":{\"type\":\"object\",\"name\":\"DatetimeTickFormatter\",\"id\":\"p1397\",\"attributes\":{\"microseconds\":\"%b %d, %Y\",\"milliseconds\":\"%b %d, %Y\",\"seconds\":\"\",\"minsec\":\"\",\"minutes\":\"\",\"hourmin\":\"\",\"hours\":\"\",\"days\":\"\",\"months\":\"\",\"years\":\"\",\"boundary_scaling\":false,\"hide_repeats\":true}},\"context_which\":\"all\"}},\"context_which\":\"all\"}},\"axis_label\":\"Date\",\"major_label_policy\":{\"type\":\"object\",\"name\":\"AllLabels\",\"id\":\"p1400\"}}}],\"center\":[{\"type\":\"object\",\"name\":\"Grid\",\"id\":\"p1401\",\"attributes\":{\"axis\":{\"id\":\"p1383\"}}},{\"type\":\"object\",\"name\":\"Grid\",\"id\":\"p1406\",\"attributes\":{\"dimension\":1,\"axis\":{\"id\":\"p1402\"}}},{\"type\":\"object\",\"name\":\"Legend\",\"id\":\"p1497\",\"attributes\":{\"items\":[{\"type\":\"object\",\"name\":\"LegendItem\",\"id\":\"p1498\",\"attributes\":{\"label\":{\"type\":\"value\",\"value\":\"Original\"},\"renderers\":[{\"id\":\"p1494\"}]}}]}}]}},{\"type\":\"object\",\"name\":\"Figure\",\"id\":\"p1410\",\"attributes\":{\"x_range\":{\"id\":\"p1372\"},\"y_range\":{\"type\":\"object\",\"name\":\"DataRange1d\",\"id\":\"p1412\"},\"x_scale\":{\"type\":\"object\",\"name\":\"LinearScale\",\"id\":\"p1420\"},\"y_scale\":{\"type\":\"object\",\"name\":\"LinearScale\",\"id\":\"p1421\"},\"title\":{\"type\":\"object\",\"name\":\"Title\",\"id\":\"p1413\",\"attributes\":{\"text\":\"Composante Tendance\"}},\"renderers\":[{\"type\":\"object\",\"name\":\"GlyphRenderer\",\"id\":\"p1505\",\"attributes\":{\"data_source\":{\"type\":\"object\",\"name\":\"ColumnDataSource\",\"id\":\"p1365\",\"attributes\":{\"selected\":{\"type\":\"object\",\"name\":\"Selection\",\"id\":\"p1366\",\"attributes\":{\"indices\":[],\"line_indices\":[]}},\"selection_policy\":{\"type\":\"object\",\"name\":\"UnionRenderers\",\"id\":\"p1367\"},\"data\":{\"type\":\"map\",\"entries\":[[\"index\",{\"type\":\"ndarray\",\"array\":{\"type\":\"bytes\",\"data\":\"AAAAAAEAAAACAAAAAwAAAAQAAAAFAAAABgAAAAcAAAAIAAAACQAAAAoAAAALAAAADAAAAA0AAAAOAAAADwAAABAAAAARAAAAEgAAABMAAAAUAAAAFQAAABYAAAAXAAAAGAAAABkAAAAaAAAAGwAAABwAAAAdAAAAHgAAAB8AAAAgAAAAIQAAACIAAAAjAAAAJAAAACUAAAAmAAAAJwAAACgAAAApAAAAKgAAACsAAAAsAAAALQAAAC4AAAAvAAAAMAAAADEAAAAyAAAAMwAAADQAAAA1AAAANgAAADcAAAA4AAAAOQAAADoAAAA7AAAAPAAAAD0AAAA+AAAAPwAAAEAAAABBAAAAQgAAAEMAAABEAAAARQAAAEYAAABHAAAASAAAAEkAAABKAAAASwAAAEwAAABNAAAATgAAAE8AAABQAAAAUQAAAFIAAABTAAAAVAAAAFUAAABWAAAAVwAAAFgAAABZAAAAWgAAAFsAAABcAAAAXQAAAF4AAABfAAAAYAAAAGEAAABiAAAAYwAAAGQAAABlAAAAZgAAAGcAAABoAAAAaQAAAGoAAABrAAAAbAAAAG0AAABuAAAAbwAAAHAAAABxAAAAcgAAAHMAAAB0AAAAdQAAAHYAAAB3AAAAeAAAAHkAAAB6AAAAewAAAHwAAAB9AAAAfgAAAH8AAACAAAAAgQAAAIIAAACDAAAAhAAAAIUAAACGAAAAhwAAAIgAAACJAAAAigAAAIsAAACMAAAAjQAAAI4AAACPAAAA\"},\"shape\":[144],\"dtype\":\"int32\",\"order\":\"little\"}],[\"Date\",{\"type\":\"ndarray\",\"array\":{\"type\":\"bytes\",\"data\":\"AAAANBk2Y8IAAADyEiRjwgAAgE0eEGPCAACAdM78YsIAAADQ2ehiwgAAAPeJ1WLCAACAUpXBYsIAAACuoK1iwgAAANVQmmLCAACAMFyGYsIAAIBXDHNiwgAAALMXX2LCAACADiNLYsIAAIDMHDliwgAAACgoJWLCAAAAT9gRYsIAAICq4/1hwgAAgNGT6mHCAAAALZ/WYcIAAICIqsJhwgAAgK9ar2HCAAAAC2abYcIAAAAyFohhwgAAgI0hdGHCAAAA6SxgYcIAAACnJk5hwgAAgAIyOmHCAACAKeImYcIAAACF7RJhwgAAAKyd/2DCAACAB6nrYMIAAABjtNdgwgAAAIpkxGDCAACA5W+wYMIAAIAMIJ1gwgAAAGgriWDCAACAwzZ1YMIAAAC2i2JgwgAAgBGXTmDCAACAOEc7YMIAAACUUidgwgAAALsCFGDCAACAFg4AYMIAAADkMthfwgAAADKTsV/CAAAA6amJX8IAAAA3CmNfwgAAAO4gO1/CAAAApTcTX8IAAAAhK+9ewgAAANhBx17CAAAAJqKgXsIAAADduHhewgAAACsZUl7CAAAA4i8qXsIAAACZRgJewgAAAOem213CAAAAnr2zXcIAAADsHY1dwgAAAKM0ZV3CAAAAWks9XcIAAADWPhldwgAAAI1V8VzCAAAA27XKXMIAAACSzKJcwgAAAOAsfFzCAAAAl0NUXMIAAABOWixcwgAAAJy6BVzCAAAAU9HdW8IAAAChMbdbwgAAAFhIj1vCAAAAD19nW8IAAACLUkNbwgAAAEJpG1vCAAAAkMn0WsIAAABH4MxawgAAAJVAplrCAAAATFd+WsIAAAADblZawgAAAFHOL1rCAAAACOUHWsIAAABWReFZwgAAAA1cuVnCAAAAxHKRWcIAAACpHGxZwgAAAGAzRFnCAAAArpMdWcIAAABlqvVYwgAAALMKz1jCAAAAaiGnWMIAAAAhOH9YwgAAAG+YWFjCAAAAJq8wWMIAAAB0DwpYwgAAACsm4lfCAAAA4jy6V8IAAABeMJZXwgAAABVHblfCAAAAY6dHV8IAAAAavh9XwgAAAGge+VbCAAAAHzXRVsIAAADWS6lWwgAAACSsglbCAAAA28JaVsIAAAApIzRWwgAAAOA5DFbCAAAAl1DkVcIAAAATRMBVwgAAAMpamFXCAAAAGLtxVcIAAADP0UlVwgAAAB0yI1XCAAAA1Ej7VMIAAACLX9NUwgAAANm/rFTCAAAAkNaEVMIAAADeNl5UwgAAAJVNNlTCAAAATGQOVMIAAADIV+pTwgAAAH9uwlPCAAAAzc6bU8IAAACE5XNTwgAAANJFTVPCAAAAiVwlU8IAAABAc/1SwgAAAI7T1lLCAAAARequUsIAAACTSohSwgAAAEphYFLCAAAAAXg4UsIAAADmIRNSwgAAAJ0461HCAAAA65jEUcIAAACir5xRwgAAAPAPdlHCAAAApyZOUcIAAABePSZRwgAAAKyd/1DCAAAAY7TXUMIAAACxFLFQwgAAAGgriVDC\"},\"shape\":[144],\"dtype\":\"float64\",\"order\":\"little\"}],[\"Tendance\",{\"type\":\"ndarray\",\"array\":{\"type\":\"bytes\",\"data\":\"AAAAAAAgX0Bu27Zt2/ZfQAAAAAAATGBAAAAAAABgYECamZmZmTlgQF100UUX3V9Aq6qqqqqqX0CrqqqqqrpfQFVVVVVV5V9Aq6qqqqoKYECrqqqqqhpgQFVVVVVVJWBAq6qqqqpKYEBVVVVVVYVgQAAAAAAAwGBAq6qqqqr6YEAAAAAAACBhQKuqqqqqOmFAVVVVVVV1YUBVVVVVVcVhQFVVVVVVBWJAAAAAAABoYkCrqqqqqrJiQAAAAAAAMGNAVVVVVVV9Y0CrqqqqqspjQAAAAAAAGGRAVVVVVVVdZECrqqqqqqpkQAAAAAAAAGVAVVVVVVVFZUCrqqqqqoplQKuqqqqq2mVAq6qqqqoCZkCrqqqqqjJmQAAAAAAAUGZAq6qqqqq6ZkBVVVVVVQ1nQAAAAAAAgGdAq6qqqqrCZ0AAAAAAABBoQFVVVVVVVWhAAAAAAACgaECrqqqqquJoQFVVVVVVDWlAAAAAAACAaUAAAAAAABBqQKuqqqqqimpAVVVVVVXNakAAAAAAAChrQAAAAAAAeGtAq6qqqqrCa0AAAAAAAPhrQFVVVVVVDWxAAAAAAAAgbEBVVVVVVTVsQAAAAAAAIGxAVVVVVVUdbEAAAAAAAAhsQFVVVVVVFWxAVVVVVVVNbECrqqqqqrJsQKuqqqqq6mxAVVVVVVUlbUBVVVVVVVVtQKuqqqqqkm1AVVVVVVXdbUCrqqqqqkJuQKuqqqqqum5AAAAAAAAQb0AAAAAAAIBvQAAAAAAA4G9AAAAAAAA0cECrqqqqqoZwQKuqqqqqznBAVVVVVVUVcUBVVVVVVVFxQKuqqqqqfnFAAAAAAADAcUAAAAAAAPhxQKuqqqqqMnJAVVVVVVV1ckAAAAAAALByQAAAAAAA8HJAq6qqqqo+c0AAAAAAAIBzQFVVVVVVzXNAq6qqqqoGdEBVVVVVVTF0QKuqqqqqXnRAAAAAAACEdEBVVVVVVa10QFVVVVVVzXRAVVVVVVUBdUAAAAAAADB1QFVVVVVVYXVAVVVVVVWhdUCrqqqqquZ1QFVVVVVVOXZAq6qqqqp6dkBVVVVVVbF2QKuqqqqq3nZAq6qqqqoGd0AAAAAAACh3QKuqqqqqPndAq6qqqqpGd0CrqqqqqkZ3QFVVVVVVUXdAq6qqqqpid0BVVVVVVYV3QAAAAAAAuHdAAAAAAAC4d0AAAAAAAMh3QKuqqqqqzndAAAAAAADQd0Crqqqqqup3QKuqqqqqCnhAVVVVVVVFeEBVVVVVVYV4QFVVVVVV0XhAq6qqqqoCeUCrqqqqqk55QKuqqqqqlnlAVVVVVVXleUBVVVVVVSV6QKuqqqqqanpAVVVVVVXFekBVVVVVVRF7QKuqqqqqUntAAAAAAABke0Crqqqqqrp7QAAAAAAAAHxAAAAAAABUfECrqqqqqrZ8QFVVVVVV9XxAVVVVVVUxfUBVVVVVVXl9QKuqqqqqnn1Aq6qqqqrCfUDpoosuuhh+QJqZmZmZqX5AjuM4juMof0AAAAAAAHR/QLdt27Ztu39A\"},\"shape\":[144],\"dtype\":\"float64\",\"order\":\"little\"}]]}}},\"view\":{\"type\":\"object\",\"name\":\"CDSView\",\"id\":\"p1506\",\"attributes\":{\"filter\":{\"type\":\"object\",\"name\":\"AllIndices\",\"id\":\"p1507\"}}},\"glyph\":{\"type\":\"object\",\"name\":\"Line\",\"id\":\"p1502\",\"attributes\":{\"x\":{\"type\":\"field\",\"field\":\"Date\"},\"y\":{\"type\":\"field\",\"field\":\"Tendance\"},\"line_color\":\"#1f77b4\",\"line_width\":2,\"line_dash\":[6]}},\"nonselection_glyph\":{\"type\":\"object\",\"name\":\"Line\",\"id\":\"p1503\",\"attributes\":{\"x\":{\"type\":\"field\",\"field\":\"Date\"},\"y\":{\"type\":\"field\",\"field\":\"Tendance\"},\"line_color\":\"#1f77b4\",\"line_alpha\":0.1,\"line_width\":2,\"line_dash\":[6]}},\"muted_glyph\":{\"type\":\"object\",\"name\":\"Line\",\"id\":\"p1504\",\"attributes\":{\"x\":{\"type\":\"field\",\"field\":\"Date\"},\"y\":{\"type\":\"field\",\"field\":\"Tendance\"},\"line_color\":\"#1f77b4\",\"line_alpha\":0.2,\"line_width\":2,\"line_dash\":[6]}}}}],\"toolbar\":{\"type\":\"object\",\"name\":\"Toolbar\",\"id\":\"p1419\",\"attributes\":{\"tools\":[{\"type\":\"object\",\"name\":\"PanTool\",\"id\":\"p1446\"},{\"type\":\"object\",\"name\":\"WheelZoomTool\",\"id\":\"p1447\",\"attributes\":{\"renderers\":\"auto\"}},{\"type\":\"object\",\"name\":\"ResetTool\",\"id\":\"p1448\"},{\"type\":\"object\",\"name\":\"HoverTool\",\"id\":\"p1522\",\"attributes\":{\"renderers\":\"auto\",\"tooltips\":[[\"Date\",\"@Date{%Y-%m}\"],[\"Tendance\",\"@Tendance{0.0} \\u00b0C\"]],\"formatters\":{\"type\":\"map\",\"entries\":[[\"@Date\",\"datetime\"],[\"@Tendance\",\"numeral\"]]},\"mode\":\"vline\"}}]}},\"left\":[{\"type\":\"object\",\"name\":\"LinearAxis\",\"id\":\"p1441\",\"attributes\":{\"ticker\":{\"type\":\"object\",\"name\":\"BasicTicker\",\"id\":\"p1442\",\"attributes\":{\"mantissas\":[1,2,5]}},\"formatter\":{\"type\":\"object\",\"name\":\"BasicTickFormatter\",\"id\":\"p1443\"},\"axis_label\":\"Tendance (\\u00b0C)\",\"major_label_policy\":{\"type\":\"object\",\"name\":\"AllLabels\",\"id\":\"p1444\"}}}],\"below\":[{\"type\":\"object\",\"name\":\"DatetimeAxis\",\"id\":\"p1422\",\"attributes\":{\"ticker\":{\"type\":\"object\",\"name\":\"DatetimeTicker\",\"id\":\"p1423\",\"attributes\":{\"num_minor_ticks\":5,\"tickers\":[{\"type\":\"object\",\"name\":\"AdaptiveTicker\",\"id\":\"p1424\",\"attributes\":{\"num_minor_ticks\":0,\"mantissas\":[1,2,5],\"max_interval\":500.0}},{\"type\":\"object\",\"name\":\"AdaptiveTicker\",\"id\":\"p1425\",\"attributes\":{\"num_minor_ticks\":0,\"base\":60,\"mantissas\":[1,2,5,10,15,20,30],\"min_interval\":1000.0,\"max_interval\":1800000.0}},{\"type\":\"object\",\"name\":\"AdaptiveTicker\",\"id\":\"p1426\",\"attributes\":{\"num_minor_ticks\":0,\"base\":24,\"mantissas\":[1,2,4,6,8,12],\"min_interval\":3600000.0,\"max_interval\":43200000.0}},{\"type\":\"object\",\"name\":\"DaysTicker\",\"id\":\"p1427\",\"attributes\":{\"days\":[1,2,3,4,5,6,7,8,9,10,11,12,13,14,15,16,17,18,19,20,21,22,23,24,25,26,27,28,29,30,31]}},{\"type\":\"object\",\"name\":\"DaysTicker\",\"id\":\"p1428\",\"attributes\":{\"days\":[1,4,7,10,13,16,19,22,25,28]}},{\"type\":\"object\",\"name\":\"DaysTicker\",\"id\":\"p1429\",\"attributes\":{\"days\":[1,8,15,22]}},{\"type\":\"object\",\"name\":\"DaysTicker\",\"id\":\"p1430\",\"attributes\":{\"days\":[1,15]}},{\"type\":\"object\",\"name\":\"MonthsTicker\",\"id\":\"p1431\",\"attributes\":{\"months\":[0,1,2,3,4,5,6,7,8,9,10,11]}},{\"type\":\"object\",\"name\":\"MonthsTicker\",\"id\":\"p1432\",\"attributes\":{\"months\":[0,2,4,6,8,10]}},{\"type\":\"object\",\"name\":\"MonthsTicker\",\"id\":\"p1433\",\"attributes\":{\"months\":[0,4,8]}},{\"type\":\"object\",\"name\":\"MonthsTicker\",\"id\":\"p1434\",\"attributes\":{\"months\":[0,6]}},{\"type\":\"object\",\"name\":\"YearsTicker\",\"id\":\"p1435\"}]}},\"formatter\":{\"type\":\"object\",\"name\":\"DatetimeTickFormatter\",\"id\":\"p1438\",\"attributes\":{\"seconds\":\"%T\",\"minsec\":\"%T\",\"minutes\":\"%H:%M\",\"hours\":\"%H:%M\",\"days\":\"%b %d\",\"months\":\"%b %Y\",\"strip_leading_zeros\":[\"microseconds\",\"milliseconds\",\"seconds\"],\"boundary_scaling\":false,\"context\":{\"type\":\"object\",\"name\":\"DatetimeTickFormatter\",\"id\":\"p1437\",\"attributes\":{\"microseconds\":\"%T\",\"milliseconds\":\"%T\",\"seconds\":\"%b %d, %Y\",\"minsec\":\"%b %d, %Y\",\"minutes\":\"%b %d, %Y\",\"hourmin\":\"%b %d, %Y\",\"hours\":\"%b %d, %Y\",\"days\":\"%Y\",\"months\":\"\",\"years\":\"\",\"boundary_scaling\":false,\"hide_repeats\":true,\"context\":{\"type\":\"object\",\"name\":\"DatetimeTickFormatter\",\"id\":\"p1436\",\"attributes\":{\"microseconds\":\"%b %d, %Y\",\"milliseconds\":\"%b %d, %Y\",\"seconds\":\"\",\"minsec\":\"\",\"minutes\":\"\",\"hourmin\":\"\",\"hours\":\"\",\"days\":\"\",\"months\":\"\",\"years\":\"\",\"boundary_scaling\":false,\"hide_repeats\":true}},\"context_which\":\"all\"}},\"context_which\":\"all\"}},\"axis_label\":\"Date\",\"major_label_policy\":{\"type\":\"object\",\"name\":\"AllLabels\",\"id\":\"p1439\"}}}],\"center\":[{\"type\":\"object\",\"name\":\"Grid\",\"id\":\"p1440\",\"attributes\":{\"axis\":{\"id\":\"p1422\"}}},{\"type\":\"object\",\"name\":\"Grid\",\"id\":\"p1445\",\"attributes\":{\"dimension\":1,\"axis\":{\"id\":\"p1441\"}}},{\"type\":\"object\",\"name\":\"Legend\",\"id\":\"p1508\",\"attributes\":{\"items\":[{\"type\":\"object\",\"name\":\"LegendItem\",\"id\":\"p1509\",\"attributes\":{\"label\":{\"type\":\"value\",\"value\":\"Tendance\"},\"renderers\":[{\"id\":\"p1505\"}]}}]}}]}},{\"type\":\"object\",\"name\":\"Figure\",\"id\":\"p1449\",\"attributes\":{\"x_range\":{\"id\":\"p1372\"},\"y_range\":{\"type\":\"object\",\"name\":\"DataRange1d\",\"id\":\"p1451\"},\"x_scale\":{\"type\":\"object\",\"name\":\"LinearScale\",\"id\":\"p1459\"},\"y_scale\":{\"type\":\"object\",\"name\":\"LinearScale\",\"id\":\"p1460\"},\"title\":{\"type\":\"object\",\"name\":\"Title\",\"id\":\"p1452\",\"attributes\":{\"text\":\"Composante Saisonni\\u00e8re\"}},\"renderers\":[{\"type\":\"object\",\"name\":\"GlyphRenderer\",\"id\":\"p1516\",\"attributes\":{\"data_source\":{\"type\":\"object\",\"name\":\"ColumnDataSource\",\"id\":\"p1368\",\"attributes\":{\"selected\":{\"type\":\"object\",\"name\":\"Selection\",\"id\":\"p1369\",\"attributes\":{\"indices\":[],\"line_indices\":[]}},\"selection_policy\":{\"type\":\"object\",\"name\":\"UnionRenderers\",\"id\":\"p1370\"},\"data\":{\"type\":\"map\",\"entries\":[[\"index\",{\"type\":\"ndarray\",\"array\":{\"type\":\"bytes\",\"data\":\"AAAAAAEAAAACAAAAAwAAAAQAAAAFAAAABgAAAAcAAAAIAAAACQAAAAoAAAALAAAADAAAAA0AAAAOAAAADwAAABAAAAARAAAAEgAAABMAAAAUAAAAFQAAABYAAAAXAAAAGAAAABkAAAAaAAAAGwAAABwAAAAdAAAAHgAAAB8AAAAgAAAAIQAAACIAAAAjAAAAJAAAACUAAAAmAAAAJwAAACgAAAApAAAAKgAAACsAAAAsAAAALQAAAC4AAAAvAAAAMAAAADEAAAAyAAAAMwAAADQAAAA1AAAANgAAADcAAAA4AAAAOQAAADoAAAA7AAAAPAAAAD0AAAA+AAAAPwAAAEAAAABBAAAAQgAAAEMAAABEAAAARQAAAEYAAABHAAAASAAAAEkAAABKAAAASwAAAEwAAABNAAAATgAAAE8AAABQAAAAUQAAAFIAAABTAAAAVAAAAFUAAABWAAAAVwAAAFgAAABZAAAAWgAAAFsAAABcAAAAXQAAAF4AAABfAAAAYAAAAGEAAABiAAAAYwAAAGQAAABlAAAAZgAAAGcAAABoAAAAaQAAAGoAAABrAAAAbAAAAG0AAABuAAAAbwAAAHAAAABxAAAAcgAAAHMAAAB0AAAAdQAAAHYAAAB3AAAAeAAAAHkAAAB6AAAAewAAAHwAAAB9AAAAfgAAAH8AAACAAAAAgQAAAIIAAACDAAAAhAAAAIUAAACGAAAAhwAAAIgAAACJAAAAigAAAIsAAACMAAAAjQAAAI4AAACPAAAA\"},\"shape\":[144],\"dtype\":\"int32\",\"order\":\"little\"}],[\"Date\",{\"type\":\"ndarray\",\"array\":{\"type\":\"bytes\",\"data\":\"AAAANBk2Y8IAAADyEiRjwgAAgE0eEGPCAACAdM78YsIAAADQ2ehiwgAAAPeJ1WLCAACAUpXBYsIAAACuoK1iwgAAANVQmmLCAACAMFyGYsIAAIBXDHNiwgAAALMXX2LCAACADiNLYsIAAIDMHDliwgAAACgoJWLCAAAAT9gRYsIAAICq4/1hwgAAgNGT6mHCAAAALZ/WYcIAAICIqsJhwgAAgK9ar2HCAAAAC2abYcIAAAAyFohhwgAAgI0hdGHCAAAA6SxgYcIAAACnJk5hwgAAgAIyOmHCAACAKeImYcIAAACF7RJhwgAAAKyd/2DCAACAB6nrYMIAAABjtNdgwgAAAIpkxGDCAACA5W+wYMIAAIAMIJ1gwgAAAGgriWDCAACAwzZ1YMIAAAC2i2JgwgAAgBGXTmDCAACAOEc7YMIAAACUUidgwgAAALsCFGDCAACAFg4AYMIAAADkMthfwgAAADKTsV/CAAAA6amJX8IAAAA3CmNfwgAAAO4gO1/CAAAApTcTX8IAAAAhK+9ewgAAANhBx17CAAAAJqKgXsIAAADduHhewgAAACsZUl7CAAAA4i8qXsIAAACZRgJewgAAAOem213CAAAAnr2zXcIAAADsHY1dwgAAAKM0ZV3CAAAAWks9XcIAAADWPhldwgAAAI1V8VzCAAAA27XKXMIAAACSzKJcwgAAAOAsfFzCAAAAl0NUXMIAAABOWixcwgAAAJy6BVzCAAAAU9HdW8IAAAChMbdbwgAAAFhIj1vCAAAAD19nW8IAAACLUkNbwgAAAEJpG1vCAAAAkMn0WsIAAABH4MxawgAAAJVAplrCAAAATFd+WsIAAAADblZawgAAAFHOL1rCAAAACOUHWsIAAABWReFZwgAAAA1cuVnCAAAAxHKRWcIAAACpHGxZwgAAAGAzRFnCAAAArpMdWcIAAABlqvVYwgAAALMKz1jCAAAAaiGnWMIAAAAhOH9YwgAAAG+YWFjCAAAAJq8wWMIAAAB0DwpYwgAAACsm4lfCAAAA4jy6V8IAAABeMJZXwgAAABVHblfCAAAAY6dHV8IAAAAavh9XwgAAAGge+VbCAAAAHzXRVsIAAADWS6lWwgAAACSsglbCAAAA28JaVsIAAAApIzRWwgAAAOA5DFbCAAAAl1DkVcIAAAATRMBVwgAAAMpamFXCAAAAGLtxVcIAAADP0UlVwgAAAB0yI1XCAAAA1Ej7VMIAAACLX9NUwgAAANm/rFTCAAAAkNaEVMIAAADeNl5UwgAAAJVNNlTCAAAATGQOVMIAAADIV+pTwgAAAH9uwlPCAAAAzc6bU8IAAACE5XNTwgAAANJFTVPCAAAAiVwlU8IAAABAc/1SwgAAAI7T1lLCAAAARequUsIAAACTSohSwgAAAEphYFLCAAAAAXg4UsIAAADmIRNSwgAAAJ0461HCAAAA65jEUcIAAACir5xRwgAAAPAPdlHCAAAApyZOUcIAAABePSZRwgAAAKyd/1DCAAAAY7TXUMIAAACxFLFQwgAAAGgriVDC\"},\"shape\":[144],\"dtype\":\"float64\",\"order\":\"little\"}],[\"seasonal\",{\"type\":\"ndarray\",\"array\":{\"type\":\"bytes\",\"data\":\"AAAAAAAAKcBw27Zt27YjwAAAAAAAAPo/AAAAAAAAAMCgmZmZmZkhwDC66KKLLh5AVFVVVVVVNUBUVVVVVRU1QFhVVVVV1SBAsKqqqqqqIsBYVVVVVdU4wFBVVVVVVSbAsKqqqqqqLsCgqqqqqqoYwAAAAAAAABxAAKuqqqqq6r8AAAAAAAAowFBVVVVVVSZAWFVVVVVVPkBYVVVVVdU7QLCqqqqqqitAAAAAAACALMCsqqqqqspBwAAAAAAAACvAUFVVVVXVJcCwqqqqqqogwAAAAAAAQDFAAFhVVVVVtT+gqqqqqqoaQAAAAAAAACRAWFVVVVXVPECoqqqqqqo6QFBVVVVVVSJAsKqqqqoqLMBYVVVVVZU/wAAAAAAAACnAsKqqqqqqJcCgqqqqqqoRwAAAAAAAABRAsKqqqqoqIsAAAAAAAAAjwFhVVVVVVTdAAAAAAACAQEBUVVVVVXVFQLCqqqqqKiFAAAAAAAAAKsAAAAAAAEBCwFhVVVVVVTLAqKqqqqpqMsAAAAAAAEA1wAAAAAAAQDBAUFVVVVXVKUAAAAAAAAAVQFhVVVVVlTJAAAAAAACAQ0CsqqqqqipHQAAAAAAAAChAUFVVVVXVK8AAAAAAACBGwKiqqqqqqjfAqKqqqqpqNsCsqqqqqspEwEBVVVVVVQ1AoKqqqqqqGMAAVVVVVVXlv6iqqqqqajtArKqqqqqKT0BUVVVVVXVJQFBVVVVVVSpAAAAAAACAM8AAAAAAAIBIwAAAAAAAADrAAAAAAABAMcCwqqqqqmo/wACrqqqqqv6/QFVVVVVVEcBAVVVVVVUcwKiqqqqqikFAAAAAAAAAVEAAAAAAAMBNQFBVVVVV1TRAUFVVVVVVNcAAAAAAAABPwAAAAAAAADnAsKqqqqrqN8AAAAAAAIBBwABYVVVVVcU/wKqqqqqqHcBAVVVVVVUUwKiqqqqqCkhAAAAAAAAwVUCsqqqqqopSQLCqqqqqKjZAUFVVVVUVPsAAAAAAAABRwKiqqqqqCkLAUFVVVVUVP8BYVVVVVbVIwACsqqqqqto/YFVVVVVVJ8CgqqqqqiogwKiqqqqqCkxAVFVVVVUlWEAAAAAAACBYQKiqqqqqCkBAsKqqqqpqOcCsqqqqqtpQwKiqqqqqikLAWFVVVVUVQcCoqqqqqipNwAAAAAAAgDHAAAAAAACAP8AAAAAAAIAxwKiqqqqqCktAAAAAAACAW0BUVVVVVZVeQFBVVVVVVTNAUFVVVVVVPcBUVVVVVZVUwKiqqqqqCk7AWFVVVVUVRMBYVVVVVXVPwIBVVVVVVQvAUFVVVVVVMsAAq6qqqqr6P6iqqqqqqkhArKqqqqrqXUCsqqqqqnpfQFBVVVVV1TlAAAAAAABAP8CsqqqqqmpUwAAAAAAAgEXAAAAAAAAgQsCsqqqqqhpRwKiqqqqqKkbAQFVVVVVVGMAArKqqqqraP6iqqqqqik5Aqqqqqqo6YkBcdNFFFx1fQGBmZmZmZjFAcBzHcRzHQsAAAAAAAFBcwNy2bdu27VLA\"},\"shape\":[144],\"dtype\":\"float64\",\"order\":\"little\"}]]}}},\"view\":{\"type\":\"object\",\"name\":\"CDSView\",\"id\":\"p1517\",\"attributes\":{\"filter\":{\"type\":\"object\",\"name\":\"AllIndices\",\"id\":\"p1518\"}}},\"glyph\":{\"type\":\"object\",\"name\":\"Line\",\"id\":\"p1513\",\"attributes\":{\"x\":{\"type\":\"field\",\"field\":\"Date\"},\"y\":{\"type\":\"field\",\"field\":\"seasonal\"},\"line_color\":\"#1f77b4\",\"line_width\":2,\"line_dash\":[2,4]}},\"nonselection_glyph\":{\"type\":\"object\",\"name\":\"Line\",\"id\":\"p1514\",\"attributes\":{\"x\":{\"type\":\"field\",\"field\":\"Date\"},\"y\":{\"type\":\"field\",\"field\":\"seasonal\"},\"line_color\":\"#1f77b4\",\"line_alpha\":0.1,\"line_width\":2,\"line_dash\":[2,4]}},\"muted_glyph\":{\"type\":\"object\",\"name\":\"Line\",\"id\":\"p1515\",\"attributes\":{\"x\":{\"type\":\"field\",\"field\":\"Date\"},\"y\":{\"type\":\"field\",\"field\":\"seasonal\"},\"line_color\":\"#1f77b4\",\"line_alpha\":0.2,\"line_width\":2,\"line_dash\":[2,4]}}}}],\"toolbar\":{\"type\":\"object\",\"name\":\"Toolbar\",\"id\":\"p1458\",\"attributes\":{\"tools\":[{\"type\":\"object\",\"name\":\"PanTool\",\"id\":\"p1485\"},{\"type\":\"object\",\"name\":\"WheelZoomTool\",\"id\":\"p1486\",\"attributes\":{\"renderers\":\"auto\"}},{\"type\":\"object\",\"name\":\"ResetTool\",\"id\":\"p1487\"},{\"type\":\"object\",\"name\":\"HoverTool\",\"id\":\"p1523\",\"attributes\":{\"renderers\":\"auto\",\"tooltips\":[[\"Date\",\"@Date{%Y-%m}\"],[\"Saisonnalit\\u00e9\",\"@seasonal{0.0} \\u00b0C\"]],\"formatters\":{\"type\":\"map\",\"entries\":[[\"@Date\",\"datetime\"],[\"@seasonal\",\"numeral\"]]},\"mode\":\"vline\"}}]}},\"left\":[{\"type\":\"object\",\"name\":\"LinearAxis\",\"id\":\"p1480\",\"attributes\":{\"ticker\":{\"type\":\"object\",\"name\":\"BasicTicker\",\"id\":\"p1481\",\"attributes\":{\"mantissas\":[1,2,5]}},\"formatter\":{\"type\":\"object\",\"name\":\"BasicTickFormatter\",\"id\":\"p1482\"},\"axis_label\":\"Anomalie (\\u00b0C)\",\"major_label_policy\":{\"type\":\"object\",\"name\":\"AllLabels\",\"id\":\"p1483\"}}}],\"below\":[{\"type\":\"object\",\"name\":\"DatetimeAxis\",\"id\":\"p1461\",\"attributes\":{\"ticker\":{\"type\":\"object\",\"name\":\"DatetimeTicker\",\"id\":\"p1462\",\"attributes\":{\"num_minor_ticks\":5,\"tickers\":[{\"type\":\"object\",\"name\":\"AdaptiveTicker\",\"id\":\"p1463\",\"attributes\":{\"num_minor_ticks\":0,\"mantissas\":[1,2,5],\"max_interval\":500.0}},{\"type\":\"object\",\"name\":\"AdaptiveTicker\",\"id\":\"p1464\",\"attributes\":{\"num_minor_ticks\":0,\"base\":60,\"mantissas\":[1,2,5,10,15,20,30],\"min_interval\":1000.0,\"max_interval\":1800000.0}},{\"type\":\"object\",\"name\":\"AdaptiveTicker\",\"id\":\"p1465\",\"attributes\":{\"num_minor_ticks\":0,\"base\":24,\"mantissas\":[1,2,4,6,8,12],\"min_interval\":3600000.0,\"max_interval\":43200000.0}},{\"type\":\"object\",\"name\":\"DaysTicker\",\"id\":\"p1466\",\"attributes\":{\"days\":[1,2,3,4,5,6,7,8,9,10,11,12,13,14,15,16,17,18,19,20,21,22,23,24,25,26,27,28,29,30,31]}},{\"type\":\"object\",\"name\":\"DaysTicker\",\"id\":\"p1467\",\"attributes\":{\"days\":[1,4,7,10,13,16,19,22,25,28]}},{\"type\":\"object\",\"name\":\"DaysTicker\",\"id\":\"p1468\",\"attributes\":{\"days\":[1,8,15,22]}},{\"type\":\"object\",\"name\":\"DaysTicker\",\"id\":\"p1469\",\"attributes\":{\"days\":[1,15]}},{\"type\":\"object\",\"name\":\"MonthsTicker\",\"id\":\"p1470\",\"attributes\":{\"months\":[0,1,2,3,4,5,6,7,8,9,10,11]}},{\"type\":\"object\",\"name\":\"MonthsTicker\",\"id\":\"p1471\",\"attributes\":{\"months\":[0,2,4,6,8,10]}},{\"type\":\"object\",\"name\":\"MonthsTicker\",\"id\":\"p1472\",\"attributes\":{\"months\":[0,4,8]}},{\"type\":\"object\",\"name\":\"MonthsTicker\",\"id\":\"p1473\",\"attributes\":{\"months\":[0,6]}},{\"type\":\"object\",\"name\":\"YearsTicker\",\"id\":\"p1474\"}]}},\"formatter\":{\"type\":\"object\",\"name\":\"DatetimeTickFormatter\",\"id\":\"p1477\",\"attributes\":{\"seconds\":\"%T\",\"minsec\":\"%T\",\"minutes\":\"%H:%M\",\"hours\":\"%H:%M\",\"days\":\"%b %d\",\"months\":\"%b %Y\",\"strip_leading_zeros\":[\"microseconds\",\"milliseconds\",\"seconds\"],\"boundary_scaling\":false,\"context\":{\"type\":\"object\",\"name\":\"DatetimeTickFormatter\",\"id\":\"p1476\",\"attributes\":{\"microseconds\":\"%T\",\"milliseconds\":\"%T\",\"seconds\":\"%b %d, %Y\",\"minsec\":\"%b %d, %Y\",\"minutes\":\"%b %d, %Y\",\"hourmin\":\"%b %d, %Y\",\"hours\":\"%b %d, %Y\",\"days\":\"%Y\",\"months\":\"\",\"years\":\"\",\"boundary_scaling\":false,\"hide_repeats\":true,\"context\":{\"type\":\"object\",\"name\":\"DatetimeTickFormatter\",\"id\":\"p1475\",\"attributes\":{\"microseconds\":\"%b %d, %Y\",\"milliseconds\":\"%b %d, %Y\",\"seconds\":\"\",\"minsec\":\"\",\"minutes\":\"\",\"hourmin\":\"\",\"hours\":\"\",\"days\":\"\",\"months\":\"\",\"years\":\"\",\"boundary_scaling\":false,\"hide_repeats\":true}},\"context_which\":\"all\"}},\"context_which\":\"all\"}},\"axis_label\":\"Date\",\"major_label_policy\":{\"type\":\"object\",\"name\":\"AllLabels\",\"id\":\"p1478\"}}}],\"center\":[{\"type\":\"object\",\"name\":\"Grid\",\"id\":\"p1479\",\"attributes\":{\"axis\":{\"id\":\"p1461\"}}},{\"type\":\"object\",\"name\":\"Grid\",\"id\":\"p1484\",\"attributes\":{\"dimension\":1,\"axis\":{\"id\":\"p1480\"}}},{\"type\":\"object\",\"name\":\"Legend\",\"id\":\"p1519\",\"attributes\":{\"items\":[{\"type\":\"object\",\"name\":\"LegendItem\",\"id\":\"p1520\",\"attributes\":{\"label\":{\"type\":\"value\",\"value\":\"Saisonnalit\\u00e9\"},\"renderers\":[{\"id\":\"p1516\"}]}}]}}]}}]}}]}};\n  const render_items = [{\"docid\":\"0b53159a-6f74-49d5-a066-54cc48442f6b\",\"roots\":{\"p1524\":\"ee0e4616-a131-4b36-ba0a-8cbfda693125\"},\"root_ids\":[\"p1524\"]}];\n  void root.Bokeh.embed.embed_items_notebook(docs_json, render_items);\n  }\n  if (root.Bokeh !== undefined) {\n    embed_document(root);\n  } else {\n    let attempts = 0;\n    const timer = setInterval(function(root) {\n      if (root.Bokeh !== undefined) {\n        clearInterval(timer);\n        embed_document(root);\n      } else {\n        attempts++;\n        if (attempts > 100) {\n          clearInterval(timer);\n          console.log(\"Bokeh: ERROR: Unable to run BokehJS code because BokehJS library is missing\");\n        }\n      }\n    }, 10, root)\n  }\n})(window);",
      "application/vnd.bokehjs_exec.v0+json": ""
     },
     "metadata": {
      "application/vnd.bokehjs_exec.v0+json": {
       "id": "p1524"
      }
     },
     "output_type": "display_data"
    }
   ],
   "source": [
    "df_mensuel = df.set_index('Date').resample('M').mean().reset_index()\n",
    "\n",
    "df_mensuel['Tendance'] = df_mensuel['Temperature'].rolling(window=12, center=True, min_periods=1).mean()\n",
    "\n",
    "df_mensuel['seasonal'] = df_mensuel['Temperature'] - df_mensuel['Tendance']\n",
    "\n",
    "source_mensuel = ColumnDataSource(df_mensuel[['Date', 'Temperature']])\n",
    "source_tendance = ColumnDataSource(df_mensuel[['Date', 'Tendance']])\n",
    "source_seasonal = ColumnDataSource(df_mensuel[['Date', 'seasonal']])\n",
    "\n",
    "p_orig = figure(\n",
    "    title=\"Données mensuelles originales\",\n",
    "    x_axis_type=\"datetime\",\n",
    "    x_axis_label=\"Date\",\n",
    "    y_axis_label=\"Température (°C)\",\n",
    "    tools=\"pan,wheel_zoom,reset\"\n",
    ")\n",
    "p_trend = figure(\n",
    "    title=\"Composante Tendance\",\n",
    "    x_axis_type=\"datetime\",\n",
    "    x_axis_label=\"Date\",\n",
    "    y_axis_label=\"Tendance (°C)\",\n",
    "    x_range=p_orig.x_range,\n",
    "    tools=\"pan,wheel_zoom,reset\"\n",
    ")\n",
    "p_saison = figure(\n",
    "    title=\"Composante Saisonnière\",\n",
    "    x_axis_type=\"datetime\",\n",
    "    x_axis_label=\"Date\",\n",
    "    y_axis_label=\"Anomalie (°C)\",\n",
    "    x_range=p_orig.x_range,\n",
    "    tools=\"pan,wheel_zoom,reset\"\n",
    ")\n",
    "\n",
    "p_orig.line('Date', 'Temperature', source=source_mensuel, line_width=2, legend_label=\"Original\")\n",
    "p_trend.line('Date', 'Tendance', source=source_tendance, line_width=2, line_dash='dashed', legend_label=\"Tendance\")\n",
    "p_saison.line('Date', 'seasonal', source=source_seasonal, line_width=2, line_dash='dotted', legend_label=\"Saisonnalité\")\n",
    "\n",
    "hover_orig = HoverTool(\n",
    "    tooltips=[(\"Date\", \"@Date{%Y-%m}\"), (\"Température\", \"@Temperature{0.0} °C\")],\n",
    "    formatters={'@Date': 'datetime', '@Temperature': 'numeral'},\n",
    "    mode='vline'\n",
    ")\n",
    "hover_trend = HoverTool(\n",
    "    tooltips=[(\"Date\", \"@Date{%Y-%m}\"), (\"Tendance\", \"@Tendance{0.0} °C\")],\n",
    "    formatters={'@Date': 'datetime', '@Tendance': 'numeral'},\n",
    "    mode='vline'\n",
    ")\n",
    "hover_saison = HoverTool(\n",
    "    tooltips=[(\"Date\", \"@Date{%Y-%m}\"), (\"Saisonnalité\", \"@seasonal{0.0} °C\")],\n",
    "    formatters={'@Date': 'datetime', '@seasonal': 'numeral'},\n",
    "    mode='vline'\n",
    ")\n",
    "p_orig.add_tools(hover_orig)\n",
    "p_trend.add_tools(hover_trend)\n",
    "p_saison.add_tools(hover_saison)\n",
    "\n",
    "layout = column(p_orig, p_trend, p_saison)\n",
    "show(layout)\n"
   ]
  }
 ],
 "metadata": {
  "kernelspec": {
   "display_name": "Python 3",
   "language": "python",
   "name": "python3"
  },
  "language_info": {
   "codemirror_mode": {
    "name": "ipython",
    "version": 3
   },
   "file_extension": ".py",
   "mimetype": "text/x-python",
   "name": "python",
   "nbconvert_exporter": "python",
   "pygments_lexer": "ipython3",
   "version": "3.13.3"
  }
 },
 "nbformat": 4,
 "nbformat_minor": 5
}
