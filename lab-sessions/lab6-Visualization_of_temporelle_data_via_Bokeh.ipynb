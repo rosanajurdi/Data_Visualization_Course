{
 "cells": [
  {
   "cell_type": "markdown",
   "id": "4f5b76e2-f55c-411e-8e56-edda5111533b",
   "metadata": {},
   "source": [
    "\n",
    "# Bokeh for Time Series Analysis\n",
    "<hr style=\"border: 2px solid black;\">\n",
    "\n",
    "\n",
    "<img src=\"./images/bokeh.png\" alt=\"bokeh Logo\" width=\"1000\"/>\n",
    "<hr style=\"border: 2px solid black;\">\n",
    "\n",
    "<img src=\"./images/bokeh_at_ag_glance.png\" alt=\"bokeh Logo\" width=\"1000\"/>\n",
    "<hr style=\"border: 2px solid black;\">\n",
    "**Introduction to Bokeh**\n",
    "Bokeh is an interactive visualization library for Python that targets modern web browsers for presentation.\n",
    "Unlike Matplotlib, which is primarily designed for static plots, Bokeh excels at creating\n",
    "interactive plots and dashboards. It can handle large datasets and streaming data,\n",
    "making it suitable for real-time applications.\n",
    "\n",
    "**Key Features of Bokeh:**\n",
    "\n",
    "* **Interactivity:** Built-in support for zooming, panning, hovering, and other interactive tools.\n",
    "* **Web-Focused:** Generates HTML and JavaScript, making it easy to embed plots in web pages.\n",
    "* **High Performance:** Can handle large datasets efficiently.\n",
    "* **Versatility:** Supports a wide range of plot types (lines, bars, scatter plots, etc.).\n",
    "\n",
    "<hr style=\"border: 2px solid black;\">\n",
    "\n",
    "\n",
    "**Documentation:**\n",
    "\n",
    "For comprehensive documentation, please refer to the official Bokeh website: [https://docs.bokeh.org/en/latest/](https://docs.bokeh.org/en/latest/)\n",
    "\n",
    "\n",
    "<hr style=\"border: 2px solid black;\">\n",
    "\n",
    "\n",
    "**Lab Exercise:**\n",
    "\n",
    "Your task is to recreate the time series analysis lab we previously conducted using Pandas,\n",
    "Matplotlib, and Seaborn, but this time, utilize the Bokeh library for visualization.\n",
    "This will involve:\n",
    "\n",
    "1.  Loading and preprocessing the \"AirPassengersDates.csv\" dataset.\n",
    "2.  Creating interactive Bokeh plots for:\n",
    "    * Time series line plots\n",
    "    * Bar plots of aggregated data\n",
    "    * Visualizing mean and standard deviation\n",
    "    * Outlier detection\n",
    "    * Resampling (upsampling and downsampling)\n",
    "    * Lag analysis\n",
    "    * Autocorrelation\n",
    "\n",
    "Pay close attention to Bokeh's features for interactivity (tools, hover effects) and\n",
    "its handling of data sources. Aim to replicate the insights and visualizations\n",
    "from the previous lab while leveraging Bokeh's strengths.\n",
    "\n",
    "Good luck!\n",
    "<hr style=\"border: 2px solid black;\">"
   ]
  },
  {
   "cell_type": "code",
   "execution_count": 1,
   "id": "1c603446-0c14-4217-8767-74adf8ef35c0",
   "metadata": {
    "ExecuteTime": {
     "end_time": "2025-05-14T15:27:40.422198Z",
     "start_time": "2025-05-14T15:27:40.411137Z"
    }
   },
   "outputs": [
    {
     "name": "stdout",
     "output_type": "stream",
     "text": [
      "Requirement already satisfied: bokeh in /opt/homebrew/Cellar/jupyterlab/4.4.2_1/libexec/lib/python3.13/site-packages (3.7.3)\n",
      "Requirement already satisfied: Jinja2>=2.9 in /opt/homebrew/Cellar/jupyterlab/4.4.2_1/libexec/lib/python3.13/site-packages (from bokeh) (3.1.6)\n",
      "Requirement already satisfied: contourpy>=1.2 in /opt/homebrew/Cellar/jupyterlab/4.4.2_1/libexec/lib/python3.13/site-packages (from bokeh) (1.3.2)\n",
      "Requirement already satisfied: narwhals>=1.13 in /opt/homebrew/Cellar/jupyterlab/4.4.2_1/libexec/lib/python3.13/site-packages (from bokeh) (1.40.0)\n",
      "Requirement already satisfied: numpy>=1.16 in /opt/homebrew/Cellar/jupyterlab/4.4.2_1/libexec/lib/python3.13/site-packages (from bokeh) (2.2.6)\n",
      "Requirement already satisfied: packaging>=16.8 in /opt/homebrew/Cellar/jupyterlab/4.4.2_1/libexec/lib/python3.13/site-packages (from bokeh) (25.0)\n",
      "Requirement already satisfied: pandas>=1.2 in /opt/homebrew/Cellar/jupyterlab/4.4.2_1/libexec/lib/python3.13/site-packages (from bokeh) (2.2.3)\n",
      "Requirement already satisfied: pillow>=7.1.0 in /opt/homebrew/Cellar/jupyterlab/4.4.2_1/libexec/lib/python3.13/site-packages (from bokeh) (11.2.1)\n",
      "Requirement already satisfied: PyYAML>=3.10 in /opt/homebrew/Cellar/jupyterlab/4.4.2_1/libexec/lib/python3.13/site-packages (from bokeh) (6.0.2)\n",
      "Requirement already satisfied: tornado>=6.2 in /opt/homebrew/Cellar/jupyterlab/4.4.2_1/libexec/lib/python3.13/site-packages (from bokeh) (6.5)\n",
      "Requirement already satisfied: xyzservices>=2021.09.1 in /opt/homebrew/Cellar/jupyterlab/4.4.2_1/libexec/lib/python3.13/site-packages (from bokeh) (2025.4.0)\n",
      "Requirement already satisfied: MarkupSafe>=2.0 in /opt/homebrew/Cellar/jupyterlab/4.4.2_1/libexec/lib/python3.13/site-packages (from Jinja2>=2.9->bokeh) (3.0.2)\n",
      "Requirement already satisfied: python-dateutil>=2.8.2 in /opt/homebrew/Cellar/jupyterlab/4.4.2_1/libexec/lib/python3.13/site-packages (from pandas>=1.2->bokeh) (2.9.0.post0)\n",
      "Requirement already satisfied: pytz>=2020.1 in /opt/homebrew/Cellar/jupyterlab/4.4.2_1/libexec/lib/python3.13/site-packages (from pandas>=1.2->bokeh) (2025.2)\n",
      "Requirement already satisfied: tzdata>=2022.7 in /opt/homebrew/Cellar/jupyterlab/4.4.2_1/libexec/lib/python3.13/site-packages (from pandas>=1.2->bokeh) (2025.2)\n",
      "Requirement already satisfied: six>=1.5 in /opt/homebrew/Cellar/jupyterlab/4.4.2_1/libexec/lib/python3.13/site-packages (from python-dateutil>=2.8.2->pandas>=1.2->bokeh) (1.17.0)\n",
      "\n",
      "\u001b[1m[\u001b[0m\u001b[34;49mnotice\u001b[0m\u001b[1;39;49m]\u001b[0m\u001b[39;49m A new release of pip is available: \u001b[0m\u001b[31;49m25.0.1\u001b[0m\u001b[39;49m -> \u001b[0m\u001b[32;49m25.1.1\u001b[0m\n",
      "\u001b[1m[\u001b[0m\u001b[34;49mnotice\u001b[0m\u001b[1;39;49m]\u001b[0m\u001b[39;49m To update, run: \u001b[0m\u001b[32;49m/opt/homebrew/Cellar/jupyterlab/4.4.2_1/libexec/bin/python -m pip install --upgrade pip\u001b[0m\n"
     ]
    }
   ],
   "source": [
    "import sys\n",
    "!{sys.executable} -m pip install bokeh\n",
    "\n",
    "import pandas as pd\n",
    "import numpy as np\n",
    "from bokeh.plotting import figure, show, output_notebook\n",
    "from bokeh.models import ColumnDataSource, HoverTool, DatetimeTickFormatter, RangeTool, Band\n",
    "from bokeh.layouts import column, row\n",
    "from bokeh.io import output_file"
   ]
  },
  {
   "cell_type": "markdown",
   "id": "479df2d4ce71afb9",
   "metadata": {},
   "source": [
    "1. Loading and preprocessing the \"AirPassengersDates.csv\" dataset."
   ]
  },
  {
   "cell_type": "code",
   "execution_count": 2,
   "id": "a95d0488-760c-4d43-82ef-0ad3f4cf975b",
   "metadata": {
    "ExecuteTime": {
     "end_time": "2025-05-14T15:27:40.485458Z",
     "start_time": "2025-05-14T15:27:40.465632Z"
    }
   },
   "outputs": [
    {
     "data": {
      "text/html": [
       "    <style>\n",
       "        .bk-notebook-logo {\n",
       "            display: block;\n",
       "            width: 20px;\n",
       "            height: 20px;\n",
       "            background-image: url(data:image/png;base64,iVBORw0KGgoAAAANSUhEUgAAABQAAAAUCAYAAACNiR0NAAAABHNCSVQICAgIfAhkiAAAAAlwSFlzAAALEgAACxIB0t1+/AAAABx0RVh0U29mdHdhcmUAQWRvYmUgRmlyZXdvcmtzIENTNui8sowAAAOkSURBVDiNjZRtaJVlGMd/1/08zzln5zjP1LWcU9N0NkN8m2CYjpgQYQXqSs0I84OLIC0hkEKoPtiH3gmKoiJDU7QpLgoLjLIQCpEsNJ1vqUOdO7ppbuec5+V+rj4ctwzd8IIbbi6u+8f1539dt3A78eXC7QizUF7gyV1fD1Yqg4JWz84yffhm0qkFqBogB9rM8tZdtwVsPUhWhGcFJngGeWrPzHm5oaMmkfEg1usvLFyc8jLRqDOMru7AyC8saQr7GG7f5fvDeH7Ej8CM66nIF+8yngt6HWaKh7k49Soy9nXurCi1o3qUbS3zWfrYeQDTB/Qj6kX6Ybhw4B+bOYoLKCC9H3Nu/leUTZ1JdRWkkn2ldcCamzrcf47KKXdAJllSlxAOkRgyHsGC/zRday5Qld9DyoM4/q/rUoy/CXh3jzOu3bHUVZeU+DEn8FInkPBFlu3+nW3Nw0mk6vCDiWg8CeJaxEwuHS3+z5RgY+YBR6V1Z1nxSOfoaPa4LASWxxdNp+VWTk7+4vzaou8v8PN+xo+KY2xsw6une2frhw05CTYOmQvsEhjhWjn0bmXPjpE1+kplmmkP3suftwTubK9Vq22qKmrBhpY4jvd5afdRA3wGjFAgcnTK2s4hY0/GPNIb0nErGMCRxWOOX64Z8RAC4oCXdklmEvcL8o0BfkNK4lUg9HTl+oPlQxdNo3Mg4Nv175e/1LDGzZen30MEjRUtmXSfiTVu1kK8W4txyV6BMKlbgk3lMwYCiusNy9fVfvvwMxv8Ynl6vxoByANLTWplvuj/nF9m2+PDtt1eiHPBr1oIfhCChQMBw6Aw0UulqTKZdfVvfG7VcfIqLG9bcldL/+pdWTLxLUy8Qq38heUIjh4XlzZxzQm19lLFlr8vdQ97rjZVOLf8nclzckbcD4wxXMidpX30sFd37Fv/GtwwhzhxGVAprjbg0gCAEeIgwCZyTV2Z1REEW8O4py0wsjeloKoMr6iCY6dP92H6Vw/oTyICIthibxjm/DfN9lVz8IqtqKYLUXfoKVMVQVVJOElGjrnnUt9T9wbgp8AyYKaGlqingHZU/uG2NTZSVqwHQTWkx9hxjkpWDaCg6Ckj5qebgBVbT3V3NNXMSiWSDdGV3hrtzla7J+duwPOToIg42ChPQOQjspnSlp1V+Gjdged7+8UN5CRAV7a5EdFNwCjEaBR27b3W890TE7g24NAP/mMDXRWrGoFPQI9ls/MWO2dWFAar/xcOIImbbpA3zgAAAABJRU5ErkJggg==);\n",
       "        }\n",
       "    </style>\n",
       "    <div>\n",
       "        <a href=\"https://bokeh.org\" target=\"_blank\" class=\"bk-notebook-logo\"></a>\n",
       "        <span id=\"ac96808f-4bea-4e20-8b82-32916357e260\">Loading BokehJS ...</span>\n",
       "    </div>\n"
      ]
     },
     "metadata": {},
     "output_type": "display_data"
    },
    {
     "data": {
      "application/javascript": [
       "'use strict';\n",
       "(function(root) {\n",
       "  function now() {\n",
       "    return new Date();\n",
       "  }\n",
       "\n",
       "  const force = true;\n",
       "\n",
       "  if (typeof root._bokeh_onload_callbacks === \"undefined\" || force === true) {\n",
       "    root._bokeh_onload_callbacks = [];\n",
       "    root._bokeh_is_loading = undefined;\n",
       "  }\n",
       "\n",
       "const JS_MIME_TYPE = 'application/javascript';\n",
       "  const HTML_MIME_TYPE = 'text/html';\n",
       "  const EXEC_MIME_TYPE = 'application/vnd.bokehjs_exec.v0+json';\n",
       "  const CLASS_NAME = 'output_bokeh rendered_html';\n",
       "\n",
       "  /**\n",
       "   * Render data to the DOM node\n",
       "   */\n",
       "  function render(props, node) {\n",
       "    const script = document.createElement(\"script\");\n",
       "    node.appendChild(script);\n",
       "  }\n",
       "\n",
       "  /**\n",
       "   * Handle when an output is cleared or removed\n",
       "   */\n",
       "  function handleClearOutput(event, handle) {\n",
       "    function drop(id) {\n",
       "      const view = Bokeh.index.get_by_id(id)\n",
       "      if (view != null) {\n",
       "        view.model.document.clear()\n",
       "        Bokeh.index.delete(view)\n",
       "      }\n",
       "    }\n",
       "\n",
       "    const cell = handle.cell;\n",
       "\n",
       "    const id = cell.output_area._bokeh_element_id;\n",
       "    const server_id = cell.output_area._bokeh_server_id;\n",
       "\n",
       "    // Clean up Bokeh references\n",
       "    if (id != null) {\n",
       "      drop(id)\n",
       "    }\n",
       "\n",
       "    if (server_id !== undefined) {\n",
       "      // Clean up Bokeh references\n",
       "      const cmd_clean = \"from bokeh.io.state import curstate; print(curstate().uuid_to_server['\" + server_id + \"'].get_sessions()[0].document.roots[0]._id)\";\n",
       "      cell.notebook.kernel.execute(cmd_clean, {\n",
       "        iopub: {\n",
       "          output: function(msg) {\n",
       "            const id = msg.content.text.trim()\n",
       "            drop(id)\n",
       "          }\n",
       "        }\n",
       "      });\n",
       "      // Destroy server and session\n",
       "      const cmd_destroy = \"import bokeh.io.notebook as ion; ion.destroy_server('\" + server_id + \"')\";\n",
       "      cell.notebook.kernel.execute(cmd_destroy);\n",
       "    }\n",
       "  }\n",
       "\n",
       "  /**\n",
       "   * Handle when a new output is added\n",
       "   */\n",
       "  function handleAddOutput(event, handle) {\n",
       "    const output_area = handle.output_area;\n",
       "    const output = handle.output;\n",
       "\n",
       "    // limit handleAddOutput to display_data with EXEC_MIME_TYPE content only\n",
       "    if ((output.output_type != \"display_data\") || (!Object.prototype.hasOwnProperty.call(output.data, EXEC_MIME_TYPE))) {\n",
       "      return\n",
       "    }\n",
       "\n",
       "    const toinsert = output_area.element.find(\".\" + CLASS_NAME.split(' ')[0]);\n",
       "\n",
       "    if (output.metadata[EXEC_MIME_TYPE][\"id\"] !== undefined) {\n",
       "      toinsert[toinsert.length - 1].firstChild.textContent = output.data[JS_MIME_TYPE];\n",
       "      // store reference to embed id on output_area\n",
       "      output_area._bokeh_element_id = output.metadata[EXEC_MIME_TYPE][\"id\"];\n",
       "    }\n",
       "    if (output.metadata[EXEC_MIME_TYPE][\"server_id\"] !== undefined) {\n",
       "      const bk_div = document.createElement(\"div\");\n",
       "      bk_div.innerHTML = output.data[HTML_MIME_TYPE];\n",
       "      const script_attrs = bk_div.children[0].attributes;\n",
       "      for (let i = 0; i < script_attrs.length; i++) {\n",
       "        toinsert[toinsert.length - 1].firstChild.setAttribute(script_attrs[i].name, script_attrs[i].value);\n",
       "        toinsert[toinsert.length - 1].firstChild.textContent = bk_div.children[0].textContent\n",
       "      }\n",
       "      // store reference to server id on output_area\n",
       "      output_area._bokeh_server_id = output.metadata[EXEC_MIME_TYPE][\"server_id\"];\n",
       "    }\n",
       "  }\n",
       "\n",
       "  function register_renderer(events, OutputArea) {\n",
       "\n",
       "    function append_mime(data, metadata, element) {\n",
       "      // create a DOM node to render to\n",
       "      const toinsert = this.create_output_subarea(\n",
       "        metadata,\n",
       "        CLASS_NAME,\n",
       "        EXEC_MIME_TYPE\n",
       "      );\n",
       "      this.keyboard_manager.register_events(toinsert);\n",
       "      // Render to node\n",
       "      const props = {data: data, metadata: metadata[EXEC_MIME_TYPE]};\n",
       "      render(props, toinsert[toinsert.length - 1]);\n",
       "      element.append(toinsert);\n",
       "      return toinsert\n",
       "    }\n",
       "\n",
       "    /* Handle when an output is cleared or removed */\n",
       "    events.on('clear_output.CodeCell', handleClearOutput);\n",
       "    events.on('delete.Cell', handleClearOutput);\n",
       "\n",
       "    /* Handle when a new output is added */\n",
       "    events.on('output_added.OutputArea', handleAddOutput);\n",
       "\n",
       "    /**\n",
       "     * Register the mime type and append_mime function with output_area\n",
       "     */\n",
       "    OutputArea.prototype.register_mime_type(EXEC_MIME_TYPE, append_mime, {\n",
       "      /* Is output safe? */\n",
       "      safe: true,\n",
       "      /* Index of renderer in `output_area.display_order` */\n",
       "      index: 0\n",
       "    });\n",
       "  }\n",
       "\n",
       "  // register the mime type if in Jupyter Notebook environment and previously unregistered\n",
       "  if (root.Jupyter !== undefined) {\n",
       "    const events = require('base/js/events');\n",
       "    const OutputArea = require('notebook/js/outputarea').OutputArea;\n",
       "\n",
       "    if (OutputArea.prototype.mime_types().indexOf(EXEC_MIME_TYPE) == -1) {\n",
       "      register_renderer(events, OutputArea);\n",
       "    }\n",
       "  }\n",
       "  if (typeof (root._bokeh_timeout) === \"undefined\" || force === true) {\n",
       "    root._bokeh_timeout = Date.now() + 5000;\n",
       "    root._bokeh_failed_load = false;\n",
       "  }\n",
       "\n",
       "  const NB_LOAD_WARNING = {'data': {'text/html':\n",
       "     \"<div style='background-color: #fdd'>\\n\"+\n",
       "     \"<p>\\n\"+\n",
       "     \"BokehJS does not appear to have successfully loaded. If loading BokehJS from CDN, this \\n\"+\n",
       "     \"may be due to a slow or bad network connection. Possible fixes:\\n\"+\n",
       "     \"</p>\\n\"+\n",
       "     \"<ul>\\n\"+\n",
       "     \"<li>re-rerun `output_notebook()` to attempt to load from CDN again, or</li>\\n\"+\n",
       "     \"<li>use INLINE resources instead, as so:</li>\\n\"+\n",
       "     \"</ul>\\n\"+\n",
       "     \"<code>\\n\"+\n",
       "     \"from bokeh.resources import INLINE\\n\"+\n",
       "     \"output_notebook(resources=INLINE)\\n\"+\n",
       "     \"</code>\\n\"+\n",
       "     \"</div>\"}};\n",
       "\n",
       "  function display_loaded(error = null) {\n",
       "    const el = document.getElementById(\"ac96808f-4bea-4e20-8b82-32916357e260\");\n",
       "    if (el != null) {\n",
       "      const html = (() => {\n",
       "        if (typeof root.Bokeh === \"undefined\") {\n",
       "          if (error == null) {\n",
       "            return \"BokehJS is loading ...\";\n",
       "          } else {\n",
       "            return \"BokehJS failed to load.\";\n",
       "          }\n",
       "        } else {\n",
       "          const prefix = `BokehJS ${root.Bokeh.version}`;\n",
       "          if (error == null) {\n",
       "            return `${prefix} successfully loaded.`;\n",
       "          } else {\n",
       "            return `${prefix} <b>encountered errors</b> while loading and may not function as expected.`;\n",
       "          }\n",
       "        }\n",
       "      })();\n",
       "      el.innerHTML = html;\n",
       "\n",
       "      if (error != null) {\n",
       "        const wrapper = document.createElement(\"div\");\n",
       "        wrapper.style.overflow = \"auto\";\n",
       "        wrapper.style.height = \"5em\";\n",
       "        wrapper.style.resize = \"vertical\";\n",
       "        const content = document.createElement(\"div\");\n",
       "        content.style.fontFamily = \"monospace\";\n",
       "        content.style.whiteSpace = \"pre-wrap\";\n",
       "        content.style.backgroundColor = \"rgb(255, 221, 221)\";\n",
       "        content.textContent = error.stack ?? error.toString();\n",
       "        wrapper.append(content);\n",
       "        el.append(wrapper);\n",
       "      }\n",
       "    } else if (Date.now() < root._bokeh_timeout) {\n",
       "      setTimeout(() => display_loaded(error), 100);\n",
       "    }\n",
       "  }\n",
       "\n",
       "  function run_callbacks() {\n",
       "    try {\n",
       "      root._bokeh_onload_callbacks.forEach(function(callback) {\n",
       "        if (callback != null)\n",
       "          callback();\n",
       "      });\n",
       "    } finally {\n",
       "      delete root._bokeh_onload_callbacks\n",
       "    }\n",
       "    console.debug(\"Bokeh: all callbacks have finished\");\n",
       "  }\n",
       "\n",
       "  function load_libs(css_urls, js_urls, callback) {\n",
       "    if (css_urls == null) css_urls = [];\n",
       "    if (js_urls == null) js_urls = [];\n",
       "\n",
       "    root._bokeh_onload_callbacks.push(callback);\n",
       "    if (root._bokeh_is_loading > 0) {\n",
       "      console.debug(\"Bokeh: BokehJS is being loaded, scheduling callback at\", now());\n",
       "      return null;\n",
       "    }\n",
       "    if (js_urls == null || js_urls.length === 0) {\n",
       "      run_callbacks();\n",
       "      return null;\n",
       "    }\n",
       "    console.debug(\"Bokeh: BokehJS not loaded, scheduling load and callback at\", now());\n",
       "    root._bokeh_is_loading = css_urls.length + js_urls.length;\n",
       "\n",
       "    function on_load() {\n",
       "      root._bokeh_is_loading--;\n",
       "      if (root._bokeh_is_loading === 0) {\n",
       "        console.debug(\"Bokeh: all BokehJS libraries/stylesheets loaded\");\n",
       "        run_callbacks()\n",
       "      }\n",
       "    }\n",
       "\n",
       "    function on_error(url) {\n",
       "      console.error(\"failed to load \" + url);\n",
       "    }\n",
       "\n",
       "    for (let i = 0; i < css_urls.length; i++) {\n",
       "      const url = css_urls[i];\n",
       "      const element = document.createElement(\"link\");\n",
       "      element.onload = on_load;\n",
       "      element.onerror = on_error.bind(null, url);\n",
       "      element.rel = \"stylesheet\";\n",
       "      element.type = \"text/css\";\n",
       "      element.href = url;\n",
       "      console.debug(\"Bokeh: injecting link tag for BokehJS stylesheet: \", url);\n",
       "      document.body.appendChild(element);\n",
       "    }\n",
       "\n",
       "    for (let i = 0; i < js_urls.length; i++) {\n",
       "      const url = js_urls[i];\n",
       "      const element = document.createElement('script');\n",
       "      element.onload = on_load;\n",
       "      element.onerror = on_error.bind(null, url);\n",
       "      element.async = false;\n",
       "      element.src = url;\n",
       "      console.debug(\"Bokeh: injecting script tag for BokehJS library: \", url);\n",
       "      document.head.appendChild(element);\n",
       "    }\n",
       "  };\n",
       "\n",
       "  function inject_raw_css(css) {\n",
       "    const element = document.createElement(\"style\");\n",
       "    element.appendChild(document.createTextNode(css));\n",
       "    document.body.appendChild(element);\n",
       "  }\n",
       "\n",
       "  const js_urls = [\"https://cdn.bokeh.org/bokeh/release/bokeh-3.7.3.min.js\", \"https://cdn.bokeh.org/bokeh/release/bokeh-gl-3.7.3.min.js\", \"https://cdn.bokeh.org/bokeh/release/bokeh-widgets-3.7.3.min.js\", \"https://cdn.bokeh.org/bokeh/release/bokeh-tables-3.7.3.min.js\", \"https://cdn.bokeh.org/bokeh/release/bokeh-mathjax-3.7.3.min.js\"];\n",
       "  const css_urls = [];\n",
       "\n",
       "  const inline_js = [    function(Bokeh) {\n",
       "      Bokeh.set_log_level(\"info\");\n",
       "    },\n",
       "function(Bokeh) {\n",
       "    }\n",
       "  ];\n",
       "\n",
       "  function run_inline_js() {\n",
       "    if (root.Bokeh !== undefined || force === true) {\n",
       "      try {\n",
       "            for (let i = 0; i < inline_js.length; i++) {\n",
       "      inline_js[i].call(root, root.Bokeh);\n",
       "    }\n",
       "\n",
       "      } catch (error) {display_loaded(error);throw error;\n",
       "      }if (force === true) {\n",
       "        display_loaded();\n",
       "      }} else if (Date.now() < root._bokeh_timeout) {\n",
       "      setTimeout(run_inline_js, 100);\n",
       "    } else if (!root._bokeh_failed_load) {\n",
       "      console.log(\"Bokeh: BokehJS failed to load within specified timeout.\");\n",
       "      root._bokeh_failed_load = true;\n",
       "    } else if (force !== true) {\n",
       "      const cell = $(document.getElementById(\"ac96808f-4bea-4e20-8b82-32916357e260\")).parents('.cell').data().cell;\n",
       "      cell.output_area.append_execute_result(NB_LOAD_WARNING)\n",
       "    }\n",
       "  }\n",
       "\n",
       "  if (root._bokeh_is_loading === 0) {\n",
       "    console.debug(\"Bokeh: BokehJS loaded, going straight to plotting\");\n",
       "    run_inline_js();\n",
       "  } else {\n",
       "    load_libs(css_urls, js_urls, function() {\n",
       "      console.debug(\"Bokeh: BokehJS plotting callback run at\", now());\n",
       "      run_inline_js();\n",
       "    });\n",
       "  }\n",
       "}(window));"
      ],
      "application/vnd.bokehjs_load.v0+json": "'use strict';\n(function(root) {\n  function now() {\n    return new Date();\n  }\n\n  const force = true;\n\n  if (typeof root._bokeh_onload_callbacks === \"undefined\" || force === true) {\n    root._bokeh_onload_callbacks = [];\n    root._bokeh_is_loading = undefined;\n  }\n\n\n  if (typeof (root._bokeh_timeout) === \"undefined\" || force === true) {\n    root._bokeh_timeout = Date.now() + 5000;\n    root._bokeh_failed_load = false;\n  }\n\n  const NB_LOAD_WARNING = {'data': {'text/html':\n     \"<div style='background-color: #fdd'>\\n\"+\n     \"<p>\\n\"+\n     \"BokehJS does not appear to have successfully loaded. If loading BokehJS from CDN, this \\n\"+\n     \"may be due to a slow or bad network connection. Possible fixes:\\n\"+\n     \"</p>\\n\"+\n     \"<ul>\\n\"+\n     \"<li>re-rerun `output_notebook()` to attempt to load from CDN again, or</li>\\n\"+\n     \"<li>use INLINE resources instead, as so:</li>\\n\"+\n     \"</ul>\\n\"+\n     \"<code>\\n\"+\n     \"from bokeh.resources import INLINE\\n\"+\n     \"output_notebook(resources=INLINE)\\n\"+\n     \"</code>\\n\"+\n     \"</div>\"}};\n\n  function display_loaded(error = null) {\n    const el = document.getElementById(\"ac96808f-4bea-4e20-8b82-32916357e260\");\n    if (el != null) {\n      const html = (() => {\n        if (typeof root.Bokeh === \"undefined\") {\n          if (error == null) {\n            return \"BokehJS is loading ...\";\n          } else {\n            return \"BokehJS failed to load.\";\n          }\n        } else {\n          const prefix = `BokehJS ${root.Bokeh.version}`;\n          if (error == null) {\n            return `${prefix} successfully loaded.`;\n          } else {\n            return `${prefix} <b>encountered errors</b> while loading and may not function as expected.`;\n          }\n        }\n      })();\n      el.innerHTML = html;\n\n      if (error != null) {\n        const wrapper = document.createElement(\"div\");\n        wrapper.style.overflow = \"auto\";\n        wrapper.style.height = \"5em\";\n        wrapper.style.resize = \"vertical\";\n        const content = document.createElement(\"div\");\n        content.style.fontFamily = \"monospace\";\n        content.style.whiteSpace = \"pre-wrap\";\n        content.style.backgroundColor = \"rgb(255, 221, 221)\";\n        content.textContent = error.stack ?? error.toString();\n        wrapper.append(content);\n        el.append(wrapper);\n      }\n    } else if (Date.now() < root._bokeh_timeout) {\n      setTimeout(() => display_loaded(error), 100);\n    }\n  }\n\n  function run_callbacks() {\n    try {\n      root._bokeh_onload_callbacks.forEach(function(callback) {\n        if (callback != null)\n          callback();\n      });\n    } finally {\n      delete root._bokeh_onload_callbacks\n    }\n    console.debug(\"Bokeh: all callbacks have finished\");\n  }\n\n  function load_libs(css_urls, js_urls, callback) {\n    if (css_urls == null) css_urls = [];\n    if (js_urls == null) js_urls = [];\n\n    root._bokeh_onload_callbacks.push(callback);\n    if (root._bokeh_is_loading > 0) {\n      console.debug(\"Bokeh: BokehJS is being loaded, scheduling callback at\", now());\n      return null;\n    }\n    if (js_urls == null || js_urls.length === 0) {\n      run_callbacks();\n      return null;\n    }\n    console.debug(\"Bokeh: BokehJS not loaded, scheduling load and callback at\", now());\n    root._bokeh_is_loading = css_urls.length + js_urls.length;\n\n    function on_load() {\n      root._bokeh_is_loading--;\n      if (root._bokeh_is_loading === 0) {\n        console.debug(\"Bokeh: all BokehJS libraries/stylesheets loaded\");\n        run_callbacks()\n      }\n    }\n\n    function on_error(url) {\n      console.error(\"failed to load \" + url);\n    }\n\n    for (let i = 0; i < css_urls.length; i++) {\n      const url = css_urls[i];\n      const element = document.createElement(\"link\");\n      element.onload = on_load;\n      element.onerror = on_error.bind(null, url);\n      element.rel = \"stylesheet\";\n      element.type = \"text/css\";\n      element.href = url;\n      console.debug(\"Bokeh: injecting link tag for BokehJS stylesheet: \", url);\n      document.body.appendChild(element);\n    }\n\n    for (let i = 0; i < js_urls.length; i++) {\n      const url = js_urls[i];\n      const element = document.createElement('script');\n      element.onload = on_load;\n      element.onerror = on_error.bind(null, url);\n      element.async = false;\n      element.src = url;\n      console.debug(\"Bokeh: injecting script tag for BokehJS library: \", url);\n      document.head.appendChild(element);\n    }\n  };\n\n  function inject_raw_css(css) {\n    const element = document.createElement(\"style\");\n    element.appendChild(document.createTextNode(css));\n    document.body.appendChild(element);\n  }\n\n  const js_urls = [\"https://cdn.bokeh.org/bokeh/release/bokeh-3.7.3.min.js\", \"https://cdn.bokeh.org/bokeh/release/bokeh-gl-3.7.3.min.js\", \"https://cdn.bokeh.org/bokeh/release/bokeh-widgets-3.7.3.min.js\", \"https://cdn.bokeh.org/bokeh/release/bokeh-tables-3.7.3.min.js\", \"https://cdn.bokeh.org/bokeh/release/bokeh-mathjax-3.7.3.min.js\"];\n  const css_urls = [];\n\n  const inline_js = [    function(Bokeh) {\n      Bokeh.set_log_level(\"info\");\n    },\nfunction(Bokeh) {\n    }\n  ];\n\n  function run_inline_js() {\n    if (root.Bokeh !== undefined || force === true) {\n      try {\n            for (let i = 0; i < inline_js.length; i++) {\n      inline_js[i].call(root, root.Bokeh);\n    }\n\n      } catch (error) {display_loaded(error);throw error;\n      }if (force === true) {\n        display_loaded();\n      }} else if (Date.now() < root._bokeh_timeout) {\n      setTimeout(run_inline_js, 100);\n    } else if (!root._bokeh_failed_load) {\n      console.log(\"Bokeh: BokehJS failed to load within specified timeout.\");\n      root._bokeh_failed_load = true;\n    } else if (force !== true) {\n      const cell = $(document.getElementById(\"ac96808f-4bea-4e20-8b82-32916357e260\")).parents('.cell').data().cell;\n      cell.output_area.append_execute_result(NB_LOAD_WARNING)\n    }\n  }\n\n  if (root._bokeh_is_loading === 0) {\n    console.debug(\"Bokeh: BokehJS loaded, going straight to plotting\");\n    run_inline_js();\n  } else {\n    load_libs(css_urls, js_urls, function() {\n      console.debug(\"Bokeh: BokehJS plotting callback run at\", now());\n      run_inline_js();\n    });\n  }\n}(window));"
     },
     "metadata": {},
     "output_type": "display_data"
    },
    {
     "name": "stdout",
     "output_type": "stream",
     "text": [
      "Missing values in dataset:\n",
      "Date           0\n",
      "#Passengers    0\n",
      "dtype: int64\n",
      "\n",
      "First few rows of the dataset:\n",
      "        Date  #Passengers\n",
      "0 1949-01-12          112\n",
      "1 1949-02-24          118\n",
      "2 1949-03-22          132\n",
      "3 1949-04-05          129\n",
      "4 1949-05-24          121\n"
     ]
    }
   ],
   "source": [
    "output_notebook()\n",
    "\n",
    "df = pd.read_csv('datasets/AirPassengersDates.csv')\n",
    "\n",
    "df['Date'] = pd.to_datetime(df['Date'])\n",
    "\n",
    "print(\"Missing values in dataset:\")\n",
    "print(df.isnull().sum())\n",
    "\n",
    "print(\"\\nFirst few rows of the dataset:\")\n",
    "print(df.head())"
   ]
  },
  {
   "cell_type": "markdown",
   "id": "bf587dc5883c3a7",
   "metadata": {},
   "source": [
    "2.  Creating interactive Bokeh plots for:\n",
    "    * Time series line plots"
   ]
  },
  {
   "cell_type": "code",
   "execution_count": 3,
   "id": "422dac85959b4a84",
   "metadata": {
    "ExecuteTime": {
     "end_time": "2025-05-14T15:27:40.631180Z",
     "start_time": "2025-05-14T15:27:40.527112Z"
    }
   },
   "outputs": [
    {
     "data": {
      "text/html": [
       "\n",
       "  <div id=\"cc06a7a9-46ca-45c8-996d-fa5e13403dd6\" data-root-id=\"p1006\" style=\"display: contents;\"></div>\n"
      ]
     },
     "metadata": {},
     "output_type": "display_data"
    },
    {
     "data": {
      "application/javascript": [
       "(function(root) {\n",
       "  function embed_document(root) {\n",
       "  const docs_json = {\"905d4af0-8298-44bd-bf9a-a3052fe2dd0c\":{\"version\":\"3.7.3\",\"title\":\"Bokeh Application\",\"roots\":[{\"type\":\"object\",\"name\":\"Figure\",\"id\":\"p1006\",\"attributes\":{\"width\":800,\"height\":400,\"x_range\":{\"type\":\"object\",\"name\":\"DataRange1d\",\"id\":\"p1007\"},\"y_range\":{\"type\":\"object\",\"name\":\"DataRange1d\",\"id\":\"p1008\"},\"x_scale\":{\"type\":\"object\",\"name\":\"LinearScale\",\"id\":\"p1016\"},\"y_scale\":{\"type\":\"object\",\"name\":\"LinearScale\",\"id\":\"p1017\"},\"title\":{\"type\":\"object\",\"name\":\"Title\",\"id\":\"p1009\",\"attributes\":{\"text\":\"Air Passengers Over Time\"}},\"renderers\":[{\"type\":\"object\",\"name\":\"GlyphRenderer\",\"id\":\"p1062\",\"attributes\":{\"data_source\":{\"type\":\"object\",\"name\":\"ColumnDataSource\",\"id\":\"p1003\",\"attributes\":{\"selected\":{\"type\":\"object\",\"name\":\"Selection\",\"id\":\"p1004\",\"attributes\":{\"indices\":[],\"line_indices\":[]}},\"selection_policy\":{\"type\":\"object\",\"name\":\"UnionRenderers\",\"id\":\"p1005\"},\"data\":{\"type\":\"map\",\"entries\":[[\"index\",{\"type\":\"ndarray\",\"array\":{\"type\":\"bytes\",\"data\":\"AAAAAAEAAAACAAAAAwAAAAQAAAAFAAAABgAAAAcAAAAIAAAACQAAAAoAAAALAAAADAAAAA0AAAAOAAAADwAAABAAAAARAAAAEgAAABMAAAAUAAAAFQAAABYAAAAXAAAAGAAAABkAAAAaAAAAGwAAABwAAAAdAAAAHgAAAB8AAAAgAAAAIQAAACIAAAAjAAAAJAAAACUAAAAmAAAAJwAAACgAAAApAAAAKgAAACsAAAAsAAAALQAAAC4AAAAvAAAAMAAAADEAAAAyAAAAMwAAADQAAAA1AAAANgAAADcAAAA4AAAAOQAAADoAAAA7AAAAPAAAAD0AAAA+AAAAPwAAAEAAAABBAAAAQgAAAEMAAABEAAAARQAAAEYAAABHAAAASAAAAEkAAABKAAAASwAAAEwAAABNAAAATgAAAE8AAABQAAAAUQAAAFIAAABTAAAAVAAAAFUAAABWAAAAVwAAAFgAAABZAAAAWgAAAFsAAABcAAAAXQAAAF4AAABfAAAAYAAAAGEAAABiAAAAYwAAAGQAAABlAAAAZgAAAGcAAABoAAAAaQAAAGoAAABrAAAAbAAAAG0AAABuAAAAbwAAAHAAAABxAAAAcgAAAHMAAAB0AAAAdQAAAHYAAAB3AAAAeAAAAHkAAAB6AAAAewAAAHwAAAB9AAAAfgAAAH8AAACAAAAAgQAAAIIAAACDAAAAhAAAAIUAAACGAAAAhwAAAIgAAACJAAAAigAAAIsAAACMAAAAjQAAAI4AAACPAAAA\"},\"shape\":[144],\"dtype\":\"int32\",\"order\":\"little\"}],[\"Date\",{\"type\":\"ndarray\",\"array\":{\"type\":\"bytes\",\"data\":\"AACATlRCY8IAAAAgpiZjwgAAAHXpFWPCAAAAVOYMY8IAAIBgW+1iwgAAAOr522LCAACAZgjRYsIAAIDVa7NiwgAAABdXrGLCAACA6KiQYsIAAIB4D3xiwgAAgDYJamLCAACAxm9VYsIAAIBW1kBiwgAAgH2GLWLCAAAAT9gRYsIAAIDL5gZiwgAAgJZw7mHCAACA+EPXYcIAAAD/C9RhwgAAAGHfvGHCAACABJ6eYcIAAIDwKo9hwgAAgEVufmHCAACASxtiYcIAAABS415hwgAAAEsASWHCAAAAjNAoYcIAAABePSZhwgAAAKyd/2DCAAAAuS35YMIAAAA8BOtgwgAAAHBE0WDCAACAJ3bCYMIAAIDR/KBgwgAAgOsclGDCAACA16mEYMIAAAAFIm5gwgAAgI7AXGDCAACATLpKYMIAAABMnzFgwgAAgOLNGWDCAACAZaQLYMIAAADXot5fwgAAAIEpvV/CAAAA3BmQX8IAAABLfXJfwgAAAA8kRF/CAAAAfocmX8IAAAC/VwZfwgAAAL4h1F7CAAAAIPW8XsIAAAD+u4FewgAAAPfYa17CAAAAAzMzXsIAAABeIwZewgAAAGTQ6V3CAAAAuRPZXcIAAAC43aZdwgAAAGJkhV3CAAAAnFFPXcIAAAC8HiZdwgAAAM9bA13CAAAAbFLoXMIAAABrHLZcwgAAAF1WilzCAAAAspl5XMIAAABizTtcwgAAACDHKVzCAAAALCHxW8IAAAA/Xs5bwgAAAPZ0plvCAAAA9T50W8IAAAAinERbwgAAAMZ1P1vCAAAAAGMJW8IAAACWdthawgAAAED9tlrCAAAARqqaWsIAAAChmm1awgAAAEQ+NlrCAAAAphEfWsIAAABQmP1ZwgAAAELS0VnCAAAAiU+VWcIAAAD/lY1ZwgAAAOQ/aFnCAAAAEZ04WcIAAACnsAdZwgAAAHjn0ljCAAAAXZGtWMIAAADM9I9YwgAAAAbiWVjCAAAATpVPWMIAAACVEhNYwgAAAPAC5lfCAAAAyBzHV8IAAACtxqFXwgAAAGvAj1fCAAAAi41mV8IAAAC46jZXwgAAADTeElfCAAAAOov2VsIAAACOmLNWwgAAAOPbolbCAAAAN+lfVsIAAACmTEJWwgAAAHeDDVbCAAAA2Vb2VcIAAACxcNdVwgAAAP/QsFXCAAAAnMeVVcIAAAB6jlpVwgAAAI3LN1XCAAAAcnUSVcIAAAA2HORUwgAAAHAJrlTCAAAAaSaYVMIAAAAtzWlUwgAAAIi9PFTCAAAAm/oZVMIAAAD26uxTwgAAABAL4FPCAAAA9bS6U8IAAACLyIlTwgAAAFz/VFPCAAAAt+8nU8IAAADyEiRTwgAAALa59VLCAAAAwhO9UsIAAACTSohSwgAAAAKualLCAAAAfqFGUsIAAABJKy5SwgAAAJCo8VHCAAAAxOjXUcIAAAD+1aFRwgAAAHQcmlHCAAAAwnxzUcIAAAA3jTlRwgAAABw3FFHCAAAA4N3lUMIAAAANO7ZQwgAAAFXuq1DC\"},\"shape\":[144],\"dtype\":\"float64\",\"order\":\"little\"}],[\"#Passengers\",{\"type\":\"ndarray\",\"array\":{\"type\":\"bytes\",\"data\":\"cAAAAHYAAACEAAAAgQAAAHkAAACHAAAAlAAAAJQAAACIAAAAdwAAAGgAAAB2AAAAcwAAAH4AAACNAAAAhwAAAH0AAACVAAAAqgAAAKoAAACeAAAAhQAAAHIAAACMAAAAkQAAAJYAAACyAAAAowAAAKwAAACyAAAAxwAAAMcAAAC4AAAAogAAAJIAAACmAAAAqwAAALQAAADBAAAAtQAAALcAAADaAAAA5gAAAPIAAADRAAAAvwAAAKwAAADCAAAAxAAAAMQAAADsAAAA6wAAAOUAAADzAAAACAEAABABAADtAAAA0wAAALQAAADJAAAAzAAAALwAAADrAAAA4wAAAOoAAAAIAQAALgEAACUBAAADAQAA5QAAAMsAAADlAAAA8gAAAOkAAAALAQAADQEAAA4BAAA7AQAAbAEAAFsBAAA4AQAAEgEAAO0AAAAWAQAAHAEAABUBAAA9AQAAOQEAAD4BAAB2AQAAnQEAAJUBAABjAQAAMgEAAA8BAAAyAQAAOwEAAC0BAABkAQAAXAEAAGMBAACmAQAA0QEAANMBAACUAQAAWwEAADEBAABQAQAAVAEAAD4BAABqAQAAXAEAAGsBAACzAQAA6wEAAPkBAACUAQAAZwEAADYBAABRAQAAaAEAAFYBAACWAQAAjAEAAKQBAADYAQAAJAIAAC8CAADPAQAAlwEAAGoBAACVAQAAoQEAAIcBAACjAQAAzQEAANgBAAAXAgAAbgIAAF4CAAD8AQAAzQEAAIYBAACwAQAA\"},\"shape\":[144],\"dtype\":\"int32\",\"order\":\"little\"}]]}}},\"view\":{\"type\":\"object\",\"name\":\"CDSView\",\"id\":\"p1063\",\"attributes\":{\"filter\":{\"type\":\"object\",\"name\":\"AllIndices\",\"id\":\"p1064\"}}},\"glyph\":{\"type\":\"object\",\"name\":\"Line\",\"id\":\"p1059\",\"attributes\":{\"x\":{\"type\":\"field\",\"field\":\"Date\"},\"y\":{\"type\":\"field\",\"field\":\"#Passengers\"},\"line_color\":\"#1f77b4\",\"line_width\":2}},\"nonselection_glyph\":{\"type\":\"object\",\"name\":\"Line\",\"id\":\"p1060\",\"attributes\":{\"x\":{\"type\":\"field\",\"field\":\"Date\"},\"y\":{\"type\":\"field\",\"field\":\"#Passengers\"},\"line_color\":\"#1f77b4\",\"line_alpha\":0.1,\"line_width\":2}},\"muted_glyph\":{\"type\":\"object\",\"name\":\"Line\",\"id\":\"p1061\",\"attributes\":{\"x\":{\"type\":\"field\",\"field\":\"Date\"},\"y\":{\"type\":\"field\",\"field\":\"#Passengers\"},\"line_color\":\"#1f77b4\",\"line_alpha\":0.2,\"line_width\":2}}}}],\"toolbar\":{\"type\":\"object\",\"name\":\"Toolbar\",\"id\":\"p1015\",\"attributes\":{\"tools\":[{\"type\":\"object\",\"name\":\"BoxSelectTool\",\"id\":\"p1042\",\"attributes\":{\"renderers\":\"auto\",\"overlay\":{\"type\":\"object\",\"name\":\"BoxAnnotation\",\"id\":\"p1043\",\"attributes\":{\"syncable\":false,\"line_color\":\"black\",\"line_alpha\":1.0,\"line_width\":2,\"line_dash\":[4,4],\"fill_color\":\"lightgrey\",\"fill_alpha\":0.5,\"level\":\"overlay\",\"visible\":false,\"left\":{\"type\":\"number\",\"value\":\"nan\"},\"right\":{\"type\":\"number\",\"value\":\"nan\"},\"top\":{\"type\":\"number\",\"value\":\"nan\"},\"bottom\":{\"type\":\"number\",\"value\":\"nan\"},\"editable\":true,\"handles\":{\"type\":\"object\",\"name\":\"BoxInteractionHandles\",\"id\":\"p1049\",\"attributes\":{\"all\":{\"type\":\"object\",\"name\":\"AreaVisuals\",\"id\":\"p1048\",\"attributes\":{\"fill_color\":\"white\",\"hover_fill_color\":\"lightgray\"}}}}}}}},{\"type\":\"object\",\"name\":\"LassoSelectTool\",\"id\":\"p1050\",\"attributes\":{\"renderers\":\"auto\",\"overlay\":{\"type\":\"object\",\"name\":\"PolyAnnotation\",\"id\":\"p1051\",\"attributes\":{\"syncable\":false,\"level\":\"overlay\",\"visible\":false,\"xs\":[],\"ys\":[],\"editable\":true,\"line_color\":\"black\",\"line_alpha\":1.0,\"line_width\":2,\"line_dash\":[4,4],\"fill_color\":\"lightgrey\",\"fill_alpha\":0.5}}}},{\"type\":\"object\",\"name\":\"WheelZoomTool\",\"id\":\"p1052\",\"attributes\":{\"renderers\":\"auto\"}},{\"type\":\"object\",\"name\":\"PanTool\",\"id\":\"p1053\"},{\"type\":\"object\",\"name\":\"ResetTool\",\"id\":\"p1054\"},{\"type\":\"object\",\"name\":\"SaveTool\",\"id\":\"p1055\"},{\"type\":\"object\",\"name\":\"HoverTool\",\"id\":\"p1065\",\"attributes\":{\"renderers\":\"auto\",\"tooltips\":[[\"Date\",\"@Date{%F}\"],[\"Passengers\",\"@{#Passengers}\"]],\"formatters\":{\"type\":\"map\",\"entries\":[[\"@Date\",\"datetime\"]]}}}]}},\"left\":[{\"type\":\"object\",\"name\":\"LinearAxis\",\"id\":\"p1037\",\"attributes\":{\"ticker\":{\"type\":\"object\",\"name\":\"BasicTicker\",\"id\":\"p1038\",\"attributes\":{\"mantissas\":[1,2,5]}},\"formatter\":{\"type\":\"object\",\"name\":\"BasicTickFormatter\",\"id\":\"p1039\"},\"axis_label\":\"Passenger Count\",\"major_label_policy\":{\"type\":\"object\",\"name\":\"AllLabels\",\"id\":\"p1040\"}}}],\"below\":[{\"type\":\"object\",\"name\":\"DatetimeAxis\",\"id\":\"p1018\",\"attributes\":{\"ticker\":{\"type\":\"object\",\"name\":\"DatetimeTicker\",\"id\":\"p1019\",\"attributes\":{\"num_minor_ticks\":5,\"tickers\":[{\"type\":\"object\",\"name\":\"AdaptiveTicker\",\"id\":\"p1020\",\"attributes\":{\"num_minor_ticks\":0,\"mantissas\":[1,2,5],\"max_interval\":500.0}},{\"type\":\"object\",\"name\":\"AdaptiveTicker\",\"id\":\"p1021\",\"attributes\":{\"num_minor_ticks\":0,\"base\":60,\"mantissas\":[1,2,5,10,15,20,30],\"min_interval\":1000.0,\"max_interval\":1800000.0}},{\"type\":\"object\",\"name\":\"AdaptiveTicker\",\"id\":\"p1022\",\"attributes\":{\"num_minor_ticks\":0,\"base\":24,\"mantissas\":[1,2,4,6,8,12],\"min_interval\":3600000.0,\"max_interval\":43200000.0}},{\"type\":\"object\",\"name\":\"DaysTicker\",\"id\":\"p1023\",\"attributes\":{\"days\":[1,2,3,4,5,6,7,8,9,10,11,12,13,14,15,16,17,18,19,20,21,22,23,24,25,26,27,28,29,30,31]}},{\"type\":\"object\",\"name\":\"DaysTicker\",\"id\":\"p1024\",\"attributes\":{\"days\":[1,4,7,10,13,16,19,22,25,28]}},{\"type\":\"object\",\"name\":\"DaysTicker\",\"id\":\"p1025\",\"attributes\":{\"days\":[1,8,15,22]}},{\"type\":\"object\",\"name\":\"DaysTicker\",\"id\":\"p1026\",\"attributes\":{\"days\":[1,15]}},{\"type\":\"object\",\"name\":\"MonthsTicker\",\"id\":\"p1027\",\"attributes\":{\"months\":[0,1,2,3,4,5,6,7,8,9,10,11]}},{\"type\":\"object\",\"name\":\"MonthsTicker\",\"id\":\"p1028\",\"attributes\":{\"months\":[0,2,4,6,8,10]}},{\"type\":\"object\",\"name\":\"MonthsTicker\",\"id\":\"p1029\",\"attributes\":{\"months\":[0,4,8]}},{\"type\":\"object\",\"name\":\"MonthsTicker\",\"id\":\"p1030\",\"attributes\":{\"months\":[0,6]}},{\"type\":\"object\",\"name\":\"YearsTicker\",\"id\":\"p1031\"}]}},\"formatter\":{\"type\":\"object\",\"name\":\"DatetimeTickFormatter\",\"id\":\"p1034\",\"attributes\":{\"seconds\":\"%T\",\"minsec\":\"%T\",\"minutes\":\"%H:%M\",\"hours\":\"%H:%M\",\"days\":\"%b %d\",\"months\":\"%b %Y\",\"strip_leading_zeros\":[\"microseconds\",\"milliseconds\",\"seconds\"],\"boundary_scaling\":false,\"context\":{\"type\":\"object\",\"name\":\"DatetimeTickFormatter\",\"id\":\"p1033\",\"attributes\":{\"microseconds\":\"%T\",\"milliseconds\":\"%T\",\"seconds\":\"%b %d, %Y\",\"minsec\":\"%b %d, %Y\",\"minutes\":\"%b %d, %Y\",\"hourmin\":\"%b %d, %Y\",\"hours\":\"%b %d, %Y\",\"days\":\"%Y\",\"months\":\"\",\"years\":\"\",\"boundary_scaling\":false,\"hide_repeats\":true,\"context\":{\"type\":\"object\",\"name\":\"DatetimeTickFormatter\",\"id\":\"p1032\",\"attributes\":{\"microseconds\":\"%b %d, %Y\",\"milliseconds\":\"%b %d, %Y\",\"seconds\":\"\",\"minsec\":\"\",\"minutes\":\"\",\"hourmin\":\"\",\"hours\":\"\",\"days\":\"\",\"months\":\"\",\"years\":\"\",\"boundary_scaling\":false,\"hide_repeats\":true}},\"context_which\":\"all\"}},\"context_which\":\"all\"}},\"axis_label\":\"Date\",\"major_label_policy\":{\"type\":\"object\",\"name\":\"AllLabels\",\"id\":\"p1035\"}}}],\"center\":[{\"type\":\"object\",\"name\":\"Grid\",\"id\":\"p1036\",\"attributes\":{\"axis\":{\"id\":\"p1018\"}}},{\"type\":\"object\",\"name\":\"Grid\",\"id\":\"p1041\",\"attributes\":{\"dimension\":1,\"axis\":{\"id\":\"p1037\"}}}]}}]}};\n",
       "  const render_items = [{\"docid\":\"905d4af0-8298-44bd-bf9a-a3052fe2dd0c\",\"roots\":{\"p1006\":\"cc06a7a9-46ca-45c8-996d-fa5e13403dd6\"},\"root_ids\":[\"p1006\"]}];\n",
       "  void root.Bokeh.embed.embed_items_notebook(docs_json, render_items);\n",
       "  }\n",
       "  if (root.Bokeh !== undefined) {\n",
       "    embed_document(root);\n",
       "  } else {\n",
       "    let attempts = 0;\n",
       "    const timer = setInterval(function(root) {\n",
       "      if (root.Bokeh !== undefined) {\n",
       "        clearInterval(timer);\n",
       "        embed_document(root);\n",
       "      } else {\n",
       "        attempts++;\n",
       "        if (attempts > 100) {\n",
       "          clearInterval(timer);\n",
       "          console.log(\"Bokeh: ERROR: Unable to run BokehJS code because BokehJS library is missing\");\n",
       "        }\n",
       "      }\n",
       "    }, 10, root)\n",
       "  }\n",
       "})(window);"
      ],
      "application/vnd.bokehjs_exec.v0+json": ""
     },
     "metadata": {
      "application/vnd.bokehjs_exec.v0+json": {
       "id": "p1006"
      }
     },
     "output_type": "display_data"
    }
   ],
   "source": [
    "source = ColumnDataSource(df)\n",
    "\n",
    "p = figure(title='Air Passengers Over Time',\n",
    "           x_axis_type='datetime',\n",
    "           x_axis_label='Date',\n",
    "           y_axis_label='Passenger Count',\n",
    "           width=800,\n",
    "           height=400,\n",
    "           tools=['box_select', 'lasso_select', 'wheel_zoom', 'pan', 'reset', 'save'])\n",
    "\n",
    "p.line(x='Date', y='#Passengers', source=source, line_width=2)\n",
    "\n",
    "hover = HoverTool(tooltips=[\n",
    "    ('Date', '@Date{%F}'),\n",
    "    ('Passengers', '@{#Passengers}')\n",
    "], formatters={'@Date': 'datetime'})\n",
    "p.add_tools(hover)\n",
    "\n",
    "show(p)"
   ]
  },
  {
   "cell_type": "markdown",
   "id": "dc7175d1b3f9ad0a",
   "metadata": {},
   "source": [
    "* Bar plots of aggregated data"
   ]
  },
  {
   "cell_type": "code",
   "execution_count": 4,
   "id": "9832abbd4f762bf9",
   "metadata": {
    "ExecuteTime": {
     "end_time": "2025-05-14T15:27:40.752782Z",
     "start_time": "2025-05-14T15:27:40.671059Z"
    }
   },
   "outputs": [
    {
     "data": {
      "text/html": [
       "\n",
       "  <div id=\"f9d6324c-5c3d-44d2-a1d4-a7709d71c72e\" data-root-id=\"p1072\" style=\"display: contents;\"></div>\n"
      ]
     },
     "metadata": {},
     "output_type": "display_data"
    },
    {
     "data": {
      "application/javascript": [
       "(function(root) {\n",
       "  function embed_document(root) {\n",
       "  const docs_json = {\"e31c29a0-673e-4729-8352-22d61bfd6527\":{\"version\":\"3.7.3\",\"title\":\"Bokeh Application\",\"roots\":[{\"type\":\"object\",\"name\":\"Figure\",\"id\":\"p1072\",\"attributes\":{\"width\":800,\"height\":400,\"x_range\":{\"type\":\"object\",\"name\":\"FactorRange\",\"id\":\"p1082\",\"attributes\":{\"factors\":[\"January\",\"February\",\"March\",\"April\",\"May\",\"June\",\"July\",\"August\",\"September\",\"October\",\"November\",\"December\"]}},\"y_range\":{\"type\":\"object\",\"name\":\"DataRange1d\",\"id\":\"p1074\"},\"x_scale\":{\"type\":\"object\",\"name\":\"CategoricalScale\",\"id\":\"p1083\"},\"y_scale\":{\"type\":\"object\",\"name\":\"LinearScale\",\"id\":\"p1084\"},\"title\":{\"type\":\"object\",\"name\":\"Title\",\"id\":\"p1075\",\"attributes\":{\"text\":\"Average Passengers by Month (All Years)\"}},\"renderers\":[{\"type\":\"object\",\"name\":\"GlyphRenderer\",\"id\":\"p1114\",\"attributes\":{\"data_source\":{\"type\":\"object\",\"name\":\"ColumnDataSource\",\"id\":\"p1069\",\"attributes\":{\"selected\":{\"type\":\"object\",\"name\":\"Selection\",\"id\":\"p1070\",\"attributes\":{\"indices\":[],\"line_indices\":[]}},\"selection_policy\":{\"type\":\"object\",\"name\":\"UnionRenderers\",\"id\":\"p1071\"},\"data\":{\"type\":\"map\",\"entries\":[[\"index\",{\"type\":\"ndarray\",\"array\":{\"type\":\"bytes\",\"data\":\"BAAAAAMAAAAHAAAAAAAAAAgAAAAGAAAABQAAAAEAAAALAAAACgAAAAkAAAACAAAA\"},\"shape\":[12],\"dtype\":\"int32\",\"order\":\"little\"}],[\"Month\",{\"type\":\"ndarray\",\"array\":[\"January\",\"February\",\"March\",\"April\",\"May\",\"June\",\"July\",\"August\",\"September\",\"October\",\"November\",\"December\"],\"shape\":[12],\"dtype\":\"object\",\"order\":\"little\"}],[\"#Passengers\",{\"type\":\"ndarray\",\"array\":{\"type\":\"bytes\",\"data\":\"AAAAAAA4bkAAAAAAAGBtQKuqqqqq4nBAVVVVVVWxcEBVVVVVVf1wQKuqqqqqenNAVVVVVVX1dUBVVVVVVfF1QKuqqqqq5nJAVVVVVVWpcECrqqqqqhptQFVVVVVVXXBA\"},\"shape\":[12],\"dtype\":\"float64\",\"order\":\"little\"}]]}}},\"view\":{\"type\":\"object\",\"name\":\"CDSView\",\"id\":\"p1115\",\"attributes\":{\"filter\":{\"type\":\"object\",\"name\":\"AllIndices\",\"id\":\"p1116\"}}},\"glyph\":{\"type\":\"object\",\"name\":\"VBar\",\"id\":\"p1111\",\"attributes\":{\"x\":{\"type\":\"field\",\"field\":\"Month\"},\"width\":{\"type\":\"value\",\"value\":0.9},\"top\":{\"type\":\"field\",\"field\":\"#Passengers\"},\"line_color\":{\"type\":\"value\",\"value\":\"#1f77b4\"},\"fill_color\":{\"type\":\"value\",\"value\":\"#1f77b4\"}}},\"nonselection_glyph\":{\"type\":\"object\",\"name\":\"VBar\",\"id\":\"p1112\",\"attributes\":{\"x\":{\"type\":\"field\",\"field\":\"Month\"},\"width\":{\"type\":\"value\",\"value\":0.9},\"top\":{\"type\":\"field\",\"field\":\"#Passengers\"},\"line_color\":{\"type\":\"value\",\"value\":\"#1f77b4\"},\"line_alpha\":{\"type\":\"value\",\"value\":0.1},\"fill_color\":{\"type\":\"value\",\"value\":\"#1f77b4\"},\"fill_alpha\":{\"type\":\"value\",\"value\":0.1},\"hatch_alpha\":{\"type\":\"value\",\"value\":0.1}}},\"muted_glyph\":{\"type\":\"object\",\"name\":\"VBar\",\"id\":\"p1113\",\"attributes\":{\"x\":{\"type\":\"field\",\"field\":\"Month\"},\"width\":{\"type\":\"value\",\"value\":0.9},\"top\":{\"type\":\"field\",\"field\":\"#Passengers\"},\"line_color\":{\"type\":\"value\",\"value\":\"#1f77b4\"},\"line_alpha\":{\"type\":\"value\",\"value\":0.2},\"fill_color\":{\"type\":\"value\",\"value\":\"#1f77b4\"},\"fill_alpha\":{\"type\":\"value\",\"value\":0.2},\"hatch_alpha\":{\"type\":\"value\",\"value\":0.2}}}}}],\"toolbar\":{\"type\":\"object\",\"name\":\"Toolbar\",\"id\":\"p1081\",\"attributes\":{\"tools\":[{\"type\":\"object\",\"name\":\"PanTool\",\"id\":\"p1095\"},{\"type\":\"object\",\"name\":\"WheelZoomTool\",\"id\":\"p1096\",\"attributes\":{\"renderers\":\"auto\"}},{\"type\":\"object\",\"name\":\"BoxZoomTool\",\"id\":\"p1097\",\"attributes\":{\"dimensions\":\"both\",\"overlay\":{\"type\":\"object\",\"name\":\"BoxAnnotation\",\"id\":\"p1098\",\"attributes\":{\"syncable\":false,\"line_color\":\"black\",\"line_alpha\":1.0,\"line_width\":2,\"line_dash\":[4,4],\"fill_color\":\"lightgrey\",\"fill_alpha\":0.5,\"level\":\"overlay\",\"visible\":false,\"left\":{\"type\":\"number\",\"value\":\"nan\"},\"right\":{\"type\":\"number\",\"value\":\"nan\"},\"top\":{\"type\":\"number\",\"value\":\"nan\"},\"bottom\":{\"type\":\"number\",\"value\":\"nan\"},\"left_units\":\"canvas\",\"right_units\":\"canvas\",\"top_units\":\"canvas\",\"bottom_units\":\"canvas\",\"handles\":{\"type\":\"object\",\"name\":\"BoxInteractionHandles\",\"id\":\"p1104\",\"attributes\":{\"all\":{\"type\":\"object\",\"name\":\"AreaVisuals\",\"id\":\"p1103\",\"attributes\":{\"fill_color\":\"white\",\"hover_fill_color\":\"lightgray\"}}}}}}}},{\"type\":\"object\",\"name\":\"SaveTool\",\"id\":\"p1105\"},{\"type\":\"object\",\"name\":\"ResetTool\",\"id\":\"p1106\"},{\"type\":\"object\",\"name\":\"HelpTool\",\"id\":\"p1107\"},{\"type\":\"object\",\"name\":\"HoverTool\",\"id\":\"p1117\",\"attributes\":{\"renderers\":\"auto\",\"tooltips\":[[\"Month\",\"@Month\"],[\"Average Passengers\",\"@{#Passengers}{0.0}\"]]}}]}},\"left\":[{\"type\":\"object\",\"name\":\"LinearAxis\",\"id\":\"p1090\",\"attributes\":{\"ticker\":{\"type\":\"object\",\"name\":\"BasicTicker\",\"id\":\"p1091\",\"attributes\":{\"mantissas\":[1,2,5]}},\"formatter\":{\"type\":\"object\",\"name\":\"BasicTickFormatter\",\"id\":\"p1092\"},\"axis_label\":\"Average Passenger Count\",\"major_label_policy\":{\"type\":\"object\",\"name\":\"AllLabels\",\"id\":\"p1093\"}}}],\"below\":[{\"type\":\"object\",\"name\":\"CategoricalAxis\",\"id\":\"p1085\",\"attributes\":{\"ticker\":{\"type\":\"object\",\"name\":\"CategoricalTicker\",\"id\":\"p1086\"},\"formatter\":{\"type\":\"object\",\"name\":\"CategoricalTickFormatter\",\"id\":\"p1087\"},\"axis_label\":\"Month\",\"major_label_policy\":{\"type\":\"object\",\"name\":\"AllLabels\",\"id\":\"p1088\"}}}],\"center\":[{\"type\":\"object\",\"name\":\"Grid\",\"id\":\"p1089\",\"attributes\":{\"axis\":{\"id\":\"p1085\"}}},{\"type\":\"object\",\"name\":\"Grid\",\"id\":\"p1094\",\"attributes\":{\"dimension\":1,\"axis\":{\"id\":\"p1090\"}}}]}}]}};\n",
       "  const render_items = [{\"docid\":\"e31c29a0-673e-4729-8352-22d61bfd6527\",\"roots\":{\"p1072\":\"f9d6324c-5c3d-44d2-a1d4-a7709d71c72e\"},\"root_ids\":[\"p1072\"]}];\n",
       "  void root.Bokeh.embed.embed_items_notebook(docs_json, render_items);\n",
       "  }\n",
       "  if (root.Bokeh !== undefined) {\n",
       "    embed_document(root);\n",
       "  } else {\n",
       "    let attempts = 0;\n",
       "    const timer = setInterval(function(root) {\n",
       "      if (root.Bokeh !== undefined) {\n",
       "        clearInterval(timer);\n",
       "        embed_document(root);\n",
       "      } else {\n",
       "        attempts++;\n",
       "        if (attempts > 100) {\n",
       "          clearInterval(timer);\n",
       "          console.log(\"Bokeh: ERROR: Unable to run BokehJS code because BokehJS library is missing\");\n",
       "        }\n",
       "      }\n",
       "    }, 10, root)\n",
       "  }\n",
       "})(window);"
      ],
      "application/vnd.bokehjs_exec.v0+json": ""
     },
     "metadata": {
      "application/vnd.bokehjs_exec.v0+json": {
       "id": "p1072"
      }
     },
     "output_type": "display_data"
    }
   ],
   "source": [
    "df['Month'] = df['Date'].dt.month_name()\n",
    "df['Year'] = df['Date'].dt.year\n",
    "\n",
    "monthly_data = df.groupby('Month')['#Passengers'].mean().reset_index()\n",
    "\n",
    "month_order = ['January', 'February', 'March', 'April', 'May', 'June',\n",
    "               'July', 'August', 'September', 'October', 'November', 'December']\n",
    "monthly_data['Month'] = pd.Categorical(monthly_data['Month'], categories=month_order, ordered=True)\n",
    "monthly_data = monthly_data.sort_values('Month')\n",
    "\n",
    "source = ColumnDataSource(monthly_data)\n",
    "\n",
    "p = figure(title='Average Passengers by Month (All Years)',\n",
    "           x_range=month_order,\n",
    "           x_axis_label='Month',\n",
    "           y_axis_label='Average Passenger Count',\n",
    "           width=800,\n",
    "           height=400)\n",
    "\n",
    "p.vbar(x='Month', top='#Passengers', source=source, width=0.9)\n",
    "\n",
    "hover = HoverTool(tooltips=[\n",
    "    ('Month', '@Month'),\n",
    "    ('Average Passengers', '@{#Passengers}{0.0}')\n",
    "])\n",
    "p.add_tools(hover)\n",
    "\n",
    "show(p)"
   ]
  },
  {
   "cell_type": "markdown",
   "id": "41cc455620098094",
   "metadata": {},
   "source": [
    "* Visualizing mean and standard deviation"
   ]
  },
  {
   "cell_type": "code",
   "execution_count": 5,
   "id": "3dc43020a007ea31",
   "metadata": {
    "ExecuteTime": {
     "end_time": "2025-05-14T15:27:40.858554Z",
     "start_time": "2025-05-14T15:27:40.763331Z"
    }
   },
   "outputs": [
    {
     "data": {
      "text/html": [
       "\n",
       "  <div id=\"bbf0a4bb-08b1-48f6-91e5-5b80f4713d0b\" data-root-id=\"p1123\" style=\"display: contents;\"></div>\n"
      ]
     },
     "metadata": {},
     "output_type": "display_data"
    },
    {
     "data": {
      "application/javascript": [
       "(function(root) {\n",
       "  function embed_document(root) {\n",
       "  const docs_json = {\"d062acf6-a228-4f39-99c4-8fd60757aa6a\":{\"version\":\"3.7.3\",\"title\":\"Bokeh Application\",\"roots\":[{\"type\":\"object\",\"name\":\"Figure\",\"id\":\"p1123\",\"attributes\":{\"width\":800,\"height\":400,\"x_range\":{\"type\":\"object\",\"name\":\"DataRange1d\",\"id\":\"p1124\"},\"y_range\":{\"type\":\"object\",\"name\":\"DataRange1d\",\"id\":\"p1125\"},\"x_scale\":{\"type\":\"object\",\"name\":\"LinearScale\",\"id\":\"p1133\"},\"y_scale\":{\"type\":\"object\",\"name\":\"LinearScale\",\"id\":\"p1134\"},\"title\":{\"type\":\"object\",\"name\":\"Title\",\"id\":\"p1126\",\"attributes\":{\"text\":\"Air Passengers with Rolling Mean and Standard Deviation\"}},\"renderers\":[{\"type\":\"object\",\"name\":\"GlyphRenderer\",\"id\":\"p1178\",\"attributes\":{\"data_source\":{\"type\":\"object\",\"name\":\"ColumnDataSource\",\"id\":\"p1120\",\"attributes\":{\"selected\":{\"type\":\"object\",\"name\":\"Selection\",\"id\":\"p1121\",\"attributes\":{\"indices\":[],\"line_indices\":[]}},\"selection_policy\":{\"type\":\"object\",\"name\":\"UnionRenderers\",\"id\":\"p1122\"},\"data\":{\"type\":\"map\",\"entries\":[[\"index\",{\"type\":\"ndarray\",\"array\":{\"type\":\"bytes\",\"data\":\"CwAAAAwAAAANAAAADgAAAA8AAAAQAAAAEQAAABIAAAATAAAAFAAAABUAAAAWAAAAFwAAABgAAAAZAAAAGgAAABsAAAAcAAAAHQAAAB4AAAAfAAAAIAAAACEAAAAiAAAAIwAAACQAAAAlAAAAJgAAACcAAAAoAAAAKQAAACoAAAArAAAALAAAAC0AAAAuAAAALwAAADAAAAAxAAAAMgAAADMAAAA0AAAANQAAADYAAAA3AAAAOAAAADkAAAA6AAAAOwAAADwAAAA9AAAAPgAAAD8AAABAAAAAQQAAAEIAAABDAAAARAAAAEUAAABGAAAARwAAAEgAAABJAAAASgAAAEsAAABMAAAATQAAAE4AAABPAAAAUAAAAFEAAABSAAAAUwAAAFQAAABVAAAAVgAAAFcAAABYAAAAWQAAAFoAAABbAAAAXAAAAF0AAABeAAAAXwAAAGAAAABhAAAAYgAAAGMAAABkAAAAZQAAAGYAAABnAAAAaAAAAGkAAABqAAAAawAAAGwAAABtAAAAbgAAAG8AAABwAAAAcQAAAHIAAABzAAAAdAAAAHUAAAB2AAAAdwAAAHgAAAB5AAAAegAAAHsAAAB8AAAAfQAAAH4AAAB/AAAAgAAAAIEAAACCAAAAgwAAAIQAAACFAAAAhgAAAIcAAACIAAAAiQAAAIoAAACLAAAAjAAAAI0AAACOAAAAjwAAAA==\"},\"shape\":[133],\"dtype\":\"int32\",\"order\":\"little\"}],[\"Date\",{\"type\":\"ndarray\",\"array\":{\"type\":\"bytes\",\"data\":\"AACANglqYsIAAIDGb1ViwgAAgFbWQGLCAACAfYYtYsIAAABP2BFiwgAAgMvmBmLCAACAlnDuYcIAAID4Q9dhwgAAAP8L1GHCAAAAYd+8YcIAAIAEnp5hwgAAgPAqj2HCAACARW5+YcIAAIBLG2JhwgAAAFLjXmHCAAAASwBJYcIAAACM0ChhwgAAAF49JmHCAAAArJ3/YMIAAAC5LflgwgAAADwE62DCAAAAcETRYMIAAIAndsJgwgAAgNH8oGDCAACA6xyUYMIAAIDXqYRgwgAAAAUibmDCAACAjsBcYMIAAIBMukpgwgAAAEyfMWDCAACA4s0ZYMIAAIBlpAtgwgAAANei3l/CAAAAgSm9X8IAAADcGZBfwgAAAEt9cl/CAAAADyREX8IAAAB+hyZfwgAAAL9XBl/CAAAAviHUXsIAAAAg9bxewgAAAP67gV7CAAAA99hrXsIAAAADMzNewgAAAF4jBl7CAAAAZNDpXcIAAAC5E9ldwgAAALjdpl3CAAAAYmSFXcIAAACcUU9dwgAAALweJl3CAAAAz1sDXcIAAABsUuhcwgAAAGsctlzCAAAAXVaKXMIAAACymXlcwgAAAGLNO1zCAAAAIMcpXMIAAAAsIfFbwgAAAD9ezlvCAAAA9nSmW8IAAAD1PnRbwgAAACKcRFvCAAAAxnU/W8IAAAAAYwlbwgAAAJZ22FrCAAAAQP22WsIAAABGqppawgAAAKGabVrCAAAARD42WsIAAACmER9awgAAAFCY/VnCAAAAQtLRWcIAAACJT5VZwgAAAP+VjVnCAAAA5D9oWcIAAAARnThZwgAAAKewB1nCAAAAeOfSWMIAAABdka1YwgAAAMz0j1jCAAAABuJZWMIAAABOlU9YwgAAAJUSE1jCAAAA8ALmV8IAAADIHMdXwgAAAK3GoVfCAAAAa8CPV8IAAACLjWZXwgAAALjqNlfCAAAANN4SV8IAAAA6i/ZWwgAAAI6Ys1bCAAAA49uiVsIAAAA36V9WwgAAAKZMQlbCAAAAd4MNVsIAAADZVvZVwgAAALFw11XCAAAA/9CwVcIAAACcx5VVwgAAAHqOWlXCAAAAjcs3VcIAAABydRJVwgAAADYc5FTCAAAAcAmuVMIAAABpJphUwgAAAC3NaVTCAAAAiL08VMIAAACb+hlUwgAAAPbq7FPCAAAAEAvgU8IAAAD1tLpTwgAAAIvIiVPCAAAAXP9UU8IAAAC37ydTwgAAAPISJFPCAAAAtrn1UsIAAADCE71SwgAAAJNKiFLCAAAAAq5qUsIAAAB+oUZSwgAAAEkrLlLCAAAAkKjxUcIAAADE6NdRwgAAAP7VoVHCAAAAdByaUcIAAADCfHNRwgAAADeNOVHCAAAAHDcUUcIAAADg3eVQwgAAAA07tlDCAAAAVe6rUMI=\"},\"shape\":[133],\"dtype\":\"float64\",\"order\":\"little\"}],[\"#Passengers\",{\"type\":\"ndarray\",\"array\":{\"type\":\"bytes\",\"data\":\"dgAAAHMAAAB+AAAAjQAAAIcAAAB9AAAAlQAAAKoAAACqAAAAngAAAIUAAAByAAAAjAAAAJEAAACWAAAAsgAAAKMAAACsAAAAsgAAAMcAAADHAAAAuAAAAKIAAACSAAAApgAAAKsAAAC0AAAAwQAAALUAAAC3AAAA2gAAAOYAAADyAAAA0QAAAL8AAACsAAAAwgAAAMQAAADEAAAA7AAAAOsAAADlAAAA8wAAAAgBAAAQAQAA7QAAANMAAAC0AAAAyQAAAMwAAAC8AAAA6wAAAOMAAADqAAAACAEAAC4BAAAlAQAAAwEAAOUAAADLAAAA5QAAAPIAAADpAAAACwEAAA0BAAAOAQAAOwEAAGwBAABbAQAAOAEAABIBAADtAAAAFgEAABwBAAAVAQAAPQEAADkBAAA+AQAAdgEAAJ0BAACVAQAAYwEAADIBAAAPAQAAMgEAADsBAAAtAQAAZAEAAFwBAABjAQAApgEAANEBAADTAQAAlAEAAFsBAAAxAQAAUAEAAFQBAAA+AQAAagEAAFwBAABrAQAAswEAAOsBAAD5AQAAlAEAAGcBAAA2AQAAUQEAAGgBAABWAQAAlgEAAIwBAACkAQAA2AEAACQCAAAvAgAAzwEAAJcBAABqAQAAlQEAAKEBAACHAQAAowEAAM0BAADYAQAAFwIAAG4CAABeAgAA/AEAAM0BAACGAQAAsAEAAA==\"},\"shape\":[133],\"dtype\":\"int32\",\"order\":\"little\"}],[\"Month\",{\"type\":\"ndarray\",\"array\":[\"December\",\"January\",\"February\",\"March\",\"April\",\"May\",\"June\",\"July\",\"August\",\"September\",\"October\",\"November\",\"December\",\"January\",\"February\",\"March\",\"April\",\"May\",\"June\",\"July\",\"August\",\"September\",\"October\",\"November\",\"December\",\"January\",\"February\",\"March\",\"April\",\"May\",\"June\",\"July\",\"August\",\"September\",\"October\",\"November\",\"December\",\"January\",\"February\",\"March\",\"April\",\"May\",\"June\",\"July\",\"August\",\"September\",\"October\",\"November\",\"December\",\"January\",\"February\",\"March\",\"April\",\"May\",\"June\",\"July\",\"August\",\"September\",\"October\",\"November\",\"December\",\"January\",\"February\",\"March\",\"April\",\"May\",\"June\",\"July\",\"August\",\"September\",\"October\",\"November\",\"December\",\"January\",\"February\",\"March\",\"April\",\"May\",\"June\",\"July\",\"August\",\"September\",\"October\",\"November\",\"December\",\"January\",\"February\",\"March\",\"April\",\"May\",\"June\",\"July\",\"August\",\"September\",\"October\",\"November\",\"December\",\"January\",\"February\",\"March\",\"April\",\"May\",\"June\",\"July\",\"August\",\"September\",\"October\",\"November\",\"December\",\"January\",\"February\",\"March\",\"April\",\"May\",\"June\",\"July\",\"August\",\"September\",\"October\",\"November\",\"December\",\"January\",\"February\",\"March\",\"April\",\"May\",\"June\",\"July\",\"August\",\"September\",\"October\",\"November\",\"December\"],\"shape\":[133],\"dtype\":\"object\",\"order\":\"little\"}],[\"Year\",{\"type\":\"ndarray\",\"array\":{\"type\":\"bytes\",\"data\":\"nQcAAJ4HAACeBwAAngcAAJ4HAACeBwAAngcAAJ4HAACeBwAAngcAAJ4HAACeBwAAngcAAJ8HAACfBwAAnwcAAJ8HAACfBwAAnwcAAJ8HAACfBwAAnwcAAJ8HAACfBwAAnwcAAKAHAACgBwAAoAcAAKAHAACgBwAAoAcAAKAHAACgBwAAoAcAAKAHAACgBwAAoAcAAKEHAAChBwAAoQcAAKEHAAChBwAAoQcAAKEHAAChBwAAoQcAAKEHAAChBwAAoQcAAKIHAACiBwAAogcAAKIHAACiBwAAogcAAKIHAACiBwAAogcAAKIHAACiBwAAogcAAKMHAACjBwAAowcAAKMHAACjBwAAowcAAKMHAACjBwAAowcAAKMHAACjBwAAowcAAKQHAACkBwAApAcAAKQHAACkBwAApAcAAKQHAACkBwAApAcAAKQHAACkBwAApAcAAKUHAAClBwAApQcAAKUHAAClBwAApQcAAKUHAAClBwAApQcAAKUHAAClBwAApQcAAKYHAACmBwAApgcAAKYHAACmBwAApgcAAKYHAACmBwAApgcAAKYHAACmBwAApgcAAKcHAACnBwAApwcAAKcHAACnBwAApwcAAKcHAACnBwAApwcAAKcHAACnBwAApwcAAKgHAACoBwAAqAcAAKgHAACoBwAAqAcAAKgHAACoBwAAqAcAAKgHAACoBwAAqAcAAA==\"},\"shape\":[133],\"dtype\":\"int32\",\"order\":\"little\"}],[\"Rolling_Mean\",{\"type\":\"ndarray\",\"array\":{\"type\":\"bytes\",\"data\":\"q6qqqqqqX0CrqqqqqrpfQFVVVVVV5V9Aq6qqqqoKYECrqqqqqhpgQFVVVVVVJWBAq6qqqqpKYEBVVVVVVYVgQAAAAAAAwGBAq6qqqqr6YEAAAAAAACBhQKuqqqqqOmFAVVVVVVV1YUBVVVVVVcVhQFVVVVVVBWJAAAAAAABoYkCrqqqqqrJiQAAAAAAAMGNAVVVVVVV9Y0CrqqqqqspjQAAAAAAAGGRAVVVVVVVdZECrqqqqqqpkQAAAAAAAAGVAVVVVVVVFZUCrqqqqqoplQKuqqqqq2mVAq6qqqqoCZkCrqqqqqjJmQAAAAAAAUGZAq6qqqqq6ZkBVVVVVVQ1nQAAAAAAAgGdAq6qqqqrCZ0AAAAAAABBoQFVVVVVVVWhAAAAAAACgaECrqqqqquJoQFVVVVVVDWlAAAAAAACAaUAAAAAAABBqQKuqqqqqimpAVVVVVVXNakAAAAAAAChrQAAAAAAAeGtAq6qqqqrCa0AAAAAAAPhrQFVVVVVVDWxAAAAAAAAgbEBVVVVVVTVsQAAAAAAAIGxAVVVVVVUdbEAAAAAAAAhsQFVVVVVVFWxAVVVVVVVNbECrqqqqqrJsQKuqqqqq6mxAVVVVVVUlbUBVVVVVVVVtQKuqqqqqkm1AVVVVVVXdbUCrqqqqqkJuQKuqqqqqum5AAAAAAAAQb0AAAAAAAIBvQAAAAAAA4G9AAAAAAAA0cECrqqqqqoZwQKuqqqqqznBAVVVVVVUVcUBVVVVVVVFxQKuqqqqqfnFAAAAAAADAcUAAAAAAAPhxQKuqqqqqMnJAVVVVVVV1ckAAAAAAALByQAAAAAAA8HJAq6qqqqo+c0AAAAAAAIBzQFVVVVVVzXNAq6qqqqoGdEBVVVVVVTF0QKuqqqqqXnRAAAAAAACEdEBVVVVVVa10QFVVVVVVzXRAVVVVVVUBdUAAAAAAADB1QFVVVVVVYXVAVVVVVVWhdUCrqqqqquZ1QFVVVVVVOXZAq6qqqqp6dkBVVVVVVbF2QKuqqqqq3nZAq6qqqqoGd0AAAAAAACh3QKuqqqqqPndAq6qqqqpGd0CrqqqqqkZ3QFVVVVVVUXdAq6qqqqpid0BVVVVVVYV3QAAAAAAAuHdAAAAAAAC4d0AAAAAAAMh3QKuqqqqqzndAAAAAAADQd0Crqqqqqup3QKuqqqqqCnhAVVVVVVVFeEBVVVVVVYV4QFVVVVVV0XhAq6qqqqoCeUCrqqqqqk55QKuqqqqqlnlAVVVVVVXleUBVVVVVVSV6QKuqqqqqanpAVVVVVVXFekBVVVVVVRF7QKuqqqqqUntAAAAAAABke0Crqqqqqrp7QAAAAAAAAHxAAAAAAABUfECrqqqqqrZ8QFVVVVVV9XxAVVVVVVUxfUBVVVVVVXl9QKuqqqqqnn1Aq6qqqqrCfUA=\"},\"shape\":[133],\"dtype\":\"float64\",\"order\":\"little\"}],[\"Rolling_Std\",{\"type\":\"ndarray\",\"array\":{\"type\":\"bytes\",\"data\":\"YoP5D7dwK0C7WN2BHOgqQGpY1jE8VSpA4vOYa7tfK0B8IbRzGqUrQBrBgcrRUytA2h9Qy3yFLUCcFIdgkCIyQDglrtg3zDRAIvbDk8/tNUDbR4W92FA1QCzBvEo7ETRAzhfKnyISM0BU4Drsn3AxQM6DB5/3xzBAUaJkZ1xZM0BCAOG092wzQHp4VGmkvjJAgtaYnGLxM0AcfzTvPUg3QFt4/Cx39DlAWggvvtbGOkBOgMb5JRY5QPEvEl9lZTRAt/FPRzJwMkCuN+eAQKcwQNknDTCOXS5AzX4mGS8PMEADJ47WOB4vQLanM6BgDC9Aa/PK4ORAM0DoMiRsR2Y3QND70G8xjzxAuOZa2pYlPUCJoPJF1sY7QLQ90K6sqDhAN7BPlmT3NkAUSNTkrHo1QFOIvsIOqzRA7HiALArgNkANnATYZz83QAC6zbFrcDZAatEA438cOEAg0odaPtI7QLyTd7t/Xj9A+97sD6mJP0AuUWpvcj8+QBdopdKZET1AgoZq4oV3PEDGhEZu6M87QBh3PaqoqzxA0juLzBijPEBE9EqSQnk8QG407A/7lTxAi6bUwk9lPkDILlKaBg5CQH0zfSe5YUNAtjORtavIQ0BCMxhMdX5DQCCbWfHCRUJAUg+bi1V2QUB+RHXl+5JAQBHwo21PuTxA52NY6wgcPUDkbLeiGNA8QDiTI4JZpDxABGkxKMm8QEA4BCFbyOxFQJFnH78Uu0hAGSsvOtprSUBRgaFM6nJIQNeBKSQxhkZAVn8/hfoRRUAvayAoWANEQNfAWN2HN0JA2nrrvoYjQkCcUiGRqctBQCB7uX9zXEFAGq2zhPcmREDENiS12RpIQPbMhaDwQ0tAbH7r9x7LS0CCZKpUKPNKQNHmEKKn2EhAJ+Lvz07uR0AzJbO8igdHQMlziP3W/UVAY5wT0d0SRkBpflD7htFFQERGEbOBqUVALEUjYcc5SEBnWoc/CU9MQOoSgXKGFlBAR/dyQlJ2UEA6/sQeD+xPQGmSvJZiA05A8a5R8QjyTECHn4/LGRxMQGrz6zuXP0tALxrysbMuS0AvGvKxsy5LQGElZwoeF0tA3ST0PqyuS0Au1h+PhctNQDXjA8SmY1BANeMDxKZjUECWCS8YzEZQQECnyur0JVBAan/iQPMhUEDrAmAISdBPQBz16go54U5AWQjSVHjMTkDS4blVcCROQJzGs/oOAU5AhWQBciuBT0BZqKWYOv9RQIv7ld0oA1RAlaKyohFfVECdLvMJjOtTQErXkizrn1JAla97TiB1UUDmejwp9qdQQNoseP3e7k5AfRxWqf2wTkDskaTM8hVOQCzLOdCfF05AI6hW+2VBUEBMo27bckxTQBu0kh5a6FRAnwSacYEnVUBapqphr6JUQFGJ/wcn4FNA4FFpDi1vU0A=\"},\"shape\":[133],\"dtype\":\"float64\",\"order\":\"little\"}],[\"Upper_Band\",{\"type\":\"ndarray\",\"array\":{\"type\":\"bytes\",\"data\":\"jO1UxmCMYUDhKnMd14thQDEQyG3+l2FA6TlkYabAYUDD7OVR/NRhQGdx/XGS2mFAqaxfdwIjYkDoN2Zhp8liQKfEFfuGWWNAbykjnWS4Y0D7qLAXG8pjQNBCAhTSvGNAT5hOqZnXY0BgsdxSafNjQM9FNklUHmRASpTsjCvTZECzykahSSBlQA+PKo3Uh2VAJXDoqIH7ZUCOOpFosrNmQAuPn+WOVmdAYDYbLTC2Z0C1euNpb81nQP5F4qusjGdAjFM/nluTZ0Chkce6kp9nQCl9q42DwGdAhXrPjZAEaEAbjRM4jiRoQHs6AwrGQGhAGAnERsciaUCy29lCHvppQHof+i3mEWtAggf2hV1na0ARVL7I2ohrQAxdL+tqamtAB/bJkux+a0CuM0VHAJJrQF8mrS23omtAHg+QRQFcbECCkwD77PdsQOth5CC4WG1Agm+1UeXQbUBE+lDLR6JuQHjybvfPY29AikaozN+zb0AmSu1N7r9vQFgCqo+Ir29A0FBNvPCub0DuJR5jUq9vQOOuRxV1tW9Az7zmbrixb0CIXklSKJdvQOPbUrcUqG9AE/XXpv8McEAum58oFptwQMX7RHqM4XBAIdFcIcALcUATsS1UeRpxQLqIgLMNEnFAlQweXHUdcUDl/QPStDNxQFeUL0zqKHFAPoa1jsBZcUDOdiuKAY1xQDQ5IphFunFAIC0GJZlLckAyyw62Q0RzQJ2XjkIN5nNAuDqbnNBCdEB/hemesl90QObaL89wT3RA6++nUD9idEBmDQQFa3h0QMbCVaabeXRAsMQyLca5dEBUKiQydel0QGQv92+OG3VATiBBm4nDdUDYhqQ2W4N2QPQOZmnTNXdAeBqoiQ6Ad0Dloepfuo93QIXH7J6/eXdARfz92cmBd0D7ueusRo53QM5jBjUQjXdA4ch3D7HDd0DND2rfMOp3QB5+t4uFFnhA+r15QY6oeED4lZvSi3B5QBCa9fH2PnpAfWhHOz+YekAc9S051656QPg8gv0Wn3pAieDUyOukekDx83E5g6t6QBgpKJKdpnpA8e3oIIGsekDx7egggax6QAE6ohY5tHpARy+JMoDYekAbUDkHxj57QM34ALHp0HtAzfgAsenQe0BmwgsGs9l7QHtUXeUn2HtA2p840HzYe0AIq7bLs+R7QE4JCMzR5ntAYJbvX+QefECPkQxg40l8QCjOqzR3kXxAPNfqGNDyfEDBFNRQec59QI4pEOJ0l35A+v0Bvhn9fkD8INJXOCB/QH5gz3WlEn9AOkH0aJ0if0AOdKTfUjt/QEawWYqGMH9AkMMqtR86f0DoPD8EaX1/QGY5B/rzwn9ABNVqvywygEC/KcOw48SAQC4Bfe61F4FAPuvd2Jo9gUB2/9+WAFGBQIBGVTZaS4FAkn8i9zpPgUA=\"},\"shape\":[133],\"dtype\":\"float64\",\"order\":\"little\"}],[\"Lower_Band\",{\"type\":\"ndarray\",\"array\":{\"type\":\"bytes\",\"data\":\"P3qryJM8XECU/24ap11cQEiKGs+tmlxA2jbi512pXEAm0d4GssBcQIdyWnEw4FxAW1Hru6XkXECD5YiSBoJcQLJ21AnyTFxAzldkcOF5XEAJrp7QyetcQAslpoIGcV1AtiS4AiImXkCV8puvgi5fQLbJ6MKs2F9AbNcm5qj5X0Cjig60C0VgQPFw1XIr2GBAhTrCASn/YEDIGsTsouFgQPVwYBpx2WBASnSPfXoEYUCh2nHr5YdhQAK6HVRTc2JAHldrDE/3YkC1w42awnVjQC3YqcfR9GNA0dqFx8QAZEA7yEEdx0BkQIXF/PU5X2RAPkyRDo5SZED4ztBnjCBkQIbgBdIZ7mNA1E1fz/cdZEDvq0E3JZdkQJ5Ne78/QGVA+Qk2bRPBZUCoIRAOVTNmQEuE/Xzzd2ZA4vBvuv6jZkB+bP8EEyhnQGvzcDSdvGdAKDv1WMXJZ0C8Ba80uK1nQIgNkQgwjGdAzA6tiHXRZ0DatRKyETBoQFKoABsia2hAMK+yQw+RaEC8hIxHWLtoQB1RuOqKimhA2+3DO/KIaEB4obat13hoQMfOV/OVgmhAhMD6XKuAaED5HhYEKS9oQMxdy2A8EmhAaAjxZyozaECESE8CuHVoQONDVO45AWlAgJFu8r9/aUCMWU2x6x1qQKks9ryAI2tAg/OU4n5sa0BkEqnr/OVrQJmNu890S2xAv6Xztc04bEBIFI0+I5JrQHJ7jSWQbmtA5N8eHLTPa0BWSoIX8IVsQOD0SgzJW21AKiCwXoE7bkA05ff1Ke9uQCAl/11z129A+uV3feQwcECs1dvNinZwQJzQCJBxxHBACDUUusu5cEAoeVvJpHxwQLabREHXZHBA3jqty0aNcEDFCMBK8NJwQNGNaLaVQ3FAuwMCJjaGcUCv8L79Y8xxQNxGpHWaDXJAyeEym/k+ckAz8JUgz3VyQIws8x4lrHJAsOwwaRyackBev7mCyVxyQJoQtbizM3JA2ewNGhZdckCOtXxx07NyQF4Y01c+HnNAzXSAjGloc0APDI7GfKRzQD4sLcO31nNAZWdsNNTgc0BlZ2w01OBzQKlwCJRx7nNADybMItXsc0CPWnGj5MtzQDMH/04Wn3NAMwf/Thafc0CaPfT5TLZzQNsA+G8txXNAJmDHL4PHc0BOqp6JofBzQAhMTYmDLnRAShS7SsZrdEAbGZ5Kx8B0QILc/nUzEXVAGn5qPIUSdUCVQIEE3M50QMgrRXPglXRAsKyo7JDNdECuidhScip1QNj0hd+vwnVAcGm2QQ1odkCcNgbLV+d2QBCl+8rOdHdAcDzVSuCNd0BuGBZR7Pd3QJrG+AUMPXhA91UqgaZDeEDYAc/zjeN3QE6osM0+u3dALdTu+HTnd0C+q+p8qVB4QFfIquigpnhAM1YQZ9/meEA=\"},\"shape\":[133],\"dtype\":\"float64\",\"order\":\"little\"}]]}}},\"view\":{\"type\":\"object\",\"name\":\"CDSView\",\"id\":\"p1179\",\"attributes\":{\"filter\":{\"type\":\"object\",\"name\":\"AllIndices\",\"id\":\"p1180\"}}},\"glyph\":{\"type\":\"object\",\"name\":\"Line\",\"id\":\"p1175\",\"attributes\":{\"x\":{\"type\":\"field\",\"field\":\"Date\"},\"y\":{\"type\":\"field\",\"field\":\"#Passengers\"},\"line_color\":\"#1f77b4\",\"line_width\":2}},\"nonselection_glyph\":{\"type\":\"object\",\"name\":\"Line\",\"id\":\"p1176\",\"attributes\":{\"x\":{\"type\":\"field\",\"field\":\"Date\"},\"y\":{\"type\":\"field\",\"field\":\"#Passengers\"},\"line_color\":\"#1f77b4\",\"line_alpha\":0.1,\"line_width\":2}},\"muted_glyph\":{\"type\":\"object\",\"name\":\"Line\",\"id\":\"p1177\",\"attributes\":{\"x\":{\"type\":\"field\",\"field\":\"Date\"},\"y\":{\"type\":\"field\",\"field\":\"#Passengers\"},\"line_color\":\"#1f77b4\",\"line_alpha\":0.2,\"line_width\":2}}}},{\"type\":\"object\",\"name\":\"GlyphRenderer\",\"id\":\"p1189\",\"attributes\":{\"data_source\":{\"id\":\"p1120\"},\"view\":{\"type\":\"object\",\"name\":\"CDSView\",\"id\":\"p1190\",\"attributes\":{\"filter\":{\"type\":\"object\",\"name\":\"AllIndices\",\"id\":\"p1191\"}}},\"glyph\":{\"type\":\"object\",\"name\":\"Line\",\"id\":\"p1186\",\"attributes\":{\"x\":{\"type\":\"field\",\"field\":\"Date\"},\"y\":{\"type\":\"field\",\"field\":\"Rolling_Mean\"},\"line_color\":\"red\",\"line_width\":2}},\"nonselection_glyph\":{\"type\":\"object\",\"name\":\"Line\",\"id\":\"p1187\",\"attributes\":{\"x\":{\"type\":\"field\",\"field\":\"Date\"},\"y\":{\"type\":\"field\",\"field\":\"Rolling_Mean\"},\"line_color\":\"red\",\"line_alpha\":0.1,\"line_width\":2}},\"muted_glyph\":{\"type\":\"object\",\"name\":\"Line\",\"id\":\"p1188\",\"attributes\":{\"x\":{\"type\":\"field\",\"field\":\"Date\"},\"y\":{\"type\":\"field\",\"field\":\"Rolling_Mean\"},\"line_color\":\"red\",\"line_alpha\":0.2,\"line_width\":2}}}}],\"toolbar\":{\"type\":\"object\",\"name\":\"Toolbar\",\"id\":\"p1132\",\"attributes\":{\"tools\":[{\"type\":\"object\",\"name\":\"PanTool\",\"id\":\"p1159\"},{\"type\":\"object\",\"name\":\"WheelZoomTool\",\"id\":\"p1160\",\"attributes\":{\"renderers\":\"auto\"}},{\"type\":\"object\",\"name\":\"BoxZoomTool\",\"id\":\"p1161\",\"attributes\":{\"dimensions\":\"both\",\"overlay\":{\"type\":\"object\",\"name\":\"BoxAnnotation\",\"id\":\"p1162\",\"attributes\":{\"syncable\":false,\"line_color\":\"black\",\"line_alpha\":1.0,\"line_width\":2,\"line_dash\":[4,4],\"fill_color\":\"lightgrey\",\"fill_alpha\":0.5,\"level\":\"overlay\",\"visible\":false,\"left\":{\"type\":\"number\",\"value\":\"nan\"},\"right\":{\"type\":\"number\",\"value\":\"nan\"},\"top\":{\"type\":\"number\",\"value\":\"nan\"},\"bottom\":{\"type\":\"number\",\"value\":\"nan\"},\"left_units\":\"canvas\",\"right_units\":\"canvas\",\"top_units\":\"canvas\",\"bottom_units\":\"canvas\",\"handles\":{\"type\":\"object\",\"name\":\"BoxInteractionHandles\",\"id\":\"p1168\",\"attributes\":{\"all\":{\"type\":\"object\",\"name\":\"AreaVisuals\",\"id\":\"p1167\",\"attributes\":{\"fill_color\":\"white\",\"hover_fill_color\":\"lightgray\"}}}}}}}},{\"type\":\"object\",\"name\":\"SaveTool\",\"id\":\"p1169\"},{\"type\":\"object\",\"name\":\"ResetTool\",\"id\":\"p1170\"},{\"type\":\"object\",\"name\":\"HelpTool\",\"id\":\"p1171\"},{\"type\":\"object\",\"name\":\"HoverTool\",\"id\":\"p1197\",\"attributes\":{\"renderers\":\"auto\",\"tooltips\":[[\"Date\",\"@Date{%F}\"],[\"Passengers\",\"@{#Passengers}\"],[\"Mean\",\"@Rolling_Mean{0.0}\"],[\"Std Dev\",\"@Rolling_Std{0.0}\"]],\"formatters\":{\"type\":\"map\",\"entries\":[[\"@Date\",\"datetime\"]]}}}]}},\"left\":[{\"type\":\"object\",\"name\":\"LinearAxis\",\"id\":\"p1154\",\"attributes\":{\"ticker\":{\"type\":\"object\",\"name\":\"BasicTicker\",\"id\":\"p1155\",\"attributes\":{\"mantissas\":[1,2,5]}},\"formatter\":{\"type\":\"object\",\"name\":\"BasicTickFormatter\",\"id\":\"p1156\"},\"axis_label\":\"Passenger Count\",\"major_label_policy\":{\"type\":\"object\",\"name\":\"AllLabels\",\"id\":\"p1157\"}}}],\"below\":[{\"type\":\"object\",\"name\":\"DatetimeAxis\",\"id\":\"p1135\",\"attributes\":{\"ticker\":{\"type\":\"object\",\"name\":\"DatetimeTicker\",\"id\":\"p1136\",\"attributes\":{\"num_minor_ticks\":5,\"tickers\":[{\"type\":\"object\",\"name\":\"AdaptiveTicker\",\"id\":\"p1137\",\"attributes\":{\"num_minor_ticks\":0,\"mantissas\":[1,2,5],\"max_interval\":500.0}},{\"type\":\"object\",\"name\":\"AdaptiveTicker\",\"id\":\"p1138\",\"attributes\":{\"num_minor_ticks\":0,\"base\":60,\"mantissas\":[1,2,5,10,15,20,30],\"min_interval\":1000.0,\"max_interval\":1800000.0}},{\"type\":\"object\",\"name\":\"AdaptiveTicker\",\"id\":\"p1139\",\"attributes\":{\"num_minor_ticks\":0,\"base\":24,\"mantissas\":[1,2,4,6,8,12],\"min_interval\":3600000.0,\"max_interval\":43200000.0}},{\"type\":\"object\",\"name\":\"DaysTicker\",\"id\":\"p1140\",\"attributes\":{\"days\":[1,2,3,4,5,6,7,8,9,10,11,12,13,14,15,16,17,18,19,20,21,22,23,24,25,26,27,28,29,30,31]}},{\"type\":\"object\",\"name\":\"DaysTicker\",\"id\":\"p1141\",\"attributes\":{\"days\":[1,4,7,10,13,16,19,22,25,28]}},{\"type\":\"object\",\"name\":\"DaysTicker\",\"id\":\"p1142\",\"attributes\":{\"days\":[1,8,15,22]}},{\"type\":\"object\",\"name\":\"DaysTicker\",\"id\":\"p1143\",\"attributes\":{\"days\":[1,15]}},{\"type\":\"object\",\"name\":\"MonthsTicker\",\"id\":\"p1144\",\"attributes\":{\"months\":[0,1,2,3,4,5,6,7,8,9,10,11]}},{\"type\":\"object\",\"name\":\"MonthsTicker\",\"id\":\"p1145\",\"attributes\":{\"months\":[0,2,4,6,8,10]}},{\"type\":\"object\",\"name\":\"MonthsTicker\",\"id\":\"p1146\",\"attributes\":{\"months\":[0,4,8]}},{\"type\":\"object\",\"name\":\"MonthsTicker\",\"id\":\"p1147\",\"attributes\":{\"months\":[0,6]}},{\"type\":\"object\",\"name\":\"YearsTicker\",\"id\":\"p1148\"}]}},\"formatter\":{\"type\":\"object\",\"name\":\"DatetimeTickFormatter\",\"id\":\"p1151\",\"attributes\":{\"seconds\":\"%T\",\"minsec\":\"%T\",\"minutes\":\"%H:%M\",\"hours\":\"%H:%M\",\"days\":\"%b %d\",\"months\":\"%b %Y\",\"strip_leading_zeros\":[\"microseconds\",\"milliseconds\",\"seconds\"],\"boundary_scaling\":false,\"context\":{\"type\":\"object\",\"name\":\"DatetimeTickFormatter\",\"id\":\"p1150\",\"attributes\":{\"microseconds\":\"%T\",\"milliseconds\":\"%T\",\"seconds\":\"%b %d, %Y\",\"minsec\":\"%b %d, %Y\",\"minutes\":\"%b %d, %Y\",\"hourmin\":\"%b %d, %Y\",\"hours\":\"%b %d, %Y\",\"days\":\"%Y\",\"months\":\"\",\"years\":\"\",\"boundary_scaling\":false,\"hide_repeats\":true,\"context\":{\"type\":\"object\",\"name\":\"DatetimeTickFormatter\",\"id\":\"p1149\",\"attributes\":{\"microseconds\":\"%b %d, %Y\",\"milliseconds\":\"%b %d, %Y\",\"seconds\":\"\",\"minsec\":\"\",\"minutes\":\"\",\"hourmin\":\"\",\"hours\":\"\",\"days\":\"\",\"months\":\"\",\"years\":\"\",\"boundary_scaling\":false,\"hide_repeats\":true}},\"context_which\":\"all\"}},\"context_which\":\"all\"}},\"axis_label\":\"Date\",\"major_label_policy\":{\"type\":\"object\",\"name\":\"AllLabels\",\"id\":\"p1152\"}}}],\"center\":[{\"type\":\"object\",\"name\":\"Grid\",\"id\":\"p1153\",\"attributes\":{\"axis\":{\"id\":\"p1135\"}}},{\"type\":\"object\",\"name\":\"Grid\",\"id\":\"p1158\",\"attributes\":{\"dimension\":1,\"axis\":{\"id\":\"p1154\"}}},{\"type\":\"object\",\"name\":\"Legend\",\"id\":\"p1181\",\"attributes\":{\"location\":\"top_left\",\"click_policy\":\"hide\",\"items\":[{\"type\":\"object\",\"name\":\"LegendItem\",\"id\":\"p1182\",\"attributes\":{\"label\":{\"type\":\"value\",\"value\":\"Passengers\"},\"renderers\":[{\"id\":\"p1178\"}]}},{\"type\":\"object\",\"name\":\"LegendItem\",\"id\":\"p1192\",\"attributes\":{\"label\":{\"type\":\"value\",\"value\":\"Rolling Mean\"},\"renderers\":[{\"id\":\"p1189\"}]}}]}},{\"type\":\"object\",\"name\":\"Band\",\"id\":\"p1193\",\"attributes\":{\"level\":\"underlay\",\"source\":{\"id\":\"p1120\"},\"lower\":{\"type\":\"field\",\"field\":\"Lower_Band\"},\"upper\":{\"type\":\"field\",\"field\":\"Upper_Band\"},\"base\":{\"type\":\"field\",\"field\":\"Date\"},\"line_color\":\"red\",\"fill_color\":\"red\",\"fill_alpha\":0.2}}]}}]}};\n",
       "  const render_items = [{\"docid\":\"d062acf6-a228-4f39-99c4-8fd60757aa6a\",\"roots\":{\"p1123\":\"bbf0a4bb-08b1-48f6-91e5-5b80f4713d0b\"},\"root_ids\":[\"p1123\"]}];\n",
       "  void root.Bokeh.embed.embed_items_notebook(docs_json, render_items);\n",
       "  }\n",
       "  if (root.Bokeh !== undefined) {\n",
       "    embed_document(root);\n",
       "  } else {\n",
       "    let attempts = 0;\n",
       "    const timer = setInterval(function(root) {\n",
       "      if (root.Bokeh !== undefined) {\n",
       "        clearInterval(timer);\n",
       "        embed_document(root);\n",
       "      } else {\n",
       "        attempts++;\n",
       "        if (attempts > 100) {\n",
       "          clearInterval(timer);\n",
       "          console.log(\"Bokeh: ERROR: Unable to run BokehJS code because BokehJS library is missing\");\n",
       "        }\n",
       "      }\n",
       "    }, 10, root)\n",
       "  }\n",
       "})(window);"
      ],
      "application/vnd.bokehjs_exec.v0+json": ""
     },
     "metadata": {
      "application/vnd.bokehjs_exec.v0+json": {
       "id": "p1123"
      }
     },
     "output_type": "display_data"
    }
   ],
   "source": [
    "window_size = 12  # 12 months for annual trend\n",
    "df['Rolling_Mean'] = df['#Passengers'].rolling(window=window_size).mean()\n",
    "df['Rolling_Std'] = df['#Passengers'].rolling(window=window_size).std()\n",
    "df['Upper_Band'] = df['Rolling_Mean'] + df['Rolling_Std']\n",
    "df['Lower_Band'] = df['Rolling_Mean'] - df['Rolling_Std']\n",
    "\n",
    "df_clean = df.dropna()\n",
    "\n",
    "source = ColumnDataSource(df_clean)\n",
    "\n",
    "p = figure(title='Air Passengers with Rolling Mean and Standard Deviation',\n",
    "           x_axis_type='datetime',\n",
    "           x_axis_label='Date',\n",
    "           y_axis_label='Passenger Count',\n",
    "           width=800,\n",
    "           height=400)\n",
    "\n",
    "p.line(x='Date', y='#Passengers', source=source, line_width=2, legend_label='Passengers')\n",
    "\n",
    "p.line(x='Date', y='Rolling_Mean', source=source, line_width=2, color='red', legend_label='Rolling Mean')\n",
    "\n",
    "band = Band(base='Date', lower='Lower_Band', upper='Upper_Band', source=source,\n",
    "            level='underlay', fill_alpha=0.2, fill_color='red', line_width=1, line_color='red')\n",
    "p.add_layout(band)\n",
    "\n",
    "hover = HoverTool(tooltips=[\n",
    "    ('Date', '@Date{%F}'),\n",
    "    ('Passengers', '@{#Passengers}'),\n",
    "    ('Mean', '@Rolling_Mean{0.0}'),\n",
    "    ('Std Dev', '@Rolling_Std{0.0}')\n",
    "], formatters={'@Date': 'datetime'})\n",
    "p.add_tools(hover)\n",
    "\n",
    "p.legend.location = \"top_left\"\n",
    "p.legend.click_policy = \"hide\"\n",
    "\n",
    "show(p)"
   ]
  },
  {
   "cell_type": "markdown",
   "id": "9641f5b30cb6f9a6",
   "metadata": {},
   "source": [
    "* Outlier detection"
   ]
  },
  {
   "cell_type": "code",
   "execution_count": 6,
   "id": "ed8c4bf0f3e87ac",
   "metadata": {
    "ExecuteTime": {
     "end_time": "2025-05-14T15:27:41.003143Z",
     "start_time": "2025-05-14T15:27:40.897065Z"
    }
   },
   "outputs": [
    {
     "name": "stderr",
     "output_type": "stream",
     "text": [
      "BokehDeprecationWarning: 'circle() method with size value' was deprecated in Bokeh 3.4.0 and will be removed, use 'scatter(size=...) instead' instead.\n",
      "BokehDeprecationWarning: 'circle() method with size value' was deprecated in Bokeh 3.4.0 and will be removed, use 'scatter(size=...) instead' instead.\n"
     ]
    },
    {
     "data": {
      "text/html": [
       "\n",
       "  <div id=\"d17e7e0b-004a-449d-acf4-172f97f4aa53\" data-root-id=\"p1212\" style=\"display: contents;\"></div>\n"
      ]
     },
     "metadata": {},
     "output_type": "display_data"
    },
    {
     "data": {
      "application/javascript": [
       "(function(root) {\n",
       "  function embed_document(root) {\n",
       "  const docs_json = {\"cbfd2a61-65ff-4ac0-8990-f56b71e5d1da\":{\"version\":\"3.7.3\",\"title\":\"Bokeh Application\",\"roots\":[{\"type\":\"object\",\"name\":\"Figure\",\"id\":\"p1212\",\"attributes\":{\"width\":800,\"height\":400,\"x_range\":{\"type\":\"object\",\"name\":\"DataRange1d\",\"id\":\"p1213\"},\"y_range\":{\"type\":\"object\",\"name\":\"DataRange1d\",\"id\":\"p1214\"},\"x_scale\":{\"type\":\"object\",\"name\":\"LinearScale\",\"id\":\"p1222\"},\"y_scale\":{\"type\":\"object\",\"name\":\"LinearScale\",\"id\":\"p1223\"},\"title\":{\"type\":\"object\",\"name\":\"Title\",\"id\":\"p1215\",\"attributes\":{\"text\":\"Air Passengers with Outliers Highlighted\"}},\"renderers\":[{\"type\":\"object\",\"name\":\"GlyphRenderer\",\"id\":\"p1270\",\"attributes\":{\"data_source\":{\"type\":\"object\",\"name\":\"ColumnDataSource\",\"id\":\"p1261\",\"attributes\":{\"selected\":{\"type\":\"object\",\"name\":\"Selection\",\"id\":\"p1262\",\"attributes\":{\"indices\":[],\"line_indices\":[]}},\"selection_policy\":{\"type\":\"object\",\"name\":\"UnionRenderers\",\"id\":\"p1263\"},\"data\":{\"type\":\"map\",\"entries\":[[\"index\",{\"type\":\"ndarray\",\"array\":{\"type\":\"bytes\",\"data\":\"AAAAAAEAAAACAAAAAwAAAAQAAAAFAAAABgAAAAcAAAAIAAAACQAAAAoAAAALAAAADAAAAA0AAAAOAAAADwAAABAAAAARAAAAEgAAABMAAAAUAAAAFQAAABYAAAAXAAAAGAAAABkAAAAaAAAAGwAAABwAAAAdAAAAHgAAAB8AAAAgAAAAIQAAACIAAAAjAAAAJAAAACUAAAAmAAAAJwAAACgAAAApAAAAKgAAACsAAAAsAAAALQAAAC4AAAAvAAAAMAAAADEAAAAyAAAAMwAAADQAAAA1AAAANgAAADcAAAA4AAAAOQAAADoAAAA7AAAAPAAAAD0AAAA+AAAAPwAAAEAAAABBAAAAQgAAAEMAAABEAAAARQAAAEYAAABHAAAASAAAAEkAAABKAAAASwAAAEwAAABNAAAATgAAAE8AAABQAAAAUQAAAFIAAABTAAAAVAAAAFUAAABWAAAAVwAAAFgAAABZAAAAWgAAAFsAAABcAAAAXQAAAF4AAABfAAAAYAAAAGEAAABiAAAAYwAAAGQAAABlAAAAZgAAAGcAAABoAAAAaQAAAGoAAABrAAAAbAAAAG0AAABuAAAAbwAAAHAAAABxAAAAcgAAAHMAAAB0AAAAdQAAAHYAAAB3AAAAeAAAAHkAAAB6AAAAewAAAHwAAAB9AAAAfgAAAH8AAACAAAAAgQAAAIIAAACDAAAAhAAAAIUAAACGAAAAhwAAAIgAAACJAAAAigAAAIsAAACMAAAAjQAAAI4AAACPAAAA\"},\"shape\":[144],\"dtype\":\"int32\",\"order\":\"little\"}],[\"Date\",{\"type\":\"ndarray\",\"array\":{\"type\":\"bytes\",\"data\":\"AACATlRCY8IAAAAgpiZjwgAAAHXpFWPCAAAAVOYMY8IAAIBgW+1iwgAAAOr522LCAACAZgjRYsIAAIDVa7NiwgAAABdXrGLCAACA6KiQYsIAAIB4D3xiwgAAgDYJamLCAACAxm9VYsIAAIBW1kBiwgAAgH2GLWLCAAAAT9gRYsIAAIDL5gZiwgAAgJZw7mHCAACA+EPXYcIAAAD/C9RhwgAAAGHfvGHCAACABJ6eYcIAAIDwKo9hwgAAgEVufmHCAACASxtiYcIAAABS415hwgAAAEsASWHCAAAAjNAoYcIAAABePSZhwgAAAKyd/2DCAAAAuS35YMIAAAA8BOtgwgAAAHBE0WDCAACAJ3bCYMIAAIDR/KBgwgAAgOsclGDCAACA16mEYMIAAAAFIm5gwgAAgI7AXGDCAACATLpKYMIAAABMnzFgwgAAgOLNGWDCAACAZaQLYMIAAADXot5fwgAAAIEpvV/CAAAA3BmQX8IAAABLfXJfwgAAAA8kRF/CAAAAfocmX8IAAAC/VwZfwgAAAL4h1F7CAAAAIPW8XsIAAAD+u4FewgAAAPfYa17CAAAAAzMzXsIAAABeIwZewgAAAGTQ6V3CAAAAuRPZXcIAAAC43aZdwgAAAGJkhV3CAAAAnFFPXcIAAAC8HiZdwgAAAM9bA13CAAAAbFLoXMIAAABrHLZcwgAAAF1WilzCAAAAspl5XMIAAABizTtcwgAAACDHKVzCAAAALCHxW8IAAAA/Xs5bwgAAAPZ0plvCAAAA9T50W8IAAAAinERbwgAAAMZ1P1vCAAAAAGMJW8IAAACWdthawgAAAED9tlrCAAAARqqaWsIAAAChmm1awgAAAEQ+NlrCAAAAphEfWsIAAABQmP1ZwgAAAELS0VnCAAAAiU+VWcIAAAD/lY1ZwgAAAOQ/aFnCAAAAEZ04WcIAAACnsAdZwgAAAHjn0ljCAAAAXZGtWMIAAADM9I9YwgAAAAbiWVjCAAAATpVPWMIAAACVEhNYwgAAAPAC5lfCAAAAyBzHV8IAAACtxqFXwgAAAGvAj1fCAAAAi41mV8IAAAC46jZXwgAAADTeElfCAAAAOov2VsIAAACOmLNWwgAAAOPbolbCAAAAN+lfVsIAAACmTEJWwgAAAHeDDVbCAAAA2Vb2VcIAAACxcNdVwgAAAP/QsFXCAAAAnMeVVcIAAAB6jlpVwgAAAI3LN1XCAAAAcnUSVcIAAAA2HORUwgAAAHAJrlTCAAAAaSaYVMIAAAAtzWlUwgAAAIi9PFTCAAAAm/oZVMIAAAD26uxTwgAAABAL4FPCAAAA9bS6U8IAAACLyIlTwgAAAFz/VFPCAAAAt+8nU8IAAADyEiRTwgAAALa59VLCAAAAwhO9UsIAAACTSohSwgAAAAKualLCAAAAfqFGUsIAAABJKy5SwgAAAJCo8VHCAAAAxOjXUcIAAAD+1aFRwgAAAHQcmlHCAAAAwnxzUcIAAAA3jTlRwgAAABw3FFHCAAAA4N3lUMIAAAANO7ZQwgAAAFXuq1DC\"},\"shape\":[144],\"dtype\":\"float64\",\"order\":\"little\"}],[\"#Passengers\",{\"type\":\"ndarray\",\"array\":{\"type\":\"bytes\",\"data\":\"cAAAAHYAAACEAAAAgQAAAHkAAACHAAAAlAAAAJQAAACIAAAAdwAAAGgAAAB2AAAAcwAAAH4AAACNAAAAhwAAAH0AAACVAAAAqgAAAKoAAACeAAAAhQAAAHIAAACMAAAAkQAAAJYAAACyAAAAowAAAKwAAACyAAAAxwAAAMcAAAC4AAAAogAAAJIAAACmAAAAqwAAALQAAADBAAAAtQAAALcAAADaAAAA5gAAAPIAAADRAAAAvwAAAKwAAADCAAAAxAAAAMQAAADsAAAA6wAAAOUAAADzAAAACAEAABABAADtAAAA0wAAALQAAADJAAAAzAAAALwAAADrAAAA4wAAAOoAAAAIAQAALgEAACUBAAADAQAA5QAAAMsAAADlAAAA8gAAAOkAAAALAQAADQEAAA4BAAA7AQAAbAEAAFsBAAA4AQAAEgEAAO0AAAAWAQAAHAEAABUBAAA9AQAAOQEAAD4BAAB2AQAAnQEAAJUBAABjAQAAMgEAAA8BAAAyAQAAOwEAAC0BAABkAQAAXAEAAGMBAACmAQAA0QEAANMBAACUAQAAWwEAADEBAABQAQAAVAEAAD4BAABqAQAAXAEAAGsBAACzAQAA6wEAAPkBAACUAQAAZwEAADYBAABRAQAAaAEAAFYBAACWAQAAjAEAAKQBAADYAQAAJAIAAC8CAADPAQAAlwEAAGoBAACVAQAAoQEAAIcBAACjAQAAzQEAANgBAAAXAgAAbgIAAF4CAAD8AQAAzQEAAIYBAACwAQAA\"},\"shape\":[144],\"dtype\":\"int32\",\"order\":\"little\"}],[\"Month\",{\"type\":\"ndarray\",\"array\":[\"January\",\"February\",\"March\",\"April\",\"May\",\"June\",\"July\",\"August\",\"September\",\"October\",\"November\",\"December\",\"January\",\"February\",\"March\",\"April\",\"May\",\"June\",\"July\",\"August\",\"September\",\"October\",\"November\",\"December\",\"January\",\"February\",\"March\",\"April\",\"May\",\"June\",\"July\",\"August\",\"September\",\"October\",\"November\",\"December\",\"January\",\"February\",\"March\",\"April\",\"May\",\"June\",\"July\",\"August\",\"September\",\"October\",\"November\",\"December\",\"January\",\"February\",\"March\",\"April\",\"May\",\"June\",\"July\",\"August\",\"September\",\"October\",\"November\",\"December\",\"January\",\"February\",\"March\",\"April\",\"May\",\"June\",\"July\",\"August\",\"September\",\"October\",\"November\",\"December\",\"January\",\"February\",\"March\",\"April\",\"May\",\"June\",\"July\",\"August\",\"September\",\"October\",\"November\",\"December\",\"January\",\"February\",\"March\",\"April\",\"May\",\"June\",\"July\",\"August\",\"September\",\"October\",\"November\",\"December\",\"January\",\"February\",\"March\",\"April\",\"May\",\"June\",\"July\",\"August\",\"September\",\"October\",\"November\",\"December\",\"January\",\"February\",\"March\",\"April\",\"May\",\"June\",\"July\",\"August\",\"September\",\"October\",\"November\",\"December\",\"January\",\"February\",\"March\",\"April\",\"May\",\"June\",\"July\",\"August\",\"September\",\"October\",\"November\",\"December\",\"January\",\"February\",\"March\",\"April\",\"May\",\"June\",\"July\",\"August\",\"September\",\"October\",\"November\",\"December\"],\"shape\":[144],\"dtype\":\"object\",\"order\":\"little\"}],[\"Year\",{\"type\":\"ndarray\",\"array\":{\"type\":\"bytes\",\"data\":\"nQcAAJ0HAACdBwAAnQcAAJ0HAACdBwAAnQcAAJ0HAACdBwAAnQcAAJ0HAACdBwAAngcAAJ4HAACeBwAAngcAAJ4HAACeBwAAngcAAJ4HAACeBwAAngcAAJ4HAACeBwAAnwcAAJ8HAACfBwAAnwcAAJ8HAACfBwAAnwcAAJ8HAACfBwAAnwcAAJ8HAACfBwAAoAcAAKAHAACgBwAAoAcAAKAHAACgBwAAoAcAAKAHAACgBwAAoAcAAKAHAACgBwAAoQcAAKEHAAChBwAAoQcAAKEHAAChBwAAoQcAAKEHAAChBwAAoQcAAKEHAAChBwAAogcAAKIHAACiBwAAogcAAKIHAACiBwAAogcAAKIHAACiBwAAogcAAKIHAACiBwAAowcAAKMHAACjBwAAowcAAKMHAACjBwAAowcAAKMHAACjBwAAowcAAKMHAACjBwAApAcAAKQHAACkBwAApAcAAKQHAACkBwAApAcAAKQHAACkBwAApAcAAKQHAACkBwAApQcAAKUHAAClBwAApQcAAKUHAAClBwAApQcAAKUHAAClBwAApQcAAKUHAAClBwAApgcAAKYHAACmBwAApgcAAKYHAACmBwAApgcAAKYHAACmBwAApgcAAKYHAACmBwAApwcAAKcHAACnBwAApwcAAKcHAACnBwAApwcAAKcHAACnBwAApwcAAKcHAACnBwAAqAcAAKgHAACoBwAAqAcAAKgHAACoBwAAqAcAAKgHAACoBwAAqAcAAKgHAACoBwAA\"},\"shape\":[144],\"dtype\":\"int32\",\"order\":\"little\"}],[\"Rolling_Mean\",{\"type\":\"ndarray\",\"array\":{\"type\":\"bytes\",\"data\":\"AAAAAAAA+H8AAAAAAAD4fwAAAAAAAPh/AAAAAAAA+H8AAAAAAAD4fwAAAAAAAPh/AAAAAAAA+H8AAAAAAAD4fwAAAAAAAPh/AAAAAAAA+H8AAAAAAAD4f6uqqqqqql9Aq6qqqqq6X0BVVVVVVeVfQKuqqqqqCmBAq6qqqqoaYEBVVVVVVSVgQKuqqqqqSmBAVVVVVVWFYEAAAAAAAMBgQKuqqqqq+mBAAAAAAAAgYUCrqqqqqjphQFVVVVVVdWFAVVVVVVXFYUBVVVVVVQViQAAAAAAAaGJAq6qqqqqyYkAAAAAAADBjQFVVVVVVfWNAq6qqqqrKY0AAAAAAABhkQFVVVVVVXWRAq6qqqqqqZEAAAAAAAABlQFVVVVVVRWVAq6qqqqqKZUCrqqqqqtplQKuqqqqqAmZAq6qqqqoyZkAAAAAAAFBmQKuqqqqqumZAVVVVVVUNZ0AAAAAAAIBnQKuqqqqqwmdAAAAAAAAQaEBVVVVVVVVoQAAAAAAAoGhAq6qqqqriaEBVVVVVVQ1pQAAAAAAAgGlAAAAAAAAQakCrqqqqqopqQFVVVVVVzWpAAAAAAAAoa0AAAAAAAHhrQKuqqqqqwmtAAAAAAAD4a0BVVVVVVQ1sQAAAAAAAIGxAVVVVVVU1bEAAAAAAACBsQFVVVVVVHWxAAAAAAAAIbEBVVVVVVRVsQFVVVVVVTWxAq6qqqqqybECrqqqqqupsQFVVVVVVJW1AVVVVVVVVbUCrqqqqqpJtQFVVVVVV3W1Aq6qqqqpCbkCrqqqqqrpuQAAAAAAAEG9AAAAAAACAb0AAAAAAAOBvQAAAAAAANHBAq6qqqqqGcECrqqqqqs5wQFVVVVVVFXFAVVVVVVVRcUCrqqqqqn5xQAAAAAAAwHFAAAAAAAD4cUCrqqqqqjJyQFVVVVVVdXJAAAAAAACwckAAAAAAAPByQKuqqqqqPnNAAAAAAACAc0BVVVVVVc1zQKuqqqqqBnRAVVVVVVUxdECrqqqqql50QAAAAAAAhHRAVVVVVVWtdEBVVVVVVc10QFVVVVVVAXVAAAAAAAAwdUBVVVVVVWF1QFVVVVVVoXVAq6qqqqrmdUBVVVVVVTl2QKuqqqqqenZAVVVVVVWxdkCrqqqqqt52QKuqqqqqBndAAAAAAAAod0Crqqqqqj53QKuqqqqqRndAq6qqqqpGd0BVVVVVVVF3QKuqqqqqYndAVVVVVVWFd0AAAAAAALh3QAAAAAAAuHdAAAAAAADId0Crqqqqqs53QAAAAAAA0HdAq6qqqqrqd0Crqqqqqgp4QFVVVVVVRXhAVVVVVVWFeEBVVVVVVdF4QKuqqqqqAnlAq6qqqqpOeUCrqqqqqpZ5QFVVVVVV5XlAVVVVVVUlekCrqqqqqmp6QFVVVVVVxXpAVVVVVVURe0CrqqqqqlJ7QAAAAAAAZHtAq6qqqqq6e0AAAAAAAAB8QAAAAAAAVHxAq6qqqqq2fEBVVVVVVfV8QFVVVVVVMX1AVVVVVVV5fUCrqqqqqp59QKuqqqqqwn1A\"},\"shape\":[144],\"dtype\":\"float64\",\"order\":\"little\"}],[\"Rolling_Std\",{\"type\":\"ndarray\",\"array\":{\"type\":\"bytes\",\"data\":\"AAAAAAAA+H8AAAAAAAD4fwAAAAAAAPh/AAAAAAAA+H8AAAAAAAD4fwAAAAAAAPh/AAAAAAAA+H8AAAAAAAD4fwAAAAAAAPh/AAAAAAAA+H8AAAAAAAD4f2KD+Q+3cCtAu1jdgRzoKkBqWNYxPFUqQOLzmGu7XytAfCG0cxqlK0AawYHK0VMrQNofUMt8hS1AnBSHYJAiMkA4Ja7YN8w0QCL2w5PP7TVA20eFvdhQNUAswbxKOxE0QM4Xyp8iEjNAVOA67J9wMUDOgwef98cwQFGiZGdcWTNAQgDhtPdsM0B6eFRppL4yQILWmJxi8TNAHH807z1IN0BbePwsd/Q5QFoIL77WxjpAToDG+SUWOUDxLxJfZWU0QLfxT0cycDJArjfngECnMEDZJw0wjl0uQM1+JhkvDzBAAyeO1jgeL0C2pzOgYAwvQGvzyuDkQDNA6DIkbEdmN0DQ+9BvMY88QLjmWtqWJT1AiaDyRdbGO0C0PdCurKg4QDewT5Zk9zZAFEjU5Kx6NUBTiL7CDqs0QOx4gCwK4DZADZwE2Gc/N0AAus2xa3A2QGrRAON/HDhAINKHWj7SO0C8k3e7f14/QPve7A+piT9ALlFqb3I/PkAXaKXSmRE9QIKGauKFdzxAxoRGbujPO0AYdz2qqKs8QNI7i8wYozxARPRKkkJ5PEBuNOwP+5U8QIum1MJPZT5AyC5SmgYOQkB9M30nuWFDQLYzkbWryENAQjMYTHV+Q0Agm1nxwkVCQFIPm4tVdkFAfkR15fuSQEAR8KNtT7k8QOdjWOsIHD1A5Gy3ohjQPEA4kyOCWaQ8QARpMSjJvEBAOAQhW8jsRUCRZx+/FLtIQBkrLzraa0lAUYGhTOpySEDXgSkkMYZGQFZ/P4X6EUVAL2sgKFgDREDXwFjdhzdCQNp6676GI0JAnFIhkanLQUAge7l/c1xBQBqts4T3JkRAxDYktdkaSED2zIWg8ENLQGx+6/cey0tAgmSqVCjzSkDR5hCip9hIQCfi789O7kdAMyWzvIoHR0DJc4j91v1FQGOcE9HdEkZAaX5Q+4bRRUBERhGzgalFQCxFI2HHOUhAZ1qHPwlPTEDqEoFyhhZQQEf3ckJSdlBAOv7EHg/sT0BpkryWYgNOQPGuUfEI8kxAh5+PyxkcTEBq8+s7lz9LQC8a8rGzLktALxrysbMuS0BhJWcKHhdLQN0k9D6srktALtYfj4XLTUA14wPEpmNQQDXjA8SmY1BAlgkvGMxGUEBAp8rq9CVQQGp/4kDzIVBA6wJgCEnQT0Ac9eoKOeFOQFkI0lR4zE5A0uG5VXAkTkCcxrP6DgFOQIVkAXIrgU9AWailmDr/UUCL+5XdKANUQJWisqIRX1RAnS7zCYzrU0BK15Is659SQJWve04gdVFA5no8KfanUEDaLHj93u5OQH0cVqn9sE5A7JGkzPIVTkAsyznQnxdOQCOoVvtlQVBATKNu23JMU0AbtJIeWuhUQJ8EmnGBJ1VAWqaqYa+iVEBRif8HJ+BTQOBRaQ4tb1NA\"},\"shape\":[144],\"dtype\":\"float64\",\"order\":\"little\"}],[\"Upper_Band\",{\"type\":\"ndarray\",\"array\":{\"type\":\"bytes\",\"data\":\"AAAAAAAA+H8AAAAAAAD4fwAAAAAAAPh/AAAAAAAA+H8AAAAAAAD4fwAAAAAAAPh/AAAAAAAA+H8AAAAAAAD4fwAAAAAAAPh/AAAAAAAA+H8AAAAAAAD4f4ztVMZgjGFA4SpzHdeLYUAxEMht/pdhQOk5ZGGmwGFAw+zlUfzUYUBncf1xktphQKmsX3cCI2JA6DdmYafJYkCnxBX7hlljQG8pI51kuGNA+6iwFxvKY0DQQgIU0rxjQE+YTqmZ12NAYLHcUmnzY0DPRTZJVB5kQEqU7Iwr02RAs8pGoUkgZUAPjyqN1IdlQCVw6KiB+2VAjjqRaLKzZkALj5/ljlZnQGA2Gy0wtmdAtXrjaW/NZ0D+ReKrrIxnQIxTP55bk2dAoZHHupKfZ0ApfauNg8BnQIV6z42QBGhAG40TOI4kaEB7OgMKxkBoQBgJxEbHImlAstvZQh76aUB6H/ot5hFrQIIH9oVdZ2tAEVS+yNqIa0AMXS/ramprQAf2yZLsfmtArjNFRwCSa0BfJq0tt6JrQB4PkEUBXGxAgpMA++z3bEDrYeQguFhtQIJvtVHl0G1ARPpQy0eibkB48m73z2NvQIpGqMzfs29AJkrtTe6/b0BYAqqPiK9vQNBQTbzwrm9A7iUeY1Kvb0DjrkcVdbVvQM+85m64sW9AiF5JUiiXb0Dj21K3FKhvQBP116b/DHBALpufKBabcEDF+0R6jOFwQCHRXCHAC3FAE7EtVHkacUC6iICzDRJxQJUMHlx1HXFA5f0D0rQzcUBXlC9M6ihxQD6GtY7AWXFAznYrigGNcUA0OSKYRbpxQCAtBiWZS3JAMssOtkNEc0Cdl45CDeZzQLg6m5zQQnRAf4XpnrJfdEDm2i/PcE90QOvvp1A/YnRAZg0EBWt4dEDGwlWmm3l0QLDEMi3GuXRAVCokMnXpdEBkL/dvjht1QE4gQZuJw3VA2IakNluDdkD0DmZp0zV3QHgaqIkOgHdA5aHqX7qPd0CFx+yev3l3QEX8/dnJgXdA+7nrrEaOd0DOYwY1EI13QOHIdw+xw3dAzQ9q3zDqd0AefreLhRZ4QPq9eUGOqHhA+JWb0otweUAQmvXx9j56QH1oRzs/mHpAHPUtOdeuekD4PIL9Fp96QIng1MjrpHpA8fNxOYOrekAYKSiSnaZ6QPHt6CCBrHpA8e3oIIGsekABOqIWObR6QEcviTKA2HpAG1A5B8Y+e0DN+ACx6dB7QM34ALHp0HtAZsILBrPZe0B7VF3lJ9h7QNqfONB82HtACKu2y7Pke0BOCQjM0eZ7QGCW71/kHnxAj5EMYONJfEAozqs0d5F8QDzX6hjQ8nxAwRTUUHnOfUCOKRDidJd+QPr9Ab4Z/X5A/CDSVzggf0B+YM91pRJ/QDpB9GidIn9ADnSk31I7f0BGsFmKhjB/QJDDKrUfOn9A6Dw/BGl9f0BmOQf688J/QATVar8sMoBAvynDsOPEgEAuAX3utReBQD7r3diaPYFAdv/flgBRgUCARlU2WkuBQJJ/Ivc6T4FA\"},\"shape\":[144],\"dtype\":\"float64\",\"order\":\"little\"}],[\"Lower_Band\",{\"type\":\"ndarray\",\"array\":{\"type\":\"bytes\",\"data\":\"AAAAAAAA+H8AAAAAAAD4fwAAAAAAAPh/AAAAAAAA+H8AAAAAAAD4fwAAAAAAAPh/AAAAAAAA+H8AAAAAAAD4fwAAAAAAAPh/AAAAAAAA+H8AAAAAAAD4fz96q8iTPFxAlP9uGqddXEBIihrPrZpcQNo24uddqVxAJtHeBrLAXECHclpxMOBcQFtR67ul5FxAg+WIkgaCXECydtQJ8kxcQM5XZHDheVxACa6e0MnrXEALJaaCBnFdQLYkuAIiJl5AlfKbr4IuX0C2yejCrNhfQGzXJuao+V9Ao4oOtAtFYEDxcNVyK9hgQIU6wgEp/2BAyBrE7KLhYED1cGAacdlgQEp0j316BGFAodpx6+WHYUACuh1UU3NiQB5XawxP92JAtcONmsJ1Y0At2KnH0fRjQNHahcfEAGRAO8hBHcdAZECFxfz1OV9kQD5MkQ6OUmRA+M7QZ4wgZECG4AXSGe5jQNRNX8/3HWRA76tBNyWXZECeTXu/P0BlQPkJNm0TwWVAqCEQDlUzZkBLhP1883dmQOLwb7r+o2ZAfmz/BBMoZ0Br83A0nbxnQCg79VjFyWdAvAWvNLitZ0CIDZEIMIxnQMwOrYh10WdA2rUSshEwaEBSqAAbImtoQDCvskMPkWhAvISMR1i7aEAdUbjqiopoQNvtwzvyiGhAeKG2rdd4aEDHzlfzlYJoQITA+lyrgGhA+R4WBCkvaEDMXctgPBJoQGgI8WcqM2hAhEhPArh1aEDjQ1TuOQFpQICRbvK/f2lAjFlNsesdakCpLPa8gCNrQIPzlOJ+bGtAZBKp6/zla0CZjbvPdEtsQL+l87XNOGxASBSNPiOSa0Bye40lkG5rQOTfHhy0z2tAVkqCF/CFbEDg9EoMyVttQCogsF6BO25ANOX39SnvbkAgJf9dc9dvQPrld33kMHBArNXbzYp2cECc0AiQccRwQAg1FLrLuXBAKHlbyaR8cEC2m0RB12RwQN46rctGjXBAxQjASvDScEDRjWi2lUNxQLsDAiY2hnFAr/C+/WPMcUDcRqR1mg1yQMnhMpv5PnJAM/CVIM91ckCMLPMeJaxyQLDsMGkcmnJAXr+5gslcckCaELW4szNyQNnsDRoWXXJAjrV8cdOzckBeGNNXPh5zQM10gIxpaHNADwyOxnykc0A+LC3Dt9ZzQGVnbDTU4HNAZWdsNNTgc0CpcAiUce5zQA8mzCLV7HNAj1pxo+TLc0AzB/9OFp9zQDMH/04Wn3NAmj30+Uy2c0DbAPhvLcVzQCZgxy+Dx3NATqqeiaHwc0AITE2Jgy50QEoUu0rGa3RAGxmeSsfAdECC3P51MxF1QBp+ajyFEnVAlUCBBNzOdEDIK0Vz4JV0QLCsqOyQzXRAronYUnIqdUDY9IXfr8J1QHBptkENaHZAnDYGy1fndkAQpfvKznR3QHA81UrgjXdAbhgWUez3d0CaxvgFDD14QPdVKoGmQ3hA2AHP843jd0BOqLDNPrt3QC3U7vh053dAvqvqfKlQeEBXyKrooKZ4QDNWEGff5nhA\"},\"shape\":[144],\"dtype\":\"float64\",\"order\":\"little\"}],[\"Is_Outlier\",{\"type\":\"ndarray\",\"array\":{\"type\":\"bytes\",\"data\":\"AAAAAAAAAAAAAAAAAAAAAAABAQEBAAEAAAABAAABAQEAAAEAAAABAAABAQEAAAAAAAABAQABAQEAAAEAAAEAAAABAQEAAAAAAAAAAAABAQEAAAAAAAAAAAABAQEAAAEAAAAAAAABAQEAAAEAAAAAAAABAQEAAAEAAAAAAAABAQEAAAAAAAAAAAABAQEAAAEA\"},\"shape\":[144],\"dtype\":\"bool\",\"order\":\"little\"}]]}}},\"view\":{\"type\":\"object\",\"name\":\"CDSView\",\"id\":\"p1271\",\"attributes\":{\"filter\":{\"type\":\"object\",\"name\":\"AllIndices\",\"id\":\"p1272\"}}},\"glyph\":{\"type\":\"object\",\"name\":\"Line\",\"id\":\"p1267\",\"attributes\":{\"x\":{\"type\":\"field\",\"field\":\"Date\"},\"y\":{\"type\":\"field\",\"field\":\"#Passengers\"},\"line_color\":\"#1f77b4\",\"line_width\":2}},\"nonselection_glyph\":{\"type\":\"object\",\"name\":\"Line\",\"id\":\"p1268\",\"attributes\":{\"x\":{\"type\":\"field\",\"field\":\"Date\"},\"y\":{\"type\":\"field\",\"field\":\"#Passengers\"},\"line_color\":\"#1f77b4\",\"line_alpha\":0.1,\"line_width\":2}},\"muted_glyph\":{\"type\":\"object\",\"name\":\"Line\",\"id\":\"p1269\",\"attributes\":{\"x\":{\"type\":\"field\",\"field\":\"Date\"},\"y\":{\"type\":\"field\",\"field\":\"#Passengers\"},\"line_color\":\"#1f77b4\",\"line_alpha\":0.2,\"line_width\":2}}}},{\"type\":\"object\",\"name\":\"GlyphRenderer\",\"id\":\"p1279\",\"attributes\":{\"data_source\":{\"type\":\"object\",\"name\":\"ColumnDataSource\",\"id\":\"p1206\",\"attributes\":{\"selected\":{\"type\":\"object\",\"name\":\"Selection\",\"id\":\"p1207\",\"attributes\":{\"indices\":[],\"line_indices\":[]}},\"selection_policy\":{\"type\":\"object\",\"name\":\"UnionRenderers\",\"id\":\"p1208\"},\"data\":{\"type\":\"map\",\"entries\":[[\"index\",{\"type\":\"ndarray\",\"array\":{\"type\":\"bytes\",\"data\":\"CwAAAAwAAAANAAAADgAAAA8AAAAQAAAAFQAAABcAAAAYAAAAGQAAABsAAAAcAAAAIAAAACEAAAAjAAAAJAAAACUAAAAnAAAAKAAAACwAAAAtAAAALgAAAC8AAAAwAAAAMQAAADQAAAA4AAAAOQAAADsAAAA8AAAAPgAAAD8AAABAAAAARAAAAEUAAABGAAAARwAAAEgAAABJAAAASgAAAEsAAABMAAAAUAAAAFEAAABSAAAAUwAAAFQAAABVAAAAVgAAAFcAAABYAAAAXAAAAF0AAABfAAAAYAAAAGEAAABiAAAAYwAAAGQAAABoAAAAaQAAAGsAAABsAAAAbQAAAG4AAABvAAAAcAAAAHQAAAB1AAAAdwAAAHgAAAB5AAAAegAAAHsAAAB8AAAAgAAAAIEAAACCAAAAgwAAAIQAAACFAAAAhgAAAIcAAACIAAAAjAAAAI0AAACPAAAA\"},\"shape\":[87],\"dtype\":\"int32\",\"order\":\"little\"}],[\"Date\",{\"type\":\"ndarray\",\"array\":{\"type\":\"bytes\",\"data\":\"AACANglqYsIAAIDGb1ViwgAAgFbWQGLCAACAfYYtYsIAAABP2BFiwgAAgMvmBmLCAACABJ6eYcIAAIBFbn5hwgAAgEsbYmHCAAAAUuNeYcIAAACM0ChhwgAAAF49JmHCAAAAcETRYMIAAIAndsJgwgAAgOsclGDCAACA16mEYMIAAAAFIm5gwgAAgEy6SmDCAAAATJ8xYMIAAACBKb1fwgAAANwZkF/CAAAAS31yX8IAAAAPJERfwgAAAH6HJl/CAAAAv1cGX8IAAAD+u4FewgAAAGTQ6V3CAAAAuRPZXcIAAABiZIVdwgAAAJxRT13CAAAAz1sDXcIAAABsUuhcwgAAAGsctlzCAAAAIMcpXMIAAAAsIfFbwgAAAD9ezlvCAAAA9nSmW8IAAAD1PnRbwgAAACKcRFvCAAAAxnU/W8IAAAAAYwlbwgAAAJZ22FrCAAAARD42WsIAAACmER9awgAAAFCY/VnCAAAAQtLRWcIAAACJT5VZwgAAAP+VjVnCAAAA5D9oWcIAAAARnThZwgAAAKewB1nCAAAABuJZWMIAAABOlU9YwgAAAPAC5lfCAAAAyBzHV8IAAACtxqFXwgAAAGvAj1fCAAAAi41mV8IAAAC46jZXwgAAAOPbolbCAAAAN+lfVsIAAAB3gw1WwgAAANlW9lXCAAAAsXDXVcIAAAD/0LBVwgAAAJzHlVXCAAAAeo5aVcIAAABwCa5UwgAAAGkmmFTCAAAAiL08VMIAAACb+hlUwgAAAPbq7FPCAAAAEAvgU8IAAAD1tLpTwgAAAIvIiVPCAAAAtrn1UsIAAADCE71SwgAAAJNKiFLCAAAAAq5qUsIAAAB+oUZSwgAAAEkrLlLCAAAAkKjxUcIAAADE6NdRwgAAAP7VoVHCAAAAHDcUUcIAAADg3eVQwgAAAFXuq1DC\"},\"shape\":[87],\"dtype\":\"float64\",\"order\":\"little\"}],[\"#Passengers\",{\"type\":\"ndarray\",\"array\":{\"type\":\"bytes\",\"data\":\"dgAAAHMAAAB+AAAAjQAAAIcAAAB9AAAAhQAAAIwAAACRAAAAlgAAAKMAAACsAAAAuAAAAKIAAACmAAAAqwAAALQAAAC1AAAAtwAAANEAAAC/AAAArAAAAMIAAADEAAAAxAAAAOUAAADtAAAA0wAAAMkAAADMAAAA6wAAAOMAAADqAAAAAwEAAOUAAADLAAAA5QAAAPIAAADpAAAACwEAAA0BAAAOAQAAOAEAABIBAADtAAAAFgEAABwBAAAVAQAAPQEAADkBAAA+AQAAYwEAADIBAAAyAQAAOwEAAC0BAABkAQAAXAEAAGMBAACUAQAAWwEAAFABAABUAQAAPgEAAGoBAABcAQAAawEAAJQBAABnAQAAUQEAAGgBAABWAQAAlgEAAIwBAACkAQAAzwEAAJcBAABqAQAAlQEAAKEBAACHAQAAowEAAM0BAADYAQAA/AEAAM0BAACwAQAA\"},\"shape\":[87],\"dtype\":\"int32\",\"order\":\"little\"}],[\"Month\",{\"type\":\"ndarray\",\"array\":[\"December\",\"January\",\"February\",\"March\",\"April\",\"May\",\"October\",\"December\",\"January\",\"February\",\"April\",\"May\",\"September\",\"October\",\"December\",\"January\",\"February\",\"April\",\"May\",\"September\",\"October\",\"November\",\"December\",\"January\",\"February\",\"May\",\"September\",\"October\",\"December\",\"January\",\"March\",\"April\",\"May\",\"September\",\"October\",\"November\",\"December\",\"January\",\"February\",\"March\",\"April\",\"May\",\"September\",\"October\",\"November\",\"December\",\"January\",\"February\",\"March\",\"April\",\"May\",\"September\",\"October\",\"December\",\"January\",\"February\",\"March\",\"April\",\"May\",\"September\",\"October\",\"December\",\"January\",\"February\",\"March\",\"April\",\"May\",\"September\",\"October\",\"December\",\"January\",\"February\",\"March\",\"April\",\"May\",\"September\",\"October\",\"November\",\"December\",\"January\",\"February\",\"March\",\"April\",\"May\",\"September\",\"October\",\"December\"],\"shape\":[87],\"dtype\":\"object\",\"order\":\"little\"}],[\"Year\",{\"type\":\"ndarray\",\"array\":{\"type\":\"bytes\",\"data\":\"nQcAAJ4HAACeBwAAngcAAJ4HAACeBwAAngcAAJ4HAACfBwAAnwcAAJ8HAACfBwAAnwcAAJ8HAACfBwAAoAcAAKAHAACgBwAAoAcAAKAHAACgBwAAoAcAAKAHAAChBwAAoQcAAKEHAAChBwAAoQcAAKEHAACiBwAAogcAAKIHAACiBwAAogcAAKIHAACiBwAAogcAAKMHAACjBwAAowcAAKMHAACjBwAAowcAAKMHAACjBwAAowcAAKQHAACkBwAApAcAAKQHAACkBwAApAcAAKQHAACkBwAApQcAAKUHAAClBwAApQcAAKUHAAClBwAApQcAAKUHAACmBwAApgcAAKYHAACmBwAApgcAAKYHAACmBwAApgcAAKcHAACnBwAApwcAAKcHAACnBwAApwcAAKcHAACnBwAApwcAAKgHAACoBwAAqAcAAKgHAACoBwAAqAcAAKgHAACoBwAA\"},\"shape\":[87],\"dtype\":\"int32\",\"order\":\"little\"}],[\"Rolling_Mean\",{\"type\":\"ndarray\",\"array\":{\"type\":\"bytes\",\"data\":\"q6qqqqqqX0CrqqqqqrpfQFVVVVVV5V9Aq6qqqqoKYECrqqqqqhpgQFVVVVVVJWBAAAAAAAAgYUBVVVVVVXVhQFVVVVVVxWFAVVVVVVUFYkCrqqqqqrJiQAAAAAAAMGNAVVVVVVVdZECrqqqqqqpkQFVVVVVVRWVAq6qqqqqKZUCrqqqqqtplQKuqqqqqMmZAAAAAAABQZkCrqqqqqsJnQAAAAAAAEGhAVVVVVVVVaEAAAAAAAKBoQKuqqqqq4mhAVVVVVVUNaUCrqqqqqopqQKuqqqqqwmtAAAAAAAD4a0AAAAAAACBsQFVVVVVVNWxAVVVVVVUdbEAAAAAAAAhsQFVVVVVVFWxAVVVVVVUlbUBVVVVVVVVtQKuqqqqqkm1AVVVVVVXdbUCrqqqqqkJuQKuqqqqqum5AAAAAAAAQb0AAAAAAAIBvQAAAAAAA4G9AVVVVVVUVcUBVVVVVVVFxQKuqqqqqfnFAAAAAAADAcUAAAAAAAPhxQKuqqqqqMnJAVVVVVVV1ckAAAAAAALByQAAAAAAA8HJAq6qqqqoGdEBVVVVVVTF0QAAAAAAAhHRAVVVVVVWtdEBVVVVVVc10QFVVVVVVAXVAAAAAAAAwdUBVVVVVVWF1QKuqqqqqenZAVVVVVVWxdkCrqqqqqgZ3QAAAAAAAKHdAq6qqqqo+d0CrqqqqqkZ3QKuqqqqqRndAVVVVVVVRd0AAAAAAALh3QAAAAAAAyHdAAAAAAADQd0Crqqqqqup3QKuqqqqqCnhAVVVVVVVFeEBVVVVVVYV4QFVVVVVV0XhAVVVVVVXleUBVVVVVVSV6QKuqqqqqanpAVVVVVVXFekBVVVVVVRF7QKuqqqqqUntAAAAAAABke0Crqqqqqrp7QAAAAAAAAHxAVVVVVVUxfUBVVVVVVXl9QKuqqqqqwn1A\"},\"shape\":[87],\"dtype\":\"float64\",\"order\":\"little\"}],[\"Rolling_Std\",{\"type\":\"ndarray\",\"array\":{\"type\":\"bytes\",\"data\":\"YoP5D7dwK0C7WN2BHOgqQGpY1jE8VSpA4vOYa7tfK0B8IbRzGqUrQBrBgcrRUytA20eFvdhQNUDOF8qfIhIzQFTgOuyfcDFAzoMHn/fHMEBCAOG092wzQHp4VGmkvjJAWggvvtbGOkBOgMb5JRY5QLfxT0cycDJArjfngECnMEDZJw0wjl0uQAMnjtY4Hi9AtqczoGAML0C45lraliU9QImg8kXWxjtAtD3QrqyoOEA3sE+WZPc2QBRI1OSsejVAU4i+wg6rNEAAus2xa3A2QPve7A+piT9ALlFqb3I/PkCChmrihXc8QMaERm7ozztA0juLzBijPEBE9EqSQnk8QG407A/7lTxAtjORtavIQ0BCMxhMdX5DQCCbWfHCRUJAUg+bi1V2QUB+RHXl+5JAQBHwo21PuTxA52NY6wgcPUDkbLeiGNA8QDiTI4JZpDxAGSsvOtprSUBRgaFM6nJIQNeBKSQxhkZAVn8/hfoRRUAvayAoWANEQNfAWN2HN0JA2nrrvoYjQkCcUiGRqctBQCB7uX9zXEFAbH7r9x7LS0CCZKpUKPNKQCfi789O7kdAMyWzvIoHR0DJc4j91v1FQGOcE9HdEkZAaX5Q+4bRRUBERhGzgalFQEf3ckJSdlBAOv7EHg/sT0DxrlHxCPJMQIefj8sZHExAavPrO5c/S0AvGvKxsy5LQC8a8rGzLktAYSVnCh4XS0A14wPEpmNQQJYJLxjMRlBAan/iQPMhUEDrAmAISdBPQBz16go54U5AWQjSVHjMTkDS4blVcCROQJzGs/oOAU5AlaKyohFfVECdLvMJjOtTQErXkizrn1JAla97TiB1UUDmejwp9qdQQNoseP3e7k5AfRxWqf2wTkDskaTM8hVOQCzLOdCfF05AnwSacYEnVUBapqphr6JUQOBRaQ4tb1NA\"},\"shape\":[87],\"dtype\":\"float64\",\"order\":\"little\"}],[\"Upper_Band\",{\"type\":\"ndarray\",\"array\":{\"type\":\"bytes\",\"data\":\"jO1UxmCMYUDhKnMd14thQDEQyG3+l2FA6TlkYabAYUDD7OVR/NRhQGdx/XGS2mFA+6iwFxvKY0BPmE6pmddjQGCx3FJp82NAz0U2SVQeZECzykahSSBlQA+PKo3Uh2VAYDYbLTC2Z0C1euNpb81nQIxTP55bk2dAoZHHupKfZ0ApfauNg8BnQBuNEziOJGhAezoDCsZAaECCB/aFXWdrQBFUvsjaiGtADF0v62pqa0AH9smS7H5rQK4zRUcAkmtAXyatLbeia0DrYeQguFhtQIpGqMzfs29AJkrtTe6/b0DQUE288K5vQO4lHmNSr29Az7zmbrixb0CIXklSKJdvQOPbUrcUqG9AIdFcIcALcUATsS1UeRpxQLqIgLMNEnFAlQweXHUdcUDl/QPStDNxQFeUL0zqKHFAPoa1jsBZcUDOdiuKAY1xQDQ5IphFunFAuDqbnNBCdEB/hemesl90QObaL89wT3RA6++nUD9idEBmDQQFa3h0QMbCVaabeXRAsMQyLca5dEBUKiQydel0QGQv92+OG3VAeBqoiQ6Ad0Dloepfuo93QEX8/dnJgXdA+7nrrEaOd0DOYwY1EI13QOHIdw+xw3dAzQ9q3zDqd0AefreLhRZ4QH1oRzs/mHpAHPUtOdeuekCJ4NTI66R6QPHzcTmDq3pAGCkokp2mekDx7egggax6QPHt6CCBrHpAATqiFjm0ekDN+ACx6dB7QGbCCwaz2XtA2p840HzYe0AIq7bLs+R7QE4JCMzR5ntAYJbvX+QefECPkQxg40l8QCjOqzR3kXxA+v0Bvhn9fkD8INJXOCB/QH5gz3WlEn9AOkH0aJ0if0AOdKTfUjt/QEawWYqGMH9AkMMqtR86f0DoPD8EaX1/QGY5B/rzwn9APuvd2Jo9gUB2/9+WAFGBQJJ/Ivc6T4FA\"},\"shape\":[87],\"dtype\":\"float64\",\"order\":\"little\"}],[\"Lower_Band\",{\"type\":\"ndarray\",\"array\":{\"type\":\"bytes\",\"data\":\"P3qryJM8XECU/24ap11cQEiKGs+tmlxA2jbi512pXEAm0d4GssBcQIdyWnEw4FxACa6e0MnrXEC2JLgCIiZeQJXym6+CLl9AtsnowqzYX0Cjig60C0VgQPFw1XIr2GBASnSPfXoEYUCh2nHr5YdhQB5XawxP92JAtcONmsJ1Y0At2KnH0fRjQDvIQR3HQGRAhcX89TlfZEDUTV/P9x1kQO+rQTcll2RAnk17vz9AZUD5CTZtE8FlQKghEA5VM2ZAS4T9fPN3ZkBr83A0nbxnQMwOrYh10WdA2rUSshEwaEAwr7JDD5FoQLyEjEdYu2hA2+3DO/KIaEB4obat13hoQMfOV/OVgmhAaAjxZyozaECESE8CuHVoQONDVO45AWlAgJFu8r9/aUCMWU2x6x1qQKks9ryAI2tAg/OU4n5sa0BkEqnr/OVrQJmNu890S2xA5N8eHLTPa0BWSoIX8IVsQOD0SgzJW21AKiCwXoE7bkA05ff1Ke9uQCAl/11z129A+uV3feQwcECs1dvNinZwQJzQCJBxxHBA3jqty0aNcEDFCMBK8NJwQLsDAiY2hnFAr/C+/WPMcUDcRqR1mg1yQMnhMpv5PnJAM/CVIM91ckCMLPMeJaxyQNnsDRoWXXJAjrV8cdOzckDNdICMaWhzQA8MjsZ8pHNAPiwtw7fWc0BlZ2w01OBzQGVnbDTU4HNAqXAIlHHuc0AzB/9OFp9zQJo99PlMtnNAJmDHL4PHc0BOqp6JofBzQAhMTYmDLnRAShS7SsZrdEAbGZ5Kx8B0QILc/nUzEXVAsKyo7JDNdECuidhScip1QNj0hd+vwnVAcGm2QQ1odkCcNgbLV+d2QBCl+8rOdHdAcDzVSuCNd0BuGBZR7Pd3QJrG+AUMPXhALdTu+HTnd0C+q+p8qVB4QDNWEGff5nhA\"},\"shape\":[87],\"dtype\":\"float64\",\"order\":\"little\"}],[\"Is_Outlier\",{\"type\":\"ndarray\",\"array\":{\"type\":\"bytes\",\"data\":\"AAAAAAAAAAAAAAAAAAAAAAAAAAAAAAAAAAAAAAAAAAAAAAAAAAAAAAAAAAAAAAAAAAAAAAAAAAAAAAAAAAAAAAAAAAAAAAAAAAAAAAAAAAAAAAAAAAAA\"},\"shape\":[87],\"dtype\":\"bool\",\"order\":\"little\"}]]}}},\"view\":{\"type\":\"object\",\"name\":\"CDSView\",\"id\":\"p1280\",\"attributes\":{\"filter\":{\"type\":\"object\",\"name\":\"AllIndices\",\"id\":\"p1281\"}}},\"glyph\":{\"type\":\"object\",\"name\":\"Scatter\",\"id\":\"p1276\",\"attributes\":{\"x\":{\"type\":\"field\",\"field\":\"Date\"},\"y\":{\"type\":\"field\",\"field\":\"#Passengers\"},\"size\":{\"type\":\"value\",\"value\":6},\"line_color\":{\"type\":\"value\",\"value\":\"blue\"},\"fill_color\":{\"type\":\"value\",\"value\":\"blue\"},\"hatch_color\":{\"type\":\"value\",\"value\":\"blue\"}}},\"nonselection_glyph\":{\"type\":\"object\",\"name\":\"Scatter\",\"id\":\"p1277\",\"attributes\":{\"x\":{\"type\":\"field\",\"field\":\"Date\"},\"y\":{\"type\":\"field\",\"field\":\"#Passengers\"},\"size\":{\"type\":\"value\",\"value\":6},\"line_color\":{\"type\":\"value\",\"value\":\"blue\"},\"line_alpha\":{\"type\":\"value\",\"value\":0.1},\"fill_color\":{\"type\":\"value\",\"value\":\"blue\"},\"fill_alpha\":{\"type\":\"value\",\"value\":0.1},\"hatch_color\":{\"type\":\"value\",\"value\":\"blue\"},\"hatch_alpha\":{\"type\":\"value\",\"value\":0.1}}},\"muted_glyph\":{\"type\":\"object\",\"name\":\"Scatter\",\"id\":\"p1278\",\"attributes\":{\"x\":{\"type\":\"field\",\"field\":\"Date\"},\"y\":{\"type\":\"field\",\"field\":\"#Passengers\"},\"size\":{\"type\":\"value\",\"value\":6},\"line_color\":{\"type\":\"value\",\"value\":\"blue\"},\"line_alpha\":{\"type\":\"value\",\"value\":0.2},\"fill_color\":{\"type\":\"value\",\"value\":\"blue\"},\"fill_alpha\":{\"type\":\"value\",\"value\":0.2},\"hatch_color\":{\"type\":\"value\",\"value\":\"blue\"},\"hatch_alpha\":{\"type\":\"value\",\"value\":0.2}}}}},{\"type\":\"object\",\"name\":\"GlyphRenderer\",\"id\":\"p1290\",\"attributes\":{\"data_source\":{\"type\":\"object\",\"name\":\"ColumnDataSource\",\"id\":\"p1209\",\"attributes\":{\"selected\":{\"type\":\"object\",\"name\":\"Selection\",\"id\":\"p1210\",\"attributes\":{\"indices\":[],\"line_indices\":[]}},\"selection_policy\":{\"type\":\"object\",\"name\":\"UnionRenderers\",\"id\":\"p1211\"},\"data\":{\"type\":\"map\",\"entries\":[[\"index\",{\"type\":\"ndarray\",\"array\":{\"type\":\"bytes\",\"data\":\"EQAAABIAAAATAAAAFAAAABYAAAAaAAAAHQAAAB4AAAAfAAAAIgAAACYAAAApAAAAKgAAACsAAAAyAAAAMwAAADUAAAA2AAAANwAAADoAAAA9AAAAQQAAAEIAAABDAAAATQAAAE4AAABPAAAAWQAAAFoAAABbAAAAXgAAAGUAAABmAAAAZwAAAGoAAABxAAAAcgAAAHMAAAB2AAAAfQAAAH4AAAB/AAAAiQAAAIoAAACLAAAAjgAAAA==\"},\"shape\":[46],\"dtype\":\"int32\",\"order\":\"little\"}],[\"Date\",{\"type\":\"ndarray\",\"array\":{\"type\":\"bytes\",\"data\":\"AACAlnDuYcIAAID4Q9dhwgAAAP8L1GHCAAAAYd+8YcIAAIDwKo9hwgAAAEsASWHCAAAArJ3/YMIAAAC5LflgwgAAADwE62DCAACA0fygYMIAAICOwFxgwgAAgOLNGWDCAACAZaQLYMIAAADXot5fwgAAAL4h1F7CAAAAIPW8XsIAAAD32GtewgAAAAMzM17CAAAAXiMGXsIAAAC43aZdwgAAALweJl3CAAAAXVaKXMIAAACymXlcwgAAAGLNO1zCAAAAQP22WsIAAABGqppawgAAAKGabVrCAAAAeOfSWMIAAABdka1YwgAAAMz0j1jCAAAAlRITWMIAAAA03hJXwgAAADqL9lbCAAAAjpizVsIAAACmTEJWwgAAAI3LN1XCAAAAcnUSVcIAAAA2HORUwgAAAC3NaVTCAAAAXP9UU8IAAAC37ydTwgAAAPISJFPCAAAAdByaUcIAAADCfHNRwgAAADeNOVHCAAAADTu2UMI=\"},\"shape\":[46],\"dtype\":\"float64\",\"order\":\"little\"}],[\"#Passengers\",{\"type\":\"ndarray\",\"array\":{\"type\":\"bytes\",\"data\":\"lQAAAKoAAACqAAAAngAAAHIAAACyAAAAsgAAAMcAAADHAAAAkgAAAMEAAADaAAAA5gAAAPIAAADsAAAA6wAAAPMAAAAIAQAAEAEAALQAAAC8AAAACAEAAC4BAAAlAQAAOwEAAGwBAABbAQAAdgEAAJ0BAACVAQAADwEAAKYBAADRAQAA0wEAADEBAACzAQAA6wEAAPkBAAA2AQAA2AEAACQCAAAvAgAAFwIAAG4CAABeAgAAhgEAAA==\"},\"shape\":[46],\"dtype\":\"int32\",\"order\":\"little\"}],[\"Month\",{\"type\":\"ndarray\",\"array\":[\"June\",\"July\",\"August\",\"September\",\"November\",\"March\",\"June\",\"July\",\"August\",\"November\",\"March\",\"June\",\"July\",\"August\",\"March\",\"April\",\"June\",\"July\",\"August\",\"November\",\"February\",\"June\",\"July\",\"August\",\"June\",\"July\",\"August\",\"June\",\"July\",\"August\",\"November\",\"June\",\"July\",\"August\",\"November\",\"June\",\"July\",\"August\",\"November\",\"June\",\"July\",\"August\",\"June\",\"July\",\"August\",\"November\"],\"shape\":[46],\"dtype\":\"object\",\"order\":\"little\"}],[\"Year\",{\"type\":\"ndarray\",\"array\":{\"type\":\"bytes\",\"data\":\"ngcAAJ4HAACeBwAAngcAAJ4HAACfBwAAnwcAAJ8HAACfBwAAnwcAAKAHAACgBwAAoAcAAKAHAAChBwAAoQcAAKEHAAChBwAAoQcAAKEHAACiBwAAogcAAKIHAACiBwAAowcAAKMHAACjBwAApAcAAKQHAACkBwAApAcAAKUHAAClBwAApQcAAKUHAACmBwAApgcAAKYHAACmBwAApwcAAKcHAACnBwAAqAcAAKgHAACoBwAAqAcAAA==\"},\"shape\":[46],\"dtype\":\"int32\",\"order\":\"little\"}],[\"Rolling_Mean\",{\"type\":\"ndarray\",\"array\":{\"type\":\"bytes\",\"data\":\"q6qqqqpKYEBVVVVVVYVgQAAAAAAAwGBAq6qqqqr6YECrqqqqqjphQAAAAAAAaGJAVVVVVVV9Y0CrqqqqqspjQAAAAAAAGGRAAAAAAAAAZUCrqqqqqgJmQKuqqqqqumZAVVVVVVUNZ0AAAAAAAIBnQAAAAAAAgGlAAAAAAAAQakBVVVVVVc1qQAAAAAAAKGtAAAAAAAB4a0BVVVVVVQ1sQAAAAAAAIGxAVVVVVVVNbECrqqqqqrJsQKuqqqqq6mxAAAAAAAA0cECrqqqqqoZwQKuqqqqqznBAq6qqqqo+c0AAAAAAAIBzQFVVVVVVzXNAq6qqqqpedEBVVVVVVaF1QKuqqqqq5nVAVVVVVVU5dkCrqqqqqt52QKuqqqqqYndAVVVVVVWFd0AAAAAAALh3QKuqqqqqzndAq6qqqqoCeUCrqqqqqk55QKuqqqqqlnlAAAAAAABUfECrqqqqqrZ8QFVVVVVV9XxAq6qqqqqefUA=\"},\"shape\":[46],\"dtype\":\"float64\",\"order\":\"little\"}],[\"Rolling_Std\",{\"type\":\"ndarray\",\"array\":{\"type\":\"bytes\",\"data\":\"2h9Qy3yFLUCcFIdgkCIyQDglrtg3zDRAIvbDk8/tNUAswbxKOxE0QFGiZGdcWTNAgtaYnGLxM0AcfzTvPUg3QFt4/Cx39DlA8S8SX2VlNEDNfiYZLw8wQGvzyuDkQDNA6DIkbEdmN0DQ+9BvMY88QOx4gCwK4DZADZwE2Gc/N0Bq0QDjfxw4QCDSh1o+0jtAvJN3u39eP0AXaKXSmRE9QBh3PaqoqzxAi6bUwk9lPkDILlKaBg5CQH0zfSe5YUNABGkxKMm8QEA4BCFbyOxFQJFnH78Uu0hAGq2zhPcmREDENiS12RpIQPbMhaDwQ0tA0eYQoqfYSEAsRSNhxzlIQGdahz8JT0xA6hKBcoYWUEBpkryWYgNOQN0k9D6srktALtYfj4XLTUA14wPEpmNQQECnyur0JVBAhWQBciuBT0BZqKWYOv9RQIv7ld0oA1RAI6hW+2VBUEBMo27bckxTQBu0kh5a6FRAUYn/ByfgU0A=\"},\"shape\":[46],\"dtype\":\"float64\",\"order\":\"little\"}],[\"Upper_Band\",{\"type\":\"ndarray\",\"array\":{\"type\":\"bytes\",\"data\":\"qaxfdwIjYkDoN2Zhp8liQKfEFfuGWWNAbykjnWS4Y0DQQgIU0rxjQEqU7Iwr02RAJXDoqIH7ZUCOOpFosrNmQAuPn+WOVmdA/kXiq6yMZ0CFes+NkARoQBgJxEbHImlAstvZQh76aUB6H/ot5hFrQB4PkEUBXGxAgpMA++z3bECCb7VR5dBtQET6UMtHom5AePJu989jb0BYAqqPiK9vQOOuRxV1tW9AE/XXpv8McEAum58oFptwQMX7RHqM4XBAIC0GJZlLckAyyw62Q0RzQJ2XjkIN5nNATiBBm4nDdUDYhqQ2W4N2QPQOZmnTNXdAhcfsnr95d0D6vXlBjqh4QPiVm9KLcHlAEJr18fY+ekD4PIL9Fp96QEcviTKA2HpAG1A5B8Y+e0DN+ACx6dB7QHtUXeUn2HtAPNfqGNDyfEDBFNRQec59QI4pEOJ0l35ABNVqvywygEC/KcOw48SAQC4Bfe61F4FAgEZVNlpLgUA=\"},\"shape\":[46],\"dtype\":\"float64\",\"order\":\"little\"}],[\"Lower_Band\",{\"type\":\"ndarray\",\"array\":{\"type\":\"bytes\",\"data\":\"W1Hru6XkXECD5YiSBoJcQLJ21AnyTFxAzldkcOF5XEALJaaCBnFdQGzXJuao+V9AhTrCASn/YEDIGsTsouFgQPVwYBpx2WBAArodVFNzYkDR2oXHxABkQD5MkQ6OUmRA+M7QZ4wgZECG4AXSGe5jQOLwb7r+o2ZAfmz/BBMoZ0AoO/VYxclnQLwFrzS4rWdAiA2RCDCMZ0BSqAAbImtoQB1RuOqKimhAhMD6XKuAaED5HhYEKS9oQMxdy2A8EmhAv6Xztc04bEBIFI0+I5JrQHJ7jSWQbmtACDUUusu5cEAoeVvJpHxwQLabREHXZHBA0Y1otpVDcUCw7DBpHJpyQF6/uYLJXHJAmhC1uLMzckBeGNNXPh5zQA8mzCLV7HNAj1pxo+TLc0AzB/9OFp9zQNsA+G8txXNAGn5qPIUSdUCVQIEE3M50QMgrRXPglXRA91UqgaZDeEDYAc/zjeN3QE6osM0+u3dAV8iq6KCmeEA=\"},\"shape\":[46],\"dtype\":\"float64\",\"order\":\"little\"}],[\"Is_Outlier\",{\"type\":\"ndarray\",\"array\":{\"type\":\"bytes\",\"data\":\"AQEBAQEBAQEBAQEBAQEBAQEBAQEBAQEBAQEBAQEBAQEBAQEBAQEBAQEBAQEBAQ==\"},\"shape\":[46],\"dtype\":\"bool\",\"order\":\"little\"}]]}}},\"view\":{\"type\":\"object\",\"name\":\"CDSView\",\"id\":\"p1291\",\"attributes\":{\"filter\":{\"type\":\"object\",\"name\":\"AllIndices\",\"id\":\"p1292\"}}},\"glyph\":{\"type\":\"object\",\"name\":\"Scatter\",\"id\":\"p1287\",\"attributes\":{\"x\":{\"type\":\"field\",\"field\":\"Date\"},\"y\":{\"type\":\"field\",\"field\":\"#Passengers\"},\"size\":{\"type\":\"value\",\"value\":8},\"line_color\":{\"type\":\"value\",\"value\":\"red\"},\"fill_color\":{\"type\":\"value\",\"value\":\"red\"},\"hatch_color\":{\"type\":\"value\",\"value\":\"red\"}}},\"nonselection_glyph\":{\"type\":\"object\",\"name\":\"Scatter\",\"id\":\"p1288\",\"attributes\":{\"x\":{\"type\":\"field\",\"field\":\"Date\"},\"y\":{\"type\":\"field\",\"field\":\"#Passengers\"},\"size\":{\"type\":\"value\",\"value\":8},\"line_color\":{\"type\":\"value\",\"value\":\"red\"},\"line_alpha\":{\"type\":\"value\",\"value\":0.1},\"fill_color\":{\"type\":\"value\",\"value\":\"red\"},\"fill_alpha\":{\"type\":\"value\",\"value\":0.1},\"hatch_color\":{\"type\":\"value\",\"value\":\"red\"},\"hatch_alpha\":{\"type\":\"value\",\"value\":0.1}}},\"muted_glyph\":{\"type\":\"object\",\"name\":\"Scatter\",\"id\":\"p1289\",\"attributes\":{\"x\":{\"type\":\"field\",\"field\":\"Date\"},\"y\":{\"type\":\"field\",\"field\":\"#Passengers\"},\"size\":{\"type\":\"value\",\"value\":8},\"line_color\":{\"type\":\"value\",\"value\":\"red\"},\"line_alpha\":{\"type\":\"value\",\"value\":0.2},\"fill_color\":{\"type\":\"value\",\"value\":\"red\"},\"fill_alpha\":{\"type\":\"value\",\"value\":0.2},\"hatch_color\":{\"type\":\"value\",\"value\":\"red\"},\"hatch_alpha\":{\"type\":\"value\",\"value\":0.2}}}}}],\"toolbar\":{\"type\":\"object\",\"name\":\"Toolbar\",\"id\":\"p1221\",\"attributes\":{\"tools\":[{\"type\":\"object\",\"name\":\"PanTool\",\"id\":\"p1248\"},{\"type\":\"object\",\"name\":\"WheelZoomTool\",\"id\":\"p1249\",\"attributes\":{\"renderers\":\"auto\"}},{\"type\":\"object\",\"name\":\"BoxZoomTool\",\"id\":\"p1250\",\"attributes\":{\"dimensions\":\"both\",\"overlay\":{\"type\":\"object\",\"name\":\"BoxAnnotation\",\"id\":\"p1251\",\"attributes\":{\"syncable\":false,\"line_color\":\"black\",\"line_alpha\":1.0,\"line_width\":2,\"line_dash\":[4,4],\"fill_color\":\"lightgrey\",\"fill_alpha\":0.5,\"level\":\"overlay\",\"visible\":false,\"left\":{\"type\":\"number\",\"value\":\"nan\"},\"right\":{\"type\":\"number\",\"value\":\"nan\"},\"top\":{\"type\":\"number\",\"value\":\"nan\"},\"bottom\":{\"type\":\"number\",\"value\":\"nan\"},\"left_units\":\"canvas\",\"right_units\":\"canvas\",\"top_units\":\"canvas\",\"bottom_units\":\"canvas\",\"handles\":{\"type\":\"object\",\"name\":\"BoxInteractionHandles\",\"id\":\"p1257\",\"attributes\":{\"all\":{\"type\":\"object\",\"name\":\"AreaVisuals\",\"id\":\"p1256\",\"attributes\":{\"fill_color\":\"white\",\"hover_fill_color\":\"lightgray\"}}}}}}}},{\"type\":\"object\",\"name\":\"SaveTool\",\"id\":\"p1258\"},{\"type\":\"object\",\"name\":\"ResetTool\",\"id\":\"p1259\"},{\"type\":\"object\",\"name\":\"HelpTool\",\"id\":\"p1260\"},{\"type\":\"object\",\"name\":\"HoverTool\",\"id\":\"p1294\",\"attributes\":{\"renderers\":\"auto\",\"tooltips\":[[\"Date\",\"@Date{%F}\"],[\"Passengers\",\"@{#Passengers}\"],[\"Mean\",\"@Rolling_Mean{0.0}\"],[\"Std Dev\",\"@Rolling_Std{0.0}\"]],\"formatters\":{\"type\":\"map\",\"entries\":[[\"@Date\",\"datetime\"]]}}}]}},\"left\":[{\"type\":\"object\",\"name\":\"LinearAxis\",\"id\":\"p1243\",\"attributes\":{\"ticker\":{\"type\":\"object\",\"name\":\"BasicTicker\",\"id\":\"p1244\",\"attributes\":{\"mantissas\":[1,2,5]}},\"formatter\":{\"type\":\"object\",\"name\":\"BasicTickFormatter\",\"id\":\"p1245\"},\"axis_label\":\"Passenger Count\",\"major_label_policy\":{\"type\":\"object\",\"name\":\"AllLabels\",\"id\":\"p1246\"}}}],\"below\":[{\"type\":\"object\",\"name\":\"DatetimeAxis\",\"id\":\"p1224\",\"attributes\":{\"ticker\":{\"type\":\"object\",\"name\":\"DatetimeTicker\",\"id\":\"p1225\",\"attributes\":{\"num_minor_ticks\":5,\"tickers\":[{\"type\":\"object\",\"name\":\"AdaptiveTicker\",\"id\":\"p1226\",\"attributes\":{\"num_minor_ticks\":0,\"mantissas\":[1,2,5],\"max_interval\":500.0}},{\"type\":\"object\",\"name\":\"AdaptiveTicker\",\"id\":\"p1227\",\"attributes\":{\"num_minor_ticks\":0,\"base\":60,\"mantissas\":[1,2,5,10,15,20,30],\"min_interval\":1000.0,\"max_interval\":1800000.0}},{\"type\":\"object\",\"name\":\"AdaptiveTicker\",\"id\":\"p1228\",\"attributes\":{\"num_minor_ticks\":0,\"base\":24,\"mantissas\":[1,2,4,6,8,12],\"min_interval\":3600000.0,\"max_interval\":43200000.0}},{\"type\":\"object\",\"name\":\"DaysTicker\",\"id\":\"p1229\",\"attributes\":{\"days\":[1,2,3,4,5,6,7,8,9,10,11,12,13,14,15,16,17,18,19,20,21,22,23,24,25,26,27,28,29,30,31]}},{\"type\":\"object\",\"name\":\"DaysTicker\",\"id\":\"p1230\",\"attributes\":{\"days\":[1,4,7,10,13,16,19,22,25,28]}},{\"type\":\"object\",\"name\":\"DaysTicker\",\"id\":\"p1231\",\"attributes\":{\"days\":[1,8,15,22]}},{\"type\":\"object\",\"name\":\"DaysTicker\",\"id\":\"p1232\",\"attributes\":{\"days\":[1,15]}},{\"type\":\"object\",\"name\":\"MonthsTicker\",\"id\":\"p1233\",\"attributes\":{\"months\":[0,1,2,3,4,5,6,7,8,9,10,11]}},{\"type\":\"object\",\"name\":\"MonthsTicker\",\"id\":\"p1234\",\"attributes\":{\"months\":[0,2,4,6,8,10]}},{\"type\":\"object\",\"name\":\"MonthsTicker\",\"id\":\"p1235\",\"attributes\":{\"months\":[0,4,8]}},{\"type\":\"object\",\"name\":\"MonthsTicker\",\"id\":\"p1236\",\"attributes\":{\"months\":[0,6]}},{\"type\":\"object\",\"name\":\"YearsTicker\",\"id\":\"p1237\"}]}},\"formatter\":{\"type\":\"object\",\"name\":\"DatetimeTickFormatter\",\"id\":\"p1240\",\"attributes\":{\"seconds\":\"%T\",\"minsec\":\"%T\",\"minutes\":\"%H:%M\",\"hours\":\"%H:%M\",\"days\":\"%b %d\",\"months\":\"%b %Y\",\"strip_leading_zeros\":[\"microseconds\",\"milliseconds\",\"seconds\"],\"boundary_scaling\":false,\"context\":{\"type\":\"object\",\"name\":\"DatetimeTickFormatter\",\"id\":\"p1239\",\"attributes\":{\"microseconds\":\"%T\",\"milliseconds\":\"%T\",\"seconds\":\"%b %d, %Y\",\"minsec\":\"%b %d, %Y\",\"minutes\":\"%b %d, %Y\",\"hourmin\":\"%b %d, %Y\",\"hours\":\"%b %d, %Y\",\"days\":\"%Y\",\"months\":\"\",\"years\":\"\",\"boundary_scaling\":false,\"hide_repeats\":true,\"context\":{\"type\":\"object\",\"name\":\"DatetimeTickFormatter\",\"id\":\"p1238\",\"attributes\":{\"microseconds\":\"%b %d, %Y\",\"milliseconds\":\"%b %d, %Y\",\"seconds\":\"\",\"minsec\":\"\",\"minutes\":\"\",\"hourmin\":\"\",\"hours\":\"\",\"days\":\"\",\"months\":\"\",\"years\":\"\",\"boundary_scaling\":false,\"hide_repeats\":true}},\"context_which\":\"all\"}},\"context_which\":\"all\"}},\"axis_label\":\"Date\",\"major_label_policy\":{\"type\":\"object\",\"name\":\"AllLabels\",\"id\":\"p1241\"}}}],\"center\":[{\"type\":\"object\",\"name\":\"Grid\",\"id\":\"p1242\",\"attributes\":{\"axis\":{\"id\":\"p1224\"}}},{\"type\":\"object\",\"name\":\"Grid\",\"id\":\"p1247\",\"attributes\":{\"dimension\":1,\"axis\":{\"id\":\"p1243\"}}},{\"type\":\"object\",\"name\":\"Legend\",\"id\":\"p1282\",\"attributes\":{\"location\":\"top_left\",\"click_policy\":\"hide\",\"items\":[{\"type\":\"object\",\"name\":\"LegendItem\",\"id\":\"p1283\",\"attributes\":{\"label\":{\"type\":\"value\",\"value\":\"Normal\"},\"renderers\":[{\"id\":\"p1279\"}]}},{\"type\":\"object\",\"name\":\"LegendItem\",\"id\":\"p1293\",\"attributes\":{\"label\":{\"type\":\"value\",\"value\":\"Outliers\"},\"renderers\":[{\"id\":\"p1290\"}]}}]}}]}}]}};\n",
       "  const render_items = [{\"docid\":\"cbfd2a61-65ff-4ac0-8990-f56b71e5d1da\",\"roots\":{\"p1212\":\"d17e7e0b-004a-449d-acf4-172f97f4aa53\"},\"root_ids\":[\"p1212\"]}];\n",
       "  void root.Bokeh.embed.embed_items_notebook(docs_json, render_items);\n",
       "  }\n",
       "  if (root.Bokeh !== undefined) {\n",
       "    embed_document(root);\n",
       "  } else {\n",
       "    let attempts = 0;\n",
       "    const timer = setInterval(function(root) {\n",
       "      if (root.Bokeh !== undefined) {\n",
       "        clearInterval(timer);\n",
       "        embed_document(root);\n",
       "      } else {\n",
       "        attempts++;\n",
       "        if (attempts > 100) {\n",
       "          clearInterval(timer);\n",
       "          console.log(\"Bokeh: ERROR: Unable to run BokehJS code because BokehJS library is missing\");\n",
       "        }\n",
       "      }\n",
       "    }, 10, root)\n",
       "  }\n",
       "})(window);"
      ],
      "application/vnd.bokehjs_exec.v0+json": ""
     },
     "metadata": {
      "application/vnd.bokehjs_exec.v0+json": {
       "id": "p1212"
      }
     },
     "output_type": "display_data"
    }
   ],
   "source": [
    "df['Is_Outlier'] = (df['#Passengers'] > df['Upper_Band']) | (df['#Passengers'] < df['Lower_Band'])\n",
    "\n",
    "df_normal = df[~df['Is_Outlier']].dropna()\n",
    "df_outliers = df[df['Is_Outlier']].dropna()\n",
    "\n",
    "source_normal = ColumnDataSource(df_normal)\n",
    "source_outliers = ColumnDataSource(df_outliers)\n",
    "\n",
    "p = figure(title='Air Passengers with Outliers Highlighted',\n",
    "           x_axis_type='datetime',\n",
    "           x_axis_label='Date',\n",
    "           y_axis_label='Passenger Count',\n",
    "           width=800,\n",
    "           height=400)\n",
    "\n",
    "p.line(x='Date', y='#Passengers', source=ColumnDataSource(df), line_width=2)\n",
    "\n",
    "p.circle(x='Date', y='#Passengers', source=source_normal, size=6, color='blue', legend_label='Normal')\n",
    "p.circle(x='Date', y='#Passengers', source=source_outliers, size=8, color='red', legend_label='Outliers')\n",
    "\n",
    "hover = HoverTool(tooltips=[\n",
    "    ('Date', '@Date{%F}'),\n",
    "    ('Passengers', '@{#Passengers}'),\n",
    "    ('Mean', '@Rolling_Mean{0.0}'),\n",
    "    ('Std Dev', '@Rolling_Std{0.0}')\n",
    "], formatters={'@Date': 'datetime'})\n",
    "p.add_tools(hover)\n",
    "\n",
    "p.legend.location = \"top_left\"\n",
    "p.legend.click_policy = \"hide\"\n",
    "\n",
    "show(p)"
   ]
  },
  {
   "cell_type": "markdown",
   "id": "7a49b590dd45ebab",
   "metadata": {},
   "source": [
    "* Resampling (upsampling and downsampling)"
   ]
  },
  {
   "cell_type": "code",
   "execution_count": 7,
   "id": "8c41745c105b5a57",
   "metadata": {
    "ExecuteTime": {
     "end_time": "2025-05-14T15:27:41.141256Z",
     "start_time": "2025-05-14T15:27:41.031883Z"
    }
   },
   "outputs": [
    {
     "name": "stderr",
     "output_type": "stream",
     "text": [
      "/var/folders/b_/_l4lfz09647btk2lchrd54_00000gn/T/ipykernel_45435/3092711114.py:5: FutureWarning: 'Q' is deprecated and will be removed in a future version, please use 'QE' instead.\n",
      "  quarterly = df_indexed.resample('Q')['#Passengers'].mean().reset_index()\n",
      "/var/folders/b_/_l4lfz09647btk2lchrd54_00000gn/T/ipykernel_45435/3092711114.py:8: FutureWarning: 'Y' is deprecated and will be removed in a future version, please use 'YE' instead.\n",
      "  yearly = df_indexed.resample('Y')['#Passengers'].mean().reset_index()\n",
      "BokehDeprecationWarning: 'circle() method with size value' was deprecated in Bokeh 3.4.0 and will be removed, use 'scatter(size=...) instead' instead.\n",
      "BokehDeprecationWarning: 'square() method' was deprecated in Bokeh 3.4.0 and will be removed, use \"scatter(marker='square', ...) instead\" instead.\n"
     ]
    },
    {
     "data": {
      "text/html": [
       "\n",
       "  <div id=\"a23b99a6-ce9d-4672-8c1c-3ae9b999e2d7\" data-root-id=\"p1331\" style=\"display: contents;\"></div>\n"
      ]
     },
     "metadata": {},
     "output_type": "display_data"
    },
    {
     "data": {
      "application/javascript": [
       "(function(root) {\n",
       "  function embed_document(root) {\n",
       "  const docs_json = {\"0f496157-070c-4726-902c-ddb32bbb0007\":{\"version\":\"3.7.3\",\"title\":\"Bokeh Application\",\"roots\":[{\"type\":\"object\",\"name\":\"Figure\",\"id\":\"p1331\",\"attributes\":{\"width\":800,\"height\":400,\"x_range\":{\"type\":\"object\",\"name\":\"DataRange1d\",\"id\":\"p1332\"},\"y_range\":{\"type\":\"object\",\"name\":\"DataRange1d\",\"id\":\"p1333\"},\"x_scale\":{\"type\":\"object\",\"name\":\"LinearScale\",\"id\":\"p1341\"},\"y_scale\":{\"type\":\"object\",\"name\":\"LinearScale\",\"id\":\"p1342\"},\"title\":{\"type\":\"object\",\"name\":\"Title\",\"id\":\"p1334\",\"attributes\":{\"text\":\"Air Passengers: Original vs Resampled Data\"}},\"renderers\":[{\"type\":\"object\",\"name\":\"GlyphRenderer\",\"id\":\"p1386\",\"attributes\":{\"data_source\":{\"type\":\"object\",\"name\":\"ColumnDataSource\",\"id\":\"p1322\",\"attributes\":{\"selected\":{\"type\":\"object\",\"name\":\"Selection\",\"id\":\"p1323\",\"attributes\":{\"indices\":[],\"line_indices\":[]}},\"selection_policy\":{\"type\":\"object\",\"name\":\"UnionRenderers\",\"id\":\"p1324\"},\"data\":{\"type\":\"map\",\"entries\":[[\"index\",{\"type\":\"ndarray\",\"array\":{\"type\":\"bytes\",\"data\":\"AAAAAAEAAAACAAAAAwAAAAQAAAAFAAAABgAAAAcAAAAIAAAACQAAAAoAAAALAAAADAAAAA0AAAAOAAAADwAAABAAAAARAAAAEgAAABMAAAAUAAAAFQAAABYAAAAXAAAAGAAAABkAAAAaAAAAGwAAABwAAAAdAAAAHgAAAB8AAAAgAAAAIQAAACIAAAAjAAAAJAAAACUAAAAmAAAAJwAAACgAAAApAAAAKgAAACsAAAAsAAAALQAAAC4AAAAvAAAAMAAAADEAAAAyAAAAMwAAADQAAAA1AAAANgAAADcAAAA4AAAAOQAAADoAAAA7AAAAPAAAAD0AAAA+AAAAPwAAAEAAAABBAAAAQgAAAEMAAABEAAAARQAAAEYAAABHAAAASAAAAEkAAABKAAAASwAAAEwAAABNAAAATgAAAE8AAABQAAAAUQAAAFIAAABTAAAAVAAAAFUAAABWAAAAVwAAAFgAAABZAAAAWgAAAFsAAABcAAAAXQAAAF4AAABfAAAAYAAAAGEAAABiAAAAYwAAAGQAAABlAAAAZgAAAGcAAABoAAAAaQAAAGoAAABrAAAAbAAAAG0AAABuAAAAbwAAAHAAAABxAAAAcgAAAHMAAAB0AAAAdQAAAHYAAAB3AAAAeAAAAHkAAAB6AAAAewAAAHwAAAB9AAAAfgAAAH8AAACAAAAAgQAAAIIAAACDAAAAhAAAAIUAAACGAAAAhwAAAIgAAACJAAAAigAAAIsAAACMAAAAjQAAAI4AAACPAAAA\"},\"shape\":[144],\"dtype\":\"int32\",\"order\":\"little\"}],[\"Date\",{\"type\":\"ndarray\",\"array\":{\"type\":\"bytes\",\"data\":\"AACATlRCY8IAAAAgpiZjwgAAAHXpFWPCAAAAVOYMY8IAAIBgW+1iwgAAAOr522LCAACAZgjRYsIAAIDVa7NiwgAAABdXrGLCAACA6KiQYsIAAIB4D3xiwgAAgDYJamLCAACAxm9VYsIAAIBW1kBiwgAAgH2GLWLCAAAAT9gRYsIAAIDL5gZiwgAAgJZw7mHCAACA+EPXYcIAAAD/C9RhwgAAAGHfvGHCAACABJ6eYcIAAIDwKo9hwgAAgEVufmHCAACASxtiYcIAAABS415hwgAAAEsASWHCAAAAjNAoYcIAAABePSZhwgAAAKyd/2DCAAAAuS35YMIAAAA8BOtgwgAAAHBE0WDCAACAJ3bCYMIAAIDR/KBgwgAAgOsclGDCAACA16mEYMIAAAAFIm5gwgAAgI7AXGDCAACATLpKYMIAAABMnzFgwgAAgOLNGWDCAACAZaQLYMIAAADXot5fwgAAAIEpvV/CAAAA3BmQX8IAAABLfXJfwgAAAA8kRF/CAAAAfocmX8IAAAC/VwZfwgAAAL4h1F7CAAAAIPW8XsIAAAD+u4FewgAAAPfYa17CAAAAAzMzXsIAAABeIwZewgAAAGTQ6V3CAAAAuRPZXcIAAAC43aZdwgAAAGJkhV3CAAAAnFFPXcIAAAC8HiZdwgAAAM9bA13CAAAAbFLoXMIAAABrHLZcwgAAAF1WilzCAAAAspl5XMIAAABizTtcwgAAACDHKVzCAAAALCHxW8IAAAA/Xs5bwgAAAPZ0plvCAAAA9T50W8IAAAAinERbwgAAAMZ1P1vCAAAAAGMJW8IAAACWdthawgAAAED9tlrCAAAARqqaWsIAAAChmm1awgAAAEQ+NlrCAAAAphEfWsIAAABQmP1ZwgAAAELS0VnCAAAAiU+VWcIAAAD/lY1ZwgAAAOQ/aFnCAAAAEZ04WcIAAACnsAdZwgAAAHjn0ljCAAAAXZGtWMIAAADM9I9YwgAAAAbiWVjCAAAATpVPWMIAAACVEhNYwgAAAPAC5lfCAAAAyBzHV8IAAACtxqFXwgAAAGvAj1fCAAAAi41mV8IAAAC46jZXwgAAADTeElfCAAAAOov2VsIAAACOmLNWwgAAAOPbolbCAAAAN+lfVsIAAACmTEJWwgAAAHeDDVbCAAAA2Vb2VcIAAACxcNdVwgAAAP/QsFXCAAAAnMeVVcIAAAB6jlpVwgAAAI3LN1XCAAAAcnUSVcIAAAA2HORUwgAAAHAJrlTCAAAAaSaYVMIAAAAtzWlUwgAAAIi9PFTCAAAAm/oZVMIAAAD26uxTwgAAABAL4FPCAAAA9bS6U8IAAACLyIlTwgAAAFz/VFPCAAAAt+8nU8IAAADyEiRTwgAAALa59VLCAAAAwhO9UsIAAACTSohSwgAAAAKualLCAAAAfqFGUsIAAABJKy5SwgAAAJCo8VHCAAAAxOjXUcIAAAD+1aFRwgAAAHQcmlHCAAAAwnxzUcIAAAA3jTlRwgAAABw3FFHCAAAA4N3lUMIAAAANO7ZQwgAAAFXuq1DC\"},\"shape\":[144],\"dtype\":\"float64\",\"order\":\"little\"}],[\"#Passengers\",{\"type\":\"ndarray\",\"array\":{\"type\":\"bytes\",\"data\":\"cAAAAHYAAACEAAAAgQAAAHkAAACHAAAAlAAAAJQAAACIAAAAdwAAAGgAAAB2AAAAcwAAAH4AAACNAAAAhwAAAH0AAACVAAAAqgAAAKoAAACeAAAAhQAAAHIAAACMAAAAkQAAAJYAAACyAAAAowAAAKwAAACyAAAAxwAAAMcAAAC4AAAAogAAAJIAAACmAAAAqwAAALQAAADBAAAAtQAAALcAAADaAAAA5gAAAPIAAADRAAAAvwAAAKwAAADCAAAAxAAAAMQAAADsAAAA6wAAAOUAAADzAAAACAEAABABAADtAAAA0wAAALQAAADJAAAAzAAAALwAAADrAAAA4wAAAOoAAAAIAQAALgEAACUBAAADAQAA5QAAAMsAAADlAAAA8gAAAOkAAAALAQAADQEAAA4BAAA7AQAAbAEAAFsBAAA4AQAAEgEAAO0AAAAWAQAAHAEAABUBAAA9AQAAOQEAAD4BAAB2AQAAnQEAAJUBAABjAQAAMgEAAA8BAAAyAQAAOwEAAC0BAABkAQAAXAEAAGMBAACmAQAA0QEAANMBAACUAQAAWwEAADEBAABQAQAAVAEAAD4BAABqAQAAXAEAAGsBAACzAQAA6wEAAPkBAACUAQAAZwEAADYBAABRAQAAaAEAAFYBAACWAQAAjAEAAKQBAADYAQAAJAIAAC8CAADPAQAAlwEAAGoBAACVAQAAoQEAAIcBAACjAQAAzQEAANgBAAAXAgAAbgIAAF4CAAD8AQAAzQEAAIYBAACwAQAA\"},\"shape\":[144],\"dtype\":\"int32\",\"order\":\"little\"}],[\"Month\",{\"type\":\"ndarray\",\"array\":[\"January\",\"February\",\"March\",\"April\",\"May\",\"June\",\"July\",\"August\",\"September\",\"October\",\"November\",\"December\",\"January\",\"February\",\"March\",\"April\",\"May\",\"June\",\"July\",\"August\",\"September\",\"October\",\"November\",\"December\",\"January\",\"February\",\"March\",\"April\",\"May\",\"June\",\"July\",\"August\",\"September\",\"October\",\"November\",\"December\",\"January\",\"February\",\"March\",\"April\",\"May\",\"June\",\"July\",\"August\",\"September\",\"October\",\"November\",\"December\",\"January\",\"February\",\"March\",\"April\",\"May\",\"June\",\"July\",\"August\",\"September\",\"October\",\"November\",\"December\",\"January\",\"February\",\"March\",\"April\",\"May\",\"June\",\"July\",\"August\",\"September\",\"October\",\"November\",\"December\",\"January\",\"February\",\"March\",\"April\",\"May\",\"June\",\"July\",\"August\",\"September\",\"October\",\"November\",\"December\",\"January\",\"February\",\"March\",\"April\",\"May\",\"June\",\"July\",\"August\",\"September\",\"October\",\"November\",\"December\",\"January\",\"February\",\"March\",\"April\",\"May\",\"June\",\"July\",\"August\",\"September\",\"October\",\"November\",\"December\",\"January\",\"February\",\"March\",\"April\",\"May\",\"June\",\"July\",\"August\",\"September\",\"October\",\"November\",\"December\",\"January\",\"February\",\"March\",\"April\",\"May\",\"June\",\"July\",\"August\",\"September\",\"October\",\"November\",\"December\",\"January\",\"February\",\"March\",\"April\",\"May\",\"June\",\"July\",\"August\",\"September\",\"October\",\"November\",\"December\"],\"shape\":[144],\"dtype\":\"object\",\"order\":\"little\"}],[\"Year\",{\"type\":\"ndarray\",\"array\":{\"type\":\"bytes\",\"data\":\"nQcAAJ0HAACdBwAAnQcAAJ0HAACdBwAAnQcAAJ0HAACdBwAAnQcAAJ0HAACdBwAAngcAAJ4HAACeBwAAngcAAJ4HAACeBwAAngcAAJ4HAACeBwAAngcAAJ4HAACeBwAAnwcAAJ8HAACfBwAAnwcAAJ8HAACfBwAAnwcAAJ8HAACfBwAAnwcAAJ8HAACfBwAAoAcAAKAHAACgBwAAoAcAAKAHAACgBwAAoAcAAKAHAACgBwAAoAcAAKAHAACgBwAAoQcAAKEHAAChBwAAoQcAAKEHAAChBwAAoQcAAKEHAAChBwAAoQcAAKEHAAChBwAAogcAAKIHAACiBwAAogcAAKIHAACiBwAAogcAAKIHAACiBwAAogcAAKIHAACiBwAAowcAAKMHAACjBwAAowcAAKMHAACjBwAAowcAAKMHAACjBwAAowcAAKMHAACjBwAApAcAAKQHAACkBwAApAcAAKQHAACkBwAApAcAAKQHAACkBwAApAcAAKQHAACkBwAApQcAAKUHAAClBwAApQcAAKUHAAClBwAApQcAAKUHAAClBwAApQcAAKUHAAClBwAApgcAAKYHAACmBwAApgcAAKYHAACmBwAApgcAAKYHAACmBwAApgcAAKYHAACmBwAApwcAAKcHAACnBwAApwcAAKcHAACnBwAApwcAAKcHAACnBwAApwcAAKcHAACnBwAAqAcAAKgHAACoBwAAqAcAAKgHAACoBwAAqAcAAKgHAACoBwAAqAcAAKgHAACoBwAA\"},\"shape\":[144],\"dtype\":\"int32\",\"order\":\"little\"}],[\"Rolling_Mean\",{\"type\":\"ndarray\",\"array\":{\"type\":\"bytes\",\"data\":\"AAAAAAAA+H8AAAAAAAD4fwAAAAAAAPh/AAAAAAAA+H8AAAAAAAD4fwAAAAAAAPh/AAAAAAAA+H8AAAAAAAD4fwAAAAAAAPh/AAAAAAAA+H8AAAAAAAD4f6uqqqqqql9Aq6qqqqq6X0BVVVVVVeVfQKuqqqqqCmBAq6qqqqoaYEBVVVVVVSVgQKuqqqqqSmBAVVVVVVWFYEAAAAAAAMBgQKuqqqqq+mBAAAAAAAAgYUCrqqqqqjphQFVVVVVVdWFAVVVVVVXFYUBVVVVVVQViQAAAAAAAaGJAq6qqqqqyYkAAAAAAADBjQFVVVVVVfWNAq6qqqqrKY0AAAAAAABhkQFVVVVVVXWRAq6qqqqqqZEAAAAAAAABlQFVVVVVVRWVAq6qqqqqKZUCrqqqqqtplQKuqqqqqAmZAq6qqqqoyZkAAAAAAAFBmQKuqqqqqumZAVVVVVVUNZ0AAAAAAAIBnQKuqqqqqwmdAAAAAAAAQaEBVVVVVVVVoQAAAAAAAoGhAq6qqqqriaEBVVVVVVQ1pQAAAAAAAgGlAAAAAAAAQakCrqqqqqopqQFVVVVVVzWpAAAAAAAAoa0AAAAAAAHhrQKuqqqqqwmtAAAAAAAD4a0BVVVVVVQ1sQAAAAAAAIGxAVVVVVVU1bEAAAAAAACBsQFVVVVVVHWxAAAAAAAAIbEBVVVVVVRVsQFVVVVVVTWxAq6qqqqqybECrqqqqqupsQFVVVVVVJW1AVVVVVVVVbUCrqqqqqpJtQFVVVVVV3W1Aq6qqqqpCbkCrqqqqqrpuQAAAAAAAEG9AAAAAAACAb0AAAAAAAOBvQAAAAAAANHBAq6qqqqqGcECrqqqqqs5wQFVVVVVVFXFAVVVVVVVRcUCrqqqqqn5xQAAAAAAAwHFAAAAAAAD4cUCrqqqqqjJyQFVVVVVVdXJAAAAAAACwckAAAAAAAPByQKuqqqqqPnNAAAAAAACAc0BVVVVVVc1zQKuqqqqqBnRAVVVVVVUxdECrqqqqql50QAAAAAAAhHRAVVVVVVWtdEBVVVVVVc10QFVVVVVVAXVAAAAAAAAwdUBVVVVVVWF1QFVVVVVVoXVAq6qqqqrmdUBVVVVVVTl2QKuqqqqqenZAVVVVVVWxdkCrqqqqqt52QKuqqqqqBndAAAAAAAAod0Crqqqqqj53QKuqqqqqRndAq6qqqqpGd0BVVVVVVVF3QKuqqqqqYndAVVVVVVWFd0AAAAAAALh3QAAAAAAAuHdAAAAAAADId0Crqqqqqs53QAAAAAAA0HdAq6qqqqrqd0Crqqqqqgp4QFVVVVVVRXhAVVVVVVWFeEBVVVVVVdF4QKuqqqqqAnlAq6qqqqpOeUCrqqqqqpZ5QFVVVVVV5XlAVVVVVVUlekCrqqqqqmp6QFVVVVVVxXpAVVVVVVURe0CrqqqqqlJ7QAAAAAAAZHtAq6qqqqq6e0AAAAAAAAB8QAAAAAAAVHxAq6qqqqq2fEBVVVVVVfV8QFVVVVVVMX1AVVVVVVV5fUCrqqqqqp59QKuqqqqqwn1A\"},\"shape\":[144],\"dtype\":\"float64\",\"order\":\"little\"}],[\"Rolling_Std\",{\"type\":\"ndarray\",\"array\":{\"type\":\"bytes\",\"data\":\"AAAAAAAA+H8AAAAAAAD4fwAAAAAAAPh/AAAAAAAA+H8AAAAAAAD4fwAAAAAAAPh/AAAAAAAA+H8AAAAAAAD4fwAAAAAAAPh/AAAAAAAA+H8AAAAAAAD4f2KD+Q+3cCtAu1jdgRzoKkBqWNYxPFUqQOLzmGu7XytAfCG0cxqlK0AawYHK0VMrQNofUMt8hS1AnBSHYJAiMkA4Ja7YN8w0QCL2w5PP7TVA20eFvdhQNUAswbxKOxE0QM4Xyp8iEjNAVOA67J9wMUDOgwef98cwQFGiZGdcWTNAQgDhtPdsM0B6eFRppL4yQILWmJxi8TNAHH807z1IN0BbePwsd/Q5QFoIL77WxjpAToDG+SUWOUDxLxJfZWU0QLfxT0cycDJArjfngECnMEDZJw0wjl0uQM1+JhkvDzBAAyeO1jgeL0C2pzOgYAwvQGvzyuDkQDNA6DIkbEdmN0DQ+9BvMY88QLjmWtqWJT1AiaDyRdbGO0C0PdCurKg4QDewT5Zk9zZAFEjU5Kx6NUBTiL7CDqs0QOx4gCwK4DZADZwE2Gc/N0AAus2xa3A2QGrRAON/HDhAINKHWj7SO0C8k3e7f14/QPve7A+piT9ALlFqb3I/PkAXaKXSmRE9QIKGauKFdzxAxoRGbujPO0AYdz2qqKs8QNI7i8wYozxARPRKkkJ5PEBuNOwP+5U8QIum1MJPZT5AyC5SmgYOQkB9M30nuWFDQLYzkbWryENAQjMYTHV+Q0Agm1nxwkVCQFIPm4tVdkFAfkR15fuSQEAR8KNtT7k8QOdjWOsIHD1A5Gy3ohjQPEA4kyOCWaQ8QARpMSjJvEBAOAQhW8jsRUCRZx+/FLtIQBkrLzraa0lAUYGhTOpySEDXgSkkMYZGQFZ/P4X6EUVAL2sgKFgDREDXwFjdhzdCQNp6676GI0JAnFIhkanLQUAge7l/c1xBQBqts4T3JkRAxDYktdkaSED2zIWg8ENLQGx+6/cey0tAgmSqVCjzSkDR5hCip9hIQCfi789O7kdAMyWzvIoHR0DJc4j91v1FQGOcE9HdEkZAaX5Q+4bRRUBERhGzgalFQCxFI2HHOUhAZ1qHPwlPTEDqEoFyhhZQQEf3ckJSdlBAOv7EHg/sT0BpkryWYgNOQPGuUfEI8kxAh5+PyxkcTEBq8+s7lz9LQC8a8rGzLktALxrysbMuS0BhJWcKHhdLQN0k9D6srktALtYfj4XLTUA14wPEpmNQQDXjA8SmY1BAlgkvGMxGUEBAp8rq9CVQQGp/4kDzIVBA6wJgCEnQT0Ac9eoKOeFOQFkI0lR4zE5A0uG5VXAkTkCcxrP6DgFOQIVkAXIrgU9AWailmDr/UUCL+5XdKANUQJWisqIRX1RAnS7zCYzrU0BK15Is659SQJWve04gdVFA5no8KfanUEDaLHj93u5OQH0cVqn9sE5A7JGkzPIVTkAsyznQnxdOQCOoVvtlQVBATKNu23JMU0AbtJIeWuhUQJ8EmnGBJ1VAWqaqYa+iVEBRif8HJ+BTQOBRaQ4tb1NA\"},\"shape\":[144],\"dtype\":\"float64\",\"order\":\"little\"}],[\"Upper_Band\",{\"type\":\"ndarray\",\"array\":{\"type\":\"bytes\",\"data\":\"AAAAAAAA+H8AAAAAAAD4fwAAAAAAAPh/AAAAAAAA+H8AAAAAAAD4fwAAAAAAAPh/AAAAAAAA+H8AAAAAAAD4fwAAAAAAAPh/AAAAAAAA+H8AAAAAAAD4f4ztVMZgjGFA4SpzHdeLYUAxEMht/pdhQOk5ZGGmwGFAw+zlUfzUYUBncf1xktphQKmsX3cCI2JA6DdmYafJYkCnxBX7hlljQG8pI51kuGNA+6iwFxvKY0DQQgIU0rxjQE+YTqmZ12NAYLHcUmnzY0DPRTZJVB5kQEqU7Iwr02RAs8pGoUkgZUAPjyqN1IdlQCVw6KiB+2VAjjqRaLKzZkALj5/ljlZnQGA2Gy0wtmdAtXrjaW/NZ0D+ReKrrIxnQIxTP55bk2dAoZHHupKfZ0ApfauNg8BnQIV6z42QBGhAG40TOI4kaEB7OgMKxkBoQBgJxEbHImlAstvZQh76aUB6H/ot5hFrQIIH9oVdZ2tAEVS+yNqIa0AMXS/ramprQAf2yZLsfmtArjNFRwCSa0BfJq0tt6JrQB4PkEUBXGxAgpMA++z3bEDrYeQguFhtQIJvtVHl0G1ARPpQy0eibkB48m73z2NvQIpGqMzfs29AJkrtTe6/b0BYAqqPiK9vQNBQTbzwrm9A7iUeY1Kvb0DjrkcVdbVvQM+85m64sW9AiF5JUiiXb0Dj21K3FKhvQBP116b/DHBALpufKBabcEDF+0R6jOFwQCHRXCHAC3FAE7EtVHkacUC6iICzDRJxQJUMHlx1HXFA5f0D0rQzcUBXlC9M6ihxQD6GtY7AWXFAznYrigGNcUA0OSKYRbpxQCAtBiWZS3JAMssOtkNEc0Cdl45CDeZzQLg6m5zQQnRAf4XpnrJfdEDm2i/PcE90QOvvp1A/YnRAZg0EBWt4dEDGwlWmm3l0QLDEMi3GuXRAVCokMnXpdEBkL/dvjht1QE4gQZuJw3VA2IakNluDdkD0DmZp0zV3QHgaqIkOgHdA5aHqX7qPd0CFx+yev3l3QEX8/dnJgXdA+7nrrEaOd0DOYwY1EI13QOHIdw+xw3dAzQ9q3zDqd0AefreLhRZ4QPq9eUGOqHhA+JWb0otweUAQmvXx9j56QH1oRzs/mHpAHPUtOdeuekD4PIL9Fp96QIng1MjrpHpA8fNxOYOrekAYKSiSnaZ6QPHt6CCBrHpA8e3oIIGsekABOqIWObR6QEcviTKA2HpAG1A5B8Y+e0DN+ACx6dB7QM34ALHp0HtAZsILBrPZe0B7VF3lJ9h7QNqfONB82HtACKu2y7Pke0BOCQjM0eZ7QGCW71/kHnxAj5EMYONJfEAozqs0d5F8QDzX6hjQ8nxAwRTUUHnOfUCOKRDidJd+QPr9Ab4Z/X5A/CDSVzggf0B+YM91pRJ/QDpB9GidIn9ADnSk31I7f0BGsFmKhjB/QJDDKrUfOn9A6Dw/BGl9f0BmOQf688J/QATVar8sMoBAvynDsOPEgEAuAX3utReBQD7r3diaPYFAdv/flgBRgUCARlU2WkuBQJJ/Ivc6T4FA\"},\"shape\":[144],\"dtype\":\"float64\",\"order\":\"little\"}],[\"Lower_Band\",{\"type\":\"ndarray\",\"array\":{\"type\":\"bytes\",\"data\":\"AAAAAAAA+H8AAAAAAAD4fwAAAAAAAPh/AAAAAAAA+H8AAAAAAAD4fwAAAAAAAPh/AAAAAAAA+H8AAAAAAAD4fwAAAAAAAPh/AAAAAAAA+H8AAAAAAAD4fz96q8iTPFxAlP9uGqddXEBIihrPrZpcQNo24uddqVxAJtHeBrLAXECHclpxMOBcQFtR67ul5FxAg+WIkgaCXECydtQJ8kxcQM5XZHDheVxACa6e0MnrXEALJaaCBnFdQLYkuAIiJl5AlfKbr4IuX0C2yejCrNhfQGzXJuao+V9Ao4oOtAtFYEDxcNVyK9hgQIU6wgEp/2BAyBrE7KLhYED1cGAacdlgQEp0j316BGFAodpx6+WHYUACuh1UU3NiQB5XawxP92JAtcONmsJ1Y0At2KnH0fRjQNHahcfEAGRAO8hBHcdAZECFxfz1OV9kQD5MkQ6OUmRA+M7QZ4wgZECG4AXSGe5jQNRNX8/3HWRA76tBNyWXZECeTXu/P0BlQPkJNm0TwWVAqCEQDlUzZkBLhP1883dmQOLwb7r+o2ZAfmz/BBMoZ0Br83A0nbxnQCg79VjFyWdAvAWvNLitZ0CIDZEIMIxnQMwOrYh10WdA2rUSshEwaEBSqAAbImtoQDCvskMPkWhAvISMR1i7aEAdUbjqiopoQNvtwzvyiGhAeKG2rdd4aEDHzlfzlYJoQITA+lyrgGhA+R4WBCkvaEDMXctgPBJoQGgI8WcqM2hAhEhPArh1aEDjQ1TuOQFpQICRbvK/f2lAjFlNsesdakCpLPa8gCNrQIPzlOJ+bGtAZBKp6/zla0CZjbvPdEtsQL+l87XNOGxASBSNPiOSa0Bye40lkG5rQOTfHhy0z2tAVkqCF/CFbEDg9EoMyVttQCogsF6BO25ANOX39SnvbkAgJf9dc9dvQPrld33kMHBArNXbzYp2cECc0AiQccRwQAg1FLrLuXBAKHlbyaR8cEC2m0RB12RwQN46rctGjXBAxQjASvDScEDRjWi2lUNxQLsDAiY2hnFAr/C+/WPMcUDcRqR1mg1yQMnhMpv5PnJAM/CVIM91ckCMLPMeJaxyQLDsMGkcmnJAXr+5gslcckCaELW4szNyQNnsDRoWXXJAjrV8cdOzckBeGNNXPh5zQM10gIxpaHNADwyOxnykc0A+LC3Dt9ZzQGVnbDTU4HNAZWdsNNTgc0CpcAiUce5zQA8mzCLV7HNAj1pxo+TLc0AzB/9OFp9zQDMH/04Wn3NAmj30+Uy2c0DbAPhvLcVzQCZgxy+Dx3NATqqeiaHwc0AITE2Jgy50QEoUu0rGa3RAGxmeSsfAdECC3P51MxF1QBp+ajyFEnVAlUCBBNzOdEDIK0Vz4JV0QLCsqOyQzXRAronYUnIqdUDY9IXfr8J1QHBptkENaHZAnDYGy1fndkAQpfvKznR3QHA81UrgjXdAbhgWUez3d0CaxvgFDD14QPdVKoGmQ3hA2AHP843jd0BOqLDNPrt3QC3U7vh053dAvqvqfKlQeEBXyKrooKZ4QDNWEGff5nhA\"},\"shape\":[144],\"dtype\":\"float64\",\"order\":\"little\"}],[\"Is_Outlier\",{\"type\":\"ndarray\",\"array\":{\"type\":\"bytes\",\"data\":\"AAAAAAAAAAAAAAAAAAAAAAABAQEBAAEAAAABAAABAQEAAAEAAAABAAABAQEAAAAAAAABAQABAQEAAAEAAAEAAAABAQEAAAAAAAAAAAABAQEAAAAAAAAAAAABAQEAAAEAAAAAAAABAQEAAAEAAAAAAAABAQEAAAEAAAAAAAABAQEAAAAAAAAAAAABAQEAAAEA\"},\"shape\":[144],\"dtype\":\"bool\",\"order\":\"little\"}],[\"Period\",{\"type\":\"ndarray\",\"array\":[\"Monthly\",\"Monthly\",\"Monthly\",\"Monthly\",\"Monthly\",\"Monthly\",\"Monthly\",\"Monthly\",\"Monthly\",\"Monthly\",\"Monthly\",\"Monthly\",\"Monthly\",\"Monthly\",\"Monthly\",\"Monthly\",\"Monthly\",\"Monthly\",\"Monthly\",\"Monthly\",\"Monthly\",\"Monthly\",\"Monthly\",\"Monthly\",\"Monthly\",\"Monthly\",\"Monthly\",\"Monthly\",\"Monthly\",\"Monthly\",\"Monthly\",\"Monthly\",\"Monthly\",\"Monthly\",\"Monthly\",\"Monthly\",\"Monthly\",\"Monthly\",\"Monthly\",\"Monthly\",\"Monthly\",\"Monthly\",\"Monthly\",\"Monthly\",\"Monthly\",\"Monthly\",\"Monthly\",\"Monthly\",\"Monthly\",\"Monthly\",\"Monthly\",\"Monthly\",\"Monthly\",\"Monthly\",\"Monthly\",\"Monthly\",\"Monthly\",\"Monthly\",\"Monthly\",\"Monthly\",\"Monthly\",\"Monthly\",\"Monthly\",\"Monthly\",\"Monthly\",\"Monthly\",\"Monthly\",\"Monthly\",\"Monthly\",\"Monthly\",\"Monthly\",\"Monthly\",\"Monthly\",\"Monthly\",\"Monthly\",\"Monthly\",\"Monthly\",\"Monthly\",\"Monthly\",\"Monthly\",\"Monthly\",\"Monthly\",\"Monthly\",\"Monthly\",\"Monthly\",\"Monthly\",\"Monthly\",\"Monthly\",\"Monthly\",\"Monthly\",\"Monthly\",\"Monthly\",\"Monthly\",\"Monthly\",\"Monthly\",\"Monthly\",\"Monthly\",\"Monthly\",\"Monthly\",\"Monthly\",\"Monthly\",\"Monthly\",\"Monthly\",\"Monthly\",\"Monthly\",\"Monthly\",\"Monthly\",\"Monthly\",\"Monthly\",\"Monthly\",\"Monthly\",\"Monthly\",\"Monthly\",\"Monthly\",\"Monthly\",\"Monthly\",\"Monthly\",\"Monthly\",\"Monthly\",\"Monthly\",\"Monthly\",\"Monthly\",\"Monthly\",\"Monthly\",\"Monthly\",\"Monthly\",\"Monthly\",\"Monthly\",\"Monthly\",\"Monthly\",\"Monthly\",\"Monthly\",\"Monthly\",\"Monthly\",\"Monthly\",\"Monthly\",\"Monthly\",\"Monthly\",\"Monthly\",\"Monthly\",\"Monthly\",\"Monthly\",\"Monthly\",\"Monthly\"],\"shape\":[144],\"dtype\":\"object\",\"order\":\"little\"}]]}}},\"view\":{\"type\":\"object\",\"name\":\"CDSView\",\"id\":\"p1387\",\"attributes\":{\"filter\":{\"type\":\"object\",\"name\":\"AllIndices\",\"id\":\"p1388\"}}},\"glyph\":{\"type\":\"object\",\"name\":\"Line\",\"id\":\"p1383\",\"attributes\":{\"x\":{\"type\":\"field\",\"field\":\"Date\"},\"y\":{\"type\":\"field\",\"field\":\"#Passengers\"},\"line_color\":\"blue\",\"line_width\":2}},\"nonselection_glyph\":{\"type\":\"object\",\"name\":\"Line\",\"id\":\"p1384\",\"attributes\":{\"x\":{\"type\":\"field\",\"field\":\"Date\"},\"y\":{\"type\":\"field\",\"field\":\"#Passengers\"},\"line_color\":\"blue\",\"line_alpha\":0.1,\"line_width\":2}},\"muted_glyph\":{\"type\":\"object\",\"name\":\"Line\",\"id\":\"p1385\",\"attributes\":{\"x\":{\"type\":\"field\",\"field\":\"Date\"},\"y\":{\"type\":\"field\",\"field\":\"#Passengers\"},\"line_color\":\"blue\",\"line_alpha\":0.2,\"line_width\":2}}}},{\"type\":\"object\",\"name\":\"GlyphRenderer\",\"id\":\"p1397\",\"attributes\":{\"data_source\":{\"type\":\"object\",\"name\":\"ColumnDataSource\",\"id\":\"p1325\",\"attributes\":{\"selected\":{\"type\":\"object\",\"name\":\"Selection\",\"id\":\"p1326\",\"attributes\":{\"indices\":[],\"line_indices\":[]}},\"selection_policy\":{\"type\":\"object\",\"name\":\"UnionRenderers\",\"id\":\"p1327\"},\"data\":{\"type\":\"map\",\"entries\":[[\"index\",{\"type\":\"ndarray\",\"array\":{\"type\":\"bytes\",\"data\":\"AAAAAAEAAAACAAAAAwAAAAQAAAAFAAAABgAAAAcAAAAIAAAACQAAAAoAAAALAAAADAAAAA0AAAAOAAAADwAAABAAAAARAAAAEgAAABMAAAAUAAAAFQAAABYAAAAXAAAAGAAAABkAAAAaAAAAGwAAABwAAAAdAAAAHgAAAB8AAAAgAAAAIQAAACIAAAAjAAAAJAAAACUAAAAmAAAAJwAAACgAAAApAAAAKgAAACsAAAAsAAAALQAAAC4AAAAvAAAA\"},\"shape\":[48],\"dtype\":\"int32\",\"order\":\"little\"}],[\"Date\",{\"type\":\"ndarray\",\"array\":{\"type\":\"bytes\",\"data\":\"AACATR4QY8IAAAD3idViwgAAANVQmmLCAAAAsxdfYsIAAAAoKCViwgAAgNGT6mHCAACAr1qvYcIAAICNIXRhwgAAgAIyOmHCAAAArJ3/YMIAAACKZMRgwgAAAGgriWDCAACAEZdOYMIAAAC7AhRgwgAAADKTsV/CAAAA7iA7X8IAAADYQcdewgAAACsZUl7CAAAA56bbXcIAAACjNGVdwgAAAI1V8VzCAAAA4Cx8XMIAAACcugVcwgAAAFhIj1vCAAAAQmkbW8IAAACVQKZawgAAAFHOL1rCAAAADVy5WcIAAABgM0RZwgAAALMKz1jCAAAAb5hYWMIAAAArJuJXwgAAABVHblfCAAAAaB75VsIAAAAkrIJWwgAAAOA5DFbCAAAAylqYVcIAAAAdMiNVwgAAANm/rFTCAAAAlU02VMIAAAB/bsJTwgAAANJFTVPCAAAAjtPWUsIAAABKYWBSwgAAAJ0461HCAAAA8A92UcIAAACsnf9QwgAAAGgriVDC\"},\"shape\":[48],\"dtype\":\"float64\",\"order\":\"little\"}],[\"#Passengers\",{\"type\":\"ndarray\",\"array\":{\"type\":\"bytes\",\"data\":\"q6qqqqoqXkCrqqqqqgpgQAAAAAAAAGJAq6qqqqpqXEBVVVVVVdVfQKuqqqqqCmFAAAAAAADAZEAAAAAAACBgQFVVVVVVtWNAAAAAAABgZUAAAAAAAEBoQAAAAAAAwGNAq6qqqqqqZkAAAAAAAEBoQAAAAAAAYGxAVVVVVVU1Z0CrqqqqqipqQFVVVVVVdW1Aq6qqqqoacECrqqqqqqpoQAAAAAAAIGpAVVVVVVU1bkCrqqqqqspxQKuqqqqqimtAq6qqqqrqbkCrqqqqqspxQAAAAAAAUHVAAAAAAABwcECrqqqqqkpyQAAAAAAA8HRAAAAAAABweEBVVVVVVWVyQAAAAAAAQHRAAAAAAABwd0BVVVVVVdV7QFVVVVVVlXRAAAAAAABAdUAAAAAAAOB3QKuqqqqqKn1AVVVVVVX1dEBVVVVVVRV3QFVVVVVV1XpAq6qqqqpagEBVVVVVVXV4QAAAAAAAkHlAVVVVVVWVfkBVVVVVVRWCQKuqqqqqunpA\"},\"shape\":[48],\"dtype\":\"float64\",\"order\":\"little\"}],[\"Period\",{\"type\":\"ndarray\",\"array\":[\"Quarterly\",\"Quarterly\",\"Quarterly\",\"Quarterly\",\"Quarterly\",\"Quarterly\",\"Quarterly\",\"Quarterly\",\"Quarterly\",\"Quarterly\",\"Quarterly\",\"Quarterly\",\"Quarterly\",\"Quarterly\",\"Quarterly\",\"Quarterly\",\"Quarterly\",\"Quarterly\",\"Quarterly\",\"Quarterly\",\"Quarterly\",\"Quarterly\",\"Quarterly\",\"Quarterly\",\"Quarterly\",\"Quarterly\",\"Quarterly\",\"Quarterly\",\"Quarterly\",\"Quarterly\",\"Quarterly\",\"Quarterly\",\"Quarterly\",\"Quarterly\",\"Quarterly\",\"Quarterly\",\"Quarterly\",\"Quarterly\",\"Quarterly\",\"Quarterly\",\"Quarterly\",\"Quarterly\",\"Quarterly\",\"Quarterly\",\"Quarterly\",\"Quarterly\",\"Quarterly\",\"Quarterly\"],\"shape\":[48],\"dtype\":\"object\",\"order\":\"little\"}]]}}},\"view\":{\"type\":\"object\",\"name\":\"CDSView\",\"id\":\"p1398\",\"attributes\":{\"filter\":{\"type\":\"object\",\"name\":\"AllIndices\",\"id\":\"p1399\"}}},\"glyph\":{\"type\":\"object\",\"name\":\"Line\",\"id\":\"p1394\",\"attributes\":{\"x\":{\"type\":\"field\",\"field\":\"Date\"},\"y\":{\"type\":\"field\",\"field\":\"#Passengers\"},\"line_color\":\"red\",\"line_width\":2}},\"nonselection_glyph\":{\"type\":\"object\",\"name\":\"Line\",\"id\":\"p1395\",\"attributes\":{\"x\":{\"type\":\"field\",\"field\":\"Date\"},\"y\":{\"type\":\"field\",\"field\":\"#Passengers\"},\"line_color\":\"red\",\"line_alpha\":0.1,\"line_width\":2}},\"muted_glyph\":{\"type\":\"object\",\"name\":\"Line\",\"id\":\"p1396\",\"attributes\":{\"x\":{\"type\":\"field\",\"field\":\"Date\"},\"y\":{\"type\":\"field\",\"field\":\"#Passengers\"},\"line_color\":\"red\",\"line_alpha\":0.2,\"line_width\":2}}}},{\"type\":\"object\",\"name\":\"GlyphRenderer\",\"id\":\"p1407\",\"attributes\":{\"data_source\":{\"type\":\"object\",\"name\":\"ColumnDataSource\",\"id\":\"p1328\",\"attributes\":{\"selected\":{\"type\":\"object\",\"name\":\"Selection\",\"id\":\"p1329\",\"attributes\":{\"indices\":[],\"line_indices\":[]}},\"selection_policy\":{\"type\":\"object\",\"name\":\"UnionRenderers\",\"id\":\"p1330\"},\"data\":{\"type\":\"map\",\"entries\":[[\"index\",{\"type\":\"ndarray\",\"array\":{\"type\":\"bytes\",\"data\":\"AAAAAAEAAAACAAAAAwAAAAQAAAAFAAAABgAAAAcAAAAIAAAACQAAAAoAAAALAAAA\"},\"shape\":[12],\"dtype\":\"int32\",\"order\":\"little\"}],[\"Date\",{\"type\":\"ndarray\",\"array\":{\"type\":\"bytes\",\"data\":\"AAAAsxdfYsIAAICNIXRhwgAAAGgriWDCAAAA7iA7X8IAAACjNGVdwgAAAFhIj1vCAAAADVy5WcIAAAArJuJXwgAAAOA5DFbCAAAAlU02VMIAAABKYWBSwgAAAGgriVDC\"},\"shape\":[12],\"dtype\":\"float64\",\"order\":\"little\"}],[\"#Passengers\",{\"type\":\"ndarray\",\"array\":{\"type\":\"bytes\",\"data\":\"q6qqqqqqX0BVVVVVVXVhQFVVVVVVRWVAAAAAAACgaEAAAAAAACBsQFVVVVVV3W1AAAAAAADAcUAAAAAAAIR0QKuqqqqqBndAAAAAAADQd0BVVVVVVcV6QKuqqqqqwn1A\"},\"shape\":[12],\"dtype\":\"float64\",\"order\":\"little\"}],[\"Period\",{\"type\":\"ndarray\",\"array\":[\"Yearly\",\"Yearly\",\"Yearly\",\"Yearly\",\"Yearly\",\"Yearly\",\"Yearly\",\"Yearly\",\"Yearly\",\"Yearly\",\"Yearly\",\"Yearly\"],\"shape\":[12],\"dtype\":\"object\",\"order\":\"little\"}]]}}},\"view\":{\"type\":\"object\",\"name\":\"CDSView\",\"id\":\"p1408\",\"attributes\":{\"filter\":{\"type\":\"object\",\"name\":\"AllIndices\",\"id\":\"p1409\"}}},\"glyph\":{\"type\":\"object\",\"name\":\"Line\",\"id\":\"p1404\",\"attributes\":{\"x\":{\"type\":\"field\",\"field\":\"Date\"},\"y\":{\"type\":\"field\",\"field\":\"#Passengers\"},\"line_color\":\"green\",\"line_width\":2}},\"nonselection_glyph\":{\"type\":\"object\",\"name\":\"Line\",\"id\":\"p1405\",\"attributes\":{\"x\":{\"type\":\"field\",\"field\":\"Date\"},\"y\":{\"type\":\"field\",\"field\":\"#Passengers\"},\"line_color\":\"green\",\"line_alpha\":0.1,\"line_width\":2}},\"muted_glyph\":{\"type\":\"object\",\"name\":\"Line\",\"id\":\"p1406\",\"attributes\":{\"x\":{\"type\":\"field\",\"field\":\"Date\"},\"y\":{\"type\":\"field\",\"field\":\"#Passengers\"},\"line_color\":\"green\",\"line_alpha\":0.2,\"line_width\":2}}}},{\"type\":\"object\",\"name\":\"GlyphRenderer\",\"id\":\"p1417\",\"attributes\":{\"data_source\":{\"id\":\"p1325\"},\"view\":{\"type\":\"object\",\"name\":\"CDSView\",\"id\":\"p1418\",\"attributes\":{\"filter\":{\"type\":\"object\",\"name\":\"AllIndices\",\"id\":\"p1419\"}}},\"glyph\":{\"type\":\"object\",\"name\":\"Scatter\",\"id\":\"p1414\",\"attributes\":{\"x\":{\"type\":\"field\",\"field\":\"Date\"},\"y\":{\"type\":\"field\",\"field\":\"#Passengers\"},\"size\":{\"type\":\"value\",\"value\":8},\"line_color\":{\"type\":\"value\",\"value\":\"red\"},\"fill_color\":{\"type\":\"value\",\"value\":\"red\"},\"hatch_color\":{\"type\":\"value\",\"value\":\"red\"}}},\"nonselection_glyph\":{\"type\":\"object\",\"name\":\"Scatter\",\"id\":\"p1415\",\"attributes\":{\"x\":{\"type\":\"field\",\"field\":\"Date\"},\"y\":{\"type\":\"field\",\"field\":\"#Passengers\"},\"size\":{\"type\":\"value\",\"value\":8},\"line_color\":{\"type\":\"value\",\"value\":\"red\"},\"line_alpha\":{\"type\":\"value\",\"value\":0.1},\"fill_color\":{\"type\":\"value\",\"value\":\"red\"},\"fill_alpha\":{\"type\":\"value\",\"value\":0.1},\"hatch_color\":{\"type\":\"value\",\"value\":\"red\"},\"hatch_alpha\":{\"type\":\"value\",\"value\":0.1}}},\"muted_glyph\":{\"type\":\"object\",\"name\":\"Scatter\",\"id\":\"p1416\",\"attributes\":{\"x\":{\"type\":\"field\",\"field\":\"Date\"},\"y\":{\"type\":\"field\",\"field\":\"#Passengers\"},\"size\":{\"type\":\"value\",\"value\":8},\"line_color\":{\"type\":\"value\",\"value\":\"red\"},\"line_alpha\":{\"type\":\"value\",\"value\":0.2},\"fill_color\":{\"type\":\"value\",\"value\":\"red\"},\"fill_alpha\":{\"type\":\"value\",\"value\":0.2},\"hatch_color\":{\"type\":\"value\",\"value\":\"red\"},\"hatch_alpha\":{\"type\":\"value\",\"value\":0.2}}}}},{\"type\":\"object\",\"name\":\"GlyphRenderer\",\"id\":\"p1426\",\"attributes\":{\"data_source\":{\"id\":\"p1328\"},\"view\":{\"type\":\"object\",\"name\":\"CDSView\",\"id\":\"p1427\",\"attributes\":{\"filter\":{\"type\":\"object\",\"name\":\"AllIndices\",\"id\":\"p1428\"}}},\"glyph\":{\"type\":\"object\",\"name\":\"Scatter\",\"id\":\"p1423\",\"attributes\":{\"x\":{\"type\":\"field\",\"field\":\"Date\"},\"y\":{\"type\":\"field\",\"field\":\"#Passengers\"},\"size\":{\"type\":\"value\",\"value\":10},\"line_color\":{\"type\":\"value\",\"value\":\"green\"},\"fill_color\":{\"type\":\"value\",\"value\":\"green\"},\"hatch_color\":{\"type\":\"value\",\"value\":\"green\"},\"marker\":{\"type\":\"value\",\"value\":\"square\"}}},\"nonselection_glyph\":{\"type\":\"object\",\"name\":\"Scatter\",\"id\":\"p1424\",\"attributes\":{\"x\":{\"type\":\"field\",\"field\":\"Date\"},\"y\":{\"type\":\"field\",\"field\":\"#Passengers\"},\"size\":{\"type\":\"value\",\"value\":10},\"line_color\":{\"type\":\"value\",\"value\":\"green\"},\"line_alpha\":{\"type\":\"value\",\"value\":0.1},\"fill_color\":{\"type\":\"value\",\"value\":\"green\"},\"fill_alpha\":{\"type\":\"value\",\"value\":0.1},\"hatch_color\":{\"type\":\"value\",\"value\":\"green\"},\"hatch_alpha\":{\"type\":\"value\",\"value\":0.1},\"marker\":{\"type\":\"value\",\"value\":\"square\"}}},\"muted_glyph\":{\"type\":\"object\",\"name\":\"Scatter\",\"id\":\"p1425\",\"attributes\":{\"x\":{\"type\":\"field\",\"field\":\"Date\"},\"y\":{\"type\":\"field\",\"field\":\"#Passengers\"},\"size\":{\"type\":\"value\",\"value\":10},\"line_color\":{\"type\":\"value\",\"value\":\"green\"},\"line_alpha\":{\"type\":\"value\",\"value\":0.2},\"fill_color\":{\"type\":\"value\",\"value\":\"green\"},\"fill_alpha\":{\"type\":\"value\",\"value\":0.2},\"hatch_color\":{\"type\":\"value\",\"value\":\"green\"},\"hatch_alpha\":{\"type\":\"value\",\"value\":0.2},\"marker\":{\"type\":\"value\",\"value\":\"square\"}}}}}],\"toolbar\":{\"type\":\"object\",\"name\":\"Toolbar\",\"id\":\"p1340\",\"attributes\":{\"tools\":[{\"type\":\"object\",\"name\":\"PanTool\",\"id\":\"p1367\"},{\"type\":\"object\",\"name\":\"WheelZoomTool\",\"id\":\"p1368\",\"attributes\":{\"renderers\":\"auto\"}},{\"type\":\"object\",\"name\":\"BoxZoomTool\",\"id\":\"p1369\",\"attributes\":{\"dimensions\":\"both\",\"overlay\":{\"type\":\"object\",\"name\":\"BoxAnnotation\",\"id\":\"p1370\",\"attributes\":{\"syncable\":false,\"line_color\":\"black\",\"line_alpha\":1.0,\"line_width\":2,\"line_dash\":[4,4],\"fill_color\":\"lightgrey\",\"fill_alpha\":0.5,\"level\":\"overlay\",\"visible\":false,\"left\":{\"type\":\"number\",\"value\":\"nan\"},\"right\":{\"type\":\"number\",\"value\":\"nan\"},\"top\":{\"type\":\"number\",\"value\":\"nan\"},\"bottom\":{\"type\":\"number\",\"value\":\"nan\"},\"left_units\":\"canvas\",\"right_units\":\"canvas\",\"top_units\":\"canvas\",\"bottom_units\":\"canvas\",\"handles\":{\"type\":\"object\",\"name\":\"BoxInteractionHandles\",\"id\":\"p1376\",\"attributes\":{\"all\":{\"type\":\"object\",\"name\":\"AreaVisuals\",\"id\":\"p1375\",\"attributes\":{\"fill_color\":\"white\",\"hover_fill_color\":\"lightgray\"}}}}}}}},{\"type\":\"object\",\"name\":\"SaveTool\",\"id\":\"p1377\"},{\"type\":\"object\",\"name\":\"ResetTool\",\"id\":\"p1378\"},{\"type\":\"object\",\"name\":\"HelpTool\",\"id\":\"p1379\"},{\"type\":\"object\",\"name\":\"HoverTool\",\"id\":\"p1429\",\"attributes\":{\"renderers\":\"auto\",\"tooltips\":[[\"Date\",\"@Date{%F}\"],[\"Passengers\",\"@{#Passengers}{0.0}\"],[\"Period\",\"@Period\"]],\"formatters\":{\"type\":\"map\",\"entries\":[[\"@Date\",\"datetime\"]]}}}]}},\"left\":[{\"type\":\"object\",\"name\":\"LinearAxis\",\"id\":\"p1362\",\"attributes\":{\"ticker\":{\"type\":\"object\",\"name\":\"BasicTicker\",\"id\":\"p1363\",\"attributes\":{\"mantissas\":[1,2,5]}},\"formatter\":{\"type\":\"object\",\"name\":\"BasicTickFormatter\",\"id\":\"p1364\"},\"axis_label\":\"Passenger Count\",\"major_label_policy\":{\"type\":\"object\",\"name\":\"AllLabels\",\"id\":\"p1365\"}}}],\"below\":[{\"type\":\"object\",\"name\":\"DatetimeAxis\",\"id\":\"p1343\",\"attributes\":{\"ticker\":{\"type\":\"object\",\"name\":\"DatetimeTicker\",\"id\":\"p1344\",\"attributes\":{\"num_minor_ticks\":5,\"tickers\":[{\"type\":\"object\",\"name\":\"AdaptiveTicker\",\"id\":\"p1345\",\"attributes\":{\"num_minor_ticks\":0,\"mantissas\":[1,2,5],\"max_interval\":500.0}},{\"type\":\"object\",\"name\":\"AdaptiveTicker\",\"id\":\"p1346\",\"attributes\":{\"num_minor_ticks\":0,\"base\":60,\"mantissas\":[1,2,5,10,15,20,30],\"min_interval\":1000.0,\"max_interval\":1800000.0}},{\"type\":\"object\",\"name\":\"AdaptiveTicker\",\"id\":\"p1347\",\"attributes\":{\"num_minor_ticks\":0,\"base\":24,\"mantissas\":[1,2,4,6,8,12],\"min_interval\":3600000.0,\"max_interval\":43200000.0}},{\"type\":\"object\",\"name\":\"DaysTicker\",\"id\":\"p1348\",\"attributes\":{\"days\":[1,2,3,4,5,6,7,8,9,10,11,12,13,14,15,16,17,18,19,20,21,22,23,24,25,26,27,28,29,30,31]}},{\"type\":\"object\",\"name\":\"DaysTicker\",\"id\":\"p1349\",\"attributes\":{\"days\":[1,4,7,10,13,16,19,22,25,28]}},{\"type\":\"object\",\"name\":\"DaysTicker\",\"id\":\"p1350\",\"attributes\":{\"days\":[1,8,15,22]}},{\"type\":\"object\",\"name\":\"DaysTicker\",\"id\":\"p1351\",\"attributes\":{\"days\":[1,15]}},{\"type\":\"object\",\"name\":\"MonthsTicker\",\"id\":\"p1352\",\"attributes\":{\"months\":[0,1,2,3,4,5,6,7,8,9,10,11]}},{\"type\":\"object\",\"name\":\"MonthsTicker\",\"id\":\"p1353\",\"attributes\":{\"months\":[0,2,4,6,8,10]}},{\"type\":\"object\",\"name\":\"MonthsTicker\",\"id\":\"p1354\",\"attributes\":{\"months\":[0,4,8]}},{\"type\":\"object\",\"name\":\"MonthsTicker\",\"id\":\"p1355\",\"attributes\":{\"months\":[0,6]}},{\"type\":\"object\",\"name\":\"YearsTicker\",\"id\":\"p1356\"}]}},\"formatter\":{\"type\":\"object\",\"name\":\"DatetimeTickFormatter\",\"id\":\"p1359\",\"attributes\":{\"seconds\":\"%T\",\"minsec\":\"%T\",\"minutes\":\"%H:%M\",\"hours\":\"%H:%M\",\"days\":\"%b %d\",\"months\":\"%b %Y\",\"strip_leading_zeros\":[\"microseconds\",\"milliseconds\",\"seconds\"],\"boundary_scaling\":false,\"context\":{\"type\":\"object\",\"name\":\"DatetimeTickFormatter\",\"id\":\"p1358\",\"attributes\":{\"microseconds\":\"%T\",\"milliseconds\":\"%T\",\"seconds\":\"%b %d, %Y\",\"minsec\":\"%b %d, %Y\",\"minutes\":\"%b %d, %Y\",\"hourmin\":\"%b %d, %Y\",\"hours\":\"%b %d, %Y\",\"days\":\"%Y\",\"months\":\"\",\"years\":\"\",\"boundary_scaling\":false,\"hide_repeats\":true,\"context\":{\"type\":\"object\",\"name\":\"DatetimeTickFormatter\",\"id\":\"p1357\",\"attributes\":{\"microseconds\":\"%b %d, %Y\",\"milliseconds\":\"%b %d, %Y\",\"seconds\":\"\",\"minsec\":\"\",\"minutes\":\"\",\"hourmin\":\"\",\"hours\":\"\",\"days\":\"\",\"months\":\"\",\"years\":\"\",\"boundary_scaling\":false,\"hide_repeats\":true}},\"context_which\":\"all\"}},\"context_which\":\"all\"}},\"axis_label\":\"Date\",\"major_label_policy\":{\"type\":\"object\",\"name\":\"AllLabels\",\"id\":\"p1360\"}}}],\"center\":[{\"type\":\"object\",\"name\":\"Grid\",\"id\":\"p1361\",\"attributes\":{\"axis\":{\"id\":\"p1343\"}}},{\"type\":\"object\",\"name\":\"Grid\",\"id\":\"p1366\",\"attributes\":{\"dimension\":1,\"axis\":{\"id\":\"p1362\"}}},{\"type\":\"object\",\"name\":\"Legend\",\"id\":\"p1389\",\"attributes\":{\"location\":\"top_left\",\"click_policy\":\"hide\",\"items\":[{\"type\":\"object\",\"name\":\"LegendItem\",\"id\":\"p1390\",\"attributes\":{\"label\":{\"type\":\"value\",\"value\":\"Monthly\"},\"renderers\":[{\"id\":\"p1386\"}]}},{\"type\":\"object\",\"name\":\"LegendItem\",\"id\":\"p1400\",\"attributes\":{\"label\":{\"type\":\"value\",\"value\":\"Quarterly\"},\"renderers\":[{\"id\":\"p1397\"}]}},{\"type\":\"object\",\"name\":\"LegendItem\",\"id\":\"p1410\",\"attributes\":{\"label\":{\"type\":\"value\",\"value\":\"Yearly\"},\"renderers\":[{\"id\":\"p1407\"}]}}]}}]}}]}};\n",
       "  const render_items = [{\"docid\":\"0f496157-070c-4726-902c-ddb32bbb0007\",\"roots\":{\"p1331\":\"a23b99a6-ce9d-4672-8c1c-3ae9b999e2d7\"},\"root_ids\":[\"p1331\"]}];\n",
       "  void root.Bokeh.embed.embed_items_notebook(docs_json, render_items);\n",
       "  }\n",
       "  if (root.Bokeh !== undefined) {\n",
       "    embed_document(root);\n",
       "  } else {\n",
       "    let attempts = 0;\n",
       "    const timer = setInterval(function(root) {\n",
       "      if (root.Bokeh !== undefined) {\n",
       "        clearInterval(timer);\n",
       "        embed_document(root);\n",
       "      } else {\n",
       "        attempts++;\n",
       "        if (attempts > 100) {\n",
       "          clearInterval(timer);\n",
       "          console.log(\"Bokeh: ERROR: Unable to run BokehJS code because BokehJS library is missing\");\n",
       "        }\n",
       "      }\n",
       "    }, 10, root)\n",
       "  }\n",
       "})(window);"
      ],
      "application/vnd.bokehjs_exec.v0+json": ""
     },
     "metadata": {
      "application/vnd.bokehjs_exec.v0+json": {
       "id": "p1331"
      }
     },
     "output_type": "display_data"
    }
   ],
   "source": [
    "df = df.sort_values('Date')\n",
    "\n",
    "df_indexed = df.set_index('Date')\n",
    "\n",
    "quarterly = df_indexed.resample('Q')['#Passengers'].mean().reset_index()\n",
    "quarterly['Period'] = 'Quarterly'\n",
    "\n",
    "yearly = df_indexed.resample('Y')['#Passengers'].mean().reset_index()\n",
    "yearly['Period'] = 'Yearly'\n",
    "\n",
    "original = df.copy()\n",
    "original['Period'] = 'Monthly'\n",
    "\n",
    "source_monthly = ColumnDataSource(original)\n",
    "source_quarterly = ColumnDataSource(quarterly)\n",
    "source_yearly = ColumnDataSource(yearly)\n",
    "\n",
    "p = figure(title='Air Passengers: Original vs Resampled Data',\n",
    "           x_axis_type='datetime',\n",
    "           x_axis_label='Date',\n",
    "           y_axis_label='Passenger Count',\n",
    "           width=800,\n",
    "           height=400)\n",
    "\n",
    "p.line(x='Date', y='#Passengers', source=source_monthly, line_width=2,\n",
    "       color='blue', legend_label='Monthly')\n",
    "p.line(x='Date', y='#Passengers', source=source_quarterly, line_width=2,\n",
    "       color='red', legend_label='Quarterly')\n",
    "p.line(x='Date', y='#Passengers', source=source_yearly, line_width=2,\n",
    "       color='green', legend_label='Yearly')\n",
    "\n",
    "p.circle(x='Date', y='#Passengers', source=source_quarterly, size=8, color='red')\n",
    "p.square(x='Date', y='#Passengers', source=source_yearly, size=10, color='green')\n",
    "\n",
    "hover = HoverTool(tooltips=[\n",
    "    ('Date', '@Date{%F}'),\n",
    "    ('Passengers', '@{#Passengers}{0.0}'),\n",
    "    ('Period', '@Period')\n",
    "], formatters={'@Date': 'datetime'})\n",
    "p.add_tools(hover)\n",
    "\n",
    "p.legend.location = \"top_left\"\n",
    "p.legend.click_policy = \"hide\"\n",
    "\n",
    "show(p)"
   ]
  },
  {
   "cell_type": "markdown",
   "id": "62c7f8800b3796ba",
   "metadata": {},
   "source": [
    "* Lag analysis"
   ]
  },
  {
   "cell_type": "code",
   "execution_count": 8,
   "id": "b8ece5ac49d28edd",
   "metadata": {
    "ExecuteTime": {
     "end_time": "2025-05-14T15:27:41.306330Z",
     "start_time": "2025-05-14T15:27:41.169074Z"
    }
   },
   "outputs": [
    {
     "name": "stderr",
     "output_type": "stream",
     "text": [
      "BokehDeprecationWarning: 'circle() method with size value' was deprecated in Bokeh 3.4.0 and will be removed, use 'scatter(size=...) instead' instead.\n",
      "BokehDeprecationWarning: 'circle() method with size value' was deprecated in Bokeh 3.4.0 and will be removed, use 'scatter(size=...) instead' instead.\n",
      "BokehDeprecationWarning: 'circle() method with size value' was deprecated in Bokeh 3.4.0 and will be removed, use 'scatter(size=...) instead' instead.\n"
     ]
    },
    {
     "data": {
      "text/html": [
       "\n",
       "  <div id=\"c7eb7ccc-ad01-4c90-b13c-d95825b0fbb1\" data-root-id=\"p1586\" style=\"display: contents;\"></div>\n"
      ]
     },
     "metadata": {},
     "output_type": "display_data"
    },
    {
     "data": {
      "application/javascript": [
       "(function(root) {\n",
       "  function embed_document(root) {\n",
       "  const docs_json = {\"84098e2a-2315-413e-a695-4af913dd2154\":{\"version\":\"3.7.3\",\"title\":\"Bokeh Application\",\"roots\":[{\"type\":\"object\",\"name\":\"Row\",\"id\":\"p1586\",\"attributes\":{\"children\":[{\"type\":\"object\",\"name\":\"Figure\",\"id\":\"p1445\",\"attributes\":{\"width\":400,\"height\":400,\"x_range\":{\"type\":\"object\",\"name\":\"DataRange1d\",\"id\":\"p1446\"},\"y_range\":{\"type\":\"object\",\"name\":\"DataRange1d\",\"id\":\"p1447\"},\"x_scale\":{\"type\":\"object\",\"name\":\"LinearScale\",\"id\":\"p1455\"},\"y_scale\":{\"type\":\"object\",\"name\":\"LinearScale\",\"id\":\"p1456\"},\"title\":{\"type\":\"object\",\"name\":\"Title\",\"id\":\"p1448\",\"attributes\":{\"text\":\"Lag 1 Analysis\"}},\"renderers\":[{\"type\":\"object\",\"name\":\"GlyphRenderer\",\"id\":\"p1489\",\"attributes\":{\"data_source\":{\"type\":\"object\",\"name\":\"ColumnDataSource\",\"id\":\"p1480\",\"attributes\":{\"selected\":{\"type\":\"object\",\"name\":\"Selection\",\"id\":\"p1481\",\"attributes\":{\"indices\":[],\"line_indices\":[]}},\"selection_policy\":{\"type\":\"object\",\"name\":\"UnionRenderers\",\"id\":\"p1482\"},\"data\":{\"type\":\"map\",\"entries\":[[\"index\",{\"type\":\"ndarray\",\"array\":{\"type\":\"bytes\",\"data\":\"DAAAAA0AAAAOAAAADwAAABAAAAARAAAAEgAAABMAAAAUAAAAFQAAABYAAAAXAAAAGAAAABkAAAAaAAAAGwAAABwAAAAdAAAAHgAAAB8AAAAgAAAAIQAAACIAAAAjAAAAJAAAACUAAAAmAAAAJwAAACgAAAApAAAAKgAAACsAAAAsAAAALQAAAC4AAAAvAAAAMAAAADEAAAAyAAAAMwAAADQAAAA1AAAANgAAADcAAAA4AAAAOQAAADoAAAA7AAAAPAAAAD0AAAA+AAAAPwAAAEAAAABBAAAAQgAAAEMAAABEAAAARQAAAEYAAABHAAAASAAAAEkAAABKAAAASwAAAEwAAABNAAAATgAAAE8AAABQAAAAUQAAAFIAAABTAAAAVAAAAFUAAABWAAAAVwAAAFgAAABZAAAAWgAAAFsAAABcAAAAXQAAAF4AAABfAAAAYAAAAGEAAABiAAAAYwAAAGQAAABlAAAAZgAAAGcAAABoAAAAaQAAAGoAAABrAAAAbAAAAG0AAABuAAAAbwAAAHAAAABxAAAAcgAAAHMAAAB0AAAAdQAAAHYAAAB3AAAAeAAAAHkAAAB6AAAAewAAAHwAAAB9AAAAfgAAAH8AAACAAAAAgQAAAIIAAACDAAAAhAAAAIUAAACGAAAAhwAAAIgAAACJAAAAigAAAIsAAACMAAAAjQAAAI4AAACPAAAA\"},\"shape\":[132],\"dtype\":\"int32\",\"order\":\"little\"}],[\"Date\",{\"type\":\"ndarray\",\"array\":{\"type\":\"bytes\",\"data\":\"AACAxm9VYsIAAIBW1kBiwgAAgH2GLWLCAAAAT9gRYsIAAIDL5gZiwgAAgJZw7mHCAACA+EPXYcIAAAD/C9RhwgAAAGHfvGHCAACABJ6eYcIAAIDwKo9hwgAAgEVufmHCAACASxtiYcIAAABS415hwgAAAEsASWHCAAAAjNAoYcIAAABePSZhwgAAAKyd/2DCAAAAuS35YMIAAAA8BOtgwgAAAHBE0WDCAACAJ3bCYMIAAIDR/KBgwgAAgOsclGDCAACA16mEYMIAAAAFIm5gwgAAgI7AXGDCAACATLpKYMIAAABMnzFgwgAAgOLNGWDCAACAZaQLYMIAAADXot5fwgAAAIEpvV/CAAAA3BmQX8IAAABLfXJfwgAAAA8kRF/CAAAAfocmX8IAAAC/VwZfwgAAAL4h1F7CAAAAIPW8XsIAAAD+u4FewgAAAPfYa17CAAAAAzMzXsIAAABeIwZewgAAAGTQ6V3CAAAAuRPZXcIAAAC43aZdwgAAAGJkhV3CAAAAnFFPXcIAAAC8HiZdwgAAAM9bA13CAAAAbFLoXMIAAABrHLZcwgAAAF1WilzCAAAAspl5XMIAAABizTtcwgAAACDHKVzCAAAALCHxW8IAAAA/Xs5bwgAAAPZ0plvCAAAA9T50W8IAAAAinERbwgAAAMZ1P1vCAAAAAGMJW8IAAACWdthawgAAAED9tlrCAAAARqqaWsIAAAChmm1awgAAAEQ+NlrCAAAAphEfWsIAAABQmP1ZwgAAAELS0VnCAAAAiU+VWcIAAAD/lY1ZwgAAAOQ/aFnCAAAAEZ04WcIAAACnsAdZwgAAAHjn0ljCAAAAXZGtWMIAAADM9I9YwgAAAAbiWVjCAAAATpVPWMIAAACVEhNYwgAAAPAC5lfCAAAAyBzHV8IAAACtxqFXwgAAAGvAj1fCAAAAi41mV8IAAAC46jZXwgAAADTeElfCAAAAOov2VsIAAACOmLNWwgAAAOPbolbCAAAAN+lfVsIAAACmTEJWwgAAAHeDDVbCAAAA2Vb2VcIAAACxcNdVwgAAAP/QsFXCAAAAnMeVVcIAAAB6jlpVwgAAAI3LN1XCAAAAcnUSVcIAAAA2HORUwgAAAHAJrlTCAAAAaSaYVMIAAAAtzWlUwgAAAIi9PFTCAAAAm/oZVMIAAAD26uxTwgAAABAL4FPCAAAA9bS6U8IAAACLyIlTwgAAAFz/VFPCAAAAt+8nU8IAAADyEiRTwgAAALa59VLCAAAAwhO9UsIAAACTSohSwgAAAAKualLCAAAAfqFGUsIAAABJKy5SwgAAAJCo8VHCAAAAxOjXUcIAAAD+1aFRwgAAAHQcmlHCAAAAwnxzUcIAAAA3jTlRwgAAABw3FFHCAAAA4N3lUMIAAAANO7ZQwgAAAFXuq1DC\"},\"shape\":[132],\"dtype\":\"float64\",\"order\":\"little\"}],[\"#Passengers\",{\"type\":\"ndarray\",\"array\":{\"type\":\"bytes\",\"data\":\"cwAAAH4AAACNAAAAhwAAAH0AAACVAAAAqgAAAKoAAACeAAAAhQAAAHIAAACMAAAAkQAAAJYAAACyAAAAowAAAKwAAACyAAAAxwAAAMcAAAC4AAAAogAAAJIAAACmAAAAqwAAALQAAADBAAAAtQAAALcAAADaAAAA5gAAAPIAAADRAAAAvwAAAKwAAADCAAAAxAAAAMQAAADsAAAA6wAAAOUAAADzAAAACAEAABABAADtAAAA0wAAALQAAADJAAAAzAAAALwAAADrAAAA4wAAAOoAAAAIAQAALgEAACUBAAADAQAA5QAAAMsAAADlAAAA8gAAAOkAAAALAQAADQEAAA4BAAA7AQAAbAEAAFsBAAA4AQAAEgEAAO0AAAAWAQAAHAEAABUBAAA9AQAAOQEAAD4BAAB2AQAAnQEAAJUBAABjAQAAMgEAAA8BAAAyAQAAOwEAAC0BAABkAQAAXAEAAGMBAACmAQAA0QEAANMBAACUAQAAWwEAADEBAABQAQAAVAEAAD4BAABqAQAAXAEAAGsBAACzAQAA6wEAAPkBAACUAQAAZwEAADYBAABRAQAAaAEAAFYBAACWAQAAjAEAAKQBAADYAQAAJAIAAC8CAADPAQAAlwEAAGoBAACVAQAAoQEAAIcBAACjAQAAzQEAANgBAAAXAgAAbgIAAF4CAAD8AQAAzQEAAIYBAACwAQAA\"},\"shape\":[132],\"dtype\":\"int32\",\"order\":\"little\"}],[\"Month\",{\"type\":\"ndarray\",\"array\":[\"January\",\"February\",\"March\",\"April\",\"May\",\"June\",\"July\",\"August\",\"September\",\"October\",\"November\",\"December\",\"January\",\"February\",\"March\",\"April\",\"May\",\"June\",\"July\",\"August\",\"September\",\"October\",\"November\",\"December\",\"January\",\"February\",\"March\",\"April\",\"May\",\"June\",\"July\",\"August\",\"September\",\"October\",\"November\",\"December\",\"January\",\"February\",\"March\",\"April\",\"May\",\"June\",\"July\",\"August\",\"September\",\"October\",\"November\",\"December\",\"January\",\"February\",\"March\",\"April\",\"May\",\"June\",\"July\",\"August\",\"September\",\"October\",\"November\",\"December\",\"January\",\"February\",\"March\",\"April\",\"May\",\"June\",\"July\",\"August\",\"September\",\"October\",\"November\",\"December\",\"January\",\"February\",\"March\",\"April\",\"May\",\"June\",\"July\",\"August\",\"September\",\"October\",\"November\",\"December\",\"January\",\"February\",\"March\",\"April\",\"May\",\"June\",\"July\",\"August\",\"September\",\"October\",\"November\",\"December\",\"January\",\"February\",\"March\",\"April\",\"May\",\"June\",\"July\",\"August\",\"September\",\"October\",\"November\",\"December\",\"January\",\"February\",\"March\",\"April\",\"May\",\"June\",\"July\",\"August\",\"September\",\"October\",\"November\",\"December\",\"January\",\"February\",\"March\",\"April\",\"May\",\"June\",\"July\",\"August\",\"September\",\"October\",\"November\",\"December\"],\"shape\":[132],\"dtype\":\"object\",\"order\":\"little\"}],[\"Year\",{\"type\":\"ndarray\",\"array\":{\"type\":\"bytes\",\"data\":\"ngcAAJ4HAACeBwAAngcAAJ4HAACeBwAAngcAAJ4HAACeBwAAngcAAJ4HAACeBwAAnwcAAJ8HAACfBwAAnwcAAJ8HAACfBwAAnwcAAJ8HAACfBwAAnwcAAJ8HAACfBwAAoAcAAKAHAACgBwAAoAcAAKAHAACgBwAAoAcAAKAHAACgBwAAoAcAAKAHAACgBwAAoQcAAKEHAAChBwAAoQcAAKEHAAChBwAAoQcAAKEHAAChBwAAoQcAAKEHAAChBwAAogcAAKIHAACiBwAAogcAAKIHAACiBwAAogcAAKIHAACiBwAAogcAAKIHAACiBwAAowcAAKMHAACjBwAAowcAAKMHAACjBwAAowcAAKMHAACjBwAAowcAAKMHAACjBwAApAcAAKQHAACkBwAApAcAAKQHAACkBwAApAcAAKQHAACkBwAApAcAAKQHAACkBwAApQcAAKUHAAClBwAApQcAAKUHAAClBwAApQcAAKUHAAClBwAApQcAAKUHAAClBwAApgcAAKYHAACmBwAApgcAAKYHAACmBwAApgcAAKYHAACmBwAApgcAAKYHAACmBwAApwcAAKcHAACnBwAApwcAAKcHAACnBwAApwcAAKcHAACnBwAApwcAAKcHAACnBwAAqAcAAKgHAACoBwAAqAcAAKgHAACoBwAAqAcAAKgHAACoBwAAqAcAAKgHAACoBwAA\"},\"shape\":[132],\"dtype\":\"int32\",\"order\":\"little\"}],[\"Rolling_Mean\",{\"type\":\"ndarray\",\"array\":{\"type\":\"bytes\",\"data\":\"q6qqqqq6X0BVVVVVVeVfQKuqqqqqCmBAq6qqqqoaYEBVVVVVVSVgQKuqqqqqSmBAVVVVVVWFYEAAAAAAAMBgQKuqqqqq+mBAAAAAAAAgYUCrqqqqqjphQFVVVVVVdWFAVVVVVVXFYUBVVVVVVQViQAAAAAAAaGJAq6qqqqqyYkAAAAAAADBjQFVVVVVVfWNAq6qqqqrKY0AAAAAAABhkQFVVVVVVXWRAq6qqqqqqZEAAAAAAAABlQFVVVVVVRWVAq6qqqqqKZUCrqqqqqtplQKuqqqqqAmZAq6qqqqoyZkAAAAAAAFBmQKuqqqqqumZAVVVVVVUNZ0AAAAAAAIBnQKuqqqqqwmdAAAAAAAAQaEBVVVVVVVVoQAAAAAAAoGhAq6qqqqriaEBVVVVVVQ1pQAAAAAAAgGlAAAAAAAAQakCrqqqqqopqQFVVVVVVzWpAAAAAAAAoa0AAAAAAAHhrQKuqqqqqwmtAAAAAAAD4a0BVVVVVVQ1sQAAAAAAAIGxAVVVVVVU1bEAAAAAAACBsQFVVVVVVHWxAAAAAAAAIbEBVVVVVVRVsQFVVVVVVTWxAq6qqqqqybECrqqqqqupsQFVVVVVVJW1AVVVVVVVVbUCrqqqqqpJtQFVVVVVV3W1Aq6qqqqpCbkCrqqqqqrpuQAAAAAAAEG9AAAAAAACAb0AAAAAAAOBvQAAAAAAANHBAq6qqqqqGcECrqqqqqs5wQFVVVVVVFXFAVVVVVVVRcUCrqqqqqn5xQAAAAAAAwHFAAAAAAAD4cUCrqqqqqjJyQFVVVVVVdXJAAAAAAACwckAAAAAAAPByQKuqqqqqPnNAAAAAAACAc0BVVVVVVc1zQKuqqqqqBnRAVVVVVVUxdECrqqqqql50QAAAAAAAhHRAVVVVVVWtdEBVVVVVVc10QFVVVVVVAXVAAAAAAAAwdUBVVVVVVWF1QFVVVVVVoXVAq6qqqqrmdUBVVVVVVTl2QKuqqqqqenZAVVVVVVWxdkCrqqqqqt52QKuqqqqqBndAAAAAAAAod0Crqqqqqj53QKuqqqqqRndAq6qqqqpGd0BVVVVVVVF3QKuqqqqqYndAVVVVVVWFd0AAAAAAALh3QAAAAAAAuHdAAAAAAADId0Crqqqqqs53QAAAAAAA0HdAq6qqqqrqd0Crqqqqqgp4QFVVVVVVRXhAVVVVVVWFeEBVVVVVVdF4QKuqqqqqAnlAq6qqqqpOeUCrqqqqqpZ5QFVVVVVV5XlAVVVVVVUlekCrqqqqqmp6QFVVVVVVxXpAVVVVVVURe0CrqqqqqlJ7QAAAAAAAZHtAq6qqqqq6e0AAAAAAAAB8QAAAAAAAVHxAq6qqqqq2fEBVVVVVVfV8QFVVVVVVMX1AVVVVVVV5fUCrqqqqqp59QKuqqqqqwn1A\"},\"shape\":[132],\"dtype\":\"float64\",\"order\":\"little\"}],[\"Rolling_Std\",{\"type\":\"ndarray\",\"array\":{\"type\":\"bytes\",\"data\":\"u1jdgRzoKkBqWNYxPFUqQOLzmGu7XytAfCG0cxqlK0AawYHK0VMrQNofUMt8hS1AnBSHYJAiMkA4Ja7YN8w0QCL2w5PP7TVA20eFvdhQNUAswbxKOxE0QM4Xyp8iEjNAVOA67J9wMUDOgwef98cwQFGiZGdcWTNAQgDhtPdsM0B6eFRppL4yQILWmJxi8TNAHH807z1IN0BbePwsd/Q5QFoIL77WxjpAToDG+SUWOUDxLxJfZWU0QLfxT0cycDJArjfngECnMEDZJw0wjl0uQM1+JhkvDzBAAyeO1jgeL0C2pzOgYAwvQGvzyuDkQDNA6DIkbEdmN0DQ+9BvMY88QLjmWtqWJT1AiaDyRdbGO0C0PdCurKg4QDewT5Zk9zZAFEjU5Kx6NUBTiL7CDqs0QOx4gCwK4DZADZwE2Gc/N0AAus2xa3A2QGrRAON/HDhAINKHWj7SO0C8k3e7f14/QPve7A+piT9ALlFqb3I/PkAXaKXSmRE9QIKGauKFdzxAxoRGbujPO0AYdz2qqKs8QNI7i8wYozxARPRKkkJ5PEBuNOwP+5U8QIum1MJPZT5AyC5SmgYOQkB9M30nuWFDQLYzkbWryENAQjMYTHV+Q0Agm1nxwkVCQFIPm4tVdkFAfkR15fuSQEAR8KNtT7k8QOdjWOsIHD1A5Gy3ohjQPEA4kyOCWaQ8QARpMSjJvEBAOAQhW8jsRUCRZx+/FLtIQBkrLzraa0lAUYGhTOpySEDXgSkkMYZGQFZ/P4X6EUVAL2sgKFgDREDXwFjdhzdCQNp6676GI0JAnFIhkanLQUAge7l/c1xBQBqts4T3JkRAxDYktdkaSED2zIWg8ENLQGx+6/cey0tAgmSqVCjzSkDR5hCip9hIQCfi789O7kdAMyWzvIoHR0DJc4j91v1FQGOcE9HdEkZAaX5Q+4bRRUBERhGzgalFQCxFI2HHOUhAZ1qHPwlPTEDqEoFyhhZQQEf3ckJSdlBAOv7EHg/sT0BpkryWYgNOQPGuUfEI8kxAh5+PyxkcTEBq8+s7lz9LQC8a8rGzLktALxrysbMuS0BhJWcKHhdLQN0k9D6srktALtYfj4XLTUA14wPEpmNQQDXjA8SmY1BAlgkvGMxGUEBAp8rq9CVQQGp/4kDzIVBA6wJgCEnQT0Ac9eoKOeFOQFkI0lR4zE5A0uG5VXAkTkCcxrP6DgFOQIVkAXIrgU9AWailmDr/UUCL+5XdKANUQJWisqIRX1RAnS7zCYzrU0BK15Is659SQJWve04gdVFA5no8KfanUEDaLHj93u5OQH0cVqn9sE5A7JGkzPIVTkAsyznQnxdOQCOoVvtlQVBATKNu23JMU0AbtJIeWuhUQJ8EmnGBJ1VAWqaqYa+iVEBRif8HJ+BTQOBRaQ4tb1NA\"},\"shape\":[132],\"dtype\":\"float64\",\"order\":\"little\"}],[\"Upper_Band\",{\"type\":\"ndarray\",\"array\":{\"type\":\"bytes\",\"data\":\"4SpzHdeLYUAxEMht/pdhQOk5ZGGmwGFAw+zlUfzUYUBncf1xktphQKmsX3cCI2JA6DdmYafJYkCnxBX7hlljQG8pI51kuGNA+6iwFxvKY0DQQgIU0rxjQE+YTqmZ12NAYLHcUmnzY0DPRTZJVB5kQEqU7Iwr02RAs8pGoUkgZUAPjyqN1IdlQCVw6KiB+2VAjjqRaLKzZkALj5/ljlZnQGA2Gy0wtmdAtXrjaW/NZ0D+ReKrrIxnQIxTP55bk2dAoZHHupKfZ0ApfauNg8BnQIV6z42QBGhAG40TOI4kaEB7OgMKxkBoQBgJxEbHImlAstvZQh76aUB6H/ot5hFrQIIH9oVdZ2tAEVS+yNqIa0AMXS/ramprQAf2yZLsfmtArjNFRwCSa0BfJq0tt6JrQB4PkEUBXGxAgpMA++z3bEDrYeQguFhtQIJvtVHl0G1ARPpQy0eibkB48m73z2NvQIpGqMzfs29AJkrtTe6/b0BYAqqPiK9vQNBQTbzwrm9A7iUeY1Kvb0DjrkcVdbVvQM+85m64sW9AiF5JUiiXb0Dj21K3FKhvQBP116b/DHBALpufKBabcEDF+0R6jOFwQCHRXCHAC3FAE7EtVHkacUC6iICzDRJxQJUMHlx1HXFA5f0D0rQzcUBXlC9M6ihxQD6GtY7AWXFAznYrigGNcUA0OSKYRbpxQCAtBiWZS3JAMssOtkNEc0Cdl45CDeZzQLg6m5zQQnRAf4XpnrJfdEDm2i/PcE90QOvvp1A/YnRAZg0EBWt4dEDGwlWmm3l0QLDEMi3GuXRAVCokMnXpdEBkL/dvjht1QE4gQZuJw3VA2IakNluDdkD0DmZp0zV3QHgaqIkOgHdA5aHqX7qPd0CFx+yev3l3QEX8/dnJgXdA+7nrrEaOd0DOYwY1EI13QOHIdw+xw3dAzQ9q3zDqd0AefreLhRZ4QPq9eUGOqHhA+JWb0otweUAQmvXx9j56QH1oRzs/mHpAHPUtOdeuekD4PIL9Fp96QIng1MjrpHpA8fNxOYOrekAYKSiSnaZ6QPHt6CCBrHpA8e3oIIGsekABOqIWObR6QEcviTKA2HpAG1A5B8Y+e0DN+ACx6dB7QM34ALHp0HtAZsILBrPZe0B7VF3lJ9h7QNqfONB82HtACKu2y7Pke0BOCQjM0eZ7QGCW71/kHnxAj5EMYONJfEAozqs0d5F8QDzX6hjQ8nxAwRTUUHnOfUCOKRDidJd+QPr9Ab4Z/X5A/CDSVzggf0B+YM91pRJ/QDpB9GidIn9ADnSk31I7f0BGsFmKhjB/QJDDKrUfOn9A6Dw/BGl9f0BmOQf688J/QATVar8sMoBAvynDsOPEgEAuAX3utReBQD7r3diaPYFAdv/flgBRgUCARlU2WkuBQJJ/Ivc6T4FA\"},\"shape\":[132],\"dtype\":\"float64\",\"order\":\"little\"}],[\"Lower_Band\",{\"type\":\"ndarray\",\"array\":{\"type\":\"bytes\",\"data\":\"lP9uGqddXEBIihrPrZpcQNo24uddqVxAJtHeBrLAXECHclpxMOBcQFtR67ul5FxAg+WIkgaCXECydtQJ8kxcQM5XZHDheVxACa6e0MnrXEALJaaCBnFdQLYkuAIiJl5AlfKbr4IuX0C2yejCrNhfQGzXJuao+V9Ao4oOtAtFYEDxcNVyK9hgQIU6wgEp/2BAyBrE7KLhYED1cGAacdlgQEp0j316BGFAodpx6+WHYUACuh1UU3NiQB5XawxP92JAtcONmsJ1Y0At2KnH0fRjQNHahcfEAGRAO8hBHcdAZECFxfz1OV9kQD5MkQ6OUmRA+M7QZ4wgZECG4AXSGe5jQNRNX8/3HWRA76tBNyWXZECeTXu/P0BlQPkJNm0TwWVAqCEQDlUzZkBLhP1883dmQOLwb7r+o2ZAfmz/BBMoZ0Br83A0nbxnQCg79VjFyWdAvAWvNLitZ0CIDZEIMIxnQMwOrYh10WdA2rUSshEwaEBSqAAbImtoQDCvskMPkWhAvISMR1i7aEAdUbjqiopoQNvtwzvyiGhAeKG2rdd4aEDHzlfzlYJoQITA+lyrgGhA+R4WBCkvaEDMXctgPBJoQGgI8WcqM2hAhEhPArh1aEDjQ1TuOQFpQICRbvK/f2lAjFlNsesdakCpLPa8gCNrQIPzlOJ+bGtAZBKp6/zla0CZjbvPdEtsQL+l87XNOGxASBSNPiOSa0Bye40lkG5rQOTfHhy0z2tAVkqCF/CFbEDg9EoMyVttQCogsF6BO25ANOX39SnvbkAgJf9dc9dvQPrld33kMHBArNXbzYp2cECc0AiQccRwQAg1FLrLuXBAKHlbyaR8cEC2m0RB12RwQN46rctGjXBAxQjASvDScEDRjWi2lUNxQLsDAiY2hnFAr/C+/WPMcUDcRqR1mg1yQMnhMpv5PnJAM/CVIM91ckCMLPMeJaxyQLDsMGkcmnJAXr+5gslcckCaELW4szNyQNnsDRoWXXJAjrV8cdOzckBeGNNXPh5zQM10gIxpaHNADwyOxnykc0A+LC3Dt9ZzQGVnbDTU4HNAZWdsNNTgc0CpcAiUce5zQA8mzCLV7HNAj1pxo+TLc0AzB/9OFp9zQDMH/04Wn3NAmj30+Uy2c0DbAPhvLcVzQCZgxy+Dx3NATqqeiaHwc0AITE2Jgy50QEoUu0rGa3RAGxmeSsfAdECC3P51MxF1QBp+ajyFEnVAlUCBBNzOdEDIK0Vz4JV0QLCsqOyQzXRAronYUnIqdUDY9IXfr8J1QHBptkENaHZAnDYGy1fndkAQpfvKznR3QHA81UrgjXdAbhgWUez3d0CaxvgFDD14QPdVKoGmQ3hA2AHP843jd0BOqLDNPrt3QC3U7vh053dAvqvqfKlQeEBXyKrooKZ4QDNWEGff5nhA\"},\"shape\":[132],\"dtype\":\"float64\",\"order\":\"little\"}],[\"Is_Outlier\",{\"type\":\"ndarray\",\"array\":{\"type\":\"bytes\",\"data\":\"AAAAAAABAQEBAAEAAAABAAABAQEAAAEAAAABAAABAQEAAAAAAAABAQABAQEAAAEAAAEAAAABAQEAAAAAAAAAAAABAQEAAAAAAAAAAAABAQEAAAEAAAAAAAABAQEAAAEAAAAAAAABAQEAAAEAAAAAAAABAQEAAAAAAAAAAAABAQEAAAEA\"},\"shape\":[132],\"dtype\":\"bool\",\"order\":\"little\"}],[\"Lag_1\",{\"type\":\"ndarray\",\"array\":{\"type\":\"bytes\",\"data\":\"AAAAAACAXUAAAAAAAMBcQAAAAAAAgF9AAAAAAACgYUAAAAAAAOBgQAAAAAAAQF9AAAAAAACgYkAAAAAAAEBlQAAAAAAAQGVAAAAAAADAY0AAAAAAAKBgQAAAAAAAgFxAAAAAAACAYUAAAAAAACBiQAAAAAAAwGJAAAAAAABAZkAAAAAAAGBkQAAAAAAAgGVAAAAAAABAZkAAAAAAAOBoQAAAAAAA4GhAAAAAAAAAZ0AAAAAAAEBkQAAAAAAAQGJAAAAAAADAZEAAAAAAAGBlQAAAAAAAgGZAAAAAAAAgaEAAAAAAAKBmQAAAAAAA4GZAAAAAAABAa0AAAAAAAMBsQAAAAAAAQG5AAAAAAAAgakAAAAAAAOBnQAAAAAAAgGVAAAAAAABAaEAAAAAAAIBoQAAAAAAAgGhAAAAAAACAbUAAAAAAAGBtQAAAAAAAoGxAAAAAAABgbkAAAAAAAIBwQAAAAAAAAHFAAAAAAACgbUAAAAAAAGBqQAAAAAAAgGZAAAAAAAAgaUAAAAAAAIBpQAAAAAAAgGdAAAAAAABgbUAAAAAAAGBsQAAAAAAAQG1AAAAAAACAcEAAAAAAAOByQAAAAAAAUHJAAAAAAAAwcEAAAAAAAKBsQAAAAAAAYGlAAAAAAACgbEAAAAAAAEBuQAAAAAAAIG1AAAAAAACwcEAAAAAAANBwQAAAAAAA4HBAAAAAAACwc0AAAAAAAMB2QAAAAAAAsHVAAAAAAACAc0AAAAAAACBxQAAAAAAAoG1AAAAAAABgcUAAAAAAAMBxQAAAAAAAUHFAAAAAAADQc0AAAAAAAJBzQAAAAAAA4HNAAAAAAABgd0AAAAAAANB5QAAAAAAAUHlAAAAAAAAwdkAAAAAAACBzQAAAAAAA8HBAAAAAAAAgc0AAAAAAALBzQAAAAAAA0HJAAAAAAABAdkAAAAAAAMB1QAAAAAAAMHZAAAAAAABgekAAAAAAABB9QAAAAAAAMH1AAAAAAABAeUAAAAAAALB1QAAAAAAAEHNAAAAAAAAAdUAAAAAAAEB1QAAAAAAA4HNAAAAAAACgdkAAAAAAAMB1QAAAAAAAsHZAAAAAAAAwe0AAAAAAALB+QAAAAAAAkH9AAAAAAABAeUAAAAAAAHB2QAAAAAAAYHNAAAAAAAAQdUAAAAAAAIB2QAAAAAAAYHVAAAAAAABgeUAAAAAAAMB4QAAAAAAAQHpAAAAAAACAfUAAAAAAACCBQAAAAAAAeIFAAAAAAADwfEAAAAAAAHB5QAAAAAAAoHZAAAAAAABQeUAAAAAAABB6QAAAAAAAcHhAAAAAAAAwekAAAAAAANB8QAAAAAAAgH1AAAAAAAC4gEAAAAAAAHCDQAAAAAAA8IJAAAAAAADAf0AAAAAAANB8QAAAAAAAYHhA\"},\"shape\":[132],\"dtype\":\"float64\",\"order\":\"little\"}],[\"Lag_6\",{\"type\":\"ndarray\",\"array\":{\"type\":\"bytes\",\"data\":\"AAAAAACAYkAAAAAAAIBiQAAAAAAAAGFAAAAAAADAXUAAAAAAAABaQAAAAAAAgF1AAAAAAADAXEAAAAAAAIBfQAAAAAAAoGFAAAAAAADgYEAAAAAAAEBfQAAAAAAAoGJAAAAAAABAZUAAAAAAAEBlQAAAAAAAwGNAAAAAAACgYEAAAAAAAIBcQAAAAAAAgGFAAAAAAAAgYkAAAAAAAMBiQAAAAAAAQGZAAAAAAABgZEAAAAAAAIBlQAAAAAAAQGZAAAAAAADgaEAAAAAAAOBoQAAAAAAAAGdAAAAAAABAZEAAAAAAAEBiQAAAAAAAwGRAAAAAAABgZUAAAAAAAIBmQAAAAAAAIGhAAAAAAACgZkAAAAAAAOBmQAAAAAAAQGtAAAAAAADAbEAAAAAAAEBuQAAAAAAAIGpAAAAAAADgZ0AAAAAAAIBlQAAAAAAAQGhAAAAAAACAaEAAAAAAAIBoQAAAAAAAgG1AAAAAAABgbUAAAAAAAKBsQAAAAAAAYG5AAAAAAACAcEAAAAAAAABxQAAAAAAAoG1AAAAAAABgakAAAAAAAIBmQAAAAAAAIGlAAAAAAACAaUAAAAAAAIBnQAAAAAAAYG1AAAAAAABgbEAAAAAAAEBtQAAAAAAAgHBAAAAAAADgckAAAAAAAFByQAAAAAAAMHBAAAAAAACgbEAAAAAAAGBpQAAAAAAAoGxAAAAAAABAbkAAAAAAACBtQAAAAAAAsHBAAAAAAADQcEAAAAAAAOBwQAAAAAAAsHNAAAAAAADAdkAAAAAAALB1QAAAAAAAgHNAAAAAAAAgcUAAAAAAAKBtQAAAAAAAYHFAAAAAAADAcUAAAAAAAFBxQAAAAAAA0HNAAAAAAACQc0AAAAAAAOBzQAAAAAAAYHdAAAAAAADQeUAAAAAAAFB5QAAAAAAAMHZAAAAAAAAgc0AAAAAAAPBwQAAAAAAAIHNAAAAAAACwc0AAAAAAANByQAAAAAAAQHZAAAAAAADAdUAAAAAAADB2QAAAAAAAYHpAAAAAAAAQfUAAAAAAADB9QAAAAAAAQHlAAAAAAACwdUAAAAAAABBzQAAAAAAAAHVAAAAAAABAdUAAAAAAAOBzQAAAAAAAoHZAAAAAAADAdUAAAAAAALB2QAAAAAAAMHtAAAAAAACwfkAAAAAAAJB/QAAAAAAAQHlAAAAAAABwdkAAAAAAAGBzQAAAAAAAEHVAAAAAAACAdkAAAAAAAGB1QAAAAAAAYHlAAAAAAADAeEAAAAAAAEB6QAAAAAAAgH1AAAAAAAAggUAAAAAAAHiBQAAAAAAA8HxAAAAAAABweUAAAAAAAKB2QAAAAAAAUHlAAAAAAAAQekAAAAAAAHB4QAAAAAAAMHpAAAAAAADQfEAAAAAAAIB9QAAAAAAAuIBA\"},\"shape\":[132],\"dtype\":\"float64\",\"order\":\"little\"}],[\"Lag_12\",{\"type\":\"ndarray\",\"array\":{\"type\":\"bytes\",\"data\":\"AAAAAAAAXEAAAAAAAIBdQAAAAAAAgGBAAAAAAAAgYEAAAAAAAEBeQAAAAAAA4GBAAAAAAACAYkAAAAAAAIBiQAAAAAAAAGFAAAAAAADAXUAAAAAAAABaQAAAAAAAgF1AAAAAAADAXEAAAAAAAIBfQAAAAAAAoGFAAAAAAADgYEAAAAAAAEBfQAAAAAAAoGJAAAAAAABAZUAAAAAAAEBlQAAAAAAAwGNAAAAAAACgYEAAAAAAAIBcQAAAAAAAgGFAAAAAAAAgYkAAAAAAAMBiQAAAAAAAQGZAAAAAAABgZEAAAAAAAIBlQAAAAAAAQGZAAAAAAADgaEAAAAAAAOBoQAAAAAAAAGdAAAAAAABAZEAAAAAAAEBiQAAAAAAAwGRAAAAAAABgZUAAAAAAAIBmQAAAAAAAIGhAAAAAAACgZkAAAAAAAOBmQAAAAAAAQGtAAAAAAADAbEAAAAAAAEBuQAAAAAAAIGpAAAAAAADgZ0AAAAAAAIBlQAAAAAAAQGhAAAAAAACAaEAAAAAAAIBoQAAAAAAAgG1AAAAAAABgbUAAAAAAAKBsQAAAAAAAYG5AAAAAAACAcEAAAAAAAABxQAAAAAAAoG1AAAAAAABgakAAAAAAAIBmQAAAAAAAIGlAAAAAAACAaUAAAAAAAIBnQAAAAAAAYG1AAAAAAABgbEAAAAAAAEBtQAAAAAAAgHBAAAAAAADgckAAAAAAAFByQAAAAAAAMHBAAAAAAACgbEAAAAAAAGBpQAAAAAAAoGxAAAAAAABAbkAAAAAAACBtQAAAAAAAsHBAAAAAAADQcEAAAAAAAOBwQAAAAAAAsHNAAAAAAADAdkAAAAAAALB1QAAAAAAAgHNAAAAAAAAgcUAAAAAAAKBtQAAAAAAAYHFAAAAAAADAcUAAAAAAAFBxQAAAAAAA0HNAAAAAAACQc0AAAAAAAOBzQAAAAAAAYHdAAAAAAADQeUAAAAAAAFB5QAAAAAAAMHZAAAAAAAAgc0AAAAAAAPBwQAAAAAAAIHNAAAAAAACwc0AAAAAAANByQAAAAAAAQHZAAAAAAADAdUAAAAAAADB2QAAAAAAAYHpAAAAAAAAQfUAAAAAAADB9QAAAAAAAQHlAAAAAAACwdUAAAAAAABBzQAAAAAAAAHVAAAAAAABAdUAAAAAAAOBzQAAAAAAAoHZAAAAAAADAdUAAAAAAALB2QAAAAAAAMHtAAAAAAACwfkAAAAAAAJB/QAAAAAAAQHlAAAAAAABwdkAAAAAAAGBzQAAAAAAAEHVAAAAAAACAdkAAAAAAAGB1QAAAAAAAYHlAAAAAAADAeEAAAAAAAEB6QAAAAAAAgH1AAAAAAAAggUAAAAAAAHiBQAAAAAAA8HxAAAAAAABweUAAAAAAAKB2QAAAAAAAUHlA\"},\"shape\":[132],\"dtype\":\"float64\",\"order\":\"little\"}]]}}},\"view\":{\"type\":\"object\",\"name\":\"CDSView\",\"id\":\"p1490\",\"attributes\":{\"filter\":{\"type\":\"object\",\"name\":\"AllIndices\",\"id\":\"p1491\"}}},\"glyph\":{\"type\":\"object\",\"name\":\"Scatter\",\"id\":\"p1486\",\"attributes\":{\"x\":{\"type\":\"field\",\"field\":\"Lag_1\"},\"y\":{\"type\":\"field\",\"field\":\"#Passengers\"},\"size\":{\"type\":\"value\",\"value\":8},\"line_color\":{\"type\":\"value\",\"value\":\"#1f77b4\"},\"fill_color\":{\"type\":\"value\",\"value\":\"#1f77b4\"}}},\"nonselection_glyph\":{\"type\":\"object\",\"name\":\"Scatter\",\"id\":\"p1487\",\"attributes\":{\"x\":{\"type\":\"field\",\"field\":\"Lag_1\"},\"y\":{\"type\":\"field\",\"field\":\"#Passengers\"},\"size\":{\"type\":\"value\",\"value\":8},\"line_color\":{\"type\":\"value\",\"value\":\"#1f77b4\"},\"line_alpha\":{\"type\":\"value\",\"value\":0.1},\"fill_color\":{\"type\":\"value\",\"value\":\"#1f77b4\"},\"fill_alpha\":{\"type\":\"value\",\"value\":0.1},\"hatch_alpha\":{\"type\":\"value\",\"value\":0.1}}},\"muted_glyph\":{\"type\":\"object\",\"name\":\"Scatter\",\"id\":\"p1488\",\"attributes\":{\"x\":{\"type\":\"field\",\"field\":\"Lag_1\"},\"y\":{\"type\":\"field\",\"field\":\"#Passengers\"},\"size\":{\"type\":\"value\",\"value\":8},\"line_color\":{\"type\":\"value\",\"value\":\"#1f77b4\"},\"line_alpha\":{\"type\":\"value\",\"value\":0.2},\"fill_color\":{\"type\":\"value\",\"value\":\"#1f77b4\"},\"fill_alpha\":{\"type\":\"value\",\"value\":0.2},\"hatch_alpha\":{\"type\":\"value\",\"value\":0.2}}}}}],\"toolbar\":{\"type\":\"object\",\"name\":\"Toolbar\",\"id\":\"p1454\",\"attributes\":{\"tools\":[{\"type\":\"object\",\"name\":\"PanTool\",\"id\":\"p1467\"},{\"type\":\"object\",\"name\":\"WheelZoomTool\",\"id\":\"p1468\",\"attributes\":{\"renderers\":\"auto\"}},{\"type\":\"object\",\"name\":\"BoxZoomTool\",\"id\":\"p1469\",\"attributes\":{\"dimensions\":\"both\",\"overlay\":{\"type\":\"object\",\"name\":\"BoxAnnotation\",\"id\":\"p1470\",\"attributes\":{\"syncable\":false,\"line_color\":\"black\",\"line_alpha\":1.0,\"line_width\":2,\"line_dash\":[4,4],\"fill_color\":\"lightgrey\",\"fill_alpha\":0.5,\"level\":\"overlay\",\"visible\":false,\"left\":{\"type\":\"number\",\"value\":\"nan\"},\"right\":{\"type\":\"number\",\"value\":\"nan\"},\"top\":{\"type\":\"number\",\"value\":\"nan\"},\"bottom\":{\"type\":\"number\",\"value\":\"nan\"},\"left_units\":\"canvas\",\"right_units\":\"canvas\",\"top_units\":\"canvas\",\"bottom_units\":\"canvas\",\"handles\":{\"type\":\"object\",\"name\":\"BoxInteractionHandles\",\"id\":\"p1476\",\"attributes\":{\"all\":{\"type\":\"object\",\"name\":\"AreaVisuals\",\"id\":\"p1475\",\"attributes\":{\"fill_color\":\"white\",\"hover_fill_color\":\"lightgray\"}}}}}}}},{\"type\":\"object\",\"name\":\"SaveTool\",\"id\":\"p1477\"},{\"type\":\"object\",\"name\":\"ResetTool\",\"id\":\"p1478\"},{\"type\":\"object\",\"name\":\"HelpTool\",\"id\":\"p1479\"}]}},\"left\":[{\"type\":\"object\",\"name\":\"LinearAxis\",\"id\":\"p1462\",\"attributes\":{\"ticker\":{\"type\":\"object\",\"name\":\"BasicTicker\",\"id\":\"p1463\",\"attributes\":{\"mantissas\":[1,2,5]}},\"formatter\":{\"type\":\"object\",\"name\":\"BasicTickFormatter\",\"id\":\"p1464\"},\"axis_label\":\"Passengers (t)\",\"major_label_policy\":{\"type\":\"object\",\"name\":\"AllLabels\",\"id\":\"p1465\"}}}],\"below\":[{\"type\":\"object\",\"name\":\"LinearAxis\",\"id\":\"p1457\",\"attributes\":{\"ticker\":{\"type\":\"object\",\"name\":\"BasicTicker\",\"id\":\"p1458\",\"attributes\":{\"mantissas\":[1,2,5]}},\"formatter\":{\"type\":\"object\",\"name\":\"BasicTickFormatter\",\"id\":\"p1459\"},\"axis_label\":\"Passengers (t-1)\",\"major_label_policy\":{\"type\":\"object\",\"name\":\"AllLabels\",\"id\":\"p1460\"}}}],\"center\":[{\"type\":\"object\",\"name\":\"Grid\",\"id\":\"p1461\",\"attributes\":{\"axis\":{\"id\":\"p1457\"}}},{\"type\":\"object\",\"name\":\"Grid\",\"id\":\"p1466\",\"attributes\":{\"dimension\":1,\"axis\":{\"id\":\"p1462\"}}}]}},{\"type\":\"object\",\"name\":\"Figure\",\"id\":\"p1492\",\"attributes\":{\"width\":400,\"height\":400,\"x_range\":{\"type\":\"object\",\"name\":\"DataRange1d\",\"id\":\"p1493\"},\"y_range\":{\"type\":\"object\",\"name\":\"DataRange1d\",\"id\":\"p1494\"},\"x_scale\":{\"type\":\"object\",\"name\":\"LinearScale\",\"id\":\"p1502\"},\"y_scale\":{\"type\":\"object\",\"name\":\"LinearScale\",\"id\":\"p1503\"},\"title\":{\"type\":\"object\",\"name\":\"Title\",\"id\":\"p1495\",\"attributes\":{\"text\":\"Lag 6 Analysis\"}},\"renderers\":[{\"type\":\"object\",\"name\":\"GlyphRenderer\",\"id\":\"p1536\",\"attributes\":{\"data_source\":{\"type\":\"object\",\"name\":\"ColumnDataSource\",\"id\":\"p1527\",\"attributes\":{\"selected\":{\"type\":\"object\",\"name\":\"Selection\",\"id\":\"p1528\",\"attributes\":{\"indices\":[],\"line_indices\":[]}},\"selection_policy\":{\"type\":\"object\",\"name\":\"UnionRenderers\",\"id\":\"p1529\"},\"data\":{\"type\":\"map\",\"entries\":[[\"index\",{\"type\":\"ndarray\",\"array\":{\"type\":\"bytes\",\"data\":\"DAAAAA0AAAAOAAAADwAAABAAAAARAAAAEgAAABMAAAAUAAAAFQAAABYAAAAXAAAAGAAAABkAAAAaAAAAGwAAABwAAAAdAAAAHgAAAB8AAAAgAAAAIQAAACIAAAAjAAAAJAAAACUAAAAmAAAAJwAAACgAAAApAAAAKgAAACsAAAAsAAAALQAAAC4AAAAvAAAAMAAAADEAAAAyAAAAMwAAADQAAAA1AAAANgAAADcAAAA4AAAAOQAAADoAAAA7AAAAPAAAAD0AAAA+AAAAPwAAAEAAAABBAAAAQgAAAEMAAABEAAAARQAAAEYAAABHAAAASAAAAEkAAABKAAAASwAAAEwAAABNAAAATgAAAE8AAABQAAAAUQAAAFIAAABTAAAAVAAAAFUAAABWAAAAVwAAAFgAAABZAAAAWgAAAFsAAABcAAAAXQAAAF4AAABfAAAAYAAAAGEAAABiAAAAYwAAAGQAAABlAAAAZgAAAGcAAABoAAAAaQAAAGoAAABrAAAAbAAAAG0AAABuAAAAbwAAAHAAAABxAAAAcgAAAHMAAAB0AAAAdQAAAHYAAAB3AAAAeAAAAHkAAAB6AAAAewAAAHwAAAB9AAAAfgAAAH8AAACAAAAAgQAAAIIAAACDAAAAhAAAAIUAAACGAAAAhwAAAIgAAACJAAAAigAAAIsAAACMAAAAjQAAAI4AAACPAAAA\"},\"shape\":[132],\"dtype\":\"int32\",\"order\":\"little\"}],[\"Date\",{\"type\":\"ndarray\",\"array\":{\"type\":\"bytes\",\"data\":\"AACAxm9VYsIAAIBW1kBiwgAAgH2GLWLCAAAAT9gRYsIAAIDL5gZiwgAAgJZw7mHCAACA+EPXYcIAAAD/C9RhwgAAAGHfvGHCAACABJ6eYcIAAIDwKo9hwgAAgEVufmHCAACASxtiYcIAAABS415hwgAAAEsASWHCAAAAjNAoYcIAAABePSZhwgAAAKyd/2DCAAAAuS35YMIAAAA8BOtgwgAAAHBE0WDCAACAJ3bCYMIAAIDR/KBgwgAAgOsclGDCAACA16mEYMIAAAAFIm5gwgAAgI7AXGDCAACATLpKYMIAAABMnzFgwgAAgOLNGWDCAACAZaQLYMIAAADXot5fwgAAAIEpvV/CAAAA3BmQX8IAAABLfXJfwgAAAA8kRF/CAAAAfocmX8IAAAC/VwZfwgAAAL4h1F7CAAAAIPW8XsIAAAD+u4FewgAAAPfYa17CAAAAAzMzXsIAAABeIwZewgAAAGTQ6V3CAAAAuRPZXcIAAAC43aZdwgAAAGJkhV3CAAAAnFFPXcIAAAC8HiZdwgAAAM9bA13CAAAAbFLoXMIAAABrHLZcwgAAAF1WilzCAAAAspl5XMIAAABizTtcwgAAACDHKVzCAAAALCHxW8IAAAA/Xs5bwgAAAPZ0plvCAAAA9T50W8IAAAAinERbwgAAAMZ1P1vCAAAAAGMJW8IAAACWdthawgAAAED9tlrCAAAARqqaWsIAAAChmm1awgAAAEQ+NlrCAAAAphEfWsIAAABQmP1ZwgAAAELS0VnCAAAAiU+VWcIAAAD/lY1ZwgAAAOQ/aFnCAAAAEZ04WcIAAACnsAdZwgAAAHjn0ljCAAAAXZGtWMIAAADM9I9YwgAAAAbiWVjCAAAATpVPWMIAAACVEhNYwgAAAPAC5lfCAAAAyBzHV8IAAACtxqFXwgAAAGvAj1fCAAAAi41mV8IAAAC46jZXwgAAADTeElfCAAAAOov2VsIAAACOmLNWwgAAAOPbolbCAAAAN+lfVsIAAACmTEJWwgAAAHeDDVbCAAAA2Vb2VcIAAACxcNdVwgAAAP/QsFXCAAAAnMeVVcIAAAB6jlpVwgAAAI3LN1XCAAAAcnUSVcIAAAA2HORUwgAAAHAJrlTCAAAAaSaYVMIAAAAtzWlUwgAAAIi9PFTCAAAAm/oZVMIAAAD26uxTwgAAABAL4FPCAAAA9bS6U8IAAACLyIlTwgAAAFz/VFPCAAAAt+8nU8IAAADyEiRTwgAAALa59VLCAAAAwhO9UsIAAACTSohSwgAAAAKualLCAAAAfqFGUsIAAABJKy5SwgAAAJCo8VHCAAAAxOjXUcIAAAD+1aFRwgAAAHQcmlHCAAAAwnxzUcIAAAA3jTlRwgAAABw3FFHCAAAA4N3lUMIAAAANO7ZQwgAAAFXuq1DC\"},\"shape\":[132],\"dtype\":\"float64\",\"order\":\"little\"}],[\"#Passengers\",{\"type\":\"ndarray\",\"array\":{\"type\":\"bytes\",\"data\":\"cwAAAH4AAACNAAAAhwAAAH0AAACVAAAAqgAAAKoAAACeAAAAhQAAAHIAAACMAAAAkQAAAJYAAACyAAAAowAAAKwAAACyAAAAxwAAAMcAAAC4AAAAogAAAJIAAACmAAAAqwAAALQAAADBAAAAtQAAALcAAADaAAAA5gAAAPIAAADRAAAAvwAAAKwAAADCAAAAxAAAAMQAAADsAAAA6wAAAOUAAADzAAAACAEAABABAADtAAAA0wAAALQAAADJAAAAzAAAALwAAADrAAAA4wAAAOoAAAAIAQAALgEAACUBAAADAQAA5QAAAMsAAADlAAAA8gAAAOkAAAALAQAADQEAAA4BAAA7AQAAbAEAAFsBAAA4AQAAEgEAAO0AAAAWAQAAHAEAABUBAAA9AQAAOQEAAD4BAAB2AQAAnQEAAJUBAABjAQAAMgEAAA8BAAAyAQAAOwEAAC0BAABkAQAAXAEAAGMBAACmAQAA0QEAANMBAACUAQAAWwEAADEBAABQAQAAVAEAAD4BAABqAQAAXAEAAGsBAACzAQAA6wEAAPkBAACUAQAAZwEAADYBAABRAQAAaAEAAFYBAACWAQAAjAEAAKQBAADYAQAAJAIAAC8CAADPAQAAlwEAAGoBAACVAQAAoQEAAIcBAACjAQAAzQEAANgBAAAXAgAAbgIAAF4CAAD8AQAAzQEAAIYBAACwAQAA\"},\"shape\":[132],\"dtype\":\"int32\",\"order\":\"little\"}],[\"Month\",{\"type\":\"ndarray\",\"array\":[\"January\",\"February\",\"March\",\"April\",\"May\",\"June\",\"July\",\"August\",\"September\",\"October\",\"November\",\"December\",\"January\",\"February\",\"March\",\"April\",\"May\",\"June\",\"July\",\"August\",\"September\",\"October\",\"November\",\"December\",\"January\",\"February\",\"March\",\"April\",\"May\",\"June\",\"July\",\"August\",\"September\",\"October\",\"November\",\"December\",\"January\",\"February\",\"March\",\"April\",\"May\",\"June\",\"July\",\"August\",\"September\",\"October\",\"November\",\"December\",\"January\",\"February\",\"March\",\"April\",\"May\",\"June\",\"July\",\"August\",\"September\",\"October\",\"November\",\"December\",\"January\",\"February\",\"March\",\"April\",\"May\",\"June\",\"July\",\"August\",\"September\",\"October\",\"November\",\"December\",\"January\",\"February\",\"March\",\"April\",\"May\",\"June\",\"July\",\"August\",\"September\",\"October\",\"November\",\"December\",\"January\",\"February\",\"March\",\"April\",\"May\",\"June\",\"July\",\"August\",\"September\",\"October\",\"November\",\"December\",\"January\",\"February\",\"March\",\"April\",\"May\",\"June\",\"July\",\"August\",\"September\",\"October\",\"November\",\"December\",\"January\",\"February\",\"March\",\"April\",\"May\",\"June\",\"July\",\"August\",\"September\",\"October\",\"November\",\"December\",\"January\",\"February\",\"March\",\"April\",\"May\",\"June\",\"July\",\"August\",\"September\",\"October\",\"November\",\"December\"],\"shape\":[132],\"dtype\":\"object\",\"order\":\"little\"}],[\"Year\",{\"type\":\"ndarray\",\"array\":{\"type\":\"bytes\",\"data\":\"ngcAAJ4HAACeBwAAngcAAJ4HAACeBwAAngcAAJ4HAACeBwAAngcAAJ4HAACeBwAAnwcAAJ8HAACfBwAAnwcAAJ8HAACfBwAAnwcAAJ8HAACfBwAAnwcAAJ8HAACfBwAAoAcAAKAHAACgBwAAoAcAAKAHAACgBwAAoAcAAKAHAACgBwAAoAcAAKAHAACgBwAAoQcAAKEHAAChBwAAoQcAAKEHAAChBwAAoQcAAKEHAAChBwAAoQcAAKEHAAChBwAAogcAAKIHAACiBwAAogcAAKIHAACiBwAAogcAAKIHAACiBwAAogcAAKIHAACiBwAAowcAAKMHAACjBwAAowcAAKMHAACjBwAAowcAAKMHAACjBwAAowcAAKMHAACjBwAApAcAAKQHAACkBwAApAcAAKQHAACkBwAApAcAAKQHAACkBwAApAcAAKQHAACkBwAApQcAAKUHAAClBwAApQcAAKUHAAClBwAApQcAAKUHAAClBwAApQcAAKUHAAClBwAApgcAAKYHAACmBwAApgcAAKYHAACmBwAApgcAAKYHAACmBwAApgcAAKYHAACmBwAApwcAAKcHAACnBwAApwcAAKcHAACnBwAApwcAAKcHAACnBwAApwcAAKcHAACnBwAAqAcAAKgHAACoBwAAqAcAAKgHAACoBwAAqAcAAKgHAACoBwAAqAcAAKgHAACoBwAA\"},\"shape\":[132],\"dtype\":\"int32\",\"order\":\"little\"}],[\"Rolling_Mean\",{\"type\":\"ndarray\",\"array\":{\"type\":\"bytes\",\"data\":\"q6qqqqq6X0BVVVVVVeVfQKuqqqqqCmBAq6qqqqoaYEBVVVVVVSVgQKuqqqqqSmBAVVVVVVWFYEAAAAAAAMBgQKuqqqqq+mBAAAAAAAAgYUCrqqqqqjphQFVVVVVVdWFAVVVVVVXFYUBVVVVVVQViQAAAAAAAaGJAq6qqqqqyYkAAAAAAADBjQFVVVVVVfWNAq6qqqqrKY0AAAAAAABhkQFVVVVVVXWRAq6qqqqqqZEAAAAAAAABlQFVVVVVVRWVAq6qqqqqKZUCrqqqqqtplQKuqqqqqAmZAq6qqqqoyZkAAAAAAAFBmQKuqqqqqumZAVVVVVVUNZ0AAAAAAAIBnQKuqqqqqwmdAAAAAAAAQaEBVVVVVVVVoQAAAAAAAoGhAq6qqqqriaEBVVVVVVQ1pQAAAAAAAgGlAAAAAAAAQakCrqqqqqopqQFVVVVVVzWpAAAAAAAAoa0AAAAAAAHhrQKuqqqqqwmtAAAAAAAD4a0BVVVVVVQ1sQAAAAAAAIGxAVVVVVVU1bEAAAAAAACBsQFVVVVVVHWxAAAAAAAAIbEBVVVVVVRVsQFVVVVVVTWxAq6qqqqqybECrqqqqqupsQFVVVVVVJW1AVVVVVVVVbUCrqqqqqpJtQFVVVVVV3W1Aq6qqqqpCbkCrqqqqqrpuQAAAAAAAEG9AAAAAAACAb0AAAAAAAOBvQAAAAAAANHBAq6qqqqqGcECrqqqqqs5wQFVVVVVVFXFAVVVVVVVRcUCrqqqqqn5xQAAAAAAAwHFAAAAAAAD4cUCrqqqqqjJyQFVVVVVVdXJAAAAAAACwckAAAAAAAPByQKuqqqqqPnNAAAAAAACAc0BVVVVVVc1zQKuqqqqqBnRAVVVVVVUxdECrqqqqql50QAAAAAAAhHRAVVVVVVWtdEBVVVVVVc10QFVVVVVVAXVAAAAAAAAwdUBVVVVVVWF1QFVVVVVVoXVAq6qqqqrmdUBVVVVVVTl2QKuqqqqqenZAVVVVVVWxdkCrqqqqqt52QKuqqqqqBndAAAAAAAAod0Crqqqqqj53QKuqqqqqRndAq6qqqqpGd0BVVVVVVVF3QKuqqqqqYndAVVVVVVWFd0AAAAAAALh3QAAAAAAAuHdAAAAAAADId0Crqqqqqs53QAAAAAAA0HdAq6qqqqrqd0Crqqqqqgp4QFVVVVVVRXhAVVVVVVWFeEBVVVVVVdF4QKuqqqqqAnlAq6qqqqpOeUCrqqqqqpZ5QFVVVVVV5XlAVVVVVVUlekCrqqqqqmp6QFVVVVVVxXpAVVVVVVURe0CrqqqqqlJ7QAAAAAAAZHtAq6qqqqq6e0AAAAAAAAB8QAAAAAAAVHxAq6qqqqq2fEBVVVVVVfV8QFVVVVVVMX1AVVVVVVV5fUCrqqqqqp59QKuqqqqqwn1A\"},\"shape\":[132],\"dtype\":\"float64\",\"order\":\"little\"}],[\"Rolling_Std\",{\"type\":\"ndarray\",\"array\":{\"type\":\"bytes\",\"data\":\"u1jdgRzoKkBqWNYxPFUqQOLzmGu7XytAfCG0cxqlK0AawYHK0VMrQNofUMt8hS1AnBSHYJAiMkA4Ja7YN8w0QCL2w5PP7TVA20eFvdhQNUAswbxKOxE0QM4Xyp8iEjNAVOA67J9wMUDOgwef98cwQFGiZGdcWTNAQgDhtPdsM0B6eFRppL4yQILWmJxi8TNAHH807z1IN0BbePwsd/Q5QFoIL77WxjpAToDG+SUWOUDxLxJfZWU0QLfxT0cycDJArjfngECnMEDZJw0wjl0uQM1+JhkvDzBAAyeO1jgeL0C2pzOgYAwvQGvzyuDkQDNA6DIkbEdmN0DQ+9BvMY88QLjmWtqWJT1AiaDyRdbGO0C0PdCurKg4QDewT5Zk9zZAFEjU5Kx6NUBTiL7CDqs0QOx4gCwK4DZADZwE2Gc/N0AAus2xa3A2QGrRAON/HDhAINKHWj7SO0C8k3e7f14/QPve7A+piT9ALlFqb3I/PkAXaKXSmRE9QIKGauKFdzxAxoRGbujPO0AYdz2qqKs8QNI7i8wYozxARPRKkkJ5PEBuNOwP+5U8QIum1MJPZT5AyC5SmgYOQkB9M30nuWFDQLYzkbWryENAQjMYTHV+Q0Agm1nxwkVCQFIPm4tVdkFAfkR15fuSQEAR8KNtT7k8QOdjWOsIHD1A5Gy3ohjQPEA4kyOCWaQ8QARpMSjJvEBAOAQhW8jsRUCRZx+/FLtIQBkrLzraa0lAUYGhTOpySEDXgSkkMYZGQFZ/P4X6EUVAL2sgKFgDREDXwFjdhzdCQNp6676GI0JAnFIhkanLQUAge7l/c1xBQBqts4T3JkRAxDYktdkaSED2zIWg8ENLQGx+6/cey0tAgmSqVCjzSkDR5hCip9hIQCfi789O7kdAMyWzvIoHR0DJc4j91v1FQGOcE9HdEkZAaX5Q+4bRRUBERhGzgalFQCxFI2HHOUhAZ1qHPwlPTEDqEoFyhhZQQEf3ckJSdlBAOv7EHg/sT0BpkryWYgNOQPGuUfEI8kxAh5+PyxkcTEBq8+s7lz9LQC8a8rGzLktALxrysbMuS0BhJWcKHhdLQN0k9D6srktALtYfj4XLTUA14wPEpmNQQDXjA8SmY1BAlgkvGMxGUEBAp8rq9CVQQGp/4kDzIVBA6wJgCEnQT0Ac9eoKOeFOQFkI0lR4zE5A0uG5VXAkTkCcxrP6DgFOQIVkAXIrgU9AWailmDr/UUCL+5XdKANUQJWisqIRX1RAnS7zCYzrU0BK15Is659SQJWve04gdVFA5no8KfanUEDaLHj93u5OQH0cVqn9sE5A7JGkzPIVTkAsyznQnxdOQCOoVvtlQVBATKNu23JMU0AbtJIeWuhUQJ8EmnGBJ1VAWqaqYa+iVEBRif8HJ+BTQOBRaQ4tb1NA\"},\"shape\":[132],\"dtype\":\"float64\",\"order\":\"little\"}],[\"Upper_Band\",{\"type\":\"ndarray\",\"array\":{\"type\":\"bytes\",\"data\":\"4SpzHdeLYUAxEMht/pdhQOk5ZGGmwGFAw+zlUfzUYUBncf1xktphQKmsX3cCI2JA6DdmYafJYkCnxBX7hlljQG8pI51kuGNA+6iwFxvKY0DQQgIU0rxjQE+YTqmZ12NAYLHcUmnzY0DPRTZJVB5kQEqU7Iwr02RAs8pGoUkgZUAPjyqN1IdlQCVw6KiB+2VAjjqRaLKzZkALj5/ljlZnQGA2Gy0wtmdAtXrjaW/NZ0D+ReKrrIxnQIxTP55bk2dAoZHHupKfZ0ApfauNg8BnQIV6z42QBGhAG40TOI4kaEB7OgMKxkBoQBgJxEbHImlAstvZQh76aUB6H/ot5hFrQIIH9oVdZ2tAEVS+yNqIa0AMXS/ramprQAf2yZLsfmtArjNFRwCSa0BfJq0tt6JrQB4PkEUBXGxAgpMA++z3bEDrYeQguFhtQIJvtVHl0G1ARPpQy0eibkB48m73z2NvQIpGqMzfs29AJkrtTe6/b0BYAqqPiK9vQNBQTbzwrm9A7iUeY1Kvb0DjrkcVdbVvQM+85m64sW9AiF5JUiiXb0Dj21K3FKhvQBP116b/DHBALpufKBabcEDF+0R6jOFwQCHRXCHAC3FAE7EtVHkacUC6iICzDRJxQJUMHlx1HXFA5f0D0rQzcUBXlC9M6ihxQD6GtY7AWXFAznYrigGNcUA0OSKYRbpxQCAtBiWZS3JAMssOtkNEc0Cdl45CDeZzQLg6m5zQQnRAf4XpnrJfdEDm2i/PcE90QOvvp1A/YnRAZg0EBWt4dEDGwlWmm3l0QLDEMi3GuXRAVCokMnXpdEBkL/dvjht1QE4gQZuJw3VA2IakNluDdkD0DmZp0zV3QHgaqIkOgHdA5aHqX7qPd0CFx+yev3l3QEX8/dnJgXdA+7nrrEaOd0DOYwY1EI13QOHIdw+xw3dAzQ9q3zDqd0AefreLhRZ4QPq9eUGOqHhA+JWb0otweUAQmvXx9j56QH1oRzs/mHpAHPUtOdeuekD4PIL9Fp96QIng1MjrpHpA8fNxOYOrekAYKSiSnaZ6QPHt6CCBrHpA8e3oIIGsekABOqIWObR6QEcviTKA2HpAG1A5B8Y+e0DN+ACx6dB7QM34ALHp0HtAZsILBrPZe0B7VF3lJ9h7QNqfONB82HtACKu2y7Pke0BOCQjM0eZ7QGCW71/kHnxAj5EMYONJfEAozqs0d5F8QDzX6hjQ8nxAwRTUUHnOfUCOKRDidJd+QPr9Ab4Z/X5A/CDSVzggf0B+YM91pRJ/QDpB9GidIn9ADnSk31I7f0BGsFmKhjB/QJDDKrUfOn9A6Dw/BGl9f0BmOQf688J/QATVar8sMoBAvynDsOPEgEAuAX3utReBQD7r3diaPYFAdv/flgBRgUCARlU2WkuBQJJ/Ivc6T4FA\"},\"shape\":[132],\"dtype\":\"float64\",\"order\":\"little\"}],[\"Lower_Band\",{\"type\":\"ndarray\",\"array\":{\"type\":\"bytes\",\"data\":\"lP9uGqddXEBIihrPrZpcQNo24uddqVxAJtHeBrLAXECHclpxMOBcQFtR67ul5FxAg+WIkgaCXECydtQJ8kxcQM5XZHDheVxACa6e0MnrXEALJaaCBnFdQLYkuAIiJl5AlfKbr4IuX0C2yejCrNhfQGzXJuao+V9Ao4oOtAtFYEDxcNVyK9hgQIU6wgEp/2BAyBrE7KLhYED1cGAacdlgQEp0j316BGFAodpx6+WHYUACuh1UU3NiQB5XawxP92JAtcONmsJ1Y0At2KnH0fRjQNHahcfEAGRAO8hBHcdAZECFxfz1OV9kQD5MkQ6OUmRA+M7QZ4wgZECG4AXSGe5jQNRNX8/3HWRA76tBNyWXZECeTXu/P0BlQPkJNm0TwWVAqCEQDlUzZkBLhP1883dmQOLwb7r+o2ZAfmz/BBMoZ0Br83A0nbxnQCg79VjFyWdAvAWvNLitZ0CIDZEIMIxnQMwOrYh10WdA2rUSshEwaEBSqAAbImtoQDCvskMPkWhAvISMR1i7aEAdUbjqiopoQNvtwzvyiGhAeKG2rdd4aEDHzlfzlYJoQITA+lyrgGhA+R4WBCkvaEDMXctgPBJoQGgI8WcqM2hAhEhPArh1aEDjQ1TuOQFpQICRbvK/f2lAjFlNsesdakCpLPa8gCNrQIPzlOJ+bGtAZBKp6/zla0CZjbvPdEtsQL+l87XNOGxASBSNPiOSa0Bye40lkG5rQOTfHhy0z2tAVkqCF/CFbEDg9EoMyVttQCogsF6BO25ANOX39SnvbkAgJf9dc9dvQPrld33kMHBArNXbzYp2cECc0AiQccRwQAg1FLrLuXBAKHlbyaR8cEC2m0RB12RwQN46rctGjXBAxQjASvDScEDRjWi2lUNxQLsDAiY2hnFAr/C+/WPMcUDcRqR1mg1yQMnhMpv5PnJAM/CVIM91ckCMLPMeJaxyQLDsMGkcmnJAXr+5gslcckCaELW4szNyQNnsDRoWXXJAjrV8cdOzckBeGNNXPh5zQM10gIxpaHNADwyOxnykc0A+LC3Dt9ZzQGVnbDTU4HNAZWdsNNTgc0CpcAiUce5zQA8mzCLV7HNAj1pxo+TLc0AzB/9OFp9zQDMH/04Wn3NAmj30+Uy2c0DbAPhvLcVzQCZgxy+Dx3NATqqeiaHwc0AITE2Jgy50QEoUu0rGa3RAGxmeSsfAdECC3P51MxF1QBp+ajyFEnVAlUCBBNzOdEDIK0Vz4JV0QLCsqOyQzXRAronYUnIqdUDY9IXfr8J1QHBptkENaHZAnDYGy1fndkAQpfvKznR3QHA81UrgjXdAbhgWUez3d0CaxvgFDD14QPdVKoGmQ3hA2AHP843jd0BOqLDNPrt3QC3U7vh053dAvqvqfKlQeEBXyKrooKZ4QDNWEGff5nhA\"},\"shape\":[132],\"dtype\":\"float64\",\"order\":\"little\"}],[\"Is_Outlier\",{\"type\":\"ndarray\",\"array\":{\"type\":\"bytes\",\"data\":\"AAAAAAABAQEBAAEAAAABAAABAQEAAAEAAAABAAABAQEAAAAAAAABAQABAQEAAAEAAAEAAAABAQEAAAAAAAAAAAABAQEAAAAAAAAAAAABAQEAAAEAAAAAAAABAQEAAAEAAAAAAAABAQEAAAEAAAAAAAABAQEAAAAAAAAAAAABAQEAAAEA\"},\"shape\":[132],\"dtype\":\"bool\",\"order\":\"little\"}],[\"Lag_1\",{\"type\":\"ndarray\",\"array\":{\"type\":\"bytes\",\"data\":\"AAAAAACAXUAAAAAAAMBcQAAAAAAAgF9AAAAAAACgYUAAAAAAAOBgQAAAAAAAQF9AAAAAAACgYkAAAAAAAEBlQAAAAAAAQGVAAAAAAADAY0AAAAAAAKBgQAAAAAAAgFxAAAAAAACAYUAAAAAAACBiQAAAAAAAwGJAAAAAAABAZkAAAAAAAGBkQAAAAAAAgGVAAAAAAABAZkAAAAAAAOBoQAAAAAAA4GhAAAAAAAAAZ0AAAAAAAEBkQAAAAAAAQGJAAAAAAADAZEAAAAAAAGBlQAAAAAAAgGZAAAAAAAAgaEAAAAAAAKBmQAAAAAAA4GZAAAAAAABAa0AAAAAAAMBsQAAAAAAAQG5AAAAAAAAgakAAAAAAAOBnQAAAAAAAgGVAAAAAAABAaEAAAAAAAIBoQAAAAAAAgGhAAAAAAACAbUAAAAAAAGBtQAAAAAAAoGxAAAAAAABgbkAAAAAAAIBwQAAAAAAAAHFAAAAAAACgbUAAAAAAAGBqQAAAAAAAgGZAAAAAAAAgaUAAAAAAAIBpQAAAAAAAgGdAAAAAAABgbUAAAAAAAGBsQAAAAAAAQG1AAAAAAACAcEAAAAAAAOByQAAAAAAAUHJAAAAAAAAwcEAAAAAAAKBsQAAAAAAAYGlAAAAAAACgbEAAAAAAAEBuQAAAAAAAIG1AAAAAAACwcEAAAAAAANBwQAAAAAAA4HBAAAAAAACwc0AAAAAAAMB2QAAAAAAAsHVAAAAAAACAc0AAAAAAACBxQAAAAAAAoG1AAAAAAABgcUAAAAAAAMBxQAAAAAAAUHFAAAAAAADQc0AAAAAAAJBzQAAAAAAA4HNAAAAAAABgd0AAAAAAANB5QAAAAAAAUHlAAAAAAAAwdkAAAAAAACBzQAAAAAAA8HBAAAAAAAAgc0AAAAAAALBzQAAAAAAA0HJAAAAAAABAdkAAAAAAAMB1QAAAAAAAMHZAAAAAAABgekAAAAAAABB9QAAAAAAAMH1AAAAAAABAeUAAAAAAALB1QAAAAAAAEHNAAAAAAAAAdUAAAAAAAEB1QAAAAAAA4HNAAAAAAACgdkAAAAAAAMB1QAAAAAAAsHZAAAAAAAAwe0AAAAAAALB+QAAAAAAAkH9AAAAAAABAeUAAAAAAAHB2QAAAAAAAYHNAAAAAAAAQdUAAAAAAAIB2QAAAAAAAYHVAAAAAAABgeUAAAAAAAMB4QAAAAAAAQHpAAAAAAACAfUAAAAAAACCBQAAAAAAAeIFAAAAAAADwfEAAAAAAAHB5QAAAAAAAoHZAAAAAAABQeUAAAAAAABB6QAAAAAAAcHhAAAAAAAAwekAAAAAAANB8QAAAAAAAgH1AAAAAAAC4gEAAAAAAAHCDQAAAAAAA8IJAAAAAAADAf0AAAAAAANB8QAAAAAAAYHhA\"},\"shape\":[132],\"dtype\":\"float64\",\"order\":\"little\"}],[\"Lag_6\",{\"type\":\"ndarray\",\"array\":{\"type\":\"bytes\",\"data\":\"AAAAAACAYkAAAAAAAIBiQAAAAAAAAGFAAAAAAADAXUAAAAAAAABaQAAAAAAAgF1AAAAAAADAXEAAAAAAAIBfQAAAAAAAoGFAAAAAAADgYEAAAAAAAEBfQAAAAAAAoGJAAAAAAABAZUAAAAAAAEBlQAAAAAAAwGNAAAAAAACgYEAAAAAAAIBcQAAAAAAAgGFAAAAAAAAgYkAAAAAAAMBiQAAAAAAAQGZAAAAAAABgZEAAAAAAAIBlQAAAAAAAQGZAAAAAAADgaEAAAAAAAOBoQAAAAAAAAGdAAAAAAABAZEAAAAAAAEBiQAAAAAAAwGRAAAAAAABgZUAAAAAAAIBmQAAAAAAAIGhAAAAAAACgZkAAAAAAAOBmQAAAAAAAQGtAAAAAAADAbEAAAAAAAEBuQAAAAAAAIGpAAAAAAADgZ0AAAAAAAIBlQAAAAAAAQGhAAAAAAACAaEAAAAAAAIBoQAAAAAAAgG1AAAAAAABgbUAAAAAAAKBsQAAAAAAAYG5AAAAAAACAcEAAAAAAAABxQAAAAAAAoG1AAAAAAABgakAAAAAAAIBmQAAAAAAAIGlAAAAAAACAaUAAAAAAAIBnQAAAAAAAYG1AAAAAAABgbEAAAAAAAEBtQAAAAAAAgHBAAAAAAADgckAAAAAAAFByQAAAAAAAMHBAAAAAAACgbEAAAAAAAGBpQAAAAAAAoGxAAAAAAABAbkAAAAAAACBtQAAAAAAAsHBAAAAAAADQcEAAAAAAAOBwQAAAAAAAsHNAAAAAAADAdkAAAAAAALB1QAAAAAAAgHNAAAAAAAAgcUAAAAAAAKBtQAAAAAAAYHFAAAAAAADAcUAAAAAAAFBxQAAAAAAA0HNAAAAAAACQc0AAAAAAAOBzQAAAAAAAYHdAAAAAAADQeUAAAAAAAFB5QAAAAAAAMHZAAAAAAAAgc0AAAAAAAPBwQAAAAAAAIHNAAAAAAACwc0AAAAAAANByQAAAAAAAQHZAAAAAAADAdUAAAAAAADB2QAAAAAAAYHpAAAAAAAAQfUAAAAAAADB9QAAAAAAAQHlAAAAAAACwdUAAAAAAABBzQAAAAAAAAHVAAAAAAABAdUAAAAAAAOBzQAAAAAAAoHZAAAAAAADAdUAAAAAAALB2QAAAAAAAMHtAAAAAAACwfkAAAAAAAJB/QAAAAAAAQHlAAAAAAABwdkAAAAAAAGBzQAAAAAAAEHVAAAAAAACAdkAAAAAAAGB1QAAAAAAAYHlAAAAAAADAeEAAAAAAAEB6QAAAAAAAgH1AAAAAAAAggUAAAAAAAHiBQAAAAAAA8HxAAAAAAABweUAAAAAAAKB2QAAAAAAAUHlAAAAAAAAQekAAAAAAAHB4QAAAAAAAMHpAAAAAAADQfEAAAAAAAIB9QAAAAAAAuIBA\"},\"shape\":[132],\"dtype\":\"float64\",\"order\":\"little\"}],[\"Lag_12\",{\"type\":\"ndarray\",\"array\":{\"type\":\"bytes\",\"data\":\"AAAAAAAAXEAAAAAAAIBdQAAAAAAAgGBAAAAAAAAgYEAAAAAAAEBeQAAAAAAA4GBAAAAAAACAYkAAAAAAAIBiQAAAAAAAAGFAAAAAAADAXUAAAAAAAABaQAAAAAAAgF1AAAAAAADAXEAAAAAAAIBfQAAAAAAAoGFAAAAAAADgYEAAAAAAAEBfQAAAAAAAoGJAAAAAAABAZUAAAAAAAEBlQAAAAAAAwGNAAAAAAACgYEAAAAAAAIBcQAAAAAAAgGFAAAAAAAAgYkAAAAAAAMBiQAAAAAAAQGZAAAAAAABgZEAAAAAAAIBlQAAAAAAAQGZAAAAAAADgaEAAAAAAAOBoQAAAAAAAAGdAAAAAAABAZEAAAAAAAEBiQAAAAAAAwGRAAAAAAABgZUAAAAAAAIBmQAAAAAAAIGhAAAAAAACgZkAAAAAAAOBmQAAAAAAAQGtAAAAAAADAbEAAAAAAAEBuQAAAAAAAIGpAAAAAAADgZ0AAAAAAAIBlQAAAAAAAQGhAAAAAAACAaEAAAAAAAIBoQAAAAAAAgG1AAAAAAABgbUAAAAAAAKBsQAAAAAAAYG5AAAAAAACAcEAAAAAAAABxQAAAAAAAoG1AAAAAAABgakAAAAAAAIBmQAAAAAAAIGlAAAAAAACAaUAAAAAAAIBnQAAAAAAAYG1AAAAAAABgbEAAAAAAAEBtQAAAAAAAgHBAAAAAAADgckAAAAAAAFByQAAAAAAAMHBAAAAAAACgbEAAAAAAAGBpQAAAAAAAoGxAAAAAAABAbkAAAAAAACBtQAAAAAAAsHBAAAAAAADQcEAAAAAAAOBwQAAAAAAAsHNAAAAAAADAdkAAAAAAALB1QAAAAAAAgHNAAAAAAAAgcUAAAAAAAKBtQAAAAAAAYHFAAAAAAADAcUAAAAAAAFBxQAAAAAAA0HNAAAAAAACQc0AAAAAAAOBzQAAAAAAAYHdAAAAAAADQeUAAAAAAAFB5QAAAAAAAMHZAAAAAAAAgc0AAAAAAAPBwQAAAAAAAIHNAAAAAAACwc0AAAAAAANByQAAAAAAAQHZAAAAAAADAdUAAAAAAADB2QAAAAAAAYHpAAAAAAAAQfUAAAAAAADB9QAAAAAAAQHlAAAAAAACwdUAAAAAAABBzQAAAAAAAAHVAAAAAAABAdUAAAAAAAOBzQAAAAAAAoHZAAAAAAADAdUAAAAAAALB2QAAAAAAAMHtAAAAAAACwfkAAAAAAAJB/QAAAAAAAQHlAAAAAAABwdkAAAAAAAGBzQAAAAAAAEHVAAAAAAACAdkAAAAAAAGB1QAAAAAAAYHlAAAAAAADAeEAAAAAAAEB6QAAAAAAAgH1AAAAAAAAggUAAAAAAAHiBQAAAAAAA8HxAAAAAAABweUAAAAAAAKB2QAAAAAAAUHlA\"},\"shape\":[132],\"dtype\":\"float64\",\"order\":\"little\"}]]}}},\"view\":{\"type\":\"object\",\"name\":\"CDSView\",\"id\":\"p1537\",\"attributes\":{\"filter\":{\"type\":\"object\",\"name\":\"AllIndices\",\"id\":\"p1538\"}}},\"glyph\":{\"type\":\"object\",\"name\":\"Scatter\",\"id\":\"p1533\",\"attributes\":{\"x\":{\"type\":\"field\",\"field\":\"Lag_6\"},\"y\":{\"type\":\"field\",\"field\":\"#Passengers\"},\"size\":{\"type\":\"value\",\"value\":8},\"line_color\":{\"type\":\"value\",\"value\":\"green\"},\"fill_color\":{\"type\":\"value\",\"value\":\"green\"},\"hatch_color\":{\"type\":\"value\",\"value\":\"green\"}}},\"nonselection_glyph\":{\"type\":\"object\",\"name\":\"Scatter\",\"id\":\"p1534\",\"attributes\":{\"x\":{\"type\":\"field\",\"field\":\"Lag_6\"},\"y\":{\"type\":\"field\",\"field\":\"#Passengers\"},\"size\":{\"type\":\"value\",\"value\":8},\"line_color\":{\"type\":\"value\",\"value\":\"green\"},\"line_alpha\":{\"type\":\"value\",\"value\":0.1},\"fill_color\":{\"type\":\"value\",\"value\":\"green\"},\"fill_alpha\":{\"type\":\"value\",\"value\":0.1},\"hatch_color\":{\"type\":\"value\",\"value\":\"green\"},\"hatch_alpha\":{\"type\":\"value\",\"value\":0.1}}},\"muted_glyph\":{\"type\":\"object\",\"name\":\"Scatter\",\"id\":\"p1535\",\"attributes\":{\"x\":{\"type\":\"field\",\"field\":\"Lag_6\"},\"y\":{\"type\":\"field\",\"field\":\"#Passengers\"},\"size\":{\"type\":\"value\",\"value\":8},\"line_color\":{\"type\":\"value\",\"value\":\"green\"},\"line_alpha\":{\"type\":\"value\",\"value\":0.2},\"fill_color\":{\"type\":\"value\",\"value\":\"green\"},\"fill_alpha\":{\"type\":\"value\",\"value\":0.2},\"hatch_color\":{\"type\":\"value\",\"value\":\"green\"},\"hatch_alpha\":{\"type\":\"value\",\"value\":0.2}}}}}],\"toolbar\":{\"type\":\"object\",\"name\":\"Toolbar\",\"id\":\"p1501\",\"attributes\":{\"tools\":[{\"type\":\"object\",\"name\":\"PanTool\",\"id\":\"p1514\"},{\"type\":\"object\",\"name\":\"WheelZoomTool\",\"id\":\"p1515\",\"attributes\":{\"renderers\":\"auto\"}},{\"type\":\"object\",\"name\":\"BoxZoomTool\",\"id\":\"p1516\",\"attributes\":{\"dimensions\":\"both\",\"overlay\":{\"type\":\"object\",\"name\":\"BoxAnnotation\",\"id\":\"p1517\",\"attributes\":{\"syncable\":false,\"line_color\":\"black\",\"line_alpha\":1.0,\"line_width\":2,\"line_dash\":[4,4],\"fill_color\":\"lightgrey\",\"fill_alpha\":0.5,\"level\":\"overlay\",\"visible\":false,\"left\":{\"type\":\"number\",\"value\":\"nan\"},\"right\":{\"type\":\"number\",\"value\":\"nan\"},\"top\":{\"type\":\"number\",\"value\":\"nan\"},\"bottom\":{\"type\":\"number\",\"value\":\"nan\"},\"left_units\":\"canvas\",\"right_units\":\"canvas\",\"top_units\":\"canvas\",\"bottom_units\":\"canvas\",\"handles\":{\"type\":\"object\",\"name\":\"BoxInteractionHandles\",\"id\":\"p1523\",\"attributes\":{\"all\":{\"type\":\"object\",\"name\":\"AreaVisuals\",\"id\":\"p1522\",\"attributes\":{\"fill_color\":\"white\",\"hover_fill_color\":\"lightgray\"}}}}}}}},{\"type\":\"object\",\"name\":\"SaveTool\",\"id\":\"p1524\"},{\"type\":\"object\",\"name\":\"ResetTool\",\"id\":\"p1525\"},{\"type\":\"object\",\"name\":\"HelpTool\",\"id\":\"p1526\"}]}},\"left\":[{\"type\":\"object\",\"name\":\"LinearAxis\",\"id\":\"p1509\",\"attributes\":{\"ticker\":{\"type\":\"object\",\"name\":\"BasicTicker\",\"id\":\"p1510\",\"attributes\":{\"mantissas\":[1,2,5]}},\"formatter\":{\"type\":\"object\",\"name\":\"BasicTickFormatter\",\"id\":\"p1511\"},\"axis_label\":\"Passengers (t)\",\"major_label_policy\":{\"type\":\"object\",\"name\":\"AllLabels\",\"id\":\"p1512\"}}}],\"below\":[{\"type\":\"object\",\"name\":\"LinearAxis\",\"id\":\"p1504\",\"attributes\":{\"ticker\":{\"type\":\"object\",\"name\":\"BasicTicker\",\"id\":\"p1505\",\"attributes\":{\"mantissas\":[1,2,5]}},\"formatter\":{\"type\":\"object\",\"name\":\"BasicTickFormatter\",\"id\":\"p1506\"},\"axis_label\":\"Passengers (t-6)\",\"major_label_policy\":{\"type\":\"object\",\"name\":\"AllLabels\",\"id\":\"p1507\"}}}],\"center\":[{\"type\":\"object\",\"name\":\"Grid\",\"id\":\"p1508\",\"attributes\":{\"axis\":{\"id\":\"p1504\"}}},{\"type\":\"object\",\"name\":\"Grid\",\"id\":\"p1513\",\"attributes\":{\"dimension\":1,\"axis\":{\"id\":\"p1509\"}}}]}},{\"type\":\"object\",\"name\":\"Figure\",\"id\":\"p1539\",\"attributes\":{\"width\":400,\"height\":400,\"x_range\":{\"type\":\"object\",\"name\":\"DataRange1d\",\"id\":\"p1540\"},\"y_range\":{\"type\":\"object\",\"name\":\"DataRange1d\",\"id\":\"p1541\"},\"x_scale\":{\"type\":\"object\",\"name\":\"LinearScale\",\"id\":\"p1549\"},\"y_scale\":{\"type\":\"object\",\"name\":\"LinearScale\",\"id\":\"p1550\"},\"title\":{\"type\":\"object\",\"name\":\"Title\",\"id\":\"p1542\",\"attributes\":{\"text\":\"Lag 12 Analysis\"}},\"renderers\":[{\"type\":\"object\",\"name\":\"GlyphRenderer\",\"id\":\"p1583\",\"attributes\":{\"data_source\":{\"type\":\"object\",\"name\":\"ColumnDataSource\",\"id\":\"p1574\",\"attributes\":{\"selected\":{\"type\":\"object\",\"name\":\"Selection\",\"id\":\"p1575\",\"attributes\":{\"indices\":[],\"line_indices\":[]}},\"selection_policy\":{\"type\":\"object\",\"name\":\"UnionRenderers\",\"id\":\"p1576\"},\"data\":{\"type\":\"map\",\"entries\":[[\"index\",{\"type\":\"ndarray\",\"array\":{\"type\":\"bytes\",\"data\":\"DAAAAA0AAAAOAAAADwAAABAAAAARAAAAEgAAABMAAAAUAAAAFQAAABYAAAAXAAAAGAAAABkAAAAaAAAAGwAAABwAAAAdAAAAHgAAAB8AAAAgAAAAIQAAACIAAAAjAAAAJAAAACUAAAAmAAAAJwAAACgAAAApAAAAKgAAACsAAAAsAAAALQAAAC4AAAAvAAAAMAAAADEAAAAyAAAAMwAAADQAAAA1AAAANgAAADcAAAA4AAAAOQAAADoAAAA7AAAAPAAAAD0AAAA+AAAAPwAAAEAAAABBAAAAQgAAAEMAAABEAAAARQAAAEYAAABHAAAASAAAAEkAAABKAAAASwAAAEwAAABNAAAATgAAAE8AAABQAAAAUQAAAFIAAABTAAAAVAAAAFUAAABWAAAAVwAAAFgAAABZAAAAWgAAAFsAAABcAAAAXQAAAF4AAABfAAAAYAAAAGEAAABiAAAAYwAAAGQAAABlAAAAZgAAAGcAAABoAAAAaQAAAGoAAABrAAAAbAAAAG0AAABuAAAAbwAAAHAAAABxAAAAcgAAAHMAAAB0AAAAdQAAAHYAAAB3AAAAeAAAAHkAAAB6AAAAewAAAHwAAAB9AAAAfgAAAH8AAACAAAAAgQAAAIIAAACDAAAAhAAAAIUAAACGAAAAhwAAAIgAAACJAAAAigAAAIsAAACMAAAAjQAAAI4AAACPAAAA\"},\"shape\":[132],\"dtype\":\"int32\",\"order\":\"little\"}],[\"Date\",{\"type\":\"ndarray\",\"array\":{\"type\":\"bytes\",\"data\":\"AACAxm9VYsIAAIBW1kBiwgAAgH2GLWLCAAAAT9gRYsIAAIDL5gZiwgAAgJZw7mHCAACA+EPXYcIAAAD/C9RhwgAAAGHfvGHCAACABJ6eYcIAAIDwKo9hwgAAgEVufmHCAACASxtiYcIAAABS415hwgAAAEsASWHCAAAAjNAoYcIAAABePSZhwgAAAKyd/2DCAAAAuS35YMIAAAA8BOtgwgAAAHBE0WDCAACAJ3bCYMIAAIDR/KBgwgAAgOsclGDCAACA16mEYMIAAAAFIm5gwgAAgI7AXGDCAACATLpKYMIAAABMnzFgwgAAgOLNGWDCAACAZaQLYMIAAADXot5fwgAAAIEpvV/CAAAA3BmQX8IAAABLfXJfwgAAAA8kRF/CAAAAfocmX8IAAAC/VwZfwgAAAL4h1F7CAAAAIPW8XsIAAAD+u4FewgAAAPfYa17CAAAAAzMzXsIAAABeIwZewgAAAGTQ6V3CAAAAuRPZXcIAAAC43aZdwgAAAGJkhV3CAAAAnFFPXcIAAAC8HiZdwgAAAM9bA13CAAAAbFLoXMIAAABrHLZcwgAAAF1WilzCAAAAspl5XMIAAABizTtcwgAAACDHKVzCAAAALCHxW8IAAAA/Xs5bwgAAAPZ0plvCAAAA9T50W8IAAAAinERbwgAAAMZ1P1vCAAAAAGMJW8IAAACWdthawgAAAED9tlrCAAAARqqaWsIAAAChmm1awgAAAEQ+NlrCAAAAphEfWsIAAABQmP1ZwgAAAELS0VnCAAAAiU+VWcIAAAD/lY1ZwgAAAOQ/aFnCAAAAEZ04WcIAAACnsAdZwgAAAHjn0ljCAAAAXZGtWMIAAADM9I9YwgAAAAbiWVjCAAAATpVPWMIAAACVEhNYwgAAAPAC5lfCAAAAyBzHV8IAAACtxqFXwgAAAGvAj1fCAAAAi41mV8IAAAC46jZXwgAAADTeElfCAAAAOov2VsIAAACOmLNWwgAAAOPbolbCAAAAN+lfVsIAAACmTEJWwgAAAHeDDVbCAAAA2Vb2VcIAAACxcNdVwgAAAP/QsFXCAAAAnMeVVcIAAAB6jlpVwgAAAI3LN1XCAAAAcnUSVcIAAAA2HORUwgAAAHAJrlTCAAAAaSaYVMIAAAAtzWlUwgAAAIi9PFTCAAAAm/oZVMIAAAD26uxTwgAAABAL4FPCAAAA9bS6U8IAAACLyIlTwgAAAFz/VFPCAAAAt+8nU8IAAADyEiRTwgAAALa59VLCAAAAwhO9UsIAAACTSohSwgAAAAKualLCAAAAfqFGUsIAAABJKy5SwgAAAJCo8VHCAAAAxOjXUcIAAAD+1aFRwgAAAHQcmlHCAAAAwnxzUcIAAAA3jTlRwgAAABw3FFHCAAAA4N3lUMIAAAANO7ZQwgAAAFXuq1DC\"},\"shape\":[132],\"dtype\":\"float64\",\"order\":\"little\"}],[\"#Passengers\",{\"type\":\"ndarray\",\"array\":{\"type\":\"bytes\",\"data\":\"cwAAAH4AAACNAAAAhwAAAH0AAACVAAAAqgAAAKoAAACeAAAAhQAAAHIAAACMAAAAkQAAAJYAAACyAAAAowAAAKwAAACyAAAAxwAAAMcAAAC4AAAAogAAAJIAAACmAAAAqwAAALQAAADBAAAAtQAAALcAAADaAAAA5gAAAPIAAADRAAAAvwAAAKwAAADCAAAAxAAAAMQAAADsAAAA6wAAAOUAAADzAAAACAEAABABAADtAAAA0wAAALQAAADJAAAAzAAAALwAAADrAAAA4wAAAOoAAAAIAQAALgEAACUBAAADAQAA5QAAAMsAAADlAAAA8gAAAOkAAAALAQAADQEAAA4BAAA7AQAAbAEAAFsBAAA4AQAAEgEAAO0AAAAWAQAAHAEAABUBAAA9AQAAOQEAAD4BAAB2AQAAnQEAAJUBAABjAQAAMgEAAA8BAAAyAQAAOwEAAC0BAABkAQAAXAEAAGMBAACmAQAA0QEAANMBAACUAQAAWwEAADEBAABQAQAAVAEAAD4BAABqAQAAXAEAAGsBAACzAQAA6wEAAPkBAACUAQAAZwEAADYBAABRAQAAaAEAAFYBAACWAQAAjAEAAKQBAADYAQAAJAIAAC8CAADPAQAAlwEAAGoBAACVAQAAoQEAAIcBAACjAQAAzQEAANgBAAAXAgAAbgIAAF4CAAD8AQAAzQEAAIYBAACwAQAA\"},\"shape\":[132],\"dtype\":\"int32\",\"order\":\"little\"}],[\"Month\",{\"type\":\"ndarray\",\"array\":[\"January\",\"February\",\"March\",\"April\",\"May\",\"June\",\"July\",\"August\",\"September\",\"October\",\"November\",\"December\",\"January\",\"February\",\"March\",\"April\",\"May\",\"June\",\"July\",\"August\",\"September\",\"October\",\"November\",\"December\",\"January\",\"February\",\"March\",\"April\",\"May\",\"June\",\"July\",\"August\",\"September\",\"October\",\"November\",\"December\",\"January\",\"February\",\"March\",\"April\",\"May\",\"June\",\"July\",\"August\",\"September\",\"October\",\"November\",\"December\",\"January\",\"February\",\"March\",\"April\",\"May\",\"June\",\"July\",\"August\",\"September\",\"October\",\"November\",\"December\",\"January\",\"February\",\"March\",\"April\",\"May\",\"June\",\"July\",\"August\",\"September\",\"October\",\"November\",\"December\",\"January\",\"February\",\"March\",\"April\",\"May\",\"June\",\"July\",\"August\",\"September\",\"October\",\"November\",\"December\",\"January\",\"February\",\"March\",\"April\",\"May\",\"June\",\"July\",\"August\",\"September\",\"October\",\"November\",\"December\",\"January\",\"February\",\"March\",\"April\",\"May\",\"June\",\"July\",\"August\",\"September\",\"October\",\"November\",\"December\",\"January\",\"February\",\"March\",\"April\",\"May\",\"June\",\"July\",\"August\",\"September\",\"October\",\"November\",\"December\",\"January\",\"February\",\"March\",\"April\",\"May\",\"June\",\"July\",\"August\",\"September\",\"October\",\"November\",\"December\"],\"shape\":[132],\"dtype\":\"object\",\"order\":\"little\"}],[\"Year\",{\"type\":\"ndarray\",\"array\":{\"type\":\"bytes\",\"data\":\"ngcAAJ4HAACeBwAAngcAAJ4HAACeBwAAngcAAJ4HAACeBwAAngcAAJ4HAACeBwAAnwcAAJ8HAACfBwAAnwcAAJ8HAACfBwAAnwcAAJ8HAACfBwAAnwcAAJ8HAACfBwAAoAcAAKAHAACgBwAAoAcAAKAHAACgBwAAoAcAAKAHAACgBwAAoAcAAKAHAACgBwAAoQcAAKEHAAChBwAAoQcAAKEHAAChBwAAoQcAAKEHAAChBwAAoQcAAKEHAAChBwAAogcAAKIHAACiBwAAogcAAKIHAACiBwAAogcAAKIHAACiBwAAogcAAKIHAACiBwAAowcAAKMHAACjBwAAowcAAKMHAACjBwAAowcAAKMHAACjBwAAowcAAKMHAACjBwAApAcAAKQHAACkBwAApAcAAKQHAACkBwAApAcAAKQHAACkBwAApAcAAKQHAACkBwAApQcAAKUHAAClBwAApQcAAKUHAAClBwAApQcAAKUHAAClBwAApQcAAKUHAAClBwAApgcAAKYHAACmBwAApgcAAKYHAACmBwAApgcAAKYHAACmBwAApgcAAKYHAACmBwAApwcAAKcHAACnBwAApwcAAKcHAACnBwAApwcAAKcHAACnBwAApwcAAKcHAACnBwAAqAcAAKgHAACoBwAAqAcAAKgHAACoBwAAqAcAAKgHAACoBwAAqAcAAKgHAACoBwAA\"},\"shape\":[132],\"dtype\":\"int32\",\"order\":\"little\"}],[\"Rolling_Mean\",{\"type\":\"ndarray\",\"array\":{\"type\":\"bytes\",\"data\":\"q6qqqqq6X0BVVVVVVeVfQKuqqqqqCmBAq6qqqqoaYEBVVVVVVSVgQKuqqqqqSmBAVVVVVVWFYEAAAAAAAMBgQKuqqqqq+mBAAAAAAAAgYUCrqqqqqjphQFVVVVVVdWFAVVVVVVXFYUBVVVVVVQViQAAAAAAAaGJAq6qqqqqyYkAAAAAAADBjQFVVVVVVfWNAq6qqqqrKY0AAAAAAABhkQFVVVVVVXWRAq6qqqqqqZEAAAAAAAABlQFVVVVVVRWVAq6qqqqqKZUCrqqqqqtplQKuqqqqqAmZAq6qqqqoyZkAAAAAAAFBmQKuqqqqqumZAVVVVVVUNZ0AAAAAAAIBnQKuqqqqqwmdAAAAAAAAQaEBVVVVVVVVoQAAAAAAAoGhAq6qqqqriaEBVVVVVVQ1pQAAAAAAAgGlAAAAAAAAQakCrqqqqqopqQFVVVVVVzWpAAAAAAAAoa0AAAAAAAHhrQKuqqqqqwmtAAAAAAAD4a0BVVVVVVQ1sQAAAAAAAIGxAVVVVVVU1bEAAAAAAACBsQFVVVVVVHWxAAAAAAAAIbEBVVVVVVRVsQFVVVVVVTWxAq6qqqqqybECrqqqqqupsQFVVVVVVJW1AVVVVVVVVbUCrqqqqqpJtQFVVVVVV3W1Aq6qqqqpCbkCrqqqqqrpuQAAAAAAAEG9AAAAAAACAb0AAAAAAAOBvQAAAAAAANHBAq6qqqqqGcECrqqqqqs5wQFVVVVVVFXFAVVVVVVVRcUCrqqqqqn5xQAAAAAAAwHFAAAAAAAD4cUCrqqqqqjJyQFVVVVVVdXJAAAAAAACwckAAAAAAAPByQKuqqqqqPnNAAAAAAACAc0BVVVVVVc1zQKuqqqqqBnRAVVVVVVUxdECrqqqqql50QAAAAAAAhHRAVVVVVVWtdEBVVVVVVc10QFVVVVVVAXVAAAAAAAAwdUBVVVVVVWF1QFVVVVVVoXVAq6qqqqrmdUBVVVVVVTl2QKuqqqqqenZAVVVVVVWxdkCrqqqqqt52QKuqqqqqBndAAAAAAAAod0Crqqqqqj53QKuqqqqqRndAq6qqqqpGd0BVVVVVVVF3QKuqqqqqYndAVVVVVVWFd0AAAAAAALh3QAAAAAAAuHdAAAAAAADId0Crqqqqqs53QAAAAAAA0HdAq6qqqqrqd0Crqqqqqgp4QFVVVVVVRXhAVVVVVVWFeEBVVVVVVdF4QKuqqqqqAnlAq6qqqqpOeUCrqqqqqpZ5QFVVVVVV5XlAVVVVVVUlekCrqqqqqmp6QFVVVVVVxXpAVVVVVVURe0CrqqqqqlJ7QAAAAAAAZHtAq6qqqqq6e0AAAAAAAAB8QAAAAAAAVHxAq6qqqqq2fEBVVVVVVfV8QFVVVVVVMX1AVVVVVVV5fUCrqqqqqp59QKuqqqqqwn1A\"},\"shape\":[132],\"dtype\":\"float64\",\"order\":\"little\"}],[\"Rolling_Std\",{\"type\":\"ndarray\",\"array\":{\"type\":\"bytes\",\"data\":\"u1jdgRzoKkBqWNYxPFUqQOLzmGu7XytAfCG0cxqlK0AawYHK0VMrQNofUMt8hS1AnBSHYJAiMkA4Ja7YN8w0QCL2w5PP7TVA20eFvdhQNUAswbxKOxE0QM4Xyp8iEjNAVOA67J9wMUDOgwef98cwQFGiZGdcWTNAQgDhtPdsM0B6eFRppL4yQILWmJxi8TNAHH807z1IN0BbePwsd/Q5QFoIL77WxjpAToDG+SUWOUDxLxJfZWU0QLfxT0cycDJArjfngECnMEDZJw0wjl0uQM1+JhkvDzBAAyeO1jgeL0C2pzOgYAwvQGvzyuDkQDNA6DIkbEdmN0DQ+9BvMY88QLjmWtqWJT1AiaDyRdbGO0C0PdCurKg4QDewT5Zk9zZAFEjU5Kx6NUBTiL7CDqs0QOx4gCwK4DZADZwE2Gc/N0AAus2xa3A2QGrRAON/HDhAINKHWj7SO0C8k3e7f14/QPve7A+piT9ALlFqb3I/PkAXaKXSmRE9QIKGauKFdzxAxoRGbujPO0AYdz2qqKs8QNI7i8wYozxARPRKkkJ5PEBuNOwP+5U8QIum1MJPZT5AyC5SmgYOQkB9M30nuWFDQLYzkbWryENAQjMYTHV+Q0Agm1nxwkVCQFIPm4tVdkFAfkR15fuSQEAR8KNtT7k8QOdjWOsIHD1A5Gy3ohjQPEA4kyOCWaQ8QARpMSjJvEBAOAQhW8jsRUCRZx+/FLtIQBkrLzraa0lAUYGhTOpySEDXgSkkMYZGQFZ/P4X6EUVAL2sgKFgDREDXwFjdhzdCQNp6676GI0JAnFIhkanLQUAge7l/c1xBQBqts4T3JkRAxDYktdkaSED2zIWg8ENLQGx+6/cey0tAgmSqVCjzSkDR5hCip9hIQCfi789O7kdAMyWzvIoHR0DJc4j91v1FQGOcE9HdEkZAaX5Q+4bRRUBERhGzgalFQCxFI2HHOUhAZ1qHPwlPTEDqEoFyhhZQQEf3ckJSdlBAOv7EHg/sT0BpkryWYgNOQPGuUfEI8kxAh5+PyxkcTEBq8+s7lz9LQC8a8rGzLktALxrysbMuS0BhJWcKHhdLQN0k9D6srktALtYfj4XLTUA14wPEpmNQQDXjA8SmY1BAlgkvGMxGUEBAp8rq9CVQQGp/4kDzIVBA6wJgCEnQT0Ac9eoKOeFOQFkI0lR4zE5A0uG5VXAkTkCcxrP6DgFOQIVkAXIrgU9AWailmDr/UUCL+5XdKANUQJWisqIRX1RAnS7zCYzrU0BK15Is659SQJWve04gdVFA5no8KfanUEDaLHj93u5OQH0cVqn9sE5A7JGkzPIVTkAsyznQnxdOQCOoVvtlQVBATKNu23JMU0AbtJIeWuhUQJ8EmnGBJ1VAWqaqYa+iVEBRif8HJ+BTQOBRaQ4tb1NA\"},\"shape\":[132],\"dtype\":\"float64\",\"order\":\"little\"}],[\"Upper_Band\",{\"type\":\"ndarray\",\"array\":{\"type\":\"bytes\",\"data\":\"4SpzHdeLYUAxEMht/pdhQOk5ZGGmwGFAw+zlUfzUYUBncf1xktphQKmsX3cCI2JA6DdmYafJYkCnxBX7hlljQG8pI51kuGNA+6iwFxvKY0DQQgIU0rxjQE+YTqmZ12NAYLHcUmnzY0DPRTZJVB5kQEqU7Iwr02RAs8pGoUkgZUAPjyqN1IdlQCVw6KiB+2VAjjqRaLKzZkALj5/ljlZnQGA2Gy0wtmdAtXrjaW/NZ0D+ReKrrIxnQIxTP55bk2dAoZHHupKfZ0ApfauNg8BnQIV6z42QBGhAG40TOI4kaEB7OgMKxkBoQBgJxEbHImlAstvZQh76aUB6H/ot5hFrQIIH9oVdZ2tAEVS+yNqIa0AMXS/ramprQAf2yZLsfmtArjNFRwCSa0BfJq0tt6JrQB4PkEUBXGxAgpMA++z3bEDrYeQguFhtQIJvtVHl0G1ARPpQy0eibkB48m73z2NvQIpGqMzfs29AJkrtTe6/b0BYAqqPiK9vQNBQTbzwrm9A7iUeY1Kvb0DjrkcVdbVvQM+85m64sW9AiF5JUiiXb0Dj21K3FKhvQBP116b/DHBALpufKBabcEDF+0R6jOFwQCHRXCHAC3FAE7EtVHkacUC6iICzDRJxQJUMHlx1HXFA5f0D0rQzcUBXlC9M6ihxQD6GtY7AWXFAznYrigGNcUA0OSKYRbpxQCAtBiWZS3JAMssOtkNEc0Cdl45CDeZzQLg6m5zQQnRAf4XpnrJfdEDm2i/PcE90QOvvp1A/YnRAZg0EBWt4dEDGwlWmm3l0QLDEMi3GuXRAVCokMnXpdEBkL/dvjht1QE4gQZuJw3VA2IakNluDdkD0DmZp0zV3QHgaqIkOgHdA5aHqX7qPd0CFx+yev3l3QEX8/dnJgXdA+7nrrEaOd0DOYwY1EI13QOHIdw+xw3dAzQ9q3zDqd0AefreLhRZ4QPq9eUGOqHhA+JWb0otweUAQmvXx9j56QH1oRzs/mHpAHPUtOdeuekD4PIL9Fp96QIng1MjrpHpA8fNxOYOrekAYKSiSnaZ6QPHt6CCBrHpA8e3oIIGsekABOqIWObR6QEcviTKA2HpAG1A5B8Y+e0DN+ACx6dB7QM34ALHp0HtAZsILBrPZe0B7VF3lJ9h7QNqfONB82HtACKu2y7Pke0BOCQjM0eZ7QGCW71/kHnxAj5EMYONJfEAozqs0d5F8QDzX6hjQ8nxAwRTUUHnOfUCOKRDidJd+QPr9Ab4Z/X5A/CDSVzggf0B+YM91pRJ/QDpB9GidIn9ADnSk31I7f0BGsFmKhjB/QJDDKrUfOn9A6Dw/BGl9f0BmOQf688J/QATVar8sMoBAvynDsOPEgEAuAX3utReBQD7r3diaPYFAdv/flgBRgUCARlU2WkuBQJJ/Ivc6T4FA\"},\"shape\":[132],\"dtype\":\"float64\",\"order\":\"little\"}],[\"Lower_Band\",{\"type\":\"ndarray\",\"array\":{\"type\":\"bytes\",\"data\":\"lP9uGqddXEBIihrPrZpcQNo24uddqVxAJtHeBrLAXECHclpxMOBcQFtR67ul5FxAg+WIkgaCXECydtQJ8kxcQM5XZHDheVxACa6e0MnrXEALJaaCBnFdQLYkuAIiJl5AlfKbr4IuX0C2yejCrNhfQGzXJuao+V9Ao4oOtAtFYEDxcNVyK9hgQIU6wgEp/2BAyBrE7KLhYED1cGAacdlgQEp0j316BGFAodpx6+WHYUACuh1UU3NiQB5XawxP92JAtcONmsJ1Y0At2KnH0fRjQNHahcfEAGRAO8hBHcdAZECFxfz1OV9kQD5MkQ6OUmRA+M7QZ4wgZECG4AXSGe5jQNRNX8/3HWRA76tBNyWXZECeTXu/P0BlQPkJNm0TwWVAqCEQDlUzZkBLhP1883dmQOLwb7r+o2ZAfmz/BBMoZ0Br83A0nbxnQCg79VjFyWdAvAWvNLitZ0CIDZEIMIxnQMwOrYh10WdA2rUSshEwaEBSqAAbImtoQDCvskMPkWhAvISMR1i7aEAdUbjqiopoQNvtwzvyiGhAeKG2rdd4aEDHzlfzlYJoQITA+lyrgGhA+R4WBCkvaEDMXctgPBJoQGgI8WcqM2hAhEhPArh1aEDjQ1TuOQFpQICRbvK/f2lAjFlNsesdakCpLPa8gCNrQIPzlOJ+bGtAZBKp6/zla0CZjbvPdEtsQL+l87XNOGxASBSNPiOSa0Bye40lkG5rQOTfHhy0z2tAVkqCF/CFbEDg9EoMyVttQCogsF6BO25ANOX39SnvbkAgJf9dc9dvQPrld33kMHBArNXbzYp2cECc0AiQccRwQAg1FLrLuXBAKHlbyaR8cEC2m0RB12RwQN46rctGjXBAxQjASvDScEDRjWi2lUNxQLsDAiY2hnFAr/C+/WPMcUDcRqR1mg1yQMnhMpv5PnJAM/CVIM91ckCMLPMeJaxyQLDsMGkcmnJAXr+5gslcckCaELW4szNyQNnsDRoWXXJAjrV8cdOzckBeGNNXPh5zQM10gIxpaHNADwyOxnykc0A+LC3Dt9ZzQGVnbDTU4HNAZWdsNNTgc0CpcAiUce5zQA8mzCLV7HNAj1pxo+TLc0AzB/9OFp9zQDMH/04Wn3NAmj30+Uy2c0DbAPhvLcVzQCZgxy+Dx3NATqqeiaHwc0AITE2Jgy50QEoUu0rGa3RAGxmeSsfAdECC3P51MxF1QBp+ajyFEnVAlUCBBNzOdEDIK0Vz4JV0QLCsqOyQzXRAronYUnIqdUDY9IXfr8J1QHBptkENaHZAnDYGy1fndkAQpfvKznR3QHA81UrgjXdAbhgWUez3d0CaxvgFDD14QPdVKoGmQ3hA2AHP843jd0BOqLDNPrt3QC3U7vh053dAvqvqfKlQeEBXyKrooKZ4QDNWEGff5nhA\"},\"shape\":[132],\"dtype\":\"float64\",\"order\":\"little\"}],[\"Is_Outlier\",{\"type\":\"ndarray\",\"array\":{\"type\":\"bytes\",\"data\":\"AAAAAAABAQEBAAEAAAABAAABAQEAAAEAAAABAAABAQEAAAAAAAABAQABAQEAAAEAAAEAAAABAQEAAAAAAAAAAAABAQEAAAAAAAAAAAABAQEAAAEAAAAAAAABAQEAAAEAAAAAAAABAQEAAAEAAAAAAAABAQEAAAAAAAAAAAABAQEAAAEA\"},\"shape\":[132],\"dtype\":\"bool\",\"order\":\"little\"}],[\"Lag_1\",{\"type\":\"ndarray\",\"array\":{\"type\":\"bytes\",\"data\":\"AAAAAACAXUAAAAAAAMBcQAAAAAAAgF9AAAAAAACgYUAAAAAAAOBgQAAAAAAAQF9AAAAAAACgYkAAAAAAAEBlQAAAAAAAQGVAAAAAAADAY0AAAAAAAKBgQAAAAAAAgFxAAAAAAACAYUAAAAAAACBiQAAAAAAAwGJAAAAAAABAZkAAAAAAAGBkQAAAAAAAgGVAAAAAAABAZkAAAAAAAOBoQAAAAAAA4GhAAAAAAAAAZ0AAAAAAAEBkQAAAAAAAQGJAAAAAAADAZEAAAAAAAGBlQAAAAAAAgGZAAAAAAAAgaEAAAAAAAKBmQAAAAAAA4GZAAAAAAABAa0AAAAAAAMBsQAAAAAAAQG5AAAAAAAAgakAAAAAAAOBnQAAAAAAAgGVAAAAAAABAaEAAAAAAAIBoQAAAAAAAgGhAAAAAAACAbUAAAAAAAGBtQAAAAAAAoGxAAAAAAABgbkAAAAAAAIBwQAAAAAAAAHFAAAAAAACgbUAAAAAAAGBqQAAAAAAAgGZAAAAAAAAgaUAAAAAAAIBpQAAAAAAAgGdAAAAAAABgbUAAAAAAAGBsQAAAAAAAQG1AAAAAAACAcEAAAAAAAOByQAAAAAAAUHJAAAAAAAAwcEAAAAAAAKBsQAAAAAAAYGlAAAAAAACgbEAAAAAAAEBuQAAAAAAAIG1AAAAAAACwcEAAAAAAANBwQAAAAAAA4HBAAAAAAACwc0AAAAAAAMB2QAAAAAAAsHVAAAAAAACAc0AAAAAAACBxQAAAAAAAoG1AAAAAAABgcUAAAAAAAMBxQAAAAAAAUHFAAAAAAADQc0AAAAAAAJBzQAAAAAAA4HNAAAAAAABgd0AAAAAAANB5QAAAAAAAUHlAAAAAAAAwdkAAAAAAACBzQAAAAAAA8HBAAAAAAAAgc0AAAAAAALBzQAAAAAAA0HJAAAAAAABAdkAAAAAAAMB1QAAAAAAAMHZAAAAAAABgekAAAAAAABB9QAAAAAAAMH1AAAAAAABAeUAAAAAAALB1QAAAAAAAEHNAAAAAAAAAdUAAAAAAAEB1QAAAAAAA4HNAAAAAAACgdkAAAAAAAMB1QAAAAAAAsHZAAAAAAAAwe0AAAAAAALB+QAAAAAAAkH9AAAAAAABAeUAAAAAAAHB2QAAAAAAAYHNAAAAAAAAQdUAAAAAAAIB2QAAAAAAAYHVAAAAAAABgeUAAAAAAAMB4QAAAAAAAQHpAAAAAAACAfUAAAAAAACCBQAAAAAAAeIFAAAAAAADwfEAAAAAAAHB5QAAAAAAAoHZAAAAAAABQeUAAAAAAABB6QAAAAAAAcHhAAAAAAAAwekAAAAAAANB8QAAAAAAAgH1AAAAAAAC4gEAAAAAAAHCDQAAAAAAA8IJAAAAAAADAf0AAAAAAANB8QAAAAAAAYHhA\"},\"shape\":[132],\"dtype\":\"float64\",\"order\":\"little\"}],[\"Lag_6\",{\"type\":\"ndarray\",\"array\":{\"type\":\"bytes\",\"data\":\"AAAAAACAYkAAAAAAAIBiQAAAAAAAAGFAAAAAAADAXUAAAAAAAABaQAAAAAAAgF1AAAAAAADAXEAAAAAAAIBfQAAAAAAAoGFAAAAAAADgYEAAAAAAAEBfQAAAAAAAoGJAAAAAAABAZUAAAAAAAEBlQAAAAAAAwGNAAAAAAACgYEAAAAAAAIBcQAAAAAAAgGFAAAAAAAAgYkAAAAAAAMBiQAAAAAAAQGZAAAAAAABgZEAAAAAAAIBlQAAAAAAAQGZAAAAAAADgaEAAAAAAAOBoQAAAAAAAAGdAAAAAAABAZEAAAAAAAEBiQAAAAAAAwGRAAAAAAABgZUAAAAAAAIBmQAAAAAAAIGhAAAAAAACgZkAAAAAAAOBmQAAAAAAAQGtAAAAAAADAbEAAAAAAAEBuQAAAAAAAIGpAAAAAAADgZ0AAAAAAAIBlQAAAAAAAQGhAAAAAAACAaEAAAAAAAIBoQAAAAAAAgG1AAAAAAABgbUAAAAAAAKBsQAAAAAAAYG5AAAAAAACAcEAAAAAAAABxQAAAAAAAoG1AAAAAAABgakAAAAAAAIBmQAAAAAAAIGlAAAAAAACAaUAAAAAAAIBnQAAAAAAAYG1AAAAAAABgbEAAAAAAAEBtQAAAAAAAgHBAAAAAAADgckAAAAAAAFByQAAAAAAAMHBAAAAAAACgbEAAAAAAAGBpQAAAAAAAoGxAAAAAAABAbkAAAAAAACBtQAAAAAAAsHBAAAAAAADQcEAAAAAAAOBwQAAAAAAAsHNAAAAAAADAdkAAAAAAALB1QAAAAAAAgHNAAAAAAAAgcUAAAAAAAKBtQAAAAAAAYHFAAAAAAADAcUAAAAAAAFBxQAAAAAAA0HNAAAAAAACQc0AAAAAAAOBzQAAAAAAAYHdAAAAAAADQeUAAAAAAAFB5QAAAAAAAMHZAAAAAAAAgc0AAAAAAAPBwQAAAAAAAIHNAAAAAAACwc0AAAAAAANByQAAAAAAAQHZAAAAAAADAdUAAAAAAADB2QAAAAAAAYHpAAAAAAAAQfUAAAAAAADB9QAAAAAAAQHlAAAAAAACwdUAAAAAAABBzQAAAAAAAAHVAAAAAAABAdUAAAAAAAOBzQAAAAAAAoHZAAAAAAADAdUAAAAAAALB2QAAAAAAAMHtAAAAAAACwfkAAAAAAAJB/QAAAAAAAQHlAAAAAAABwdkAAAAAAAGBzQAAAAAAAEHVAAAAAAACAdkAAAAAAAGB1QAAAAAAAYHlAAAAAAADAeEAAAAAAAEB6QAAAAAAAgH1AAAAAAAAggUAAAAAAAHiBQAAAAAAA8HxAAAAAAABweUAAAAAAAKB2QAAAAAAAUHlAAAAAAAAQekAAAAAAAHB4QAAAAAAAMHpAAAAAAADQfEAAAAAAAIB9QAAAAAAAuIBA\"},\"shape\":[132],\"dtype\":\"float64\",\"order\":\"little\"}],[\"Lag_12\",{\"type\":\"ndarray\",\"array\":{\"type\":\"bytes\",\"data\":\"AAAAAAAAXEAAAAAAAIBdQAAAAAAAgGBAAAAAAAAgYEAAAAAAAEBeQAAAAAAA4GBAAAAAAACAYkAAAAAAAIBiQAAAAAAAAGFAAAAAAADAXUAAAAAAAABaQAAAAAAAgF1AAAAAAADAXEAAAAAAAIBfQAAAAAAAoGFAAAAAAADgYEAAAAAAAEBfQAAAAAAAoGJAAAAAAABAZUAAAAAAAEBlQAAAAAAAwGNAAAAAAACgYEAAAAAAAIBcQAAAAAAAgGFAAAAAAAAgYkAAAAAAAMBiQAAAAAAAQGZAAAAAAABgZEAAAAAAAIBlQAAAAAAAQGZAAAAAAADgaEAAAAAAAOBoQAAAAAAAAGdAAAAAAABAZEAAAAAAAEBiQAAAAAAAwGRAAAAAAABgZUAAAAAAAIBmQAAAAAAAIGhAAAAAAACgZkAAAAAAAOBmQAAAAAAAQGtAAAAAAADAbEAAAAAAAEBuQAAAAAAAIGpAAAAAAADgZ0AAAAAAAIBlQAAAAAAAQGhAAAAAAACAaEAAAAAAAIBoQAAAAAAAgG1AAAAAAABgbUAAAAAAAKBsQAAAAAAAYG5AAAAAAACAcEAAAAAAAABxQAAAAAAAoG1AAAAAAABgakAAAAAAAIBmQAAAAAAAIGlAAAAAAACAaUAAAAAAAIBnQAAAAAAAYG1AAAAAAABgbEAAAAAAAEBtQAAAAAAAgHBAAAAAAADgckAAAAAAAFByQAAAAAAAMHBAAAAAAACgbEAAAAAAAGBpQAAAAAAAoGxAAAAAAABAbkAAAAAAACBtQAAAAAAAsHBAAAAAAADQcEAAAAAAAOBwQAAAAAAAsHNAAAAAAADAdkAAAAAAALB1QAAAAAAAgHNAAAAAAAAgcUAAAAAAAKBtQAAAAAAAYHFAAAAAAADAcUAAAAAAAFBxQAAAAAAA0HNAAAAAAACQc0AAAAAAAOBzQAAAAAAAYHdAAAAAAADQeUAAAAAAAFB5QAAAAAAAMHZAAAAAAAAgc0AAAAAAAPBwQAAAAAAAIHNAAAAAAACwc0AAAAAAANByQAAAAAAAQHZAAAAAAADAdUAAAAAAADB2QAAAAAAAYHpAAAAAAAAQfUAAAAAAADB9QAAAAAAAQHlAAAAAAACwdUAAAAAAABBzQAAAAAAAAHVAAAAAAABAdUAAAAAAAOBzQAAAAAAAoHZAAAAAAADAdUAAAAAAALB2QAAAAAAAMHtAAAAAAACwfkAAAAAAAJB/QAAAAAAAQHlAAAAAAABwdkAAAAAAAGBzQAAAAAAAEHVAAAAAAACAdkAAAAAAAGB1QAAAAAAAYHlAAAAAAADAeEAAAAAAAEB6QAAAAAAAgH1AAAAAAAAggUAAAAAAAHiBQAAAAAAA8HxAAAAAAABweUAAAAAAAKB2QAAAAAAAUHlA\"},\"shape\":[132],\"dtype\":\"float64\",\"order\":\"little\"}]]}}},\"view\":{\"type\":\"object\",\"name\":\"CDSView\",\"id\":\"p1584\",\"attributes\":{\"filter\":{\"type\":\"object\",\"name\":\"AllIndices\",\"id\":\"p1585\"}}},\"glyph\":{\"type\":\"object\",\"name\":\"Scatter\",\"id\":\"p1580\",\"attributes\":{\"x\":{\"type\":\"field\",\"field\":\"Lag_12\"},\"y\":{\"type\":\"field\",\"field\":\"#Passengers\"},\"size\":{\"type\":\"value\",\"value\":8},\"line_color\":{\"type\":\"value\",\"value\":\"red\"},\"fill_color\":{\"type\":\"value\",\"value\":\"red\"},\"hatch_color\":{\"type\":\"value\",\"value\":\"red\"}}},\"nonselection_glyph\":{\"type\":\"object\",\"name\":\"Scatter\",\"id\":\"p1581\",\"attributes\":{\"x\":{\"type\":\"field\",\"field\":\"Lag_12\"},\"y\":{\"type\":\"field\",\"field\":\"#Passengers\"},\"size\":{\"type\":\"value\",\"value\":8},\"line_color\":{\"type\":\"value\",\"value\":\"red\"},\"line_alpha\":{\"type\":\"value\",\"value\":0.1},\"fill_color\":{\"type\":\"value\",\"value\":\"red\"},\"fill_alpha\":{\"type\":\"value\",\"value\":0.1},\"hatch_color\":{\"type\":\"value\",\"value\":\"red\"},\"hatch_alpha\":{\"type\":\"value\",\"value\":0.1}}},\"muted_glyph\":{\"type\":\"object\",\"name\":\"Scatter\",\"id\":\"p1582\",\"attributes\":{\"x\":{\"type\":\"field\",\"field\":\"Lag_12\"},\"y\":{\"type\":\"field\",\"field\":\"#Passengers\"},\"size\":{\"type\":\"value\",\"value\":8},\"line_color\":{\"type\":\"value\",\"value\":\"red\"},\"line_alpha\":{\"type\":\"value\",\"value\":0.2},\"fill_color\":{\"type\":\"value\",\"value\":\"red\"},\"fill_alpha\":{\"type\":\"value\",\"value\":0.2},\"hatch_color\":{\"type\":\"value\",\"value\":\"red\"},\"hatch_alpha\":{\"type\":\"value\",\"value\":0.2}}}}}],\"toolbar\":{\"type\":\"object\",\"name\":\"Toolbar\",\"id\":\"p1548\",\"attributes\":{\"tools\":[{\"type\":\"object\",\"name\":\"PanTool\",\"id\":\"p1561\"},{\"type\":\"object\",\"name\":\"WheelZoomTool\",\"id\":\"p1562\",\"attributes\":{\"renderers\":\"auto\"}},{\"type\":\"object\",\"name\":\"BoxZoomTool\",\"id\":\"p1563\",\"attributes\":{\"dimensions\":\"both\",\"overlay\":{\"type\":\"object\",\"name\":\"BoxAnnotation\",\"id\":\"p1564\",\"attributes\":{\"syncable\":false,\"line_color\":\"black\",\"line_alpha\":1.0,\"line_width\":2,\"line_dash\":[4,4],\"fill_color\":\"lightgrey\",\"fill_alpha\":0.5,\"level\":\"overlay\",\"visible\":false,\"left\":{\"type\":\"number\",\"value\":\"nan\"},\"right\":{\"type\":\"number\",\"value\":\"nan\"},\"top\":{\"type\":\"number\",\"value\":\"nan\"},\"bottom\":{\"type\":\"number\",\"value\":\"nan\"},\"left_units\":\"canvas\",\"right_units\":\"canvas\",\"top_units\":\"canvas\",\"bottom_units\":\"canvas\",\"handles\":{\"type\":\"object\",\"name\":\"BoxInteractionHandles\",\"id\":\"p1570\",\"attributes\":{\"all\":{\"type\":\"object\",\"name\":\"AreaVisuals\",\"id\":\"p1569\",\"attributes\":{\"fill_color\":\"white\",\"hover_fill_color\":\"lightgray\"}}}}}}}},{\"type\":\"object\",\"name\":\"SaveTool\",\"id\":\"p1571\"},{\"type\":\"object\",\"name\":\"ResetTool\",\"id\":\"p1572\"},{\"type\":\"object\",\"name\":\"HelpTool\",\"id\":\"p1573\"}]}},\"left\":[{\"type\":\"object\",\"name\":\"LinearAxis\",\"id\":\"p1556\",\"attributes\":{\"ticker\":{\"type\":\"object\",\"name\":\"BasicTicker\",\"id\":\"p1557\",\"attributes\":{\"mantissas\":[1,2,5]}},\"formatter\":{\"type\":\"object\",\"name\":\"BasicTickFormatter\",\"id\":\"p1558\"},\"axis_label\":\"Passengers (t)\",\"major_label_policy\":{\"type\":\"object\",\"name\":\"AllLabels\",\"id\":\"p1559\"}}}],\"below\":[{\"type\":\"object\",\"name\":\"LinearAxis\",\"id\":\"p1551\",\"attributes\":{\"ticker\":{\"type\":\"object\",\"name\":\"BasicTicker\",\"id\":\"p1552\",\"attributes\":{\"mantissas\":[1,2,5]}},\"formatter\":{\"type\":\"object\",\"name\":\"BasicTickFormatter\",\"id\":\"p1553\"},\"axis_label\":\"Passengers (t-12)\",\"major_label_policy\":{\"type\":\"object\",\"name\":\"AllLabels\",\"id\":\"p1554\"}}}],\"center\":[{\"type\":\"object\",\"name\":\"Grid\",\"id\":\"p1555\",\"attributes\":{\"axis\":{\"id\":\"p1551\"}}},{\"type\":\"object\",\"name\":\"Grid\",\"id\":\"p1560\",\"attributes\":{\"dimension\":1,\"axis\":{\"id\":\"p1556\"}}}]}}]}}]}};\n",
       "  const render_items = [{\"docid\":\"84098e2a-2315-413e-a695-4af913dd2154\",\"roots\":{\"p1586\":\"c7eb7ccc-ad01-4c90-b13c-d95825b0fbb1\"},\"root_ids\":[\"p1586\"]}];\n",
       "  void root.Bokeh.embed.embed_items_notebook(docs_json, render_items);\n",
       "  }\n",
       "  if (root.Bokeh !== undefined) {\n",
       "    embed_document(root);\n",
       "  } else {\n",
       "    let attempts = 0;\n",
       "    const timer = setInterval(function(root) {\n",
       "      if (root.Bokeh !== undefined) {\n",
       "        clearInterval(timer);\n",
       "        embed_document(root);\n",
       "      } else {\n",
       "        attempts++;\n",
       "        if (attempts > 100) {\n",
       "          clearInterval(timer);\n",
       "          console.log(\"Bokeh: ERROR: Unable to run BokehJS code because BokehJS library is missing\");\n",
       "        }\n",
       "      }\n",
       "    }, 10, root)\n",
       "  }\n",
       "})(window);"
      ],
      "application/vnd.bokehjs_exec.v0+json": ""
     },
     "metadata": {
      "application/vnd.bokehjs_exec.v0+json": {
       "id": "p1586"
      }
     },
     "output_type": "display_data"
    }
   ],
   "source": [
    "df['Lag_1'] = df['#Passengers'].shift(1)\n",
    "df['Lag_6'] = df['#Passengers'].shift(6)\n",
    "df['Lag_12'] = df['#Passengers'].shift(12)\n",
    "\n",
    "df_lagged = df.dropna()\n",
    "\n",
    "p1 = figure(title='Lag 1 Analysis',\n",
    "           x_axis_label='Passengers (t-1)',\n",
    "           y_axis_label='Passengers (t)',\n",
    "           width=400,\n",
    "           height=400)\n",
    "p1.circle(x='Lag_1', y='#Passengers', source=ColumnDataSource(df_lagged), size=8)\n",
    "\n",
    "p2 = figure(title='Lag 6 Analysis',\n",
    "           x_axis_label='Passengers (t-6)',\n",
    "           y_axis_label='Passengers (t)',\n",
    "           width=400,\n",
    "           height=400)\n",
    "p2.circle(x='Lag_6', y='#Passengers', source=ColumnDataSource(df_lagged), size=8, color='green')\n",
    "\n",
    "p3 = figure(title='Lag 12 Analysis',\n",
    "           x_axis_label='Passengers (t-12)',\n",
    "           y_axis_label='Passengers (t)',\n",
    "           width=400,\n",
    "           height=400)\n",
    "p3.circle(x='Lag_12', y='#Passengers', source=ColumnDataSource(df_lagged), size=8, color='red')\n",
    "\n",
    "lag_plots = row(p1, p2, p3)\n",
    "show(lag_plots)"
   ]
  },
  {
   "cell_type": "markdown",
   "id": "f17cd3f7ad9c66d9",
   "metadata": {},
   "source": [
    "* Autocorrelation"
   ]
  },
  {
   "cell_type": "code",
   "execution_count": 9,
   "id": "aed514eb73f98d73",
   "metadata": {
    "ExecuteTime": {
     "end_time": "2025-05-14T15:27:41.443899Z",
     "start_time": "2025-05-14T15:27:41.337372Z"
    }
   },
   "outputs": [
    {
     "name": "stderr",
     "output_type": "stream",
     "text": [
      "BokehDeprecationWarning: 'circle() method with size value' was deprecated in Bokeh 3.4.0 and will be removed, use 'scatter(size=...) instead' instead.\n"
     ]
    },
    {
     "data": {
      "text/html": [
       "\n",
       "  <div id=\"a5e5fc22-b398-4466-9bd6-c70781873721\" data-root-id=\"p1626\" style=\"display: contents;\"></div>\n"
      ]
     },
     "metadata": {},
     "output_type": "display_data"
    },
    {
     "data": {
      "application/javascript": [
       "(function(root) {\n",
       "  function embed_document(root) {\n",
       "  const docs_json = {\"d43c213b-07c0-40f8-bfbf-27f82dd251d5\":{\"version\":\"3.7.3\",\"title\":\"Bokeh Application\",\"roots\":[{\"type\":\"object\",\"name\":\"Figure\",\"id\":\"p1626\",\"attributes\":{\"width\":800,\"height\":400,\"x_range\":{\"type\":\"object\",\"name\":\"DataRange1d\",\"id\":\"p1627\"},\"y_range\":{\"type\":\"object\",\"name\":\"DataRange1d\",\"id\":\"p1628\"},\"x_scale\":{\"type\":\"object\",\"name\":\"LinearScale\",\"id\":\"p1636\"},\"y_scale\":{\"type\":\"object\",\"name\":\"LinearScale\",\"id\":\"p1637\"},\"title\":{\"type\":\"object\",\"name\":\"Title\",\"id\":\"p1629\",\"attributes\":{\"text\":\"Autocorrelation Plot\"}},\"renderers\":[{\"type\":\"object\",\"name\":\"GlyphRenderer\",\"id\":\"p1667\",\"attributes\":{\"data_source\":{\"type\":\"object\",\"name\":\"ColumnDataSource\",\"id\":\"p1623\",\"attributes\":{\"selected\":{\"type\":\"object\",\"name\":\"Selection\",\"id\":\"p1624\",\"attributes\":{\"indices\":[],\"line_indices\":[]}},\"selection_policy\":{\"type\":\"object\",\"name\":\"UnionRenderers\",\"id\":\"p1625\"},\"data\":{\"type\":\"map\",\"entries\":[[\"index\",{\"type\":\"ndarray\",\"array\":{\"type\":\"bytes\",\"data\":\"AAAAAAEAAAACAAAAAwAAAAQAAAAFAAAABgAAAAcAAAAIAAAACQAAAAoAAAALAAAADAAAAA0AAAAOAAAADwAAABAAAAARAAAAEgAAABMAAAAUAAAAFQAAABYAAAAXAAAAGAAAABkAAAAaAAAAGwAAABwAAAAdAAAAHgAAAB8AAAAgAAAAIQAAACIAAAAjAAAA\"},\"shape\":[36],\"dtype\":\"int32\",\"order\":\"little\"}],[\"Lag\",{\"type\":\"ndarray\",\"array\":{\"type\":\"bytes\",\"data\":\"AQAAAAIAAAADAAAABAAAAAUAAAAGAAAABwAAAAgAAAAJAAAACgAAAAsAAAAMAAAADQAAAA4AAAAPAAAAEAAAABEAAAASAAAAEwAAABQAAAAVAAAAFgAAABcAAAAYAAAAGQAAABoAAAAbAAAAHAAAAB0AAAAeAAAAHwAAACAAAAAhAAAAIgAAACMAAAAkAAAA\"},\"shape\":[36],\"dtype\":\"int32\",\"order\":\"little\"}],[\"Autocorrelation\",{\"type\":\"ndarray\",\"array\":{\"type\":\"bytes\",\"data\":\"GmNlIOq57j8Zg0hFX6nsP+rFOxvwy+o/mu9Z6wqH6T87Uz8/cibpPzBc5t7cFek/iTXr82Ab6T99IOxe01npPw9LJ0XDfeo/+z1f5y4/7D/hlKOE9WPuP01lEXRmsu8/Ug6jr+NW7j9xjUIWqwPsP7hVb2qH9+k/Ilu+ElOf6D+cWeSVqy/oP2K00WnH9ec/rCnz2SLb5z9ajr0Wpw7oPwEFMVyRbOk/u+bjLgh96z/XzJhRlfntP9iE5zbRdu8/VMHCCFUH7j+1Rh99HnvrP8HtWFXbROk/jJE8n7nX5z9OCv4raVXnP6u3B/VtG+c/2D2s8gb85j83aFoLejDnPxShcx6xpOg/nkoOqGTz6j/T060lKpjtP1Vl0WznRe8/\"},\"shape\":[36],\"dtype\":\"float64\",\"order\":\"little\"}]]}}},\"view\":{\"type\":\"object\",\"name\":\"CDSView\",\"id\":\"p1668\",\"attributes\":{\"filter\":{\"type\":\"object\",\"name\":\"AllIndices\",\"id\":\"p1669\"}}},\"glyph\":{\"type\":\"object\",\"name\":\"Line\",\"id\":\"p1664\",\"attributes\":{\"x\":{\"type\":\"field\",\"field\":\"Lag\"},\"y\":{\"type\":\"field\",\"field\":\"Autocorrelation\"},\"line_color\":\"#1f77b4\",\"line_width\":2}},\"nonselection_glyph\":{\"type\":\"object\",\"name\":\"Line\",\"id\":\"p1665\",\"attributes\":{\"x\":{\"type\":\"field\",\"field\":\"Lag\"},\"y\":{\"type\":\"field\",\"field\":\"Autocorrelation\"},\"line_color\":\"#1f77b4\",\"line_alpha\":0.1,\"line_width\":2}},\"muted_glyph\":{\"type\":\"object\",\"name\":\"Line\",\"id\":\"p1666\",\"attributes\":{\"x\":{\"type\":\"field\",\"field\":\"Lag\"},\"y\":{\"type\":\"field\",\"field\":\"Autocorrelation\"},\"line_color\":\"#1f77b4\",\"line_alpha\":0.2,\"line_width\":2}}}},{\"type\":\"object\",\"name\":\"GlyphRenderer\",\"id\":\"p1676\",\"attributes\":{\"data_source\":{\"id\":\"p1623\"},\"view\":{\"type\":\"object\",\"name\":\"CDSView\",\"id\":\"p1677\",\"attributes\":{\"filter\":{\"type\":\"object\",\"name\":\"AllIndices\",\"id\":\"p1678\"}}},\"glyph\":{\"type\":\"object\",\"name\":\"Scatter\",\"id\":\"p1673\",\"attributes\":{\"x\":{\"type\":\"field\",\"field\":\"Lag\"},\"y\":{\"type\":\"field\",\"field\":\"Autocorrelation\"},\"size\":{\"type\":\"value\",\"value\":8},\"line_color\":{\"type\":\"value\",\"value\":\"blue\"},\"fill_color\":{\"type\":\"value\",\"value\":\"blue\"},\"hatch_color\":{\"type\":\"value\",\"value\":\"blue\"}}},\"nonselection_glyph\":{\"type\":\"object\",\"name\":\"Scatter\",\"id\":\"p1674\",\"attributes\":{\"x\":{\"type\":\"field\",\"field\":\"Lag\"},\"y\":{\"type\":\"field\",\"field\":\"Autocorrelation\"},\"size\":{\"type\":\"value\",\"value\":8},\"line_color\":{\"type\":\"value\",\"value\":\"blue\"},\"line_alpha\":{\"type\":\"value\",\"value\":0.1},\"fill_color\":{\"type\":\"value\",\"value\":\"blue\"},\"fill_alpha\":{\"type\":\"value\",\"value\":0.1},\"hatch_color\":{\"type\":\"value\",\"value\":\"blue\"},\"hatch_alpha\":{\"type\":\"value\",\"value\":0.1}}},\"muted_glyph\":{\"type\":\"object\",\"name\":\"Scatter\",\"id\":\"p1675\",\"attributes\":{\"x\":{\"type\":\"field\",\"field\":\"Lag\"},\"y\":{\"type\":\"field\",\"field\":\"Autocorrelation\"},\"size\":{\"type\":\"value\",\"value\":8},\"line_color\":{\"type\":\"value\",\"value\":\"blue\"},\"line_alpha\":{\"type\":\"value\",\"value\":0.2},\"fill_color\":{\"type\":\"value\",\"value\":\"blue\"},\"fill_alpha\":{\"type\":\"value\",\"value\":0.2},\"hatch_color\":{\"type\":\"value\",\"value\":\"blue\"},\"hatch_alpha\":{\"type\":\"value\",\"value\":0.2}}}}},{\"type\":\"object\",\"name\":\"GlyphRenderer\",\"id\":\"p1685\",\"attributes\":{\"data_source\":{\"type\":\"object\",\"name\":\"ColumnDataSource\",\"id\":\"p1679\",\"attributes\":{\"selected\":{\"type\":\"object\",\"name\":\"Selection\",\"id\":\"p1680\",\"attributes\":{\"indices\":[],\"line_indices\":[]}},\"selection_policy\":{\"type\":\"object\",\"name\":\"UnionRenderers\",\"id\":\"p1681\"},\"data\":{\"type\":\"map\",\"entries\":[[\"x\",[0,37]],[\"y\",[0,0]]]}}},\"view\":{\"type\":\"object\",\"name\":\"CDSView\",\"id\":\"p1686\",\"attributes\":{\"filter\":{\"type\":\"object\",\"name\":\"AllIndices\",\"id\":\"p1687\"}}},\"glyph\":{\"type\":\"object\",\"name\":\"Line\",\"id\":\"p1682\",\"attributes\":{\"x\":{\"type\":\"field\",\"field\":\"x\"},\"y\":{\"type\":\"field\",\"field\":\"y\"},\"line_dash\":[6]}},\"nonselection_glyph\":{\"type\":\"object\",\"name\":\"Line\",\"id\":\"p1683\",\"attributes\":{\"x\":{\"type\":\"field\",\"field\":\"x\"},\"y\":{\"type\":\"field\",\"field\":\"y\"},\"line_alpha\":0.1,\"line_dash\":[6]}},\"muted_glyph\":{\"type\":\"object\",\"name\":\"Line\",\"id\":\"p1684\",\"attributes\":{\"x\":{\"type\":\"field\",\"field\":\"x\"},\"y\":{\"type\":\"field\",\"field\":\"y\"},\"line_alpha\":0.2,\"line_dash\":[6]}}}},{\"type\":\"object\",\"name\":\"GlyphRenderer\",\"id\":\"p1694\",\"attributes\":{\"data_source\":{\"type\":\"object\",\"name\":\"ColumnDataSource\",\"id\":\"p1688\",\"attributes\":{\"selected\":{\"type\":\"object\",\"name\":\"Selection\",\"id\":\"p1689\",\"attributes\":{\"indices\":[],\"line_indices\":[]}},\"selection_policy\":{\"type\":\"object\",\"name\":\"UnionRenderers\",\"id\":\"p1690\"},\"data\":{\"type\":\"map\",\"entries\":[[\"x\",[0,37]],[\"y\",[0.2,0.2]]]}}},\"view\":{\"type\":\"object\",\"name\":\"CDSView\",\"id\":\"p1695\",\"attributes\":{\"filter\":{\"type\":\"object\",\"name\":\"AllIndices\",\"id\":\"p1696\"}}},\"glyph\":{\"type\":\"object\",\"name\":\"Line\",\"id\":\"p1691\",\"attributes\":{\"x\":{\"type\":\"field\",\"field\":\"x\"},\"y\":{\"type\":\"field\",\"field\":\"y\"},\"line_color\":\"red\",\"line_dash\":[2,4]}},\"nonselection_glyph\":{\"type\":\"object\",\"name\":\"Line\",\"id\":\"p1692\",\"attributes\":{\"x\":{\"type\":\"field\",\"field\":\"x\"},\"y\":{\"type\":\"field\",\"field\":\"y\"},\"line_color\":\"red\",\"line_alpha\":0.1,\"line_dash\":[2,4]}},\"muted_glyph\":{\"type\":\"object\",\"name\":\"Line\",\"id\":\"p1693\",\"attributes\":{\"x\":{\"type\":\"field\",\"field\":\"x\"},\"y\":{\"type\":\"field\",\"field\":\"y\"},\"line_color\":\"red\",\"line_alpha\":0.2,\"line_dash\":[2,4]}}}},{\"type\":\"object\",\"name\":\"GlyphRenderer\",\"id\":\"p1703\",\"attributes\":{\"data_source\":{\"type\":\"object\",\"name\":\"ColumnDataSource\",\"id\":\"p1697\",\"attributes\":{\"selected\":{\"type\":\"object\",\"name\":\"Selection\",\"id\":\"p1698\",\"attributes\":{\"indices\":[],\"line_indices\":[]}},\"selection_policy\":{\"type\":\"object\",\"name\":\"UnionRenderers\",\"id\":\"p1699\"},\"data\":{\"type\":\"map\",\"entries\":[[\"x\",[0,37]],[\"y\",[-0.2,-0.2]]]}}},\"view\":{\"type\":\"object\",\"name\":\"CDSView\",\"id\":\"p1704\",\"attributes\":{\"filter\":{\"type\":\"object\",\"name\":\"AllIndices\",\"id\":\"p1705\"}}},\"glyph\":{\"type\":\"object\",\"name\":\"Line\",\"id\":\"p1700\",\"attributes\":{\"x\":{\"type\":\"field\",\"field\":\"x\"},\"y\":{\"type\":\"field\",\"field\":\"y\"},\"line_color\":\"red\",\"line_dash\":[2,4]}},\"nonselection_glyph\":{\"type\":\"object\",\"name\":\"Line\",\"id\":\"p1701\",\"attributes\":{\"x\":{\"type\":\"field\",\"field\":\"x\"},\"y\":{\"type\":\"field\",\"field\":\"y\"},\"line_color\":\"red\",\"line_alpha\":0.1,\"line_dash\":[2,4]}},\"muted_glyph\":{\"type\":\"object\",\"name\":\"Line\",\"id\":\"p1702\",\"attributes\":{\"x\":{\"type\":\"field\",\"field\":\"x\"},\"y\":{\"type\":\"field\",\"field\":\"y\"},\"line_color\":\"red\",\"line_alpha\":0.2,\"line_dash\":[2,4]}}}}],\"toolbar\":{\"type\":\"object\",\"name\":\"Toolbar\",\"id\":\"p1635\",\"attributes\":{\"tools\":[{\"type\":\"object\",\"name\":\"PanTool\",\"id\":\"p1648\"},{\"type\":\"object\",\"name\":\"WheelZoomTool\",\"id\":\"p1649\",\"attributes\":{\"renderers\":\"auto\"}},{\"type\":\"object\",\"name\":\"BoxZoomTool\",\"id\":\"p1650\",\"attributes\":{\"dimensions\":\"both\",\"overlay\":{\"type\":\"object\",\"name\":\"BoxAnnotation\",\"id\":\"p1651\",\"attributes\":{\"syncable\":false,\"line_color\":\"black\",\"line_alpha\":1.0,\"line_width\":2,\"line_dash\":[4,4],\"fill_color\":\"lightgrey\",\"fill_alpha\":0.5,\"level\":\"overlay\",\"visible\":false,\"left\":{\"type\":\"number\",\"value\":\"nan\"},\"right\":{\"type\":\"number\",\"value\":\"nan\"},\"top\":{\"type\":\"number\",\"value\":\"nan\"},\"bottom\":{\"type\":\"number\",\"value\":\"nan\"},\"left_units\":\"canvas\",\"right_units\":\"canvas\",\"top_units\":\"canvas\",\"bottom_units\":\"canvas\",\"handles\":{\"type\":\"object\",\"name\":\"BoxInteractionHandles\",\"id\":\"p1657\",\"attributes\":{\"all\":{\"type\":\"object\",\"name\":\"AreaVisuals\",\"id\":\"p1656\",\"attributes\":{\"fill_color\":\"white\",\"hover_fill_color\":\"lightgray\"}}}}}}}},{\"type\":\"object\",\"name\":\"SaveTool\",\"id\":\"p1658\"},{\"type\":\"object\",\"name\":\"ResetTool\",\"id\":\"p1659\"},{\"type\":\"object\",\"name\":\"HelpTool\",\"id\":\"p1660\"},{\"type\":\"object\",\"name\":\"HoverTool\",\"id\":\"p1706\",\"attributes\":{\"renderers\":\"auto\",\"tooltips\":[[\"Lag\",\"@Lag\"],[\"Autocorrelation\",\"@Autocorrelation{0.000}\"]]}}]}},\"left\":[{\"type\":\"object\",\"name\":\"LinearAxis\",\"id\":\"p1643\",\"attributes\":{\"ticker\":{\"type\":\"object\",\"name\":\"BasicTicker\",\"id\":\"p1644\",\"attributes\":{\"mantissas\":[1,2,5]}},\"formatter\":{\"type\":\"object\",\"name\":\"BasicTickFormatter\",\"id\":\"p1645\"},\"axis_label\":\"Autocorrelation\",\"major_label_policy\":{\"type\":\"object\",\"name\":\"AllLabels\",\"id\":\"p1646\"}}}],\"below\":[{\"type\":\"object\",\"name\":\"LinearAxis\",\"id\":\"p1638\",\"attributes\":{\"ticker\":{\"type\":\"object\",\"name\":\"BasicTicker\",\"id\":\"p1639\",\"attributes\":{\"mantissas\":[1,2,5]}},\"formatter\":{\"type\":\"object\",\"name\":\"BasicTickFormatter\",\"id\":\"p1640\"},\"axis_label\":\"Lag\",\"major_label_policy\":{\"type\":\"object\",\"name\":\"AllLabels\",\"id\":\"p1641\"}}}],\"center\":[{\"type\":\"object\",\"name\":\"Grid\",\"id\":\"p1642\",\"attributes\":{\"axis\":{\"id\":\"p1638\"}}},{\"type\":\"object\",\"name\":\"Grid\",\"id\":\"p1647\",\"attributes\":{\"dimension\":1,\"axis\":{\"id\":\"p1643\"}}}]}}]}};\n",
       "  const render_items = [{\"docid\":\"d43c213b-07c0-40f8-bfbf-27f82dd251d5\",\"roots\":{\"p1626\":\"a5e5fc22-b398-4466-9bd6-c70781873721\"},\"root_ids\":[\"p1626\"]}];\n",
       "  void root.Bokeh.embed.embed_items_notebook(docs_json, render_items);\n",
       "  }\n",
       "  if (root.Bokeh !== undefined) {\n",
       "    embed_document(root);\n",
       "  } else {\n",
       "    let attempts = 0;\n",
       "    const timer = setInterval(function(root) {\n",
       "      if (root.Bokeh !== undefined) {\n",
       "        clearInterval(timer);\n",
       "        embed_document(root);\n",
       "      } else {\n",
       "        attempts++;\n",
       "        if (attempts > 100) {\n",
       "          clearInterval(timer);\n",
       "          console.log(\"Bokeh: ERROR: Unable to run BokehJS code because BokehJS library is missing\");\n",
       "        }\n",
       "      }\n",
       "    }, 10, root)\n",
       "  }\n",
       "})(window);"
      ],
      "application/vnd.bokehjs_exec.v0+json": ""
     },
     "metadata": {
      "application/vnd.bokehjs_exec.v0+json": {
       "id": "p1626"
      }
     },
     "output_type": "display_data"
    }
   ],
   "source": [
    "n_lags = 36\n",
    "autocorr_values = [df['#Passengers'].autocorr(lag=i) for i in range(1, n_lags+1)]\n",
    "lags = list(range(1, n_lags+1))\n",
    "\n",
    "autocorr_df = pd.DataFrame({'Lag': lags, 'Autocorrelation': autocorr_values})\n",
    "\n",
    "source = ColumnDataSource(autocorr_df)\n",
    "\n",
    "p = figure(title='Autocorrelation Plot',\n",
    "           x_axis_label='Lag',\n",
    "           y_axis_label='Autocorrelation',\n",
    "           width=800,\n",
    "           height=400)\n",
    "\n",
    "p.line(x='Lag', y='Autocorrelation', source=source, line_width=2)\n",
    "p.circle(x='Lag', y='Autocorrelation', source=source, size=8, color='blue')\n",
    "\n",
    "p.line(x=[0, n_lags+1], y=[0, 0], line_width=1, color='black', line_dash='dashed')\n",
    "p.line(x=[0, n_lags+1], y=[0.2, 0.2], line_width=1, color='red', line_dash='dotted')\n",
    "p.line(x=[0, n_lags+1], y=[-0.2, -0.2], line_width=1, color='red', line_dash='dotted')\n",
    "\n",
    "hover = HoverTool(tooltips=[\n",
    "    ('Lag', '@Lag'),\n",
    "    ('Autocorrelation', '@Autocorrelation{0.000}')\n",
    "])\n",
    "p.add_tools(hover)\n",
    "\n",
    "show(p)"
   ]
  }
 ],
 "metadata": {
  "kernelspec": {
   "display_name": "Python 3 (ipykernel)",
   "language": "python",
   "name": "python3"
  },
  "language_info": {
   "codemirror_mode": {
    "name": "ipython",
    "version": 3
   },
   "file_extension": ".py",
   "mimetype": "text/x-python",
   "name": "python",
   "nbconvert_exporter": "python",
   "pygments_lexer": "ipython3",
   "version": "3.13.3"
  }
 },
 "nbformat": 4,
 "nbformat_minor": 5
}
