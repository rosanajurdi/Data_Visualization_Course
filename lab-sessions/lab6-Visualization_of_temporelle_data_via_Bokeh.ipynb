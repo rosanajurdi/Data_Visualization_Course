{
 "cells": [
  {
   "cell_type": "markdown",
   "id": "4f5b76e2-f55c-411e-8e56-edda5111533b",
   "metadata": {},
   "source": [
    "\n",
    "# Bokeh for Time Series Analysis\n",
    "<hr style=\"border: 2px solid black;\">\n",
    "\n",
    "\n",
    "<img src=\"./images/bokeh.png\" alt=\"bokeh Logo\" width=\"1000\"/>\n",
    "<hr style=\"border: 2px solid black;\">\n",
    "\n",
    "<img src=\"./images/bokeh_at_ag_glance.png\" alt=\"bokeh Logo\" width=\"1000\"/>\n",
    "<hr style=\"border: 2px solid black;\">\n",
    "**Introduction to Bokeh**\n",
    "Bokeh is an interactive visualization library for Python that targets modern web browsers for presentation.\n",
    "Unlike Matplotlib, which is primarily designed for static plots, Bokeh excels at creating\n",
    "interactive plots and dashboards. It can handle large datasets and streaming data,\n",
    "making it suitable for real-time applications.\n",
    "\n",
    "**Key Features of Bokeh:**\n",
    "\n",
    "* **Interactivity:** Built-in support for zooming, panning, hovering, and other interactive tools.\n",
    "* **Web-Focused:** Generates HTML and JavaScript, making it easy to embed plots in web pages.\n",
    "* **High Performance:** Can handle large datasets efficiently.\n",
    "* **Versatility:** Supports a wide range of plot types (lines, bars, scatter plots, etc.).\n",
    "\n",
    "<hr style=\"border: 2px solid black;\">\n",
    "\n",
    "\n",
    "**Documentation:**\n",
    "\n",
    "For comprehensive documentation, please refer to the official Bokeh website: [https://docs.bokeh.org/en/latest/](https://docs.bokeh.org/en/latest/)\n",
    "\n",
    "\n",
    "<hr style=\"border: 2px solid black;\">\n",
    "\n",
    "\n",
    "**Lab Exercise:**\n",
    "\n",
    "Your task is to recreate the time series analysis lab we previously conducted using Pandas,\n",
    "Matplotlib, and Seaborn, but this time, utilize the Bokeh library for visualization.\n",
    "This will involve:\n",
    "\n",
    "1.  Loading and preprocessing the \"AirPassengersDates.csv\" dataset.\n",
    "2.  Creating interactive Bokeh plots for:\n",
    "    * Time series line plots\n",
    "    * Bar plots of aggregated data\n",
    "    * Visualizing mean and standard deviation\n",
    "    * Outlier detection\n",
    "    * Resampling (upsampling and downsampling)\n",
    "    * Lag analysis\n",
    "    * Autocorrelation\n",
    "\n",
    "Pay close attention to Bokeh's features for interactivity (tools, hover effects) and\n",
    "its handling of data sources. Aim to replicate the insights and visualizations\n",
    "from the previous lab while leveraging Bokeh's strengths.\n",
    "\n",
    "Good luck!\n",
    "<hr style=\"border: 2px solid black;\">"
   ]
  },
  {
   "cell_type": "code",
   "execution_count": null,
   "id": "c8a1da92-3cb2-4d93-8c57-4be1713d9542",
   "metadata": {},
   "outputs": [],
   "source": []
  }
 ],
 "metadata": {
  "kernelspec": {
   "display_name": "Python 3 (ipykernel)",
   "language": "python",
   "name": "python3"
  },
  "language_info": {
   "codemirror_mode": {
    "name": "ipython",
    "version": 3
   },
   "file_extension": ".py",
   "mimetype": "text/x-python",
   "name": "python",
   "nbconvert_exporter": "python",
   "pygments_lexer": "ipython3",
   "version": "3.10.11"
  }
 },
 "nbformat": 4,
 "nbformat_minor": 5
}
