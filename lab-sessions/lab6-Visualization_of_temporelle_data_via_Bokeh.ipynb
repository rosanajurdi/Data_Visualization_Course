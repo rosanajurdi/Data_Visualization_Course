{
 "cells": [
  {
   "cell_type": "markdown",
   "id": "4f5b76e2-f55c-411e-8e56-edda5111533b",
   "metadata": {},
   "source": [
    "\n",
    "# Bokeh for Time Series Analysis\n",
    "<hr style=\"border: 2px solid black;\">\n",
    "\n",
    "\n",
    "<img src=\"./images/bokeh.png\" alt=\"bokeh Logo\" width=\"1000\"/>\n",
    "<hr style=\"border: 2px solid black;\">\n",
    "\n",
    "<img src=\"./images/bokeh_at_ag_glance.png\" alt=\"bokeh Logo\" width=\"1000\"/>\n",
    "<hr style=\"border: 2px solid black;\">\n",
    "**Introduction to Bokeh**\n",
    "Bokeh is an interactive visualization library for Python that targets modern web browsers for presentation.\n",
    "Unlike Matplotlib, which is primarily designed for static plots, Bokeh excels at creating\n",
    "interactive plots and dashboards. It can handle large datasets and streaming data,\n",
    "making it suitable for real-time applications.\n",
    "\n",
    "**Key Features of Bokeh:**\n",
    "\n",
    "* **Interactivity:** Built-in support for zooming, panning, hovering, and other interactive tools.\n",
    "* **Web-Focused:** Generates HTML and JavaScript, making it easy to embed plots in web pages.\n",
    "* **High Performance:** Can handle large datasets efficiently.\n",
    "* **Versatility:** Supports a wide range of plot types (lines, bars, scatter plots, etc.).\n",
    "\n",
    "<hr style=\"border: 2px solid black;\">\n",
    "\n",
    "\n",
    "**Documentation:**\n",
    "\n",
    "For comprehensive documentation, please refer to the official Bokeh website: [https://docs.bokeh.org/en/latest/](https://docs.bokeh.org/en/latest/)\n",
    "\n",
    "\n",
    "<hr style=\"border: 2px solid black;\">\n",
    "\n",
    "\n",
    "**Lab Exercise:**\n",
    "\n",
    "Your task is to recreate the time series analysis lab we previously conducted using Pandas,\n",
    "Matplotlib, and Seaborn, but this time, utilize the Bokeh library for visualization.\n",
    "This will involve:\n",
    "\n",
    "1.  Loading and preprocessing the \"AirPassengersDates.csv\" dataset.\n",
    "2.  Creating interactive Bokeh plots for:\n",
    "    * Time series line plots\n",
    "    * Bar plots of aggregated data\n",
    "    * Visualizing mean and standard deviation\n",
    "    * Outlier detection\n",
    "    * Resampling (upsampling and downsampling)\n",
    "    * Lag analysis\n",
    "    * Autocorrelation\n",
    "\n",
    "Pay close attention to Bokeh's features for interactivity (tools, hover effects) and\n",
    "its handling of data sources. Aim to replicate the insights and visualizations\n",
    "from the previous lab while leveraging Bokeh's strengths.\n",
    "\n",
    "Good luck!\n",
    "<hr style=\"border: 2px solid black;\">"
   ]
  },
  {
   "cell_type": "markdown",
   "id": "2d847dd5",
   "metadata": {},
   "source": [
    "## 1.  Loading and preprocessing the \"AirPassengersDates.csv\" dataset."
   ]
  },
  {
   "cell_type": "code",
   "execution_count": null,
   "id": "1c603446-0c14-4217-8767-74adf8ef35c0",
   "metadata": {},
   "outputs": [],
   "source": []
  },
  {
   "cell_type": "markdown",
   "id": "8bcbddb3",
   "metadata": {},
   "source": [
    "## 2.  Creating interactive Bokeh plots for: Time series line plots"
   ]
  },
  {
   "cell_type": "code",
   "execution_count": null,
   "id": "a95d0488-760c-4d43-82ef-0ad3f4cf975b",
   "metadata": {},
   "outputs": [],
   "source": []
  },
  {
   "cell_type": "markdown",
   "id": "24c93676",
   "metadata": {},
   "source": [
    "## 3.  Creating interactive Bokeh plots for: Bar plots of aggregated data"
   ]
  },
  {
   "cell_type": "code",
   "execution_count": null,
   "id": "d96153b5",
   "metadata": {},
   "outputs": [],
   "source": []
  },
  {
   "cell_type": "markdown",
   "id": "2c102d4f",
   "metadata": {},
   "source": [
    "## 4.  Creating interactive Bokeh plots for: Visualizing mean and standard deviation"
   ]
  },
  {
   "cell_type": "code",
   "execution_count": null,
   "id": "6c4b4740",
   "metadata": {},
   "outputs": [],
   "source": []
  },
  {
   "cell_type": "markdown",
   "id": "b5113b7e",
   "metadata": {},
   "source": [
    "## 5.  Creating interactive Bokeh plots for: Outlier detection"
   ]
  },
  {
   "cell_type": "code",
   "execution_count": null,
   "id": "390b2e43",
   "metadata": {},
   "outputs": [],
   "source": []
  },
  {
   "cell_type": "markdown",
   "id": "eb609d3e",
   "metadata": {},
   "source": [
    "## 6.  Creating interactive Bokeh plots for: Resampling (upsampling and downsampling)"
   ]
  },
  {
   "cell_type": "code",
   "execution_count": null,
   "id": "331f23f4",
   "metadata": {},
   "outputs": [],
   "source": []
  },
  {
   "cell_type": "markdown",
   "id": "379c7933",
   "metadata": {},
   "source": [
    "## 7.  Creating interactive Bokeh plots for: Lag analysis"
   ]
  },
  {
   "cell_type": "code",
   "execution_count": null,
   "id": "9ba04f2e",
   "metadata": {},
   "outputs": [],
   "source": []
  },
  {
   "cell_type": "markdown",
   "id": "83ef5115",
   "metadata": {},
   "source": [
    "## 8.  Creating interactive Bokeh plots for: Autocorrelation"
   ]
  },
  {
   "cell_type": "code",
   "execution_count": null,
   "id": "cd8a579b",
   "metadata": {},
   "outputs": [],
   "source": []
  }
 ],
 "metadata": {
  "kernelspec": {
   "display_name": "base",
   "language": "python",
   "name": "python3"
  },
  "language_info": {
   "codemirror_mode": {
    "name": "ipython",
    "version": 3
   },
   "file_extension": ".py",
   "mimetype": "text/x-python",
   "name": "python",
   "nbconvert_exporter": "python",
   "pygments_lexer": "ipython3",
   "version": "3.12.7"
  }
 },
 "nbformat": 4,
 "nbformat_minor": 5
}
