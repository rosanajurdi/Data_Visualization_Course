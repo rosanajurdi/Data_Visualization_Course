{
 "cells": [
  {
   "cell_type": "markdown",
   "id": "4f5b76e2-f55c-411e-8e56-edda5111533b",
   "metadata": {},
   "source": [
    "\n",
    "# Bokeh for Time Series Analysis\n",
    "<hr style=\"border: 2px solid black;\">\n",
    "\n",
    "\n",
    "<img src=\"./images/bokeh.png\" alt=\"bokeh Logo\" width=\"1000\"/>\n",
    "<hr style=\"border: 2px solid black;\">\n",
    "\n",
    "<img src=\"./images/bokeh_at_ag_glance.png\" alt=\"bokeh Logo\" width=\"1000\"/>\n",
    "<hr style=\"border: 2px solid black;\">\n",
    "**Introduction to Bokeh**\n",
    "Bokeh is an interactive visualization library for Python that targets modern web browsers for presentation.\n",
    "Unlike Matplotlib, which is primarily designed for static plots, Bokeh excels at creating\n",
    "interactive plots and dashboards. It can handle large datasets and streaming data,\n",
    "making it suitable for real-time applications.\n",
    "\n",
    "**Key Features of Bokeh:**\n",
    "\n",
    "* **Interactivity:** Built-in support for zooming, panning, hovering, and other interactive tools.\n",
    "* **Web-Focused:** Generates HTML and JavaScript, making it easy to embed plots in web pages.\n",
    "* **High Performance:** Can handle large datasets efficiently.\n",
    "* **Versatility:** Supports a wide range of plot types (lines, bars, scatter plots, etc.).\n",
    "\n",
    "<hr style=\"border: 2px solid black;\">\n",
    "\n",
    "\n",
    "**Documentation:**\n",
    "\n",
    "For comprehensive documentation, please refer to the official Bokeh website: [https://docs.bokeh.org/en/latest/](https://docs.bokeh.org/en/latest/)\n",
    "\n",
    "\n",
    "<hr style=\"border: 2px solid black;\">\n",
    "\n",
    "\n",
    "**Lab Exercise:**\n",
    "\n",
    "Your task is to recreate the time series analysis lab we previously conducted using Pandas,\n",
    "Matplotlib, and Seaborn, but this time, utilize the Bokeh library for visualization.\n",
    "This will involve:\n",
    "\n",
    "1.  Loading and preprocessing the \"AirPassengersDates.csv\" dataset.\n",
    "2.  Creating interactive Bokeh plots for:\n",
    "    * Time series line plots\n",
    "    * Bar plots of aggregated data\n",
    "    * Visualizing mean and standard deviation\n",
    "    * Outlier detection\n",
    "    * Resampling (upsampling and downsampling)\n",
    "    * Lag analysis\n",
    "    * Autocorrelation\n",
    "\n",
    "Pay close attention to Bokeh's features for interactivity (tools, hover effects) and\n",
    "its handling of data sources. Aim to replicate the insights and visualizations\n",
    "from the previous lab while leveraging Bokeh's strengths.\n",
    "\n",
    "Good luck!\n",
    "<hr style=\"border: 2px solid black;\">"
   ]
  },
  {
   "cell_type": "markdown",
   "id": "ad13d70d",
   "metadata": {},
   "source": [
    "# Import libraries"
   ]
  },
  {
   "cell_type": "code",
   "execution_count": 14,
   "id": "a95d0488-760c-4d43-82ef-0ad3f4cf975b",
   "metadata": {},
   "outputs": [
    {
     "name": "stdout",
     "output_type": "stream",
     "text": [
      "Requirement already satisfied: bokeh in c:\\users\\sbria\\miniconda3\\lib\\site-packages (3.7.3)\n",
      "Requirement already satisfied: pandas>=1.2 in c:\\users\\sbria\\miniconda3\\lib\\site-packages (from bokeh) (2.2.3)\n",
      "Requirement already satisfied: packaging>=16.8 in c:\\users\\sbria\\miniconda3\\lib\\site-packages (from bokeh) (23.0)\n",
      "Requirement already satisfied: narwhals>=1.13 in c:\\users\\sbria\\miniconda3\\lib\\site-packages (from bokeh) (1.39.0)\n",
      "Requirement already satisfied: Jinja2>=2.9 in c:\\users\\sbria\\miniconda3\\lib\\site-packages (from bokeh) (3.1.6)\n",
      "Requirement already satisfied: numpy>=1.16 in c:\\users\\sbria\\miniconda3\\lib\\site-packages (from bokeh) (2.2.4)\n",
      "Requirement already satisfied: contourpy>=1.2 in c:\\users\\sbria\\miniconda3\\lib\\site-packages (from bokeh) (1.3.1)\n",
      "Requirement already satisfied: tornado>=6.2 in c:\\users\\sbria\\miniconda3\\lib\\site-packages (from bokeh) (6.4.2)\n",
      "Requirement already satisfied: PyYAML>=3.10 in c:\\users\\sbria\\miniconda3\\lib\\site-packages (from bokeh) (6.0.2)\n",
      "Requirement already satisfied: xyzservices>=2021.09.1 in c:\\users\\sbria\\miniconda3\\lib\\site-packages (from bokeh) (2025.4.0)\n",
      "Requirement already satisfied: pillow>=7.1.0 in c:\\users\\sbria\\miniconda3\\lib\\site-packages (from bokeh) (11.2.1)\n",
      "Requirement already satisfied: MarkupSafe>=2.0 in c:\\users\\sbria\\miniconda3\\lib\\site-packages (from Jinja2>=2.9->bokeh) (3.0.2)\n",
      "Requirement already satisfied: pytz>=2020.1 in c:\\users\\sbria\\miniconda3\\lib\\site-packages (from pandas>=1.2->bokeh) (2025.2)\n",
      "Requirement already satisfied: tzdata>=2022.7 in c:\\users\\sbria\\miniconda3\\lib\\site-packages (from pandas>=1.2->bokeh) (2025.2)\n",
      "Requirement already satisfied: python-dateutil>=2.8.2 in c:\\users\\sbria\\miniconda3\\lib\\site-packages (from pandas>=1.2->bokeh) (2.9.0.post0)\n",
      "Requirement already satisfied: six>=1.5 in c:\\users\\sbria\\miniconda3\\lib\\site-packages (from python-dateutil>=2.8.2->pandas>=1.2->bokeh) (1.16.0)\n",
      "Note: you may need to restart the kernel to use updated packages.\n"
     ]
    }
   ],
   "source": [
    "pip install bokeh"
   ]
  },
  {
   "cell_type": "code",
   "execution_count": 15,
   "id": "1c603446-0c14-4217-8767-74adf8ef35c0",
   "metadata": {},
   "outputs": [
    {
     "data": {
      "text/html": [
       "    <style>\n",
       "        .bk-notebook-logo {\n",
       "            display: block;\n",
       "            width: 20px;\n",
       "            height: 20px;\n",
       "            background-image: url(data:image/png;base64,iVBORw0KGgoAAAANSUhEUgAAABQAAAAUCAYAAACNiR0NAAAABHNCSVQICAgIfAhkiAAAAAlwSFlzAAALEgAACxIB0t1+/AAAABx0RVh0U29mdHdhcmUAQWRvYmUgRmlyZXdvcmtzIENTNui8sowAAAOkSURBVDiNjZRtaJVlGMd/1/08zzln5zjP1LWcU9N0NkN8m2CYjpgQYQXqSs0I84OLIC0hkEKoPtiH3gmKoiJDU7QpLgoLjLIQCpEsNJ1vqUOdO7ppbuec5+V+rj4ctwzd8IIbbi6u+8f1539dt3A78eXC7QizUF7gyV1fD1Yqg4JWz84yffhm0qkFqBogB9rM8tZdtwVsPUhWhGcFJngGeWrPzHm5oaMmkfEg1usvLFyc8jLRqDOMru7AyC8saQr7GG7f5fvDeH7Ej8CM66nIF+8yngt6HWaKh7k49Soy9nXurCi1o3qUbS3zWfrYeQDTB/Qj6kX6Ybhw4B+bOYoLKCC9H3Nu/leUTZ1JdRWkkn2ldcCamzrcf47KKXdAJllSlxAOkRgyHsGC/zRday5Qld9DyoM4/q/rUoy/CXh3jzOu3bHUVZeU+DEn8FInkPBFlu3+nW3Nw0mk6vCDiWg8CeJaxEwuHS3+z5RgY+YBR6V1Z1nxSOfoaPa4LASWxxdNp+VWTk7+4vzaou8v8PN+xo+KY2xsw6une2frhw05CTYOmQvsEhjhWjn0bmXPjpE1+kplmmkP3suftwTubK9Vq22qKmrBhpY4jvd5afdRA3wGjFAgcnTK2s4hY0/GPNIb0nErGMCRxWOOX64Z8RAC4oCXdklmEvcL8o0BfkNK4lUg9HTl+oPlQxdNo3Mg4Nv175e/1LDGzZen30MEjRUtmXSfiTVu1kK8W4txyV6BMKlbgk3lMwYCiusNy9fVfvvwMxv8Ynl6vxoByANLTWplvuj/nF9m2+PDtt1eiHPBr1oIfhCChQMBw6Aw0UulqTKZdfVvfG7VcfIqLG9bcldL/+pdWTLxLUy8Qq38heUIjh4XlzZxzQm19lLFlr8vdQ97rjZVOLf8nclzckbcD4wxXMidpX30sFd37Fv/GtwwhzhxGVAprjbg0gCAEeIgwCZyTV2Z1REEW8O4py0wsjeloKoMr6iCY6dP92H6Vw/oTyICIthibxjm/DfN9lVz8IqtqKYLUXfoKVMVQVVJOElGjrnnUt9T9wbgp8AyYKaGlqingHZU/uG2NTZSVqwHQTWkx9hxjkpWDaCg6Ckj5qebgBVbT3V3NNXMSiWSDdGV3hrtzla7J+duwPOToIg42ChPQOQjspnSlp1V+Gjdged7+8UN5CRAV7a5EdFNwCjEaBR27b3W890TE7g24NAP/mMDXRWrGoFPQI9ls/MWO2dWFAar/xcOIImbbpA3zgAAAABJRU5ErkJggg==);\n",
       "        }\n",
       "    </style>\n",
       "    <div>\n",
       "        <a href=\"https://bokeh.org\" target=\"_blank\" class=\"bk-notebook-logo\"></a>\n",
       "        <span id=\"b2b4a28d-9f5f-40c1-b812-04bb01ad6eb8\">Loading BokehJS ...</span>\n",
       "    </div>\n"
      ]
     },
     "metadata": {},
     "output_type": "display_data"
    },
    {
     "data": {
      "application/javascript": "'use strict';\n(function(root) {\n  function now() {\n    return new Date();\n  }\n\n  const force = true;\n\n  if (typeof root._bokeh_onload_callbacks === \"undefined\" || force === true) {\n    root._bokeh_onload_callbacks = [];\n    root._bokeh_is_loading = undefined;\n  }\n\nconst JS_MIME_TYPE = 'application/javascript';\n  const HTML_MIME_TYPE = 'text/html';\n  const EXEC_MIME_TYPE = 'application/vnd.bokehjs_exec.v0+json';\n  const CLASS_NAME = 'output_bokeh rendered_html';\n\n  /**\n   * Render data to the DOM node\n   */\n  function render(props, node) {\n    const script = document.createElement(\"script\");\n    node.appendChild(script);\n  }\n\n  /**\n   * Handle when an output is cleared or removed\n   */\n  function handleClearOutput(event, handle) {\n    function drop(id) {\n      const view = Bokeh.index.get_by_id(id)\n      if (view != null) {\n        view.model.document.clear()\n        Bokeh.index.delete(view)\n      }\n    }\n\n    const cell = handle.cell;\n\n    const id = cell.output_area._bokeh_element_id;\n    const server_id = cell.output_area._bokeh_server_id;\n\n    // Clean up Bokeh references\n    if (id != null) {\n      drop(id)\n    }\n\n    if (server_id !== undefined) {\n      // Clean up Bokeh references\n      const cmd_clean = \"from bokeh.io.state import curstate; print(curstate().uuid_to_server['\" + server_id + \"'].get_sessions()[0].document.roots[0]._id)\";\n      cell.notebook.kernel.execute(cmd_clean, {\n        iopub: {\n          output: function(msg) {\n            const id = msg.content.text.trim()\n            drop(id)\n          }\n        }\n      });\n      // Destroy server and session\n      const cmd_destroy = \"import bokeh.io.notebook as ion; ion.destroy_server('\" + server_id + \"')\";\n      cell.notebook.kernel.execute(cmd_destroy);\n    }\n  }\n\n  /**\n   * Handle when a new output is added\n   */\n  function handleAddOutput(event, handle) {\n    const output_area = handle.output_area;\n    const output = handle.output;\n\n    // limit handleAddOutput to display_data with EXEC_MIME_TYPE content only\n    if ((output.output_type != \"display_data\") || (!Object.prototype.hasOwnProperty.call(output.data, EXEC_MIME_TYPE))) {\n      return\n    }\n\n    const toinsert = output_area.element.find(\".\" + CLASS_NAME.split(' ')[0]);\n\n    if (output.metadata[EXEC_MIME_TYPE][\"id\"] !== undefined) {\n      toinsert[toinsert.length - 1].firstChild.textContent = output.data[JS_MIME_TYPE];\n      // store reference to embed id on output_area\n      output_area._bokeh_element_id = output.metadata[EXEC_MIME_TYPE][\"id\"];\n    }\n    if (output.metadata[EXEC_MIME_TYPE][\"server_id\"] !== undefined) {\n      const bk_div = document.createElement(\"div\");\n      bk_div.innerHTML = output.data[HTML_MIME_TYPE];\n      const script_attrs = bk_div.children[0].attributes;\n      for (let i = 0; i < script_attrs.length; i++) {\n        toinsert[toinsert.length - 1].firstChild.setAttribute(script_attrs[i].name, script_attrs[i].value);\n        toinsert[toinsert.length - 1].firstChild.textContent = bk_div.children[0].textContent\n      }\n      // store reference to server id on output_area\n      output_area._bokeh_server_id = output.metadata[EXEC_MIME_TYPE][\"server_id\"];\n    }\n  }\n\n  function register_renderer(events, OutputArea) {\n\n    function append_mime(data, metadata, element) {\n      // create a DOM node to render to\n      const toinsert = this.create_output_subarea(\n        metadata,\n        CLASS_NAME,\n        EXEC_MIME_TYPE\n      );\n      this.keyboard_manager.register_events(toinsert);\n      // Render to node\n      const props = {data: data, metadata: metadata[EXEC_MIME_TYPE]};\n      render(props, toinsert[toinsert.length - 1]);\n      element.append(toinsert);\n      return toinsert\n    }\n\n    /* Handle when an output is cleared or removed */\n    events.on('clear_output.CodeCell', handleClearOutput);\n    events.on('delete.Cell', handleClearOutput);\n\n    /* Handle when a new output is added */\n    events.on('output_added.OutputArea', handleAddOutput);\n\n    /**\n     * Register the mime type and append_mime function with output_area\n     */\n    OutputArea.prototype.register_mime_type(EXEC_MIME_TYPE, append_mime, {\n      /* Is output safe? */\n      safe: true,\n      /* Index of renderer in `output_area.display_order` */\n      index: 0\n    });\n  }\n\n  // register the mime type if in Jupyter Notebook environment and previously unregistered\n  if (root.Jupyter !== undefined) {\n    const events = require('base/js/events');\n    const OutputArea = require('notebook/js/outputarea').OutputArea;\n\n    if (OutputArea.prototype.mime_types().indexOf(EXEC_MIME_TYPE) == -1) {\n      register_renderer(events, OutputArea);\n    }\n  }\n  if (typeof (root._bokeh_timeout) === \"undefined\" || force === true) {\n    root._bokeh_timeout = Date.now() + 5000;\n    root._bokeh_failed_load = false;\n  }\n\n  const NB_LOAD_WARNING = {'data': {'text/html':\n     \"<div style='background-color: #fdd'>\\n\"+\n     \"<p>\\n\"+\n     \"BokehJS does not appear to have successfully loaded. If loading BokehJS from CDN, this \\n\"+\n     \"may be due to a slow or bad network connection. Possible fixes:\\n\"+\n     \"</p>\\n\"+\n     \"<ul>\\n\"+\n     \"<li>re-rerun `output_notebook()` to attempt to load from CDN again, or</li>\\n\"+\n     \"<li>use INLINE resources instead, as so:</li>\\n\"+\n     \"</ul>\\n\"+\n     \"<code>\\n\"+\n     \"from bokeh.resources import INLINE\\n\"+\n     \"output_notebook(resources=INLINE)\\n\"+\n     \"</code>\\n\"+\n     \"</div>\"}};\n\n  function display_loaded(error = null) {\n    const el = document.getElementById(\"b2b4a28d-9f5f-40c1-b812-04bb01ad6eb8\");\n    if (el != null) {\n      const html = (() => {\n        if (typeof root.Bokeh === \"undefined\") {\n          if (error == null) {\n            return \"BokehJS is loading ...\";\n          } else {\n            return \"BokehJS failed to load.\";\n          }\n        } else {\n          const prefix = `BokehJS ${root.Bokeh.version}`;\n          if (error == null) {\n            return `${prefix} successfully loaded.`;\n          } else {\n            return `${prefix} <b>encountered errors</b> while loading and may not function as expected.`;\n          }\n        }\n      })();\n      el.innerHTML = html;\n\n      if (error != null) {\n        const wrapper = document.createElement(\"div\");\n        wrapper.style.overflow = \"auto\";\n        wrapper.style.height = \"5em\";\n        wrapper.style.resize = \"vertical\";\n        const content = document.createElement(\"div\");\n        content.style.fontFamily = \"monospace\";\n        content.style.whiteSpace = \"pre-wrap\";\n        content.style.backgroundColor = \"rgb(255, 221, 221)\";\n        content.textContent = error.stack ?? error.toString();\n        wrapper.append(content);\n        el.append(wrapper);\n      }\n    } else if (Date.now() < root._bokeh_timeout) {\n      setTimeout(() => display_loaded(error), 100);\n    }\n  }\n\n  function run_callbacks() {\n    try {\n      root._bokeh_onload_callbacks.forEach(function(callback) {\n        if (callback != null)\n          callback();\n      });\n    } finally {\n      delete root._bokeh_onload_callbacks\n    }\n    console.debug(\"Bokeh: all callbacks have finished\");\n  }\n\n  function load_libs(css_urls, js_urls, callback) {\n    if (css_urls == null) css_urls = [];\n    if (js_urls == null) js_urls = [];\n\n    root._bokeh_onload_callbacks.push(callback);\n    if (root._bokeh_is_loading > 0) {\n      console.debug(\"Bokeh: BokehJS is being loaded, scheduling callback at\", now());\n      return null;\n    }\n    if (js_urls == null || js_urls.length === 0) {\n      run_callbacks();\n      return null;\n    }\n    console.debug(\"Bokeh: BokehJS not loaded, scheduling load and callback at\", now());\n    root._bokeh_is_loading = css_urls.length + js_urls.length;\n\n    function on_load() {\n      root._bokeh_is_loading--;\n      if (root._bokeh_is_loading === 0) {\n        console.debug(\"Bokeh: all BokehJS libraries/stylesheets loaded\");\n        run_callbacks()\n      }\n    }\n\n    function on_error(url) {\n      console.error(\"failed to load \" + url);\n    }\n\n    for (let i = 0; i < css_urls.length; i++) {\n      const url = css_urls[i];\n      const element = document.createElement(\"link\");\n      element.onload = on_load;\n      element.onerror = on_error.bind(null, url);\n      element.rel = \"stylesheet\";\n      element.type = \"text/css\";\n      element.href = url;\n      console.debug(\"Bokeh: injecting link tag for BokehJS stylesheet: \", url);\n      document.body.appendChild(element);\n    }\n\n    for (let i = 0; i < js_urls.length; i++) {\n      const url = js_urls[i];\n      const element = document.createElement('script');\n      element.onload = on_load;\n      element.onerror = on_error.bind(null, url);\n      element.async = false;\n      element.src = url;\n      console.debug(\"Bokeh: injecting script tag for BokehJS library: \", url);\n      document.head.appendChild(element);\n    }\n  };\n\n  function inject_raw_css(css) {\n    const element = document.createElement(\"style\");\n    element.appendChild(document.createTextNode(css));\n    document.body.appendChild(element);\n  }\n\n  const js_urls = [\"https://cdn.bokeh.org/bokeh/release/bokeh-3.7.3.min.js\", \"https://cdn.bokeh.org/bokeh/release/bokeh-gl-3.7.3.min.js\", \"https://cdn.bokeh.org/bokeh/release/bokeh-widgets-3.7.3.min.js\", \"https://cdn.bokeh.org/bokeh/release/bokeh-tables-3.7.3.min.js\", \"https://cdn.bokeh.org/bokeh/release/bokeh-mathjax-3.7.3.min.js\"];\n  const css_urls = [];\n\n  const inline_js = [    function(Bokeh) {\n      Bokeh.set_log_level(\"info\");\n    },\nfunction(Bokeh) {\n    }\n  ];\n\n  function run_inline_js() {\n    if (root.Bokeh !== undefined || force === true) {\n      try {\n            for (let i = 0; i < inline_js.length; i++) {\n      inline_js[i].call(root, root.Bokeh);\n    }\n\n      } catch (error) {display_loaded(error);throw error;\n      }if (force === true) {\n        display_loaded();\n      }} else if (Date.now() < root._bokeh_timeout) {\n      setTimeout(run_inline_js, 100);\n    } else if (!root._bokeh_failed_load) {\n      console.log(\"Bokeh: BokehJS failed to load within specified timeout.\");\n      root._bokeh_failed_load = true;\n    } else if (force !== true) {\n      const cell = $(document.getElementById(\"b2b4a28d-9f5f-40c1-b812-04bb01ad6eb8\")).parents('.cell').data().cell;\n      cell.output_area.append_execute_result(NB_LOAD_WARNING)\n    }\n  }\n\n  if (root._bokeh_is_loading === 0) {\n    console.debug(\"Bokeh: BokehJS loaded, going straight to plotting\");\n    run_inline_js();\n  } else {\n    load_libs(css_urls, js_urls, function() {\n      console.debug(\"Bokeh: BokehJS plotting callback run at\", now());\n      run_inline_js();\n    });\n  }\n}(window));",
      "application/vnd.bokehjs_load.v0+json": ""
     },
     "metadata": {},
     "output_type": "display_data"
    }
   ],
   "source": [
    "import pandas as pd\n",
    "import numpy as np\n",
    "from bokeh.plotting import figure, show, output_notebook\n",
    "from bokeh.models import ColumnDataSource, HoverTool\n",
    "from bokeh.layouts import column\n",
    "output_notebook()\n"
   ]
  },
  {
   "cell_type": "markdown",
   "id": "934e76ec",
   "metadata": {},
   "source": [
    "# Load the dataset"
   ]
  },
  {
   "cell_type": "code",
   "execution_count": 16,
   "id": "3250d70c",
   "metadata": {},
   "outputs": [],
   "source": [
    "df = pd.read_csv(\"./datasets/AirPassengersDates.csv\", parse_dates=['Date'])\n",
    "df.set_index('Date', inplace=True)\n"
   ]
  },
  {
   "cell_type": "markdown",
   "id": "2a6d6e2c",
   "metadata": {},
   "source": [
    "# Time series line plot with hover and zoom"
   ]
  },
  {
   "cell_type": "code",
   "execution_count": 17,
   "id": "e5766080",
   "metadata": {},
   "outputs": [
    {
     "data": {
      "text/html": [
       "\n",
       "  <div id=\"b57f1f91-8176-45fc-b578-5768aefac922\" data-root-id=\"p1412\" style=\"display: contents;\"></div>\n"
      ]
     },
     "metadata": {},
     "output_type": "display_data"
    },
    {
     "data": {
      "application/javascript": "(function(root) {\n  function embed_document(root) {\n  const docs_json = {\"ca3d911a-0071-407f-af57-ad4f31cf9a3e\":{\"version\":\"3.7.3\",\"title\":\"Bokeh Application\",\"roots\":[{\"type\":\"object\",\"name\":\"Figure\",\"id\":\"p1412\",\"attributes\":{\"width\":800,\"height\":400,\"x_range\":{\"type\":\"object\",\"name\":\"DataRange1d\",\"id\":\"p1413\"},\"y_range\":{\"type\":\"object\",\"name\":\"DataRange1d\",\"id\":\"p1414\"},\"x_scale\":{\"type\":\"object\",\"name\":\"LinearScale\",\"id\":\"p1422\"},\"y_scale\":{\"type\":\"object\",\"name\":\"LinearScale\",\"id\":\"p1423\"},\"title\":{\"type\":\"object\",\"name\":\"Title\",\"id\":\"p1415\",\"attributes\":{\"text\":\"Passagers avec HoverTool\"}},\"renderers\":[{\"type\":\"object\",\"name\":\"GlyphRenderer\",\"id\":\"p1466\",\"attributes\":{\"data_source\":{\"type\":\"object\",\"name\":\"ColumnDataSource\",\"id\":\"p1409\",\"attributes\":{\"selected\":{\"type\":\"object\",\"name\":\"Selection\",\"id\":\"p1410\",\"attributes\":{\"indices\":[],\"line_indices\":[]}},\"selection_policy\":{\"type\":\"object\",\"name\":\"UnionRenderers\",\"id\":\"p1411\"},\"data\":{\"type\":\"map\",\"entries\":[[\"x\",{\"type\":\"ndarray\",\"array\":{\"type\":\"bytes\",\"data\":\"AACATlRCY8IAAAAgpiZjwgAAAHXpFWPCAAAAVOYMY8IAAIBgW+1iwgAAAOr522LCAACAZgjRYsIAAIDVa7NiwgAAABdXrGLCAACA6KiQYsIAAIB4D3xiwgAAgDYJamLCAACAxm9VYsIAAIBW1kBiwgAAgH2GLWLCAAAAT9gRYsIAAIDL5gZiwgAAgJZw7mHCAACA+EPXYcIAAAD/C9RhwgAAAGHfvGHCAACABJ6eYcIAAIDwKo9hwgAAgEVufmHCAACASxtiYcIAAABS415hwgAAAEsASWHCAAAAjNAoYcIAAABePSZhwgAAAKyd/2DCAAAAuS35YMIAAAA8BOtgwgAAAHBE0WDCAACAJ3bCYMIAAIDR/KBgwgAAgOsclGDCAACA16mEYMIAAAAFIm5gwgAAgI7AXGDCAACATLpKYMIAAABMnzFgwgAAgOLNGWDCAACAZaQLYMIAAADXot5fwgAAAIEpvV/CAAAA3BmQX8IAAABLfXJfwgAAAA8kRF/CAAAAfocmX8IAAAC/VwZfwgAAAL4h1F7CAAAAIPW8XsIAAAD+u4FewgAAAPfYa17CAAAAAzMzXsIAAABeIwZewgAAAGTQ6V3CAAAAuRPZXcIAAAC43aZdwgAAAGJkhV3CAAAAnFFPXcIAAAC8HiZdwgAAAM9bA13CAAAAbFLoXMIAAABrHLZcwgAAAF1WilzCAAAAspl5XMIAAABizTtcwgAAACDHKVzCAAAALCHxW8IAAAA/Xs5bwgAAAPZ0plvCAAAA9T50W8IAAAAinERbwgAAAMZ1P1vCAAAAAGMJW8IAAACWdthawgAAAED9tlrCAAAARqqaWsIAAAChmm1awgAAAEQ+NlrCAAAAphEfWsIAAABQmP1ZwgAAAELS0VnCAAAAiU+VWcIAAAD/lY1ZwgAAAOQ/aFnCAAAAEZ04WcIAAACnsAdZwgAAAHjn0ljCAAAAXZGtWMIAAADM9I9YwgAAAAbiWVjCAAAATpVPWMIAAACVEhNYwgAAAPAC5lfCAAAAyBzHV8IAAACtxqFXwgAAAGvAj1fCAAAAi41mV8IAAAC46jZXwgAAADTeElfCAAAAOov2VsIAAACOmLNWwgAAAOPbolbCAAAAN+lfVsIAAACmTEJWwgAAAHeDDVbCAAAA2Vb2VcIAAACxcNdVwgAAAP/QsFXCAAAAnMeVVcIAAAB6jlpVwgAAAI3LN1XCAAAAcnUSVcIAAAA2HORUwgAAAHAJrlTCAAAAaSaYVMIAAAAtzWlUwgAAAIi9PFTCAAAAm/oZVMIAAAD26uxTwgAAABAL4FPCAAAA9bS6U8IAAACLyIlTwgAAAFz/VFPCAAAAt+8nU8IAAADyEiRTwgAAALa59VLCAAAAwhO9UsIAAACTSohSwgAAAAKualLCAAAAfqFGUsIAAABJKy5SwgAAAJCo8VHCAAAAxOjXUcIAAAD+1aFRwgAAAHQcmlHCAAAAwnxzUcIAAAA3jTlRwgAAABw3FFHCAAAA4N3lUMIAAAANO7ZQwgAAAFXuq1DC\"},\"shape\":[144],\"dtype\":\"float64\",\"order\":\"little\"}],[\"y\",{\"type\":\"ndarray\",\"array\":{\"type\":\"bytes\",\"data\":\"cAAAAHYAAACEAAAAgQAAAHkAAACHAAAAlAAAAJQAAACIAAAAdwAAAGgAAAB2AAAAcwAAAH4AAACNAAAAhwAAAH0AAACVAAAAqgAAAKoAAACeAAAAhQAAAHIAAACMAAAAkQAAAJYAAACyAAAAowAAAKwAAACyAAAAxwAAAMcAAAC4AAAAogAAAJIAAACmAAAAqwAAALQAAADBAAAAtQAAALcAAADaAAAA5gAAAPIAAADRAAAAvwAAAKwAAADCAAAAxAAAAMQAAADsAAAA6wAAAOUAAADzAAAACAEAABABAADtAAAA0wAAALQAAADJAAAAzAAAALwAAADrAAAA4wAAAOoAAAAIAQAALgEAACUBAAADAQAA5QAAAMsAAADlAAAA8gAAAOkAAAALAQAADQEAAA4BAAA7AQAAbAEAAFsBAAA4AQAAEgEAAO0AAAAWAQAAHAEAABUBAAA9AQAAOQEAAD4BAAB2AQAAnQEAAJUBAABjAQAAMgEAAA8BAAAyAQAAOwEAAC0BAABkAQAAXAEAAGMBAACmAQAA0QEAANMBAACUAQAAWwEAADEBAABQAQAAVAEAAD4BAABqAQAAXAEAAGsBAACzAQAA6wEAAPkBAACUAQAAZwEAADYBAABRAQAAaAEAAFYBAACWAQAAjAEAAKQBAADYAQAAJAIAAC8CAADPAQAAlwEAAGoBAACVAQAAoQEAAIcBAACjAQAAzQEAANgBAAAXAgAAbgIAAF4CAAD8AQAAzQEAAIYBAACwAQAA\"},\"shape\":[144],\"dtype\":\"int32\",\"order\":\"little\"}]]}}},\"view\":{\"type\":\"object\",\"name\":\"CDSView\",\"id\":\"p1467\",\"attributes\":{\"filter\":{\"type\":\"object\",\"name\":\"AllIndices\",\"id\":\"p1468\"}}},\"glyph\":{\"type\":\"object\",\"name\":\"Line\",\"id\":\"p1463\",\"attributes\":{\"x\":{\"type\":\"field\",\"field\":\"x\"},\"y\":{\"type\":\"field\",\"field\":\"y\"},\"line_color\":\"#1f77b4\",\"line_width\":2}},\"nonselection_glyph\":{\"type\":\"object\",\"name\":\"Line\",\"id\":\"p1464\",\"attributes\":{\"x\":{\"type\":\"field\",\"field\":\"x\"},\"y\":{\"type\":\"field\",\"field\":\"y\"},\"line_color\":\"#1f77b4\",\"line_alpha\":0.1,\"line_width\":2}},\"muted_glyph\":{\"type\":\"object\",\"name\":\"Line\",\"id\":\"p1465\",\"attributes\":{\"x\":{\"type\":\"field\",\"field\":\"x\"},\"y\":{\"type\":\"field\",\"field\":\"y\"},\"line_color\":\"#1f77b4\",\"line_alpha\":0.2,\"line_width\":2}}}}],\"toolbar\":{\"type\":\"object\",\"name\":\"Toolbar\",\"id\":\"p1421\",\"attributes\":{\"tools\":[{\"type\":\"object\",\"name\":\"PanTool\",\"id\":\"p1448\"},{\"type\":\"object\",\"name\":\"WheelZoomTool\",\"id\":\"p1449\",\"attributes\":{\"renderers\":\"auto\"}},{\"type\":\"object\",\"name\":\"BoxZoomTool\",\"id\":\"p1450\",\"attributes\":{\"dimensions\":\"both\",\"overlay\":{\"type\":\"object\",\"name\":\"BoxAnnotation\",\"id\":\"p1451\",\"attributes\":{\"syncable\":false,\"line_color\":\"black\",\"line_alpha\":1.0,\"line_width\":2,\"line_dash\":[4,4],\"fill_color\":\"lightgrey\",\"fill_alpha\":0.5,\"level\":\"overlay\",\"visible\":false,\"left\":{\"type\":\"number\",\"value\":\"nan\"},\"right\":{\"type\":\"number\",\"value\":\"nan\"},\"top\":{\"type\":\"number\",\"value\":\"nan\"},\"bottom\":{\"type\":\"number\",\"value\":\"nan\"},\"left_units\":\"canvas\",\"right_units\":\"canvas\",\"top_units\":\"canvas\",\"bottom_units\":\"canvas\",\"handles\":{\"type\":\"object\",\"name\":\"BoxInteractionHandles\",\"id\":\"p1457\",\"attributes\":{\"all\":{\"type\":\"object\",\"name\":\"AreaVisuals\",\"id\":\"p1456\",\"attributes\":{\"fill_color\":\"white\",\"hover_fill_color\":\"lightgray\"}}}}}}}},{\"type\":\"object\",\"name\":\"ResetTool\",\"id\":\"p1458\"},{\"type\":\"object\",\"name\":\"SaveTool\",\"id\":\"p1459\"},{\"type\":\"object\",\"name\":\"HoverTool\",\"id\":\"p1469\",\"attributes\":{\"renderers\":\"auto\",\"tooltips\":[[\"Date\",\"@x{%F}\"],[\"Passagers\",\"@y\"]],\"formatters\":{\"type\":\"map\",\"entries\":[[\"@x\",\"datetime\"]]},\"mode\":\"vline\"}}]}},\"left\":[{\"type\":\"object\",\"name\":\"LinearAxis\",\"id\":\"p1443\",\"attributes\":{\"ticker\":{\"type\":\"object\",\"name\":\"BasicTicker\",\"id\":\"p1444\",\"attributes\":{\"mantissas\":[1,2,5]}},\"formatter\":{\"type\":\"object\",\"name\":\"BasicTickFormatter\",\"id\":\"p1445\"},\"major_label_policy\":{\"type\":\"object\",\"name\":\"AllLabels\",\"id\":\"p1446\"}}}],\"below\":[{\"type\":\"object\",\"name\":\"DatetimeAxis\",\"id\":\"p1424\",\"attributes\":{\"ticker\":{\"type\":\"object\",\"name\":\"DatetimeTicker\",\"id\":\"p1425\",\"attributes\":{\"num_minor_ticks\":5,\"tickers\":[{\"type\":\"object\",\"name\":\"AdaptiveTicker\",\"id\":\"p1426\",\"attributes\":{\"num_minor_ticks\":0,\"mantissas\":[1,2,5],\"max_interval\":500.0}},{\"type\":\"object\",\"name\":\"AdaptiveTicker\",\"id\":\"p1427\",\"attributes\":{\"num_minor_ticks\":0,\"base\":60,\"mantissas\":[1,2,5,10,15,20,30],\"min_interval\":1000.0,\"max_interval\":1800000.0}},{\"type\":\"object\",\"name\":\"AdaptiveTicker\",\"id\":\"p1428\",\"attributes\":{\"num_minor_ticks\":0,\"base\":24,\"mantissas\":[1,2,4,6,8,12],\"min_interval\":3600000.0,\"max_interval\":43200000.0}},{\"type\":\"object\",\"name\":\"DaysTicker\",\"id\":\"p1429\",\"attributes\":{\"days\":[1,2,3,4,5,6,7,8,9,10,11,12,13,14,15,16,17,18,19,20,21,22,23,24,25,26,27,28,29,30,31]}},{\"type\":\"object\",\"name\":\"DaysTicker\",\"id\":\"p1430\",\"attributes\":{\"days\":[1,4,7,10,13,16,19,22,25,28]}},{\"type\":\"object\",\"name\":\"DaysTicker\",\"id\":\"p1431\",\"attributes\":{\"days\":[1,8,15,22]}},{\"type\":\"object\",\"name\":\"DaysTicker\",\"id\":\"p1432\",\"attributes\":{\"days\":[1,15]}},{\"type\":\"object\",\"name\":\"MonthsTicker\",\"id\":\"p1433\",\"attributes\":{\"months\":[0,1,2,3,4,5,6,7,8,9,10,11]}},{\"type\":\"object\",\"name\":\"MonthsTicker\",\"id\":\"p1434\",\"attributes\":{\"months\":[0,2,4,6,8,10]}},{\"type\":\"object\",\"name\":\"MonthsTicker\",\"id\":\"p1435\",\"attributes\":{\"months\":[0,4,8]}},{\"type\":\"object\",\"name\":\"MonthsTicker\",\"id\":\"p1436\",\"attributes\":{\"months\":[0,6]}},{\"type\":\"object\",\"name\":\"YearsTicker\",\"id\":\"p1437\"}]}},\"formatter\":{\"type\":\"object\",\"name\":\"DatetimeTickFormatter\",\"id\":\"p1440\",\"attributes\":{\"seconds\":\"%T\",\"minsec\":\"%T\",\"minutes\":\"%H:%M\",\"hours\":\"%H:%M\",\"days\":\"%b %d\",\"months\":\"%b %Y\",\"strip_leading_zeros\":[\"microseconds\",\"milliseconds\",\"seconds\"],\"boundary_scaling\":false,\"context\":{\"type\":\"object\",\"name\":\"DatetimeTickFormatter\",\"id\":\"p1439\",\"attributes\":{\"microseconds\":\"%T\",\"milliseconds\":\"%T\",\"seconds\":\"%b %d, %Y\",\"minsec\":\"%b %d, %Y\",\"minutes\":\"%b %d, %Y\",\"hourmin\":\"%b %d, %Y\",\"hours\":\"%b %d, %Y\",\"days\":\"%Y\",\"months\":\"\",\"years\":\"\",\"boundary_scaling\":false,\"hide_repeats\":true,\"context\":{\"type\":\"object\",\"name\":\"DatetimeTickFormatter\",\"id\":\"p1438\",\"attributes\":{\"microseconds\":\"%b %d, %Y\",\"milliseconds\":\"%b %d, %Y\",\"seconds\":\"\",\"minsec\":\"\",\"minutes\":\"\",\"hourmin\":\"\",\"hours\":\"\",\"days\":\"\",\"months\":\"\",\"years\":\"\",\"boundary_scaling\":false,\"hide_repeats\":true}},\"context_which\":\"all\"}},\"context_which\":\"all\"}},\"major_label_policy\":{\"type\":\"object\",\"name\":\"AllLabels\",\"id\":\"p1441\"}}}],\"center\":[{\"type\":\"object\",\"name\":\"Grid\",\"id\":\"p1442\",\"attributes\":{\"axis\":{\"id\":\"p1424\"}}},{\"type\":\"object\",\"name\":\"Grid\",\"id\":\"p1447\",\"attributes\":{\"dimension\":1,\"axis\":{\"id\":\"p1443\"}}}]}}]}};\n  const render_items = [{\"docid\":\"ca3d911a-0071-407f-af57-ad4f31cf9a3e\",\"roots\":{\"p1412\":\"b57f1f91-8176-45fc-b578-5768aefac922\"},\"root_ids\":[\"p1412\"]}];\n  void root.Bokeh.embed.embed_items_notebook(docs_json, render_items);\n  }\n  if (root.Bokeh !== undefined) {\n    embed_document(root);\n  } else {\n    let attempts = 0;\n    const timer = setInterval(function(root) {\n      if (root.Bokeh !== undefined) {\n        clearInterval(timer);\n        embed_document(root);\n      } else {\n        attempts++;\n        if (attempts > 100) {\n          clearInterval(timer);\n          console.log(\"Bokeh: ERROR: Unable to run BokehJS code because BokehJS library is missing\");\n        }\n      }\n    }, 10, root)\n  }\n})(window);",
      "application/vnd.bokehjs_exec.v0+json": ""
     },
     "metadata": {
      "application/vnd.bokehjs_exec.v0+json": {
       "id": "p1412"
      }
     },
     "output_type": "display_data"
    }
   ],
   "source": [
    "source = ColumnDataSource(data={\n",
    "    'x': df.index,\n",
    "    'y': df['#Passengers']\n",
    "})\n",
    "\n",
    "p = figure(title=\"Passagers avec HoverTool\", x_axis_type='datetime', width=800, height=400, tools=\"pan,wheel_zoom,box_zoom,reset,save\")\n",
    "p.line('x', 'y', source=source, line_width=2)\n",
    "hover = HoverTool(tooltips=[(\"Date\", \"@x{%F}\"), (\"Passagers\", \"@y\")],\n",
    "                  formatters={'@x': 'datetime'}, mode='vline')\n",
    "p.add_tools(hover)\n",
    "show(p)\n"
   ]
  },
  {
   "cell_type": "markdown",
   "id": "124e6052",
   "metadata": {},
   "source": [
    "# Bar chart with aggregated data"
   ]
  },
  {
   "cell_type": "code",
   "execution_count": 18,
   "id": "b30379f3",
   "metadata": {},
   "outputs": [
    {
     "name": "stderr",
     "output_type": "stream",
     "text": [
      "C:\\Users\\sbria\\AppData\\Local\\Temp\\ipykernel_24716\\1827108100.py:1: FutureWarning: 'Y' is deprecated and will be removed in a future version, please use 'YE' instead.\n",
      "  df_yearly = df['#Passengers'].resample('Y').mean()\n"
     ]
    },
    {
     "data": {
      "text/html": [
       "\n",
       "  <div id=\"e027985b-13ad-47b7-9786-c65f99232007\" data-root-id=\"p1472\" style=\"display: contents;\"></div>\n"
      ]
     },
     "metadata": {},
     "output_type": "display_data"
    },
    {
     "data": {
      "application/javascript": "(function(root) {\n  function embed_document(root) {\n  const docs_json = {\"26e4f3fd-5a35-4330-b89b-6bb06c30cb89\":{\"version\":\"3.7.3\",\"title\":\"Bokeh Application\",\"roots\":[{\"type\":\"object\",\"name\":\"Figure\",\"id\":\"p1472\",\"attributes\":{\"width\":800,\"height\":400,\"x_range\":{\"type\":\"object\",\"name\":\"DataRange1d\",\"id\":\"p1473\"},\"y_range\":{\"type\":\"object\",\"name\":\"DataRange1d\",\"id\":\"p1474\"},\"x_scale\":{\"type\":\"object\",\"name\":\"LinearScale\",\"id\":\"p1482\"},\"y_scale\":{\"type\":\"object\",\"name\":\"LinearScale\",\"id\":\"p1483\"},\"title\":{\"type\":\"object\",\"name\":\"Title\",\"id\":\"p1475\",\"attributes\":{\"text\":\"Moyenne annuelle des passagers\"}},\"renderers\":[{\"type\":\"object\",\"name\":\"GlyphRenderer\",\"id\":\"p1527\",\"attributes\":{\"data_source\":{\"type\":\"object\",\"name\":\"ColumnDataSource\",\"id\":\"p1521\",\"attributes\":{\"selected\":{\"type\":\"object\",\"name\":\"Selection\",\"id\":\"p1522\",\"attributes\":{\"indices\":[],\"line_indices\":[]}},\"selection_policy\":{\"type\":\"object\",\"name\":\"UnionRenderers\",\"id\":\"p1523\"},\"data\":{\"type\":\"map\",\"entries\":[[\"x\",{\"type\":\"ndarray\",\"array\":{\"type\":\"bytes\",\"data\":\"AAAAsxdfYsIAAICNIXRhwgAAAGgriWDCAAAA7iA7X8IAAACjNGVdwgAAAFhIj1vCAAAADVy5WcIAAAArJuJXwgAAAOA5DFbCAAAAlU02VMIAAABKYWBSwgAAAGgriVDC\"},\"shape\":[12],\"dtype\":\"float64\",\"order\":\"little\"}],[\"top\",{\"type\":\"ndarray\",\"array\":{\"type\":\"bytes\",\"data\":\"q6qqqqqqX0BVVVVVVXVhQFVVVVVVRWVAAAAAAACgaEAAAAAAACBsQFVVVVVV3W1AAAAAAADAcUAAAAAAAIR0QKuqqqqqBndAAAAAAADQd0BVVVVVVcV6QKuqqqqqwn1A\"},\"shape\":[12],\"dtype\":\"float64\",\"order\":\"little\"}]]}}},\"view\":{\"type\":\"object\",\"name\":\"CDSView\",\"id\":\"p1528\",\"attributes\":{\"filter\":{\"type\":\"object\",\"name\":\"AllIndices\",\"id\":\"p1529\"}}},\"glyph\":{\"type\":\"object\",\"name\":\"VBar\",\"id\":\"p1524\",\"attributes\":{\"x\":{\"type\":\"field\",\"field\":\"x\"},\"width\":{\"type\":\"value\",\"value\":8640000000},\"top\":{\"type\":\"field\",\"field\":\"top\"},\"line_color\":{\"type\":\"value\",\"value\":\"#1f77b4\"},\"fill_color\":{\"type\":\"value\",\"value\":\"#1f77b4\"}}},\"nonselection_glyph\":{\"type\":\"object\",\"name\":\"VBar\",\"id\":\"p1525\",\"attributes\":{\"x\":{\"type\":\"field\",\"field\":\"x\"},\"width\":{\"type\":\"value\",\"value\":8640000000},\"top\":{\"type\":\"field\",\"field\":\"top\"},\"line_color\":{\"type\":\"value\",\"value\":\"#1f77b4\"},\"line_alpha\":{\"type\":\"value\",\"value\":0.1},\"fill_color\":{\"type\":\"value\",\"value\":\"#1f77b4\"},\"fill_alpha\":{\"type\":\"value\",\"value\":0.1},\"hatch_alpha\":{\"type\":\"value\",\"value\":0.1}}},\"muted_glyph\":{\"type\":\"object\",\"name\":\"VBar\",\"id\":\"p1526\",\"attributes\":{\"x\":{\"type\":\"field\",\"field\":\"x\"},\"width\":{\"type\":\"value\",\"value\":8640000000},\"top\":{\"type\":\"field\",\"field\":\"top\"},\"line_color\":{\"type\":\"value\",\"value\":\"#1f77b4\"},\"line_alpha\":{\"type\":\"value\",\"value\":0.2},\"fill_color\":{\"type\":\"value\",\"value\":\"#1f77b4\"},\"fill_alpha\":{\"type\":\"value\",\"value\":0.2},\"hatch_alpha\":{\"type\":\"value\",\"value\":0.2}}}}}],\"toolbar\":{\"type\":\"object\",\"name\":\"Toolbar\",\"id\":\"p1481\",\"attributes\":{\"tools\":[{\"type\":\"object\",\"name\":\"PanTool\",\"id\":\"p1508\"},{\"type\":\"object\",\"name\":\"WheelZoomTool\",\"id\":\"p1509\",\"attributes\":{\"renderers\":\"auto\"}},{\"type\":\"object\",\"name\":\"BoxZoomTool\",\"id\":\"p1510\",\"attributes\":{\"dimensions\":\"both\",\"overlay\":{\"type\":\"object\",\"name\":\"BoxAnnotation\",\"id\":\"p1511\",\"attributes\":{\"syncable\":false,\"line_color\":\"black\",\"line_alpha\":1.0,\"line_width\":2,\"line_dash\":[4,4],\"fill_color\":\"lightgrey\",\"fill_alpha\":0.5,\"level\":\"overlay\",\"visible\":false,\"left\":{\"type\":\"number\",\"value\":\"nan\"},\"right\":{\"type\":\"number\",\"value\":\"nan\"},\"top\":{\"type\":\"number\",\"value\":\"nan\"},\"bottom\":{\"type\":\"number\",\"value\":\"nan\"},\"left_units\":\"canvas\",\"right_units\":\"canvas\",\"top_units\":\"canvas\",\"bottom_units\":\"canvas\",\"handles\":{\"type\":\"object\",\"name\":\"BoxInteractionHandles\",\"id\":\"p1517\",\"attributes\":{\"all\":{\"type\":\"object\",\"name\":\"AreaVisuals\",\"id\":\"p1516\",\"attributes\":{\"fill_color\":\"white\",\"hover_fill_color\":\"lightgray\"}}}}}}}},{\"type\":\"object\",\"name\":\"SaveTool\",\"id\":\"p1518\"},{\"type\":\"object\",\"name\":\"ResetTool\",\"id\":\"p1519\"},{\"type\":\"object\",\"name\":\"HelpTool\",\"id\":\"p1520\"}]}},\"left\":[{\"type\":\"object\",\"name\":\"LinearAxis\",\"id\":\"p1503\",\"attributes\":{\"ticker\":{\"type\":\"object\",\"name\":\"BasicTicker\",\"id\":\"p1504\",\"attributes\":{\"mantissas\":[1,2,5]}},\"formatter\":{\"type\":\"object\",\"name\":\"BasicTickFormatter\",\"id\":\"p1505\"},\"major_label_policy\":{\"type\":\"object\",\"name\":\"AllLabels\",\"id\":\"p1506\"}}}],\"below\":[{\"type\":\"object\",\"name\":\"DatetimeAxis\",\"id\":\"p1484\",\"attributes\":{\"ticker\":{\"type\":\"object\",\"name\":\"DatetimeTicker\",\"id\":\"p1485\",\"attributes\":{\"num_minor_ticks\":5,\"tickers\":[{\"type\":\"object\",\"name\":\"AdaptiveTicker\",\"id\":\"p1486\",\"attributes\":{\"num_minor_ticks\":0,\"mantissas\":[1,2,5],\"max_interval\":500.0}},{\"type\":\"object\",\"name\":\"AdaptiveTicker\",\"id\":\"p1487\",\"attributes\":{\"num_minor_ticks\":0,\"base\":60,\"mantissas\":[1,2,5,10,15,20,30],\"min_interval\":1000.0,\"max_interval\":1800000.0}},{\"type\":\"object\",\"name\":\"AdaptiveTicker\",\"id\":\"p1488\",\"attributes\":{\"num_minor_ticks\":0,\"base\":24,\"mantissas\":[1,2,4,6,8,12],\"min_interval\":3600000.0,\"max_interval\":43200000.0}},{\"type\":\"object\",\"name\":\"DaysTicker\",\"id\":\"p1489\",\"attributes\":{\"days\":[1,2,3,4,5,6,7,8,9,10,11,12,13,14,15,16,17,18,19,20,21,22,23,24,25,26,27,28,29,30,31]}},{\"type\":\"object\",\"name\":\"DaysTicker\",\"id\":\"p1490\",\"attributes\":{\"days\":[1,4,7,10,13,16,19,22,25,28]}},{\"type\":\"object\",\"name\":\"DaysTicker\",\"id\":\"p1491\",\"attributes\":{\"days\":[1,8,15,22]}},{\"type\":\"object\",\"name\":\"DaysTicker\",\"id\":\"p1492\",\"attributes\":{\"days\":[1,15]}},{\"type\":\"object\",\"name\":\"MonthsTicker\",\"id\":\"p1493\",\"attributes\":{\"months\":[0,1,2,3,4,5,6,7,8,9,10,11]}},{\"type\":\"object\",\"name\":\"MonthsTicker\",\"id\":\"p1494\",\"attributes\":{\"months\":[0,2,4,6,8,10]}},{\"type\":\"object\",\"name\":\"MonthsTicker\",\"id\":\"p1495\",\"attributes\":{\"months\":[0,4,8]}},{\"type\":\"object\",\"name\":\"MonthsTicker\",\"id\":\"p1496\",\"attributes\":{\"months\":[0,6]}},{\"type\":\"object\",\"name\":\"YearsTicker\",\"id\":\"p1497\"}]}},\"formatter\":{\"type\":\"object\",\"name\":\"DatetimeTickFormatter\",\"id\":\"p1500\",\"attributes\":{\"seconds\":\"%T\",\"minsec\":\"%T\",\"minutes\":\"%H:%M\",\"hours\":\"%H:%M\",\"days\":\"%b %d\",\"months\":\"%b %Y\",\"strip_leading_zeros\":[\"microseconds\",\"milliseconds\",\"seconds\"],\"boundary_scaling\":false,\"context\":{\"type\":\"object\",\"name\":\"DatetimeTickFormatter\",\"id\":\"p1499\",\"attributes\":{\"microseconds\":\"%T\",\"milliseconds\":\"%T\",\"seconds\":\"%b %d, %Y\",\"minsec\":\"%b %d, %Y\",\"minutes\":\"%b %d, %Y\",\"hourmin\":\"%b %d, %Y\",\"hours\":\"%b %d, %Y\",\"days\":\"%Y\",\"months\":\"\",\"years\":\"\",\"boundary_scaling\":false,\"hide_repeats\":true,\"context\":{\"type\":\"object\",\"name\":\"DatetimeTickFormatter\",\"id\":\"p1498\",\"attributes\":{\"microseconds\":\"%b %d, %Y\",\"milliseconds\":\"%b %d, %Y\",\"seconds\":\"\",\"minsec\":\"\",\"minutes\":\"\",\"hourmin\":\"\",\"hours\":\"\",\"days\":\"\",\"months\":\"\",\"years\":\"\",\"boundary_scaling\":false,\"hide_repeats\":true}},\"context_which\":\"all\"}},\"context_which\":\"all\"}},\"major_label_policy\":{\"type\":\"object\",\"name\":\"AllLabels\",\"id\":\"p1501\"}}}],\"center\":[{\"type\":\"object\",\"name\":\"Grid\",\"id\":\"p1502\",\"attributes\":{\"axis\":{\"id\":\"p1484\"}}},{\"type\":\"object\",\"name\":\"Grid\",\"id\":\"p1507\",\"attributes\":{\"dimension\":1,\"axis\":{\"id\":\"p1503\"}}}]}}]}};\n  const render_items = [{\"docid\":\"26e4f3fd-5a35-4330-b89b-6bb06c30cb89\",\"roots\":{\"p1472\":\"e027985b-13ad-47b7-9786-c65f99232007\"},\"root_ids\":[\"p1472\"]}];\n  void root.Bokeh.embed.embed_items_notebook(docs_json, render_items);\n  }\n  if (root.Bokeh !== undefined) {\n    embed_document(root);\n  } else {\n    let attempts = 0;\n    const timer = setInterval(function(root) {\n      if (root.Bokeh !== undefined) {\n        clearInterval(timer);\n        embed_document(root);\n      } else {\n        attempts++;\n        if (attempts > 100) {\n          clearInterval(timer);\n          console.log(\"Bokeh: ERROR: Unable to run BokehJS code because BokehJS library is missing\");\n        }\n      }\n    }, 10, root)\n  }\n})(window);",
      "application/vnd.bokehjs_exec.v0+json": ""
     },
     "metadata": {
      "application/vnd.bokehjs_exec.v0+json": {
       "id": "p1472"
      }
     },
     "output_type": "display_data"
    }
   ],
   "source": [
    "df_yearly = df['#Passengers'].resample('Y').mean()\n",
    "\n",
    "p = figure(x_axis_type=\"datetime\", title=\"Moyenne annuelle des passagers\", width=800, height=400)\n",
    "p.vbar(x=df_yearly.index, top=df_yearly.values, width=100*24*60*60*1000)  # largeur ~100 jours\n",
    "show(p)\n"
   ]
  },
  {
   "cell_type": "markdown",
   "id": "62a96d12",
   "metadata": {},
   "source": [
    "# Mean and standard deviation"
   ]
  },
  {
   "cell_type": "code",
   "execution_count": 19,
   "id": "97a2ce15",
   "metadata": {},
   "outputs": [
    {
     "name": "stdout",
     "output_type": "stream",
     "text": [
      "Moyenne : 280.30\n",
      "Écart-type : 119.97\n"
     ]
    }
   ],
   "source": [
    "mean = df['#Passengers'].mean()\n",
    "std = df['#Passengers'].std()\n",
    "\n",
    "print(f\"Moyenne : {mean:.2f}\")\n",
    "print(f\"Écart-type : {std:.2f}\")\n"
   ]
  },
  {
   "cell_type": "markdown",
   "id": "2895191d",
   "metadata": {},
   "source": [
    "# Outlier detection"
   ]
  },
  {
   "cell_type": "code",
   "execution_count": 20,
   "id": "f4335352",
   "metadata": {},
   "outputs": [
    {
     "name": "stderr",
     "output_type": "stream",
     "text": [
      "BokehDeprecationWarning: 'circle() method with size value' was deprecated in Bokeh 3.4.0 and will be removed, use 'scatter(size=...) instead' instead.\n"
     ]
    },
    {
     "data": {
      "text/html": [
       "\n",
       "  <div id=\"fd6b1f4f-3652-45bf-bb9b-3de2ac588ca4\" data-root-id=\"p1532\" style=\"display: contents;\"></div>\n"
      ]
     },
     "metadata": {},
     "output_type": "display_data"
    },
    {
     "data": {
      "application/javascript": "(function(root) {\n  function embed_document(root) {\n  const docs_json = {\"b72401ea-d7f9-44f8-a03c-c57c3d351de9\":{\"version\":\"3.7.3\",\"title\":\"Bokeh Application\",\"roots\":[{\"type\":\"object\",\"name\":\"Figure\",\"id\":\"p1532\",\"attributes\":{\"width\":800,\"height\":400,\"x_range\":{\"type\":\"object\",\"name\":\"DataRange1d\",\"id\":\"p1533\"},\"y_range\":{\"type\":\"object\",\"name\":\"DataRange1d\",\"id\":\"p1534\"},\"x_scale\":{\"type\":\"object\",\"name\":\"LinearScale\",\"id\":\"p1542\"},\"y_scale\":{\"type\":\"object\",\"name\":\"LinearScale\",\"id\":\"p1543\"},\"title\":{\"type\":\"object\",\"name\":\"Title\",\"id\":\"p1535\",\"attributes\":{\"text\":\"Outliers\"}},\"renderers\":[{\"type\":\"object\",\"name\":\"GlyphRenderer\",\"id\":\"p1587\",\"attributes\":{\"data_source\":{\"type\":\"object\",\"name\":\"ColumnDataSource\",\"id\":\"p1581\",\"attributes\":{\"selected\":{\"type\":\"object\",\"name\":\"Selection\",\"id\":\"p1582\",\"attributes\":{\"indices\":[],\"line_indices\":[]}},\"selection_policy\":{\"type\":\"object\",\"name\":\"UnionRenderers\",\"id\":\"p1583\"},\"data\":{\"type\":\"map\",\"entries\":[[\"x\",{\"type\":\"ndarray\",\"array\":{\"type\":\"bytes\",\"data\":\"AACATlRCY8IAAAAgpiZjwgAAAHXpFWPCAAAAVOYMY8IAAIBgW+1iwgAAAOr522LCAACAZgjRYsIAAIDVa7NiwgAAABdXrGLCAACA6KiQYsIAAIB4D3xiwgAAgDYJamLCAACAxm9VYsIAAIBW1kBiwgAAgH2GLWLCAAAAT9gRYsIAAIDL5gZiwgAAgJZw7mHCAACA+EPXYcIAAAD/C9RhwgAAAGHfvGHCAACABJ6eYcIAAIDwKo9hwgAAgEVufmHCAACASxtiYcIAAABS415hwgAAAEsASWHCAAAAjNAoYcIAAABePSZhwgAAAKyd/2DCAAAAuS35YMIAAAA8BOtgwgAAAHBE0WDCAACAJ3bCYMIAAIDR/KBgwgAAgOsclGDCAACA16mEYMIAAAAFIm5gwgAAgI7AXGDCAACATLpKYMIAAABMnzFgwgAAgOLNGWDCAACAZaQLYMIAAADXot5fwgAAAIEpvV/CAAAA3BmQX8IAAABLfXJfwgAAAA8kRF/CAAAAfocmX8IAAAC/VwZfwgAAAL4h1F7CAAAAIPW8XsIAAAD+u4FewgAAAPfYa17CAAAAAzMzXsIAAABeIwZewgAAAGTQ6V3CAAAAuRPZXcIAAAC43aZdwgAAAGJkhV3CAAAAnFFPXcIAAAC8HiZdwgAAAM9bA13CAAAAbFLoXMIAAABrHLZcwgAAAF1WilzCAAAAspl5XMIAAABizTtcwgAAACDHKVzCAAAALCHxW8IAAAA/Xs5bwgAAAPZ0plvCAAAA9T50W8IAAAAinERbwgAAAMZ1P1vCAAAAAGMJW8IAAACWdthawgAAAED9tlrCAAAARqqaWsIAAAChmm1awgAAAEQ+NlrCAAAAphEfWsIAAABQmP1ZwgAAAELS0VnCAAAAiU+VWcIAAAD/lY1ZwgAAAOQ/aFnCAAAAEZ04WcIAAACnsAdZwgAAAHjn0ljCAAAAXZGtWMIAAADM9I9YwgAAAAbiWVjCAAAATpVPWMIAAACVEhNYwgAAAPAC5lfCAAAAyBzHV8IAAACtxqFXwgAAAGvAj1fCAAAAi41mV8IAAAC46jZXwgAAADTeElfCAAAAOov2VsIAAACOmLNWwgAAAOPbolbCAAAAN+lfVsIAAACmTEJWwgAAAHeDDVbCAAAA2Vb2VcIAAACxcNdVwgAAAP/QsFXCAAAAnMeVVcIAAAB6jlpVwgAAAI3LN1XCAAAAcnUSVcIAAAA2HORUwgAAAHAJrlTCAAAAaSaYVMIAAAAtzWlUwgAAAIi9PFTCAAAAm/oZVMIAAAD26uxTwgAAABAL4FPCAAAA9bS6U8IAAACLyIlTwgAAAFz/VFPCAAAAt+8nU8IAAADyEiRTwgAAALa59VLCAAAAwhO9UsIAAACTSohSwgAAAAKualLCAAAAfqFGUsIAAABJKy5SwgAAAJCo8VHCAAAAxOjXUcIAAAD+1aFRwgAAAHQcmlHCAAAAwnxzUcIAAAA3jTlRwgAAABw3FFHCAAAA4N3lUMIAAAANO7ZQwgAAAFXuq1DC\"},\"shape\":[144],\"dtype\":\"float64\",\"order\":\"little\"}],[\"y\",{\"type\":\"ndarray\",\"array\":{\"type\":\"bytes\",\"data\":\"cAAAAHYAAACEAAAAgQAAAHkAAACHAAAAlAAAAJQAAACIAAAAdwAAAGgAAAB2AAAAcwAAAH4AAACNAAAAhwAAAH0AAACVAAAAqgAAAKoAAACeAAAAhQAAAHIAAACMAAAAkQAAAJYAAACyAAAAowAAAKwAAACyAAAAxwAAAMcAAAC4AAAAogAAAJIAAACmAAAAqwAAALQAAADBAAAAtQAAALcAAADaAAAA5gAAAPIAAADRAAAAvwAAAKwAAADCAAAAxAAAAMQAAADsAAAA6wAAAOUAAADzAAAACAEAABABAADtAAAA0wAAALQAAADJAAAAzAAAALwAAADrAAAA4wAAAOoAAAAIAQAALgEAACUBAAADAQAA5QAAAMsAAADlAAAA8gAAAOkAAAALAQAADQEAAA4BAAA7AQAAbAEAAFsBAAA4AQAAEgEAAO0AAAAWAQAAHAEAABUBAAA9AQAAOQEAAD4BAAB2AQAAnQEAAJUBAABjAQAAMgEAAA8BAAAyAQAAOwEAAC0BAABkAQAAXAEAAGMBAACmAQAA0QEAANMBAACUAQAAWwEAADEBAABQAQAAVAEAAD4BAABqAQAAXAEAAGsBAACzAQAA6wEAAPkBAACUAQAAZwEAADYBAABRAQAAaAEAAFYBAACWAQAAjAEAAKQBAADYAQAAJAIAAC8CAADPAQAAlwEAAGoBAACVAQAAoQEAAIcBAACjAQAAzQEAANgBAAAXAgAAbgIAAF4CAAD8AQAAzQEAAIYBAACwAQAA\"},\"shape\":[144],\"dtype\":\"int32\",\"order\":\"little\"}]]}}},\"view\":{\"type\":\"object\",\"name\":\"CDSView\",\"id\":\"p1588\",\"attributes\":{\"filter\":{\"type\":\"object\",\"name\":\"AllIndices\",\"id\":\"p1589\"}}},\"glyph\":{\"type\":\"object\",\"name\":\"Line\",\"id\":\"p1584\",\"attributes\":{\"x\":{\"type\":\"field\",\"field\":\"x\"},\"y\":{\"type\":\"field\",\"field\":\"y\"},\"line_color\":\"#1f77b4\",\"line_width\":2}},\"nonselection_glyph\":{\"type\":\"object\",\"name\":\"Line\",\"id\":\"p1585\",\"attributes\":{\"x\":{\"type\":\"field\",\"field\":\"x\"},\"y\":{\"type\":\"field\",\"field\":\"y\"},\"line_color\":\"#1f77b4\",\"line_alpha\":0.1,\"line_width\":2}},\"muted_glyph\":{\"type\":\"object\",\"name\":\"Line\",\"id\":\"p1586\",\"attributes\":{\"x\":{\"type\":\"field\",\"field\":\"x\"},\"y\":{\"type\":\"field\",\"field\":\"y\"},\"line_color\":\"#1f77b4\",\"line_alpha\":0.2,\"line_width\":2}}}},{\"type\":\"object\",\"name\":\"GlyphRenderer\",\"id\":\"p1596\",\"attributes\":{\"data_source\":{\"type\":\"object\",\"name\":\"ColumnDataSource\",\"id\":\"p1590\",\"attributes\":{\"selected\":{\"type\":\"object\",\"name\":\"Selection\",\"id\":\"p1591\",\"attributes\":{\"indices\":[],\"line_indices\":[]}},\"selection_policy\":{\"type\":\"object\",\"name\":\"UnionRenderers\",\"id\":\"p1592\"},\"data\":{\"type\":\"map\",\"entries\":[[\"x\",{\"type\":\"ndarray\",\"array\":{\"type\":\"bytes\",\"data\":\"AAAAt+8nU8IAAADyEiRTwgAAAHQcmlHCAAAAwnxzUcIAAAA3jTlRwg==\"},\"shape\":[5],\"dtype\":\"float64\",\"order\":\"little\"}],[\"y\",{\"type\":\"ndarray\",\"array\":{\"type\":\"bytes\",\"data\":\"JAIAAC8CAAAXAgAAbgIAAF4CAAA=\"},\"shape\":[5],\"dtype\":\"int32\",\"order\":\"little\"}]]}}},\"view\":{\"type\":\"object\",\"name\":\"CDSView\",\"id\":\"p1597\",\"attributes\":{\"filter\":{\"type\":\"object\",\"name\":\"AllIndices\",\"id\":\"p1598\"}}},\"glyph\":{\"type\":\"object\",\"name\":\"Scatter\",\"id\":\"p1593\",\"attributes\":{\"x\":{\"type\":\"field\",\"field\":\"x\"},\"y\":{\"type\":\"field\",\"field\":\"y\"},\"size\":{\"type\":\"value\",\"value\":8},\"line_color\":{\"type\":\"value\",\"value\":\"red\"},\"fill_color\":{\"type\":\"value\",\"value\":\"red\"},\"hatch_color\":{\"type\":\"value\",\"value\":\"red\"}}},\"nonselection_glyph\":{\"type\":\"object\",\"name\":\"Scatter\",\"id\":\"p1594\",\"attributes\":{\"x\":{\"type\":\"field\",\"field\":\"x\"},\"y\":{\"type\":\"field\",\"field\":\"y\"},\"size\":{\"type\":\"value\",\"value\":8},\"line_color\":{\"type\":\"value\",\"value\":\"red\"},\"line_alpha\":{\"type\":\"value\",\"value\":0.1},\"fill_color\":{\"type\":\"value\",\"value\":\"red\"},\"fill_alpha\":{\"type\":\"value\",\"value\":0.1},\"hatch_color\":{\"type\":\"value\",\"value\":\"red\"},\"hatch_alpha\":{\"type\":\"value\",\"value\":0.1}}},\"muted_glyph\":{\"type\":\"object\",\"name\":\"Scatter\",\"id\":\"p1595\",\"attributes\":{\"x\":{\"type\":\"field\",\"field\":\"x\"},\"y\":{\"type\":\"field\",\"field\":\"y\"},\"size\":{\"type\":\"value\",\"value\":8},\"line_color\":{\"type\":\"value\",\"value\":\"red\"},\"line_alpha\":{\"type\":\"value\",\"value\":0.2},\"fill_color\":{\"type\":\"value\",\"value\":\"red\"},\"fill_alpha\":{\"type\":\"value\",\"value\":0.2},\"hatch_color\":{\"type\":\"value\",\"value\":\"red\"},\"hatch_alpha\":{\"type\":\"value\",\"value\":0.2}}}}}],\"toolbar\":{\"type\":\"object\",\"name\":\"Toolbar\",\"id\":\"p1541\",\"attributes\":{\"tools\":[{\"type\":\"object\",\"name\":\"PanTool\",\"id\":\"p1568\"},{\"type\":\"object\",\"name\":\"WheelZoomTool\",\"id\":\"p1569\",\"attributes\":{\"renderers\":\"auto\"}},{\"type\":\"object\",\"name\":\"BoxZoomTool\",\"id\":\"p1570\",\"attributes\":{\"dimensions\":\"both\",\"overlay\":{\"type\":\"object\",\"name\":\"BoxAnnotation\",\"id\":\"p1571\",\"attributes\":{\"syncable\":false,\"line_color\":\"black\",\"line_alpha\":1.0,\"line_width\":2,\"line_dash\":[4,4],\"fill_color\":\"lightgrey\",\"fill_alpha\":0.5,\"level\":\"overlay\",\"visible\":false,\"left\":{\"type\":\"number\",\"value\":\"nan\"},\"right\":{\"type\":\"number\",\"value\":\"nan\"},\"top\":{\"type\":\"number\",\"value\":\"nan\"},\"bottom\":{\"type\":\"number\",\"value\":\"nan\"},\"left_units\":\"canvas\",\"right_units\":\"canvas\",\"top_units\":\"canvas\",\"bottom_units\":\"canvas\",\"handles\":{\"type\":\"object\",\"name\":\"BoxInteractionHandles\",\"id\":\"p1577\",\"attributes\":{\"all\":{\"type\":\"object\",\"name\":\"AreaVisuals\",\"id\":\"p1576\",\"attributes\":{\"fill_color\":\"white\",\"hover_fill_color\":\"lightgray\"}}}}}}}},{\"type\":\"object\",\"name\":\"SaveTool\",\"id\":\"p1578\"},{\"type\":\"object\",\"name\":\"ResetTool\",\"id\":\"p1579\"},{\"type\":\"object\",\"name\":\"HelpTool\",\"id\":\"p1580\"}]}},\"left\":[{\"type\":\"object\",\"name\":\"LinearAxis\",\"id\":\"p1563\",\"attributes\":{\"ticker\":{\"type\":\"object\",\"name\":\"BasicTicker\",\"id\":\"p1564\",\"attributes\":{\"mantissas\":[1,2,5]}},\"formatter\":{\"type\":\"object\",\"name\":\"BasicTickFormatter\",\"id\":\"p1565\"},\"major_label_policy\":{\"type\":\"object\",\"name\":\"AllLabels\",\"id\":\"p1566\"}}}],\"below\":[{\"type\":\"object\",\"name\":\"DatetimeAxis\",\"id\":\"p1544\",\"attributes\":{\"ticker\":{\"type\":\"object\",\"name\":\"DatetimeTicker\",\"id\":\"p1545\",\"attributes\":{\"num_minor_ticks\":5,\"tickers\":[{\"type\":\"object\",\"name\":\"AdaptiveTicker\",\"id\":\"p1546\",\"attributes\":{\"num_minor_ticks\":0,\"mantissas\":[1,2,5],\"max_interval\":500.0}},{\"type\":\"object\",\"name\":\"AdaptiveTicker\",\"id\":\"p1547\",\"attributes\":{\"num_minor_ticks\":0,\"base\":60,\"mantissas\":[1,2,5,10,15,20,30],\"min_interval\":1000.0,\"max_interval\":1800000.0}},{\"type\":\"object\",\"name\":\"AdaptiveTicker\",\"id\":\"p1548\",\"attributes\":{\"num_minor_ticks\":0,\"base\":24,\"mantissas\":[1,2,4,6,8,12],\"min_interval\":3600000.0,\"max_interval\":43200000.0}},{\"type\":\"object\",\"name\":\"DaysTicker\",\"id\":\"p1549\",\"attributes\":{\"days\":[1,2,3,4,5,6,7,8,9,10,11,12,13,14,15,16,17,18,19,20,21,22,23,24,25,26,27,28,29,30,31]}},{\"type\":\"object\",\"name\":\"DaysTicker\",\"id\":\"p1550\",\"attributes\":{\"days\":[1,4,7,10,13,16,19,22,25,28]}},{\"type\":\"object\",\"name\":\"DaysTicker\",\"id\":\"p1551\",\"attributes\":{\"days\":[1,8,15,22]}},{\"type\":\"object\",\"name\":\"DaysTicker\",\"id\":\"p1552\",\"attributes\":{\"days\":[1,15]}},{\"type\":\"object\",\"name\":\"MonthsTicker\",\"id\":\"p1553\",\"attributes\":{\"months\":[0,1,2,3,4,5,6,7,8,9,10,11]}},{\"type\":\"object\",\"name\":\"MonthsTicker\",\"id\":\"p1554\",\"attributes\":{\"months\":[0,2,4,6,8,10]}},{\"type\":\"object\",\"name\":\"MonthsTicker\",\"id\":\"p1555\",\"attributes\":{\"months\":[0,4,8]}},{\"type\":\"object\",\"name\":\"MonthsTicker\",\"id\":\"p1556\",\"attributes\":{\"months\":[0,6]}},{\"type\":\"object\",\"name\":\"YearsTicker\",\"id\":\"p1557\"}]}},\"formatter\":{\"type\":\"object\",\"name\":\"DatetimeTickFormatter\",\"id\":\"p1560\",\"attributes\":{\"seconds\":\"%T\",\"minsec\":\"%T\",\"minutes\":\"%H:%M\",\"hours\":\"%H:%M\",\"days\":\"%b %d\",\"months\":\"%b %Y\",\"strip_leading_zeros\":[\"microseconds\",\"milliseconds\",\"seconds\"],\"boundary_scaling\":false,\"context\":{\"type\":\"object\",\"name\":\"DatetimeTickFormatter\",\"id\":\"p1559\",\"attributes\":{\"microseconds\":\"%T\",\"milliseconds\":\"%T\",\"seconds\":\"%b %d, %Y\",\"minsec\":\"%b %d, %Y\",\"minutes\":\"%b %d, %Y\",\"hourmin\":\"%b %d, %Y\",\"hours\":\"%b %d, %Y\",\"days\":\"%Y\",\"months\":\"\",\"years\":\"\",\"boundary_scaling\":false,\"hide_repeats\":true,\"context\":{\"type\":\"object\",\"name\":\"DatetimeTickFormatter\",\"id\":\"p1558\",\"attributes\":{\"microseconds\":\"%b %d, %Y\",\"milliseconds\":\"%b %d, %Y\",\"seconds\":\"\",\"minsec\":\"\",\"minutes\":\"\",\"hourmin\":\"\",\"hours\":\"\",\"days\":\"\",\"months\":\"\",\"years\":\"\",\"boundary_scaling\":false,\"hide_repeats\":true}},\"context_which\":\"all\"}},\"context_which\":\"all\"}},\"major_label_policy\":{\"type\":\"object\",\"name\":\"AllLabels\",\"id\":\"p1561\"}}}],\"center\":[{\"type\":\"object\",\"name\":\"Grid\",\"id\":\"p1562\",\"attributes\":{\"axis\":{\"id\":\"p1544\"}}},{\"type\":\"object\",\"name\":\"Grid\",\"id\":\"p1567\",\"attributes\":{\"dimension\":1,\"axis\":{\"id\":\"p1563\"}}},{\"type\":\"object\",\"name\":\"Legend\",\"id\":\"p1599\",\"attributes\":{\"location\":\"top_left\",\"items\":[{\"type\":\"object\",\"name\":\"LegendItem\",\"id\":\"p1600\",\"attributes\":{\"label\":{\"type\":\"value\",\"value\":\"Outliers\"},\"renderers\":[{\"id\":\"p1596\"}]}}]}}]}}]}};\n  const render_items = [{\"docid\":\"b72401ea-d7f9-44f8-a03c-c57c3d351de9\",\"roots\":{\"p1532\":\"fd6b1f4f-3652-45bf-bb9b-3de2ac588ca4\"},\"root_ids\":[\"p1532\"]}];\n  void root.Bokeh.embed.embed_items_notebook(docs_json, render_items);\n  }\n  if (root.Bokeh !== undefined) {\n    embed_document(root);\n  } else {\n    let attempts = 0;\n    const timer = setInterval(function(root) {\n      if (root.Bokeh !== undefined) {\n        clearInterval(timer);\n        embed_document(root);\n      } else {\n        attempts++;\n        if (attempts > 100) {\n          clearInterval(timer);\n          console.log(\"Bokeh: ERROR: Unable to run BokehJS code because BokehJS library is missing\");\n        }\n      }\n    }, 10, root)\n  }\n})(window);",
      "application/vnd.bokehjs_exec.v0+json": ""
     },
     "metadata": {
      "application/vnd.bokehjs_exec.v0+json": {
       "id": "p1532"
      }
     },
     "output_type": "display_data"
    }
   ],
   "source": [
    "outliers = df[np.abs(df['#Passengers'] - mean) > 2 * std]\n",
    "\n",
    "p = figure(title=\"Outliers\", x_axis_type=\"datetime\", width=800, height=400)\n",
    "p.line(df.index, df['#Passengers'], line_width=2)\n",
    "p.circle(outliers.index, outliers['#Passengers'], size=8, color=\"red\", legend_label=\"Outliers\")\n",
    "p.legend.location = \"top_left\"\n",
    "show(p)\n"
   ]
  },
  {
   "cell_type": "markdown",
   "id": "4ea01856",
   "metadata": {},
   "source": [
    "# Resampling (upsampling and downsampling)"
   ]
  },
  {
   "cell_type": "code",
   "execution_count": 21,
   "id": "94f68196",
   "metadata": {},
   "outputs": [
    {
     "name": "stderr",
     "output_type": "stream",
     "text": [
      "C:\\Users\\sbria\\AppData\\Local\\Temp\\ipykernel_24716\\936466522.py:2: FutureWarning: 'Q' is deprecated and will be removed in a future version, please use 'QE' instead.\n",
      "  downsampled = df['#Passengers'].resample('Q').mean()\n"
     ]
    },
    {
     "data": {
      "text/html": [
       "\n",
       "  <div id=\"bcded2b1-d908-4db7-b3d4-a0638748f22e\" data-root-id=\"p1605\" style=\"display: contents;\"></div>\n"
      ]
     },
     "metadata": {},
     "output_type": "display_data"
    },
    {
     "data": {
      "application/javascript": "(function(root) {\n  function embed_document(root) {\n  const docs_json = {\"92038635-5182-471d-94d5-f8b1679e2a96\":{\"version\":\"3.7.3\",\"title\":\"Bokeh Application\",\"roots\":[{\"type\":\"object\",\"name\":\"Figure\",\"id\":\"p1605\",\"attributes\":{\"width\":800,\"height\":400,\"x_range\":{\"type\":\"object\",\"name\":\"DataRange1d\",\"id\":\"p1606\"},\"y_range\":{\"type\":\"object\",\"name\":\"DataRange1d\",\"id\":\"p1607\"},\"x_scale\":{\"type\":\"object\",\"name\":\"LinearScale\",\"id\":\"p1615\"},\"y_scale\":{\"type\":\"object\",\"name\":\"LinearScale\",\"id\":\"p1616\"},\"title\":{\"type\":\"object\",\"name\":\"Title\",\"id\":\"p1608\",\"attributes\":{\"text\":\"Passagers par trimestre\"}},\"renderers\":[{\"type\":\"object\",\"name\":\"GlyphRenderer\",\"id\":\"p1660\",\"attributes\":{\"data_source\":{\"type\":\"object\",\"name\":\"ColumnDataSource\",\"id\":\"p1654\",\"attributes\":{\"selected\":{\"type\":\"object\",\"name\":\"Selection\",\"id\":\"p1655\",\"attributes\":{\"indices\":[],\"line_indices\":[]}},\"selection_policy\":{\"type\":\"object\",\"name\":\"UnionRenderers\",\"id\":\"p1656\"},\"data\":{\"type\":\"map\",\"entries\":[[\"x\",{\"type\":\"ndarray\",\"array\":{\"type\":\"bytes\",\"data\":\"AACATR4QY8IAAAD3idViwgAAANVQmmLCAAAAsxdfYsIAAAAoKCViwgAAgNGT6mHCAACAr1qvYcIAAICNIXRhwgAAgAIyOmHCAAAArJ3/YMIAAACKZMRgwgAAAGgriWDCAACAEZdOYMIAAAC7AhRgwgAAADKTsV/CAAAA7iA7X8IAAADYQcdewgAAACsZUl7CAAAA56bbXcIAAACjNGVdwgAAAI1V8VzCAAAA4Cx8XMIAAACcugVcwgAAAFhIj1vCAAAAQmkbW8IAAACVQKZawgAAAFHOL1rCAAAADVy5WcIAAABgM0RZwgAAALMKz1jCAAAAb5hYWMIAAAArJuJXwgAAABVHblfCAAAAaB75VsIAAAAkrIJWwgAAAOA5DFbCAAAAylqYVcIAAAAdMiNVwgAAANm/rFTCAAAAlU02VMIAAAB/bsJTwgAAANJFTVPCAAAAjtPWUsIAAABKYWBSwgAAAJ0461HCAAAA8A92UcIAAACsnf9QwgAAAGgriVDC\"},\"shape\":[48],\"dtype\":\"float64\",\"order\":\"little\"}],[\"y\",{\"type\":\"ndarray\",\"array\":{\"type\":\"bytes\",\"data\":\"q6qqqqoqXkCrqqqqqgpgQAAAAAAAAGJAq6qqqqpqXEBVVVVVVdVfQKuqqqqqCmFAAAAAAADAZEAAAAAAACBgQFVVVVVVtWNAAAAAAABgZUAAAAAAAEBoQAAAAAAAwGNAq6qqqqqqZkAAAAAAAEBoQAAAAAAAYGxAVVVVVVU1Z0CrqqqqqipqQFVVVVVVdW1Aq6qqqqoacECrqqqqqqpoQAAAAAAAIGpAVVVVVVU1bkCrqqqqqspxQKuqqqqqimtAq6qqqqrqbkCrqqqqqspxQAAAAAAAUHVAAAAAAABwcECrqqqqqkpyQAAAAAAA8HRAAAAAAABweEBVVVVVVWVyQAAAAAAAQHRAAAAAAABwd0BVVVVVVdV7QFVVVVVVlXRAAAAAAABAdUAAAAAAAOB3QKuqqqqqKn1AVVVVVVX1dEBVVVVVVRV3QFVVVVVV1XpAq6qqqqpagEBVVVVVVXV4QAAAAAAAkHlAVVVVVVWVfkBVVVVVVRWCQKuqqqqqunpA\"},\"shape\":[48],\"dtype\":\"float64\",\"order\":\"little\"}]]}}},\"view\":{\"type\":\"object\",\"name\":\"CDSView\",\"id\":\"p1661\",\"attributes\":{\"filter\":{\"type\":\"object\",\"name\":\"AllIndices\",\"id\":\"p1662\"}}},\"glyph\":{\"type\":\"object\",\"name\":\"Line\",\"id\":\"p1657\",\"attributes\":{\"x\":{\"type\":\"field\",\"field\":\"x\"},\"y\":{\"type\":\"field\",\"field\":\"y\"},\"line_color\":\"#1f77b4\",\"line_width\":2}},\"nonselection_glyph\":{\"type\":\"object\",\"name\":\"Line\",\"id\":\"p1658\",\"attributes\":{\"x\":{\"type\":\"field\",\"field\":\"x\"},\"y\":{\"type\":\"field\",\"field\":\"y\"},\"line_color\":\"#1f77b4\",\"line_alpha\":0.1,\"line_width\":2}},\"muted_glyph\":{\"type\":\"object\",\"name\":\"Line\",\"id\":\"p1659\",\"attributes\":{\"x\":{\"type\":\"field\",\"field\":\"x\"},\"y\":{\"type\":\"field\",\"field\":\"y\"},\"line_color\":\"#1f77b4\",\"line_alpha\":0.2,\"line_width\":2}}}}],\"toolbar\":{\"type\":\"object\",\"name\":\"Toolbar\",\"id\":\"p1614\",\"attributes\":{\"tools\":[{\"type\":\"object\",\"name\":\"PanTool\",\"id\":\"p1641\"},{\"type\":\"object\",\"name\":\"WheelZoomTool\",\"id\":\"p1642\",\"attributes\":{\"renderers\":\"auto\"}},{\"type\":\"object\",\"name\":\"BoxZoomTool\",\"id\":\"p1643\",\"attributes\":{\"dimensions\":\"both\",\"overlay\":{\"type\":\"object\",\"name\":\"BoxAnnotation\",\"id\":\"p1644\",\"attributes\":{\"syncable\":false,\"line_color\":\"black\",\"line_alpha\":1.0,\"line_width\":2,\"line_dash\":[4,4],\"fill_color\":\"lightgrey\",\"fill_alpha\":0.5,\"level\":\"overlay\",\"visible\":false,\"left\":{\"type\":\"number\",\"value\":\"nan\"},\"right\":{\"type\":\"number\",\"value\":\"nan\"},\"top\":{\"type\":\"number\",\"value\":\"nan\"},\"bottom\":{\"type\":\"number\",\"value\":\"nan\"},\"left_units\":\"canvas\",\"right_units\":\"canvas\",\"top_units\":\"canvas\",\"bottom_units\":\"canvas\",\"handles\":{\"type\":\"object\",\"name\":\"BoxInteractionHandles\",\"id\":\"p1650\",\"attributes\":{\"all\":{\"type\":\"object\",\"name\":\"AreaVisuals\",\"id\":\"p1649\",\"attributes\":{\"fill_color\":\"white\",\"hover_fill_color\":\"lightgray\"}}}}}}}},{\"type\":\"object\",\"name\":\"SaveTool\",\"id\":\"p1651\"},{\"type\":\"object\",\"name\":\"ResetTool\",\"id\":\"p1652\"},{\"type\":\"object\",\"name\":\"HelpTool\",\"id\":\"p1653\"}]}},\"left\":[{\"type\":\"object\",\"name\":\"LinearAxis\",\"id\":\"p1636\",\"attributes\":{\"ticker\":{\"type\":\"object\",\"name\":\"BasicTicker\",\"id\":\"p1637\",\"attributes\":{\"mantissas\":[1,2,5]}},\"formatter\":{\"type\":\"object\",\"name\":\"BasicTickFormatter\",\"id\":\"p1638\"},\"major_label_policy\":{\"type\":\"object\",\"name\":\"AllLabels\",\"id\":\"p1639\"}}}],\"below\":[{\"type\":\"object\",\"name\":\"DatetimeAxis\",\"id\":\"p1617\",\"attributes\":{\"ticker\":{\"type\":\"object\",\"name\":\"DatetimeTicker\",\"id\":\"p1618\",\"attributes\":{\"num_minor_ticks\":5,\"tickers\":[{\"type\":\"object\",\"name\":\"AdaptiveTicker\",\"id\":\"p1619\",\"attributes\":{\"num_minor_ticks\":0,\"mantissas\":[1,2,5],\"max_interval\":500.0}},{\"type\":\"object\",\"name\":\"AdaptiveTicker\",\"id\":\"p1620\",\"attributes\":{\"num_minor_ticks\":0,\"base\":60,\"mantissas\":[1,2,5,10,15,20,30],\"min_interval\":1000.0,\"max_interval\":1800000.0}},{\"type\":\"object\",\"name\":\"AdaptiveTicker\",\"id\":\"p1621\",\"attributes\":{\"num_minor_ticks\":0,\"base\":24,\"mantissas\":[1,2,4,6,8,12],\"min_interval\":3600000.0,\"max_interval\":43200000.0}},{\"type\":\"object\",\"name\":\"DaysTicker\",\"id\":\"p1622\",\"attributes\":{\"days\":[1,2,3,4,5,6,7,8,9,10,11,12,13,14,15,16,17,18,19,20,21,22,23,24,25,26,27,28,29,30,31]}},{\"type\":\"object\",\"name\":\"DaysTicker\",\"id\":\"p1623\",\"attributes\":{\"days\":[1,4,7,10,13,16,19,22,25,28]}},{\"type\":\"object\",\"name\":\"DaysTicker\",\"id\":\"p1624\",\"attributes\":{\"days\":[1,8,15,22]}},{\"type\":\"object\",\"name\":\"DaysTicker\",\"id\":\"p1625\",\"attributes\":{\"days\":[1,15]}},{\"type\":\"object\",\"name\":\"MonthsTicker\",\"id\":\"p1626\",\"attributes\":{\"months\":[0,1,2,3,4,5,6,7,8,9,10,11]}},{\"type\":\"object\",\"name\":\"MonthsTicker\",\"id\":\"p1627\",\"attributes\":{\"months\":[0,2,4,6,8,10]}},{\"type\":\"object\",\"name\":\"MonthsTicker\",\"id\":\"p1628\",\"attributes\":{\"months\":[0,4,8]}},{\"type\":\"object\",\"name\":\"MonthsTicker\",\"id\":\"p1629\",\"attributes\":{\"months\":[0,6]}},{\"type\":\"object\",\"name\":\"YearsTicker\",\"id\":\"p1630\"}]}},\"formatter\":{\"type\":\"object\",\"name\":\"DatetimeTickFormatter\",\"id\":\"p1633\",\"attributes\":{\"seconds\":\"%T\",\"minsec\":\"%T\",\"minutes\":\"%H:%M\",\"hours\":\"%H:%M\",\"days\":\"%b %d\",\"months\":\"%b %Y\",\"strip_leading_zeros\":[\"microseconds\",\"milliseconds\",\"seconds\"],\"boundary_scaling\":false,\"context\":{\"type\":\"object\",\"name\":\"DatetimeTickFormatter\",\"id\":\"p1632\",\"attributes\":{\"microseconds\":\"%T\",\"milliseconds\":\"%T\",\"seconds\":\"%b %d, %Y\",\"minsec\":\"%b %d, %Y\",\"minutes\":\"%b %d, %Y\",\"hourmin\":\"%b %d, %Y\",\"hours\":\"%b %d, %Y\",\"days\":\"%Y\",\"months\":\"\",\"years\":\"\",\"boundary_scaling\":false,\"hide_repeats\":true,\"context\":{\"type\":\"object\",\"name\":\"DatetimeTickFormatter\",\"id\":\"p1631\",\"attributes\":{\"microseconds\":\"%b %d, %Y\",\"milliseconds\":\"%b %d, %Y\",\"seconds\":\"\",\"minsec\":\"\",\"minutes\":\"\",\"hourmin\":\"\",\"hours\":\"\",\"days\":\"\",\"months\":\"\",\"years\":\"\",\"boundary_scaling\":false,\"hide_repeats\":true}},\"context_which\":\"all\"}},\"context_which\":\"all\"}},\"major_label_policy\":{\"type\":\"object\",\"name\":\"AllLabels\",\"id\":\"p1634\"}}}],\"center\":[{\"type\":\"object\",\"name\":\"Grid\",\"id\":\"p1635\",\"attributes\":{\"axis\":{\"id\":\"p1617\"}}},{\"type\":\"object\",\"name\":\"Grid\",\"id\":\"p1640\",\"attributes\":{\"dimension\":1,\"axis\":{\"id\":\"p1636\"}}}]}}]}};\n  const render_items = [{\"docid\":\"92038635-5182-471d-94d5-f8b1679e2a96\",\"roots\":{\"p1605\":\"bcded2b1-d908-4db7-b3d4-a0638748f22e\"},\"root_ids\":[\"p1605\"]}];\n  void root.Bokeh.embed.embed_items_notebook(docs_json, render_items);\n  }\n  if (root.Bokeh !== undefined) {\n    embed_document(root);\n  } else {\n    let attempts = 0;\n    const timer = setInterval(function(root) {\n      if (root.Bokeh !== undefined) {\n        clearInterval(timer);\n        embed_document(root);\n      } else {\n        attempts++;\n        if (attempts > 100) {\n          clearInterval(timer);\n          console.log(\"Bokeh: ERROR: Unable to run BokehJS code because BokehJS library is missing\");\n        }\n      }\n    }, 10, root)\n  }\n})(window);",
      "application/vnd.bokehjs_exec.v0+json": ""
     },
     "metadata": {
      "application/vnd.bokehjs_exec.v0+json": {
       "id": "p1605"
      }
     },
     "output_type": "display_data"
    }
   ],
   "source": [
    "upsampled = df['#Passengers'].resample('D').ffill()\n",
    "downsampled = df['#Passengers'].resample('Q').mean()\n",
    "\n",
    "# Tracer le downsampled par exemple :\n",
    "p = figure(title=\"Passagers par trimestre\", x_axis_type='datetime', width=800, height=400)\n",
    "p.line(downsampled.index, downsampled.values, line_width=2)\n",
    "show(p)\n"
   ]
  },
  {
   "cell_type": "markdown",
   "id": "1004ada2",
   "metadata": {},
   "source": [
    "# Lag analysis"
   ]
  },
  {
   "cell_type": "code",
   "execution_count": 22,
   "id": "582822c8",
   "metadata": {},
   "outputs": [
    {
     "name": "stderr",
     "output_type": "stream",
     "text": [
      "BokehDeprecationWarning: 'circle() method with size value' was deprecated in Bokeh 3.4.0 and will be removed, use 'scatter(size=...) instead' instead.\n"
     ]
    },
    {
     "data": {
      "text/html": [
       "\n",
       "  <div id=\"f9d37c43-9195-4cfd-a173-9410687642a4\" data-root-id=\"p1665\" style=\"display: contents;\"></div>\n"
      ]
     },
     "metadata": {},
     "output_type": "display_data"
    },
    {
     "data": {
      "application/javascript": "(function(root) {\n  function embed_document(root) {\n  const docs_json = {\"cd50408e-5884-47df-8b9b-f55ee67c7d51\":{\"version\":\"3.7.3\",\"title\":\"Bokeh Application\",\"roots\":[{\"type\":\"object\",\"name\":\"Figure\",\"id\":\"p1665\",\"attributes\":{\"x_range\":{\"type\":\"object\",\"name\":\"DataRange1d\",\"id\":\"p1666\"},\"y_range\":{\"type\":\"object\",\"name\":\"DataRange1d\",\"id\":\"p1667\"},\"x_scale\":{\"type\":\"object\",\"name\":\"LinearScale\",\"id\":\"p1675\"},\"y_scale\":{\"type\":\"object\",\"name\":\"LinearScale\",\"id\":\"p1676\"},\"title\":{\"type\":\"object\",\"name\":\"Title\",\"id\":\"p1668\",\"attributes\":{\"text\":\"Lag plot (t vs t-1)\"}},\"renderers\":[{\"type\":\"object\",\"name\":\"GlyphRenderer\",\"id\":\"p1706\",\"attributes\":{\"data_source\":{\"type\":\"object\",\"name\":\"ColumnDataSource\",\"id\":\"p1700\",\"attributes\":{\"selected\":{\"type\":\"object\",\"name\":\"Selection\",\"id\":\"p1701\",\"attributes\":{\"indices\":[],\"line_indices\":[]}},\"selection_policy\":{\"type\":\"object\",\"name\":\"UnionRenderers\",\"id\":\"p1702\"},\"data\":{\"type\":\"map\",\"entries\":[[\"x\",{\"type\":\"ndarray\",\"array\":{\"type\":\"bytes\",\"data\":\"AAAAAAAA+H8AAAAAAABcQAAAAAAAgF1AAAAAAACAYEAAAAAAACBgQAAAAAAAQF5AAAAAAADgYEAAAAAAAIBiQAAAAAAAgGJAAAAAAAAAYUAAAAAAAMBdQAAAAAAAAFpAAAAAAACAXUAAAAAAAMBcQAAAAAAAgF9AAAAAAACgYUAAAAAAAOBgQAAAAAAAQF9AAAAAAACgYkAAAAAAAEBlQAAAAAAAQGVAAAAAAADAY0AAAAAAAKBgQAAAAAAAgFxAAAAAAACAYUAAAAAAACBiQAAAAAAAwGJAAAAAAABAZkAAAAAAAGBkQAAAAAAAgGVAAAAAAABAZkAAAAAAAOBoQAAAAAAA4GhAAAAAAAAAZ0AAAAAAAEBkQAAAAAAAQGJAAAAAAADAZEAAAAAAAGBlQAAAAAAAgGZAAAAAAAAgaEAAAAAAAKBmQAAAAAAA4GZAAAAAAABAa0AAAAAAAMBsQAAAAAAAQG5AAAAAAAAgakAAAAAAAOBnQAAAAAAAgGVAAAAAAABAaEAAAAAAAIBoQAAAAAAAgGhAAAAAAACAbUAAAAAAAGBtQAAAAAAAoGxAAAAAAABgbkAAAAAAAIBwQAAAAAAAAHFAAAAAAACgbUAAAAAAAGBqQAAAAAAAgGZAAAAAAAAgaUAAAAAAAIBpQAAAAAAAgGdAAAAAAABgbUAAAAAAAGBsQAAAAAAAQG1AAAAAAACAcEAAAAAAAOByQAAAAAAAUHJAAAAAAAAwcEAAAAAAAKBsQAAAAAAAYGlAAAAAAACgbEAAAAAAAEBuQAAAAAAAIG1AAAAAAACwcEAAAAAAANBwQAAAAAAA4HBAAAAAAACwc0AAAAAAAMB2QAAAAAAAsHVAAAAAAACAc0AAAAAAACBxQAAAAAAAoG1AAAAAAABgcUAAAAAAAMBxQAAAAAAAUHFAAAAAAADQc0AAAAAAAJBzQAAAAAAA4HNAAAAAAABgd0AAAAAAANB5QAAAAAAAUHlAAAAAAAAwdkAAAAAAACBzQAAAAAAA8HBAAAAAAAAgc0AAAAAAALBzQAAAAAAA0HJAAAAAAABAdkAAAAAAAMB1QAAAAAAAMHZAAAAAAABgekAAAAAAABB9QAAAAAAAMH1AAAAAAABAeUAAAAAAALB1QAAAAAAAEHNAAAAAAAAAdUAAAAAAAEB1QAAAAAAA4HNAAAAAAACgdkAAAAAAAMB1QAAAAAAAsHZAAAAAAAAwe0AAAAAAALB+QAAAAAAAkH9AAAAAAABAeUAAAAAAAHB2QAAAAAAAYHNAAAAAAAAQdUAAAAAAAIB2QAAAAAAAYHVAAAAAAABgeUAAAAAAAMB4QAAAAAAAQHpAAAAAAACAfUAAAAAAACCBQAAAAAAAeIFAAAAAAADwfEAAAAAAAHB5QAAAAAAAoHZAAAAAAABQeUAAAAAAABB6QAAAAAAAcHhAAAAAAAAwekAAAAAAANB8QAAAAAAAgH1AAAAAAAC4gEAAAAAAAHCDQAAAAAAA8IJAAAAAAADAf0AAAAAAANB8QAAAAAAAYHhA\"},\"shape\":[144],\"dtype\":\"float64\",\"order\":\"little\"}],[\"y\",{\"type\":\"ndarray\",\"array\":{\"type\":\"bytes\",\"data\":\"cAAAAHYAAACEAAAAgQAAAHkAAACHAAAAlAAAAJQAAACIAAAAdwAAAGgAAAB2AAAAcwAAAH4AAACNAAAAhwAAAH0AAACVAAAAqgAAAKoAAACeAAAAhQAAAHIAAACMAAAAkQAAAJYAAACyAAAAowAAAKwAAACyAAAAxwAAAMcAAAC4AAAAogAAAJIAAACmAAAAqwAAALQAAADBAAAAtQAAALcAAADaAAAA5gAAAPIAAADRAAAAvwAAAKwAAADCAAAAxAAAAMQAAADsAAAA6wAAAOUAAADzAAAACAEAABABAADtAAAA0wAAALQAAADJAAAAzAAAALwAAADrAAAA4wAAAOoAAAAIAQAALgEAACUBAAADAQAA5QAAAMsAAADlAAAA8gAAAOkAAAALAQAADQEAAA4BAAA7AQAAbAEAAFsBAAA4AQAAEgEAAO0AAAAWAQAAHAEAABUBAAA9AQAAOQEAAD4BAAB2AQAAnQEAAJUBAABjAQAAMgEAAA8BAAAyAQAAOwEAAC0BAABkAQAAXAEAAGMBAACmAQAA0QEAANMBAACUAQAAWwEAADEBAABQAQAAVAEAAD4BAABqAQAAXAEAAGsBAACzAQAA6wEAAPkBAACUAQAAZwEAADYBAABRAQAAaAEAAFYBAACWAQAAjAEAAKQBAADYAQAAJAIAAC8CAADPAQAAlwEAAGoBAACVAQAAoQEAAIcBAACjAQAAzQEAANgBAAAXAgAAbgIAAF4CAAD8AQAAzQEAAIYBAACwAQAA\"},\"shape\":[144],\"dtype\":\"int32\",\"order\":\"little\"}]]}}},\"view\":{\"type\":\"object\",\"name\":\"CDSView\",\"id\":\"p1707\",\"attributes\":{\"filter\":{\"type\":\"object\",\"name\":\"AllIndices\",\"id\":\"p1708\"}}},\"glyph\":{\"type\":\"object\",\"name\":\"Scatter\",\"id\":\"p1703\",\"attributes\":{\"x\":{\"type\":\"field\",\"field\":\"x\"},\"y\":{\"type\":\"field\",\"field\":\"y\"},\"size\":{\"type\":\"value\",\"value\":5},\"line_color\":{\"type\":\"value\",\"value\":\"#1f77b4\"},\"line_alpha\":{\"type\":\"value\",\"value\":0.6},\"fill_color\":{\"type\":\"value\",\"value\":\"#1f77b4\"},\"fill_alpha\":{\"type\":\"value\",\"value\":0.6},\"hatch_alpha\":{\"type\":\"value\",\"value\":0.6}}},\"nonselection_glyph\":{\"type\":\"object\",\"name\":\"Scatter\",\"id\":\"p1704\",\"attributes\":{\"x\":{\"type\":\"field\",\"field\":\"x\"},\"y\":{\"type\":\"field\",\"field\":\"y\"},\"size\":{\"type\":\"value\",\"value\":5},\"line_color\":{\"type\":\"value\",\"value\":\"#1f77b4\"},\"line_alpha\":{\"type\":\"value\",\"value\":0.1},\"fill_color\":{\"type\":\"value\",\"value\":\"#1f77b4\"},\"fill_alpha\":{\"type\":\"value\",\"value\":0.1},\"hatch_alpha\":{\"type\":\"value\",\"value\":0.1}}},\"muted_glyph\":{\"type\":\"object\",\"name\":\"Scatter\",\"id\":\"p1705\",\"attributes\":{\"x\":{\"type\":\"field\",\"field\":\"x\"},\"y\":{\"type\":\"field\",\"field\":\"y\"},\"size\":{\"type\":\"value\",\"value\":5},\"line_color\":{\"type\":\"value\",\"value\":\"#1f77b4\"},\"line_alpha\":{\"type\":\"value\",\"value\":0.2},\"fill_color\":{\"type\":\"value\",\"value\":\"#1f77b4\"},\"fill_alpha\":{\"type\":\"value\",\"value\":0.2},\"hatch_alpha\":{\"type\":\"value\",\"value\":0.2}}}}}],\"toolbar\":{\"type\":\"object\",\"name\":\"Toolbar\",\"id\":\"p1674\",\"attributes\":{\"tools\":[{\"type\":\"object\",\"name\":\"PanTool\",\"id\":\"p1687\"},{\"type\":\"object\",\"name\":\"WheelZoomTool\",\"id\":\"p1688\",\"attributes\":{\"renderers\":\"auto\"}},{\"type\":\"object\",\"name\":\"BoxZoomTool\",\"id\":\"p1689\",\"attributes\":{\"dimensions\":\"both\",\"overlay\":{\"type\":\"object\",\"name\":\"BoxAnnotation\",\"id\":\"p1690\",\"attributes\":{\"syncable\":false,\"line_color\":\"black\",\"line_alpha\":1.0,\"line_width\":2,\"line_dash\":[4,4],\"fill_color\":\"lightgrey\",\"fill_alpha\":0.5,\"level\":\"overlay\",\"visible\":false,\"left\":{\"type\":\"number\",\"value\":\"nan\"},\"right\":{\"type\":\"number\",\"value\":\"nan\"},\"top\":{\"type\":\"number\",\"value\":\"nan\"},\"bottom\":{\"type\":\"number\",\"value\":\"nan\"},\"left_units\":\"canvas\",\"right_units\":\"canvas\",\"top_units\":\"canvas\",\"bottom_units\":\"canvas\",\"handles\":{\"type\":\"object\",\"name\":\"BoxInteractionHandles\",\"id\":\"p1696\",\"attributes\":{\"all\":{\"type\":\"object\",\"name\":\"AreaVisuals\",\"id\":\"p1695\",\"attributes\":{\"fill_color\":\"white\",\"hover_fill_color\":\"lightgray\"}}}}}}}},{\"type\":\"object\",\"name\":\"SaveTool\",\"id\":\"p1697\"},{\"type\":\"object\",\"name\":\"ResetTool\",\"id\":\"p1698\"},{\"type\":\"object\",\"name\":\"HelpTool\",\"id\":\"p1699\"}]}},\"left\":[{\"type\":\"object\",\"name\":\"LinearAxis\",\"id\":\"p1682\",\"attributes\":{\"ticker\":{\"type\":\"object\",\"name\":\"BasicTicker\",\"id\":\"p1683\",\"attributes\":{\"mantissas\":[1,2,5]}},\"formatter\":{\"type\":\"object\",\"name\":\"BasicTickFormatter\",\"id\":\"p1684\"},\"axis_label\":\"t\",\"major_label_policy\":{\"type\":\"object\",\"name\":\"AllLabels\",\"id\":\"p1685\"}}}],\"below\":[{\"type\":\"object\",\"name\":\"LinearAxis\",\"id\":\"p1677\",\"attributes\":{\"ticker\":{\"type\":\"object\",\"name\":\"BasicTicker\",\"id\":\"p1678\",\"attributes\":{\"mantissas\":[1,2,5]}},\"formatter\":{\"type\":\"object\",\"name\":\"BasicTickFormatter\",\"id\":\"p1679\"},\"axis_label\":\"t-1\",\"major_label_policy\":{\"type\":\"object\",\"name\":\"AllLabels\",\"id\":\"p1680\"}}}],\"center\":[{\"type\":\"object\",\"name\":\"Grid\",\"id\":\"p1681\",\"attributes\":{\"axis\":{\"id\":\"p1677\"}}},{\"type\":\"object\",\"name\":\"Grid\",\"id\":\"p1686\",\"attributes\":{\"dimension\":1,\"axis\":{\"id\":\"p1682\"}}}]}}]}};\n  const render_items = [{\"docid\":\"cd50408e-5884-47df-8b9b-f55ee67c7d51\",\"roots\":{\"p1665\":\"f9d37c43-9195-4cfd-a173-9410687642a4\"},\"root_ids\":[\"p1665\"]}];\n  void root.Bokeh.embed.embed_items_notebook(docs_json, render_items);\n  }\n  if (root.Bokeh !== undefined) {\n    embed_document(root);\n  } else {\n    let attempts = 0;\n    const timer = setInterval(function(root) {\n      if (root.Bokeh !== undefined) {\n        clearInterval(timer);\n        embed_document(root);\n      } else {\n        attempts++;\n        if (attempts > 100) {\n          clearInterval(timer);\n          console.log(\"Bokeh: ERROR: Unable to run BokehJS code because BokehJS library is missing\");\n        }\n      }\n    }, 10, root)\n  }\n})(window);",
      "application/vnd.bokehjs_exec.v0+json": ""
     },
     "metadata": {
      "application/vnd.bokehjs_exec.v0+json": {
       "id": "p1665"
      }
     },
     "output_type": "display_data"
    }
   ],
   "source": [
    "df['Lag1'] = df['#Passengers'].shift(1)\n",
    "\n",
    "p = figure(title=\"Lag plot (t vs t-1)\", width=600, height=600)\n",
    "p.circle(df['Lag1'], df['#Passengers'], size=5, alpha=0.6)\n",
    "p.xaxis.axis_label = \"t-1\"\n",
    "p.yaxis.axis_label = \"t\"\n",
    "show(p)\n"
   ]
  },
  {
   "cell_type": "markdown",
   "id": "cb10bf1f",
   "metadata": {},
   "source": [
    "# Autocorrelation plot"
   ]
  },
  {
   "cell_type": "code",
   "execution_count": 23,
   "id": "6ae78e75",
   "metadata": {},
   "outputs": [
    {
     "data": {
      "text/html": [
       "\n",
       "  <div id=\"e057cdb6-f052-4451-9c5e-60bfa8413f74\" data-root-id=\"p1711\" style=\"display: contents;\"></div>\n"
      ]
     },
     "metadata": {},
     "output_type": "display_data"
    },
    {
     "data": {
      "application/javascript": "(function(root) {\n  function embed_document(root) {\n  const docs_json = {\"9a9ed960-8b0d-47b4-8ae5-961d33ad795d\":{\"version\":\"3.7.3\",\"title\":\"Bokeh Application\",\"roots\":[{\"type\":\"object\",\"name\":\"Figure\",\"id\":\"p1711\",\"attributes\":{\"width\":800,\"height\":400,\"x_range\":{\"type\":\"object\",\"name\":\"DataRange1d\",\"id\":\"p1712\"},\"y_range\":{\"type\":\"object\",\"name\":\"DataRange1d\",\"id\":\"p1713\"},\"x_scale\":{\"type\":\"object\",\"name\":\"LinearScale\",\"id\":\"p1721\"},\"y_scale\":{\"type\":\"object\",\"name\":\"LinearScale\",\"id\":\"p1722\"},\"title\":{\"type\":\"object\",\"name\":\"Title\",\"id\":\"p1714\",\"attributes\":{\"text\":\"Autocorr\\u00e9lation\"}},\"renderers\":[{\"type\":\"object\",\"name\":\"GlyphRenderer\",\"id\":\"p1752\",\"attributes\":{\"data_source\":{\"type\":\"object\",\"name\":\"ColumnDataSource\",\"id\":\"p1746\",\"attributes\":{\"selected\":{\"type\":\"object\",\"name\":\"Selection\",\"id\":\"p1747\",\"attributes\":{\"indices\":[],\"line_indices\":[]}},\"selection_policy\":{\"type\":\"object\",\"name\":\"UnionRenderers\",\"id\":\"p1748\"},\"data\":{\"type\":\"map\",\"entries\":[[\"x\",[1,2,3,4,5,6,7,8,9,10,11,12]],[\"top\",[0.9601946480498522,0.8956753113926392,0.837394765081794,0.7977346989350624,0.7859431491184304,0.7839187959206183,0.7845921291388301,0.7922150472595746,0.8278519011167602,0.8827127951607842,0.9497020331006317,0.9905273692085446]]]}}},\"view\":{\"type\":\"object\",\"name\":\"CDSView\",\"id\":\"p1753\",\"attributes\":{\"filter\":{\"type\":\"object\",\"name\":\"AllIndices\",\"id\":\"p1754\"}}},\"glyph\":{\"type\":\"object\",\"name\":\"VBar\",\"id\":\"p1749\",\"attributes\":{\"x\":{\"type\":\"field\",\"field\":\"x\"},\"width\":{\"type\":\"value\",\"value\":0.5},\"top\":{\"type\":\"field\",\"field\":\"top\"},\"line_color\":{\"type\":\"value\",\"value\":\"#1f77b4\"},\"fill_color\":{\"type\":\"value\",\"value\":\"#1f77b4\"}}},\"nonselection_glyph\":{\"type\":\"object\",\"name\":\"VBar\",\"id\":\"p1750\",\"attributes\":{\"x\":{\"type\":\"field\",\"field\":\"x\"},\"width\":{\"type\":\"value\",\"value\":0.5},\"top\":{\"type\":\"field\",\"field\":\"top\"},\"line_color\":{\"type\":\"value\",\"value\":\"#1f77b4\"},\"line_alpha\":{\"type\":\"value\",\"value\":0.1},\"fill_color\":{\"type\":\"value\",\"value\":\"#1f77b4\"},\"fill_alpha\":{\"type\":\"value\",\"value\":0.1},\"hatch_alpha\":{\"type\":\"value\",\"value\":0.1}}},\"muted_glyph\":{\"type\":\"object\",\"name\":\"VBar\",\"id\":\"p1751\",\"attributes\":{\"x\":{\"type\":\"field\",\"field\":\"x\"},\"width\":{\"type\":\"value\",\"value\":0.5},\"top\":{\"type\":\"field\",\"field\":\"top\"},\"line_color\":{\"type\":\"value\",\"value\":\"#1f77b4\"},\"line_alpha\":{\"type\":\"value\",\"value\":0.2},\"fill_color\":{\"type\":\"value\",\"value\":\"#1f77b4\"},\"fill_alpha\":{\"type\":\"value\",\"value\":0.2},\"hatch_alpha\":{\"type\":\"value\",\"value\":0.2}}}}}],\"toolbar\":{\"type\":\"object\",\"name\":\"Toolbar\",\"id\":\"p1720\",\"attributes\":{\"tools\":[{\"type\":\"object\",\"name\":\"PanTool\",\"id\":\"p1733\"},{\"type\":\"object\",\"name\":\"WheelZoomTool\",\"id\":\"p1734\",\"attributes\":{\"renderers\":\"auto\"}},{\"type\":\"object\",\"name\":\"BoxZoomTool\",\"id\":\"p1735\",\"attributes\":{\"dimensions\":\"both\",\"overlay\":{\"type\":\"object\",\"name\":\"BoxAnnotation\",\"id\":\"p1736\",\"attributes\":{\"syncable\":false,\"line_color\":\"black\",\"line_alpha\":1.0,\"line_width\":2,\"line_dash\":[4,4],\"fill_color\":\"lightgrey\",\"fill_alpha\":0.5,\"level\":\"overlay\",\"visible\":false,\"left\":{\"type\":\"number\",\"value\":\"nan\"},\"right\":{\"type\":\"number\",\"value\":\"nan\"},\"top\":{\"type\":\"number\",\"value\":\"nan\"},\"bottom\":{\"type\":\"number\",\"value\":\"nan\"},\"left_units\":\"canvas\",\"right_units\":\"canvas\",\"top_units\":\"canvas\",\"bottom_units\":\"canvas\",\"handles\":{\"type\":\"object\",\"name\":\"BoxInteractionHandles\",\"id\":\"p1742\",\"attributes\":{\"all\":{\"type\":\"object\",\"name\":\"AreaVisuals\",\"id\":\"p1741\",\"attributes\":{\"fill_color\":\"white\",\"hover_fill_color\":\"lightgray\"}}}}}}}},{\"type\":\"object\",\"name\":\"SaveTool\",\"id\":\"p1743\"},{\"type\":\"object\",\"name\":\"ResetTool\",\"id\":\"p1744\"},{\"type\":\"object\",\"name\":\"HelpTool\",\"id\":\"p1745\"}]}},\"left\":[{\"type\":\"object\",\"name\":\"LinearAxis\",\"id\":\"p1728\",\"attributes\":{\"ticker\":{\"type\":\"object\",\"name\":\"BasicTicker\",\"id\":\"p1729\",\"attributes\":{\"mantissas\":[1,2,5]}},\"formatter\":{\"type\":\"object\",\"name\":\"BasicTickFormatter\",\"id\":\"p1730\"},\"axis_label\":\"Coefficient\",\"major_label_policy\":{\"type\":\"object\",\"name\":\"AllLabels\",\"id\":\"p1731\"}}}],\"below\":[{\"type\":\"object\",\"name\":\"LinearAxis\",\"id\":\"p1723\",\"attributes\":{\"ticker\":{\"type\":\"object\",\"name\":\"BasicTicker\",\"id\":\"p1724\",\"attributes\":{\"mantissas\":[1,2,5]}},\"formatter\":{\"type\":\"object\",\"name\":\"BasicTickFormatter\",\"id\":\"p1725\"},\"axis_label\":\"Lag\",\"major_label_policy\":{\"type\":\"object\",\"name\":\"AllLabels\",\"id\":\"p1726\"}}}],\"center\":[{\"type\":\"object\",\"name\":\"Grid\",\"id\":\"p1727\",\"attributes\":{\"axis\":{\"id\":\"p1723\"}}},{\"type\":\"object\",\"name\":\"Grid\",\"id\":\"p1732\",\"attributes\":{\"dimension\":1,\"axis\":{\"id\":\"p1728\"}}}]}}]}};\n  const render_items = [{\"docid\":\"9a9ed960-8b0d-47b4-8ae5-961d33ad795d\",\"roots\":{\"p1711\":\"e057cdb6-f052-4451-9c5e-60bfa8413f74\"},\"root_ids\":[\"p1711\"]}];\n  void root.Bokeh.embed.embed_items_notebook(docs_json, render_items);\n  }\n  if (root.Bokeh !== undefined) {\n    embed_document(root);\n  } else {\n    let attempts = 0;\n    const timer = setInterval(function(root) {\n      if (root.Bokeh !== undefined) {\n        clearInterval(timer);\n        embed_document(root);\n      } else {\n        attempts++;\n        if (attempts > 100) {\n          clearInterval(timer);\n          console.log(\"Bokeh: ERROR: Unable to run BokehJS code because BokehJS library is missing\");\n        }\n      }\n    }, 10, root)\n  }\n})(window);",
      "application/vnd.bokehjs_exec.v0+json": ""
     },
     "metadata": {
      "application/vnd.bokehjs_exec.v0+json": {
       "id": "p1711"
      }
     },
     "output_type": "display_data"
    }
   ],
   "source": [
    "lags = range(1, 13)\n",
    "autocorr = [df['#Passengers'].autocorr(lag=lag) for lag in lags]\n",
    "\n",
    "p = figure(title=\"Autocorrélation\", x_axis_label=\"Lag\", y_axis_label=\"Coefficient\", width=800, height=400)\n",
    "p.vbar(x=list(lags), top=autocorr, width=0.5)\n",
    "show(p)\n"
   ]
  }
 ],
 "metadata": {
  "kernelspec": {
   "display_name": "base",
   "language": "python",
   "name": "python3"
  },
  "language_info": {
   "codemirror_mode": {
    "name": "ipython",
    "version": 3
   },
   "file_extension": ".py",
   "mimetype": "text/x-python",
   "name": "python",
   "nbconvert_exporter": "python",
   "pygments_lexer": "ipython3",
   "version": "3.10.9"
  }
 },
 "nbformat": 4,
 "nbformat_minor": 5
}
