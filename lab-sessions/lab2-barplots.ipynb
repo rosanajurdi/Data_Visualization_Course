{
 "cells": [
  {
   "cell_type": "markdown",
   "id": "5d5be086",
   "metadata": {},
   "source": []
  },
  {
   "cell_type": "markdown",
   "id": "d8a1805e-eff9-40b1-8622-80f3a62ae4f8",
   "metadata": {},
   "source": [
    "<table>\n",
    "  <tr>\n",
    "    <td style=\"text-align: center;\">\n",
    "      <img src=\"./images/pandas.png\" alt=\"Pandas Logo\"  style=\"margin-bottom: 80px;\"/><br>\n",
    "      <a href=\"https://pandas.pydata.org/docs/\" target=\"_blank\" style=\"text-decoration: none; color: black; font-weight: bold;\">Pandas</a>\n",
    "    </td>\n",
    "    <td style=\"text-align: center;\">\n",
    "      <img src=\"./images/seaborn.svg\" alt=\"Seaborn Logo\"  style=\"margin-bottom: 80px;\" /><br>\n",
    "      <a href=\"https://seaborn.pydata.org/api.html\" target=\"_blank\" style=\"text-decoration: none; color: black; font-weight: bold;\">Seaborn</a>\n",
    "    </td>\n",
    "    <td style=\"text-align: center;\">\n",
    "      <img src=\"./images/Plotly-logo.png\" alt=\"Plotly Logo\"  style=\"margin-bottom: 80px;\" /><br>\n",
    "      <a href=\"https://plotly.com/python-api-reference/\" target=\"_blank\" style=\"text-decoration: none; color: black; font-weight: bold;\">Plotly</a>\n",
    "    </td>\n",
    "    <td style=\"text-align: center;\">\n",
    "      <img src=\"./images/altair-logo-light.png\" alt=\"Altair Logo\" style=\"margin-bottom: 50px;\"/><br>\n",
    "      <a href=\"https://altair-viz.github.io/documentation/\" target=\"_blank\" style=\"text-decoration: none; color: black; font-weight: bold;\">Altair</a>\n",
    "    </td>\n",
    "  </tr>\n",
    "</table>"
   ]
  },
  {
   "cell_type": "markdown",
   "id": "540eb825-cbc4-4296-9769-95a7d7def77c",
   "metadata": {},
   "source": [
    "##   Introduction aux Diagrammes à Barres\n",
    "\n",
    "Les diagrammes à barres sont un outil de visualisation fondamental utilisé pour afficher des données catégorielles avec des barres rectangulaires. La longueur de chaque barre est proportionnelle à la valeur qu'elle représente. Les diagrammes à barres sont excellents pour comparer des quantités entre différentes catégories.\n",
    "\n",
    "**Quand utiliser les diagrammes à barres :**\n",
    "\n",
    "* Comparaison de données catégorielles.\n",
    "* Affichage de la fréquence ou du nombre de différentes catégories.\n",
    "* Visualisation des tendances entre les catégories.\n",
    "\n",
    "**Terminologie de base :**\n",
    "\n",
    "* Barres : Les colonnes rectangulaires représentant les valeurs des données.\n",
    "* Axes : Les lignes horizontales (axe des x) et verticales (axe des y) qui définissent le graphique.\n",
    "* Étiquettes : Le texte qui décrit les catégories et les valeurs.\n",
    "* Titre : La description générale du graphique."
   ]
  },
  {
   "cell_type": "markdown",
   "id": "db48efd2",
   "metadata": {},
   "source": [
    "<hr style=\"border: 2px solid black;\">"
   ]
  },
  {
   "cell_type": "markdown",
   "id": "b1299bca-2b0f-4b01-9524-7b4a666155ae",
   "metadata": {},
   "source": [
    "## Exercice : Analyse de Diamants avec les Bibliothèques de Visualisation\n",
    "\n",
    "Avant de commencer cet exercice, veuillez lire la documentation des bibliothèques suivantes pour vous familiariser avec leurs fonctionnalités de base :\n",
    "\n",
    "* Matplotlib : [https://matplotlib.org/](https://matplotlib.org/)\n",
    "* Seaborn : [https://seaborn.pydata.org/](https://seaborn.pydata.org/)\n",
    "* Plotly : [https://plotly.com/python/](https://plotly.com/python/)\n",
    "* Altair : [https://altair-viz.github.io/](https://altair-viz.github.io/)\n",
    "\n",
    "Vous disposez d'un ensemble de données contenant des informations sur divers diamants. Votre tâche est de réaliser l'analyse et les visualisations suivantes en utilisant Matplotlib, Seaborn, Plotly et Altair. Pour chaque visualisation, fournissez un bref commentaire sur ce que vous observez concernant les forces et les faiblesses de chaque bibliothèque pour cette tâche particulière.\n",
    "\n",
    "1.  **Chargement et Inspection des Données :**\n",
    "\n",
    "    * Chargez l'ensemble de données à partir de l'URL fourni : `\"https://raw.githubusercontent.com/TrainingByPackt/Interactive-Data-Visualization-with-Python/master/datasets/diamonds.csv\"`\n",
    "    * Affichez les 5 premières lignes de l'ensemble de données pour comprendre sa structure.\n",
    "    * Imprimez les noms des colonnes et leurs types de données.\n",
    "    * Affichez les 10 premières lignes de l'ensemble de données.\n",
    "\n",
    "2.  **Visualisation par Diagramme à Barres :**\n",
    "\n",
    "    * **Matplotlib :**\n",
    "        * Créez un diagramme à barres pour visualiser le nombre de diamants pour chaque catégorie de 'cut' en utilisant Matplotlib.\n",
    "        * Personnalisez ce diagramme à barres en ajoutant des étiquettes appropriées pour l'axe des x et l'axe des y, et définissez un titre pour le graphique.\n",
    "        * Commentez la syntaxe de Matplotlib, ses capacités de personnalisation et sa facilité d'utilisation pour cette tâche.\n",
    "    * **Seaborn :**\n",
    "        * Créez le même diagramme à barres (nombre de diamants par 'cut') en utilisant Seaborn.\n",
    "        * Personnalisez le graphique comme vous l'avez fait avec Matplotlib (étiquettes, titre).\n",
    "        * Comparez le code de Seaborn à celui de Matplotlib. Qu'est-ce que Seaborn fait différemment ou plus facilement ? Comment le style par défaut se compare-t-il ?\n",
    "    * **Plotly :**\n",
    "        * Créez un diagramme à barres interactif (nombre de diamants par 'cut') en utilisant Plotly.\n",
    "        * Personnalisez le graphique avec des étiquettes et un titre. Explorez les fonctionnalités d'interactivité de Plotly (info-bulles, zoom).\n",
    "        * Commentez l'interactivité de Plotly, sa syntaxe et en quoi elle diffère de Matplotlib et Seaborn.\n",
    "    * **Altair :**\n",
    "        * Créez un diagramme à barres (nombre de diamants par 'cut') en utilisant Altair.\n",
    "        * Personnalisez le graphique avec des étiquettes et un titre.\n",
    "        * Commentez la syntaxe déclarative d'Altair et comment elle se compare aux autres bibliothèques.\n",
    "\n",
    "3.  **Analyse Supplémentaire (Facultatif) :**\n",
    "\n",
    "    * Explorez davantage les données en créant des diagrammes à barres pour d'autres variables catégorielles telles que 'color' ou 'clarity' dans n'importe laquelle des bibliothèques.\n",
    "    * Essayez de visualiser le prix moyen pour chaque 'cut' ou 'color' en utilisant les différentes bibliothèques et commentez la façon dont chaque bibliothèque gère ce type d'agrégation.\n",
    "\n",
    "**Conseils :**\n",
    "\n",
    "* Utilisez la bibliothèque pandas pour charger et manipuler les données.\n",
    "* Utilisez les bibliothèques Matplotlib, Seaborn, Plotly et Altair pour créer les diagrammes à barres.\n",
    "* Référez-vous au notebook pour des exemples de code et des explications sur les fonctions dont vous pourriez avoir besoin."
   ]
  },
  {
   "cell_type": "markdown",
   "id": "2f4d257c",
   "metadata": {},
   "source": [
    "# this is my first activity "
   ]
  },
  {
   "cell_type": "code",
   "execution_count": 1,
   "id": "a1d624c5",
   "metadata": {},
   "outputs": [],
   "source": [
    "import pandas "
   ]
  },
  {
   "cell_type": "code",
   "execution_count": null,
   "id": "650304c0",
   "metadata": {},
   "outputs": [],
   "source": []
  }
 ],
 "metadata": {
  "kernelspec": {
   "display_name": "Python 3 (ipykernel)",
   "language": "python",
   "name": "python3"
  },
  "language_info": {
   "codemirror_mode": {
    "name": "ipython",
    "version": 3
   },
   "file_extension": ".py",
   "mimetype": "text/x-python",
   "name": "python",
   "nbconvert_exporter": "python",
   "pygments_lexer": "ipython3",
   "version": "3.11.5"
  }
 },
 "nbformat": 4,
 "nbformat_minor": 5
}
