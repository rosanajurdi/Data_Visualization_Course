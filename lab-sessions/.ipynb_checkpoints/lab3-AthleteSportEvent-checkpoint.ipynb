{
 "cells": [
  {
   "cell_type": "markdown",
   "id": "a71c1580-07c7-4b57-aec2-59437f124b6f",
   "metadata": {},
   "source": [
    "# Activity 2: Analyzing Different Scenarios and Generating the Appropriate Visualization\n",
    "\n",
    "We'll be working with the 120 years of Olympic History dataset acquired by Randi Griffin from https://www.sports-reference.com/ and made available on the GitHub repository of this book. Your assignment is to identify the top five sports based on the largest number of medals awarded in the year 2016, and then perform the following analysis:\n",
    "\n",
    "1.  Generate a plot indicating the number of medals awarded in each of the top five sports in 2016.\n",
    "2.  Plot a graph depicting the distribution of the age of medal winners in the top five sports in 2016.\n",
    "3.  Find out which national teams won the largest number of medals in the top five sports in 2016.\n",
    "4.  Observe the trend in the average weight of male and female athletes winning in the top five sports in 2016.\n",
    "\n",
    "## High-Level Steps\n",
    "\n",
    "1.  Download the dataset and format it as a pandas DataFrame.\n",
    "2.  Filter the DataFrame to only include the rows corresponding to medal winners from 2016.\n",
    "3.  Find out the medals awarded in 2016 for each sport.\n",
    "4.  List the top five sports based on the largest number of medals awarded. Filter the DataFrame one more time to only include the records for the top five sports in 2016.\n",
    "5.  Generate a bar plot of record counts corresponding to each of the top five sports.\n",
    "6.  Generate a histogram for the Age feature of all medal winners in the top five sports (2016).\n",
    "7.  Generate a bar plot indicating how many medals were won by each country's team in the top five sports in 2016.\n",
    "8.  Generate a bar plot indicating the average weight of players, categorized based on gender, winning in the top five sports in 2016."
   ]
  },
  {
   "cell_type": "code",
   "execution_count": 1,
   "id": "19a98e3b-6e75-4909-8427-e49d969fac60",
   "metadata": {},
   "outputs": [],
   "source": [
    "import pandas as pd"
   ]
  },
  {
   "cell_type": "code",
   "execution_count": null,
   "id": "168379cc-9895-421c-add4-151e91c8a90e",
   "metadata": {},
   "outputs": [],
   "source": [
    "athlete_df=pd.read_csv(dataset/"
   ]
  }
 ],
 "metadata": {
  "kernelspec": {
   "display_name": "Python 3 (ipykernel)",
   "language": "python",
   "name": "python3"
  },
  "language_info": {
   "codemirror_mode": {
    "name": "ipython",
    "version": 3
   },
   "file_extension": ".py",
   "mimetype": "text/x-python",
   "name": "python",
   "nbconvert_exporter": "python",
   "pygments_lexer": "ipython3",
   "version": "3.13.2"
  }
 },
 "nbformat": 4,
 "nbformat_minor": 5
}
