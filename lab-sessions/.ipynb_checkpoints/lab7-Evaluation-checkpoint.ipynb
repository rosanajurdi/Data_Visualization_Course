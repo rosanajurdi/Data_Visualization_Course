{
 "cells": [
  {
   "cell_type": "markdown",
   "id": "168d89c1-16e1-4c2d-8428-db151ddb1fae",
   "metadata": {},
   "source": [
    "# Exam: Time Series Visualization with Bokeh\n",
    "\n",
    "This exam tests your ability to visualize time series data using the Bokeh library.\n",
    "You will be working with the \"Daily Minimum Temperatures in Melbourne\" dataset.\n",
    "For each question, provide the Python code using Bokeh to generate the requested visualization.\n",
    "\n",
    "**Dataset:** \"daily-minimum-temperatures-in-melbourne.csv\"\n",
    "\n",
    "```python\n",
    "import pandas as pd\n",
    "from bokeh.plotting import figure, show\n",
    "from bokeh.io import output_notebook\n",
    "from bokeh.models import (\n",
    "    ColumnDataSource,\n",
    "    HoverTool,\n",
    "    DatetimeTickFormatter,\n",
    "    NumeralTickFormatter,\n",
    ")\n",
    "from bokeh.layouts import row, column\n",
    "from bokeh.transform import factor_cmap\n",
    "\n",
    "output_notebook()  # Enable Bokeh output in Jupyter Notebook\n",
    "\n",
    "# Load the Dataset\n",
    "df = pd.read_csv(\"daily-minimum-temperatures-in-melbourne.csv\")\n",
    "\n",
    "# Rename columns for clarity\n",
    "df.columns = ['Date', 'Temperature']\n",
    "\n",
    "# Convert the 'Date' column to datetime format\n",
    "df['Date'] = pd.to_datetime(df['Date'])\n",
    "\n",
    "# Remove '?' from the 'Temperature' column and convert to numeric\n",
    "df['Temperature'] = df['Temperature'].astype(str).str.replace('?', '', regex=False)\n",
    "df['Temperature'] = pd.to_numeric(df['Temperature'])"
   ]
  },
  {
   "cell_type": "markdown",
   "id": "ee683bcd-935c-43d9-85b5-22faa6e4bef8",
   "metadata": {},
   "source": [
    "Question 1: Basic Time Series Line Plot\n",
    "1.  Create a basic line plot showing the daily minimum temperature over time.\n",
    "\n",
    "    * Use the 'Date' column on the x-axis and the 'Temperature' column on the y-axis.\n",
    "    * Set the plot title to \"Daily Minimum Temperatures\".\n",
    "    * Label the x-axis as \"Date\" and the y-axis as \"Temperature (°C)\".\n",
    "    * Add tooltips to display the date and temperature when hovering over the line.\n",
    "    * Enable pan, wheel zoom, and reset tools.\n"
   ]
  },
  {
   "cell_type": "code",
   "id": "c52496fc-e7a0-488f-9a97-e78afde12c2e",
   "metadata": {
    "ExecuteTime": {
     "end_time": "2025-05-14T15:49:54.398825Z",
     "start_time": "2025-05-14T15:49:54.372764Z"
    }
   },
   "source": [
    "# Answer 1: (Provide code here)\n",
    "from bokeh.plotting import figure, show\n",
    "from bokeh.models import ColumnDataSource, HoverTool\n",
    "\n",
    "source = ColumnDataSource(df)\n",
    "\n",
    "p = figure(\n",
    "    title=\"Daily Minimum Temperatures\",\n",
    "    x_axis_label=\"Date\",\n",
    "    y_axis_label=\"Temperature (°C)\",\n",
    "    x_axis_type=\"datetime\",\n",
    "    tools=\"pan,wheel_zoom,reset\",\n",
    "    width=800,\n",
    "    height=400\n",
    ")\n",
    "\n",
    "p.line(x='Date', y='Temperature', source=source, line_width=2)\n",
    "\n",
    "hover = HoverTool()\n",
    "hover.tooltips = [\n",
    "    (\"Date\", \"@Date{%F}\"),\n",
    "    (\"Temperature\", \"@Temperature{0.0} °C\")\n",
    "]\n",
    "hover.formatters = {\"@Date\": \"datetime\"}\n",
    "p.add_tools(hover)\n",
    "\n",
    "show(p)\n"
   ],
   "outputs": [
    {
     "ename": "NameError",
     "evalue": "name 'df' is not defined",
     "output_type": "error",
     "traceback": [
      "\u001B[0;31m---------------------------------------------------------------------------\u001B[0m",
      "\u001B[0;31mNameError\u001B[0m                                 Traceback (most recent call last)",
      "Cell \u001B[0;32mIn[2], line 5\u001B[0m\n\u001B[1;32m      2\u001B[0m \u001B[38;5;28;01mfrom\u001B[39;00m\u001B[38;5;250m \u001B[39m\u001B[38;5;21;01mbokeh\u001B[39;00m\u001B[38;5;21;01m.\u001B[39;00m\u001B[38;5;21;01mplotting\u001B[39;00m\u001B[38;5;250m \u001B[39m\u001B[38;5;28;01mimport\u001B[39;00m figure, show\n\u001B[1;32m      3\u001B[0m \u001B[38;5;28;01mfrom\u001B[39;00m\u001B[38;5;250m \u001B[39m\u001B[38;5;21;01mbokeh\u001B[39;00m\u001B[38;5;21;01m.\u001B[39;00m\u001B[38;5;21;01mmodels\u001B[39;00m\u001B[38;5;250m \u001B[39m\u001B[38;5;28;01mimport\u001B[39;00m ColumnDataSource, HoverTool\n\u001B[0;32m----> 5\u001B[0m source \u001B[38;5;241m=\u001B[39m ColumnDataSource(\u001B[43mdf\u001B[49m)\n\u001B[1;32m      7\u001B[0m p \u001B[38;5;241m=\u001B[39m figure(\n\u001B[1;32m      8\u001B[0m     title\u001B[38;5;241m=\u001B[39m\u001B[38;5;124m\"\u001B[39m\u001B[38;5;124mDaily Minimum Temperatures\u001B[39m\u001B[38;5;124m\"\u001B[39m,\n\u001B[1;32m      9\u001B[0m     x_axis_label\u001B[38;5;241m=\u001B[39m\u001B[38;5;124m\"\u001B[39m\u001B[38;5;124mDate\u001B[39m\u001B[38;5;124m\"\u001B[39m,\n\u001B[0;32m   (...)\u001B[0m\n\u001B[1;32m     14\u001B[0m     height\u001B[38;5;241m=\u001B[39m\u001B[38;5;241m400\u001B[39m\n\u001B[1;32m     15\u001B[0m )\n\u001B[1;32m     17\u001B[0m p\u001B[38;5;241m.\u001B[39mline(x\u001B[38;5;241m=\u001B[39m\u001B[38;5;124m'\u001B[39m\u001B[38;5;124mDate\u001B[39m\u001B[38;5;124m'\u001B[39m, y\u001B[38;5;241m=\u001B[39m\u001B[38;5;124m'\u001B[39m\u001B[38;5;124mTemperature\u001B[39m\u001B[38;5;124m'\u001B[39m, source\u001B[38;5;241m=\u001B[39msource, line_width\u001B[38;5;241m=\u001B[39m\u001B[38;5;241m2\u001B[39m)\n",
      "\u001B[0;31mNameError\u001B[0m: name 'df' is not defined"
     ]
    }
   ],
   "execution_count": 2
  },
  {
   "cell_type": "markdown",
   "id": "45fa6be8-4bc4-461c-9313-ab9d01393009",
   "metadata": {},
   "source": [
    "Question 2: Rolling Average\n",
    "2.  Calculate the 30-day rolling average of the daily minimum temperature and plot it\n",
    "    alongside the original temperature data.\n",
    "\n",
    "    * Create a new column 'Rolling_Avg' in the DataFrame containing the 30-day rolling average.\n",
    "    * Plot both the original 'Temperature' and the 'Rolling_Avg' on the same plot.\n",
    "    * Use different colors and line styles to distinguish between the two.\n",
    "    * Add a legend to the plot to label the lines.\n",
    "    * Add tooltips to display the date, original temperature, and rolling average."
   ]
  },
  {
   "cell_type": "code",
   "id": "d5c654d8-9d10-44e7-8344-80e72de1a5a7",
   "metadata": {},
   "source": [
    "# Answer 2: (Provide code here)"
   ],
   "outputs": [],
   "execution_count": null
  },
  {
   "cell_type": "markdown",
   "id": "b81fe35f-ec9b-46d2-ab78-a71c6979737d",
   "metadata": {},
   "source": [
    "Question 3: Monthly Box Plots\n",
    "3.  Create box plots to visualize the distribution of temperatures for each month.\n",
    "\n",
    "    * Extract the month from the 'Date' column and create a new 'Month' column.\n",
    "    * Group the data by 'Month' and prepare it for plotting.\n",
    "    * Use Bokeh's box plot elements to visualize the distribution.\n",
    "    * Label the x-axis with month names and the y-axis with \"Temperature (°C)\".\n",
    "    * Add tooltips to display the month and relevant statistical values (min, max, media"
   ]
  },
  {
   "cell_type": "code",
   "id": "7e367c6e-0e5f-479b-9169-564fe17855ab",
   "metadata": {},
   "source": [
    "# Answer 3: (Provide code here)"
   ],
   "outputs": [],
   "execution_count": null
  },
  {
   "cell_type": "code",
   "id": "c63f9552-97f8-4e11-ac10-e87dcfabbfdb",
   "metadata": {},
   "source": [
    "from bokeh.plotting import output_notebook, show\n",
    "import pandas as pd\n",
    "\n",
    "output_notebook()  # Enable Bokeh output in Jupyter Notebook\n",
    "\n",
    "# Load the Dataset\n",
    "df = pd.read_csv(\"./datasets/daily-minimum-temperatures-in-melbourne.csv\")\n",
    "\n",
    "# Now you can proceed with your Bokeh plotting code!\n",
    "print(df.head()) # Just to see if the dataframe loaded correctly\n",
    "\n",
    "\n",
    "# Rename columns for clarity\n",
    "df.columns = ['Date', 'Temperature']\n",
    "\n",
    "# Convert the 'Date' column to datetime format\n",
    "df['Date'] = pd.to_datetime(df['Date'])\n",
    "\n",
    "# Remove '?' from the 'Temperature' column and convert to numeric\n",
    "df['Temperature'] = df['Temperature'].astype(str).str.replace('?', '', regex=False)\n",
    "df['Temperature'] = pd.to_numeric(df['Temperature'])\n",
    "\n",
    "df"
   ],
   "outputs": [],
   "execution_count": null
  },
  {
   "cell_type": "markdown",
   "id": "6253fa23-1e9d-455d-8dbe-9df40547836b",
   "metadata": {},
   "source": [
    "4.  Create box plots to visualize the distribution of temperatures for each year,\n",
    "    and use color mapping to highlight temperature variations.\n",
    "\n",
    "    * Extract the year from the 'Date' column and create a new 'Year' column.\n",
    "    * Group the data by 'Year' and prepare it for plotting.\n",
    "    * Use Bokeh's box plot elements to visualize the distribution for each year.\n",
    "    * Label the x-axis with the 'Year' and the y-axis with \"Temperature (°C)\".\n",
    "    * Use `factor_cmap` to color the boxes based on the median temperature of each year.\n",
    "    * Add tooltips to display the year and relevant statistical values (min, max, median, etc.).\n",
    "    * Enable pan, wheel zoom, and reset tools."
   ]
  },
  {
   "cell_type": "code",
   "id": "dcbdeadf-8224-479d-853a-23114b5b4d78",
   "metadata": {},
   "source": [
    "# Answer 4: (Provide code here)"
   ],
   "outputs": [],
   "execution_count": null
  },
  {
   "cell_type": "markdown",
   "id": "f6c15d1a-ac4f-4a20-86b9-3d7d820f0107",
   "metadata": {},
   "source": [
    "Question 5: Interactive Time Range Selection\n",
    "\n",
    "5.  Create an interactive line plot where the user can select a specific time range\n",
    "    to view using a date range slider.\n",
    "\n",
    "    * Create a basic line plot of 'Temperature' over 'Date'.\n",
    "    * Implement a date range slider using Bokeh widgets to allow users to select a start and end date.\n",
    "    * Update the plot dynamically based on the selected date range.\n",
    "    * Add tooltips to display the date and temperature.\n",
    "    * Enable pan, wheel zoom, and reset tools."
   ]
  },
  {
   "cell_type": "code",
   "id": "386598b2-0c8f-4099-a1d9-4ece50110216",
   "metadata": {},
   "source": [
    "# Answer 5: (Provide code here)"
   ],
   "outputs": [],
   "execution_count": null
  },
  {
   "cell_type": "markdown",
   "id": "037acb0d-e4e4-47dd-b7e7-dc4a7ea4116c",
   "metadata": {},
   "source": [
    "Question 6: Time Series Decomposition Visualization\n",
    "\n",
    "6.  Perform a simple time series decomposition to visualize the trend and seasonality\n",
    "    components of the temperature data.\n",
    "\n",
    "    * Resample the data to monthly frequency and calculate the monthly average temperature.\n",
    "    * Use a simple moving average to estimate the trend component.\n",
    "    * Calculate the seasonal component by subtracting the trend from the original monthly data.\n",
    "    * Create three separate Bokeh plots: one for the original monthly data, one for the trend,\n",
    "        and one for the seasonal component.\n",
    "    * Ensure the plots are aligned and share the same x-axis (Date).\n",
    "    * Add tooltips to each plot to display the date and corresponding value.\n",
    "    * Enable pan, wheel zoom, and reset tools for each plot."
   ]
  },
  {
   "cell_type": "code",
   "id": "200c634a-75f0-4a7e-9674-0797c50fb8fd",
   "metadata": {
    "scrolled": true
   },
   "source": [
    "import pandas as pd\n",
    "from bokeh.plotting import figure, show\n",
    "from bokeh.io import output_notebook\n",
    "from bokeh.models import (\n",
    "    ColumnDataSource,\n",
    "    HoverTool,\n",
    "    DatetimeTickFormatter,\n",
    "    NumeralTickFormatter,\n",
    ")\n",
    "from bokeh.layouts import row, column\n",
    "from bokeh.transform import factor_cmap\n",
    "\n",
    "output_notebook()  # Enable Bokeh output in Jupyter Notebook\n",
    "\n",
    "\n",
    "\n",
    "# Rename columns for clarity\n",
    "df.columns = ['Date', 'Temperature']\n",
    "\n",
    "# Convert the 'Date' column to datetime format\n",
    "df['Date'] = pd.to_datetime(df['Date'])\n",
    "\n",
    "# Remove '?' from the 'Temperature' column and convert to numeric\n",
    "df['Temperature'] = df['Temperature'].astype(str).str.replace('?', '', regex=False)\n",
    "df['Temperature'] = pd.to_numeric(df['Temperature'])\n",
    "\n",
    "df"
   ],
   "outputs": [],
   "execution_count": null
  }
 ],
 "metadata": {
  "kernelspec": {
   "display_name": "Python 3 (ipykernel)",
   "language": "python",
   "name": "python3"
  },
  "language_info": {
   "codemirror_mode": {
    "name": "ipython",
    "version": 3
   },
   "file_extension": ".py",
   "mimetype": "text/x-python",
   "name": "python",
   "nbconvert_exporter": "python",
   "pygments_lexer": "ipython3",
   "version": "3.11.5"
  }
 },
 "nbformat": 4,
 "nbformat_minor": 5
}
