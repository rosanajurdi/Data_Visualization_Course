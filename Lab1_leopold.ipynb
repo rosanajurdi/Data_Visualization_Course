{
 "cells": [
  {
   "cell_type": "code",
   "execution_count": null,
   "id": "e36b0c81-c31a-470c-a574-a05a610e6746",
   "metadata": {},
   "outputs": [],
   "source": [
    "import pandas as pd \n",
    "import seaborn as sns \n",
    "import numpy as np\n",
    "import matplotlib.pyplot as plt\n",
    "\n",
    "df = sns.load_dataset('diamonds')\n",
    "print(df.head())\n",
    "\n",
    "# Histogramme simple de carat avec pandas\n",
    "df[\"carat\"].hist(bins=10)\n",
    "plt.title(\"Histogramme du poids (carat) - Pandas (10 bins)\")\n",
    "plt.xlabel(\"Carat\")\n",
    "plt.ylabel(\"Fréquence\")\n",
    "plt.grid(False)\n",
    "plt.show()\n",
    "\n",
    "# Comparaison avec plus de bins\n",
    "df[\"carat\"].hist(bins=30)\n",
    "plt.title(\"Histogramme du poids (carat) - Pandas (30 bins)\")\n",
    "plt.xlabel(\"Carat\")\n",
    "plt.ylabel(\"Fréquence\")\n",
    "plt.grid(False)\n",
    "plt.show()\n",
    "\n",
    "# Histogramme avec Seaborn\n",
    "sns.histplot(data=df, x=\"carat\", bins=30)\n",
    "plt.title(\"Histogramme du poids (carat) - Seaborn\")\n",
    "plt.xlabel(\"Carat\")\n",
    "plt.ylabel(\"Fréquence\")\n",
    "plt.show()\n",
    "\n",
    "# Histogramme + KDE\n",
    "sns.histplot(data=df, x=\"carat\", bins=30, kde=True)\n",
    "plt.title(\"Histogramme + KDE (Seaborn)\")\n",
    "plt.xlabel(\"Carat\")\n",
    "plt.ylabel(\"Fréquence\")\n",
    "plt.show()\n",
    "\n",
    "# Application d'un log sur la variable carat\n",
    "df[\"log_carat\"] = np.log(df[\"carat\"])\n",
    "\n",
    "# Histogramme sur la variable transformée\n",
    "sns.histplot(data=df, x=\"log_carat\", bins=30, kde=True)\n",
    "plt.title(\"Histogramme du log(carat) + KDE\")\n",
    "plt.xlabel(\"log(Carat)\")\n",
    "plt.ylabel(\"Fréquence\")\n",
    "plt.show()"
   ]
  },
  {
   "cell_type": "markdown",
   "id": "8fbb7e10-e783-4e73-be04-e87d319bb8df",
   "metadata": {},
   "source": [
    "Question 3 : Comment l'augmentation du nombre de classes (bins) affecte-t-elle l'apparence de l'histogramme ?\n",
    "En augmentant le nombre de bins, l'histogramme devient plus détaillé. Cela permet de mieux voir la distribution fine\n",
    "des données et les petits regroupements. En revanche, si le nombre de bins est trop élevé, le graphique devient plus bruité, et il est plus difficile de distinguer une tendance générale. À l'inverse, trop peu de bins lissent trop l'information.\n",
    "\n",
    "Question 5 : Quelles sont les deux différences clés entre les histogrammes générés par .hist() de pandas et ceux générés par sns.histplot() de seaborn ?\n",
    " 1. Seaborn génère des visualisations plus esthétiques et stylisées par défaut (couleurs, grilles, épaisseurs).\n",
    " 2. sns.histplot() permet d'ajouter facilement des éléments statistiques comme la courbe KDE,\n",
    "    alors que pandas.hist() est plus basique et moins flexible.\n",
    "\n",
    "Question 6 : Qu'est-ce qu'une estimation de la densité du noyau (KDE) ? Que montre-t-elle ?\n",
    "La KDE (Kernel Density Estimation) est une courbe lissée qui estime la distribution de probabilité des données ontinues. Elle remplace l'affichage discret de l'histogramme par une fonction continue, ce qui permet d’identifier les zones de densité,,les pics et les structures de la distribution plus facilement qu’avec de simples barres."
   ]
  }
 ],
 "metadata": {
  "kernelspec": {
   "display_name": "Python [conda env:base] *",
   "language": "python",
   "name": "conda-base-py"
  },
  "language_info": {
   "codemirror_mode": {
    "name": "ipython",
    "version": 3
   },
   "file_extension": ".py",
   "mimetype": "text/x-python",
   "name": "python",
   "nbconvert_exporter": "python",
   "pygments_lexer": "ipython3",
   "version": "3.12.7"
  }
 },
 "nbformat": 4,
 "nbformat_minor": 5
}
